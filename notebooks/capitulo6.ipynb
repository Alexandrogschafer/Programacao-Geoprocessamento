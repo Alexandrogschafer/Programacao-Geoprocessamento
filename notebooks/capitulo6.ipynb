{
  "cells": [
    {
      "cell_type": "markdown",
      "id": "e563927e",
      "metadata": {
        "id": "e563927e"
      },
      "source": [
        "# 6. VISUALIZAÇÃO DE DADOS GEOESPACIAIS NO PYTHON\n",
        "\n",
        "[Abrir no Google Colab](https://colab.research.google.com/github/Alexandrogschafer/Programacao-Geoprocessamento/blob/main/notebooks/capitulo6.ipynb)\n",
        "\n",
        "O geoprocessamento, como área que se dedica à coleta, processamento e análise de dados geoespaciais, é intrinsecamente ligado à visualização de informações. A representação gráfica desses dados não apenas facilita a compreensão de padrões e tendências espaciais, mas também serve como uma ponte entre informações complexas e a tomada de decisões informadas. Mapas, gráficos e outras representações visuais transformam conjuntos de dados brutos em insights tangíveis, permitindo que especialistas e tomadores de decisão visualizem fenômenos terrestres de maneira mais intuitiva.\n",
        "\n",
        "Em uma época em que a quantidade de dados geoespaciais cresce exponencialmente, a capacidade de sintetizar e apresentar esses dados de forma clara e concisa é crucial. A visualização adequada permite que os usuários identifiquem rapidamente áreas de interesse, anomalias ou padrões, otimizando processos de análise e acelerando a resposta a questões geográficas críticas. Esta síntese visual também facilita a comunicação entre diferentes públicos, desde especialistas técnicos até o público em geral, democratizando o acesso à informação geoespacial.\n",
        "\n",
        "A visualização de dados no geoprocessamento não se limita à simples representação gráfica. Ela também desempenha um papel vital na validação e qualidade dos dados. Através da representação visual, erros, inconsistências ou lacunas nos dados podem ser rapidamente identificados e corrigidos. Assim, a visualização atua como uma ferramenta de controle de qualidade, garantindo que as análises e decisões tomadas com base nesses dados sejam confiáveis e precisas.\n",
        "\n",
        "Existem diversas ferramentas dedicadas à visualização de dados espaciais. Entre as mais populares estão o QGIS e o ArcGIS. No entanto, linguagens de programação, como Python e R, também oferecem bibliotecas que permitem criar visualizações espaciais complexas e personalizadas. Algumas das principais bibliotecas e ferramentas que possibilitam a visualização de dados espaciais em Python são a Geopandas, a Matplotlib (e Pyplot), a Folium e a Rasterio. Nesta seção, exploraremos algumas dessas ferramentas e bibliotecas.\n",
        "\n",
        "\n",
        "## 6.1 Introdução a Matplotlib\n",
        "\n",
        "A Matplotlib é uma das principais bibliotecas de visualização de dados em Python, criada por John D. Hunter em 2003. Desde sua concepção, cresceu significativamente como um projeto de código aberto, auxiliado por uma grande comunidade de colaboradores.\n",
        "\n",
        "A biblioteca destaca-se pela sua capacidade de gerar uma ampla variedade de gráficos, como de linha, barras, dispersão, histogramas, entre outros, e se integra com as principais estruturas de dados do Python, como listas e arrays, especialmente com a biblioteca Numpy.\n",
        "\n",
        "Um diferencial do Matplotlib é seu alto grau de personalização. O usuário pode ajustar quase todos os aspectos de uma visualização, desde cores e estilos até a posição das legendas e dos eixos. É possível implementar a biblioteca em diferentes interfaces gráficas, servidores web e Notebooks Jupyter, conferindo grande versatilidade na criação e exportação de gráficos.\n",
        "\n",
        "Além de suas capacidades intrínsecas, a extensibilidade da Matplotlib é evidente no surgimento de bibliotecas derivadas que oferecem funcionalidades adicionais, como o Seaborn para visualizações estatísticas e o Basemap para mapeamento geográfico. Sua adoção generalizada em diversos campos, como pesquisa acadêmica, ciência de dados e engenharia, reforça seu papel como uma ferramenta importante para análise e comunicação de dados.\n",
        "\n",
        "### 6.1.1 Principais abordagens para a criação de gráficos na Matplotlib\n",
        "\n",
        "A criação de gráficos na Matplotlib pode ser abordada de duas maneiras principais: a abordagem funcional e a abordagem orientada a objetos. Ambas permitem a criação de visualizações de alta qualidade, mas são usadas em contextos diferentes e têm diferenças em termos de flexibilidade e controle sobre os elementos do gráfico.\n",
        "\n",
        "A abordagem Funcional é a mais simples, sendo frequentemente usada para gráficos rápidos e diretos. A interface pyplot da Matplotlib oferece uma série de funções que atuam sobre uma configuração padrão em andamento. Por exemplo, quando você chama plt.plot(...), você está modificando o gráfico atual. As funções nesta abordagem se assemelham a comandos, e a sequência em que são chamadas importa, pois alteram o estado atual do gráfico. Embora seja conveniente para gráficos simples, pode tornar-se menos intuitiva para visualizações mais complexas com múltiplos subgráficos.\n",
        "\n",
        "A abordagem orientada a objetos (OO) na Matplotlib refere-se a uma maneira de criar e manipular gráficos usando explicitamente objetos e métodos associados a esses objetos, em vez de depender de uma interface funcional mais direta. Esta abordagem oferece um controle mais explícito e maior flexibilidade sobre a figura e os eixos do gráfico. Ao invés de depender do estado global, você trabalha diretamente com objetos específicos, como a figura e os eixos, permitindo um controle mais preciso sobre todos os aspectos da visualização. É especialmente útil para visualizações mais complexas, como aquelas com múltiplos subgráficos ou eixos. Ela é frequentemente combinada com a interface pyplot para obter a flexibilidade da programação orientada a objeto com a simplicidade das funções do pyplot.\n",
        "\n",
        "Em resumo, enquanto a abordagem funcional é ótima para criar rapidamente visualizações simples, a abordagem orientada a objetos oferece a flexibilidade necessária para criar visualizações mais complexas e personalizadas. A escolha entre as abordagens depende do contexto e da complexidade da visualização desejada. Em nosso curso, vamos optar por trabalhar com a abordagem funcional sempre que possível.\n",
        "\n",
        "\n",
        "## 6.1.2 Primeiros passos na Matplotlib\n",
        "\n",
        "*Gráficos básicos*\n",
        "\n",
        "Para começar, focaremos na elaboração de gráficos fundamentais, abordando os tipos linha, coluna e dispersão.\n",
        "Exemplo 1:"
      ]
    },
    {
      "cell_type": "code",
      "execution_count": null,
      "id": "fad0b356",
      "metadata": {
        "id": "fad0b356"
      },
      "outputs": [],
      "source": [
        "import matplotlib.pyplot as plt\n",
        "x = [0, 1, 2, 3, 4]\n",
        "y = [0, 1, 4, 9, 16]\n",
        "plt.plot(x, y)\n",
        "plt.show()"
      ]
    },
    {
      "cell_type": "markdown",
      "id": "90a25b4e",
      "metadata": {
        "id": "90a25b4e"
      },
      "source": [
        "Vamos detalhar o código:\n",
        "\n",
        "``` import matplotlib.pyplot as plt ```: Importamos o módulo pyplot da biblioteca matplotlib e atribuimos a ele o alias \"plt\".\n",
        "\n",
        "```\n",
        "x = [0, 1, 2, 3, 4]\n",
        "y = [0, 1, 4, 9, 16]\n",
        "```\n",
        "\n",
        "Duas listas são criadas. A lista x representará os valores no eixo horizontal (eixo x), enquanto a lista y representará os valores no eixo vertical (eixo y).\n",
        "\n",
        "\n",
        "``` plt.plot(x, y) ```\n",
        "\n",
        "O método plot do pyplot é usado para plotar as listas x e y como um gráfico de linhas. Por padrão, a Matplotlib traçará uma linha contínua azul ligando os pontos definidos pelas listas x e y. Este comando exibe o gráfico criado:\n",
        "\n",
        "``` plt.show() ```\n",
        "<br><br>\n",
        "\n",
        "Exemplo 2:"
      ]
    },
    {
      "cell_type": "code",
      "execution_count": null,
      "id": "153796f1",
      "metadata": {
        "id": "153796f1"
      },
      "outputs": [],
      "source": [
        "etiqueta = ['A', 'B', 'C']\n",
        "valor = [3, 7, 2]\n",
        "plt.bar(etiqueta, valor)\n",
        "plt.show()"
      ]
    },
    {
      "cell_type": "markdown",
      "id": "1c1bd3a2",
      "metadata": {
        "id": "1c1bd3a2"
      },
      "source": [
        "Vamos detalhar o código:\n",
        "\n",
        "``` etiqueta = ['A', 'B', 'C'] ```\n",
        "\n",
        "Nesta linha, você está definindo uma lista chamada “etiqueta” que contém três strings: 'A', 'B' e 'C'. Essas serão as etiquetas (ou rótulos) das barras no gráfico.\n",
        "\n",
        "``` valor = [3, 7, 2] ```\n",
        "\n",
        "Aqui, você está definindo uma lista chamada “valor” que contém três números: 3, 7 e 2. Esses números representarão as alturas das barras correspondentes às etiquetas 'A', 'B' e 'C'.\n",
        "\n",
        "```plt.bar(etiqueta, valor) ```\n",
        "\n",
        "Esta é a chamada principal para a criação do gráfico de barras. A função bar() do plt (pyplot) é usada para criar gráficos de barra. Ela espera, pelo menos, dois argumentos: os rótulos das barras e os valores das barras. Neste caso, as barras serão rotuladas como 'A', 'B' e 'C', e terão alturas de 3, 7 e 2 unidades, respectivamente.\n",
        "<br><br>\n",
        "\n",
        "Exemplo 3:"
      ]
    },
    {
      "cell_type": "code",
      "execution_count": null,
      "id": "a21c1173",
      "metadata": {
        "id": "a21c1173"
      },
      "outputs": [],
      "source": [
        "x = [1, 2, 3, 4, 5]\n",
        "y = [5, 4, 3, 2, 1]\n",
        "plt.scatter(x, y)\n",
        "plt.show()"
      ]
    },
    {
      "cell_type": "markdown",
      "id": "5de5b67f",
      "metadata": {
        "id": "5de5b67f"
      },
      "source": [
        "Vamos detalhar o código:\n",
        "\n",
        "``` x = [1, 2, 3, 4, 5] ```\n",
        "\n",
        "Inicialmente definimos uma lista chamada x que contém cinco números. Esta lista representará as coordenadas x dos pontos que você deseja plotar no gráfico de dispersão.\n",
        "\n",
        "``` y = [5, 4, 3, 2, 1] ```\n",
        "\n",
        "Nesta linha, estamos definindo uma segunda lista chamada y que também contém cinco números. Essa lista representará as coordenadas y correspondentes dos pontos a serem plotados no gráfico.\n",
        "\n",
        "``` plt.scatter(x, y) ```\n",
        "\n",
        "Esta é a linha principal do código, onde a função scatter() do plt (módulo pyplot da Matplotlib) é chamada para criar um gráfico de dispersão. Ela espera, pelo menos, dois argumentos: as coordenadas x e y dos pontos. Neste caso, estamos instruindo a Matplotlib a criar pontos nas coordenadas (1,5), (2,4), (3,3), (4,2) e (5,1).\n",
        "\n",
        "\n",
        "### 6.1.3 Personalizando Gráficos com Matplotlib\n",
        "\n",
        "A efetividade de uma visualização não reside apenas em representar dados, mas também na forma como essa representação é feita. Uma boa personalização pode destacar informações importantes, enquanto uma escolha de design inadequada pode obscurecer ou até mesmo distorcer os dados. A Matplotlib fornece uma grande quantidade de ferramentas para personalizar gráficos, garantindo que eles sejam informativos e esteticamente agradáveis.\n",
        "<br><br>\n",
        "\n",
        "*Cores, marcadores e linhas*\n",
        "\n",
        "A aparência visual de um gráfico pode ser definida principalmente por suas cores, os marcadores utilizados e os estilos de linha.\n",
        "<br><br>\n",
        "\n",
        "*Cores*\n",
        "\n",
        "Em Matplotlib, a cor de qualquer elemento do gráfico pode ser alterada. As cores podem ser especificadas de várias maneiras, incluindo nomes comuns ('red', 'blue', 'green'), códigos hexadecimais ('#FF5733'), entre outros.  \n",
        "Exemplo:"
      ]
    },
    {
      "cell_type": "code",
      "execution_count": null,
      "id": "eec4a407",
      "metadata": {
        "id": "eec4a407"
      },
      "outputs": [],
      "source": [
        "x = [0, 1, 2, 3, 4]\n",
        "y = [0, 1, 4, 9, 16]\n",
        "plt.plot(x, y, color='red')  # linha vermelha\n",
        "plt.show()"
      ]
    },
    {
      "cell_type": "markdown",
      "id": "c8c8f9fc",
      "metadata": {
        "id": "c8c8f9fc"
      },
      "source": [
        "*Marcadores*\n",
        "\n",
        "Em gráficos de dispersão ou pontos específicos de uma linha, os marcadores indicam a localização exata de um ponto. Existem diferentes estilos de marcadores disponíveis, como 'o' para círculos, 's' para quadrados, '^' para triângulos, entre outros.  \n",
        "Exemplo:"
      ]
    },
    {
      "cell_type": "code",
      "execution_count": null,
      "id": "34a15fc2",
      "metadata": {
        "id": "34a15fc2"
      },
      "outputs": [],
      "source": [
        "x = [1, 2, 3, 4, 5]\n",
        "y = [5, 4, 3, 2, 1]\n",
        "plt.scatter(x, y, marker='^') # pontos triangulares\n",
        "plt.show"
      ]
    },
    {
      "cell_type": "markdown",
      "id": "4389aae2",
      "metadata": {
        "id": "4389aae2"
      },
      "source": [
        "*Linhas*\n",
        "\n",
        "Os estilos de linha podem variar, e Matplotlib oferece opções como linhas contínuas ('-'), tracejadas ('--'), pontos e traços ('-.'), entre outros.  \n",
        "Exemplo:"
      ]
    },
    {
      "cell_type": "code",
      "execution_count": null,
      "id": "f80ab53a",
      "metadata": {
        "id": "f80ab53a"
      },
      "outputs": [],
      "source": [
        "x = [0, 1, 2, 3, 4]\n",
        "y = [0, 1, 4, 9, 16]\n",
        "plt.plot(x, y, color='red', linestyle='--')\n",
        "# linha tracejada\n",
        "plt.show()"
      ]
    },
    {
      "cell_type": "markdown",
      "id": "0fd2a823",
      "metadata": {
        "id": "0fd2a823"
      },
      "source": [
        "Para simplificar, a Matplotlib permite combinar o estilo de linha, marcador e cor em uma única string. Por exemplo, 'go-' significa marcadores verdes circulares com uma linha contínua."
      ]
    },
    {
      "cell_type": "code",
      "execution_count": null,
      "id": "6931c9d7",
      "metadata": {
        "id": "6931c9d7"
      },
      "outputs": [],
      "source": [
        "plt.plot(x, y, 'ro-')  # linha contínua vermelha com marcadores circulares\n",
        "plt.show()"
      ]
    },
    {
      "cell_type": "markdown",
      "id": "984d1174",
      "metadata": {
        "id": "984d1174"
      },
      "source": [
        "Além disso, a largura da linha e o tamanho do marcador podem ser ajustados usando os argumentos linewidth e markersize, respectivamente."
      ]
    },
    {
      "cell_type": "code",
      "execution_count": null,
      "id": "f863b586",
      "metadata": {
        "id": "f863b586"
      },
      "outputs": [],
      "source": [
        "plt.plot(x, y, 'go-', linewidth=2, markersize=10)\n",
        "plt.show()"
      ]
    },
    {
      "cell_type": "markdown",
      "id": "70b3a40d",
      "metadata": {
        "id": "70b3a40d"
      },
      "source": [
        "Ao ajustar esses elementos básicos, já é possível criar gráficos mais informativos e visualmente atraentes.\n",
        "<br><br>\n",
        "\n",
        "*Rótulos, títulos e legendas*\n",
        "\n",
        "Os rótulos, títulos e legendas são componentes essenciais em visualizações de dados, pois proporcionam contexto e significado, facilitando a interpretação dos gráficos. Vejamos um exemplo:\n",
        "\n",
        "\n",
        "- Rótulos: são usados para dar nome aos eixos (x e y) de um gráfico.\n",
        "\n",
        "- Títulos: uma descrição breve e concisa que indica o propósito ou o conteúdo do gráfico.\n",
        "\n",
        "- Legendas: usadas para identificar as diferentes séries ou categorias em um gráfico, especialmente útil quando várias linhas, pontos ou barras são desenhadas no mesmo espaço.\n",
        "\n",
        "A partir dos elementos apresentados até aqui, podemos sugerir uma estrutura básica para criar um gráfico na Matplotlib:"
      ]
    },
    {
      "cell_type": "code",
      "execution_count": null,
      "id": "2b03aeef",
      "metadata": {
        "id": "2b03aeef"
      },
      "outputs": [],
      "source": [
        "plt.plot(x, y, label='linha 1')\n",
        "plt.xlabel('Eixo X')\n",
        "plt.ylabel('Eixo Y')\n",
        "plt.title('Gráfico de linhas')\n",
        "plt.legend()\n",
        "plt.show()"
      ]
    },
    {
      "cell_type": "markdown",
      "id": "338337ef",
      "metadata": {
        "id": "338337ef"
      },
      "source": [
        "Vamos detalhar cada componente:\n",
        "\n",
        "``` plt.plot(x, y, label='Legenda') ``` é a função principal para plotar gráficos de linhas. Ela toma os valores do eixo x e y como entrada e os plota. O argumento label é usado para associar uma legenda a essa linha específica, o que será útil quando chamarmos plt.legend() mais tarde. Podemos ter diversos outros argumentos, como os responsáveis pela definição de cores, marcadores, tipo e espessura de linhas, entre outros;\n",
        "\n",
        "``` plt.xlabel('Eixo X') ``` e ``` plt.ylabel('Eixo Y') ``` são usadas para adicionar rótulos aos eixos x e y, respectivamente;\n",
        "\n",
        "``` plt.title('Título do Gráfico') ``` é usada para adicionar um título ao gráfico;\n",
        "\n",
        "``` plt.legend() ``` é usada para mostrar as legendas associadas a cada série no gráfico. A legenda é baseada nos labels fornecidos nas chamadas anteriores, como em plt.plot();\n",
        "\n",
        "``` plt.show() ``` é usado para exibir o gráfico. Sem chamar essa função, o gráfico pode não ser exibido (dependendo do ambiente em que você está trabalhando).\n",
        "\n",
        "Esta estrutura básica é suficiente para criar gráficos simples. No entanto, a Matplotlib é uma biblioteca muito versátil e possui muitas outras funcionalidades que permitem personalizar e aprimorar seus gráficos, dependendo da necessidade.\n",
        "<br><br>\n",
        "\n",
        "\n",
        "*Adicionando texto ao gráfico*\n",
        "\n",
        "Além dos componentes mencionados acima, a Matplotlib permite que você adicione texto em qualquer parte do gráfico.\n",
        "Use plt.text(x, y, \"Texto\") para adicionar um texto na posição (x, y) do gráfico.\n",
        "\n",
        "Exemplo:"
      ]
    },
    {
      "cell_type": "code",
      "execution_count": null,
      "id": "4a0800f1",
      "metadata": {
        "id": "4a0800f1"
      },
      "outputs": [],
      "source": [
        "x = [1, 2, 3, 4, 5]\n",
        "y = [5, 4, 3, 2, 1]\n",
        "plt.plot(x, y, label='linha 1', color='green', linestyle='--')\n",
        "plt.xlabel('Eixo X')\n",
        "plt.ylabel('Eixo Y')\n",
        "plt.title('Gráfico de linhas')\n",
        "plt.text(1, 1.5, 'Texto de exemplo')\n",
        "plt.legend()\n",
        "plt.show()"
      ]
    },
    {
      "cell_type": "markdown",
      "id": "822c7e57",
      "metadata": {
        "id": "822c7e57"
      },
      "source": [
        "Nosso exemplo consiste em um gráfico de linhas, em que utilizamos a estrutura básica sugerida anteriormente para a criação de gráficos na Matplotlib. Adicionamos plt.text(x, y, ‘texto’) para inserir o texto “Texto de exemplo” na posição x=1 e y=1.5.\n",
        "\n",
        "\n",
        "Vamos agora plotar um gráfico com duas linha:"
      ]
    },
    {
      "cell_type": "code",
      "execution_count": null,
      "id": "f18c3a02",
      "metadata": {
        "id": "f18c3a02"
      },
      "outputs": [],
      "source": [
        "# Dados de exemplo\n",
        "x = [0, 1, 2, 3, 4]\n",
        "y1 = [0, 1, 4, 9, 16]\n",
        "y2 = [0, 2, 3, 7, 11]\n",
        "\n",
        "# Plotando as linhas\n",
        "plt.plot(x, y1, label='Linha 1', color='blue')\n",
        "plt.plot(x, y2, label='Linha 2', color='green')\n",
        "\n",
        "# Personalizando o gráfico\n",
        "plt.xlabel('Eixo X')\n",
        "plt.ylabel('Eixo Y')\n",
        "plt.title('Gráfico de linhas')\n",
        "plt.legend()\n",
        "\n",
        "# Mostrando o gráfico\n",
        "plt.show()"
      ]
    },
    {
      "cell_type": "markdown",
      "id": "96630241",
      "metadata": {
        "id": "96630241"
      },
      "source": [
        "### 6.1.4 Subplots na Matplotlib\n",
        "\n",
        "Subplots são uma maneira de criar múltiplos gráficos em uma única figura. Eles são úteis quando você quer comparar diferentes conjuntos de dados lado a lado ou quando quer visualizar diferentes aspectos de um mesmo conjunto de dados. Com a combinação de subplots e as diversas funções de plotagem disponíveis, você pode criar uma ampla variedade de visualizações para analisar e apresentar seus dados.\n",
        "\n",
        "A função plt.subplots() é a maneira mais comum de criar subplots. Ela retorna uma figura e os eixos dos subplots."
      ]
    },
    {
      "cell_type": "code",
      "execution_count": null,
      "id": "532ed77f",
      "metadata": {
        "id": "532ed77f"
      },
      "outputs": [],
      "source": [
        "fig, ax = plt.subplots()"
      ]
    },
    {
      "cell_type": "markdown",
      "id": "f8bcaf26",
      "metadata": {
        "id": "f8bcaf26"
      },
      "source": [
        "Neste caso, fig é a figura completa, enquanto ax é um único conjunto de eixos. Você pode plotar diretamente neste conjunto de eixos usando métodos como ax.plot().\n",
        "<br><br>\n",
        "\n",
        "\n",
        "*Especificando o número de subplots*\n",
        "\n",
        "Você pode especificar o número de subplots passando dois argumentos para plt.subplots(): o número de linhas e o número de colunas."
      ]
    },
    {
      "cell_type": "code",
      "execution_count": null,
      "id": "9678dbaa",
      "metadata": {
        "id": "9678dbaa"
      },
      "outputs": [],
      "source": [
        "fig, axs = plt.subplots(2, 3)\n",
        "# Cria uma grade de 2x3 subplots"
      ]
    },
    {
      "cell_type": "markdown",
      "id": "977c9e0e",
      "metadata": {
        "id": "977c9e0e"
      },
      "source": [
        "Aqui, axs é uma matriz 2x3 contendo os eixos dos subplots. Você pode acessar um subplot específico usando a indexação, como ``` axs[0, 1] ``` para o subplot na primeira linha e segunda coluna.\n",
        "<br><br>\n",
        "\n",
        "\n",
        "*Ajustando o Espaçamento*\n",
        "\n",
        "Quando você cria múltiplos subplots, pode ser necessário ajustar o espaçamento entre eles para evitar sobreposição de rótulos ou de títulos. Você pode fazer isso usando plt.tight_layout() ou ajustando manualmente com fig.subplots_adjust().\n",
        "\n",
        "``` plt.tight_layout() ```\n",
        "\n",
        "ou\n",
        "\n",
        "``` fig.subplots_adjust(left=None, bottom=None, right=None, top=None, wspace=None, hspace=None) ```\n",
        "\n",
        "Em que:\n",
        "\n",
        "- left, right, top, bottom controlam o espaçamento em relação à figura;\n",
        "\n",
        "- wspace e hspace controlam o espaçamento entre subplots.\n",
        "\n",
        "Para visualizar o resultado:"
      ]
    },
    {
      "cell_type": "code",
      "execution_count": null,
      "id": "e6233764",
      "metadata": {
        "id": "e6233764"
      },
      "outputs": [],
      "source": [
        "fig, axs = plt.subplots(2, 3)\n",
        "plt.tight_layout()\n",
        "plt.show()"
      ]
    },
    {
      "cell_type": "markdown",
      "id": "bc1891ad",
      "metadata": {
        "id": "bc1891ad"
      },
      "source": [
        "<br><br>\n",
        "\n",
        "\n",
        "*Plotando nos Subplots*\n",
        "\n",
        "\n",
        "Uma vez que você tenha seus subplots definidos, você pode plotar neles usando os métodos de plotagem do objeto de eixos."
      ]
    },
    {
      "cell_type": "code",
      "execution_count": null,
      "id": "e9c6597f",
      "metadata": {
        "id": "e9c6597f"
      },
      "outputs": [],
      "source": [
        "fig, axs = plt.subplots(2, 1)\n",
        "axs[0].plot([0, 1, 2], [0, 1, 0], label='Subplot 1')\n",
        "axs[1].plot([0, 1, 2], [0, -1, 0], label='Subplot 2')"
      ]
    },
    {
      "cell_type": "markdown",
      "id": "50f30878",
      "metadata": {
        "id": "50f30878"
      },
      "source": [
        "*Títulos e Rótulos*\n",
        "\n",
        "\n",
        "Você pode adicionar títulos e rótulos a cada subplot individualmente:"
      ]
    },
    {
      "cell_type": "code",
      "execution_count": null,
      "id": "cd397240",
      "metadata": {
        "id": "cd397240"
      },
      "outputs": [],
      "source": [
        "fig, axs = plt.subplots(2, 1)\n",
        "axs[0].plot([0, 1, 2], [0, 1, 0], label='Subplot 1')\n",
        "axs[1].plot([0, 1, 2], [0, -1, 0], label='Subplot 2')\n",
        "axs[0].set_title('Título do Subplot 1')\n",
        "axs[0].set_xlabel('Eixo X do Subplot 1')\n",
        "axs[0].set_ylabel('Eixo Y do Subplot 1')"
      ]
    },
    {
      "cell_type": "markdown",
      "id": "717362c8",
      "metadata": {
        "id": "717362c8"
      },
      "source": [
        "*Compartilhando Eixos*\n",
        "\n",
        "\n",
        "Se você estiver comparando dados em diferentes subplots e quiser que eles compartilhem o mesmo eixo X ou Y, você pode usar o argumento sharex ou sharey:"
      ]
    },
    {
      "cell_type": "code",
      "execution_count": null,
      "id": "16bfd4ff",
      "metadata": {
        "id": "16bfd4ff"
      },
      "outputs": [],
      "source": [
        "fig, axs = plt.subplots(2, 1, sharex=True)"
      ]
    },
    {
      "cell_type": "markdown",
      "id": "bc0d7702",
      "metadata": {
        "id": "bc0d7702"
      },
      "source": [
        "Neste caso, ambos subplots compartilharão o mesmo eixo X.\n",
        "\n",
        "\n",
        "Exemplo: Criar múltiplos gráficos em uma única figura."
      ]
    },
    {
      "cell_type": "code",
      "execution_count": null,
      "id": "b62cfffa",
      "metadata": {
        "id": "b62cfffa"
      },
      "outputs": [],
      "source": [
        "# Criar a figura e os subplots\n",
        "fig, ax = plt.subplots(2, 2)\n",
        "\n",
        "# Primeiro subplot (superior esquerdo)\n",
        "ax[0, 0].plot([0, 1, 2], [0, 1, 4])\n",
        "ax[0, 0].set_title('Gráfico de Linha')\n",
        "\n",
        "# Segundo subplot (superior direito)\n",
        "ax[0, 1].scatter([0, 1, 2], [0, 1, 3])\n",
        "ax[0, 1].set_title('Gráfico de Dispersão')\n",
        "\n",
        "# Terceiro subplot (inferior esquerdo)\n",
        "ax[1, 0].bar(['A', 'B', 'C'], [3, 7, 2])\n",
        "ax[1, 0].set_title('Gráfico de Barras')\n",
        "\n",
        "# Quarto subplot (inferior direito)\n",
        "ax[1, 1].hist([0, 1, 2, 2, 3, 3, 3, 4, 4, 5])\n",
        "ax[1, 1].set_title('Histograma')\n",
        "\n",
        "# Ajustar o layout dos subplots\n",
        "plt.tight_layout()\n",
        "\n",
        "# Exiboir os gráficos\n",
        "plt.show()"
      ]
    },
    {
      "cell_type": "markdown",
      "id": "1afc1a22",
      "metadata": {
        "id": "1afc1a22"
      },
      "source": [
        "No código acima:\n",
        "\n",
        "- O método plt.subplots() retorna uma figura e uma matriz de objetos \"axes\" (eixos), que são as áreas individuais de plotagem.\n",
        "\n",
        "- ```plt.subplots() ``` retorna uma figura (fig) e os eixos (ax) dos subplots; nrows=2, ncols=2 define uma matriz 2x2, resultando em 4 subplots; figsize=(10, 10) define o tamanho da figura. Neste caso, a figura terá 10x10 polegadas.\n",
        "\n",
        "- Cada subplot é referenciado usando a indexação ``` ax[row, col] ```. Por exemplo, ``` ax[0, 0] ``` refere-se ao subplot superior esquerdo, enquanto ``` ax[1, 1] ``` é o subplot inferior direito.\n",
        "\n",
        "- Os seguintes métodos são usados para criar os gráficos: ``` .plot() ``` cria o gráfico de linha; ``` .scatter()```  cria o gráfico de dispersão; ``` .bar() ``` cria o gráfico de barras; ``` .hist() ``` cria o histograma; set_title é usado para definir o título de cada subplot.\n",
        "\n",
        "- O método tight_layout() ajusta o espaçamento entre os subplots para que não se sobreponham.\n",
        "\n",
        "\n",
        "### 6.1.5 Gráficos com dados reais\n",
        "\n",
        "Para exemplificar a criação de gráficos com dados reais, vamos criar um gráfico para visualizar a precipitação mensal (em mm) registrada na estação meteorológica do INMET, código A827, instalada no município de Bagé-RS nos anos de 2021, 2022 e 2023. Os dados estão armazenados em um arquivo CSV.\n",
        "\n",
        "O código completo para ler o arquivo e criar o gráfico é:"
      ]
    },
    {
      "cell_type": "markdown",
      "source": [
        "Vamos acessar os arquivos diretamente do Google Drive. Para tanto, vamos aplicar o seguinte código:"
      ],
      "metadata": {
        "id": "DPIvZoRkoIkQ"
      },
      "id": "DPIvZoRkoIkQ"
    },
    {
      "cell_type": "code",
      "source": [
        "from google.colab import drive\n",
        "drive.mount('/content/drive')"
      ],
      "metadata": {
        "id": "5ylpA3wqoJty"
      },
      "id": "5ylpA3wqoJty",
      "execution_count": null,
      "outputs": []
    },
    {
      "cell_type": "code",
      "execution_count": null,
      "id": "0b0bf113",
      "metadata": {
        "id": "0b0bf113"
      },
      "outputs": [],
      "source": [
        "import pandas as pd\n",
        "\n",
        "df_precipitacao = pd.read_csv('/content/drive/MyDrive/files/cap6/f20/precipitacao_A827.csv')\n",
        "df_precipitacao.head()"
      ]
    },
    {
      "cell_type": "code",
      "execution_count": null,
      "id": "6812f2d9",
      "metadata": {
        "id": "6812f2d9"
      },
      "outputs": [],
      "source": [
        "ax = df_precipitacao.plot(kind='bar', figsize=(10, 6), width=0.8,\n",
        "    color=['steelblue', 'mediumseagreen', 'silver'])\n",
        "ax.set_xlabel('Mês')\n",
        "ax.set_ylabel('Precipitação mensal (mm)')\n",
        "ax.set_title('Precipitação: Estação INMET A827(Bagé)')\n",
        "ax.set_xticklabels(df_precipitacao['Mês'], rotation=45)\n",
        "ax.legend()\n",
        "plt.tight_layout()\n",
        "plt.show()"
      ]
    },
    {
      "cell_type": "markdown",
      "id": "6f2be232",
      "metadata": {
        "id": "6f2be232"
      },
      "source": [
        "Vamos analisar o código por partes:\n",
        "\n",
        "```\n",
        "import pandas as pd\n",
        "df_precipitacao = pd.read_csv('/content/drive/MyDrive/files/cap6/f20/precipitacao_A827.csv')\n",
        "df_precipitacao.head()\n",
        "```\n",
        "\n",
        "Aqui realizamos a leitura do arquivo CSV denominado precipitacao_A827.CSV. Os dados do arquivo são armazenados no DataFrame chamado df_precipitacao. Em seguida, as primeiras cinco linhas do DataFrame são impressas usando o método head().\n",
        "<br><br>\n",
        "\n",
        "```\n",
        "ax = df_precipitacao.plot(kind='bar', figsize=(10, 6), width=0.8, color=['steelblue', 'mediumseagreen', 'silver'])\n",
        "```\n",
        "\n",
        "Nesse código, df_precipitacao.plot(...) utiliza a função plot() do DataFrame df_precipitacao para criar um gráfico; kind='bar' especifica que o tipo de gráfico desejado é um gráfico de barras; figsize=(10, 6) define o tamanho da figura como 10 unidades de largura por 6 unidades de altura; width=0.8 define a largura das barras como 80% da largura padrão entre os ticks do eixo x; ``` color=['steelblue', 'mediumseagreen', 'silver'] ``` define as cores das barras.\n",
        "<br><br>\n",
        "\n",
        "``` ax.set_xlabel('Mês') ```\n",
        "\n",
        "Define o rótulo do eixo x como \"Mês\".\n",
        "<br><br>\n",
        "\n",
        "``` ax.set_ylabel('Precipitação mensal (mm)') ```\n",
        "\n",
        "Define o rótulo do eixo y como \"Precipitação mensal (mm)\".\n",
        "<br><br>\n",
        "\n",
        "``` ax.set_title('Precipitação: Estação INMET A827(Bagé)') ```\n",
        "\n",
        "Estabelece o título do gráfico.\n",
        "<br><br>\n",
        "\n",
        "``` ax.set_xticklabels(df_precipitacao['Mês'], rotation=45) ```\n",
        "\n",
        "\n",
        "Define os rótulos do eixo x com os valores da coluna 'Mês' do DataFrame df_precipitacao e roda esses rótulos em 45 graus para melhor visualização.\n",
        "<br><br>\n",
        "\n",
        "``` ax.legend() ```\n",
        "\n",
        "\n",
        "Exibe a legenda do gráfico, que, por padrão, usará os nomes das colunas do DataFrame como rótulos.\n",
        "<br><br>\n",
        "\n",
        "\n",
        "\n",
        "\n",
        "### 6.1.6 Exportando Gráficos\n",
        "\n",
        "Quando você cria um gráfico, seja para análise de dados, apresentações ou publicações, muitas vezes é necessário exportá-lo para um formato de arquivo específico. A exportação de gráficos envolve várias considerações, incluindo o formato de arquivo, resolução e qualidade. A escolha certa depende do uso pretendido do gráfico e das especificações do meio em que será apresentado.\n",
        "\n",
        "\n",
        "*Formatos*\n",
        "\n",
        "Existem vários formatos de arquivo para os quais você pode exportar um gráfico, e a escolha do formato depende do uso pretendido. Alguns dos formatos mais comuns incluem:\n",
        "\n",
        "- PNG (Portable Network Graphics): É um formato de imagem matricial, o que significa que ele armazena o gráfico como uma coleção de pixels. É amplamente usado devido à sua compressão sem perdas e suporte a transparência;\n",
        "\n",
        "- JPEG (Joint Photographic Experts Group): Também é um formato de imagem matricial, mas usa compressão com perdas, o que pode reduzir a qualidade da imagem. É mais adequado para fotografias do que para gráficos;\n",
        "\n",
        "- SVG (Scalable Vector Graphics): É um formato de imagem vetorial, o que possibilita que o gráfico seja redimensionado sem perder qualidade;\n",
        "\n",
        "- PDF (Portable Document Format): É um formato de arquivo versátil que pode conter gráficos vetoriais e matriciais. É amplamente usado para publicações e impressão.\n",
        "<br><br>\n",
        "\n",
        "\n",
        "*Resolução*\n",
        "\n",
        "A resolução refere-se ao número de pixels por polegada (PPI) ou pontos por polegada (DPI) em uma imagem. Uma resolução mais alta resulta em uma imagem mais nítida, mas também em um tamanho de arquivo maior. A resolução ideal depende de onde o gráfico será usado:\n",
        "\n",
        "- Tela (web, apresentações): Geralmente, uma resolução de 72 PPI é suficiente;\n",
        "\n",
        "- Impressão: Para obter uma imagem nítida, é recomendável uma resolução de pelo menos 300 DPI.\n",
        "\n",
        "\n",
        "*Qualidade*\n",
        "\n",
        "A qualidade refere-se à quantidade de detalhes e clareza em uma imagem. Em formatos de compressão com perdas, como JPEG, você pode escolher um nível de qualidade ao exportar. Uma qualidade mais alta resultará em uma imagem mais nítida, mas também em um tamanho de arquivo maior. Por outro lado, uma qualidade mais baixa reduzirá o tamanho do arquivo, mas também a nitidez da imagem. Ao exportar gráficos, é importante equilibrar a qualidade e o tamanho do arquivo, considerando o propósito pretendido do gráfico.\n",
        "\n",
        "\n",
        "*Exportando o gráfico de precipitação da estação A827*\n",
        "\n",
        "Para exportar o último gráfico criado com os dados de precipitação da estação climatológica A827 no contexto da Matplotlib, utilizamos o método savefig(). Vamos criar um arquivo em formato PNG, com resolução de 300dpi.\n",
        "\n",
        "```\n",
        "plt.savefig('files_out/precipitacao_2021-2023_A827.png', format='png', dpi=300)\n",
        "```\n",
        "\n",
        "É importante ressaltar que o método savefig() deve ser posicionado antes do método .show para que o gráfico seja exportado corretamente. O código atualizado com esta linha é:"
      ]
    },
    {
      "cell_type": "code",
      "execution_count": null,
      "id": "7aecc82f",
      "metadata": {
        "id": "7aecc82f"
      },
      "outputs": [],
      "source": [
        "ax = df_precipitacao.plot(kind='bar', figsize=(10, 6), width=0.8,\n",
        "    color=['steelblue', 'mediumseagreen', 'silver'])\n",
        "ax.set_xlabel('Mês')\n",
        "ax.set_ylabel('Precipitação mensal (mm)')\n",
        "ax.set_title('Precipitação: Estação INMET A827(Bagé)')\n",
        "ax.set_xticklabels(df_precipitacao['Mês'], rotation=45)\n",
        "ax.legend()\n",
        "plt.tight_layout()\n",
        "plt.savefig('files_out/precipitacao_2021-2023_A827.png', format='png', dpi=300)\n",
        "plt.show()"
      ]
    },
    {
      "cell_type": "markdown",
      "id": "165ac0c3",
      "metadata": {
        "id": "165ac0c3"
      },
      "source": [
        "Depois de executar este código, você encontrará o gráfico exportado como um arquivo PNG com a resolução especificada, no diretório atual de trabalho.\n",
        "\n",
        "\n",
        "\n",
        "## 6.2 Função de plotagem integrada da GeoPandas.\n",
        "\n",
        "Como vimos no capítulo anterior, a Geopandas é uma extensão da Pandas, uma das bibliotecas mais populares para análise de dados em Python. Ele facilita o trabalho com dados geoespaciais, incorporando estruturas para manipulação de geometrias.\n",
        "\n",
        "Com a Geopandas, é possível realizar a plotagem básica de dados geográficos com facilidade. Um simples comando plot() aplicado a um GeoDataFrame ou GeoSeries gera uma representação visual dos dados. Por exemplo:"
      ]
    },
    {
      "cell_type": "code",
      "execution_count": null,
      "id": "7e6c5143",
      "metadata": {
        "id": "7e6c5143"
      },
      "outputs": [],
      "source": [
        "import geopandas as gpd\n",
        "gdf_uf = gpd.read_file('/content/drive/MyDrive/files/cap6/f4/BR_UF.shp')\n",
        "gdf_uf.plot()"
      ]
    },
    {
      "cell_type": "markdown",
      "id": "778e7b9a",
      "metadata": {
        "id": "778e7b9a"
      },
      "source": [
        "A seguir, exploraremos as opções de personalização do método plot. A visualização padrão é prática, mas muitas vezes precisamos modificar cores, legendas e outros detalhes para melhorar a apresentação dos dados. Entender essas opções nos ajudará a produzir gráficos mais claros e adequados ao nosso propósito.\n",
        "\n",
        "\n",
        "a) Definição da cor de preenchimento\n",
        "\n",
        "O blue é a cor padrão quando plotamos utilizando o .plot(). Para aplicar outra cor a todas as geometrias do GeoDataFrame, você pode usar o argumento color."
      ]
    },
    {
      "cell_type": "code",
      "execution_count": null,
      "id": "89a3bd89",
      "metadata": {
        "id": "89a3bd89"
      },
      "outputs": [],
      "source": [
        "gdf_uf.plot(color = 'green')"
      ]
    },
    {
      "cell_type": "markdown",
      "id": "5b81ebfa",
      "metadata": {
        "id": "5b81ebfa"
      },
      "source": [
        "*Atribuindo cores diferentes de acordo com os atributos*\n",
        "\n",
        "Para colorir geometrias com base nos valores de uma coluna (atributo) específica, você pode utilizar os argumentos column e cmap (mapa de cores). Vamos criar uma visualização do gdf_uf, atribuindo cores a cada geometria com base nos valores da coluna NM_REGIAO e usando o esquema de cores Pastel2."
      ]
    },
    {
      "cell_type": "code",
      "execution_count": null,
      "id": "8bef4731",
      "metadata": {
        "id": "8bef4731"
      },
      "outputs": [],
      "source": [
        "gdf_uf.plot(column = 'NM_REGIAO', cmap = 'Pastel2')"
      ]
    },
    {
      "cell_type": "markdown",
      "id": "cd423037",
      "metadata": {
        "id": "cd423037"
      },
      "source": [
        "O cmap, abreviação de Colormap, refere-se a uma escala de cores ou um mapa de cores na Matplotlib e em outras bibliotecas de visualização. A Matplotlib oferece uma variedade de colormaps pré-definidos que podem ser usados conforme o tipo de dado e a preferência visual. Alguns exemplos de colormaps na Matplotlib incluem:\n",
        "\n",
        "- Sequenciais: São adequados para dados que vão de valores baixos a altos. Exemplos: Blues, Greens, OrRd.\n",
        "\n",
        "- Divergentes: São adequados para dados que têm um valor médio significativo e variações nos dois extremos (baixo e alto). Exemplos: RdBu (Vermelho-Azul), coolwarm.\n",
        "\n",
        "- Cíclicos: São adequados para dados que têm valores repetidos em ciclos. Exemplo: twilight.\n",
        "\n",
        "- Qualitativos: São usados para representar informações categóricas. Exemplo: tab10. Para mais detalhes, consulte (https://matplotlib.org/stable/users/explain/colors/colormaps.html).\n",
        "<br><br>\n",
        "\n",
        "*Personalizando as linhas de borda*\n",
        "\n",
        "Usando edgecolor e linewidth, você pode personalizar a cor e a largura das linhas de borda das geometrias. Exemplo:"
      ]
    },
    {
      "cell_type": "code",
      "execution_count": null,
      "id": "17646400",
      "metadata": {
        "id": "17646400"
      },
      "outputs": [],
      "source": [
        "gdf_uf.plot(color='green', edgecolor='black', linewidth=0.8)"
      ]
    },
    {
      "cell_type": "markdown",
      "id": "d24d766c",
      "metadata": {
        "id": "d24d766c"
      },
      "source": [
        "<br><br>\n",
        "\n",
        "*Configuração de legenda e barra de cores*\n",
        "\n",
        "Ao usar o argumento legend=True, você pode adicionar uma legenda ou barra de cores para representar os valores dos dados."
      ]
    },
    {
      "cell_type": "code",
      "execution_count": null,
      "id": "0f67c5eb",
      "metadata": {
        "id": "0f67c5eb"
      },
      "outputs": [],
      "source": [
        "gdf_uf.plot(column = 'NM_REGIAO', cmap = 'Pastel2', legend=True)"
      ]
    },
    {
      "cell_type": "markdown",
      "id": "e0b7fa45",
      "metadata": {
        "id": "e0b7fa45"
      },
      "source": [
        "Estes são apenas alguns exemplos básicos de como você pode personalizar a plotagem de seus dados geográficos na Geopandas. Como a Geopandas se integra perfeitamente a Matplotlib, as possibilidades são amplas e permitem muita personalização. Estudaremos a integração da Geopandas com a Matplotlib a seguir.\n",
        "\n",
        "\n",
        "\n",
        "## 6.3 Integração da Geopandas com Matplotlib\n",
        "\n",
        "Quando você usa o método .plot() da Geopandas, ele já está usando a matplotlib implicitamente. No entanto, para uma integração mais profunda e personalizada, você pode usar a matplotlib explicitamente. Essa integração é bastante direta e traz várias vantagens, dentre elas:\n",
        "\n",
        "- Personalização Avançada: A matplotlib oferece uma ampla gama de opções de personalização, permitindo que você ajuste quase todos os aspectos do seu gráfico;\n",
        "\n",
        "- Combinação de Gráficos: Você pode combinar seu mapa com outros tipos de gráficos, como gráficos de barras, linhas ou scatter plots, em uma única figura;\n",
        "\n",
        "- Subplots: Como discutido anteriormente, a matplotlib permite criar subplots. Isso é útil se você quiser mostrar vários mapas lado a lado para comparação;\n",
        "\n",
        "- Controle de Legenda: A matplotlib oferece opções avançadas para personalizar a legenda do seu gráfico, incluindo posição, tamanho, cor e muito mais;\n",
        "\n",
        "- Integração com Outras Bibliotecas: Ao usar a matplotlib como base, você pode facilmente integrar seu mapa com outras bibliotecas de visualização que também usam a matplotlib, como seaborn;\n",
        "\n",
        "- Exportação Flexível: A matplotlib oferece várias opções para exportar seu gráfico, permitindo que você escolha formatos, resoluções e outros parâmetros de exportação;\n",
        "\n",
        "- Interatividade: Embora a matplotlib seja principalmente uma biblioteca de plotagem estática, ele tem algumas funcionalidades interativas, especialmente quando usado em ambientes como o Jupyter Notebook.\n",
        "\n",
        "Em resumo, integrar a Geopandas com a Matplotlib oferece uma maior flexibilidade e controle sobre a visualização dos seus dados geoespaciais. Vamos explorar algumas opções de personalização a seguir.\n",
        "<br><br>\n",
        "\n",
        "*Configuração das etiquetas dos eixos*\n",
        "\n",
        "O método .plot() da Geopandas retorna um objeto de eixos (ax) da matplotlib, e você pode usar esse objeto para ajustar as propriedades dos eixos, incluindo o tamanho do texto das etiquetas dos eixos.\n",
        "\n",
        "As etiquetas dos eixos na Matplotlib são altamente configuráveis. O método ax.tick_params() pode ser usado para ajustar várias propriedades das etiquetas dos eixos e dos marcadores (ticks) ao mesmo tempo.\n",
        "\n",
        "Vamos reduzir o tamanho do texto referente aos valores das coordenadas geográficas em nosso GeoDataFrame gdf_uf:"
      ]
    },
    {
      "cell_type": "code",
      "execution_count": null,
      "id": "67dcfa32",
      "metadata": {
        "id": "67dcfa32"
      },
      "outputs": [],
      "source": [
        "# Plotando o GeoDataFrame\n",
        "ax = gdf_uf.plot()\n",
        "\n",
        "# Ajustar o tamanho do texto das etiquetas dos eixos para 7:\n",
        "ax.tick_params(axis='both', which='major', labelsize=7)\n",
        "plt.show()"
      ]
    },
    {
      "cell_type": "markdown",
      "id": "28515293",
      "metadata": {
        "id": "28515293"
      },
      "source": [
        "No método ``` ax.tick_params() ```, o argumento labelsize define o tamanho do texto. Você pode ajustar esse valor conforme necessário. which=’major’ indica que a configuração será realizada com o eixo principal da plotagem.\n",
        "\n",
        "Além de ``` ax.tick_params() ```, existem outros métodos e propriedades para ajustar as etiquetas dos eixos e os ticks. A documentação oficial da matplotlib é uma excelente fonte para verificar as opções disponíveis e obter exemplos detalhados. Você pode encontrar mais informações sobre ax.tick_params() e outras funcionalidades relacionadas na documentação da matplotlib, em: (https://matplotlib.org/stable/api/axis_api.html).\n",
        "\n",
        "Para inserir a malhar de coordenadas na visualização, podemos utilizar ``` ax.grid() ```:"
      ]
    },
    {
      "cell_type": "code",
      "execution_count": null,
      "id": "df5e14a5",
      "metadata": {
        "id": "df5e14a5"
      },
      "outputs": [],
      "source": [
        "ax = gdf_uf.plot()\n",
        "\n",
        "# Exibir a malha de coordenadas com linha contínua e transparência de 50%\n",
        "ax.grid(True, linestyle='-', alpha=0.5)\n",
        "\n",
        "ax.tick_params(axis='both', which='major', labelsize=7)\n",
        "plt.show()"
      ]
    },
    {
      "cell_type": "markdown",
      "id": "a2db93cb",
      "metadata": {
        "id": "a2db93cb"
      },
      "source": [
        "<br><br>\n",
        "\n",
        "\n",
        "*Mais exemplos de integração entre Geopandas e Matplotlib*\n",
        "\n",
        "Exemplo 1: Plotando um único GeoDataFrame"
      ]
    },
    {
      "cell_type": "code",
      "execution_count": null,
      "id": "a0b97822",
      "metadata": {
        "id": "a0b97822"
      },
      "outputs": [],
      "source": [
        "fig, ax = plt.subplots(figsize=(6, 6))\n",
        "\n",
        "# Usando o método .plot() do GeoDataFrame e passando o eixo criado\n",
        "gdf_uf.plot(ax=ax, color='darkseagreen', edgecolor='black')\n",
        "\n",
        "# Personalizando com Matplotlib\n",
        "ax.set_title('Brasil')\n",
        "ax.set_xlabel('Longitude')\n",
        "ax.set_ylabel('Latitude')\n",
        "\n",
        "# Mostrando o gráfico\n",
        "plt.show()"
      ]
    },
    {
      "cell_type": "markdown",
      "id": "deaeaa7b",
      "metadata": {
        "id": "deaeaa7b"
      },
      "source": [
        "Resumidamente, este código carrega um conjunto de dados geoespaciais do Brasil a partir de um arquivo shapefile, cria uma figura e eixos usando matplotlib, plota os dados geoespaciais no gráfico, personaliza o gráfico e, em seguida, exibe o gráfico resultante.\n",
        "Vamos analisar o código passo a passo.\n",
        "\n",
        "``` fig, ax = plt.subplots(figsize=(6, 6)) ```\n",
        "\n",
        "Uma figura e eixos são criados usando a função subplots da matplotlib. A figura terá um tamanho de 6x6 polegadas.\n",
        "\n",
        "``` gdf_uf.plot(ax=ax, color='darkseagreen', edgecolor='black') ```\n",
        "\n",
        "O método .plot() do GeoDataFrame (gdf_uf) é usado para visualizar os dados geoespaciais. O argumento ax=ax indica que o plot deve ser feito nos eixos previamente criados. O argumento color='darkseagreen' define a cor de preenchimento das unidades federativas, enquanto edgecolor='black' define a cor das bordas.\n",
        "\n",
        "```\n",
        "ax.set_title('Brasil')\n",
        "ax.set_xlabel('Longitude')\n",
        "ax.set_ylabel('Latitude')\n",
        "```\n",
        "\n",
        "Aqui, o gráfico é personalizado usando funções da matplotlib. O título do gráfico é definido como \"Brasil\", e os rótulos dos eixos x e y são definidos como \"Longitude\" e \"Latitude\", respectivamente.\n",
        "<br><br>\n",
        "\n",
        "\n",
        "Exemplo 2: Plotando uma geometria e o conteúdo de uma coluna\n",
        "\n",
        "Vamos plotar a mesma figura anterior, mas inserindo na visualização a sigla referente a cada estado. Para tanto, vamos utilizar a função annotate da matplotlib. A ideia é iterar sobre cada geometria (neste caso, cada estado) no GeoDataFrame e adicionar uma anotação (o nome do estado) à sua posição central."
      ]
    },
    {
      "cell_type": "code",
      "execution_count": null,
      "id": "cdc8a425",
      "metadata": {
        "id": "cdc8a425"
      },
      "outputs": [],
      "source": [
        "# Criando uma figura e eixos com Matplotlib\n",
        "fig, ax = plt.subplots(figsize=(10, 10))\n",
        "\n",
        "# Usando o método .plot() do GeoDataFrame e passando o eixo criado\n",
        "gdf_uf.plot(ax=ax, color='darkseagreen', edgecolor='black')\n",
        "\n",
        "# Adicionando os nomes dos estados\n",
        "for x, y, label in zip(gdf_uf.geometry.centroid.x,\n",
        "    gdf_uf.geometry.centroid.y, gdf_uf['SIGLA_UF']):\n",
        "    ax.annotate(label, xy=(x, y), xytext=(0,-2),\n",
        "        textcoords='offset points', fontsize=9)\n",
        "\n",
        "# Personalizando com Matplotlib\n",
        "ax.set_title('Brasil')\n",
        "ax.set_xlabel('Longitude')\n",
        "ax.set_ylabel('Latitude')\n",
        "\n",
        "# Mostrando o gráfico\n",
        "plt.show()"
      ]
    },
    {
      "cell_type": "markdown",
      "id": "a98b3bf6",
      "metadata": {
        "id": "a98b3bf6"
      },
      "source": [
        "Neste código, a parte chave é o loop for que itera sobre as coordenadas centrais de cada geometria (usando gdf_uf.geometry.centroid.x e gdf_uf.geometry.centroid.y) e os nomes dos estados ``` (usando gdf_uf['NM_UF']). ``` Para cada estado, a função annotate adiciona o nome do estado à sua posição central no gráfico. O argumento xytext=(0,-2) e textcoords=\"offset points\" são usados para garantir que o texto não seja colocado exatamente no centro da geometria, mas ligeiramente deslocado para evitar sobreposições com as bordas das geometrias.\n",
        "<br><br>\n",
        "\n",
        "\n",
        "Exemplo 3: Plotando camadas de geometrias sobrepostas\n",
        "\n",
        "Vamos criar uma plotagem das rodovias do estado de Sergipe sobrepostas a geometria desse estado."
      ]
    },
    {
      "cell_type": "code",
      "execution_count": null,
      "id": "bdfce013",
      "metadata": {
        "id": "bdfce013"
      },
      "outputs": [],
      "source": [
        "gdf_sergipe = gpd.read_file('/content/drive/MyDrive/files/cap6/f21/sergipe_UF.shp')\n",
        "gdf_rodovias = gpd.read_file('/content/drive/MyDrive/files/cap6/f21/sergipe_rodo.shp)\n",
        "\n",
        "# Criar uma figura e eixos com Matplotlib\n",
        "fig, ax = plt.subplots(figsize=(8, 8))\n",
        "\n",
        "# Plotar a geometria do estado do Sergipe como fundo\n",
        "gdf_sergipe.plot(ax=ax, color='lightgray', edgecolor='black', linewidth=0.5)\n",
        "\n",
        "# Plotar as rodovias sobrepostas ao estado\n",
        "gdf_rodovias.plot(ax=ax, color='red', linewidth=1)\n",
        "\n",
        "# Personalizar com Matplotlib: inserir um título\n",
        "ax.set_title('Rodovias de Sergipe')\n",
        "\n",
        "# Plotar o gráfico\n",
        "plt.show()"
      ]
    },
    {
      "cell_type": "markdown",
      "id": "3ffeae6f",
      "metadata": {
        "id": "3ffeae6f"
      },
      "source": [
        "Neste exemplo, a geometria do estado do Sergipe é plotada primeiro com uma cor de fundo lightgray e borda black. As rodovias são então plotadas por cima com uma cor red e uma largura de linha de 1.0.\n",
        "\n",
        "\n",
        "É possível criar uma visualização sem os eixos de coordenadas, o que é útil em muitas situações. A chamada ax.axis('off') pode ser usada para isso:"
      ]
    },
    {
      "cell_type": "code",
      "execution_count": null,
      "id": "817fed09",
      "metadata": {
        "id": "817fed09"
      },
      "outputs": [],
      "source": [
        "fig, ax = plt.subplots(figsize=(8, 8))\n",
        "\n",
        "gdf_sergipe.plot(ax=ax, color='lightgray', edgecolor='black', linewidth=0.5)\n",
        "\n",
        "gdf_rodovias.plot(ax=ax, color='red', linewidth=1)\n",
        "\n",
        "ax.set_title('Rodovias de Sergipe')\n",
        "\n",
        "# Removendo os eixos para uma visualização mais limpa\n",
        "ax.axis('off')\n",
        "\n",
        "plt.show()"
      ]
    },
    {
      "cell_type": "markdown",
      "id": "22fcc405",
      "metadata": {
        "id": "22fcc405"
      },
      "source": [
        "<br><br>\n",
        "\n",
        "\n",
        "Exemplo 4: Classificando um tema por categorias\n",
        "\n",
        "O GeoDataFrame gdf_rodovias tem uma coluna chamada jurisdição que especifica a jurisdição de cada segmento de rodovia (Federal, Estadual, Municipal ou desconhecida). Vamos gerar uma plotagem das rodovias de Sergipe, categorizadas de acordo com a sua jurisdição. Para tanto, vamos utilizar o argumento column no método plot e adicionar uma legenda."
      ]
    },
    {
      "cell_type": "code",
      "execution_count": null,
      "id": "624a6255",
      "metadata": {
        "id": "624a6255"
      },
      "outputs": [],
      "source": [
        "# Criar uma figura e eixos com Matplotlib\n",
        "fig, ax = plt.subplots(figsize=(8,8))\n",
        "\n",
        "# Plotar a geometria do estado do Sergipe como fundo\n",
        "gdf_sergipe.plot(ax=ax, color='lightgray', edgecolor='black',\n",
        "    linewidth=0.5)\n",
        "\n",
        "# Plotar as rodovias classificadas por jurisdição\n",
        "gdf_rodovias.plot(ax=ax, column='jurisdicao', legend=True, cmap='Reds',\n",
        "    linewidth=1.5)\n",
        "\n",
        "# Inserir o título\n",
        "ax.set_title('Rodovias de Sergipe por Jurisdição', fontweight='bold')\n",
        "\n",
        "# Remover os eixos para uma visualização mais limpa\n",
        "ax.axis('off')\n",
        "\n",
        "# Ajustar a posição da legenda\n",
        "leg = ax.get_legend()\n",
        "leg.set_bbox_to_anchor((0.9, 0.3))\n",
        "\n",
        "# Ajustar o layout automaticamente\n",
        "plt.tight_layout()\n",
        "\n",
        "# Mostrar o gráfico\n",
        "plt.show()"
      ]
    },
    {
      "cell_type": "markdown",
      "id": "8d1865b8",
      "metadata": {
        "id": "8d1865b8"
      },
      "source": [
        "Neste código: leg.set_bbox_to_anchor((0.9, 0.3)) ajusta a posição da legenda para que ela não sobreponha o gráfico.\n",
        "<br><br>\n",
        "\n",
        "\n",
        "Exemplo 6: Mapa coroplético\n",
        "\n",
        "Vamos criar uma visualização da distribuição espacial da população por município para o estado de Santa Catarina (dados referentes ao ano de 2021). Para simplificar, usaremos aqui o termo ‘mapa coroplético’, mesmo que alguns dos elementos que constituem um mapa por definição (como a escala gráfica ou numérica) não estejam presentes nessa visualização.\n",
        "\n",
        "Inicialmente, vamos ler o arquivo shapefile e plotar as primeiras linhas do GeoDataFrame:"
      ]
    },
    {
      "cell_type": "code",
      "execution_count": null,
      "id": "7d034c78",
      "metadata": {
        "id": "7d034c78"
      },
      "outputs": [],
      "source": [
        "gdf_sc = gpd.read_file('/content/drive/MyDrive/files/cap6/f22/censo_mun_sc.shp')\n",
        "gdf_sc.head()"
      ]
    },
    {
      "cell_type": "code",
      "execution_count": null,
      "id": "f058b0ba",
      "metadata": {
        "id": "f058b0ba"
      },
      "outputs": [],
      "source": [
        "gdf_sc.plot()"
      ]
    },
    {
      "cell_type": "markdown",
      "id": "1c5b5f1a",
      "metadata": {
        "id": "1c5b5f1a"
      },
      "source": [
        "Para criar o mapa coroplético, vamos utilizar o seguinte código:"
      ]
    },
    {
      "cell_type": "code",
      "execution_count": null,
      "id": "e5648612",
      "metadata": {
        "id": "e5648612"
      },
      "outputs": [],
      "source": [
        "# Definir o tamanho da figura\n",
        "fig, ax = plt.subplots(figsize=(10, 10))\n",
        "\n",
        "# Criar o mapa\n",
        "gdf_sc.plot(column='pop_2021', ax=ax, cmap='OrRd')\n",
        "\n",
        "# Criar a barra de cores (colorbar) manualmente\n",
        "cbar = plt.colorbar(ax.collections[0], ax=ax, shrink=0.5)\n",
        "cbar.set_label('População por Município', size=10)\n",
        "cbar.ax.tick_params(labelsize=9)\n",
        "\n",
        "# Ajustar o tamanho do texto dos eixos de coordenadas\n",
        "ax.tick_params(axis='both', which='major', labelsize=6)\n",
        "\n",
        "# Adicionar título e exibindo o mapa\n",
        "ax.set_title('Distribuição da População por Município')\n",
        "plt.show()"
      ]
    },
    {
      "cell_type": "markdown",
      "id": "bfec8e1c",
      "metadata": {
        "id": "bfec8e1c"
      },
      "source": [
        "No código acima:\n",
        "\n",
        "``` fig, ax = plt.subplots(figsize=(10, 10)) ```: cria uma figura (fig) e um conjunto de eixos (ax) com um tamanho especificado de 10x10 polegadas.\n",
        "<br><br>\n",
        "\n",
        "``` gdf_sc.plot(column='pop_2021', ax=ax, cmap='OrRd') ```: o método .plot do GeoDataFrame gdf_sc para cria um mapa coroplético. Estamos atribuindo cores aos municípios com base nos valores da coluna pop_2021, usando o cmap 'OrRd'. O argumento ax=ax especifica que queremos plotar os dados no conjunto de eixos que criamos anteriormente.\n",
        "<br><br>\n",
        "\n",
        "``` cbar = plt.colorbar(ax.collections[0], ax=ax, shrink=0.5) ```: adiciona uma barra de cores (colorbar) ao gráfico. A barra de cores fornece uma referência visual para mapear cores individuais para valores de dados. O argumento shrink=0.5 especifica que a barra de cores deve ser reduzida para metade do tamanho do eixo.\n",
        "<br><br>\n",
        "\n",
        "``` cbar.set_label('População por Município', size=10) ```: define um rótulo para a barra de cores com o texto \"População por Município\" e especificando que o tamanho da fonte do rótulo deve ser 10.\n",
        "<br><br>\n",
        "\n",
        "``` cbar.ax.tick_params(labelsize=9) ```: ajusta os parâmetros dos ticks (marcadores) da barra de cores. Estamos definindo o tamanho da fonte dos rótulos dos marcadores para 9.\n",
        "\n",
        "\n",
        "Na figura acima, a considerável diferença nos valores populacionais entre os municípios tornou a visualização desbalanceada e pouco informativa. Isso porque municípios com populações muito altas contrastavam fortemente com aqueles de população menor, obscurecendo nuances e padrões regionais. Para proporcionar uma interpretação mais clara dos dados, vamos ajustar a representação para uma escala logarítmica. Esse ajuste pode equilibrar visualmente as variações populacionais, tornando o mapa mais compreensível e revelando detalhes anteriormente ofuscados pela discrepância nos valores absolutos. Para criar essa visualização, utilizamos o código:"
      ]
    },
    {
      "cell_type": "code",
      "execution_count": null,
      "id": "fa494e37",
      "metadata": {
        "id": "fa494e37"
      },
      "outputs": [],
      "source": [
        "import numpy as np\n",
        "import matplotlib.colors as mcolors\n",
        "import matplotlib.cm as cm\n",
        "\n",
        "# Definir o tamanho da figura\n",
        "fig, ax = plt.subplots(figsize=(10, 10))\n",
        "\n",
        "# Criar uma coluna logarítmica\n",
        "gdf_sc = gdf_sc.copy()\n",
        "gdf_sc['pop_2021_log'] = np.log(gdf_sc['pop_2021'])\n",
        "\n",
        "# Definir o colormap\n",
        "cmap = 'OrRd'\n",
        "vmin_log = np.log(gdf_sc['pop_2021'].min())\n",
        "vmax_log = np.log(gdf_sc['pop_2021'].max())\n",
        "norm = mcolors.Normalize(vmin=vmin_log, vmax=vmax_log)\n",
        "\n",
        "# Plotar o mapa coroplético com escala logarítmica\n",
        "gdf_sc.plot(column='pop_2021_log', ax=ax, cmap=cmap, legend=False)\n",
        "\n",
        "# Criar uma legenda personalizada\n",
        "cbar = plt.cm.ScalarMappable(norm=norm, cmap=cmap)\n",
        "\n",
        "# Ajustar as dimensões da legenda\n",
        "cbar_ax = fig.add_axes([0.95, 0.25, 0.02, 0.5])\n",
        "cb = fig.colorbar(cbar, cax=cbar_ax, orientation='vertical')\n",
        "\n",
        "# Ajustar o tamanho do título da legenda\n",
        "cb.set_label('População (Escala Logarítmica)', size=10)\n",
        "\n",
        "# Ajustar o tamanho dos ticks da legenda\n",
        "cb.ax.tick_params(labelsize=9)\n",
        "\n",
        "# Ajustar o tamanho do texto dos eixos de coordenadas\n",
        "ax.tick_params(axis='both', which='major', labelsize=6)\n",
        "\n",
        "# Adicionar título e exibir o mapa\n",
        "ax.set_title('Distribuição da População por Município - SC')\n",
        "plt.show()"
      ]
    },
    {
      "cell_type": "markdown",
      "id": "3a14ad86",
      "metadata": {
        "id": "3a14ad86"
      },
      "source": [
        "Vamos analisar as diferenças com relação ao código anterior:\n",
        "\n",
        "```\n",
        "import numpy as np\n",
        "import matplotlib.colors as mcolors\n",
        "import matplotlib.cm as cm\n",
        "```\n",
        "\n",
        "Aqui, além da Matplotlib importamos o numpy, e os módulos matplotlib.colors e matplotlib.cm, que são usados para trabalhar com mapas de cores.\n",
        "<br><br>\n",
        "\n",
        "```\n",
        "gdf_sc = gdf_sc.copy()\n",
        "gdf_sc['pop_2021_log'] = np.log(gdf_sc['pop_2021'])\n",
        "```\n",
        "\n",
        "Cria uma cópia do GeoDataFrame gdf_sc para evitar alterações no original. Em seguida, adiciona uma nova coluna pop_2021_log que contém o logaritmo natural dos valores da coluna pop_2021.\n",
        "<br><br>\n",
        "\n",
        "```\n",
        "cmap = 'OrRd'\n",
        "vmin_log = np.log(gdf_sc['pop_2021'].min())\n",
        "vmax_log = np.log(gdf_sc['pop_2021'].max())\n",
        "norm = mcolors.Normalize(vmin=vmin_log, vmax=vmax_log)\n",
        "```\n",
        "\n",
        "Define o colormap (mapa de cores) e as configurações relacionadas à escala logarítmica para usar em um gráfico coroplético, onde as cores são usadas para representar valores de dados em um mapa geográfico.\n",
        "\n",
        "``` vmin_log = np.log(gdf_sc['pop_2021'].min()) ```: calcula o logaritmo natural (logaritmo na base e) do valor mínimo da coluna 'pop_2021' de seu DataFrame `gdf_sc`. O logaritmo é calculado para acomodar a escala logarítmica, o que é útil quando há uma grande variação nos valores dos dados. Isso é importante para definir o valor mínimo da escala de cores.\n",
        "\n",
        "``` vmax_log = np.log(gdf_sc['pop_2021'].max()) ```: calcula o logaritmo natural do valor máximo da coluna 'pop_2021'. Isso define o valor máximo da escala de cores.\n",
        "\n",
        "``` norm = mcolors.Normalize(vmin=vmin_log, vmax=vmax_log) ```: cria uma instância de 'Normalize' do módulo 'matplotlib.colors'. Essa instância será usada para normalizar os valores dos dados em relação à escala de cores. A normalização é necessária para mapear valores de dados para cores de maneira apropriada e uniforme. Ela garante que os valores mais baixos e mais altos sejam mapeados corretamente para as cores mínima e máxima definidas no colormap.\n",
        "\n",
        "<br><br>\n",
        "\n",
        "``` gdf_sc.plot(column='pop_2021_log', ax=ax, cmap=cmap, legend=False) ```\n",
        "\n",
        "Plota o mapa coroplético usando a coluna pop_2021_log e o mapa de cores definido anteriormente. A legenda não é mostrada porque legend=False.\n",
        "<br><br>\n",
        "\n",
        "```\n",
        "cbar = plt.cm.ScalarMappable(norm=norm, cmap=cmap)\n",
        "cbar_ax = fig.add_axes([0.95, 0.25, 0.02, 0.5])\n",
        "cb = fig.colorbar(cbar, cax=cbar_ax, orientation='vertical\n",
        "```\n",
        "\n",
        "Cria uma legenda personalizada para o mapa; plt.cm.ScalarMappable é usado para mapear os valores da coluna pop_2021 para cores no mapa de cores; fig.add_axes adiciona um novo conjunto de eixos à figura para a legenda, e fig.colorbar adiciona a legenda à figura.\n",
        "\n",
        "Ao utilizar a escala logarítmica, foi possível representar de forma mais eficaz a distribuição populacional, realçando tanto áreas densamente quanto escassamente povoadas.\n",
        "<br><br>\n",
        "\n",
        "Exemplo 7: Múltiplos plots em uma visualização\n",
        "\n",
        "A visualização simultânea de múltiplos conjuntos de dados geoespaciais pode proporcionar uma compreensão abrangente das características e relações territoriais de uma área. No exemplo a seguir, exploraremos o uso de subplots para visualizar, lado a lado: os estados, os biomas e as regiões hidrográficas do Brasil. Para facilitar o entendimento, inicialmente vamos apresentar o código sem a configuração de estilos de cores, dos textos e de legendas."
      ]
    },
    {
      "cell_type": "code",
      "execution_count": null,
      "id": "eb775f56",
      "metadata": {
        "id": "eb775f56"
      },
      "outputs": [],
      "source": [
        "# Leitura dos arquivos\n",
        "gdf_uf = gpd.read_file('/content/drive/MyDrive/files/cap6/f4/BR_UF.shp')\n",
        "gdf_bio = gpd.read_file('/content/drive/MyDrive/files/cap6/f23/biomas.shp')\n",
        "gdf_hid = gpd.read_file('/content/drive/MyDrive/files/cap6/f23/regioes_hidro.shp')\n",
        "\n",
        "# Criando uma figura com três subplots (um ao lado do outro)\n",
        "fig, axs = plt.subplots(1, 3, figsize=(15, 5))\n",
        "\n",
        "# Plotando gdf_uf no primeiro subplot\n",
        "gdf_uf.plot(ax=axs[0])\n",
        "axs[0].set_title('Estados')\n",
        "\n",
        "# Plotando gdf_bio no segundo subplot\n",
        "gdf_bio.plot(ax=axs[1])\n",
        "axs[1].set_title('Biomas')\n",
        "\n",
        "# Plotando gdf_hid no terceiro subplot\n",
        "gdf_hid.plot(ax=axs[2])\n",
        "axs[2].set_title('Regiões Hidrográficas')\n",
        "\n",
        "# Ajustando a apresentação\n",
        "for ax in axs:\n",
        "    ax.axis('off')\n",
        "\n",
        "plt.tight_layout()\n",
        "plt.show()"
      ]
    },
    {
      "cell_type": "markdown",
      "id": "78f0bced",
      "metadata": {
        "id": "78f0bced"
      },
      "source": [
        "No código acima:\n",
        "\n",
        "``` fig, axs = plt.subplots(1, 3, figsize=(15, 5)) ```\n",
        "\n",
        "O método plt.subplots() cria uma figura (fig) e três subplots (axs). O argumento “1, 3” indica que queremos 1 linha e 3 colunas de subplots, ou seja, três áreas de plotagem lado a lado. O argumento figsize=(15, 5) define o tamanho total da figura como 15x5 polegadas.\n",
        "<br><br>\n",
        "\n",
        "```\n",
        "gdf_uf.plot(ax=axs[0])\n",
        "axs[0].set_title('Estados')\n",
        "\n",
        "gdf_bio.plot(ax=axs[1])\n",
        "axs[1].set_title('Biomas')\n",
        "\n",
        "gdf_hid.plot(ax=axs[2])\n",
        "axs[2].set_title('Regiões Hidrográficas')\n",
        "```\n",
        "\n",
        "gdf_uf (que representa os estados), df_bio (que representa os biomas) e df_bio (que representa os biomas) são plotados no primeiro, segundo e terceiro subplots (área de plotagem ``` axs[0] ```, ``` axs[1] ``` e ``` axs[2] ```), respectivamente. O título para cada subplot é definido na sequencia.\n",
        "<br><br>\n",
        "\n",
        "```\n",
        "for ax in axs:\n",
        "    ax.axis('off')\n",
        "\n",
        "plt.tight_layout()\n",
        "plt.show()\n",
        "```\n",
        "\n",
        "Aqui, estamos percorrendo cada subplot e desativando os eixos usando ax.axis('off'), o que remove os rótulos e os marcadores dos eixos, tornando a visualização mais limpa. ``` plt.tight_layout()```  ajusta automaticamente o tamanho e a posição dos subplots para que eles se ajustem bem na figura; plt.show() exibe a figura criada.\n",
        "<br><br>\n",
        "\n",
        "\n",
        "\n",
        "Agora vamos alterar o código, adicionando as configurações de texto, legendas e categorias:"
      ]
    },
    {
      "cell_type": "code",
      "execution_count": null,
      "id": "7e9c567e",
      "metadata": {
        "id": "7e9c567e"
      },
      "outputs": [],
      "source": [
        "# Criando uma figura e três eixos\n",
        "fig, axs = plt.subplots(nrows=1, ncols=3, figsize=(15, 5))\n",
        "\n",
        "# Argumentos para a legenda\n",
        "legend_args = {\n",
        "    'loc': 'lower left',\n",
        "    'fontsize': 'small'  # Reduzindo o tamanho da fonte da legenda\n",
        "}\n",
        "\n",
        "# Plotando o mapa dos estados brasileiros no primeiro eixo\n",
        "gdf_uf.plot(column='SIGLA_UF', ax=axs[0], cmap='Pastel2', edgecolor='black')\n",
        "axs[0].set_title('Estados Brasileiros')\n",
        "\n",
        "# Plotando o mapa dos biomas do Brasil no segundo eixo\n",
        "gdf_bio.plot(column='NOME', ax=axs[1], cmap = 'Greens', edgecolor='black',\n",
        "    legend=True, legend_kwds=legend_args)\n",
        "axs[1].set_title('Biomas do Brasil')\n",
        "\n",
        "# Plotando o mapa das regiões hidrográficas do Brasil no terceiro eixo\n",
        "gdf_hid.plot(column='RHI_NM', ax=axs[2], cmap='Blues', edgecolor='black',\n",
        "    legend=True, legend_kwds=legend_args)\n",
        "axs[2].set_title('Regiões Hidrográficas do Brasil')\n",
        "\n",
        "# Removendo os eixos x e y para uma visualização mais limpa\n",
        "for ax in axs:\n",
        "    ax.axis('off')\n",
        "\n",
        "# Ajustando o layout com um espaçamento reduzido\n",
        "plt.tight_layout(pad=0.1)\n",
        "plt.show()"
      ]
    },
    {
      "cell_type": "markdown",
      "id": "9443fe35",
      "metadata": {
        "id": "9443fe35"
      },
      "source": [
        "No código acima:\n",
        "\n",
        "``` fig, axs = plt.subplots(nrows=1, ncols=3, figsize=(15, 5)) ```\n",
        "\n",
        "``` plt.subplots() ``` cria uma figura (fig) e três eixos (axs), da mesma maneira que no código anterior.\n",
        "<br><br>\n",
        "\n",
        "```\n",
        "legend_args = {\n",
        "    'loc': 'lower left',\n",
        "    'fontsize': 'small'  # Reduzindo o tamanho da fonte da legenda\n",
        "}\n",
        "```\n",
        "\n",
        "Neste trecho, definimos um dicionário legend_args que contém argumentos para personalizar a legenda dos plots. A legenda é posicionada no canto inferior esquerdo ('loc': 'lower left') e tem tamanho de fonte pequeno ('fontsize': 'small').\n",
        "<br><br>\n",
        "\n",
        "```\n",
        "gdf_uf.plot(column='SIGLA_UF', ax=axs[0], cmap='Pastel2', edgecolor='black')\n",
        "axs[0].set_title('Estados Brasileiros')\n",
        "```\n",
        "\n",
        "Aqui, plotamos o gdf_uf no primeiro eixo (```axs[0]```) e atribuímos cores aos estados com base na coluna 'SIGLA_UF' usando o mapa de cores Pastel2. As bordas dos estados são definidas como pretas (edgecolor='black'). Em seguida, definimos um título para esse eixo.\n",
        "<br><br>\n",
        "\n",
        "```\n",
        "gdf_bio.plot(column='NOME', ax=axs[1], cmap = 'Greens', edgecolor='black',\n",
        "    legend=True, legend_kwds=legend_args)\n",
        "axs[1].set_title('Biomas do Brasil')\n",
        "```\n",
        "\n",
        "Neste trecho, estamos plotando o gdf_bio no segundo eixo (``` axs[1] ```) e atribuindo cores aos biomas com base na coluna 'NOME', usando o mapa de cores Greens. As bordas dos biomas são definidas como pretas (edgecolor='black'). A legenda é ativada (legend=True) e personalizada usando os argumentos definidos anteriormente (legend_kwds=legend_args). Em seguida, definimos um título para esse eixo.\n",
        "<br><br>\n",
        "\n",
        "     \n",
        "```\n",
        "gdf_hid.plot(column='RHI_NM', ax=axs[2], cmap='Blues', edgecolor='black',\n",
        "    legend=True, legend_kwds=legend_args)\n",
        "axs[2].set_title('Regiões Hidrográficas do Brasil')\n",
        "```\n",
        "\n",
        "Aqui, plotamos o gdf_hid no terceiro eixo (```axs[2] ```) e atribuímos cores as regiões hidrográficas com base na coluna 'RHI_NM' usando o mapa de cores 'Blues'. As bordas das regiões são definidas como pretas (edgecolor='black'). A legenda é ativada (legend=True) e personalizada usando os argumentos definidos anteriormente (legend_kwds=legend_args). Em seguida, definimos um título para esse eixo.\n",
        "\n",
        "O restante do código permanece inalterado com relação ao primeiro código apresentado.\n",
        "\n",
        "\n",
        "## 6.4 Adicionando Mapas Base à Plotagem com Contextily\n",
        "\n",
        "Ao visualizar dados geoespaciais, muitas vezes é útil ter um mapa base para fornecer contexto geográfico. A biblioteca Contextily permite adicionar facilmente mapas base, provenientes de fontes populares como OpenStreetMap e Stamen às suas visualizações.\n",
        "\n",
        "A biblioteca foi projetada para integrar-se perfeitamente com outras bibliotecas geoespaciais, como Geopandas e Matplotlib. Ela é capaz de reprojetar os dados automaticamente para o sistema de coordenadas Web Mercator (EPSG:3857), comumente usado por provedores de tiles de mapas base. Além disso, ao recuperar tiles de mapas base, otimiza o desempenho armazenando-os localmente em cache.\n",
        "<br><br>\n",
        "\n",
        "\n",
        "*Provedores de mapas base na Contextily*\n",
        "\n",
        "A biblioteca Contextily fornece acesso a vários provedores de tiles de mapas base. Os provedores incluídos no Contextily estão organizados sob o módulo ctx.providers. Cada provedor tem um ou mais estilos de mapa disponíveis. No quadro 15 apresenta-se alguns dos principais provedores e estilos disponíveis com acesso gratuito.\n",
        "\n",
        "\n",
        "Quadro 15: Provedores de tiles e estilos na Contextily.\n",
        "\n",
        "| Provedor     | Estilo                           |\n",
        "|--------------|----------------------------------|\n",
        "| OpenStreetMap| ctx.providers.OpenStreetMap.Mapnik|\n",
        "| Stamen       | ctx.providers.Stamen.Toner       |\n",
        "|              | ctx.providers.Stamen.TonerLite   |\n",
        "|              | ctx.providers.Stamen.Terrain     |\n",
        "|              | ctx.providers.Stamen.Watercolor  |\n",
        "| CartoDB      | ctx.providers.CartoDB.Positron   |\n",
        "|              | ctx.providers.CartoDB.DarkMatter |\n",
        "| Esri         | ctx.providers.Esri.WorldStreetMap|\n",
        "|              | ctx.providers.Esri.DeLorme       |\n",
        "|              | ctx.providers.Esri.WorldTopoMap  |\n",
        "|              | ctx.providers.Esri.WorldImagery  |\n",
        "\n",
        "<br><br>\n",
        "\n",
        "Abaixo apresentamos alguns exemplos de estilos de mapas base:\n",
        "\n",
        "| OpenStreetMap.Mapnik | Stamen.Watercolor |\n",
        "|----------------------|-------------------|\n",
        "| ![Figura 23](https://github.com/Alexandrogschafer/Programacao-Geoprocessamento/blob/gh-pages/notebooks/images/fig23.png?raw=1)           | ![Figura 24](https://github.com/Alexandrogschafer/Programacao-Geoprocessamento/blob/gh-pages/notebooks/images/fig24.png?raw=1)         |\n",
        "\n",
        "\n",
        "| Esri.DeLorme | NASAGIBS.ASTER_GDEM_Greyscale_Shaded_Relief |\n",
        "|--------------|---------------------------------------------|\n",
        "| ![Figura 25](https://github.com/Alexandrogschafer/Programacao-Geoprocessamento/blob/gh-pages/notebooks/images/fig25.png?raw=1)     | ![Figura 26](https://github.com/Alexandrogschafer/Programacao-Geoprocessamento/blob/gh-pages/notebooks/images/fig26.png?raw=1)                                    |\n",
        "\n",
        "<br><br>\n",
        "\n",
        "Vale lembrar que a disponibilidade dos tiles pode variar dependendo dos termos de serviço dos provedores e da capacidade de suportar tráfego. Além disso, a lista de provedores e estilos pode mudar com o tempo, conforme novos estilos são adicionados ou antigos são removidos. Você pode verificar diretamente a lista completa de provedores e estilos disponíveis no ambiente Python explorando o módulo ctx.providers.\n",
        "<br><br>\n",
        "\n",
        "Exemplo: Criar uma visualização do município de Florianópolis com o basemap WorldImagery, do provedor ESRI.\n",
        "\n",
        "Inicialmente, precisamos instalar a biblioteca Contextily:"
      ]
    },
    {
      "cell_type": "code",
      "execution_count": null,
      "id": "f50d6e35",
      "metadata": {
        "id": "f50d6e35"
      },
      "outputs": [],
      "source": [
        "# !pip install contextily"
      ]
    },
    {
      "cell_type": "markdown",
      "id": "f8d184bf",
      "metadata": {
        "id": "f8d184bf"
      },
      "source": [
        "O comando !pip install é utilizado para instalar pacotes Python utilizando o gerenciador de pacotes pip. O prefixo “!“ é específico para ambientes como o Jupyter Notebook e indica que o comando deve ser executado no sistema operacional, e não no kernel Python.\n",
        "Em seguida, importamos as bibliotecas necessárias, lemos o arquivo shapefile e geramos um plot para ver se o arquivo foi lido corretamente."
      ]
    },
    {
      "cell_type": "code",
      "execution_count": null,
      "id": "48be9e10",
      "metadata": {
        "id": "48be9e10"
      },
      "outputs": [],
      "source": [
        "import contextily as ctx\n",
        "\n",
        "gdf = gpd.read_file('/content/drive/MyDrive/files/cap6/f24/florianopolis.shp')\n",
        "gdf.plot()"
      ]
    },
    {
      "cell_type": "markdown",
      "id": "5a251472",
      "metadata": {
        "id": "5a251472"
      },
      "source": [
        "Agora vamos plotar o GeoDataFrame utilizando a Contextily:"
      ]
    },
    {
      "cell_type": "code",
      "execution_count": null,
      "id": "cb1699ea",
      "metadata": {
        "id": "cb1699ea"
      },
      "outputs": [],
      "source": [
        "# Plotar o GeoDataFrame\n",
        "ax = gdf.to_crs(epsg=3857).plot(figsize=(10, 10), facecolor='none',\n",
        "    alpha=0.9, edgecolor='r')\n",
        "\n",
        "# Adicionar o mapa base\n",
        "ctx.add_basemap(ax, source=ctx.providers.Esri.WorldImagery, zoom=12)\n",
        "\n",
        "# Ajustar o tamanho do texto das coordenadas geográficas nos eixos\n",
        "ax.tick_params(axis='both', labelsize=8)\n",
        "\n",
        "plt.show()"
      ]
    },
    {
      "cell_type": "markdown",
      "id": "0ff7f42e",
      "metadata": {
        "id": "0ff7f42e"
      },
      "source": [
        "Detalhando o código:\n",
        "\n",
        "``` ax = gdf.to_crs(epsg=3857).plot(figsize=(15, 15), facecolor='none', alpha=0.9, edgecolor='r') ```\n",
        "\n",
        "Reprojeta o GeoDataFrame gdf para o sistema de coordenadas Web Mercator (EPSG:3857), que é comum para mapas base. Em seguida, plotamos com as seguintes características:\n",
        "<br><br>\n",
        "\n",
        "``` figsize=(15, 15) ```: Define o tamanho da figura;\n",
        "\n",
        "``` facecolor='none' ``` : Define a cor de preenchimento das geometrias como ‘sem cor’;\n",
        "\n",
        "```  alpha=0.9 ``` : Define a transparência das geometrias (0 é totalmente transparente, 1 é totalmente opaco);\n",
        "\n",
        "```  edgecolor='r' ``` : Define a cor das bordas das geometrias como vermelho.\n",
        "<br><br>\n",
        "\n",
        "```\n",
        "ctx.add_basemap(ax, source=ctx.providers.Esri.WorldImagery, zoom=12)\n",
        "plt.show()\n",
        "```\n",
        "\n",
        "A biblioteca Contextily é usada para adicionar um mapa base à visualização. Neste caso, o mapa base escolhido é o WorldImagery da Esri. A função add_basemap adiciona esse mapa ao fundo da plotagem de gdf, com um nível de zoom definido como 12. Por fim, plt.show() é utilizado para exibir o gráfico.\n",
        "\n",
        "\n",
        "\n",
        "## 6.5 Visualização interativa com folium\n",
        "\n",
        "A Folium é uma biblioteca que tem como base a biblioteca JavaScript Leaflet.js (https://leafletjs.com/). Sua integração com as bibliotecas Pandas e Geopandas permite transformar DataFrames e GeoDataFrames em visualizações de mapa interativas.\n",
        "\n",
        "A Folium suporta uma ampla variedade de tiles de mapa, como Mapbox e OpenStreetMap, para que os usuários possam personalizar a aparência de seus mapas base. É possível configurar cores, ícones e estilos para a visualização de dados. Com relação a ícones, a Folium utiliza predominantemente os ícones do FontAwesome 4.7 e os estilos de cores são predefinidos dentro da própria biblioteca. A lista completa de ícones disponíveis pode ser consultada no seguinte link: (https://fontawesome.com/v4.7/icons/).\n",
        "\n",
        "A Folium possui um conjunto predefinido de cores para os ícones. No entanto, ao contrário dos ícones, a lista de cores não está bem documentada em um único lugar, no site oficial ou na documentação da Folium. Algumas das cores disponíveis são: 'red', 'blue', 'green', 'purple', 'orange', 'darkred', 'lightred', 'beige'- 'darkblue', 'darkgreen', 'cadetblue', 'darkpurple', 'white', 'pink', 'lightblue', 'lightgreen', 'gray', 'black', 'lightgray'.\n",
        "\n",
        "Existem vários plugins que ampliam as funcionalidades da Folium e possibilitam a criação de visualizações de mapas mais interativas e ricas em recursos, como o HeatMap, MarkerCluster, Fullscreen. Além disso, como a biblioteca é baseada no Leaflet.js, muitos plugins do Leaflet podem ser facilmente adaptados ou integrados a ele.\n",
        "\n",
        "\n",
        "\n",
        "### 6.5.1 Aplicando a Folium com dados reais\n",
        "\n",
        "Vamos demonstrar algumas das funcionalidades da Folium a partir de exemplos com dados reais.\n",
        "\n",
        "\n",
        "Exemplo 1: Criar uma visualização interativa das localizações das hidrelétricas e PCHs do estado de São Paulo."
      ]
    },
    {
      "cell_type": "code",
      "execution_count": null,
      "id": "9a1c2f3c",
      "metadata": {
        "id": "9a1c2f3c"
      },
      "outputs": [],
      "source": [
        "# Importar as bibliotecas, ler o arquivo shapefile e criar o GeoDataFrame\n",
        "import folium\n",
        "gdf_hsp = gpd.read_file('/content/drive/MyDrive/files/cap6/f25/hidreletricas_sp.shp')\n",
        "\n",
        "\n",
        "#nCalcular a latitude e longitude médias das geometrias no GeoDataFrame\n",
        "\n",
        "latitude_central = gdf_hsp.geometry.y.mean()\n",
        "longitude_central = gdf_hsp.geometry.x.mean()\n",
        "\n",
        "\n",
        "# Imprimir as coordenadas centrais\n",
        "\n",
        "print(latitude_central, longitude_central)\n",
        "\n",
        "\n",
        "# Inicializar um mapa centrado nas coordenadas médias com um nível de zoom inicial de 7\n",
        "\n",
        "mapa_hid = folium.Map(location=[latitude_central, longitude_central],\n",
        "    zoom_start=7)\n",
        "# Também é possível inserir manualmente as coordenadas centrais do mapa\n",
        "# mapa_hid = folium.Map(location=[-22.6444, -48.0996], zoom_start=7)\n",
        "\n",
        "# Adicionar um marcador ao mapa para cada hidrelétrica no GeoDataFrame\n",
        "for idx, row in gdf_hsp.iterrows():\n",
        "    folium.Marker(location=[row['geometry'].y, row['geometry'].x],\n",
        "                  popup=row['potenciaou']\n",
        "                 ).add_to(mapa_hid)\n",
        "\n",
        "# Exibir o mapa\n",
        "mapa_hid"
      ]
    },
    {
      "cell_type": "markdown",
      "id": "1bc13bd0",
      "metadata": {
        "id": "1bc13bd0"
      },
      "source": [
        "Nessa visualização, além de termos a localização dos pontos referentes às hidrelétricas e PCHs, podemos visualizar a capacidade instalada clicando no ícone desejado.\n",
        "\n",
        "\n",
        "Vamos analisar o código por partes:\n",
        "\n",
        "```\n",
        "latitude_central = gdf_hsp.geometry.y.mean()\n",
        "longitude_central = gdf_hsp.geometry.x.mean()\n",
        "print(latitude_central, longitude_central)\n",
        "#Saída: (-22.6444, -48.0966)\n",
        "```\n",
        "\n",
        "Esse código calcula a latitude e longitude médias de todas as geometrias no GeoDataFrame, que são utilizadas para definir o ponto central do mapa que será criado posteriormente.\n",
        "<br><br>\n",
        "\n",
        "```\n",
        "mapa_hid = folium.Map(location=[latitude_central, longitude_central], zoom_start=7)\n",
        "Um mapa é inicializado usando a biblioteca Folium, centrado nas coordenadas médias calculadas anteriormente e com um nível de zoom inicial de 7.\n",
        "\n",
        "for idx, row in gdf_hsp.iterrows():\n",
        "    folium.Marker(location=[row['geometry'].y, row['geometry'].x],\n",
        "                  popup=row['potenciaou']  \n",
        "                 ).add_to(mapa_hid)\n",
        "```\n",
        "\n",
        "Para cada hidrelétrica no GeoDataFrame gdf_hsp, um marcador é adicionado ao mapa. A localização de cada marcador é definida pela latitude (``` row['geometry'].y ```) e longitude (``` row['geometry'].x ```) da hidrelétrica. Um pop-up também é adicionado a cada marcador, que exibirá a potência da hidrelétrica quando o marcador for clicado. Para salvar a visualização interativa em um arquivo HTML:\n",
        "\n",
        "``` mapa_hid.save('mapa_hidreletricas_SP.html') ```\n",
        "<br><br>\n",
        "\n",
        "\n",
        "Vamos agora gerar uma nova visualização, alterando o mapa base e o símbolo dos marcadores:"
      ]
    },
    {
      "cell_type": "code",
      "execution_count": null,
      "id": "a6e07753",
      "metadata": {
        "id": "a6e07753"
      },
      "outputs": [],
      "source": [
        "# Inicializando um mapa folium centrado na latitude e longitude médias\n",
        "\n",
        "# usar o serviço de imagens do ArcGIS como tiles de fundo\n",
        "mapa_hid = folium.Map(\n",
        "    location=[latitude_central, longitude_central],  # Ponto central do mapa\n",
        "    zoom_start=7,  # Nível de zoom inicial\n",
        "    control_scale=True,  # Adiciona um controle de escala ao mapa\n",
        "    attr='ESRI World Imagery',  # Atribuição do mapa\n",
        "    tiles=\n",
        "    'http://services.arcgisonline.com/ArcGIS/rest/services/World_Imagery/MapServer/tile/{z}/{y}/{x}'  # URL do servidor de tiles\n",
        ")\n",
        "\n",
        "# Iterar sobre cada linha do GeoDataFrame 'gdf_hsp' para adicionar marcadores ao mapa\n",
        "for idx, row in gdf_hsp.iterrows():\n",
        "    folium.Marker(\n",
        "        location=[row['geometry'].y, row['geometry'].x],  # Coordenadas do marcador\n",
        "        popup=row['potenciaou'],  # Informação da potência que será mostrada no pop-up\n",
        "        icon=folium.Icon(color='blue', icon='flash')  # Ícone azul com símbolo de 'flash'\n",
        "    ).add_to(mapa_hid)  # Adiciona o marcador ao mapa\n",
        "\n",
        "# Exibir o mapa\n",
        "mapa_hid"
      ]
    },
    {
      "cell_type": "markdown",
      "id": "f1210ceb",
      "metadata": {
        "id": "f1210ceb"
      },
      "source": [
        "É possível ainda alterar o dimensionamento da área gráfica da figura:"
      ]
    },
    {
      "cell_type": "code",
      "execution_count": null,
      "id": "fbca5871",
      "metadata": {
        "id": "fbca5871"
      },
      "outputs": [],
      "source": [
        "folium.Map(location=[latitude_central, longitude_central], zoom_start=7, width=600, height=400, control_scale=True)"
      ]
    },
    {
      "cell_type": "markdown",
      "id": "368f7a12",
      "metadata": {
        "id": "368f7a12"
      },
      "source": [
        "Nesse Código, width=600 e height=400 definem as dimensões do mapa em pixels. Neste caso, o mapa terá uma largura de 600 pixels e uma altura de 400 pixels.\n",
        "<br><br>\n",
        "\n",
        "Exemplo 2: Criar a visualização interativa de uma geometria do tipo ‘linha’: a BR-116."
      ]
    },
    {
      "cell_type": "code",
      "execution_count": null,
      "id": "c7873ca1",
      "metadata": {
        "id": "c7873ca1"
      },
      "outputs": [],
      "source": [
        "# Ler o arquivo shapefile e armazenar no GeoDataFrame\n",
        "gdf = gpd.read_file('/content/drive/MyDrive/files/cap6/f18/br116.shp')\n",
        "\n",
        "# Calcular o ponto central da união das geometrias no GeoDataFrame\n",
        "center = gdf.geometry.unary_union.centroid\n",
        "\n",
        "# Obter a latitude e longitude desse ponto central\n",
        "latitude_central = center.y\n",
        "longitude_central = center.x\n",
        "\n",
        "# Converter o GeoDataFrame para formato JSON\n",
        "gdf.crs = 'EPSG:4326'\n",
        "gdf.to_json()\n",
        "gdf_json = gdf.to_json()\n",
        "\n",
        "# Criar um objeto de feature GeoJson a partir do gdf convertido em JSON\n",
        "gdf_ftrs = folium.features.GeoJson(gdf_json)\n",
        "\n",
        "# Inicializar o mapa folium centrado na latitude e longitude calculadas\n",
        "# Nível de zoom inicial de 4\n",
        "mapabr = folium.Map(location=[latitude_central, longitude_central],\n",
        "    zoom_start=4)\n",
        "\n",
        "# Adicionar o GeoJson (que representa a BR-116) ao mapa\n",
        "mapabr.add_child(gdf_ftrs)\n",
        "\n",
        "# Exibir o mapa\n",
        "mapabr"
      ]
    },
    {
      "cell_type": "markdown",
      "id": "3290ccb5",
      "metadata": {
        "id": "3290ccb5"
      },
      "source": [
        "Exemplo 3: Criar uma visualização com os municípios do estado do Amapá (dados do tipo ‘polígono’), introduzindo algumas possibilidades de configuração adicional."
      ]
    },
    {
      "cell_type": "code",
      "execution_count": null,
      "id": "5c356e6d",
      "metadata": {
        "id": "5c356e6d"
      },
      "outputs": [],
      "source": [
        "# Ler o arquivo shapefile e armazenar no GeoDataFrame\n",
        "amapa = gpd.read_file('/content/drive/MyDrive/files/cap6/f26/censo_mun_AP.shp')\n",
        "\n",
        "# Calcular o ponto central (centroid) da união de todas as geometrias no GeoDataFrame\n",
        "center = amapa.geometry.unary_union.centroid\n",
        "\n",
        "# Obter a latitude e longitude desse ponto central\n",
        "latitude_central = center.y\n",
        "longitude_central = center.x\n",
        "\n",
        "# Converter o GeoDataFrame para formato JSON (útil para visualização em algumas bibliotecas)\n",
        "amapa.crs = 'EPSG:4326'\n",
        "amapa.to_json()\n",
        "amapa_json = amapa.to_json()\n",
        "# Criar um objeto de feature GeoJson a partir do GeoDataFrame convertido em JSON\n",
        "amapa_ftrs = folium.features.GeoJson(amapa_json)\n",
        "\n",
        "# Inicializar um mapa folium centrado na latitude e longitude calculadas com um nível de zoom inicial de 7\n",
        "# Utilizar o serviço de imagens do mundo do ArcGIS como tiles de fundo\n",
        "mapa_AP = folium.Map(location=[latitude_central, longitude_central], zoom_start=7,\n",
        "        control_scale=True, attr='ESRI World Imagery',\n",
        "        tiles=\n",
        "        'http://services.arcgisonline.com/ArcGIS/rest/services/World_Imagery/MapServer/tile/{z}/{y}/{x}')\n",
        "\n",
        "# Adicionar o GeoJson (que representa os municípios do Amapá) ao mapa\n",
        "mapa_AP.add_child(amapa_ftrs)\n",
        "\n",
        "# Exibir o mapa\n",
        "mapa_AP"
      ]
    },
    {
      "cell_type": "markdown",
      "id": "26ff9d20",
      "metadata": {
        "id": "26ff9d20"
      },
      "source": [
        "Vamos alterar o código anterior, especificando a cor e a espessura da linha de borda e a cor de preenchimento dos municípios:"
      ]
    },
    {
      "cell_type": "code",
      "execution_count": null,
      "id": "cb0da435",
      "metadata": {
        "id": "cb0da435"
      },
      "outputs": [],
      "source": [
        "# Criar uma função para estilizar as geometrias referentes aos municípios.\n",
        "# A função especifica a cor da borda, a espessura da borda e a cor de preenchimento.\n",
        "def estilo_mun(ftr):\n",
        "    return({'color':'red', 'weight':1, 'fillColor':'purple'})\n",
        "\n",
        "# Converter o GeoDataFrame 'amapa' para formato JSON.\n",
        "\n",
        "amapa_json = amapa.to_json()\n",
        "\n",
        "# Criar o objeto de feature GeoJson a partir do GeoDataFrame convertido em JSON. E:\n",
        "# - Definir o nome da layer como 'municipio'.\n",
        "# - Adicionar um tooltip que mostra informações dos municípios ao passar o mouse sobre eles.\n",
        "# - Aplicar a função de estilo estilo_mun a cada município.\n",
        "amapa_ftrs = folium.features.GeoJson(amapa_json,\n",
        "    name='municipio',\n",
        "    tooltip=folium.features.GeoJsonTooltip(['municipio', 'pop_2010', 'pop_2021', 'dif_pop']),\n",
        "    style_function=estilo_mun)\n",
        "\n",
        "# Adicionar o GeoJson ao mapa previamente criado.\n",
        "mapa_AP.add_child(amapa_ftrs)\n",
        "\n",
        "# Exibir o mapa.\n",
        "mapa_AP"
      ]
    },
    {
      "cell_type": "markdown",
      "id": "cac10903",
      "metadata": {
        "id": "cac10903"
      },
      "source": [
        "A partir das alterações realizadas no código, é possível visualizar as geometrias referentes aos municípios do estado do Amapá com outra configuração. Além disso, podemos verificar os dados sobre a população em 2010 e 2021 e a sua alteração (em porcentagem).\n",
        "\n",
        "\n",
        "É possível criar estilos de visualização diferentes, com base na seleção de propriedades ou atributos. Nesse exemplo, vamos criar uma função que verifica o nome do município e, se for 'Macapá', aplica estilo específico. Caso contrário, aplica um estilo padrão para os outros municípios."
      ]
    },
    {
      "cell_type": "code",
      "execution_count": null,
      "id": "ebf947c3",
      "metadata": {
        "id": "ebf947c3"
      },
      "outputs": [],
      "source": [
        "def estilo_mun(ftr):\n",
        "    # Verificar se o município é 'Macapá'\n",
        "    if ftr['properties']['municipio']=='Macapá':\n",
        "        # Estilo para o município 'Macapá'\n",
        "        return {'color':'red', 'weight':4, 'fillColor':'green'}\n",
        "    else:\n",
        "        #Estilo padrão para os outros municípios\n",
        "        return {'color':'black', 'weight':2, 'fillColor':'purple'}\n",
        "\n",
        "amapa_json = amapa.to_json()\n",
        "\n",
        "amapa_ftrs = folium.features.GeoJson(amapa_json,\n",
        "    name='municipio',\n",
        "    tooltip=folium.features.GeoJsonTooltip(['municipio', 'pop_2010',\n",
        "        'pop_2021', 'dif_pop']),\n",
        "    style_function=estilo_mun)\n",
        "\n",
        "mapa_AP.add_child(amapa_ftrs)\n",
        "mapa_AP"
      ]
    },
    {
      "cell_type": "markdown",
      "id": "6f7c0a53",
      "metadata": {
        "id": "6f7c0a53"
      },
      "source": [
        "No próximo exemplo, vamos aplicar um estilo com cor de preenchimento aleatória a cada município do Amapá, enquanto a cor de borda e a espessura serão as mesmas para todos:"
      ]
    },
    {
      "cell_type": "code",
      "execution_count": null,
      "id": "5dd74a9b",
      "metadata": {
        "id": "5dd74a9b"
      },
      "outputs": [],
      "source": [
        "# Importar o módulo random, que permite fazer escolhas aleatórias\n",
        "import random\n",
        "\n",
        "# Definir uma função para estilizar as geometrias (municípios) no mapa.\n",
        "# A cor de preenchimento de cada município é determinada aleatoriamente\n",
        "# a partir de uma lista de cores.\n",
        "def estilo_mun(ftr):\n",
        "    # Definir uma lista de cores que podem ser escolhidas.\n",
        "    cores = ['grey', 'orange', 'yellow', 'violet', 'blue', 'green', 'indigo']\n",
        "\n",
        "    # Retornar o estilo para o município. A cor de preenchimento é selecionada\n",
        "    # aleatoriamente. A cor de contorno é definida como preta e a espessura do\n",
        "    # contorno como 2.\n",
        "    return {'color': 'black', 'weight': 2, 'fillColor': random.choice(cores)}\n",
        "\n",
        "amapa_json = amapa.to_json()\n",
        "amapa_ftrs = folium.features.GeoJson(\n",
        "    amapa_json,\n",
        "    name='municipio',\n",
        "    tooltip=folium.features.GeoJsonTooltip(['municipio', 'pop_2010', 'pop_2021',\n",
        "        'dif_pop']),\n",
        "    style_function=estilo_mun\n",
        ")\n",
        "\n",
        "mapa_AP.add_child(amapa_ftrs)\n",
        "mapa_AP"
      ]
    },
    {
      "cell_type": "markdown",
      "id": "8944cfb0",
      "metadata": {
        "id": "8944cfb0"
      },
      "source": [
        "Por fim, vamos gerar um mapa interativo que mostra os municípios do estado do Amapá e as estações fluviométricas da Agência Nacional de Águas (ANA), com estilizações e tooltips específicos:"
      ]
    },
    {
      "cell_type": "code",
      "execution_count": null,
      "id": "9cf07e1d",
      "metadata": {
        "id": "9cf07e1d"
      },
      "outputs": [],
      "source": [
        "# Carregar o shapefile que contém informações sobre as estações\n",
        "# fluviométricas da ANA\n",
        "ANA = gpd.read_file('/content/drive/MyDrive/files/cap6/f27/ANA_estacoes.shp')\n",
        "\n",
        "# Definir uma função para estilizar as geometrias dos municípios.\n",
        "def estilo_mun(ftr):\n",
        "    # Retornar o estilo que será aplicado aos municípios.\n",
        "    return({'color':'red', 'weight':1, 'fillColor':'purple'})\n",
        "\n",
        "amapa_json = amapa.to_json()\n",
        "amapa_ftrs = folium.features.GeoJson(\n",
        "    amapa_json,\n",
        "    name='municipio',\n",
        "    tooltip=folium.features.GeoJsonTooltip(['municipio',\n",
        "        'pop_2010', 'pop_2021', 'dif_pop']),\n",
        "    style_function=estilo_mun)\n",
        "\n",
        "ANA.crs = 'EPSG:4326'\n",
        "\n",
        "ANA_json = ANA.to_json()\n",
        "\n",
        "# Criar uma camada GeoJson para as estações fluviométricas da ANA.\n",
        "# Tooltips são adicionadas para mostrar informações adicionais sobre\n",
        "# uma estação.\n",
        "ANA_ftrs = folium.features.GeoJson(\n",
        "    ANA_json,\n",
        "    name='Estações fluviométricas ANA',\n",
        "    tooltip=folium.features.GeoJsonTooltip(['Codigo', 'Rios',\n",
        "        'Operador']))\n",
        "\n",
        "# Inicializar um mapa interativo da Folium. # Definir a localização\n",
        "# central e o zoom. O mapa também usará tiles de imagens da ESRI.\n",
        "mapa_AP = folium.Map(\n",
        "    location=[latitude_central, longitude_central],\n",
        "    zoom_start=7,\n",
        "    control_scale=True,\n",
        "    attr='ESRI World Imagery',\n",
        "    tiles=\n",
        "    'http://services.arcgisonline.com/ArcGIS/rest/services/World_Imagery/MapServer/tile/{z}/{y}/{x}')\n",
        "\n",
        "# Adicionando a camada de municípios ao mapa.\n",
        "mapa_AP.add_child(amapa_ftrs)\n",
        "\n",
        "# Adicionando a camada de estações fluviométricas da ANA ao mapa.\n",
        "mapa_AP.add_child(ANA_ftrs)\n",
        "\n",
        "# Exibindo o mapa.\n",
        "mapa_AP"
      ]
    },
    {
      "cell_type": "markdown",
      "id": "5fe37487",
      "metadata": {
        "id": "5fe37487"
      },
      "source": [
        "Nesta visualização interativa, podemos verificar tanto dados referentes à população dos municípios quanto dados das estações da ANA."
      ]
    }
  ],
  "metadata": {
    "kernelspec": {
      "display_name": "Python 3",
      "language": "python",
      "name": "python3"
    },
    "colab": {
      "provenance": []
    }
  },
  "nbformat": 4,
  "nbformat_minor": 5
}