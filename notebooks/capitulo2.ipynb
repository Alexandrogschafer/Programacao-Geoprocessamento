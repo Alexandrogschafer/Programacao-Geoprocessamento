{
  "cells": [
    {
      "cell_type": "markdown",
      "id": "098e951d",
      "metadata": {
        "id": "098e951d"
      },
      "source": [
        "# 2. FUNDAMENTOS DA LINGUAGEM PYTHON\n",
        "\n",
        "\n",
        "## 2.1 Sintaxe básica: variáveis, operadores, expressões\n",
        "\n",
        "O entendimento da sintaxe básica do Python é fundamental para começar a programar nesta linguagem, especialmente em aplicações voltadas para o geoprocessamento. Nesta seção abordaremos três elementos essenciais da sintaxe do Python: variáveis, operadores e expressões.\n",
        "\n",
        "### 2.1.1 Variáveis\n",
        "\n",
        "Em Python, as variáveis são usadas para armazenar informações que podem ser referenciadas e manipuladas em um programa. A atribuição de valores a variáveis em Python é feita usando o operador “=”, e não é necessário declarar explicitamente o tipo da variável, já que Python é uma linguagem de tipagem dinâmica. São exemplos de variáveis:"
      ]
    },
    {
      "cell_type": "code",
      "execution_count": null,
      "id": "6d55000e",
      "metadata": {
        "id": "6d55000e"
      },
      "outputs": [],
      "source": [
        "x = 10\n",
        "y = 8\n",
        "nome = 'Ana'\n",
        "idade = 30\n",
        "altura_metros = 1.75"
      ]
    },
    {
      "cell_type": "markdown",
      "id": "d72f10a4",
      "metadata": {
        "id": "d72f10a4"
      },
      "source": [
        "<br>\n",
        "\n",
        "Tipagem dinâmica refere-se ao mecanismo pelo qual o tipo de uma variável é determinado em tempo de execução, ao contrário da tipagem estática, onde o tipo de uma variável é determinado em tempo de compilação. Em linguagens com tipagem dinâmica, o tipo de uma variável pode mudar durante a execução do programa, dependendo do valor que lhe é atribuído.\n",
        "\n",
        "Cada linguagem de programação possui suas próprias regras e convenções para nomear variáveis, mas existem algumas práticas gerais recomendadas:\n",
        "\n",
        "*Regras comuns:*\n",
        "\n",
        "- O nome geralmente começa com uma letra ou sublinhado (_);\n",
        "\n",
        "- Pode conter letras (maiúsculas ou minúsculas), números ou sublinhados;\n",
        "\n",
        "- Não deve conter espaços ou caracteres especiais;\n",
        "\n",
        "- Não deve ser uma palavra reservada da linguagem.\n",
        "<br>\n",
        "\n",
        "*Convenções (de acordo com PEP 8)*\n",
        "\n",
        "O PEP 8 é a convenção de estilo para o código Python. PEP é uma sigla para \"Python Enhancement Proposal\" (Proposta de Melhoria do Python), e o número 8 refere-se ao número específico deste PEP. O PEP 8 fornece um conjunto de regras e recomendações para formatar o código Python, tornando-o mais legível e consistente em toda a comunidade Python.\n",
        "\n",
        "- Nomes de Variáveis: devem ser escritos em letras minúsculas, com palavras separadas por sublinhados. Exemplo: minha_variavel, contador, taxa_de_juros;\n",
        "\n",
        "- Variáveis Privadas: Para variáveis que são destinadas a uso interno dentro de um módulo ou classe e que não devem ser acessadas diretamente de fora, é comum usar um sublinhado antes do nome, como _variavel_privada;\n",
        "\n",
        "- Variáveis Muito Privadas: Se um nome de variável começa com dois sublinhados __, indica que a variável é \"muito privada\" e, geralmente, é usada para evitar conflitos de nome em subclasses;\n",
        "\n",
        "- Variáveis de Sistema: Se um nome de variável termina com dois sublinhados, é uma variável de sistema ou \"mágica\" que tem um uso especial em Python, como __init__, __name__, etc;\n",
        "\n",
        "- Constantes: Constantes são geralmente declaradas em letras maiúsculas com palavras separadas por sublinhados, por exemplo: PI, TAXA_FIXA;\n",
        "\n",
        "- Evitar o uso de l (letra 'el' minúscula) e O (letra 'o' maiúscula): Estes podem ser confundidos com o número 1 e 0, respectivamente.\n",
        "<br>\n",
        "\n",
        "*Atribuição de valores a variáveis*\n",
        "\n",
        "Atribuição de valores a variáveis é o processo de guardar um valor em uma variável. Em muitas linguagens de programação, incluindo Python, o operador de atribuição é o sinal de igual (=). Isso significa que você está associando um valor à variável à esquerda do sinal de igual.\n",
        "\n",
        "Em Python, a operação de atribuição cria uma referência entre o nome da variável e o valor ou objeto. Portanto, a variável não contém o valor em si, mas sim uma referência para o valor.\n",
        "<br>\n",
        "\n",
        "*Atribuição simples*\n",
        "\n",
        "A atribuição simples é o método mais básico e direto de associar um valor a uma variável. Na atribuição simples, utilizamos o operador “=” para designar um valor a uma variável.\n",
        "\n",
        "A sintaxe básica é:\n",
        "```nome_da_variavel = valor```\n",
        "\n",
        "Aqui estão alguns exemplos usando Python:"
      ]
    },
    {
      "cell_type": "code",
      "execution_count": null,
      "id": "c0a22bf9",
      "metadata": {
        "id": "c0a22bf9"
      },
      "outputs": [],
      "source": [
        "x = 15             # Atribui o valor inteiro 15 à variável x\n",
        "\n",
        "altura = 1.80      # Atribui o valor real 1.80 à variável altura\n",
        "\n",
        "nome = 'Julia'     # Atribui a string 'Julia' à variável nome\n",
        "\n",
        "ativo = True       # Atribui o valor booleano True (verdadeiro) à variável ativo"
      ]
    },
    {
      "cell_type": "markdown",
      "id": "4e7070af",
      "metadata": {
        "id": "4e7070af"
      },
      "source": [
        "<br>\n",
        "\n",
        "Em linguagens com tipagem dinâmica, como Python, o tipo da variável é determinado automaticamente com base no valor atribuído. Assim, você não precisa declarar explicitamente o tipo da variável ao criá-la.\n",
        "\n",
        "A principal coisa a lembrar sobre a atribuição simples é que ela designa um valor à variável, e a variável passa a referenciar esse valor. Se o valor for um objeto, a variável não contém o objeto em si, mas sim uma referência a ele."
      ]
    },
    {
      "cell_type": "code",
      "execution_count": null,
      "id": "33d362e3",
      "metadata": {
        "id": "33d362e3"
      },
      "outputs": [],
      "source": [
        "nome = 'Ana'            # A variável 'nome' recebe o valor 'Ana'.\n",
        "\n",
        "idade = 30                 # A variável 'idade' recebe o valor '30'.\n",
        "\n",
        "altura_metros = 1.75       # A variável 'altura_metros' recebe o valor '1.75'.\n",
        "\n",
        "estudante = True           # A variável 'estudante' recebe o valor 'True'.\n",
        "\n",
        "notas = [90, 85, 88, 76]   # A variável 'notas' recebe a lista de valores '[90, 85, 88, 76]'"
      ]
    },
    {
      "cell_type": "markdown",
      "id": "c14efa37",
      "metadata": {
        "id": "c14efa37"
      },
      "source": [
        "<br>\n",
        "\n",
        "Uma vez que uma variável é nomeada, seu nome não pode ser alterado. No entanto, o valor associado a essa variável pode."
      ]
    },
    {
      "cell_type": "code",
      "execution_count": null,
      "id": "61def825",
      "metadata": {
        "id": "61def825"
      },
      "outputs": [],
      "source": [
        "x = 10  # A variável 'x' recebe o valor 10.\n",
        "\n",
        "x = 20  # O valor de 'x' é alterado para 20, mas seu nome permanece 'x'."
      ]
    },
    {
      "cell_type": "markdown",
      "id": "63b50fc2",
      "metadata": {
        "id": "63b50fc2"
      },
      "source": [
        "<br>\n",
        "\n",
        "*Atribuição múltipla*\n",
        "\n",
        "A atribuição múltipla é uma característica disponível em algumas linguagens de programação, incluindo o Python, que permite que você atribua valores a várias variáveis simultaneamente em uma única instrução. Vamos ver como a atribuição múltipla funciona em Python:"
      ]
    },
    {
      "cell_type": "code",
      "execution_count": null,
      "id": "342aab52",
      "metadata": {
        "id": "342aab52"
      },
      "outputs": [],
      "source": [
        "x, y, z = 15, 25, 35"
      ]
    },
    {
      "cell_type": "markdown",
      "id": "51640fa5",
      "metadata": {
        "id": "51640fa5"
      },
      "source": [
        "<br>\n",
        "\n",
        "Neste caso, x receberá o valor 15, y receberá o valor 25, e z receberá o valor 35.\n",
        "\n",
        "Uma das vantagens da atribuição múltipla é a facilidade com que você pode trocar valores entre duas variáveis."
      ]
    },
    {
      "cell_type": "code",
      "execution_count": null,
      "id": "253802cf",
      "metadata": {
        "id": "253802cf"
      },
      "outputs": [],
      "source": [
        "x = 7\n",
        "y = 12\n",
        "x, y = y, x\n",
        "print('O valor de x é:', x)\n",
        "print('O valor de y é:', y)"
      ]
    },
    {
      "cell_type": "markdown",
      "id": "11c84360",
      "metadata": {
        "id": "11c84360"
      },
      "source": [
        "<br>\n",
        "\n",
        "A atribuição múltipla torna o código mais conciso e, em muitos casos, mais legível, especialmente quando usada de maneira apropriada e não excessiva.\n",
        "\n",
        "\n",
        "\n",
        "### 2.1.2 Operadores: aritméticos, comparação, lógicos\n",
        "\n",
        "*Operadores aritméticos*\n",
        "\n",
        "Os operadores aritméticos são usados em Python para realizar operações matemáticas entre valores ou variáveis. Eles são fundamentais em qualquer linguagem de programação e formam a base para cálculos numéricos. O quadro 1 traz os principais operadores aritméticos em Python.\n",
        "\n",
        "\n",
        "Adição:"
      ]
    },
    {
      "cell_type": "code",
      "execution_count": null,
      "id": "58a1414c",
      "metadata": {
        "id": "58a1414c"
      },
      "outputs": [],
      "source": [
        "7 + 4"
      ]
    },
    {
      "cell_type": "markdown",
      "id": "7a0d87b8",
      "metadata": {
        "id": "7a0d87b8"
      },
      "source": [
        "Subtração:"
      ]
    },
    {
      "cell_type": "code",
      "execution_count": null,
      "id": "ac31fb0d",
      "metadata": {
        "id": "ac31fb0d"
      },
      "outputs": [],
      "source": [
        "7 - 4"
      ]
    },
    {
      "cell_type": "markdown",
      "id": "f627d668",
      "metadata": {
        "id": "f627d668"
      },
      "source": [
        "Multiplicação:"
      ]
    },
    {
      "cell_type": "code",
      "execution_count": null,
      "id": "cb6b1db2",
      "metadata": {
        "id": "cb6b1db2"
      },
      "outputs": [],
      "source": [
        "7 * 4"
      ]
    },
    {
      "cell_type": "markdown",
      "id": "9654c323",
      "metadata": {
        "id": "9654c323"
      },
      "source": [
        "Divisão:"
      ]
    },
    {
      "cell_type": "code",
      "execution_count": null,
      "id": "fea309e4",
      "metadata": {
        "id": "fea309e4"
      },
      "outputs": [],
      "source": [
        "9 / 4"
      ]
    },
    {
      "cell_type": "markdown",
      "id": "f1193a08",
      "metadata": {
        "id": "f1193a08"
      },
      "source": [
        "Divisão inteira: Realiza a divisão entre operandos, retornando somente a parte inteira do quociente."
      ]
    },
    {
      "cell_type": "code",
      "execution_count": null,
      "id": "7beeb794",
      "metadata": {
        "id": "7beeb794"
      },
      "outputs": [],
      "source": [
        "9 // 4"
      ]
    },
    {
      "cell_type": "markdown",
      "id": "ffc348b9",
      "metadata": {
        "id": "ffc348b9"
      },
      "source": [
        "Módulo: Retorna o resto da divisão entre operandos."
      ]
    },
    {
      "cell_type": "code",
      "execution_count": null,
      "id": "a2238f3f",
      "metadata": {
        "id": "a2238f3f"
      },
      "outputs": [],
      "source": [
        "9 % 4"
      ]
    },
    {
      "cell_type": "markdown",
      "id": "24e3c303",
      "metadata": {
        "id": "24e3c303"
      },
      "source": [
        "Exponenciação:"
      ]
    },
    {
      "cell_type": "code",
      "execution_count": null,
      "id": "e72af910",
      "metadata": {
        "id": "e72af910"
      },
      "outputs": [],
      "source": [
        "7 ** 4"
      ]
    },
    {
      "cell_type": "markdown",
      "id": "35b9975d",
      "metadata": {
        "id": "35b9975d"
      },
      "source": [
        "Radiciação:"
      ]
    },
    {
      "cell_type": "code",
      "execution_count": null,
      "id": "bb32534e",
      "metadata": {
        "id": "bb32534e"
      },
      "outputs": [],
      "source": [
        "9 ** 0.5"
      ]
    },
    {
      "cell_type": "markdown",
      "id": "6585c111",
      "metadata": {
        "id": "6585c111"
      },
      "source": [
        "É importante notar que a ordem das operações segue a precedência matemática padrão. Por exemplo, a multiplicação e a divisão são avaliadas antes da adição e subtração. Se desejar modificar a ordem das operações, pode usar parênteses. Por exemplo:"
      ]
    },
    {
      "cell_type": "code",
      "execution_count": null,
      "id": "52ffd2a9",
      "metadata": {
        "id": "52ffd2a9"
      },
      "outputs": [],
      "source": [
        "(5 + 3) * 2"
      ]
    },
    {
      "cell_type": "code",
      "execution_count": null,
      "id": "03a537fe",
      "metadata": {
        "id": "03a537fe"
      },
      "outputs": [],
      "source": [
        "5 + 3 * 2"
      ]
    },
    {
      "cell_type": "markdown",
      "id": "48e8d989",
      "metadata": {
        "id": "48e8d989"
      },
      "source": [
        "<br>\n",
        "\n",
        "*Operadores de comparação*\n",
        "\n",
        "Os operadores de comparação em Python são usados para comparar dois valores e retornar um valor booleano (True ou False) com base no resultado da comparação. Eles são fundamentais para estruturas de controle condicional, como instruções if, elif e else. O quadro 2 traz os principais operadores de comparação em Python.\n",
        "\n",
        "Igual a:"
      ]
    },
    {
      "cell_type": "code",
      "execution_count": null,
      "id": "a7536a21",
      "metadata": {
        "id": "a7536a21"
      },
      "outputs": [],
      "source": [
        "6 == 6"
      ]
    },
    {
      "cell_type": "markdown",
      "id": "4442032f",
      "metadata": {
        "id": "4442032f"
      },
      "source": [
        "Diferente de:"
      ]
    },
    {
      "cell_type": "code",
      "execution_count": null,
      "id": "ad8038b9",
      "metadata": {
        "id": "ad8038b9"
      },
      "outputs": [],
      "source": [
        "6 != 6"
      ]
    },
    {
      "cell_type": "markdown",
      "id": "90d87928",
      "metadata": {
        "id": "90d87928"
      },
      "source": [
        "Menor que:"
      ]
    },
    {
      "cell_type": "code",
      "execution_count": null,
      "id": "8fba03d0",
      "metadata": {
        "id": "8fba03d0"
      },
      "outputs": [],
      "source": [
        "5 < 6"
      ]
    },
    {
      "cell_type": "markdown",
      "id": "2c3bd89b",
      "metadata": {
        "id": "2c3bd89b"
      },
      "source": [
        "Maior que:"
      ]
    },
    {
      "cell_type": "code",
      "execution_count": null,
      "id": "5997eda9",
      "metadata": {
        "id": "5997eda9"
      },
      "outputs": [],
      "source": [
        "5 > 6"
      ]
    },
    {
      "cell_type": "markdown",
      "id": "54d2cb41",
      "metadata": {
        "id": "54d2cb41"
      },
      "source": [
        "Menor ou igual a:"
      ]
    },
    {
      "cell_type": "code",
      "execution_count": null,
      "id": "220f753e",
      "metadata": {
        "id": "220f753e"
      },
      "outputs": [],
      "source": [
        "6 <= 6"
      ]
    },
    {
      "cell_type": "markdown",
      "id": "7a0cca9b",
      "metadata": {
        "id": "7a0cca9b"
      },
      "source": [
        "Maior ou igual a:"
      ]
    },
    {
      "cell_type": "code",
      "execution_count": null,
      "id": "66634091",
      "metadata": {
        "id": "66634091"
      },
      "outputs": [],
      "source": [
        "6 >= 8"
      ]
    },
    {
      "cell_type": "markdown",
      "id": "bcd16e18",
      "metadata": {
        "id": "bcd16e18"
      },
      "source": [
        "<br>\n",
        "\n",
        "*Operadores lógicos*\n",
        "\n",
        "Os operadores lógicos são usados para avaliar múltiplas condições ou combinar o resultado de diferentes comparações, resultando em um valor booleano (True ou False). O quadro 3 traz os operadores lógicos em Python.\n",
        "\n",
        "Operador and: Retorna True se ambas as condições forem verdadeiras."
      ]
    },
    {
      "cell_type": "code",
      "execution_count": null,
      "id": "e08056f3",
      "metadata": {
        "id": "e08056f3"
      },
      "outputs": [],
      "source": [
        "idadeLuiza = 19\n",
        "idadePietra = 14"
      ]
    },
    {
      "cell_type": "markdown",
      "id": "058a1d57",
      "metadata": {
        "id": "058a1d57"
      },
      "source": [
        "Operador or: Retorna True se pelo menos uma das condições for verdadeira."
      ]
    },
    {
      "cell_type": "code",
      "execution_count": null,
      "id": "130f7943",
      "metadata": {
        "id": "130f7943"
      },
      "outputs": [],
      "source": [
        "idadeLuiza >= 18 and idadePietra >= 18"
      ]
    },
    {
      "cell_type": "markdown",
      "id": "2035fad0",
      "metadata": {
        "id": "2035fad0"
      },
      "source": [
        "Operador not: Inverte o valor booleano."
      ]
    },
    {
      "cell_type": "code",
      "execution_count": null,
      "id": "769648e5",
      "metadata": {
        "id": "769648e5"
      },
      "outputs": [],
      "source": [
        "idadeLuiza >= 18 or idadePietra >= 18"
      ]
    },
    {
      "cell_type": "markdown",
      "id": "a7a6060b",
      "metadata": {
        "id": "a7a6060b"
      },
      "source": [
        "Esses operadores são essenciais para controle de fluxo em programação, permitindo combinações complexas de condições em estruturas como if, while, entre outras. A capacidade de avaliar e combinar condições é uma parte fundamental da lógica de programação. No decorrer de nosso curso, aprofundaremos nosso estudo sobre os operadores, contemplando ainda os operadores de atribuição, de identidade e de associação.\n",
        "\n",
        "\n",
        "### 2.1.3 Expressões\n",
        "\n",
        "Expressões em Python referem-se a combinações de valores, variáveis e operadores que são avaliadas pelo interpretador Python para produzir um resultado. Em termos simples, uma expressão é como uma instrução matemática que o Python resolve e retorna um valor. No contexto de uma expressão:\n",
        "<br>\n",
        "\n",
        "- Valores: São os dados básicos com os quais trabalhamos, como números (2, 4.5) ou strings (\"geoprocessamento\", \"Python\").\n",
        "\n",
        "- Operadores: São símbolos que realizam operações sobre valores, como adição (“+”), subtração (“-”), multiplicação (“*”), divisão (“/”) e muitos outros. Exemplo: “3 + 4” é uma expressão onde “3” e “4” são valores e “+” é um operador.\n",
        "<br>\n",
        "\n",
        "- Variáveis: São nomes que designam locais na memória para armazenar valores. Uma vez que um valor é atribuído a uma variável, a variável pode ser usada em expressões. Exemplo: “x = 5” (Aqui, “x” é uma variável e “5” é um valor. Depois disso, é possível usar “x” em expressões como “x + 2”.)\n",
        "<br>\n",
        "\n",
        "- Funções: são blocos de código reutilizáveis que realizam uma tarefa específica. Em expressões, funções podem ser usadas para processar valores e produzir resultados. Exemplo: “print(\"Geoprocessamento com Python\")” (Aqui, “print” é uma função que exibe seu argumento.)\n",
        "<br>\n",
        "\n",
        "- Avaliação: Quando o Python encontra uma expressão, seja em um script ou no terminal interativo, ele avalia (ou calcula) a expressão e retorna um resultado. Exemplo: Na expressão “7 * 6”, o Python avaliará isso e retornará “42”.\n",
        "\n",
        "\n",
        "## 2.2 Tipos básicos de dados\n",
        "\n",
        "Os tipos básicos de dados (figura 1), também conhecidos como tipos primitivos ou fundamentais, referem-se às categorias mais simples e fundamentais de informações que uma linguagem de programação pode representar e manipular diretamente. Em Python, os principais tipos básicos de dados são: Inteiros, Ponto Flutuante, Strings, Booleanos e Bytes. Esses tipos de dados são a base para a representação e manipulação de informações em Python. O entendimento desses tipos básicos é essencial, pois eles são frequentemente usados em combinação com as estruturas mais avançadas.\n",
        "\n",
        "![Figura 1](https://github.com/Alexandrogschafer/Programacao-Geoprocessamento/blob/gh-pages/notebooks/images/fig1.png?raw=1)\n",
        "\n",
        "Figura 1: Tipos básicos de dados em Python.\n",
        "\n",
        "\n",
        "\n",
        "### 2.2.1 Inteiros\n",
        "\n",
        "Inteiros são números sem uma parte fracionária, podendo ser positivos, negativos ou zero. Eles são fundamentais na matemática e na ciência da computação e são um dos tipos de dados primitivos mais comuns em linguagens de programação. Em Python, o tipo para inteiros é int.\n",
        "<br>\n",
        "\n",
        "*Características dos Inteiros:*\n",
        "\n",
        "- Natureza: não têm uma parte decimal. Podem ser tanto números positivos quanto negativos, incluindo o zero;\n",
        "\n",
        "- Operações Básicas: Com inteiros, você pode realizar operações aritméticas padrão como adição, subtração, multiplicação e divisão (embora a divisão de dois inteiros, em muitas linguagens de programação modernas, possa resultar em um número de ponto flutuante);\n",
        "\n",
        "- Tamanho e Limites: o tamanho (ou a quantidade de memória ocupada) por um inteiro pode variar, mas há um limite. Em versões recentes do Python, o tamanho dos inteiros é flexível e expande conforme necessário, mas é limitado pela quantidade de memória disponível.\n",
        "\n",
        "Exemplos:\n",
        "\n",
        "Definindo inteiros:"
      ]
    },
    {
      "cell_type": "code",
      "execution_count": null,
      "id": "4c12293d",
      "metadata": {
        "id": "4c12293d"
      },
      "outputs": [],
      "source": [
        "a = 5\n",
        "b = -3\n",
        "c = 0"
      ]
    },
    {
      "cell_type": "markdown",
      "id": "ffca09f8",
      "metadata": {
        "id": "ffca09f8"
      },
      "source": [
        "<br>\n",
        "\n",
        "Imprimindo o tipo para confirmar que são inteiros:"
      ]
    },
    {
      "cell_type": "code",
      "execution_count": null,
      "id": "54c43ad5",
      "metadata": {
        "id": "54c43ad5"
      },
      "outputs": [],
      "source": [
        "print(type(a))"
      ]
    },
    {
      "cell_type": "markdown",
      "id": "6e0e18b2",
      "metadata": {
        "id": "6e0e18b2"
      },
      "source": [
        "Operações básicas:"
      ]
    },
    {
      "cell_type": "code",
      "execution_count": null,
      "id": "97b9ac3c",
      "metadata": {
        "id": "97b9ac3c"
      },
      "outputs": [],
      "source": [
        "soma = a + b\n",
        "print(soma)"
      ]
    },
    {
      "cell_type": "code",
      "execution_count": null,
      "id": "2c41a227",
      "metadata": {
        "id": "2c41a227"
      },
      "outputs": [],
      "source": [
        "subtracao = a - b\n",
        "print(subtracao)"
      ]
    },
    {
      "cell_type": "code",
      "execution_count": null,
      "id": "09106bd2",
      "metadata": {
        "id": "09106bd2"
      },
      "outputs": [],
      "source": [
        "multiplicacao = a * b\n",
        "print(multiplicacao)"
      ]
    },
    {
      "cell_type": "code",
      "execution_count": null,
      "id": "b2edd2a5",
      "metadata": {
        "id": "b2edd2a5"
      },
      "outputs": [],
      "source": [
        "divisao = a / b\n",
        "print(divisao)"
      ]
    },
    {
      "cell_type": "markdown",
      "id": "c82b49d5",
      "metadata": {
        "id": "c82b49d5"
      },
      "source": [
        "No último exemplo, embora ambos a e b sejam inteiros, a divisão resulta em um número de ponto flutuante (float) em Python. Se você quiser um resultado inteiro da divisão (descartando a parte fracionária), pode usar o operador de divisão inteira:"
      ]
    },
    {
      "cell_type": "code",
      "execution_count": null,
      "id": "9a6dcdbc",
      "metadata": {
        "id": "9a6dcdbc"
      },
      "outputs": [],
      "source": [
        "divisao_inteira = a // b\n",
        "print(divisao_inteira)"
      ]
    },
    {
      "cell_type": "markdown",
      "id": "e70c1b18",
      "metadata": {
        "id": "e70c1b18"
      },
      "source": [
        "Além disso, Python oferece operadores específicos, como o operador módulo, que retorna o resto da divisão de dois inteiros:"
      ]
    },
    {
      "cell_type": "code",
      "execution_count": null,
      "id": "54dfd36e",
      "metadata": {
        "id": "54dfd36e"
      },
      "outputs": [],
      "source": [
        "resto = a % b\n",
        "print(resto)"
      ]
    },
    {
      "cell_type": "markdown",
      "id": "8ceb8edc",
      "metadata": {
        "id": "8ceb8edc"
      },
      "source": [
        "### 2.2.2 Floats (Números de Ponto Flutuante)\n",
        "\n",
        "São números que têm uma parte decimal. Eles são usados para representar quantidades que não são inteiras. Em termos técnicos, \"ponto flutuante\" refere-se à maneira como estes números são representados internamente e a operações que podem ser realizadas com eles. Em Python, o tipo para números de ponto flutuante é float.\n",
        "<br>\n",
        "\n",
        "*Características dos Floats:*\n",
        "\n",
        "- Natureza: Podem representar tanto números fracionários quanto inteiros;\n",
        "\n",
        "- Precisão: Devido à maneira como os floats são armazenados e representados internamente, eles têm uma precisão limitada, o que pode levar a pequenas imprecisões em cálculos;\n",
        "\n",
        "- Operações Básicas: Como os inteiros, os floats também suportam operações aritméticas padrão, como adição, subtração, multiplicação e divisão;\n",
        "\n",
        "- Representação: Em algumas situações, números que parecem ser simples podem ter representações imprecisas quando armazenados como floats. Por exemplo, 0.1 pode não ser armazenado exatamente como 0.1 devido à maneira como os números de ponto flutuante são representados.\n",
        "\n",
        "Exemplos:\n",
        "\n",
        "Definindo floats:"
      ]
    },
    {
      "cell_type": "code",
      "execution_count": null,
      "id": "6756ec77",
      "metadata": {
        "id": "6756ec77"
      },
      "outputs": [],
      "source": [
        "x = 3.14\n",
        "y = -0.001\n",
        "z = 2.0"
      ]
    },
    {
      "cell_type": "markdown",
      "id": "a9100b27",
      "metadata": {
        "id": "a9100b27"
      },
      "source": [
        "Imprimindo o tipo para confirmar que são floats:"
      ]
    },
    {
      "cell_type": "code",
      "execution_count": null,
      "id": "15b62355",
      "metadata": {
        "id": "15b62355"
      },
      "outputs": [],
      "source": [
        "print(type(x))"
      ]
    },
    {
      "cell_type": "markdown",
      "id": "c2ed6453",
      "metadata": {
        "id": "c2ed6453"
      },
      "source": [
        "Operações básicas:"
      ]
    },
    {
      "cell_type": "code",
      "execution_count": null,
      "id": "e16e62b9",
      "metadata": {
        "id": "e16e62b9"
      },
      "outputs": [],
      "source": [
        "soma = x + y\n",
        "print(soma)"
      ]
    },
    {
      "cell_type": "code",
      "execution_count": null,
      "id": "8c825f5e",
      "metadata": {
        "id": "8c825f5e"
      },
      "outputs": [],
      "source": [
        "multiplicacao = x * y\n",
        "print(multiplicacao)"
      ]
    },
    {
      "cell_type": "code",
      "execution_count": null,
      "id": "5715a3f3",
      "metadata": {
        "id": "5715a3f3"
      },
      "outputs": [],
      "source": [
        "divisao = x / z\n",
        "print(divisao)"
      ]
    },
    {
      "cell_type": "markdown",
      "id": "18183098",
      "metadata": {
        "id": "18183098"
      },
      "source": [
        "No contexto de aritmética de ponto flutuante em Python, é importante estar ciente da precisão. Veja o seguinte exemplo:"
      ]
    },
    {
      "cell_type": "code",
      "execution_count": null,
      "id": "ed6ccd46",
      "metadata": {
        "id": "ed6ccd46"
      },
      "outputs": [],
      "source": [
        "Saída = 0.1 + 0.1 + 0.1\n",
        "print(Saída)"
      ]
    },
    {
      "cell_type": "code",
      "execution_count": null,
      "id": "38b90d56",
      "metadata": {
        "id": "38b90d56"
      },
      "outputs": [],
      "source": [
        "print(Saída == 0.3)"
      ]
    },
    {
      "cell_type": "markdown",
      "id": "4dcdb0e1",
      "metadata": {
        "id": "4dcdb0e1"
      },
      "source": [
        "Saída pode ser 'False' devido a imprecisões de ponto flutuante.\n",
        "\n",
        "A maneira como os números de ponto flutuante é representada internamente pode levar a essa imprecisão. Em muitos casos, é aconselhável usar uma comparação com alguma \"margem de erro\" em vez de uma comparação direta:"
      ]
    },
    {
      "cell_type": "code",
      "execution_count": null,
      "id": "f8e1e013",
      "metadata": {
        "id": "f8e1e013"
      },
      "outputs": [],
      "source": [
        "epsilon = 0.00001\n",
        "print(abs(Saída - 0.3) < epsilon)"
      ]
    },
    {
      "cell_type": "markdown",
      "id": "efc557d1",
      "metadata": {
        "id": "efc557d1"
      },
      "source": [
        "<br>\n",
        "\n",
        "*Conversão entre tipos numéricos: inteiro e float*\n",
        "\n",
        "Em Python, é comum ser necessário converter valores entre diferentes tipos numéricos, especialmente entre int (números inteiros) e float (números de ponto flutuante). Para converter um número inteiro para um número de ponto flutuante, você pode usar a função float()."
      ]
    },
    {
      "cell_type": "code",
      "execution_count": null,
      "id": "778a13a9",
      "metadata": {
        "id": "778a13a9"
      },
      "outputs": [],
      "source": [
        "num_inteiro = 5\n",
        "num_float = float(num_inteiro)\n",
        "print(num_float)"
      ]
    },
    {
      "cell_type": "markdown",
      "id": "596ec84a",
      "metadata": {
        "id": "596ec84a"
      },
      "source": [
        "<br>\n",
        "\n",
        "*Conversão de float para int*\n",
        "\n",
        "Para converter um número de ponto flutuante para um inteiro, você pode usar a função int(). É importante notar que essa conversão simplesmente descarta a parte decimal do número, sem arredondá-la."
      ]
    },
    {
      "cell_type": "code",
      "execution_count": null,
      "id": "30febb14",
      "metadata": {
        "id": "30febb14"
      },
      "outputs": [],
      "source": [
        "num_float = 5.7\n",
        "num_inteiro = int(num_float)\n",
        "\n",
        "print(num_inteiro)"
      ]
    },
    {
      "cell_type": "markdown",
      "id": "bc3af975",
      "metadata": {
        "id": "bc3af975"
      },
      "source": [
        "<br>\n",
        "\n",
        "*Avisos:*\n",
        "\n",
        "- Ao converter de float para int, é importante lembrar que a parte decimal é truncada, não arredondada. Assim, 4.9 se tornará 4, e não 5.\n",
        "\n",
        "- A conversão de um número muito grande ou muito pequeno pode resultar em imprecisões. Sempre esteja ciente das limitações da precisão do ponto flutuante ao trabalhar com conversões.\n",
        "\n",
        "- É sempre uma boa prática verificar os valores antes de convertê-los para evitar erros em tempo de execução.\n",
        "\n",
        "Em algumas situações, você pode querer arredondar o número de ponto flutuante antes de convertê-lo para inteiro. Nesse caso, você pode usar a função round() para arredondar ao número inteiro mais próximo."
      ]
    },
    {
      "cell_type": "code",
      "execution_count": null,
      "id": "029a9eae",
      "metadata": {
        "id": "029a9eae"
      },
      "outputs": [],
      "source": [
        "num_float1 = 5.7\n",
        "num_inteiro1 = round(num_float1)"
      ]
    },
    {
      "cell_type": "code",
      "execution_count": null,
      "id": "6dfa3200",
      "metadata": {
        "id": "6dfa3200"
      },
      "outputs": [],
      "source": [
        "num_float2 = 5.2\n",
        "num_inteiro2 = round(num_float2)"
      ]
    },
    {
      "cell_type": "code",
      "execution_count": null,
      "id": "3e3d0fa7",
      "metadata": {
        "id": "3e3d0fa7"
      },
      "outputs": [],
      "source": [
        "print(num_inteiro1)"
      ]
    },
    {
      "cell_type": "code",
      "execution_count": null,
      "id": "7d872e36",
      "metadata": {
        "id": "7d872e36"
      },
      "outputs": [],
      "source": [
        "print(num_inteiro2)"
      ]
    },
    {
      "cell_type": "markdown",
      "id": "93538b5f",
      "metadata": {
        "id": "93538b5f"
      },
      "source": [
        "Em Python, a conversão de tipo pode ser feita de maneira implícita, ocorrendo automaticamente pelo interpretador sem a necessidade de ação direta do programador. Quando você realiza uma operação aritmética entre um int e um float, o Python converte automaticamente o int em float."
      ]
    },
    {
      "cell_type": "code",
      "execution_count": null,
      "id": "ec2c01de",
      "metadata": {
        "id": "ec2c01de"
      },
      "outputs": [],
      "source": [
        "inteiro = 3\n",
        "flutuante = 2.5\n",
        "Saída = inteiro + flutuante"
      ]
    },
    {
      "cell_type": "code",
      "execution_count": null,
      "id": "1dea7f42",
      "metadata": {
        "id": "1dea7f42"
      },
      "outputs": [],
      "source": [
        "print(Saída)"
      ]
    },
    {
      "cell_type": "code",
      "execution_count": null,
      "id": "89a0a752",
      "metadata": {
        "id": "89a0a752"
      },
      "outputs": [],
      "source": [
        "print(type(Saída))"
      ]
    },
    {
      "cell_type": "markdown",
      "id": "f243b66d",
      "metadata": {
        "id": "f243b66d"
      },
      "source": [
        "Note que a variável resultado é do tipo float mesmo que apenas um dos operandos fosse originalmente float.\n",
        "\n",
        "\n",
        "### 2.2.3 Booleanos\n",
        "\n",
        "Os booleanos são um tipo de dado que representa uma das duas possíveis verdades: verdadeiro ou falso. Em Python, essas verdades são representadas pelas palavras-chave True (verdadeiro) e False (falso). O tipo booleano é fundamental em programação, pois muitas decisões e operações lógicas são baseadas em testes que resultam em um valor verdadeiro ou falso. Em Python, o tipo para valores booleanos é bool.\n",
        "<br>\n",
        "\n",
        "*Características dos Booleanos:*\n",
        "\n",
        "- Simplicidade: Booleanos só têm dois possíveis valores: True ou False;\n",
        "\n",
        "- Operações Lógicas: Os booleanos são frequentemente usados com operadores lógicos, como and, or, e not, para criar expressões mais complexas;\n",
        "\n",
        "- Comparação: Operadores de comparação, como “==”, “!=”, “<”, “>”, “<=”, e “>=”, frequentemente resultam em valores booleanos.\n",
        "\n",
        "Exemplos de código:\n",
        "\n",
        "Definindo booleanos"
      ]
    },
    {
      "cell_type": "code",
      "execution_count": null,
      "id": "76914ae0",
      "metadata": {
        "id": "76914ae0"
      },
      "outputs": [],
      "source": [
        "esta_feliz = True\n",
        "esta_triste = False"
      ]
    },
    {
      "cell_type": "markdown",
      "id": "7eebea3a",
      "metadata": {
        "id": "7eebea3a"
      },
      "source": [
        "Imprimindo o tipo para confirmar que são booleanos"
      ]
    },
    {
      "cell_type": "code",
      "execution_count": null,
      "id": "d6e55ea1",
      "metadata": {
        "id": "d6e55ea1"
      },
      "outputs": [],
      "source": [
        "print(type(esta_feliz))"
      ]
    },
    {
      "cell_type": "markdown",
      "id": "24888488",
      "metadata": {
        "id": "24888488"
      },
      "source": [
        "Operações lógicas"
      ]
    },
    {
      "cell_type": "code",
      "execution_count": null,
      "id": "7aebf4c8",
      "metadata": {
        "id": "7aebf4c8"
      },
      "outputs": [],
      "source": [
        "Saída1 = esta_feliz and esta_triste\n",
        "print(Saída1)"
      ]
    },
    {
      "cell_type": "code",
      "execution_count": null,
      "id": "f3621e95",
      "metadata": {
        "id": "f3621e95"
      },
      "outputs": [],
      "source": [
        "Saída2 = esta_feliz or esta_triste\n",
        "print(Saída2)"
      ]
    },
    {
      "cell_type": "code",
      "execution_count": null,
      "id": "d71363ef",
      "metadata": {
        "id": "d71363ef"
      },
      "outputs": [],
      "source": [
        "Saída3 = not esta_feliz\n",
        "print(Saída3)"
      ]
    },
    {
      "cell_type": "markdown",
      "id": "cb1f9fec",
      "metadata": {
        "id": "cb1f9fec"
      },
      "source": [
        "Usando booleanos em comparações:"
      ]
    },
    {
      "cell_type": "code",
      "execution_count": null,
      "id": "a99becf3",
      "metadata": {
        "id": "a99becf3"
      },
      "outputs": [],
      "source": [
        "idade = 25\n",
        "maior_de_idade = idade >= 18\n",
        "print(maior_de_idade)"
      ]
    },
    {
      "cell_type": "markdown",
      "id": "ac25b89d",
      "metadata": {
        "id": "ac25b89d"
      },
      "source": [
        "Comparações podem ser usadas diretamente em instruções condicionais"
      ]
    },
    {
      "cell_type": "code",
      "execution_count": null,
      "id": "35ba9a0d",
      "metadata": {
        "id": "35ba9a0d"
      },
      "outputs": [],
      "source": [
        "if idade > 30:\n",
        "    print('Idade é maior que 30.')\n",
        "else:\n",
        "    print('Idade é 30 ou menor.')"
      ]
    },
    {
      "cell_type": "markdown",
      "id": "e285eeb4",
      "metadata": {
        "id": "e285eeb4"
      },
      "source": [
        "\n",
        "Estudaremos as instruções condicionais mais adiante em nosso curso. Em Python, muitos outros tipos de dados podem ser avaliados em um contexto booleano, significando que eles podem ser tratados como True ou False sob certas condições. Por exemplo:\n",
        "\n",
        "- Valores numéricos 0 (zero) são tratados como False, enquanto outros valores numéricos são tratados como True;\n",
        "- Coleções vazias (como listas, tuplas e strings vazias) são tratadas como False. Coleções não vazias são True;\n",
        "- None é sempre tratado como False.\n",
        "\n",
        "\n",
        "\n",
        "### 2.2.4 Bytes\n",
        "\n",
        "Bytes são sequências imutáveis de inteiros pequenos no intervalo de 0 a 255. Eles são frequentemente usados para representar dados binários, como arquivos de imagem, áudio ou qualquer outro tipo de dado que não seja simplesmente texto. Em Python, dados do tipo byte são essenciais quando lidamos com operações de I/O (entrada e saída), especialmente quando os dados não são representáveis como strings de texto. Em Python, você pode criar bytes usando a sintaxe “b'' ou com a função bytes().\n",
        "<br>\n",
        "\n",
        "*Características dos Bytes:*\n",
        "\n",
        "- Imutabilidade: são imutáveis. Uma vez definidos, seus valores não podem ser alterados;\n",
        "\n",
        "- Representação: são sequências de inteiros (byte literals) que variam de 0 a 255;\n",
        "\n",
        "- Uso comum: Ideal para lidar com dados binários, como operações de I/O, comunicação de rede, arquivos binários, etc.\n",
        "\n",
        "Exemplos:\n",
        "\n",
        "Criar bytes usando a sintaxe b''"
      ]
    },
    {
      "cell_type": "code",
      "execution_count": null,
      "id": "1f6339ad",
      "metadata": {
        "id": "1f6339ad"
      },
      "outputs": [],
      "source": [
        "dados_binarios = b'Ol\\xc3\\xa1 Mundo'\n",
        "print(dados_binarios)"
      ]
    },
    {
      "cell_type": "markdown",
      "id": "3ed87a57",
      "metadata": {
        "id": "3ed87a57"
      },
      "source": [
        "Converter uma string em bytes"
      ]
    },
    {
      "cell_type": "code",
      "execution_count": null,
      "id": "a33c94a4",
      "metadata": {
        "id": "a33c94a4"
      },
      "outputs": [],
      "source": [
        "string_normal = 'Olá Mundo'\n",
        "bytes_convertidos = string_normal.encode('utf-8')\n",
        "print(bytes_convertidos)"
      ]
    },
    {
      "cell_type": "markdown",
      "id": "3c8137e3",
      "metadata": {
        "id": "3c8137e3"
      },
      "source": [
        "Acessar elementos dos bytes (semelhante a listas e strings)"
      ]
    },
    {
      "cell_type": "code",
      "execution_count": null,
      "id": "f98e250d",
      "metadata": {
        "id": "f98e250d"
      },
      "outputs": [],
      "source": [
        "primeiro_byte = dados_binarios[0]\n",
        "print(primeiro_byte)"
      ]
    },
    {
      "cell_type": "markdown",
      "id": "d99e3789",
      "metadata": {
        "id": "d99e3789"
      },
      "source": [
        "Bytes são imutáveis. A tentativa de mudar um valor resultará em um erro."
      ]
    },
    {
      "cell_type": "code",
      "execution_count": null,
      "id": "be70409a",
      "metadata": {
        "id": "be70409a"
      },
      "outputs": [],
      "source": [
        "# dados_binarios[0] = 80\n",
        "\n",
        "# TypeError: 'bytes' object does not support item assignment"
      ]
    },
    {
      "cell_type": "markdown",
      "id": "c17508d2",
      "metadata": {
        "id": "c17508d2"
      },
      "source": [
        "Criando bytes a partir de uma lista de inteiros"
      ]
    },
    {
      "cell_type": "code",
      "execution_count": null,
      "id": "2ca9744b",
      "metadata": {
        "id": "2ca9744b"
      },
      "outputs": [],
      "source": [
        "lista_de_inteiros = [65, 66, 67]\n",
        "dados_binarios2 = bytes(lista_de_inteiros)\n",
        "print(dados_binarios2)"
      ]
    },
    {
      "cell_type": "markdown",
      "id": "b83e463c",
      "metadata": {
        "id": "b83e463c"
      },
      "source": [
        "Vale mencionar que, além de bytes, Python também oferece o tipo bytearray, que é uma versão mutável dos bytes. Enquanto os valores dentro de um objeto bytes não podem ser modificados após sua criação, os valores dentro de um bytearray podem ser alterados.\n",
        "\n",
        "\n",
        "\n",
        "### 2.2.5 Strings\n",
        "\n",
        "Strings em Python são sequências de caracteres que representam texto. São fundamentais em programação, pois permitem representar e manipular dados textuais, armazenar informações, exibir mensagens ao usuário, entre outras funções. Algumas das características das Strings são:\n",
        "\n",
        "- Imutabilidade: Depois de definida, uma string não pode ter seu conteúdo alterado. Qualquer operação que \"modifique\" a string, na realidade, cria uma nova string com o conteúdo alterado;\n",
        "\n",
        "- Indexação e fatiamento: Como as strings são sequências, podemos acessar seus caracteres por índices e fatiar sub-strings;\n",
        "\n",
        "- Métodos integrados: Python fornece muitos métodos úteis para processar e manipular strings.\n",
        "<br>\n",
        "\n",
        "*Definição de Strings com o uso de aspas*\n",
        "\n",
        "Strings podem ser definidas usando aspas simples, aspas duplas ou três aspas duplas (para strings de várias linhas). Todas essas formas são válidas e a escolha entre elas muitas vezes se resume a preferência pessoal ou à necessidade de incluir certos caracteres na string (por exemplo, se você quiser incluir um apóstrofo em uma string, pode ser mais fácil usar aspas duplas para definir a string).\n",
        "\n",
        "Definindo strings:"
      ]
    },
    {
      "cell_type": "code",
      "execution_count": null,
      "id": "d6b15119",
      "metadata": {
        "id": "d6b15119"
      },
      "outputs": [],
      "source": [
        "nome = 'Python'\n",
        "frase = 'Aprendendo Python!'\n",
        "paragrafo = '''Python é uma linguagem de programação\n",
        "importante no contexto do Geoprocessamento.'''"
      ]
    },
    {
      "cell_type": "markdown",
      "id": "7018c4ac",
      "metadata": {
        "id": "7018c4ac"
      },
      "source": [
        "<br>\n",
        "\n",
        "Imprimindo strings:"
      ]
    },
    {
      "cell_type": "code",
      "execution_count": null,
      "id": "0c1d0a11",
      "metadata": {
        "id": "0c1d0a11"
      },
      "outputs": [],
      "source": [
        "print(nome)"
      ]
    },
    {
      "cell_type": "code",
      "execution_count": null,
      "id": "379680ea",
      "metadata": {
        "id": "379680ea"
      },
      "outputs": [],
      "source": [
        "print(frase)"
      ]
    },
    {
      "cell_type": "code",
      "execution_count": null,
      "id": "5e950748",
      "metadata": {
        "id": "5e950748"
      },
      "outputs": [],
      "source": [
        "print(paragrafo)"
      ]
    },
    {
      "cell_type": "markdown",
      "id": "77e40f60",
      "metadata": {
        "id": "77e40f60"
      },
      "source": [
        "<br>\n",
        "\n",
        "*Indexação de Strings*\n",
        "\n",
        "Em Python, strings são sequências de caracteres. Cada caractere em uma string tem um índice associado a ele, começando em 0 para o primeiro caractere, 1 para o segundo, e assim por diante. Isso permite que você acesse caracteres específicos em uma string usando seu índice. Na figura 2, temos a string \"Python\" com sua indexação.\n",
        "\n",
        "![Figura 2](https://github.com/Alexandrogschafer/Programacao-Geoprocessamento/blob/gh-pages/notebooks/images/fig2.png?raw=1)\n",
        "\n",
        "Figura 2: Índice da string Python.\n",
        "\n",
        "\n",
        "Aqui estão algumas questões básicas relacionadas ao acesso de string por índice:\n",
        "\n",
        "Acessar um Caractere Específico:"
      ]
    },
    {
      "cell_type": "code",
      "execution_count": null,
      "id": "5a2ac0d6",
      "metadata": {
        "id": "5a2ac0d6"
      },
      "outputs": [],
      "source": [
        "nome = 'Python'\n",
        "print(nome[0])"
      ]
    },
    {
      "cell_type": "code",
      "execution_count": null,
      "id": "a93e6981",
      "metadata": {
        "id": "a93e6981"
      },
      "outputs": [],
      "source": [
        "nome = 'Python'\n",
        "print(nome[3])"
      ]
    },
    {
      "cell_type": "markdown",
      "id": "35dbb71f",
      "metadata": {
        "id": "35dbb71f"
      },
      "source": [
        "Índices Negativos: Python suporta índices negativos, o que significa começar a contar a partir do final da string."
      ]
    },
    {
      "cell_type": "code",
      "execution_count": null,
      "id": "ef29158d",
      "metadata": {
        "id": "ef29158d"
      },
      "outputs": [],
      "source": [
        "print(nome[-1])"
      ]
    },
    {
      "cell_type": "code",
      "execution_count": null,
      "id": "732b1b3b",
      "metadata": {
        "id": "732b1b3b"
      },
      "outputs": [],
      "source": [
        "print(nome[-2])"
      ]
    },
    {
      "cell_type": "markdown",
      "id": "3bd5e3ba",
      "metadata": {
        "id": "3bd5e3ba"
      },
      "source": [
        "Limites de Índice: Se você tentar acessar um índice que está fora da faixa da string, você receberá um erro IndexError."
      ]
    },
    {
      "cell_type": "code",
      "execution_count": null,
      "id": "77ea3029",
      "metadata": {
        "id": "77ea3029"
      },
      "outputs": [],
      "source": [
        "#print(nome[6])\n",
        "\n",
        "# IndexError: string index out of range"
      ]
    },
    {
      "cell_type": "markdown",
      "id": "b1a5286c",
      "metadata": {
        "id": "b1a5286c"
      },
      "source": [
        "O índice 6 está fora da faixa.\n",
        "\n",
        "Fatiamento de Strings: Além de acessar caracteres individuais, você também pode acessar subconjuntos ou \"fatias\" de uma string usando o conceito de fatiamento."
      ]
    },
    {
      "cell_type": "code",
      "execution_count": null,
      "id": "d34f8f2b",
      "metadata": {
        "id": "d34f8f2b"
      },
      "outputs": [],
      "source": [
        "print(nome[1:4])"
      ]
    },
    {
      "cell_type": "markdown",
      "id": "cb455403",
      "metadata": {
        "id": "cb455403"
      },
      "source": [
        "<br>\n",
        "\n",
        "*Imutabilidade de Strings*\n",
        "\n",
        "Como vimos anteriormente, strings são consideradas objetos imutáveis em Python. Isso significa que, uma vez que uma string é criada, você não pode modificar diretamente seu conteúdo. Se você tentar reatribuir um valor a uma posição específica da string, você receberá um erro. Por exemplo, se você tentar alterar o primeiro caractere de nome para 'C', você receberá um TypeError, indicando que a operação não é permitida."
      ]
    },
    {
      "cell_type": "code",
      "execution_count": null,
      "id": "ac242ec3",
      "metadata": {
        "id": "ac242ec3"
      },
      "outputs": [],
      "source": [
        "# nome[0] = 'C'\n"
      ]
    },
    {
      "cell_type": "markdown",
      "id": "7d4b8b0b",
      "metadata": {
        "id": "7d4b8b0b"
      },
      "source": [
        "<br>\n",
        "\n",
        "*Concatenação de strings*\n",
        "\n",
        "Concatenação é o processo de combinar duas ou mais strings para formar uma única string. Em Python, o operador “+” é usado para concatenar strings. Isso significa que ele combina as strings fornecidas para formar uma nova string."
      ]
    },
    {
      "cell_type": "code",
      "execution_count": null,
      "id": "c4ac955b",
      "metadata": {
        "id": "c4ac955b"
      },
      "outputs": [],
      "source": [
        "nome = 'Python'\n",
        "mensagem = 'Olá, ' + nome + '!'\n",
        "print(mensagem)"
      ]
    },
    {
      "cell_type": "markdown",
      "id": "71c422e7",
      "metadata": {
        "id": "71c422e7"
      },
      "source": [
        "<br>\n",
        "\n",
        "*Interpolação de Strings*\n",
        "\n",
        "A interpolação de strings, particularmente usando f-strings (introduzida no Python 3.6), é uma maneira eficiente e legível de formatar strings. Ela permite que você incorpore expressões diretamente dentro de strings literais, usando {}. Os benefícios das f-strings incluem:\n",
        "\n",
        "- Legibilidade: tornam o código mais legível, especialmente quando você tem múltiplas variáveis ou expressões a serem interpoladas em uma string;\n",
        "\n",
        "- Performance: geralmente oferecem uma performance melhor em comparação com outras técnicas de formatação de string em Python;\n",
        "\n",
        "- Flexibilidade: Você pode incorporar qualquer expressão válida do Python dentro das chaves {}, o que torna as f-strings versáteis.\n",
        "<br>\n",
        "\n",
        "Exemplo:"
      ]
    },
    {
      "cell_type": "code",
      "execution_count": null,
      "id": "226b2389",
      "metadata": {
        "id": "226b2389"
      },
      "outputs": [],
      "source": [
        "valor_venda = 30\n",
        "mensagem_venda = f'O valor total da compra foi R$ {valor_venda}.'\n",
        "print(mensagem_venda)"
      ]
    },
    {
      "cell_type": "markdown",
      "id": "98503ba3",
      "metadata": {
        "id": "98503ba3"
      },
      "source": [
        "Nesse código:\n",
        "\n",
        "a. Definimos uma variável valor_venda com o valor 30;\n",
        "\n",
        "b. Criamos uma f-string “mensagem_venda” onde incorporamos a variável “valor_venda” diretamente dentro da string usando chaves {}. Isso significa que o valor de “valor_venda” será inserido na posição onde {valor_venda} está na string;\n",
        "\n",
        "c. Usando a função print(), imprimimos o valor da variável “mensagem_venda” no console;\n",
        "\n",
        "d. Como “mensagem_venda” contém a string \"O valor total da compra foi R$ 30.\", essa é a saída.\n",
        "<br><br>\n",
        "\n",
        "*Métodos integrados*\n",
        "\n",
        "As strings em Python vêm com uma variedade de métodos integrados que permitem realizar operações comuns em strings sem a necessidade de escrever funções adicionais. Esses métodos são essencialmente funções que estão \"ligadas\" a objetos de string e podem ser chamados diretamente em qualquer string. Abaixo estão algumas das operações comuns e seus métodos correspondentes:\n",
        "<br>\n",
        "\n",
        "Conversão de Caso:\n",
        "\n",
        "- upper(): Converte todos os caracteres da string para maiúsculas.\n",
        "\n",
        "- lower(): Converte todos os caracteres da string para minúsculas.\n",
        "\n",
        "- capitalize(): Converte o primeiro caractere da string para maiúscula.\n",
        "\n",
        "- title(): Converte o primeiro caractere de cada palavra para maiúscula.\n",
        "   \n",
        "   \n",
        "Verificação:\n",
        "\n",
        "- startswith(substring): Retorna True se a string começar com a substring especificada.\n",
        "\n",
        "- endswith(substring): Retorna True se a string terminar com a substring especificada.\n",
        "\n",
        "- isalpha(): Retorna True se todos os caracteres da string forem letras.\n",
        "\n",
        "- isdigit(): Retorna True se todos os caracteres da string forem dígitos.\n",
        "\n",
        "\n",
        "Manipulação:\n",
        "\n",
        "- replace(old, new): Substitui todas as ocorrências da substring old pela substring new.\n",
        "\n",
        "- strip(): Remove espaços em branco (ou outros caracteres especificados) do início e do final da string.\n",
        "\n",
        "- split(delimiter): Divide a string no delimiter especificado e retorna uma lista de substrings.\n",
        "\n",
        "\n",
        "Busca:\n",
        "\n",
        "- find(substring): Retorna o índice da primeira ocorrência da substring. Se a substring não for encontrada, retorna “-1”.\n",
        "\n",
        "- count(substring): Retorna o número de ocorrências não sobrepostas da substring na string original.\n",
        "\n",
        "\n",
        "Outros:\n",
        "\n",
        "- join(iterable): Une um iterável (como uma lista) em uma única string usando a string como delimitador.\n",
        "\n",
        "- len(string): Embora não seja exatamente um método de string, a função len() retorna o número de caracteres em uma string.\n",
        "<br>\n",
        "\n",
        "Exemplos:"
      ]
    },
    {
      "cell_type": "code",
      "execution_count": null,
      "id": "304cafc7",
      "metadata": {
        "id": "304cafc7"
      },
      "outputs": [],
      "source": [
        "texto = 'Introdução a programação, para Geoprocessamento.'\n",
        "print(texto.lower())"
      ]
    },
    {
      "cell_type": "code",
      "execution_count": null,
      "id": "0e607dd2",
      "metadata": {
        "id": "0e607dd2"
      },
      "outputs": [],
      "source": [
        "print(texto.upper())"
      ]
    },
    {
      "cell_type": "code",
      "execution_count": null,
      "id": "0586e910",
      "metadata": {
        "id": "0586e910"
      },
      "outputs": [],
      "source": [
        "print(texto.replace('ã', 'a'))"
      ]
    },
    {
      "cell_type": "code",
      "execution_count": null,
      "id": "38804e14",
      "metadata": {
        "id": "38804e14"
      },
      "outputs": [],
      "source": [
        "print(texto.split(','))"
      ]
    },
    {
      "cell_type": "markdown",
      "id": "d9cc73e1",
      "metadata": {
        "id": "d9cc73e1"
      },
      "source": [
        "## 2.3 Estruturas de dados\n",
        "\n",
        "As estruturas de dados são formas organizadas e eficientes de armazenar, acessar e manipular conjuntos de dados. Elas definem a relação entre os dados e as operações que podem ser realizadas sobre eles. A escolha da estrutura de dados adequada é crucial para a implementação eficiente de algoritmos e pode impactar significativamente o desempenho e a usabilidade de um programa. As estruturas de dados (figura 3) que serão contempladas em nosso estudo são as Listas, as Tuplas, os Dicionários e os Conjuntos.\n",
        "\n",
        "![Figura 3](https://github.com/Alexandrogschafer/Programacao-Geoprocessamento/blob/gh-pages/notebooks/images/fig3.png?raw=1)\n",
        "\n",
        "Figura 3: Estruturas de dados em Python.\n",
        "\n",
        "\n",
        "\n",
        "As razões pelas quais as estruturas de dados são tão importantes incluem:\n",
        "\n",
        "- Eficiência Computacional: Diferentes estruturas de dados têm diferentes custos em termos de tempo e espaço. Escolher a estrutura de dados certa pode permitir que os algoritmos operem mais rapidamente, economizando tempo de CPU e memória;\n",
        "\n",
        "- Organização de Dados: Estruturas de dados permitem que os dados sejam organizados de forma a serem facilmente acessíveis. Por exemplo, um dicionário em Python permite recuperar um valor em tempo constante, dada uma chave;\n",
        "\n",
        "- Facilita a Implementação de Algoritmos: Muitos algoritmos têm requisitos específicos quanto à forma como os dados devem ser armazenados para que funcionem corretamente e eficientemente. As estruturas de dados fornecem os meios para atender a esses requisitos;\n",
        "\n",
        "- Flexibilidade: Com a variedade de estruturas de dados disponíveis, os programadores podem escolher a estrutura que melhor se adapta à natureza dos dados e às operações que precisam ser realizadas sobre eles;\n",
        "\n",
        "- Redução de Complexidade: Usar a estrutura de dados apropriada pode reduzir a complexidade do código, tornando-o mais legível e fácil de manter;\n",
        "\n",
        "- Abstração: Estruturas de dados geralmente vêm com operações padrão que podem ser realizadas sobre elas (como inserir, excluir, pesquisar). Isso permite voltar a atenção para o problema que se está tentando resolver ao invés de se preocupar com os detalhes de como essas operações são implementadas;\n",
        "\n",
        "- Escalabilidade: À medida que os conjuntos de dados crescem, a importância de usar a estrutura de dados correta torna-se ainda mais crítica. Algumas estruturas que funcionam bem para pequenas quantidades de dados tornam-se impraticáveis em escala maior;\n",
        "\n",
        "- Aprimoramento da Tomada de Decisões: Em aplicações de negócios e análise de dados, as estruturas de dados adequadas podem facilitar a análise de grandes conjuntos de dados, levando a decisões mais informadas.\n",
        "\n",
        "\n",
        "### 2.3.1 Listas\n",
        "\n",
        "Listas são estruturas de dados fundamentais em programação que representam coleções ordenadas de itens. Em muitas linguagens, inclusive em Python, as listas são dinâmicas, o que significa que elas podem crescer ou diminuir em tamanho conforme necessário. Os itens em uma lista são organizados sequencialmente, permitindo que os usuários acessem cada elemento por meio de um índice, que é uma posição numérica na lista. Esta natureza ordenada torna as listas adequadas para tarefas que exigem a manutenção da ordem dos dados, como quando se precisa de uma sequência específica de elementos.\n",
        "\n",
        "As listas podem conter elementos de qualquer tipo, seja números, strings, ou até mesmo outras listas e objetos complexos. A mutabilidade é outra característica crucial das listas em Python. Isso significa que, após a criação de uma lista, é possível modificar seu conteúdo, adicionar novos itens ou remover itens existentes.\n",
        "\n",
        "No contexto do geoprocessamento, as listas desempenham papel essencial na manipulação e análise de dados geoespaciais. Por exemplo, uma lista pode ser usada para armazenar uma série de pontos que definem uma rota ou um caminho. Em análises de cobertura de terreno, listas podem conter amostras de elevações em pontos específicos para gerar perfis topográficos. Em sistemas de informações geográficas (SIG), ao trabalhar com múltiplas camadas de dados, como áreas urbanas, corpos d'água e vegetação, uma lista pode ser empregada para armazenar e iterar sobre essas camadas. Além disso, ao realizar análises de proximidade, as listas podem ser utilizadas para armazenar e comparar coordenadas de diferentes objetos, ajudando a determinar, por exemplo, todos os pontos de interesse dentro de uma determinada distância de uma estrada ou rio.\n",
        "<br>\n",
        "\n",
        "*Criação de listas*\n",
        "\n",
        "Listas são criadas colocando uma sequência de valores separados por vírgulas entre colchetes. Exemplos:"
      ]
    },
    {
      "cell_type": "code",
      "execution_count": null,
      "id": "4c09ea28",
      "metadata": {
        "id": "4c09ea28"
      },
      "outputs": [],
      "source": [
        "#Lista de números\n",
        "numeros = [1, 2, 3, 4, 5]"
      ]
    },
    {
      "cell_type": "code",
      "execution_count": null,
      "id": "38e2fc06",
      "metadata": {
        "id": "38e2fc06"
      },
      "outputs": [],
      "source": [
        "#Lista de strings:\n",
        "pais = ['Brasil', 'Uruguai', 'Argentina']"
      ]
    },
    {
      "cell_type": "code",
      "execution_count": null,
      "id": "9f61b1db",
      "metadata": {
        "id": "9f61b1db"
      },
      "outputs": [],
      "source": [
        "#Lista mista (com diferentes tipos de dados):\n",
        "dados_mistos = [42, 'Manaus', 3.14, True, 'Python', 7]"
      ]
    },
    {
      "cell_type": "code",
      "execution_count": null,
      "id": "d616d119",
      "metadata": {
        "id": "d616d119"
      },
      "outputs": [],
      "source": [
        "#Lista vazia:\n",
        "lista_vazia = []"
      ]
    },
    {
      "cell_type": "code",
      "execution_count": null,
      "id": "683d2743",
      "metadata": {
        "id": "683d2743"
      },
      "outputs": [],
      "source": [
        "#Lista aninhada:\n",
        "lista_aninhada = [[1, 2, 3], [4, 5, 6], [7, 8, 9]]"
      ]
    },
    {
      "cell_type": "markdown",
      "id": "413cb3b0",
      "metadata": {
        "id": "413cb3b0"
      },
      "source": [
        "<br>\n",
        "\n",
        "*Acessando os elementos da lista*\n",
        "<br>\n",
        "\n",
        "- Acesso pelo Índice:\n",
        "\n",
        "As listas são indexadas por números inteiros, começando por 0 para o primeiro item."
      ]
    },
    {
      "cell_type": "code",
      "execution_count": null,
      "id": "84607a46",
      "metadata": {
        "id": "84607a46"
      },
      "outputs": [],
      "source": [
        "#Acessando o primeiro elemento da lista 'país':\n",
        "primeiro_pais = pais[0]\n",
        "print(primeiro_pais)"
      ]
    },
    {
      "cell_type": "code",
      "execution_count": null,
      "id": "6580a8f2",
      "metadata": {
        "id": "6580a8f2"
      },
      "outputs": [],
      "source": [
        "#Acessando o terceiro elemento da lista numeros:\n",
        "terceiro_numero = numeros[2]\n",
        "print(terceiro_numero)"
      ]
    },
    {
      "cell_type": "markdown",
      "id": "8697099c",
      "metadata": {
        "id": "8697099c"
      },
      "source": [
        "*Atenção:*\n",
        "\n",
        "Ao tentar acessar um índice que não existe na lista (por exemplo, ```pais[3] ``` quando a lista tem apenas 3 elementos) resultará em um IndexError."
      ]
    },
    {
      "cell_type": "code",
      "execution_count": null,
      "id": "41eb01a0",
      "metadata": {
        "id": "41eb01a0"
      },
      "outputs": [],
      "source": [
        "# pais[3]\n",
        "\n",
        "# IndexError: list index out of range"
      ]
    },
    {
      "cell_type": "markdown",
      "id": "0606fbf9",
      "metadata": {
        "id": "0606fbf9"
      },
      "source": [
        "<br>\n",
        "\n",
        "- Acesso com Índices Negativos:\n",
        "\n",
        "Os índices negativos permitem acessar a lista do final para o começo."
      ]
    },
    {
      "cell_type": "code",
      "execution_count": null,
      "id": "a1ee175a",
      "metadata": {
        "id": "a1ee175a"
      },
      "outputs": [],
      "source": [
        "# Acessando o último item da lista país:\n",
        "pais = ['Brasil', 'Uruguai', 'Argentina']\n",
        "ultimo_pais = pais[-1]\n",
        "print(ultimo_pais)"
      ]
    },
    {
      "cell_type": "code",
      "execution_count": null,
      "id": "1cfa5dc7",
      "metadata": {
        "id": "1cfa5dc7"
      },
      "outputs": [],
      "source": [
        "penultimo_pais = pais[-2]\n",
        "print(penultimo_pais)"
      ]
    },
    {
      "cell_type": "markdown",
      "id": "7521f0b3",
      "metadata": {
        "id": "7521f0b3"
      },
      "source": [
        "- Fatiamento:\n",
        "\n",
        "O fatiamento é uma técnica em Python que permite acessar uma subseção (ou \"fatia\") de uma lista. A sintaxe geral do fatiamento é ``` `lista[início:fim:passo]` ```, onde \"início\" é o índice inicial da fatia, \"fim\" é o índice onde a fatia termina (exclusivo) e \"passo\" é o intervalo entre os itens da fatia. Vejamos alguns exemplos."
      ]
    },
    {
      "cell_type": "code",
      "execution_count": null,
      "id": "130c6584",
      "metadata": {
        "id": "130c6584"
      },
      "outputs": [],
      "source": [
        "dados_mistos = [42, 'Manaus', 3.14, True, 'Python', 7]"
      ]
    },
    {
      "cell_type": "code",
      "execution_count": null,
      "id": "558994fc",
      "metadata": {
        "id": "558994fc"
      },
      "outputs": [],
      "source": [
        "#Acessando os três primeiros itens:\n",
        "primeiros_tres = dados_mistos[:3]\n",
        "print(primeiros_tres)"
      ]
    },
    {
      "cell_type": "code",
      "execution_count": null,
      "id": "64c98952",
      "metadata": {
        "id": "64c98952"
      },
      "outputs": [],
      "source": [
        "#Acessando itens do terceiro ao quinto:\n",
        "meio = dados_mistos[2:5]\n",
        "print(meio)"
      ]
    },
    {
      "cell_type": "code",
      "execution_count": null,
      "id": "c05db6e9",
      "metadata": {
        "id": "c05db6e9"
      },
      "outputs": [],
      "source": [
        "#Acessando os últimos três itens:\n",
        "ultimos_tres = dados_mistos[-3:]\n",
        "print(ultimos_tres)"
      ]
    },
    {
      "cell_type": "code",
      "execution_count": null,
      "id": "99b27937",
      "metadata": {
        "id": "99b27937"
      },
      "outputs": [],
      "source": [
        "#Acessando itens de dois em dois:\n",
        "passo_dois = dados_mistos[::2]\n",
        "print(passo_dois)"
      ]
    },
    {
      "cell_type": "markdown",
      "id": "becc4b0d",
      "metadata": {
        "id": "becc4b0d"
      },
      "source": [
        "- Acesso múltiplo (ou desempacotamento):\n",
        "\n",
        "Permite atribuir vários elementos de uma lista (ou tupla) a variáveis diferentes em uma única linha. Suponha que temos uma lista representando dados sobre uma cidade: nome da cidade, latitude e longitude."
      ]
    },
    {
      "cell_type": "code",
      "execution_count": null,
      "id": "2633d9cd",
      "metadata": {
        "id": "2633d9cd"
      },
      "outputs": [],
      "source": [
        "cidade_info = ['Brasília', -15.7797, -47.9297]"
      ]
    },
    {
      "cell_type": "markdown",
      "id": "52bcb0b2",
      "metadata": {
        "id": "52bcb0b2"
      },
      "source": [
        "<br>\n",
        "\n",
        "Agora, vamos usar o desempacotamento para acessar múltiplos elementos da lista. É importante garantir que o número de variáveis à esquerda da atribuição corresponda ao número de elementos que você está tentando desempacotar da lista. Se houver uma discrepância, o Python lançará um erro."
      ]
    },
    {
      "cell_type": "code",
      "execution_count": null,
      "id": "cf374ae8",
      "metadata": {
        "id": "cf374ae8"
      },
      "outputs": [],
      "source": [
        "nome, lat, lon = cidade_info"
      ]
    },
    {
      "cell_type": "markdown",
      "id": "d40301db",
      "metadata": {
        "id": "d40301db"
      },
      "source": [
        "Neste exemplo, o valor \"Brasília\" da lista cidade_info será atribuído à variável nome, o valor -17.7797 será atribuído à variável “lat”, e o valor -47.9297 será atribuído à variável “lon”.\tImprimindo os valores das variáveis:"
      ]
    },
    {
      "cell_type": "code",
      "execution_count": null,
      "id": "3e323566",
      "metadata": {
        "id": "3e323566"
      },
      "outputs": [],
      "source": [
        "print(nome, lat, lon)"
      ]
    },
    {
      "cell_type": "markdown",
      "id": "46027051",
      "metadata": {
        "id": "46027051"
      },
      "source": [
        "<br>\n",
        "\n",
        "- Acesso por funções Built-in:\n",
        "\n",
        "Podemos acessar os dados de uma lista utilizando funções do Python. Funções comumente utilizadas são len(), max() e min():"
      ]
    },
    {
      "cell_type": "code",
      "execution_count": null,
      "id": "90ae1e14",
      "metadata": {
        "id": "90ae1e14"
      },
      "outputs": [],
      "source": [
        "altitudes = [320, 540, 890, 1200, 45, 650]"
      ]
    },
    {
      "cell_type": "markdown",
      "id": "fcc7f381",
      "metadata": {
        "id": "fcc7f381"
      },
      "source": [
        "Usando len() para determinar o número de elementos na lista:"
      ]
    },
    {
      "cell_type": "code",
      "execution_count": null,
      "id": "2f3ceb5c",
      "metadata": {
        "id": "2f3ceb5c"
      },
      "outputs": [],
      "source": [
        "numero_registros = len(altitudes)\n",
        "print(numero_registros)"
      ]
    },
    {
      "cell_type": "markdown",
      "id": "e4aae257",
      "metadata": {
        "id": "e4aae257"
      },
      "source": [
        "Usando max() para encontrar a maior altitude:"
      ]
    },
    {
      "cell_type": "code",
      "execution_count": null,
      "id": "ed77e55c",
      "metadata": {
        "id": "ed77e55c"
      },
      "outputs": [],
      "source": [
        "maior_altitude = max(altitudes)"
      ]
    },
    {
      "cell_type": "markdown",
      "id": "2f8ed6d4",
      "metadata": {
        "id": "2f8ed6d4"
      },
      "source": [
        "Usando o min() para determinar a menor altitude"
      ]
    },
    {
      "cell_type": "code",
      "execution_count": null,
      "id": "ef651a8f",
      "metadata": {
        "id": "ef651a8f"
      },
      "outputs": [],
      "source": [
        "menor_altitude = min(altitudes)\n",
        "print(menor_altitude)"
      ]
    },
    {
      "cell_type": "markdown",
      "id": "4911a82f",
      "metadata": {
        "id": "4911a82f"
      },
      "source": [
        "Apresentamos nesta seção alguns conceitos básicos sobre a criação de listas e acesso aos seus elementos em Python. Mais adiante, veremos como acessar listar por iteração. Outro conceito importante que será estudado é o de “List comprehension”.\n",
        "<br>\n",
        "\n",
        "*Modificação de listas: adição e remoção de elementos*\n",
        "\n",
        "As listas são mutáveis, o que significa que podemos alterar seus elementos após a criação. No contexto de modificar listas, há duas operações fundamentais: adicionar e remover elementos. Adicionar elementos pode envolver a inclusão de um único item, anexando-o ao final da lista, ou inserindo-o em uma posição específica. Também é possível juntar duas listas, expandindo uma com os elementos da outra. Por outro lado, a remoção de elementos pode se referir à exclusão de um item específico, independentemente de sua posição, ou à retirada de um item com base em sua posição. A capacidade de manipular listas dessa maneira oferece uma flexibilidade imensa, sendo um pilar central na manipulação de dados em Python.\n",
        "<br>\n",
        "\n",
        "- Adicionando elementos a uma lista:\n",
        "\n",
        "Método append(): Adiciona um item ao final da lista."
      ]
    },
    {
      "cell_type": "code",
      "execution_count": null,
      "id": "7dd4cb4c",
      "metadata": {
        "id": "7dd4cb4c"
      },
      "outputs": [],
      "source": [
        "pontos_referencia = ['Montanha', 'Rio', 'Floresta']\n",
        "pontos_referencia.append('Lago')\n",
        "print(pontos_referencia)"
      ]
    },
    {
      "cell_type": "markdown",
      "id": "1320e72b",
      "metadata": {
        "id": "1320e72b"
      },
      "source": [
        "Método insert(): Insere um item em uma posição específica."
      ]
    },
    {
      "cell_type": "code",
      "execution_count": null,
      "id": "581fd8e6",
      "metadata": {
        "id": "581fd8e6"
      },
      "outputs": [],
      "source": [
        "pontos_referencia.insert(0, 'Vale')\n",
        "print(pontos_referencia)"
      ]
    },
    {
      "cell_type": "markdown",
      "id": "baa40c22",
      "metadata": {
        "id": "baa40c22"
      },
      "source": [
        "Método extend() ou “+=”: Adiciona múltiplos elementos à lista."
      ]
    },
    {
      "cell_type": "code",
      "execution_count": null,
      "id": "7b3176e6",
      "metadata": {
        "id": "7b3176e6"
      },
      "outputs": [],
      "source": [
        "coordenadas = [(12.34, 56.78), (23.45, 67.89)]\n",
        "novas_coordenadas = [(34.56, 78.90), (45.67, 89.01)]\n",
        "coordenadas.extend(novas_coordenadas)\n",
        "print(coordenadas)"
      ]
    },
    {
      "cell_type": "code",
      "execution_count": null,
      "id": "3dd65e09",
      "metadata": {
        "id": "3dd65e09"
      },
      "outputs": [],
      "source": [
        "# Usando +=\n",
        "coordenadas2 = [(12.34, 56.78), (23.45, 67.89)]\n",
        "coordenadas2 += [(34.56, 78.90), (45.67, 89.01)]\n",
        "print(coordenadas2)\n"
      ]
    },
    {
      "cell_type": "markdown",
      "id": "44515e62",
      "metadata": {
        "id": "44515e62"
      },
      "source": [
        "- Removendo elementos de uma lista:\n",
        "\n",
        "Método remove(): Remove a primeira ocorrência do valor especificado."
      ]
    },
    {
      "cell_type": "code",
      "execution_count": null,
      "id": "44e905a0",
      "metadata": {
        "id": "44e905a0"
      },
      "outputs": [],
      "source": [
        "rios = ['Amazonas', 'São Francisco', 'Tietê']\n",
        "rios.remove('Tietê')\n",
        "print(rios)"
      ]
    },
    {
      "cell_type": "markdown",
      "id": "5342a013",
      "metadata": {
        "id": "5342a013"
      },
      "source": [
        "Método pop(): Remove e retorna o item na posição especificada (ou o último item se a posição não for especificada)."
      ]
    },
    {
      "cell_type": "code",
      "execution_count": null,
      "id": "29e03bc3",
      "metadata": {
        "id": "29e03bc3"
      },
      "outputs": [],
      "source": [
        "montanhas = ['Andes', 'Himalaia', 'Alpes']\n",
        "montanha_removida = montanhas.pop(1)\n",
        "print(montanha_removida)  # Saída: 'Himalaia'\n",
        "print(montanhas)"
      ]
    },
    {
      "cell_type": "markdown",
      "id": "a4917cbd",
      "metadata": {
        "id": "a4917cbd"
      },
      "source": [
        "Instrução del: Remove o item na posição especificada ou uma fatia de itens."
      ]
    },
    {
      "cell_type": "code",
      "execution_count": null,
      "id": "b60e7c17",
      "metadata": {
        "id": "b60e7c17"
      },
      "outputs": [],
      "source": [
        "regioes = ['Norte', 'Sul', 'Sudeste', 'Nordeste', 'Centro-Oeste']\n",
        "del regioes[2:4]  # Remove as regiões 'Sudeste' e 'Nordeste'\n",
        "print(regioes)"
      ]
    },
    {
      "cell_type": "markdown",
      "id": "c6121c7d",
      "metadata": {
        "id": "c6121c7d"
      },
      "source": [
        "*Operações comuns: ordenamento, fatiamento, concatenação, repetição, membership.*\n",
        "\n",
        "No geoprocessamento, frequentemente trabalhamos com conjuntos de dados que precisam ser manipulados, analisados e transformados. As listas em Python oferecem várias operações comuns que são extremamente úteis neste contexto. Vamos explorar algumas delas com exemplos.\n",
        "\n",
        "- Ordenamento:\n",
        "\n",
        "Listas podem ser ordenadas para obter uma sequência crescente ou decrescente. Exemplo: Suponha que temos uma lista de altitudes de diferentes locais e queremos ordená-las."
      ]
    },
    {
      "cell_type": "code",
      "execution_count": null,
      "id": "1305d28c",
      "metadata": {
        "id": "1305d28c"
      },
      "outputs": [],
      "source": [
        "altitudes = [312, 980, 45, 1235, 910]\n",
        "altitudes.sort()\n",
        "print(altitudes)"
      ]
    },
    {
      "cell_type": "markdown",
      "id": "0f648535",
      "metadata": {
        "id": "0f648535"
      },
      "source": [
        "Para ordenar a lista em ordem decrescente (ordenamento inverso), você pode usar o argumento reverse=True com o método sort()."
      ]
    },
    {
      "cell_type": "code",
      "execution_count": null,
      "id": "e75f8e34",
      "metadata": {
        "id": "e75f8e34"
      },
      "outputs": [],
      "source": [
        "altitudes.sort(reverse=True)\n",
        "print(altitudes)"
      ]
    },
    {
      "cell_type": "markdown",
      "id": "40339d99",
      "metadata": {
        "id": "40339d99"
      },
      "source": [
        "- Fatiamento (Slicing):\n",
        "\n",
        "O fatiamento permite obter subconjuntos de uma lista. Exemplo: Se tivermos uma lista de coordenadas e quisermos obter apenas as três primeiras:"
      ]
    },
    {
      "cell_type": "code",
      "execution_count": null,
      "id": "466987ca",
      "metadata": {
        "id": "466987ca"
      },
      "outputs": [],
      "source": [
        "coordenadas = [(12.34, 56.78), (23.45, 67.89), (34.56, 78.90), (45.67, 89.01)]\n",
        "primeiras_tres = coordenadas[:3]\n",
        "print(primeiras_tres)"
      ]
    },
    {
      "cell_type": "markdown",
      "id": "b561a6e0",
      "metadata": {
        "id": "b561a6e0"
      },
      "source": [
        "- Concatenação:\n",
        "\n",
        "Podemos combinar listas para criar uma nova. Exemplo: Se tivermos duas listas de cidades e quisermos juntá-las:"
      ]
    },
    {
      "cell_type": "code",
      "execution_count": null,
      "id": "5134f6d6",
      "metadata": {
        "id": "5134f6d6"
      },
      "outputs": [],
      "source": [
        "cidades_A = ['Manaus', 'Fortaleza']\n",
        "cidades_B = ['Goiânia', 'Florianópolis']\n",
        "todas_cidades = cidades_A + cidades_B\n",
        "print(todas_cidades)"
      ]
    },
    {
      "cell_type": "markdown",
      "id": "cf56b12d",
      "metadata": {
        "id": "cf56b12d"
      },
      "source": [
        "- Repetição:\n",
        "\n",
        "Listas podem ser repetidas usando o operador “*”. Exemplo: Criar uma lista de valores padrão para a qualidade do solo em diversas regiões:"
      ]
    },
    {
      "cell_type": "code",
      "execution_count": null,
      "id": "acfdd78b",
      "metadata": {
        "id": "acfdd78b"
      },
      "outputs": [],
      "source": [
        "qualidade_padrao = ['fértil'] * 4\n",
        "print(qualidade_padrao)"
      ]
    },
    {
      "cell_type": "markdown",
      "id": "edbca527",
      "metadata": {
        "id": "edbca527"
      },
      "source": [
        "- Membership:\n",
        "\n",
        "Podemos verificar se um elemento pertence a uma lista usando a palavra-chave “in”. Exemplo: Verificar se uma determinada cidade está em nossa lista de cidades monitoradas:"
      ]
    },
    {
      "cell_type": "code",
      "execution_count": null,
      "id": "8b26650e",
      "metadata": {
        "id": "8b26650e"
      },
      "outputs": [],
      "source": [
        "resultado = 'Rio de Janeiro' in cidades_A\n",
        "print(resultado)"
      ]
    },
    {
      "cell_type": "markdown",
      "id": "d3847bab",
      "metadata": {
        "id": "d3847bab"
      },
      "source": [
        "### 2.3.2 Tuplas\n",
        "\n",
        "As tuplas são uma das estruturas de dados em Python que permitem armazenar uma coleção ordenada de itens. Assim como as listas, as tuplas podem conter elementos de tipos diferentes. No entanto, há algumas diferenças importantes entre listas e tuplas:\n",
        "\n",
        "- Imutabilidade: Uma vez que uma tupla é criada, você não pode modificar seus elementos. Isso significa que você não pode adicionar, remover ou alterar elementos após a tupla ser definida. Essa imutabilidade faz das tuplas uma escolha segura para representar coleções de dados que não devem ser alteradas durante a execução de um programa;\n",
        "\n",
        "- Sintaxe: Tuplas são geralmente definidas colocando os elementos entre parênteses (), enquanto listas usam colchetes;\n",
        "\n",
        "- Uso: Devido à sua natureza imutável, as tuplas são frequentemente usadas em situações em que é necessário garantir que os dados não sejam modificados. Alguns exemplos incluem:\n",
        "\n",
        "    - Chaves em dicionários: Em Python, as chaves de um dicionário devem ser imutáveis, tornando as tuplas uma opção adequada para chaves compostas;\n",
        "\n",
        "    - Retorno de múltiplos valores de funções: É comum usar tuplas para retornar múltiplos valores de uma função;\n",
        "\n",
        "    - Armazenar dados que não devem ser alterados: Se você tem uma coleção de valores que nunca devem ser alterados durante a vida útil do programa (por exemplo, constantes), as tuplas são uma opção natural.\n",
        "\n",
        "\n",
        "No contexto do geoprocessamento, as tuplas desempenham vários papéis importantes, aproveitando sua natureza imutável e ordenada. Aqui estão algumas maneiras de como as tuplas podem ser aplicadas:\n",
        "\n",
        "- Coordenadas Geográficas: As tuplas são uma escolha natural para representar pontos no espaço, como coordenadas (latitude, longitude). Sua natureza imutável garante que as coordenadas de um ponto específico não sejam modificadas acidentalmente;\n",
        "\n",
        "- Dados matriciais: Em análises de dados matriciais, cada pixel pode ser representado por uma tupla que denota seu valor em várias bandas (por exemplo, bandas de imagem de satélite);\n",
        "\n",
        "- Atributos Compostos: Em muitos Sistemas de Informações Geográficas (SIG), os atributos associados a um objeto podem ser armazenados como tuplas. Por exemplo, um objeto representando um edifício pode ter um atributo que é uma tupla contendo (número de andares, área, ano de construção);\n",
        "\n",
        "- Chaves Únicas: No geoprocessamento, frequentemente, trabalhamos com bancos de dados espaciais. Quando se deseja criar chaves compostas para tabelas, as tuplas podem ser usadas para representar combinações únicas de diferentes colunas;\n",
        "\n",
        "- Retorno de Funções: Muitas funções em bibliotecas de geoprocessamento podem retornar múltiplos valores. Por exemplo, uma função que calcula a distância e o ângulo entre dois pontos retornaria ambos os valores como uma tupla;\n",
        "\n",
        "- Definição de Extensões Espaciais: Em algumas operações, como cortar ou recortar um dataset, é necessário definir a extensão espacial (bounding box). Isso pode ser representado por uma tupla de valores mínimos e máximos (xmin, ymin, xmax, ymax);\n",
        "\n",
        "- Especificação de Parâmetros: Muitas operações geoespaciais exigem um conjunto de parâmetros que não mudam durante a operação. Uma tupla pode armazenar esses valores de maneira confiável.\n",
        "\n",
        "\n",
        "*Criação de tuplas*\n",
        "\n",
        "A criação de tuplas pode ser realizada de acordo com os exemplos a seguir:\n",
        "\n",
        "Tupla vazia:"
      ]
    },
    {
      "cell_type": "code",
      "execution_count": null,
      "id": "11e95693",
      "metadata": {
        "id": "11e95693"
      },
      "outputs": [],
      "source": [
        "nome = ()"
      ]
    },
    {
      "cell_type": "markdown",
      "id": "3cb7f8bc",
      "metadata": {
        "id": "3cb7f8bc"
      },
      "source": [
        "Tupla com coordenadas geográficas:"
      ]
    },
    {
      "cell_type": "code",
      "execution_count": null,
      "id": "19d6de3f",
      "metadata": {
        "id": "19d6de3f"
      },
      "outputs": [],
      "source": [
        "coordenada = (45.4215, -75.6972)"
      ]
    },
    {
      "cell_type": "markdown",
      "id": "91d8c5c7",
      "metadata": {
        "id": "91d8c5c7"
      },
      "source": [
        "As tuplas podem ser criadas com ou sem a inserção de parênteses:"
      ]
    },
    {
      "cell_type": "code",
      "execution_count": null,
      "id": "d1e28587",
      "metadata": {
        "id": "d1e28587"
      },
      "outputs": [],
      "source": [
        "coordenada = 45.4215, -75.6972"
      ]
    },
    {
      "cell_type": "markdown",
      "id": "3223e10b",
      "metadata": {
        "id": "3223e10b"
      },
      "source": [
        "Tupla mista, com dados do tipo string e do tipo inteiro:"
      ]
    },
    {
      "cell_type": "code",
      "execution_count": null,
      "id": "42a455bd",
      "metadata": {
        "id": "42a455bd"
      },
      "outputs": [],
      "source": [
        "rio_info = ('Rio Amazonas', 6575, 'América do Sul')"
      ]
    },
    {
      "cell_type": "markdown",
      "id": "6047ca46",
      "metadata": {
        "id": "6047ca46"
      },
      "source": [
        "Tupla aninhada (contendo tuplas e listas):"
      ]
    },
    {
      "cell_type": "code",
      "execution_count": null,
      "id": "821cce9f",
      "metadata": {
        "id": "821cce9f"
      },
      "outputs": [],
      "source": [
        "tupla_aninhada = ((1, 2, 3), [4, 5, 6], (7, 8), [9, 10, 11])"
      ]
    },
    {
      "cell_type": "markdown",
      "id": "dd6e51f4",
      "metadata": {
        "id": "dd6e51f4"
      },
      "source": [
        "*Acessando os elementos de uma tupla*\n",
        "\n",
        "O acesso aos elementos de uma tupla em Python é feito de maneira análoga às listas. Seja por índice, acesso negativo, fatiamento, desempacotamento, uso de funções built-in ou loops, as técnicas usadas para acessar os elementos são as mesmas para ambas as estruturas de dados. A seguir temos um exemplo de acessos aos elementos da tupla “temperaturas”.\n",
        "\n",
        "Criação de tupla com elementos representando a altitude:"
      ]
    },
    {
      "cell_type": "code",
      "execution_count": null,
      "id": "d956c4d4",
      "metadata": {
        "id": "d956c4d4"
      },
      "outputs": [],
      "source": [
        "temperaturas = (20.5, 23.2, 18.7, 21.9, 19.4)"
      ]
    },
    {
      "cell_type": "code",
      "execution_count": null,
      "id": "468ade81",
      "metadata": {
        "id": "468ade81"
      },
      "outputs": [],
      "source": [
        "primeira_temp = temperaturas[0]\n",
        "print(primeira_temp)"
      ]
    },
    {
      "cell_type": "code",
      "execution_count": null,
      "id": "c847108f",
      "metadata": {
        "id": "c847108f"
      },
      "outputs": [],
      "source": [
        "ultima_temp = temperaturas[-1]\n",
        "print(ultima_temp)"
      ]
    },
    {
      "cell_type": "code",
      "execution_count": null,
      "id": "3aba39ed",
      "metadata": {
        "id": "3aba39ed"
      },
      "outputs": [],
      "source": [
        "sub_tupla = temperaturas[1:4]\n",
        "print(sub_tupla)"
      ]
    },
    {
      "cell_type": "code",
      "execution_count": null,
      "id": "4993f084",
      "metadata": {
        "id": "4993f084"
      },
      "outputs": [],
      "source": [
        "t1, t2, t3, t4, t5 = temperaturas\n",
        "print(t1, t2, t3, t4, t5)"
      ]
    },
    {
      "cell_type": "code",
      "execution_count": null,
      "id": "c5f5639e",
      "metadata": {
        "id": "c5f5639e"
      },
      "outputs": [],
      "source": [
        "tamanho = len(temperaturas)\n",
        "print(tamanho)"
      ]
    },
    {
      "cell_type": "code",
      "execution_count": null,
      "id": "7fe4985e",
      "metadata": {
        "id": "7fe4985e"
      },
      "outputs": [],
      "source": [
        "temp_max = max(temperaturas)\n",
        "print(temp_max)"
      ]
    },
    {
      "cell_type": "code",
      "execution_count": null,
      "id": "5087d590",
      "metadata": {
        "id": "5087d590"
      },
      "outputs": [],
      "source": [
        "temp_min = min(temperaturas)\n",
        "print(temp_min)"
      ]
    },
    {
      "cell_type": "markdown",
      "id": "7d5ef14b",
      "metadata": {
        "id": "7d5ef14b"
      },
      "source": [
        "*Conversão entre listas e tuplas*\n",
        "\n",
        "A conversão entre listas e tuplas é uma tarefa comum e fácil de realizar em Python. Tanto é possível converter uma lista em uma tupla quanto converter uma tupla em uma lista, conforme exemplos a seguir:\n",
        "\n",
        "\n",
        "Convertendo uma lista em uma tupla:"
      ]
    },
    {
      "cell_type": "code",
      "execution_count": null,
      "id": "1721f8f7",
      "metadata": {
        "id": "1721f8f7"
      },
      "outputs": [],
      "source": [
        "lista = [1, 2, 3, 4]\n",
        "tupla = tuple(lista)"
      ]
    },
    {
      "cell_type": "markdown",
      "id": "e39cad53",
      "metadata": {
        "id": "e39cad53"
      },
      "source": [
        "Verificando o tipo de dado:"
      ]
    },
    {
      "cell_type": "code",
      "execution_count": null,
      "id": "36cd8249",
      "metadata": {
        "id": "36cd8249"
      },
      "outputs": [],
      "source": [
        "print('Tipo de dado após a conversão:', type(tupla))\n"
      ]
    },
    {
      "cell_type": "markdown",
      "id": "7e552115",
      "metadata": {
        "id": "7e552115"
      },
      "source": [
        "Convertendo uma tupla em uma lista:"
      ]
    },
    {
      "cell_type": "code",
      "execution_count": null,
      "id": "cf5f30f9",
      "metadata": {
        "id": "cf5f30f9"
      },
      "outputs": [],
      "source": [
        "tupla = (1, 2, 3, 4)\n",
        "lista = list(tupla)"
      ]
    },
    {
      "cell_type": "markdown",
      "id": "81f7b3c4",
      "metadata": {
        "id": "81f7b3c4"
      },
      "source": [
        "Verificando o tipo de dado:"
      ]
    },
    {
      "cell_type": "code",
      "execution_count": null,
      "id": "b3a59b6c",
      "metadata": {
        "id": "b3a59b6c"
      },
      "outputs": [],
      "source": [
        "print('Tipo de dado após a conversão:', type(lista))\n"
      ]
    },
    {
      "cell_type": "markdown",
      "id": "a78b8740",
      "metadata": {
        "id": "a78b8740"
      },
      "source": [
        "Essas conversões são úteis quando você tem uma tupla, mas precisa modificar alguns de seus elementos (o que não pode ser feito diretamente, pois as tuplas são imutáveis) ou quando você tem uma lista e quer garantir que seus elementos não sejam alterados acidentalmente em outra parte do código.  No entanto, é importante observar que essas operações criam novas instâncias de objetos e não alteram as originais. Então, se você modificar a nova lista criada a partir de uma tupla, a tupla original permanecerá inalterada e vice-versa.\n",
        "\n",
        "\n",
        "*Como escolher entre a utilização de tuplas ou de listas?*\n",
        "\n",
        "Escolher entre tuplas e listas em Python geralmente depende do contexto e da intenção do uso. Aqui estão algumas diretrizes para ajudá-lo a decidir:\n",
        "\n",
        "a) Imutabilidade:\n",
        "\n",
        "- Tuplas: São imutáveis. Uma vez que você cria uma tupla, não pode alterar seus elementos ou seu tamanho. Isso é útil quando você quer garantir que os dados permaneçam constantes e não sejam alterados acidentalmente em qualquer parte do programa.\n",
        "\n",
        "- Listas: São mutáveis. Você pode modificar, adicionar ou remover elementos de uma lista após sua criação.\n",
        "<br><br>\n",
        "\n",
        "b) Semântica:\n",
        "\n",
        "- Tuplas: Em muitos contextos, tuplas são usadas para representar coleções de itens heterogêneos (por exemplo, coordenadas (x, y), dados de um banco (nome, idade, endereço)). Elas geralmente têm um número fixo de elementos, cada um com um significado específico.\n",
        "\n",
        "- Listas: São geralmente usadas para coleções homogêneas de itens, onde cada item tem o mesmo tipo e significado (por exemplo, uma lista de números, uma lista de nomes).\n",
        "<br><br>\n",
        "\n",
        "c) Desempenho:\n",
        "\n",
        "- Tuplas: Como são imutáveis, tuplas podem ser ligeiramente mais rápidas do que listas em certas operações, como iteração.\n",
        "\n",
        "- Listas: Devido à sua natureza mutável, operações que alteram a lista (como adicionar ou remover elementos) podem ter um custo de desempenho.\n",
        "<br><br>\n",
        "\n",
        "d) Uso em dicionários:\n",
        "\n",
        "- Tuplas: Podem ser usadas como chaves em dicionários, devido à sua imutabilidade.\n",
        "\n",
        "- Listas: Não podem ser usadas como chaves em dicionários, porque são mutáveis.\n",
        "<br><br>\n",
        "\n",
        "e) Intenção:\n",
        "\n",
        "- Tuplas: Transmitir ao leitor do código que a coleção não deve ser modificada.\n",
        "\n",
        "- Listas: Indicar que a coleção pode ser modificada, e que funções ou métodos que alteram listas podem ser aplicados.\n",
        "<br><br>\n",
        "\n",
        "f) Espaço em memória:\n",
        "\n",
        "- Tuplas: Podem ser mais eficientes em termos de espaço em relação às listas, porque não têm o overhead adicional associado à mutabilidade das listas.\n",
        "<br><br>\n",
        "\n",
        "Na prática, use tuplas para:\n",
        "\n",
        "- Representar coleções imutáveis de itens;\n",
        "\n",
        "- Atuar como chaves em dicionários;\n",
        "\n",
        "- Garantir que os dados não sejam modificados acidentalmente;\n",
        "\n",
        "- Retornar múltiplos valores de funções.\n",
        "<br><br>\n",
        "\n",
        "Use listas para:\n",
        "\n",
        "- Representar coleções que podem requerer alterações;\n",
        "\n",
        "- Realizar diversas operações como inserção, remoção, etc.;\n",
        "\n",
        "- Armazenar coleções de dados que são dinâmicos por natureza.\n",
        "\n",
        "\n",
        "\n",
        "\n",
        "\n",
        "### 2.3.3 Dicionários\n",
        "\n",
        "Dicionários são estruturas de dados em Python que armazenam pares chave-valor. Cada chave em um dicionário deve ser única, e os valores associados a essas chaves podem ser acessados diretamente pela chave. A natureza de mapeamento dos dicionários os torna altamente úteis para representar coisas como dados de configuração, registros de tabelas ou qualquer estrutura de dados que associe um identificador (a chave) a um valor. Eles são especialmente úteis quando se deseja criar estruturas de dados complexas e altamente personalizadas.\n",
        "É importante destacar que os dicionários são mutáveis, o que significa que você pode adicionar, modificar e remover pares de chave-valor após o dicionário ter sido criado.\n",
        "\n",
        "Dada a complexidade inerente aos dados geográficos - que muitas vezes envolvem não apenas coordenadas, mas também uma variedade de atributos associados - os dicionários são ferramentas ideais para armazenar e acessar essas informações de forma estruturada.\n",
        "\n",
        "Uma das aplicações mais comuns dos dicionários no geoprocessamento é a representação de atributos de entidades geográficas:"
      ]
    },
    {
      "cell_type": "code",
      "execution_count": null,
      "id": "a75eaa97",
      "metadata": {
        "id": "a75eaa97"
      },
      "outputs": [],
      "source": [
        "ponto_interesse = {\n",
        "    'tipo': 'Hidrografia',\n",
        "    'nome': 'Rio Amazonas',\n",
        "    'extensão': 7062  # em km\n",
        "}"
      ]
    },
    {
      "cell_type": "markdown",
      "id": "f8f03bab",
      "metadata": {
        "id": "f8f03bab"
      },
      "source": [
        "Em sistemas de informações geográficas (SIGs), por exemplo, cada entidade, seja ela um ponto, linha ou polígono, pode ter vários atributos relacionados, como nome, tipo, área, entre outros. Os dicionários oferecem uma maneira intuitiva de associar cada um desses atributos à sua respectiva entidade.\n",
        "\n",
        "Metadados associados a imagens de satélite, que descrevem características como data de captura, resolução e sensor utilizado, são frequentemente representados como dicionários:"
      ]
    },
    {
      "cell_type": "code",
      "execution_count": null,
      "id": "ff91814f",
      "metadata": {
        "id": "ff91814f"
      },
      "outputs": [],
      "source": [
        "metadados_imagem = {\n",
        "    'satélite': 'Sentinel-2',\n",
        "    'data_captura': '2023-01-15',\n",
        "    'resolução': 10,  # em metros/pixel\n",
        "    'bandas': ['B1', 'B2', 'B3', 'B4']\n",
        "}"
      ]
    },
    {
      "cell_type": "markdown",
      "id": "4d9e11ce",
      "metadata": {
        "id": "4d9e11ce"
      },
      "source": [
        "Isso facilita o processamento, a análise e a visualização dessas imagens, garantindo que todas as informações relevantes estejam prontamente disponíveis.\n",
        "\n",
        "Em ferramentas e scripts de geoprocessamento, os dicionários são usados para armazenar configurações e parâmetros que orientam a análise. Isso inclui detalhes como a distância de um buffer em análises de proximidade, opções de interpolação em modelagem de terreno, entre outros."
      ]
    },
    {
      "cell_type": "code",
      "execution_count": null,
      "id": "5a736cf8",
      "metadata": {
        "id": "5a736cf8"
      },
      "outputs": [],
      "source": [
        "config_analise = {\n",
        "    'buffer_distância': 50,  # em metros\n",
        "    'sobreposição_permitida': True,\n",
        "    'unidade_medida': 'metros'\n",
        "}"
      ]
    },
    {
      "cell_type": "markdown",
      "id": "ddc0e584",
      "metadata": {
        "id": "ddc0e584"
      },
      "source": [
        "No contexto de formatos de dados padrão, como o GeoJSON, que é amplamente utilizado para representar estruturas geográficas, a estrutura chave-valor se alinha perfeitamente com a estrutura de dicionários em Python. Esse alinhamento permite que desenvolvedores manipulem e transformem facilmente dados geográficos entre aplicativos e plataformas.\n",
        "\n",
        "Os dicionários são delimitados por chaves, e os pares de chave-valor são separados por vírgulas. A chave e o valor são separados por dois pontos. Por exemplo:"
      ]
    },
    {
      "cell_type": "code",
      "execution_count": null,
      "id": "17c5b70d",
      "metadata": {
        "id": "17c5b70d"
      },
      "outputs": [],
      "source": [
        "{'tipo': 'Hidrografia', 'nome': 'Rio Amazonas', 'extensão': 7062}"
      ]
    },
    {
      "cell_type": "markdown",
      "id": "701d12c5",
      "metadata": {
        "id": "701d12c5"
      },
      "source": [
        "Neste dicionário, “tipo”, “nome” e “extensão” são as chaves. Já “Hidrografia”, “Rio Amazonas” e “7062” são os valores.\n",
        "\n",
        "Com relação as chaves (Keys):\n",
        "\n",
        "- Cada elemento em um dicionário tem uma chave associada a ele;\n",
        "\n",
        "- As chaves são únicas dentro de um dicionário, ou seja, não podem existir duas entradas com a mesma chave;\n",
        "\n",
        "- Uma chave pode ser de qualquer tipo imutável, como números, strings ou tuplas.\n",
        "\n",
        "\n",
        "Com relação aos valores (Values):\n",
        "\n",
        "- Cada chave é associada a um valor;\n",
        "\n",
        "- Os valores não precisam ser únicos;\n",
        "\n",
        "- Os valores podem ser de qualquer tipo: números, strings, listas, outros dicionários, objetos, etc.\n",
        "\n",
        "Até a versão 3.7 do Python, os dicionários eram desordenados, o que significa que a ordem dos itens poderia não ser a mesma em que foram adicionados. A partir dessa versão, os dicionários mantêm a ordem de inserção, mas ainda é importante notar que os dicionários são essencialmente estruturas de mapeamento e não sequências.\n",
        "\n",
        "\n",
        "*Criação de dicionários*\n",
        "\n",
        "Dicionários são criados usando chaves ou com a função built-in dict(). Exemplos:"
      ]
    },
    {
      "cell_type": "code",
      "execution_count": null,
      "id": "52233cd0",
      "metadata": {
        "id": "52233cd0"
      },
      "outputs": [],
      "source": [
        "#Criação de dicionário usando chaves {}\n",
        "ponto_geografico = {\n",
        "    'nome': 'Pico da Neblina',\n",
        "    'latitude': -0.8495,\n",
        "    'longitude': -66.9083,\n",
        "    'elevação': 2994  # em metros\n",
        "}"
      ]
    },
    {
      "cell_type": "code",
      "execution_count": null,
      "id": "c60280d7",
      "metadata": {
        "id": "c60280d7"
      },
      "outputs": [],
      "source": [
        "#Criação de dicionário usando dict()\n",
        "ponto_geografico = dict(\n",
        "    nome='Pico da Neblina',\n",
        "    latitude=-0.8495,\n",
        "    longitude=-66.9083,\n",
        "    elevação=2994  # em metros\n",
        ")"
      ]
    },
    {
      "cell_type": "markdown",
      "id": "d558fbf1",
      "metadata": {
        "id": "d558fbf1"
      },
      "source": [
        "\tOutros exemplos de criação de questionários:"
      ]
    },
    {
      "cell_type": "code",
      "execution_count": null,
      "id": "b567b663",
      "metadata": {
        "id": "b567b663"
      },
      "outputs": [],
      "source": [
        "# Dicionário para armazenar dados sobre municípios\n",
        "municipio = {\n",
        "    'nome': 'São Paulo',\n",
        "    'estado': 'SP',\n",
        "    'população': 12330000,  # aproximação\n",
        "    'zona_climática': 'Tropical de altitude'\n",
        "}"
      ]
    },
    {
      "cell_type": "code",
      "execution_count": null,
      "id": "0ecdc692",
      "metadata": {
        "id": "0ecdc692"
      },
      "outputs": [],
      "source": [
        "#Dicionário com dados do Landsat\n",
        "sensor_satelite = {\n",
        "    'modelo': 'Landsat 8',\n",
        "    'bandas': ['B1', 'B2', 'B3', 'B4', 'B5', 'B6', 'B7', 'B8'],\n",
        "    'resolução_espacial': 30,  # em metros\n",
        "    'operador': 'USGS e NASA'\n",
        "}"
      ]
    },
    {
      "cell_type": "markdown",
      "id": "8a50f266",
      "metadata": {
        "id": "8a50f266"
      },
      "source": [
        "*Acessando os elementos de um dicionário*\n",
        "\n",
        "Acessar informações em um dicionário é uma operação corriqueira em Python, e as principais formas de fazer isso são através das chaves, dos métodos associados e por iteração (que veremos mais adiante em nosso curso). Vamos explorar essas maneiras no contexto do geoprocessamento utilizando o dicionário “metadados_imagem” apresentado anteriormente."
      ]
    },
    {
      "cell_type": "code",
      "execution_count": null,
      "id": "9e85af0a",
      "metadata": {
        "id": "9e85af0a"
      },
      "outputs": [],
      "source": [
        "metadados_imagem = {\n",
        "    'satélite': 'Sentinel-2',\n",
        "    'data_captura': '2023-01-15',\n",
        "    'resolução': 10,  # em metros/pixel\n",
        "    'bandas': ['B1', 'B2', 'B3', 'B4']\n",
        "}"
      ]
    },
    {
      "cell_type": "markdown",
      "id": "7320b764",
      "metadata": {
        "id": "7320b764"
      },
      "source": [
        "- Acesso Direto pelas Chaves:\n",
        "\n",
        "Você pode acessar um valor em um dicionário diretamente utilizando sua chave. Se a chave estiver no dicionário, o valor correspondente será retornado; caso contrário, um erro KeyError será gerado.\n",
        "\n",
        "Exemplo: Se tivermos um dicionário representando metadados de uma imagem de satélite, podemos acessar a data de captura com metadados."
      ]
    },
    {
      "cell_type": "code",
      "execution_count": null,
      "id": "e9f67dfa",
      "metadata": {
        "id": "e9f67dfa"
      },
      "outputs": [],
      "source": [
        "print(metadados_imagem['data_captura'])"
      ]
    },
    {
      "cell_type": "markdown",
      "id": "76dc5454",
      "metadata": {
        "id": "76dc5454"
      },
      "source": [
        "- Método get():\n",
        "\n",
        "Semelhante ao acesso direto, o método get() permite recuperar o valor associado a uma chave. A diferença é que, se a chave não estiver presente, get() retornará None (ou um valor padrão especificado) em vez de gerar um erro.\n",
        "\n",
        "Exemplo: Retornar um valor a partir de uma chave. Caso não exista a chave que se está buscando, imprimi o seguinte texto: ‘Não informado’."
      ]
    },
    {
      "cell_type": "code",
      "execution_count": null,
      "id": "bcf8ff58",
      "metadata": {
        "id": "bcf8ff58"
      },
      "outputs": [],
      "source": [
        "print(metadados_imagem.get('data_captura', 'Não informado'))"
      ]
    },
    {
      "cell_type": "code",
      "execution_count": null,
      "id": "caa89607",
      "metadata": {
        "id": "caa89607"
      },
      "outputs": [],
      "source": [
        "print(metadados_imagem.get('altitude', 'Não informado'))"
      ]
    },
    {
      "cell_type": "markdown",
      "id": "3c771f01",
      "metadata": {
        "id": "3c771f01"
      },
      "source": [
        "- Acesso às Chaves, Valores e Itens:\n",
        "\n",
        "keys(): Retorna uma lista das chaves no dicionário.\n",
        "\n",
        "values(): Retorna uma lista dos valores no dicionário.\n",
        "\n",
        "items(): Retorna uma lista de tuplas, onde cada tupla consiste em uma chave e um valor.\n",
        "\n",
        "Exemplo:"
      ]
    },
    {
      "cell_type": "code",
      "execution_count": null,
      "id": "a33e69fb",
      "metadata": {
        "id": "a33e69fb"
      },
      "outputs": [],
      "source": [
        "# Obter todas as chaves\n",
        "print(metadados_imagem.keys())"
      ]
    },
    {
      "cell_type": "code",
      "execution_count": null,
      "id": "0c83d690",
      "metadata": {
        "id": "0c83d690"
      },
      "outputs": [],
      "source": [
        "# Obter todos os valores\n",
        "print(metadados_imagem.values())"
      ]
    },
    {
      "cell_type": "code",
      "execution_count": null,
      "id": "dad79652",
      "metadata": {
        "id": "dad79652"
      },
      "outputs": [],
      "source": [
        "# Obter tanto as chaves quanto os valores\n",
        "print(metadados_imagem.items())"
      ]
    },
    {
      "cell_type": "markdown",
      "id": "4ab97246",
      "metadata": {
        "id": "4ab97246"
      },
      "source": [
        "*Modificação de valores no dicionário*\n",
        "\n",
        "Os dicionários são estruturas de dados mutáveis em Python, o que significa que você pode modificar seus valores após a criação. Para modificar um dicionário, você simplesmente atribui um novo valor a uma chave existente ou adiciona uma nova chave-valor ao dicionário.\n",
        "Vamos explorar a modificação de valores em dicionários usando o dicionário metadados_imagem:"
      ]
    },
    {
      "cell_type": "code",
      "execution_count": null,
      "id": "43c87dd9",
      "metadata": {
        "id": "43c87dd9"
      },
      "outputs": [],
      "source": [
        "metadados_imagem = {\n",
        "    'satélite': 'Sentinel-2',\n",
        "    'data_captura': '2023-01-15',\n",
        "    'resolução': 10,  # em metros/pixel\n",
        "    'bandas': ['B1', 'B2', 'B3', 'B4']\n",
        "}"
      ]
    },
    {
      "cell_type": "markdown",
      "id": "67b9621d",
      "metadata": {
        "id": "67b9621d"
      },
      "source": [
        "- Modificar um valor existente:\n",
        "\n",
        "Se você deseja alterar o satélite registrado, pode fazer o seguinte:"
      ]
    },
    {
      "cell_type": "code",
      "execution_count": null,
      "id": "6db88572",
      "metadata": {
        "id": "6db88572"
      },
      "outputs": [],
      "source": [
        "metadados_imagem['satélite'] = 'Sentinel-3'\n",
        "print(metadados_imagem['satélite'])"
      ]
    },
    {
      "cell_type": "markdown",
      "id": "9a7dffc6",
      "metadata": {
        "id": "9a7dffc6"
      },
      "source": [
        "- Adicionar uma novo par chave-valor:\n",
        "\n",
        "Vamos supor que você deseja adicionar informações sobre a área de cobertura da imagem:"
      ]
    },
    {
      "cell_type": "code",
      "execution_count": null,
      "id": "422e07da",
      "metadata": {
        "id": "422e07da"
      },
      "outputs": [],
      "source": [
        "metadados_imagem['area_cobertura'] = 'América do Sul'\n",
        "print(metadados_imagem['area_cobertura'])\n"
      ]
    },
    {
      "cell_type": "markdown",
      "id": "53f15ce4",
      "metadata": {
        "id": "53f15ce4"
      },
      "source": [
        "- Modificar uma lista dentro do dicionário:\n",
        "\n",
        "Você pode alterar ou adicionar novas bandas à lista de bandas:"
      ]
    },
    {
      "cell_type": "code",
      "execution_count": null,
      "id": "314a4ec6",
      "metadata": {
        "id": "314a4ec6"
      },
      "outputs": [],
      "source": [
        "metadados_imagem['bandas'].append('B5')\n",
        "print(metadados_imagem['bandas'])"
      ]
    },
    {
      "cell_type": "markdown",
      "id": "05442651",
      "metadata": {
        "id": "05442651"
      },
      "source": [
        "- Remover uma chave-valor:\n",
        "\n",
        "Se por algum motivo você precisar remover a resolução, pode usar o método pop:"
      ]
    },
    {
      "cell_type": "code",
      "execution_count": null,
      "id": "f86cfa34",
      "metadata": {
        "id": "f86cfa34"
      },
      "outputs": [],
      "source": [
        "resolucao_removida = metadados_imagem.pop('resolução')\n",
        "print(resolucao_removida)  # Saída: 10\n",
        "print('resolução' in metadados_imagem)"
      ]
    },
    {
      "cell_type": "markdown",
      "id": "cd83b4bc",
      "metadata": {
        "id": "cd83b4bc"
      },
      "source": [
        "*Remoção de elementos usando del, pop() ou popitem()*\n",
        "\n",
        "Em Python, a remoção de elementos de estruturas de dados é facilitada por métodos e comandos intuitivos. O comando del é versátil e pode ser usado para deletar itens de listas ou chaves de dicionários. Por outro lado, o método pop(), frequentemente utilizado com listas, também serve para dicionários e permite remover um item especificado pela sua posição ou chave, retornando o valor correspondente. No contexto de dicionários, o popitem() é particularmente útil, pois elimina o último par chave-valor inserido, adaptando-se ao comportamento de ordem de inserção preservada dos dicionários a partir do Python 3.7.\n",
        "\n",
        "Vamos recriar o dicionário metadados_imagem:"
      ]
    },
    {
      "cell_type": "code",
      "execution_count": null,
      "id": "63200c18",
      "metadata": {
        "id": "63200c18"
      },
      "outputs": [],
      "source": [
        "metadados_imagem = {\n",
        "    'satélite': 'Sentinel-2',\n",
        "    'data_captura': '2023-01-15',\n",
        "    'resolução': 10,  # em metros/pixel\n",
        "    'bandas': ['B1', 'B2', 'B3', 'B4']\n",
        "}"
      ]
    },
    {
      "cell_type": "markdown",
      "id": "08cdaa2a",
      "metadata": {
        "id": "08cdaa2a"
      },
      "source": [
        "- Usando del:\n",
        "\n",
        "Este é um comando para deletar uma chave e seu valor correspondente. Se você tentar remover uma chave que não existe usando del, um erro será gerado."
      ]
    },
    {
      "cell_type": "code",
      "execution_count": null,
      "id": "0060f030",
      "metadata": {
        "id": "0060f030"
      },
      "outputs": [],
      "source": [
        "del metadados_imagem['data_captura']"
      ]
    },
    {
      "cell_type": "markdown",
      "id": "89e5b531",
      "metadata": {
        "id": "89e5b531"
      },
      "source": [
        "- Usando pop():\n",
        "\n",
        "Este método remove uma chave específica e retorna o valor correspondente. Se a chave não existir e nenhum valor padrão for fornecido, um erro será gerado."
      ]
    },
    {
      "cell_type": "code",
      "execution_count": null,
      "id": "97199fce",
      "metadata": {
        "id": "97199fce"
      },
      "outputs": [],
      "source": [
        "resolucao = metadados_imagem.pop('resolução')\n",
        "print(resolucao)"
      ]
    },
    {
      "cell_type": "markdown",
      "id": "e1d61c15",
      "metadata": {
        "id": "e1d61c15"
      },
      "source": [
        "- Usando popitem():\n",
        "\n",
        "Este método remove o último par chave-valor inserido no dicionário e o retorna como uma tupla. Este comportamento é útil quando trabalhamos com dicionários a partir do Python 3.7, onde os dicionários mantêm a ordem de inserção."
      ]
    },
    {
      "cell_type": "code",
      "execution_count": null,
      "id": "3678f981",
      "metadata": {
        "id": "3678f981"
      },
      "outputs": [],
      "source": [
        "item_removido = metadados_imagem.popitem()\n",
        "print(item_removido)"
      ]
    },
    {
      "cell_type": "markdown",
      "id": "5071ea56",
      "metadata": {
        "id": "5071ea56"
      },
      "source": [
        "Após executar todas essas operações, o dicionário “metadados_imagem” terá apenas o par chave-valor “satélite: Sentinel-2”.\n",
        "{'satélite': 'Sentinel-2'}\n",
        "\n",
        "\n",
        "\n",
        "*Atualização de um dicionário com outro dicionário ou com pares de chave-valor*\n",
        "\n",
        "Atualizar um dicionário em Python pode ser feito de várias maneiras, mas uma das abordagens mais diretas é usar o método update(). Este método permite combinar dois dicionários ou adicionar pares chave-valor a um dicionário existente.\n",
        "\n",
        "\n",
        "- Atualizando com outro dicionário:\n",
        "\n",
        "Suponha que você tenha dois dicionários relacionados referentes aos metadados de imagens do Sentinel-2:"
      ]
    },
    {
      "cell_type": "code",
      "execution_count": null,
      "id": "f31f4d4a",
      "metadata": {
        "id": "f31f4d4a"
      },
      "outputs": [],
      "source": [
        "metadados_imagem1 = {\n",
        "    'satélite': 'Sentinel-2',\n",
        "    'resolução': 10\n",
        "}"
      ]
    },
    {
      "cell_type": "code",
      "execution_count": null,
      "id": "c4c75d32",
      "metadata": {
        "id": "c4c75d32"
      },
      "outputs": [],
      "source": [
        "metadados_imagem2 = {\n",
        "    'data_captura': '2023-01-15',\n",
        "    'bandas': ['B1', 'B2', 'B3', 'B4']\n",
        "}"
      ]
    },
    {
      "cell_type": "markdown",
      "id": "52f80bc7",
      "metadata": {
        "id": "52f80bc7"
      },
      "source": [
        "Para combinar esses dois dicionários, você pode usar o método update():"
      ]
    },
    {
      "cell_type": "code",
      "execution_count": null,
      "id": "783512d1",
      "metadata": {
        "id": "783512d1"
      },
      "outputs": [],
      "source": [
        "metadados_imagem1.update(metadados_imagem2)\n",
        "metadados_imagem1"
      ]
    },
    {
      "cell_type": "markdown",
      "id": "1d3f9a22",
      "metadata": {
        "id": "1d3f9a22"
      },
      "source": [
        "Após essa operação, metadados_imagem1 terá todos os pares chave-valor dos dois dicionários originais.\n",
        "\n",
        "\n",
        "\n",
        "- Atualizando com pares de chave-valor\n",
        "\n",
        "Para adicionar uma nova chave \"tipo\" com o valor \"ótico\":"
      ]
    },
    {
      "cell_type": "code",
      "execution_count": null,
      "id": "b79af005",
      "metadata": {
        "id": "b79af005"
      },
      "outputs": [],
      "source": [
        "metadados_imagem1.update({'tipo': 'ótico'})\n",
        "metadados_imagem1"
      ]
    },
    {
      "cell_type": "markdown",
      "id": "dad7328e",
      "metadata": {
        "id": "dad7328e"
      },
      "source": [
        "Também é possível adicionar múltiplas chaves e valores simultaneamente:"
      ]
    },
    {
      "cell_type": "code",
      "execution_count": null,
      "id": "a502b13c",
      "metadata": {
        "id": "a502b13c"
      },
      "outputs": [],
      "source": [
        "metadados_imagem1.update(tipo='ótico', operador='ESA')\n",
        "metadados_imagem1"
      ]
    },
    {
      "cell_type": "markdown",
      "id": "c7469e20",
      "metadata": {
        "id": "c7469e20"
      },
      "source": [
        "Após qualquer uma dessas operações, o dicionário metadados_imagem1 será atualizado com as novas chaves e valores fornecidos.\n",
        "\n",
        "\n",
        "*Outras operações comuns em dicionários*\n",
        "\n",
        "- Verificação de presença de uma chave com in:\n",
        "\n",
        "Em Python, para verificar se uma chave está presente em um dicionário, você pode usar o operador in. A vantagem de usar esse operador é que ele fornece uma maneira rápida e legível de verificar a existência de uma chave. Além disso, evita a ocorrência de KeyError, que pode ocorrer se você tentar acessar diretamente um valor usando uma chave que não exista no dicionário."
      ]
    },
    {
      "cell_type": "code",
      "execution_count": null,
      "id": "b2f15340",
      "metadata": {
        "id": "b2f15340"
      },
      "outputs": [],
      "source": [
        "dicionario = {'cidade': 'Natal', 'estado': 'RN', 'país': 'Brasil'}\n",
        "existe = 'cidade' in dicionario"
      ]
    },
    {
      "cell_type": "markdown",
      "id": "8377483a",
      "metadata": {
        "id": "8377483a"
      },
      "source": [
        "- Uso da função len():\n",
        "\n",
        "A função len() retorna o número de pares chave-valor presentes no dicionário."
      ]
    },
    {
      "cell_type": "code",
      "execution_count": null,
      "id": "b97dd635",
      "metadata": {
        "id": "b97dd635"
      },
      "outputs": [],
      "source": [
        "tamanho = len(dicionario)\n",
        "tamanho"
      ]
    },
    {
      "cell_type": "markdown",
      "id": "63711fc6",
      "metadata": {
        "id": "63711fc6"
      },
      "source": [
        "- Uso do método clear():\n",
        "\n",
        "O método clear() Remove todos os pares chave-valor do dicionário, tornando-o um dicionário vazio."
      ]
    },
    {
      "cell_type": "code",
      "execution_count": null,
      "id": "d3619e0e",
      "metadata": {
        "id": "d3619e0e"
      },
      "outputs": [],
      "source": [
        "dicionario.clear()\n",
        "dicionario"
      ]
    },
    {
      "cell_type": "markdown",
      "id": "dc668c5e",
      "metadata": {
        "id": "dc668c5e"
      },
      "source": [
        "### 2.3.4 Conjuntos (Sets)\n",
        "\n",
        "Conjuntos (ou sets, em inglês) são uma das estruturas de dados fundamentais em Python. Eles são coleções não ordenadas de elementos únicos. Isso significa que um conjunto não pode conter elementos duplicados. Devido à sua natureza não ordenada, conjuntos não suportam indexação ou fatiamento, como listas ou strings. Aqui estão algumas características e operações fundamentais associadas aos conjuntos:\n",
        "\n",
        "- Não ordenado: Os itens têm uma ordem não definida e não podem ser referenciados por índice ou chave.\n",
        "\n",
        "- Elementos únicos: Os conjuntos não permitem elementos duplicados.\n",
        "\n",
        "- Mutável: Você pode adicionar ou remover itens após a criação do conjunto.\n",
        "\n",
        "- Permite diferentes tipos de dados: Um conjunto pode conter números, strings, tuplas e outros tipos imutáveis de dados.\n",
        "\n",
        "Conjuntos são particularmente úteis quando você quer eliminar itens duplicados de uma lista ou quando precisa realizar operações matemáticas de conjunto, como união, interseção e diferença.\n",
        "\n",
        "\n",
        "*Criação de Conjuntos*\n",
        "\n",
        "- Usando chaves:"
      ]
    },
    {
      "cell_type": "code",
      "execution_count": null,
      "id": "d6cfe241",
      "metadata": {
        "id": "d6cfe241"
      },
      "outputs": [],
      "source": [
        "# Criando um conjunto de números inteiros\n",
        "conjunto_inteiros = {1, 2, 3, 4, 5}\n",
        "print(conjunto_inteiros)"
      ]
    },
    {
      "cell_type": "code",
      "execution_count": null,
      "id": "7aa854dc",
      "metadata": {
        "id": "7aa854dc"
      },
      "outputs": [],
      "source": [
        "# Criando um conjunto de strings\n",
        "tipos_dados_geo = {\"ponto\", \"linha\", \"polígono\"}\n",
        "print(tipos_dados_geo)"
      ]
    },
    {
      "cell_type": "code",
      "execution_count": null,
      "id": "26d9c47e",
      "metadata": {
        "id": "26d9c47e"
      },
      "outputs": [],
      "source": [
        "# Observe que os elementos duplicados são automaticamente removidos\n",
        "conjunto_duplicados = {1, 2, 2, 3, 4, 4, 5}\n",
        "print(conjunto_duplicados)"
      ]
    },
    {
      "cell_type": "markdown",
      "id": "33c36ffd",
      "metadata": {
        "id": "33c36ffd"
      },
      "source": [
        "- Usando a função set():"
      ]
    },
    {
      "cell_type": "code",
      "execution_count": null,
      "id": "cb2fbd1f",
      "metadata": {
        "id": "cb2fbd1f"
      },
      "outputs": [],
      "source": [
        "# Convertendo uma lista em conjunto\n",
        "\n",
        "lista = [1, 2, 3, 4, 5]\n",
        "conjunto_a_partir_da_lista = set(lista)\n",
        "print(conjunto_a_partir_da_lista)"
      ]
    },
    {
      "cell_type": "code",
      "execution_count": null,
      "id": "bc1a7f52",
      "metadata": {
        "id": "bc1a7f52"
      },
      "outputs": [],
      "source": [
        "# Convertendo uma tupla em conjunto\n",
        "operacoes = (\"intersecção\", \"união\", \"diferença\", \"intersecção\")\n",
        "conjunto_operacoes = set(operacoes)\n",
        "print(conjunto_operacoes)"
      ]
    },
    {
      "cell_type": "code",
      "execution_count": null,
      "id": "5ef0f5c2",
      "metadata": {
        "id": "5ef0f5c2"
      },
      "outputs": [],
      "source": [
        "# Criando um conjunto vazio usando set()\n",
        "# Não é possível criar um conjunto vazio com {}\n",
        "conjunto_vazio = set()\n",
        "print(conjunto_vazio)"
      ]
    },
    {
      "cell_type": "markdown",
      "id": "821025c9",
      "metadata": {
        "id": "821025c9"
      },
      "source": [
        "*Operações Básicas com Conjuntos*\n",
        "\n",
        "Os conjuntos em Python vêm com um conjunto de métodos integrados que facilitam a manipulação e a gestão dos seus elementos. Aqui, apresentaremos algumas das operações mais comuns que você pode realizar em conjuntos:\n",
        "\n",
        "- add: Esse método permite adicionar um único elemento ao conjunto. Se o elemento já estiver presente, o conjunto permanecerá inalterado, pois não pode haver duplicatas.\n",
        "\n",
        "- update: Usado para adicionar múltiplos elementos ao conjunto. É semelhante ao método add, mas aceita uma lista de elementos.\n",
        "\n",
        "- remove: Remove um elemento especificado do conjunto. Se o elemento não estiver presente, gerará um erro.\n",
        "\n",
        "- discard: Semelhante ao método remove, mas não gera um erro se o elemento a ser descartado não estiver presente no conjunto.\n",
        "\n",
        "- clear: Este método esvazia o conjunto, removendo todos os seus elementos.\n",
        "\n",
        "Exemplos:\n",
        "\n",
        "Criar dois conjuntos:"
      ]
    },
    {
      "cell_type": "code",
      "execution_count": null,
      "id": "4ab5fa90",
      "metadata": {
        "id": "4ab5fa90"
      },
      "outputs": [],
      "source": [
        "A = {1, 2, 3}\n",
        "B = {3, 4, 5}"
      ]
    },
    {
      "cell_type": "markdown",
      "id": "59cc927a",
      "metadata": {
        "id": "59cc927a"
      },
      "source": [
        "Adicionar um único elemento no conjunto:"
      ]
    },
    {
      "cell_type": "code",
      "execution_count": null,
      "id": "8ebb57f0",
      "metadata": {
        "id": "8ebb57f0"
      },
      "outputs": [],
      "source": [
        "A.add(6)\n",
        "print(A)"
      ]
    },
    {
      "cell_type": "markdown",
      "id": "45d98731",
      "metadata": {
        "id": "45d98731"
      },
      "source": [
        "Adicionar múltiplos elementos:"
      ]
    },
    {
      "cell_type": "code",
      "execution_count": null,
      "id": "03886fd8",
      "metadata": {
        "id": "03886fd8"
      },
      "outputs": [],
      "source": [
        "A.update([7, 8])\n",
        "print(A)"
      ]
    },
    {
      "cell_type": "markdown",
      "id": "4c483256",
      "metadata": {
        "id": "4c483256"
      },
      "source": [
        "Remover um elemento:"
      ]
    },
    {
      "cell_type": "code",
      "execution_count": null,
      "id": "18038ed3",
      "metadata": {
        "id": "18038ed3"
      },
      "outputs": [],
      "source": [
        "A.remove(1)\n",
        "print(A)"
      ]
    },
    {
      "cell_type": "markdown",
      "id": "6600ce53",
      "metadata": {
        "id": "6600ce53"
      },
      "source": [
        "Remover um elemento sem levantar erro caso ele não exista:"
      ]
    },
    {
      "cell_type": "code",
      "execution_count": null,
      "id": "0c2ebb42",
      "metadata": {
        "id": "0c2ebb42"
      },
      "outputs": [],
      "source": [
        "A.discard(10)\n",
        "# Não acontece nada, já que 10 não está no conjunto"
      ]
    },
    {
      "cell_type": "markdown",
      "id": "0926e421",
      "metadata": {
        "id": "0926e421"
      },
      "source": [
        "Remover todos os elementos de um conjunto, deixando-o vazio:"
      ]
    },
    {
      "cell_type": "code",
      "execution_count": null,
      "id": "7cd5d55c",
      "metadata": {
        "id": "7cd5d55c"
      },
      "outputs": [],
      "source": [
        "A.clear()\n",
        "print(f\"Conjunto após limpar todos os elementos: {A}\")"
      ]
    },
    {
      "cell_type": "markdown",
      "id": "8e26832a",
      "metadata": {
        "id": "8e26832a"
      },
      "source": [
        "*Operações de Conjunto*\n",
        "\n",
        "Os conjuntos, em qualquer contexto matemático ou de programação, são coleções não ordenadas de itens únicos. No Python, eles não são apenas úteis para garantir unicidade, mas também para realizar operações matemáticas clássicas de conjuntos. Estas operações permitem analisar relações entre diferentes grupos de dados e encontrar semelhanças, diferenças, interseções, entre outros. Algumas das operações de conjunto mais comuns são:\n",
        "\n",
        "- União: Esta operação combina os elementos de dois conjuntos, criando um novo conjunto que contém todos os elementos únicos dos conjuntos originais. No Python, a união pode ser realizada usando o método union() ou o operador “|”."
      ]
    },
    {
      "cell_type": "code",
      "execution_count": null,
      "id": "552a5642",
      "metadata": {
        "id": "552a5642"
      },
      "outputs": [],
      "source": [
        "# Criando dois conjuntos\n",
        "A = {1, 2, 3}\n",
        "B = {3, 4, 5}"
      ]
    },
    {
      "cell_type": "code",
      "execution_count": null,
      "id": "5331bee0",
      "metadata": {
        "id": "5331bee0"
      },
      "outputs": [],
      "source": [
        "uniao = A.union(B)\n",
        "print(uniao)"
      ]
    },
    {
      "cell_type": "code",
      "execution_count": null,
      "id": "c9b7eb8f",
      "metadata": {
        "id": "c9b7eb8f"
      },
      "outputs": [],
      "source": [
        "# Ou usando o operador |\n",
        "uniao = A | B\n",
        "print(uniao)"
      ]
    },
    {
      "cell_type": "markdown",
      "id": "b5826f38",
      "metadata": {
        "id": "b5826f38"
      },
      "source": [
        "- Interseção: Encontra os elementos que são comuns a ambos os conjuntos. Pode ser realizada usando o método intersection() ou o operador “&”."
      ]
    },
    {
      "cell_type": "code",
      "execution_count": null,
      "id": "80347261",
      "metadata": {
        "id": "80347261"
      },
      "outputs": [],
      "source": [
        "interseccao = A.intersection(B)\n",
        "print(interseccao)"
      ]
    },
    {
      "cell_type": "code",
      "execution_count": null,
      "id": "5d931737",
      "metadata": {
        "id": "5d931737"
      },
      "outputs": [],
      "source": [
        "# Ou usando o operador &\n",
        "interseccao = A & B\n",
        "print(interseccao)"
      ]
    },
    {
      "cell_type": "markdown",
      "id": "1f27ff00",
      "metadata": {
        "id": "1f27ff00"
      },
      "source": [
        "- Diferença: Retorna os elementos que estão no primeiro conjunto, mas não no segundo. É feito usando o método difference() ou o operador “-“."
      ]
    },
    {
      "cell_type": "code",
      "execution_count": null,
      "id": "7ed669bc",
      "metadata": {
        "id": "7ed669bc"
      },
      "outputs": [],
      "source": [
        "diferenca = A.difference(B)\n",
        "print(diferenca)"
      ]
    },
    {
      "cell_type": "code",
      "execution_count": null,
      "id": "c4921f56",
      "metadata": {
        "id": "c4921f56"
      },
      "outputs": [],
      "source": [
        "# Ou usando o operador -\n",
        "diferenca = A - B\n",
        "print(diferenca)"
      ]
    },
    {
      "cell_type": "markdown",
      "id": "3849d626",
      "metadata": {
        "id": "3849d626"
      },
      "source": [
        "- Diferença Simétrica: Identifica os elementos que estão apenas em um dos conjuntos, mas não em ambos. Pode ser obtida com o método symmetric_difference() ou o operador “^”."
      ]
    },
    {
      "cell_type": "code",
      "execution_count": null,
      "id": "3d6536c9",
      "metadata": {
        "id": "3d6536c9"
      },
      "outputs": [],
      "source": [
        "dif_simetrica = A.symmetric_difference(B)\n",
        "print(dif_simetrica)"
      ]
    },
    {
      "cell_type": "code",
      "execution_count": null,
      "id": "6540d37a",
      "metadata": {
        "id": "6540d37a"
      },
      "outputs": [],
      "source": [
        "# Ou usando o operador ^\n",
        "dif_simetrica = A ^ B\n",
        "print(dif_simetrica)"
      ]
    },
    {
      "cell_type": "markdown",
      "id": "ba5e30f9",
      "metadata": {
        "id": "ba5e30f9"
      },
      "source": [
        "Além dessas operações básicas, existem métodos para verificar subconjuntos, superconjuntos e se conjuntos são disjuntos (não têm elementos em comum).\n",
        "\n",
        "- Subconjunto: verifica se um conjunto é um subconjunto de outro conjunto."
      ]
    },
    {
      "cell_type": "code",
      "execution_count": null,
      "id": "eca9d32e",
      "metadata": {
        "id": "eca9d32e"
      },
      "outputs": [],
      "source": [
        "C = {1, 2}\n",
        "print(C.issubset(A))"
      ]
    },
    {
      "cell_type": "markdown",
      "id": "1fdc2b04",
      "metadata": {
        "id": "1fdc2b04"
      },
      "source": [
        "- Superconjunto: verifica se um conjunto é um superconjunto de outro conjunto."
      ]
    },
    {
      "cell_type": "code",
      "execution_count": null,
      "id": "bbc8d213",
      "metadata": {
        "id": "bbc8d213"
      },
      "outputs": [],
      "source": [
        "print(A.issuperset(C))"
      ]
    },
    {
      "cell_type": "markdown",
      "id": "a531b090",
      "metadata": {
        "id": "a531b090"
      },
      "source": [
        "- Conjuntos Disjuntos: verifica se dois conjuntos não têm elementos em comum."
      ]
    },
    {
      "cell_type": "code",
      "execution_count": null,
      "id": "ae7cf33b",
      "metadata": {
        "id": "ae7cf33b"
      },
      "outputs": [],
      "source": [
        "D = {7, 8, 9}\n",
        "print(A.isdisjoint(D))"
      ]
    },
    {
      "cell_type": "markdown",
      "id": "5a672e84",
      "metadata": {
        "id": "5a672e84"
      },
      "source": [
        "## 2.4 Estruturas de controle\n",
        "\n",
        "Em qualquer linguagem de programação, devemos ter a possibilidade de tomar decisões e de repetir tarefas. As estruturas de controle em Python fornecem os mecanismos necessários para dirigir o fluxo de um programa, permitindo que os desenvolvedores codifiquem lógicas mais complexas e adaptativas.\n",
        "\n",
        "Primeiramente, temos as estruturas condicionais, representadas principalmente pelas palavras-chave if, elif e else. Elas permitem que o programa tome decisões, executando blocos específicos de código com base em condições predefinidas. Por exemplo, pode-se verificar se um número é positivo, negativo ou zero e, com base nessa condição, tomar ações diferentes.\n",
        "\n",
        "Já as estruturas de repetição, ou loops, são responsáveis por executar um bloco de código várias vezes, enquanto uma condição específica for atendida ou até que uma lista de itens seja processada. Em Python, os loops mais comuns são representados por for e while. O loop for é frequentemente usado para iterar sobre sequências (como listas ou strings), enquanto o while continua executando enquanto uma determinada condição for verdadeira.\n",
        "\n",
        "Além dessas estruturas básicas, Python também oferece recursos avançados, como compreensões de lista (list comprehensions) para criar listas de forma concisa e a palavra-chave break para sair prematuramente de um loop.\n",
        "\n",
        "O geoprocessamento refere-se ao conjunto de técnicas utilizadas para coletar, tratar, manipular e apresentar informações espaciais. Em razão de sua complexidade e variedade, o uso das estruturas de controle em linguagens de programação, como Python, é fundamental para automatizar e otimizar processos relacionados à análise geoespacial.\n",
        "\n",
        "As estruturas condicionais são amplamente aplicadas em cenários de tomada de decisão. Por exemplo, em análises de uso do solo, um programa pode avaliar pixels de uma imagem de satélite e, com base em sua refletância, classificá-los como água, vegetação, solo exposto, entre outros. Assim, a lógica condicional permite que cada pixel seja categorizado corretamente.\n",
        "\n",
        "Já as estruturas de repetição são importantes em operações que requerem análise iterativa. Em modelagem hidrológica, por exemplo, é comum que se necessite percorrer uma matriz digital de elevação, célula por célula, para calcular direções de fluxo ou acumulação de água. Os loops, nesse contexto, permitem iterar sobre grandes conjuntos de dados espaciais, aplicando algoritmos específicos a cada ponto ou região.\n",
        "\n",
        "Em operações mais avançadas, como a execução de algoritmos de busca em redes ou grafos (como a determinação do caminho mais curto entre dois pontos em uma rede rodoviária), as estruturas de controle gerenciam a lógica, os critérios de parada e as iterações necessárias para o cálculo.\n",
        "\n",
        "\n",
        "### 2.4.1 Estruturas condicionais: estrutura e sintaxe do if, elif e else\n",
        "\n",
        "A base de uma estrutura condicional é um teste lógico, que pode resultar em um valor verdadeiro ou falso. Dependendo desse resultado, o programa pode seguir diferentes caminhos ou executar blocos distintos de instruções. Essa capacidade de avaliar condições e agir de acordo oferece uma grande flexibilidade ao programador, possibilitando a criação de software mais dinâmico e responsivo.\n",
        "\n",
        "No mundo real, tomamos decisões condicionais o tempo todo: \"Se estiver chovendo, vou levar um guarda-chuva\". Na programação, essa lógica é similar. A estrutura condicional avalia se uma determinada condição é atendida (por exemplo, se uma variável excede um certo valor) e, com base nessa avaliação, toma uma decisão sobre quais ações devem ser executadas. Essa capacidade de decidir sobre o fluxo de execução é fundamental para criar programas que possam lidar com uma ampla variedade de cenários e entradas.\n",
        "\n",
        "Em Python, as estruturas condicionais são representadas principalmente pelos comandos \"if\", \"elif\" e \"else\", que possibilitam avaliar múltiplas condições e direcionar o fluxo do programa de acordo com os resultados dessas avaliações. Os operadores de comparação e os operadores lógicos são comumente utilizados no contexto das estruturas condicionais.\n",
        "\n",
        "Os operadores de atribuição (quadro 4) são frequentemente usados em estruturas condicionais, especialmente quando há a necessidade de ajustar ou modificar o valor de uma variável com base em determinadas condições.\n",
        "\n",
        "\n",
        "Atribuição simples: Atribui o valor à direita do operador à variável à esquerda."
      ]
    },
    {
      "cell_type": "code",
      "execution_count": null,
      "id": "72675821",
      "metadata": {
        "id": "72675821"
      },
      "outputs": [],
      "source": [
        "x = 5\n",
        "print(x)"
      ]
    },
    {
      "cell_type": "markdown",
      "id": "fe801fa7",
      "metadata": {
        "id": "fe801fa7"
      },
      "source": [
        "Adição e atribuição: Adiciona o valor à direita do operador à variável à esquerda e, em seguida, atribui o resultado à variável à esquerda."
      ]
    },
    {
      "cell_type": "code",
      "execution_count": null,
      "id": "95bedb06",
      "metadata": {
        "id": "95bedb06"
      },
      "outputs": [],
      "source": [
        "x += 3\n",
        "print(x)"
      ]
    },
    {
      "cell_type": "markdown",
      "id": "3dac8c0b",
      "metadata": {
        "id": "3dac8c0b"
      },
      "source": [
        "Subtração e atribuição: Adiciona o valor à direita do operador à variável à esquerda e, em seguida, atribui o resultado à variável à esquerda."
      ]
    },
    {
      "cell_type": "code",
      "execution_count": null,
      "id": "d3ad7d0d",
      "metadata": {
        "id": "d3ad7d0d"
      },
      "outputs": [],
      "source": [
        "x -= 3\n",
        "print(x)"
      ]
    },
    {
      "cell_type": "markdown",
      "id": "7d8c89c4",
      "metadata": {
        "id": "7d8c89c4"
      },
      "source": [
        "Multiplicação e atribuição: Multiplica a variável à esquerda pelo valor à direita do operador e, em seguida, atribui o resultado à variável à esquerda."
      ]
    },
    {
      "cell_type": "code",
      "execution_count": null,
      "id": "b1aa65f1",
      "metadata": {
        "id": "b1aa65f1"
      },
      "outputs": [],
      "source": [
        "x = 4\n",
        "x*=3\n",
        "print(x)"
      ]
    },
    {
      "cell_type": "markdown",
      "id": "1e5ca8b5",
      "metadata": {
        "id": "1e5ca8b5"
      },
      "source": [
        "Divisão e atribuição: Divide a variável à esquerda pelo valor à direita do operador e, em seguida, atribui o resultado (em ponto flutuante) à variável à esquerda."
      ]
    },
    {
      "cell_type": "code",
      "execution_count": null,
      "id": "fa59723f",
      "metadata": {
        "id": "fa59723f"
      },
      "outputs": [],
      "source": [
        "x/=3\n",
        "print(x)"
      ]
    },
    {
      "cell_type": "markdown",
      "id": "34dffcab",
      "metadata": {
        "id": "34dffcab"
      },
      "source": [
        "Divisão inteira e atribuição: Realiza a divisão inteira da variável à esquerda pelo valor à direita do operador e, em seguida, atribui o resultado à variável à esquerda."
      ]
    },
    {
      "cell_type": "code",
      "execution_count": null,
      "id": "f2c8c9db",
      "metadata": {
        "id": "f2c8c9db"
      },
      "outputs": [],
      "source": [
        "x = 14\n",
        "x//=3\n",
        "print(x)"
      ]
    },
    {
      "cell_type": "markdown",
      "id": "be1a93e0",
      "metadata": {
        "id": "be1a93e0"
      },
      "source": [
        "Módulo e atribuição: Calcula o resto da divisão da variável à esquerda pelo valor à direita do operador e, em seguida, atribui o resultado à variável à esquerda."
      ]
    },
    {
      "cell_type": "code",
      "execution_count": null,
      "id": "002f0404",
      "metadata": {
        "id": "002f0404"
      },
      "outputs": [],
      "source": [
        "x = 14\n",
        "x%=5\n",
        "print(x)"
      ]
    },
    {
      "cell_type": "markdown",
      "id": "ab2e6e02",
      "metadata": {
        "id": "ab2e6e02"
      },
      "source": [
        "Exponenciação e atribuição: Eleva a variável à esquerda ao valor à direita do operador e, em seguida, atribui o resultado à variável à esquerda."
      ]
    },
    {
      "cell_type": "code",
      "execution_count": null,
      "id": "18c53c06",
      "metadata": {
        "id": "18c53c06"
      },
      "outputs": [],
      "source": [
        "x = 3\n",
        "x**=2\n",
        "print(x)"
      ]
    },
    {
      "cell_type": "markdown",
      "id": "eda79a16",
      "metadata": {
        "id": "eda79a16"
      },
      "source": [
        "*O comando if*\n",
        "\n",
        "O comando if em Python é uma estrutura condicional que permite testar uma condição e, com base no resultado dessa avaliação (verdadeiro ou falso), executar um bloco de código específico. Essencialmente, ele permite que o programa \"decida\" qual caminho seguir baseado em determinados critérios.\n",
        "\n",
        "No campo do geoprocessamento, o comando if pode ser utilizado em diversas situações para controlar fluxos de trabalho, tomar decisões com base em atributos espaciais, filtrar dados geográficos, entre outras tarefas. Aqui estão alguns exemplos:\n",
        "\n",
        "\n",
        "- Filtragem de Dados com base em atributos.\n",
        "\n",
        "Exemplos:\n",
        "\n",
        "Suponha que você tenha um conjunto de dados com dados de declividade e queira categorizar o relevo, quando ele for plano."
      ]
    },
    {
      "cell_type": "code",
      "execution_count": null,
      "id": "65fb3bf6",
      "metadata": {
        "id": "65fb3bf6"
      },
      "outputs": [],
      "source": [
        "declividade = 2\n",
        "if declividade < 3:\n",
        "    print(\"Plano.\")"
      ]
    },
    {
      "cell_type": "markdown",
      "id": "966aa9e8",
      "metadata": {
        "id": "966aa9e8"
      },
      "source": [
        "Imagine que estamos mapeando zonas climáticas de uma região. Se a temperatura média anual de uma área estiver entre 20°C e 30°C, podemos categorizá-la como \"zona climática tropical\"."
      ]
    },
    {
      "cell_type": "code",
      "execution_count": null,
      "id": "8b698283",
      "metadata": {
        "id": "8b698283"
      },
      "outputs": [],
      "source": [
        "temperatura_media = 25  # temperatura média anual em graus Celsius"
      ]
    },
    {
      "cell_type": "code",
      "execution_count": null,
      "id": "7dfb65f1",
      "metadata": {
        "id": "7dfb65f1"
      },
      "outputs": [],
      "source": [
        "if 20 <= temperatura_media <= 30:\n",
        "    print('A área é categorizada como zona climática tropical.')"
      ]
    },
    {
      "cell_type": "markdown",
      "id": "b742013e",
      "metadata": {
        "id": "b742013e"
      },
      "source": [
        "*O comando else*\n",
        "\n",
        "O comando else em Python é usado em conjunção com a instrução if. Enquanto if avalia se uma condição é verdadeira para executar um bloco de código, o else captura os casos em que a condição do if não é atendida, ou seja, é falso. Em outras palavras, o bloco de código sob else será executado quando a condição do if anterior for não-verdadeira.\n",
        "\n",
        "Imagine que estamos trabalhando com um sistema de informação geográfica e queremos determinar se uma determinada área é adequada para agricultura com base na sua umidade. Vamos supor que uma umidade acima de 50% é considerada adequada para agricultura, enquanto valores abaixo disso são considerados inadequados."
      ]
    },
    {
      "cell_type": "code",
      "execution_count": null,
      "id": "4fb5224e",
      "metadata": {
        "id": "4fb5224e"
      },
      "outputs": [],
      "source": [
        "umidade = 45  # umidade em percentagem"
      ]
    },
    {
      "cell_type": "code",
      "execution_count": null,
      "id": "18da45eb",
      "metadata": {
        "id": "18da45eb"
      },
      "outputs": [],
      "source": [
        "if umidade > 50:\n",
        "    print('A área é adequada para agricultura.')\n",
        "else:\n",
        "    print('A área não é adequada para agricultura.')"
      ]
    },
    {
      "cell_type": "markdown",
      "id": "c759d1e0",
      "metadata": {
        "id": "c759d1e0"
      },
      "source": [
        "Neste exemplo, como a umidade (45%) é menor que o limite de 50%, o código sob o comando else é executado, levando à saída que indica que a área não é adequada para agricultura.\n",
        "\n",
        "No próximo exemplo, queremos encontrar um local ideal para construir uma instalação de observação da vida selvagem. Este local deve estar a uma altitude entre 1000 e 2000 metros e a pelo menos 5 km de distância de qualquer área urbana para garantir um ambiente tranquilo."
      ]
    },
    {
      "cell_type": "code",
      "execution_count": null,
      "id": "ecb4f71c",
      "metadata": {
        "id": "ecb4f71c"
      },
      "outputs": [],
      "source": [
        "altitude = 1500  # altitude em metros\n",
        "distancia_cidade = 7  # distância da cidade mais próxima em km"
      ]
    },
    {
      "cell_type": "code",
      "execution_count": null,
      "id": "5d7f9eb9",
      "metadata": {
        "id": "5d7f9eb9"
      },
      "outputs": [],
      "source": [
        "if (1000 <= altitude <= 2000) and (distancia_cidade > 5):\n",
        "    print('O local é ideal para uma instalação de observação da vida selvagem.')\n",
        "else:\n",
        "    print('O local não é adequado.')"
      ]
    },
    {
      "cell_type": "markdown",
      "id": "ae40bced",
      "metadata": {
        "id": "ae40bced"
      },
      "source": [
        "Neste exemplo, estamos usando o operador lógico and para combinar duas condições: altitude e distância da cidade. Ambas as condições devem ser verdadeiras para que o bloco de código sob o if seja executado. Se qualquer uma (ou ambas) das condições for falsa, o código sob o else será executado.\n",
        "\n",
        "\n",
        "*O comando elif*\n",
        "\n",
        "O comando elif é uma abreviação de \"else if\" e serve como uma ponte entre um if e um else. Permite que você teste múltiplas condições em uma sequência, sem ter que aninhar várias instruções if dentro umas das outras. É especialmente útil quando você tem várias condições distintas que precisam ser avaliadas em ordem.\n",
        "\n",
        "Se a condição na instrução if for falsa, o programa verificará a condição na próxima instrução elif. Se essa condição também for falsa, o programa passará para a próxima instrução elif e assim por diante. Se nenhuma das condições if ou elif for verdadeira, o bloco de código sob a instrução else (se presente) será executado.\n",
        "\n",
        "Exemplo: Imagine que estamos avaliando a qualidade do solo para diferentes tipos de cultivo. Se a umidade do solo estiver abaixo de 40%, pode ser considerada baixa. Se estiver entre 40% e 60%, é média. Se estiver acima de 60%, é alta."
      ]
    },
    {
      "cell_type": "code",
      "execution_count": null,
      "id": "9d569fa5",
      "metadata": {
        "id": "9d569fa5"
      },
      "outputs": [],
      "source": [
        "umidade = 50  # umidade do solo em percentagem"
      ]
    },
    {
      "cell_type": "code",
      "execution_count": null,
      "id": "690bd7af",
      "metadata": {
        "id": "690bd7af"
      },
      "outputs": [],
      "source": [
        "if umidade < 40:\n",
        "    print('A umidade do solo é baixa.')\n",
        "elif umidade <= 60:\n",
        "    print('A umidade do solo é média.')\n",
        "else:\n",
        "    print('A umidade do solo é alta.')"
      ]
    },
    {
      "cell_type": "markdown",
      "id": "6c2989e0",
      "metadata": {
        "id": "6c2989e0"
      },
      "source": [
        "Neste exemplo, o programa primeiro verifica se a umidade é menor que 40%. Como não é, ele passa para a condição do elif e verifica se a umidade é menor ou igual a 60%. Como é, ele executa o bloco de código associado a esse elif. Se a umidade fosse maior que 60%, ele teria passado para o bloco else.\n",
        "\n",
        "Vamos voltar ao exemplo dos dados de declividade apresentado anteriormente. Utilizando o elif e o else, podemos utilizar diversas classes de declividade para classificar o relevo de uma determinada área:"
      ]
    },
    {
      "cell_type": "code",
      "execution_count": null,
      "id": "0caa4451",
      "metadata": {
        "id": "0caa4451"
      },
      "outputs": [],
      "source": [
        "# Definindo um valor de declividade\n",
        "declividade = 10  # Exemplo de valor de declividade"
      ]
    },
    {
      "cell_type": "code",
      "execution_count": null,
      "id": "41fe1de1",
      "metadata": {
        "id": "41fe1de1"
      },
      "outputs": [],
      "source": [
        "# Usando o comando if para classificar a declividade\n",
        "if declividade >= 0 and declividade < 3:\n",
        "    print(\"Plano\")\n",
        "elif declividade >= 3 and declividade < 8:\n",
        "    print(\"Suave-ondulado\")\n",
        "elif declividade >= 8 and declividade < 20:\n",
        "    print(\"Ondulado\")\n",
        "elif declividade >= 20 and declividade < 45:\n",
        "    print(\"Forte-ondulado\")\n",
        "elif declividade >= 45 and declividade <= 75:\n",
        "    print(\"Montanhoso\")\n",
        "else:\n",
        "    print(\"Forte-montanhoso\")"
      ]
    },
    {
      "cell_type": "markdown",
      "id": "58fb9944",
      "metadata": {
        "id": "58fb9944"
      },
      "source": [
        "*Aninhamento de declarações condicionais*\n",
        "\n",
        "O aninhamento de declarações condicionais ocorre quando você tem uma instrução condicional (if, elif ou else) dentro de outra instrução condicional. Isso é útil quando você quer fazer uma decisão com base em um critério e, depois, tomar outra decisão dentro dessa primeira condição.\n",
        "\n",
        "Imagine uma árvore de decisões, onde cada ramo leva a mais ramos. Em cada etapa da avaliação, você toma uma decisão e essa decisão pode levar a mais avaliações e decisões.\n",
        "\n",
        "Ao aninhar declarações condicionais, é essencial manter o código organizado e legível para evitar confusões. Indentações adequadas são cruciais nesse processo, pois determinam o escopo de cada declaração.\n",
        "\n",
        "Suponhamos que, em um contexto de geoprocessamento, você queira avaliar se uma área é adequada para construção. Primeiro, você verificará se a área é uma zona protegida. Se não for, você verificará se o terreno é estável."
      ]
    },
    {
      "cell_type": "code",
      "execution_count": null,
      "id": "d1218fbe",
      "metadata": {
        "id": "d1218fbe"
      },
      "outputs": [],
      "source": [
        "zona_protegida = False\n",
        "terreno_estavel = True\n",
        "\n",
        "if zona_protegida:\n",
        "    print('A área é uma zona protegida e não pode ser construída.')\n",
        "else:\n",
        "    if terreno_estavel:\n",
        "        print('Área não protegida e terreno estável. Construção permitida.')\n",
        "    else:\n",
        "        print('Área não protegida e terreno instável. Construção não recomendada.')"
      ]
    },
    {
      "cell_type": "markdown",
      "id": "5f581a39",
      "metadata": {
        "id": "5f581a39"
      },
      "source": [
        "Neste exemplo, a primeira condição verifica se a área é uma zona protegida. Se não for, o código entra no bloco else e uma nova verificação condicional é feita para verificar a estabilidade do terreno.\n",
        "\n",
        "É possível aninhar várias condições desta forma, mas é importante ser cauteloso para que o código não se torne excessivamente complicado e difícil de seguir. Em muitos casos, combinar condições com operadores lógicos (como and, or) pode ser uma alternativa mais elegante.\n",
        "\n",
        "\n",
        "Cálculos com base em condições\n",
        "\n",
        "Vamos considerar um exemplo em que você deseja calcular a área de um terreno. No entanto, dependendo do tipo de terreno, você pode precisar fazer cálculos diferentes. Existem três geometrias possíveis para esse terreno: retangular, triangular e circular. O cálculo da área depende do tipo de geometria do terreno.\n",
        "\n",
        "Se o terreno for retangular, a área é definida por $Area = comprimento x largura$. Se o terreno for triangular, a área é calculada por $Area = (base x altura)/2$, e se o terreno for circular, $Area  = \\pi r^2$.\n",
        "\n",
        "\n",
        "Dadas as dimensões do terreno e a sua geometria, podemos usar estruturas condicionais para calcular a área:"
      ]
    },
    {
      "cell_type": "code",
      "execution_count": null,
      "id": "de1d8418",
      "metadata": {
        "id": "de1d8418"
      },
      "outputs": [],
      "source": [
        "tipo_terreno = 'triangular'\n",
        "base = 10\n",
        "altura = 5\n",
        "comprimento = 20\n",
        "largura = 15\n",
        "raio = 7\n",
        "pi = 3.14159"
      ]
    },
    {
      "cell_type": "code",
      "execution_count": null,
      "id": "053cb782",
      "metadata": {
        "id": "053cb782"
      },
      "outputs": [],
      "source": [
        "if tipo_terreno == 'retangular':\n",
        "    area = comprimento * largura\n",
        "    print(f'A área do terreno retangular é {area} m².')\n",
        "\n",
        "elif tipo_terreno == 'triangular':\n",
        "    area = (base * altura) / 2\n",
        "    print(f'A área do terreno triangular é {area} m².')\n",
        "\n",
        "elif tipo_terreno == 'circular':\n",
        "    area = pi * (raio**2)\n",
        "    print(f'A área do terreno circular é {area} m².')\n",
        "\n",
        "else:\n",
        "    print('Tipo de terreno desconhecido.')"
      ]
    },
    {
      "cell_type": "markdown",
      "id": "dbe008d2",
      "metadata": {
        "id": "dbe008d2"
      },
      "source": [
        "Neste exemplo, as condições avaliam o tipo de geometria do terreno e executam o cálculo apropriado com base nesse tipo. A saída resultante fornece a área calculada de acordo com o tipo de terreno especificado.\n",
        "\n",
        "\n",
        "### 2.4.2 Estruturas de repetição (Loops)\n",
        "\n",
        "O fluxo padrão de um programa é sequencial. Cada instrução é executada, uma após a outra, de cima para baixo. No entanto, em muitos casos, é necessário executar um conjunto de instruções repetidamente, seja um número específico de vezes ou até que uma certa condição seja satisfeita. Isso é realizado por meio de estruturas de repetição, também conhecidas como \"loops\". Python oferece duas principais estruturas de loop: for e while.\n",
        "\n",
        "No contexto do geoprocessamento, os loops oferecem uma solução eficaz para gerenciar tarefas repetitivas, especialmente quando lidamos com extensos conjuntos de dados espaciais. Por exemplo, ao trabalhar com séries temporais de imagens de satélite, um loop pode automatizar e padronizar o processamento de cada imagem, economizando tempo e reduzindo possíveis erros manuais.\n",
        "\n",
        "Além disso, os loops são instrumentais ao se tratar de datasets geoespaciais. Eles proporcionam a capacidade de iterar sobre múltiplas geometrias, o que é essencial para realizar cálculos, análises e verificar conformidades em grandes volumes de dados. Em situações em que se tem um conjunto de pontos, linhas ou polígonos, um loop pode agilizar análises que seriam extenuantes se feitas manualmente.\n",
        "No contexto de modelagem e simulação, os loops também são de suma importância. Eles permitem a execução iterativa de modelos em diferentes cenários ou condições, facilitando análises preditivas e a otimização de soluções para problemas espaciais complexos.\n",
        "\n",
        "\n",
        "*Loop for*\n",
        "\n",
        "O loop for é uma das estruturas de repetição mais versáteis e frequentemente usadas em Python. Ele permite iterar sobre os itens de qualquer sequência (uma lista, uma string, uma tupla, um dicionário, um conjunto ou até mesmo um intervalo), e executar um bloco de código para cada item.\n",
        "A sintaxe básica do loop for é:\n",
        "\n",
        "```\n",
        "for variavel in sequencia:\n",
        "    # bloco de código para cada item da sequência\n",
        "```\n",
        "\n",
        "Onde \"variavel\" é uma variável temporária que assume o valor de cada item da sequência durante cada iteração do loop.\n",
        "\n",
        "Exemplos:\n",
        "\n",
        " Suponhamos que você tenha uma lista de cidades e queira imprimir cada cidade na lista."
      ]
    },
    {
      "cell_type": "code",
      "execution_count": null,
      "id": "a650ad65",
      "metadata": {
        "id": "a650ad65"
      },
      "outputs": [],
      "source": [
        "cidades = ['Natal', 'Recife', 'Fortaleza', 'João Pessoa']\n",
        "for cidade in cidades:\n",
        "    print(cidade)"
      ]
    },
    {
      "cell_type": "markdown",
      "id": "e1d7bc0a",
      "metadata": {
        "id": "e1d7bc0a"
      },
      "source": [
        "Inicialmente, criamos uma lista chamada cidades contendo quatro strings, que representam nomes de cidades.\n",
        "\n",
        "Utilizamos a estrutura de repetição for, que percorrerá cada elemento da lista cidades, um de cada vez. A cada iteração do loop, a variável cidade assume o valor do próximo elemento da lista. Por exemplo, na primeira iteração, cidade terá o valor 'Natal'; na segunda iteração, terá o valor 'Recife'; e assim por diante.\n",
        "\n",
        "Dentro do loop, para cada cidade da lista, a função print() é chamada para exibir o nome da cidade atualmente referenciada pela variável cidade. A saída será:\n",
        "\n",
        "\n",
        "Calcular a soma das áreas de diferentes polígonos que estão registradas em uma lista:"
      ]
    },
    {
      "cell_type": "code",
      "execution_count": null,
      "id": "a77cc4b7",
      "metadata": {
        "id": "a77cc4b7"
      },
      "outputs": [],
      "source": [
        "areas_poligonos = [100, 200, 150, 300, 250]\n",
        "total_area = 0\n",
        "for area in areas_poligonos:\n",
        "    total_area += area\n",
        "print('Área total:', total_area)"
      ]
    },
    {
      "cell_type": "markdown",
      "id": "f39e81d1",
      "metadata": {
        "id": "f39e81d1"
      },
      "source": [
        "Inicialmente criamos uma lista chamada areas_poligonos que contém cinco números inteiros. Estes números representam, por exemplo, as áreas (em uma unidade hipotética, como metros quadrados) de cinco polígonos diferentes.\n",
        "\n",
        "Em seguida, uma variável chamada total_area é inicializada com o valor 0. Esta variável será usada para acumular a soma das áreas de todos os polígonos da lista.\n",
        "\n",
        "Uma estrutura de repetição for percorre cada elemento da lista areas_poligonos, um de cada vez. A cada iteração do loop, a variável area assume o valor do próximo elemento da lista.\n",
        "\n",
        "Durante cada iteração do loop, a área atual (valor da variável area) é somada ao valor acumulado em total_area. O operador “+=” é um atalho para total_area = total_area + area.\n",
        "\n",
        "Após o término do loop, a função print() é chamada para exibir a área total acumulada na variável total_area.\n",
        "\n",
        "O loop for também pode ser usado com a função range(), que é uma função incorporada em Python que gera uma sequência de números e frequentemente é usada em loops for para repetir uma determinada ação um número específico de vezes. Essa função é muito útil quando se deseja iterar sobre uma sequência de números, sem a necessidade de criar uma lista ou outro container para armazenar esses números.\n",
        "\n",
        "A função range() pode aceitar entre um a três argumentos:\n",
        "\n",
        "- Um único argumento: range(stop).\n",
        "\n",
        "Produz uma sequência de números de “0” a stop “- 1”."
      ]
    },
    {
      "cell_type": "code",
      "execution_count": null,
      "id": "b63dcece",
      "metadata": {
        "id": "b63dcece"
      },
      "outputs": [],
      "source": [
        "for i in range(5):\n",
        "    print(i)"
      ]
    },
    {
      "cell_type": "markdown",
      "id": "7a25375e",
      "metadata": {
        "id": "7a25375e"
      },
      "source": [
        "- Dois argumentos: range(start, stop). Produz uma sequência de números de start a stop “- 1”."
      ]
    },
    {
      "cell_type": "code",
      "execution_count": null,
      "id": "d9d1792d",
      "metadata": {
        "id": "d9d1792d"
      },
      "outputs": [],
      "source": [
        "for i in range(2, 5):\n",
        "    print(i)"
      ]
    },
    {
      "cell_type": "markdown",
      "id": "7c14abea",
      "metadata": {
        "id": "7c14abea"
      },
      "source": [
        "- Três argumentos: range(start, stop, step).\n",
        "\n",
        "Produz uma sequência de números, começando em start, terminando antes de stop e incrementando em step."
      ]
    },
    {
      "cell_type": "code",
      "execution_count": null,
      "id": "6834b67e",
      "metadata": {
        "id": "6834b67e"
      },
      "outputs": [],
      "source": [
        "for i in range(0, 10, 2):\n",
        "    print(i)"
      ]
    },
    {
      "cell_type": "markdown",
      "id": "95d72918",
      "metadata": {
        "id": "95d72918"
      },
      "source": [
        "Outra função embutida em Python que permite iterar sobre os itens de uma sequência e, simultaneamente, ter acesso ao índice (ou posição) de cada item dentro dessa sequência é o enumerate(). É particularmente útil quando você quer não apenas o valor do item, mas também saber a sua posição.\n",
        "\n",
        "Vamos supor que você tenha uma lista de rios e queira imprimir cada rio junto com sua posição na lista:"
      ]
    },
    {
      "cell_type": "code",
      "execution_count": null,
      "id": "a5304426",
      "metadata": {
        "id": "a5304426"
      },
      "outputs": [],
      "source": [
        "rios = ['Amazonas', 'São Francisco', 'Paraná', 'Tocantins']\n",
        "for indice, rio in enumerate(rios):\n",
        "    print(f'Rio {indice + 1}: {rio}')"
      ]
    },
    {
      "cell_type": "markdown",
      "id": "29ee64d2",
      "metadata": {
        "id": "29ee64d2"
      },
      "source": [
        "No exemplo acima, para cada iteração do loop for, o enumerate() retorna uma tupla onde o primeiro valor é o índice e o segundo valor é o item da sequência. No contexto do geoprocessamento, isso pode ser útil, por exemplo, ao associar cada rio a um índice específico em uma base de dados ou ao lidar com matrizes de dados onde a posição do item é relevante.\n",
        "\n",
        "Esses são apenas alguns exemplos básicos. O real potencial do loop for é visto quando usado em combinação com outras estruturas de controle e operações mais complexas.\n",
        "\n",
        "\n",
        "*List comprehension*\n",
        "\n",
        "A list comprehension é uma forma concisa de usar um loop for para criar listas em Python. Em essência, ela é uma maneira de representar um loop for de uma forma mais compacta, especificamente quando o objetivo principal desse loop é gerar uma nova lista.\n",
        "\n",
        "A ideia da list comprehension é aplicar uma expressão a cada item em uma sequência (ou em múltiplas sequências) e retornar os resultados em uma nova lista.\n",
        "\n",
        "\n",
        "Sintaxe básica:\n",
        "``` nova_expressão for item in iteravel]```\n",
        "\n",
        "Vamos comparar o loop for tradicional a list comprehension:\n",
        "\n",
        "Usando um loop for tradicional:"
      ]
    },
    {
      "cell_type": "code",
      "execution_count": null,
      "id": "41ea57d9",
      "metadata": {
        "id": "41ea57d9"
      },
      "outputs": [],
      "source": [
        "numeros = [1, 2, 3, 4, 5]\n",
        "quadrados = []\n",
        "\n",
        "for numero in numeros:\n",
        "    quadrado = numero ** 2\n",
        "    quadrados.append(quadrado)\n",
        "print(quadrados)"
      ]
    },
    {
      "cell_type": "markdown",
      "id": "01096806",
      "metadata": {
        "id": "01096806"
      },
      "source": [
        "Usando list comprehension:"
      ]
    },
    {
      "cell_type": "code",
      "execution_count": null,
      "id": "c053259c",
      "metadata": {
        "id": "c053259c"
      },
      "outputs": [],
      "source": [
        "numeros = [1, 2, 3, 4, 5]\n",
        "quadrados = [n ** 2 for n in numeros]\n",
        "print(quadrados)"
      ]
    },
    {
      "cell_type": "markdown",
      "id": "2eaadc95",
      "metadata": {
        "id": "2eaadc95"
      },
      "source": [
        "Ambos os códigos produzem o mesmo resultado: uma lista dos quadrados dos números: ``` [1, 4, 9, 16, 25 ```. No entanto, a versão com list comprehension é mais concisa e muitas vezes é considerada mais Pythonic quando usada apropriadamente.\n",
        "\n",
        "É válido ressaltar que list comprehensions também podem incorporar condições. Por exemplo, se quiséssemos apenas os quadrados dos números ímpares:"
      ]
    },
    {
      "cell_type": "code",
      "execution_count": null,
      "id": "e88e1d65",
      "metadata": {
        "id": "e88e1d65"
      },
      "outputs": [],
      "source": [
        "quadrados_impares = [n ** 2 for n in numeros if n % 2 != 0]\n",
        "print(quadrados_impares)"
      ]
    },
    {
      "cell_type": "markdown",
      "id": "87c5ff90",
      "metadata": {
        "id": "87c5ff90"
      },
      "source": [
        "Em resumo, a aplicação de list comprehension torna o código mais conciso e legível (quando não são excessivamente complexas). Além disso, frequentemente são mais rápidas do que o loop for tradicional ao criar listas, devido a otimizações internas. No entanto, é importante não sacrificar a legibilidade. Se uma list comprehension se tornar muito complicada ou difícil de entender, pode ser melhor optar por uma abordagem mais tradicional usando loops.\n",
        "\n",
        "\n",
        "*Dictionary comprehension*\n",
        "\n",
        "Assim como a list comprehension, o dictionary comprehension também se baseia em um loop for interno, mas, ao invés de gerar listas, ela é utilizada para criar dicionários de forma concisa. Enquanto a list comprehension retorna uma lista, o dictionary comprehension retorna um dicionário.\n",
        "\n",
        "Sintaxe Básica:\n",
        "\n",
        "``` {chave: valor for item in iterável} ```\n",
        "\n",
        "Suponha que você queira criar um dicionário que associe um número à sua potência quadrada para números de 1 a 5. Vamos comparar o loop for tradicional ao dictionary comprehension:\n",
        "\n",
        "\n",
        "- Usando um loop for tradicional"
      ]
    },
    {
      "cell_type": "code",
      "execution_count": null,
      "id": "b4773e30",
      "metadata": {
        "id": "b4773e30"
      },
      "outputs": [],
      "source": [
        "quadrados = {}\n",
        "for x in range(1, 6):\n",
        "    quadrados[x] = x ** 2\n",
        "print(quadrados)"
      ]
    },
    {
      "cell_type": "markdown",
      "id": "eb8eedac",
      "metadata": {
        "id": "eb8eedac"
      },
      "source": [
        "- Usando dictionary comprehension"
      ]
    },
    {
      "cell_type": "code",
      "execution_count": null,
      "id": "279796af",
      "metadata": {
        "id": "279796af"
      },
      "outputs": [],
      "source": [
        "quadrados = {x: x ** 2 for x in range(1, 6)}\n",
        "print(quadrados)"
      ]
    },
    {
      "cell_type": "markdown",
      "id": "28a39fc8",
      "metadata": {
        "id": "28a39fc8"
      },
      "source": [
        "Assim como na list comprehension, você também pode incluir condições no dictionary comprehension. Por exemplo, se você quisesse os quadrados apenas dos números ímpares de 1 a 5:"
      ]
    },
    {
      "cell_type": "code",
      "execution_count": null,
      "id": "aab99029",
      "metadata": {
        "id": "aab99029"
      },
      "outputs": [],
      "source": [
        "quadrados_impares = {x: x ** 2 for x in range(1, 6) if x % 2 != 0}\n",
        "print(quadrados_impares)"
      ]
    },
    {
      "cell_type": "markdown",
      "id": "904ebf95",
      "metadata": {
        "id": "904ebf95"
      },
      "source": [
        "Cabe ressaltar que é fundamental garantir que o código permaneça legível. Se uma dictionary comprehension se tornar muito complexa, pode ser preferível usar uma abordagem mais tradicional.\n",
        "\n",
        "\n",
        "*Loop While*\n",
        "\n",
        "O loop while é uma estrutura de repetição que permite executar um bloco de código enquanto uma condição específica for verdadeira. A lógica é: enquanto a condição estabelecida se mantiver True, o bloco de código dentro do while continuará sendo executado. É crucial garantir que, em algum momento, essa condição se torne False, caso contrário, o loop continuará infinitamente, resultando em um loop infinito.\n",
        "\n",
        "A estrutura básica do loop while é relativamente simples. Ela começa com a palavra-chave while seguida de uma condição (expressão booleana) e um bloco de código que será repetido enquanto a condição for verdadeira (True). A estrutura básica é:\n",
        "\n",
        "```\n",
        "while condição:\n",
        "    # bloco de código a ser executado enquanto a condição for verdadeira\n",
        "```\n",
        "\n",
        "É importante garantir que a condição do while eventualmente se torne False, caso contrário, o código entrará em um loop infinito. Suponha que queremos imprimir os números de 1 a 5:"
      ]
    },
    {
      "cell_type": "code",
      "execution_count": null,
      "id": "89dcf364",
      "metadata": {
        "id": "89dcf364"
      },
      "outputs": [],
      "source": [
        "contador = 1"
      ]
    },
    {
      "cell_type": "code",
      "execution_count": null,
      "id": "bb14f689",
      "metadata": {
        "id": "bb14f689"
      },
      "outputs": [],
      "source": [
        "while contador <= 5:\n",
        "    print(contador)\n",
        "    contador += 1"
      ]
    },
    {
      "cell_type": "markdown",
      "id": "a1ab2225",
      "metadata": {
        "id": "a1ab2225"
      },
      "source": [
        "Neste exemplo, inicializamos o contador com o valor 1. O loop while verifica se o contador é menor ou igual a 5. Se for verdadeiro, ele entra no bloco de código, imprime o valor do contador e depois aumenta o contador em 1. Esse processo é repetido até que o contador exceda 5, momento em que a condição do while se torna False, e o loop é interrompido.\n",
        "\n",
        "Imagine agora que você esteja trabalhando com um sensor que coleta dados de temperatura do solo a cada minuto e que deseja parar a coleta quando a temperatura exceder um certo limite."
      ]
    },
    {
      "cell_type": "code",
      "execution_count": null,
      "id": "25e53313",
      "metadata": {
        "id": "25e53313"
      },
      "outputs": [],
      "source": [
        "temperatura_solo = 25  # valor inicial\n",
        "limite_temperatura = 35"
      ]
    },
    {
      "cell_type": "code",
      "execution_count": null,
      "id": "93b64ddd",
      "metadata": {
        "id": "93b64ddd"
      },
      "outputs": [],
      "source": [
        "while temperatura_solo < limite_temperatura:\n",
        "# Suponha que a cada iteração, a temperatura do solo aumente em 1°C.\n",
        "    temperatura_solo += 1\n",
        "    print(f'Coletando dados... Temperatura atual: {temperatura_solo}°C')\n",
        "\n",
        "print('Limite de temperatura atingido! Parando a coleta de dados.')"
      ]
    },
    {
      "cell_type": "markdown",
      "id": "64ef2146",
      "metadata": {
        "id": "64ef2146"
      },
      "source": [
        "Neste exemplo, o loop while continuará coletando dados até que temperatura_solo alcance ou exceda 35°C. Após isso, ele sairá do loop e imprimirá a mensagem final.\n",
        "\n",
        "\n",
        "*Controle de loop com breake e continue*\n",
        "\n",
        "Os comandos break e continue são ferramentas poderosas em Python, oferecendo controle adicional sobre como os loops são executados.\n",
        "\n",
        "- Break:\n",
        "\n",
        "O comando break é usado para sair completamente de um loop, encerrando sua execução. É geralmente utilizado em situações em que uma condição externa à condição principal do loop é satisfeita ou quando se deseja sair do loop antes que ele complete sua execução natural.\n",
        "\n",
        "Imaginemos um cenário de geoprocessamento onde temos uma lista de coordenadas, e queremos parar de processar quando encontrarmos uma coordenada específica."
      ]
    },
    {
      "cell_type": "code",
      "execution_count": null,
      "id": "f02c971f",
      "metadata": {
        "id": "f02c971f"
      },
      "outputs": [],
      "source": [
        "coordenadas = [(4, 5), (7, 8), (10, 12), (15, 15), (20, 25)]\n",
        "\n",
        "for coord in coordenadas:\n",
        "    if coord == (15, 15):\n",
        "        print('Coordenada alvo encontrada!')\n",
        "        break\n",
        "    print('Processando a coordenada:', coord)"
      ]
    },
    {
      "cell_type": "markdown",
      "id": "8228c9a2",
      "metadata": {
        "id": "8228c9a2"
      },
      "source": [
        "- Continue:\n",
        "\n",
        "O comando continue é utilizado para pular a iteração atual e continuar com a próxima iteração do loop. É útil em situações em que, sob certas condições, queremos evitar a execução de uma parte do loop e continuar com a próxima iteração.\n",
        "\n",
        "Considere um cenário em que estamos processando dados de altitude e queremos ignorar os valores negativos, pois podem ser erros nos dados."
      ]
    },
    {
      "cell_type": "code",
      "execution_count": null,
      "id": "f7f8c11b",
      "metadata": {
        "id": "f7f8c11b"
      },
      "outputs": [],
      "source": [
        "altitudes = [345, 432, -1, 540, -2, 600]"
      ]
    },
    {
      "cell_type": "code",
      "execution_count": null,
      "id": "2c9d4fda",
      "metadata": {
        "id": "2c9d4fda"
      },
      "outputs": [],
      "source": [
        "for registro in altitudes:\n",
        "    if registro < 0:\n",
        "        print('Altitude inválida encontrada. Continuando...')\n",
        "        continue\n",
        "    print('Processando altitude:', registro)"
      ]
    },
    {
      "cell_type": "markdown",
      "id": "c47568d1",
      "metadata": {
        "id": "c47568d1"
      },
      "source": [
        "Neste exemplo, o loop for irá ignorar os valores negativos e não executará o comando print(\"Processando altitude:\", registro) para esses valores, mas continuará processando os próximos valores na lista.\n",
        "\n",
        "Ambos, break e continue, são úteis para gerenciar a execução dos loops com mais precisão e são amplamente utilizados em diversos cenários de programação.\n",
        "\n",
        "\n",
        "\n",
        "*Aninhamento de loops*\n",
        "\n",
        "O aninhamento de loops ocorre quando um loop é colocado dentro de outro loop. Isso é útil em várias situações, especialmente quando se trabalha com estruturas de dados multidimensionais, como listas de listas ou matrizes. No aninhamento, cada vez que o loop externo é executado, o loop interno será executado em sua totalidade.\n",
        "\n",
        "Considere o cenário em geoprocessamento onde você quer avaliar todos os pontos de uma matriz de elevações para identificar aqueles que estão acima de um certo nível. Imagine uma matriz simplificada de altitudes. Para processar cada ponto desta matriz, você usaria um loop aninhado:"
      ]
    },
    {
      "cell_type": "code",
      "execution_count": null,
      "id": "b4c9df07",
      "metadata": {
        "id": "b4c9df07"
      },
      "outputs": [],
      "source": [
        "altitudes = [[5, 10, 15], [20, 25, 30], [35, 40, 45]]\n",
        "\n",
        "for linha in altitudes:\n",
        "    for ponto in linha:\n",
        "        if ponto > 25:\n",
        "            print(f'Ponto {ponto} está acima do nível desejado.')"
      ]
    },
    {
      "cell_type": "markdown",
      "id": "4999a216",
      "metadata": {
        "id": "4999a216"
      },
      "source": [
        "Neste exemplo, o loop externo percorre cada linha da matriz, e o loop interno percorre cada ponto dentro de uma linha específica. A combinação dos dois loops permite que você processe cada ponto individual da matriz.\n",
        "\n",
        "\n",
        "O aninhamento de loops é uma ferramenta poderosa, mas é importante estar ciente de que pode aumentar significativamente o tempo de processamento, especialmente se as estruturas de dados forem grandes. A complexidade computacional de loops aninhados é frequentemente um produto das iterações de cada loop, tornando-se potencialmente ineficiente para grandes conjuntos de dados se não for manejado corretamente.\n",
        "\n",
        "\n",
        "## 2.5 Funções\n",
        "\n",
        "Em programação, uma função é um bloco de código organizado e reutilizável que realiza uma única ação relacionada. As funções fornecem uma maneira de modularizar seu código, tornando-o mais eficiente, legível e reutilizável. Além disso, elas permitem definir interfaces de código que podem ser usadas de forma consistente.\n",
        "\n",
        "No contexto do geoprocessamento, que envolve a coleta, armazenamento e análise de dados geoespaciais, a modularização do código através de funções não só permite eficiência e clareza, mas também facilita a reutilização do código em diferentes projetos. Desta maneira, assegura consistência em tarefas frequentemente repetidas, como interpolação de dados e transformação de sistemas de coordenadas. Por outro lado, o uso de funções ajuda a abstrair a complexidade dos algoritmos, tornando o código mais legível. Isso é essencial, especialmente quando se trabalha em colaboração, pois funções bem definidas podem ser compartilhadas, promovendo consistência e economia de tempo. Ao adotar funções em geoprocessamento, os profissionais garantem não apenas a organização, mas também a robustez e eficiência do seu trabalho.\n",
        "\n",
        "\n",
        "*Definição da Função*\n",
        "\n",
        "Em Python, uma função é definida usando a palavra-chave \"def\", seguida pelo nome da função, parênteses e dois pontos. O código da função começa após os dois pontos e é indentado.\n",
        "\n",
        "```\n",
        "def nome_da_funcao():\n",
        "    # corpo da função\n",
        "```\n",
        "\n",
        "*Parâmetros e Argumentos*\n",
        "\n",
        "As funções podem receber dados, conhecidos como parâmetros, entre seus parênteses."
      ]
    },
    {
      "cell_type": "code",
      "execution_count": null,
      "id": "f6ecb6cf",
      "metadata": {
        "id": "f6ecb6cf"
      },
      "outputs": [],
      "source": [
        "def saudacao(nome):\n",
        "    print(f'Olá, {nome}!')"
      ]
    },
    {
      "cell_type": "markdown",
      "id": "bcacdc32",
      "metadata": {
        "id": "bcacdc32"
      },
      "source": [
        "Ao chamar a função, você passa dados para ela, conhecidos como argumentos:"
      ]
    },
    {
      "cell_type": "code",
      "execution_count": null,
      "id": "bb0a947a",
      "metadata": {
        "id": "bb0a947a"
      },
      "outputs": [],
      "source": [
        "saudacao('Julia')"
      ]
    },
    {
      "cell_type": "markdown",
      "id": "25885607",
      "metadata": {
        "id": "25885607"
      },
      "source": [
        "*Valor de Retorno*\n",
        "\n",
        "Uma função pode processar dados e retornar um valor usando a palavra-chave return:\n",
        "\n",
        "```\n",
        "def soma(a, b):\n",
        "    return a + b\n",
        "```\n",
        "\n",
        "\n",
        "Se uma função não possui um return, ela retorna None por padrão.\n",
        "\n",
        "*Funções Anônimas (Lambda)*\n",
        "\n",
        "Python suporta a criação de funções anônimas (isto é, funções que não têm nome) usando a palavra-chave lambda. Elas são úteis quando você precisa de uma função pequena por um curto período e não quer formalmente defini-la usando def."
      ]
    },
    {
      "cell_type": "code",
      "execution_count": null,
      "id": "f2cb7c38",
      "metadata": {
        "id": "f2cb7c38"
      },
      "outputs": [],
      "source": [
        "quadrado = lambda x: x ** 2\n",
        "print(quadrado(5))"
      ]
    },
    {
      "cell_type": "markdown",
      "id": "b14a55cb",
      "metadata": {
        "id": "b14a55cb"
      },
      "source": [
        "*Funções Como Objetos*\n",
        "\n",
        "Em Python, tudo é um objeto, incluindo funções. No geoprocessamento, as funções são frequentemente usadas para realizar operações específicas em dados geoespaciais, como calcular distâncias, transformar projeções ou processar dados matriciais. Usando o conceito de funções como objetos, podemos criar uma abordagem modular para realizar diferentes operações de geoprocessamento. Vamos ilustrar isso com um exemplo.\n",
        "\n",
        "Imagine que temos duas funções, uma que calcula a área de um polígono e outra que calcula o perímetro."
      ]
    },
    {
      "cell_type": "code",
      "execution_count": null,
      "id": "110e749e",
      "metadata": {
        "id": "110e749e"
      },
      "outputs": [],
      "source": [
        "def calcular_area(poligono):\n",
        "    # Suponha que esta função compute a área de um polígono\n",
        "    # Neste exemplo, vamos simplificar e retornar um valor fixo\n",
        "    return 100.0"
      ]
    },
    {
      "cell_type": "code",
      "execution_count": null,
      "id": "c0b605d8",
      "metadata": {
        "id": "c0b605d8"
      },
      "outputs": [],
      "source": [
        "def calcular_perimetro(poligono):\n",
        "    # Suponha que esta função compute o perímetro de um polígono\n",
        "    # Novamente, vamos simplificar e retornar um valor fixo\n",
        "    return 40.0"
      ]
    },
    {
      "cell_type": "markdown",
      "id": "f9591547",
      "metadata": {
        "id": "f9591547"
      },
      "source": [
        "Agora, vamos criar uma função que recebe outra função como argumento e aplica essa função a um conjunto de polígonos:"
      ]
    },
    {
      "cell_type": "code",
      "execution_count": null,
      "id": "64a3f894",
      "metadata": {
        "id": "64a3f894"
      },
      "outputs": [],
      "source": [
        "def processar_geometrias(geometrias, operacao):\n",
        "    resultados = []\n",
        "    for geometria in geometrias:\n",
        "        resultados.append(operacao(geometria))\n",
        "    return resultados"
      ]
    },
    {
      "cell_type": "markdown",
      "id": "5d8b4834",
      "metadata": {
        "id": "5d8b4834"
      },
      "source": [
        "Podemos usar esta função processar_geometrias para calcular a área ou o perímetro de uma lista de polígonos:"
      ]
    },
    {
      "cell_type": "code",
      "execution_count": null,
      "id": "7b55814d",
      "metadata": {
        "id": "7b55814d"
      },
      "outputs": [],
      "source": [
        "poligonos = ['poligono1', 'poligono2', 'poligono3']\n",
        "# Esta é uma simplificação. Em uma aplicação real, teríamos objetos polígono."
      ]
    },
    {
      "cell_type": "code",
      "execution_count": null,
      "id": "e30735f5",
      "metadata": {
        "id": "e30735f5"
      },
      "outputs": [],
      "source": [
        "areas = processar_geometrias(poligonos, calcular_area)\n",
        "print(areas)"
      ]
    },
    {
      "cell_type": "code",
      "execution_count": null,
      "id": "89519de7",
      "metadata": {
        "id": "89519de7"
      },
      "outputs": [],
      "source": [
        "perimetros = processar_geometrias(poligonos, calcular_perimetro)\n",
        "print(perimetros)"
      ]
    },
    {
      "cell_type": "markdown",
      "id": "968a6060",
      "metadata": {
        "id": "968a6060"
      },
      "source": [
        "Este exemplo ilustra a flexibilidade e o poder de tratar funções como objetos em Python, permitindo que criemos abordagens modulares para realizar diversas operações em dados geoespaciais. Ao mesmo tempo, evitamos a repetição de código e mantemos nosso código mais organizado e legível.\n",
        "\n",
        "\n",
        "*Funções com Número Variável de Argumentos*\n",
        "\n",
        "Em alguns casos, pode ser necessário definir uma função capaz de aceitar qualquer número de argumentos. Em Python, *args e **kwargs são convenções utilizadas para permitir que funções aceitem um número variável de argumentos. O termo *args refere-se a argumentos posicionais que são coletados em uma tupla, permitindo que você passe qualquer número de argumentos posicionais para a função. Por outro lado, **kwargs refere-se a argumentos nomeados que são coletados em um dicionário, possibilitando a inclusão de múltiplos argumentos com nomes específicos. Juntos, esses mecanismos oferecem grande flexibilidade, permitindo a criação de funções mais genéricas e adaptáveis a diferentes necessidades."
      ]
    },
    {
      "cell_type": "code",
      "execution_count": null,
      "id": "ba30cba1",
      "metadata": {
        "id": "ba30cba1"
      },
      "outputs": [],
      "source": [
        "def varios_args(*args, **kwargs):\n",
        "    print(args)    # Tupla dos argumentos posicionais\n",
        "    print(kwargs)  # Dicionário dos argumentos nomeados"
      ]
    },
    {
      "cell_type": "markdown",
      "id": "98599b6e",
      "metadata": {
        "id": "98599b6e"
      },
      "source": [
        "Este é um exemplo que demonstra como uma função em Python pode aceitar um número arbitrário de argumentos, tanto posicionais quanto nomeados. Inicialmente, a função varios_args é definida para aceitar um número variável de argumentos. Na sequência:\n",
        "\n",
        "- ```*args: ``` Coleta os argumentos posicionais passados para a função em uma tupla. O nome args é uma convenção, e o importante aqui é o prefixo (*).\n",
        "\n",
        "- ```**kwargs: ``` Coleta os argumentos nomeados (ou argumentos-chave) passados para a função em um dicionário. kwargs é abreviação de keyword arguments, e o importante é o prefixo **.\n",
        "\n",
        "Dentro da função, simplesmente imprimimos os argumentos posicionais e nomeados coletados.\n",
        "\n",
        "Considere o exemplo:"
      ]
    },
    {
      "cell_type": "code",
      "execution_count": null,
      "id": "3bc8d1b1",
      "metadata": {
        "id": "3bc8d1b1"
      },
      "outputs": [],
      "source": [
        "varios_args(1, 2, 3, a=4, b=5)"
      ]
    },
    {
      "cell_type": "markdown",
      "id": "4aa74535",
      "metadata": {
        "id": "4aa74535"
      },
      "source": [
        "Ao chamar a função, passamos três argumentos posicionais (1, 2 e 3) e dois argumentos nomeados (a=4 e b=5). Como esperado, args coletou os argumentos posicionais em uma tupla, e kwargs coletou os argumentos nomeados em um dicionário.\n",
        "\n",
        "\n",
        "## 2.6 Manipulação de arquivos de texto e .CSV\n",
        "\n",
        "A manipulação de arquivos é uma tarefa comum em programação. Ela permite que você leia, escreva, crie ou delete arquivos a partir do seu programa. A maioria das linguagens de programação oferece bibliotecas ou módulos nativos para facilitar essas operações.\n",
        "\n",
        "*Abrindo um arquivo*\n",
        "\n",
        "Antes de ler ou escrever em um arquivo, você precisa abri-lo. Durante a abertura, você especifica o modo de abertura, que determina se você está lendo, escrevendo, anexando, etc.\n",
        "\n",
        "Os modos de abertura comumente utilizados são:\n",
        "\n",
        "- Leitura (r): Abre um arquivo para leitura. Se o arquivo não existir, retorna um erro.\n",
        "\n",
        "- Escrita (w): Abre um arquivo para escrita. Cria um novo arquivo se ele não existir ou sobrescreve um arquivo existente.\n",
        "\n",
        "- Anexar (a): Abre um arquivo para anexar dados. Cria um novo arquivo se ele não existir ou move o ponteiro para o final de um arquivo existente para adicionar novos dados.\n",
        "\n",
        "- Leitura e escrita (r+): Abre um arquivo tanto para leitura quanto para escrita.\n",
        "\n",
        "Exemplo:"
      ]
    },
    {
      "cell_type": "markdown",
      "source": [
        "Vamos acessar os arquivos diretamente do Google Drive. Para tanto, aplicar o código abaixo:"
      ],
      "metadata": {
        "id": "Rt2tnqF2mZzu"
      },
      "id": "Rt2tnqF2mZzu"
    },
    {
      "cell_type": "code",
      "source": [
        "from google.colab import drive\n",
        "drive.mount('/content/drive')"
      ],
      "metadata": {
        "id": "k_szabvMmbfU"
      },
      "id": "k_szabvMmbfU",
      "execution_count": null,
      "outputs": []
    },
    {
      "cell_type": "code",
      "execution_count": null,
      "id": "59d14f6c",
      "metadata": {
        "id": "59d14f6c"
      },
      "outputs": [],
      "source": [
        "arquivo = open('/content/drive/MyDrive/files/cap2/exemplo.txt', 'r')"
      ]
    },
    {
      "cell_type": "markdown",
      "id": "ac56cca0",
      "metadata": {
        "id": "ac56cca0"
      },
      "source": []
    },
    {
      "cell_type": "code",
      "execution_count": null,
      "id": "38053d83",
      "metadata": {
        "id": "38053d83"
      },
      "outputs": [],
      "source": [
        "with open('/content/drive/MyDrive/files/cap2/exemplo.txt', \"w\") as arquivo:\n",
        "    pass\n"
      ]
    },
    {
      "cell_type": "markdown",
      "id": "a1e29b2d",
      "metadata": {
        "id": "a1e29b2d"
      },
      "source": [
        "O argumento 'w' especifica o modo em que o arquivo será aberto. O modo 'w' significa \"escrever\". Se o arquivo já existir, seu conteúdo será sobrescrito. Se o arquivo não existir, ele será criado.\n",
        "\n",
        "as arquivo: Este é um alias para o arquivo aberto. Isso significa que, dentro do bloco with, você pode se referir ao arquivo aberto usando a variável arquivo.\n",
        "\n",
        "pass: A palavra-chave pass em Python é uma operação nula — nada acontece quando é executada. É usada como um espaço reservado quando uma declaração é requerida sintaticamente, mas você não quer executar nenhum comando ou código.\n",
        "\n",
        "\n",
        "*Escrevendo em um arquivo*\n",
        "\n",
        "Se você abrir um arquivo em modo de escrita ou anexação, pode escrever nele."
      ]
    },
    {
      "cell_type": "code",
      "execution_count": null,
      "id": "5c139cfb",
      "metadata": {
        "id": "5c139cfb"
      },
      "outputs": [],
      "source": [
        "with open('/content/drive/MyDrive/files/cap2/exemplo.txt', 'w') as arquivo:\n",
        "    arquivo.write('Olá, Mundo!')\n"
      ]
    },
    {
      "cell_type": "markdown",
      "id": "e74e93a4",
      "metadata": {
        "id": "e74e93a4"
      },
      "source": [
        "*Lendo um arquivo*\n",
        "\n",
        "Depois de abrir ou criar um arquivo em modo de leitura, você pode ler seu conteúdo."
      ]
    },
    {
      "cell_type": "code",
      "execution_count": null,
      "id": "3aa7d03e",
      "metadata": {
        "id": "3aa7d03e"
      },
      "outputs": [],
      "source": [
        "with open('/content/drive/MyDrive/files/cap2/exemplo.txt', 'r') as arquivo:\n",
        "    conteudo = arquivo.read()\n",
        "    print(conteudo)"
      ]
    },
    {
      "cell_type": "markdown",
      "id": "f8dbc35d",
      "metadata": {
        "id": "f8dbc35d"
      },
      "source": [
        "*Fechando um arquivo*\n",
        "\n",
        "Após a leitura, escrita ou ambas, é essencial fechar o arquivo."
      ]
    },
    {
      "cell_type": "code",
      "execution_count": null,
      "id": "f0c895dc",
      "metadata": {
        "id": "f0c895dc"
      },
      "outputs": [],
      "source": [
        "arquivo.close()\n"
      ]
    },
    {
      "cell_type": "markdown",
      "id": "a5b3a78d",
      "metadata": {
        "id": "a5b3a78d"
      },
      "source": [
        "## 2.7 Módulos e pacotes\n",
        "\n",
        "No contexto de geoprocessamento, a organização e reutilização de código são essenciais. Módulos e pacotes em Python desempenham um papel vital em garantir que o código seja estruturado, reutilizável e fácil de manter.\n",
        "\n",
        "No contexto do geoprocessamento, em que a complexidade das tarefas e a precisão dos dados são cruciais, a estruturação do código desempenha um papel fundamental. A implementação estratégica de módulos e pacotes introduz uma organização meticulosa ao código, tornando-o mais intuitivo e acessível. Esta organização não só segmenta diferentes funções e classes de maneira clara, mas também simplifica a navegação e a compreensão das operações codificadas.\n",
        "\n",
        "Além da organização, módulos e pacotes são importantes no que diz respeito à reutilização e manutenção do código. Uma das maiores vantagens é a capacidade de reutilizar funções, especialmente aquelas destinadas à manipulação de dados geoespaciais, em múltiplos projetos, eliminando a redundância e economizando tempo. Esta modularidade também se traduz em manutenção mais eficaz. Corrigir erros ou atualizar características em módulos específicos se torna uma tarefa direta, minimizando o risco de perturbar outras seções do código, garantindo assim soluções de geoprocessamento mais robustas e confiáveis.\n",
        "\n",
        "\n",
        "### 2.7.1 Módulos\n",
        "\n",
        "Um módulo em Python é simplesmente um arquivo contendo definições e instruções Python. O nome do arquivo é o nome do módulo acrescido do sufixo .py. Módulos são usados para organizar as funcionalidades em unidades lógicas, ajudando a manter o código mais organizado e facilitando a reutilização de código.\n",
        "\n",
        "\n",
        "*Importação de Módulos*\n",
        "\n",
        "Você pode acessar as funcionalidades de um módulo importando-o em seu script ou console interativo Python. A palavra-chave import é usada para fazer isso. Por exemplo:"
      ]
    },
    {
      "cell_type": "code",
      "execution_count": null,
      "id": "f37809d9",
      "metadata": {
        "id": "f37809d9"
      },
      "outputs": [],
      "source": [
        "import math\n",
        "print(math.sqrt(16))"
      ]
    },
    {
      "cell_type": "markdown",
      "id": "cbc1ebd9",
      "metadata": {
        "id": "cbc1ebd9"
      },
      "source": [
        "- Importação Parcial:\n",
        "\n",
        "Se você quiser importar apenas partes específicas de um módulo, pode usar a palavra-chave from juntamente com import:"
      ]
    },
    {
      "cell_type": "code",
      "execution_count": null,
      "id": "29341fc9",
      "metadata": {
        "id": "29341fc9"
      },
      "outputs": [],
      "source": [
        "from math import sqrt\n",
        "print(sqrt(16))"
      ]
    },
    {
      "cell_type": "markdown",
      "id": "df1b43ed",
      "metadata": {
        "id": "df1b43ed"
      },
      "source": [
        "- Alias:\n",
        "\n",
        "Para evitar conflitos de nome ou simplesmente para criar um atalho, você pode dar um \"apelido\" (alias) ao módulo ou à função que está importando:"
      ]
    },
    {
      "cell_type": "code",
      "execution_count": null,
      "id": "f182c44a",
      "metadata": {
        "id": "f182c44a"
      },
      "outputs": [],
      "source": [
        "import math as m\n",
        "print(m.sqrt(16))"
      ]
    },
    {
      "cell_type": "markdown",
      "id": "d339bcff",
      "metadata": {
        "id": "d339bcff"
      },
      "source": [
        "*Módulos Personalizados*\n",
        "\n",
        "Além dos módulos da biblioteca padrão (como math, os, sys, etc.), você pode criar seus próprios módulos.\n",
        "\n",
        "\n",
        "*Atributos do Módulo*\n",
        "\n",
        "Os módulos também têm certos atributos embutidos, que podem ser úteis para diferentes propósitos. Por exemplo, o atributo __name__ pode ajudar a determinar se um módulo está sendo executado como um script principal ou se foi importado como um módulo em outro script.\n",
        "\n",
        "\n",
        "\n",
        "### 2.7.2 Pacotes\n",
        "\n",
        "Um pacote em Python é simplesmente uma maneira de organizar módulos relacionados em um único diretório. Esse diretório contém um arquivo especial chamado __init__.py (que pode estar vazio ou conter código de inicialização para o pacote) e pode também conter subdiretórios, que representam subpacotes.\n",
        "\n",
        "A ideia principal por trás dos pacotes é proporcionar um espaço de nomes separado, o que permite organizar e encapsular múltiplos módulos de maneira lógica e hierárquica. Esta organização é especialmente útil em projetos maiores ou quando se deseja distribuir um conjunto de funcionalidades relacionadas.\n",
        "\n",
        "\n",
        "*Estrutura de um Pacote*\n",
        "\n",
        "Imagine que temos um pacote chamado geoprocessamento que contém dois módulos: analise.py e visualizacao.py. A estrutura seria algo assim:\n",
        "```\n",
        "geoprocessamento/\n",
        "\n",
        "|-- __init__.py\n",
        "\n",
        "|-- analise.py\n",
        "\n",
        "|-- visualizacao.py\n",
        "```\n",
        "\n",
        "\n",
        "*Importando de um Pacote*\n",
        "\n",
        "Para importar um módulo específico de um pacote, você pode usar a seguinte sintaxe:\n",
        "\n",
        "``` from geoprocessamento import analise ```\n",
        "\n",
        "Ou, se quiser acessar uma função ou classe específica dentro desse módulo:\n",
        "\n",
        "``` from geoprocessamento.analise import funcao_especifica ```\n",
        "\n",
        "*Arquivo __init__.py*\n",
        "\n",
        "O arquivo __init__.py é o que distingue um diretório comum de um pacote em Python. Ele é executado sempre que o pacote é importado e pode conter qualquer código Python válido. Pode ser usado para inicializar variáveis do pacote, importar submódulos, verificar dependências, entre outras coisas. Se estiver vazio, serve apenas para indicar que o diretório deve ser considerado um pacote ou subpacote.\n",
        "\n",
        "\n",
        "\n",
        "## 2.8 O módulo Datetime\n",
        "\n",
        "Datetime é um módulo em Python que fornece classes para manipular datas e horários. Ele não é um tipo de dado básico como int, float, ou str, mas sim um módulo que contém vários tipos de dados para tratar questões relacionadas a datas, horários, intervalos de tempo, entre outros.\n",
        "\n",
        "O módulo datetime é extremamente útil quando precisamos lidar com operações de datas e horários em Python, sejam elas simples, como pegar a data atual, ou mais complexas, como calcular a diferença entre duas datas ou considerar fusos horários.\n",
        "\n",
        "Os principais tipos de dados e classes do módulo datetime são:\n",
        "\n",
        "- datetime.date: Uma classe para trabalhar com datas (ano, mês e dia);\n",
        "\n",
        "- datetime.time: Uma classe para trabalhar com horários (hora, minuto, segundo, microsegundo);\n",
        "\n",
        "- datetime.datetime: Uma classe que combina date e time, representando uma data e hora;\n",
        "\n",
        "- datetime.timedelta: Uma classe para trabalhar com diferenças de tempo, o que permite subtrair duas datas ou adicionar uma quantidade específica de dias, horas, etc., a uma data;\n",
        "\n",
        "- datetime.tzinfo: Base para classes que fornecem informações de fuso horário;\n",
        "\n",
        "- datetime.timezone: Uma subclasse de tzinfo que representa um deslocamento fixo do UTC.\n",
        "\n",
        "\n",
        "Exemplos de uso do módulo datetime:"
      ]
    },
    {
      "cell_type": "code",
      "execution_count": null,
      "id": "8cdafd97",
      "metadata": {
        "id": "8cdafd97"
      },
      "outputs": [],
      "source": [
        "from datetime import datetime, date, time, timedelta"
      ]
    },
    {
      "cell_type": "markdown",
      "id": "60d5db7a",
      "metadata": {
        "id": "60d5db7a"
      },
      "source": [
        "Pegando a data e hora atual:"
      ]
    },
    {
      "cell_type": "code",
      "execution_count": null,
      "id": "2b315523",
      "metadata": {
        "id": "2b315523"
      },
      "outputs": [],
      "source": [
        "agora = datetime.now()\n",
        "print(agora)"
      ]
    },
    {
      "cell_type": "markdown",
      "id": "684cfdf4",
      "metadata": {
        "id": "684cfdf4"
      },
      "source": [
        "Trabalhando apenas com datas:"
      ]
    },
    {
      "cell_type": "code",
      "execution_count": null,
      "id": "af3784b6",
      "metadata": {
        "id": "af3784b6"
      },
      "outputs": [],
      "source": [
        "hoje = date.today()\n",
        "print(hoje)"
      ]
    },
    {
      "cell_type": "markdown",
      "id": "6c79a398",
      "metadata": {
        "id": "6c79a398"
      },
      "source": [
        "Criando uma data específica:"
      ]
    },
    {
      "cell_type": "code",
      "execution_count": null,
      "id": "4639d245",
      "metadata": {
        "id": "4639d245"
      },
      "outputs": [],
      "source": [
        "data_especifica = date(2023, 9, 23)\n",
        "print(data_especifica)"
      ]
    },
    {
      "cell_type": "markdown",
      "id": "6be23369",
      "metadata": {
        "id": "6be23369"
      },
      "source": [
        "Criando um horário específico:"
      ]
    },
    {
      "cell_type": "code",
      "execution_count": null,
      "id": "11e01452",
      "metadata": {
        "id": "11e01452"
      },
      "outputs": [],
      "source": [
        "horario = time(14, 47, 5)\n",
        "print(horario)"
      ]
    },
    {
      "cell_type": "markdown",
      "id": "ef6924ee",
      "metadata": {
        "id": "ef6924ee"
      },
      "source": [
        "Diferença entre datas (timedelta):"
      ]
    },
    {
      "cell_type": "code",
      "execution_count": null,
      "id": "3b50e559",
      "metadata": {
        "id": "3b50e559"
      },
      "outputs": [],
      "source": [
        "diferenca = hoje - data_especifica\n",
        "print(diferenca.days)"
      ]
    },
    {
      "cell_type": "markdown",
      "id": "25ec6657",
      "metadata": {
        "id": "25ec6657"
      },
      "source": [
        "Adicionando 5 dias à data atual:"
      ]
    },
    {
      "cell_type": "code",
      "execution_count": null,
      "id": "2ff8c473",
      "metadata": {
        "id": "2ff8c473"
      },
      "outputs": [],
      "source": [
        "daqui_a_cinco_dias = hoje + timedelta(days=5)\n",
        "print(daqui_a_cinco_dias)"
      ]
    },
    {
      "cell_type": "markdown",
      "id": "aeb9fd9d",
      "metadata": {
        "id": "aeb9fd9d"
      },
      "source": [
        "## 2.9 Gerenciamento e Tratamento de Exceções em Python\n",
        "\n",
        "Na utilização do Python no contexto do geoprocessamento, a ocorrência de erros é comum. Entender a diferença entre erros de sintaxe e exceções, e saber como lidar com cada um, é fundamental.\n",
        "\n",
        "- Erros de Sintaxe:\n",
        "\n",
        "Erros de sintaxe, também conhecidos como erros de análise, ocorrem quando você escreve algo que o Python não reconhece como um código válido. Em outras palavras, você quebrou as \"regras gramaticais\" da linguagem. Exemplo:\n",
        "\n",
        "```\n",
        "if 5 > 2\n",
        "    print('5 é maior que 2')\n",
        "\n",
        "SyntaxError: expected ':'\n",
        "```\n",
        "\n",
        "Neste exemplo, falta o “:” após a condição do if, o que é um erro de sintaxe. Ao tentar executar esse código, o Python indicará a linha e a posição aproximada onde o erro foi detectado.\n",
        "\n",
        "\n",
        "- Exceções:\n",
        "\n",
        "Mesmo que seu código esteja sintaticamente correto, pode acontecer de ele tentar fazer algo inválido ou impossível durante a execução. Isso levanta uma \"exceção\". Se não tratadas, as exceções resultarão em um erro e a interrupção do programa. Exemplo:\n",
        "\n",
        "```\n",
        "print(5/0)\n",
        "\n",
        "ZeroDivisionError: division by zero\n",
        "```\n",
        "\n",
        "Este código não tem erros de sintaxe, mas tentar dividir por zero é um erro matemático, e o Python lançará uma exceção, especificamente ZeroDivisionError.\n",
        "\n",
        "\n",
        "### 2.9.1 Uso de blocos try e except para lidar com exceções\n",
        "\n",
        "Quando ocorrem erros durante a execução do programa, eles geralmente levantam \"exceções\". Se essas exceções não forem tratadas, o programa será interrompido. Para evitar isso e possibilitar a execução de ações específicas em resposta a determinadas exceções, Python fornece uma maneira de capturar e responder a elas usando os blocos try e except.\n",
        "\n",
        "*Estrutura Básica*\n",
        "\n",
        "A estrutura básica de tratamento de exceções em Python é a seguinte:\n",
        "\n",
        "```\n",
        "try:\n",
        "    # Bloco que pode gerar uma exceção\n",
        "except TipoDaExcecao:\n",
        "    # Bloco executado se a exceção em questão for detectada\n",
        "```\n",
        "\n",
        "Exemplos:\n",
        "\n",
        "Divisão por Zero:"
      ]
    },
    {
      "cell_type": "code",
      "execution_count": null,
      "id": "a1495691",
      "metadata": {
        "id": "a1495691"
      },
      "outputs": [],
      "source": [
        "try:\n",
        "    resultado = 10 / 0\n",
        "except ZeroDivisionError:\n",
        "    print('Tentativa de divisão por zero!')"
      ]
    },
    {
      "cell_type": "markdown",
      "id": "4de0153a",
      "metadata": {
        "id": "4de0153a"
      },
      "source": [
        "Tentativa de acesso a um índice inexistente em uma lista:"
      ]
    },
    {
      "cell_type": "code",
      "execution_count": null,
      "id": "0f057b98",
      "metadata": {
        "id": "0f057b98"
      },
      "outputs": [],
      "source": [
        "lista = [1, 2, 3]\n",
        "try:\n",
        "    valor = lista[5]\n",
        "except IndexError:\n",
        "    print('Índice não encontrado na lista!')"
      ]
    },
    {
      "cell_type": "markdown",
      "id": "51a2b3e1",
      "metadata": {
        "id": "51a2b3e1"
      },
      "source": [
        "*Tratamento de Múltiplas Exceções*\n",
        "\n",
        "Um bloco try pode ter múltiplos blocos except para tratar diferentes tipos de exceções:\n",
        "\n",
        "```\n",
        "try:\n",
        "    # Código que pode disparar diferentes tipos de exceções\n",
        "except (TypeError, ValueError):\n",
        "    print('Um TypeError ou ValueError foi detectado!')\n",
        "except ZeroDivisionError:\n",
        "    print('Tentativa de divisão por zero!')\n",
        "```\n",
        "\n",
        "*Capturando Todas as Exceções*\n",
        "\n",
        "Para capturar todas as exceções que não foram capturadas por except específicos, você pode usar um except sem especificar o tipo da exceção:\n",
        "\n",
        "```\n",
        "try:\n",
        "    # Algum trecho de código\n",
        "except:\n",
        "    print('Uma exceção foi detectada!')\n",
        "```\n",
        "\n",
        "No entanto, usar este tipo de captura genérica pode não ser recomendado em muitos casos, pois pode mascarar erros inesperados e tornar a depuração mais difícil.\n",
        "\n",
        "\n",
        "*Usando a Exceção Capturada*\n",
        "\n",
        "Você pode usar a exceção capturada para obter mais informações sobre o erro:"
      ]
    },
    {
      "cell_type": "code",
      "execution_count": null,
      "id": "b6c6e0a5",
      "metadata": {
        "id": "b6c6e0a5"
      },
      "outputs": [],
      "source": [
        "try:\n",
        "    resultado = 10 / 0\n",
        "except ZeroDivisionError as e:\n",
        "    print(f'Erro detectado: {e}')"
      ]
    },
    {
      "cell_type": "markdown",
      "id": "bbf5693a",
      "metadata": {
        "id": "bbf5693a"
      },
      "source": [
        "*Blocos else e finally*\n",
        "\n",
        "else: O bloco de código dentro de else é executado se nenhum erro ocorrer dentro do bloco try."
      ]
    },
    {
      "cell_type": "code",
      "execution_count": null,
      "id": "420cca1e",
      "metadata": {
        "id": "420cca1e"
      },
      "outputs": [],
      "source": [
        "try:\n",
        "    print('Tudo correu como esperado!')\n",
        "except:\n",
        "    print('Este trecho não será mostrado!')\n",
        "else:\n",
        "    print('Nenhum erro foi identificado no bloco try!')"
      ]
    },
    {
      "cell_type": "markdown",
      "id": "21f74d67",
      "metadata": {
        "id": "21f74d67"
      },
      "source": [
        "finally: Este bloco é executado não importa o que aconteça, e é geralmente usado para liberar recursos.\n",
        "\n",
        "```\n",
        "try:\n",
        "    # Algum trecho de código\n",
        "except:\n",
        "    print('Esta mensagem será exibida se ocorrer uma exceção.')\n",
        "finally:\n",
        "    print('Esta mensagem sempre será exibida, ocorra ou não uma exceção.')\n",
        "```\n",
        "\n",
        "O uso adequado dos blocos try e except permite que você crie programas mais robustos e amigáveis ao usuário, fornecendo mensagens úteis ou tomando medidas corretivas. Porém, é importante usá-los de forma ponderada para não mascarar problemas no código que devem ser corrigidos.\n",
        "\n",
        "\n",
        "### 2.9.2 Levantando exceções com raise\n",
        "\n",
        "Em Python, o comando raise é empregado para disparar intencionalmente uma exceção. Tal recurso é especialmente relevante quando desejamos sinalizar uma circunstância que não é tolerável ou quando precisamos relançar uma exceção após executar determinadas operações.\n",
        "\n",
        "Veja a seguir algumas formas de utilizar o comando raise:\n",
        "\n",
        "- Disparando uma exceção básica:\n",
        "\n",
        "Se em determinada situação do seu programa você identificar uma condição que seja inadmissível, é possível utilizar uma exceção para alertar sobre este problema."
      ]
    },
    {
      "cell_type": "code",
      "execution_count": null,
      "id": "a7569da8",
      "metadata": {
        "id": "a7569da8"
      },
      "outputs": [],
      "source": [
        "'''\n",
        "idade = -3\n",
        "\n",
        "if idade < 0:\n",
        "    raise ValueError('A idade inserida é inválida!')\n",
        "'''"
      ]
    },
    {
      "cell_type": "markdown",
      "id": "7f7d3431",
      "metadata": {
        "id": "7f7d3431"
      },
      "source": [
        "Neste exemplo, caso idade receba um valor negativo, o sistema dispara uma exceção ValueError com a mensagem informando sobre a invalidade da idade.\n",
        "\n",
        "- Disparando uma exceção com dados extras:\n",
        "\n",
        "Em certos contextos, ao disparar uma exceção, pode ser útil agregar informações adicionais, fornecendo maior clareza a quem estiver interpretando ou corrigindo o erro."
      ]
    },
    {
      "cell_type": "code",
      "execution_count": null,
      "id": "8aff61e9",
      "metadata": {
        "id": "8aff61e9"
      },
      "outputs": [],
      "source": [
        "def divisao(a, b):\n",
        "    if b == 0:\n",
        "        raise ZeroDivisionError(f'Erro ao tentar dividir {a} por zero!')\n",
        "    return a / b"
      ]
    },
    {
      "cell_type": "markdown",
      "id": "fb12c922",
      "metadata": {
        "id": "fb12c922"
      },
      "source": [
        "- Relançando uma exceção capturada:\n",
        "\n",
        "Há momentos em que pode ser necessário capturar uma exceção, processar algo específico e, posteriormente, relançar essa mesma exceção. Isso pode ser realizado usando somente o comando raise dentro de um bloco except."
      ]
    },
    {
      "cell_type": "code",
      "execution_count": null,
      "id": "ef67f45c",
      "metadata": {
        "id": "ef67f45c"
      },
      "outputs": [],
      "source": [
        "'''\n",
        "try:\n",
        "    resultado = 10 / 0\n",
        "except ZeroDivisionError:\n",
        "    print('Ocorreu uma tentativa de divisão por zero!')\n",
        "    raise\n",
        "    '''"
      ]
    },
    {
      "cell_type": "markdown",
      "id": "d97ab301",
      "metadata": {
        "id": "d97ab301"
      },
      "source": [
        "Aqui, quando tentamos dividir por zero, a exceção ZeroDivisionError é identificada e tratada. Uma mensagem é exibida e, logo após, a exceção é relançada, pausando o programa.\n",
        "\n",
        "- Disparando exceções personalizadas:\n",
        "\n",
        "É possível criar exceções personalizadas, úteis para sinalizar erros específicos de determinada aplicação ou contexto."
      ]
    },
    {
      "cell_type": "code",
      "execution_count": null,
      "id": "8995c801",
      "metadata": {
        "id": "8995c801"
      },
      "outputs": [],
      "source": [
        "class ExcecaoEspecifica(Exception):\n",
        "    pass\n",
        "\n",
        "def funcao_exemplo(x):\n",
        "    if x < 0:\n",
        "        raise ExcecaoEspecifica('O valor inserido é proibido!')"
      ]
    },
    {
      "cell_type": "markdown",
      "id": "6d2e4b45",
      "metadata": {
        "id": "6d2e4b45"
      },
      "source": [
        "Neste exemplo, criamos a exceção customizada ExcecaoEspecifica e a disparamos dentro da função funcao_exemplo quando identificamos um valor negativo.\n",
        "\n",
        "\n",
        "## 2.10 A abordagem Pythonic para codificação\n",
        "\n",
        "Pythonic é um termo usado na comunidade Python para descrever um estilo de escrita de código que está em harmonia com a filosofia e as peculiaridades da linguagem Python. Escrever código de uma maneira Pythonic significa que você está aproveitando ao máximo os recursos e construções da linguagem, produzindo código que é legível, conciso e eficiente.\n",
        "\n",
        "Importância do modo Pythonic:\n",
        "\n",
        "- Legibilidade: Uma das principais filosofias por trás do Python, conforme expresso em \"The Zen of Python\" (PEP 20), é que \"A legibilidade conta\". O código Pythonic é mais fácil de ler e compreender;\n",
        "\n",
        "- Eficiência: Ao seguir as práticas Pythonic, muitas vezes você utilizará construções da linguagem otimizadas, resultando em código mais eficiente;\n",
        "\n",
        "- Manutenção: Código escrito de forma Pythonic é geralmente mais fácil de manter e estender;\n",
        "\n",
        "- Comunidade: Aderir a um estilo Pythonic torna mais fácil para outros desenvolvedores Python entenderem e contribuírem para o seu código. Isso é particularmente importante em projetos open-source.\n",
        "\n",
        "\n",
        "Características do modo \"Pythonic\":\n",
        "\n",
        "- Expressividade: Utilizar construções da linguagem que permitem expressar ideias complexas de maneira concisa;\n",
        "\n",
        "- Clareza: O código deve ser escrito de forma a ser autoexplicativo, valorizando a clareza sobre a complexidade;\n",
        "\n",
        "- Utilização de idioms: Usar padrões e estruturas de código que são naturalmente associados ao Python;\n",
        "\n",
        "- Adesão a PEP 8: Seguir a PEP 8, que é o guia de estilo para a codificação Python, ajudará na consistência e legibilidade do código.\n",
        "\n",
        "Exemplos de código Pythonic vs. não-Pythonic:\n",
        "\n",
        "Inicialmente vamos criar duas lista para aplicar os exemplos. A lista2 é uma lista vazia:"
      ]
    },
    {
      "cell_type": "code",
      "execution_count": null,
      "id": "b76375bb",
      "metadata": {
        "id": "b76375bb"
      },
      "outputs": [],
      "source": [
        "lista = [1, 2, 3]"
      ]
    },
    {
      "cell_type": "code",
      "execution_count": null,
      "id": "5096478e",
      "metadata": {
        "id": "5096478e"
      },
      "outputs": [],
      "source": [
        "lista2 = []"
      ]
    },
    {
      "cell_type": "markdown",
      "id": "a0474d8a",
      "metadata": {
        "id": "a0474d8a"
      },
      "source": [
        "a) Iterar sobre uma sequência:\n",
        "\n",
        "Não Pythonic"
      ]
    },
    {
      "cell_type": "code",
      "execution_count": null,
      "id": "839ccc31",
      "metadata": {
        "id": "839ccc31"
      },
      "outputs": [],
      "source": [
        "for i in range(len(lista)):\n",
        "    print(lista[i])"
      ]
    },
    {
      "cell_type": "markdown",
      "id": "f40b16af",
      "metadata": {
        "id": "f40b16af"
      },
      "source": [
        "Pythonic"
      ]
    },
    {
      "cell_type": "code",
      "execution_count": null,
      "id": "1d8fe151",
      "metadata": {
        "id": "1d8fe151"
      },
      "outputs": [],
      "source": [
        "for item in lista:\n",
        "    print(item)"
      ]
    },
    {
      "cell_type": "markdown",
      "id": "98e80b68",
      "metadata": {
        "id": "98e80b68"
      },
      "source": [
        "b) Verificar se uma lista está vazia:\n",
        "\n",
        "Não Pythonic"
      ]
    },
    {
      "cell_type": "code",
      "execution_count": null,
      "id": "01aa248b",
      "metadata": {
        "id": "01aa248b"
      },
      "outputs": [],
      "source": [
        "if len(lista) == 0:\n",
        "    print(\"A lista está vazia.\")\n",
        "else:\n",
        "    print(\"A lista não está vazia\")"
      ]
    },
    {
      "cell_type": "code",
      "execution_count": null,
      "id": "3d0496fb",
      "metadata": {
        "id": "3d0496fb"
      },
      "outputs": [],
      "source": [
        "if len(lista2) == 0:\n",
        "    print(\"A lista está vazia.\")\n",
        "else:\n",
        "    print(\"A lista não está vazia\")"
      ]
    },
    {
      "cell_type": "markdown",
      "id": "2a9cae6f",
      "metadata": {
        "id": "2a9cae6f"
      },
      "source": [
        "Pythonic"
      ]
    },
    {
      "cell_type": "code",
      "execution_count": null,
      "id": "2c437b4b",
      "metadata": {
        "id": "2c437b4b"
      },
      "outputs": [],
      "source": [
        "if not lista:\n",
        "    print(\"A lista está vazia.\")\n",
        "else:\n",
        "    print(\"A lista não está vazia\")"
      ]
    },
    {
      "cell_type": "code",
      "execution_count": null,
      "id": "49b74d67",
      "metadata": {
        "id": "49b74d67"
      },
      "outputs": [],
      "source": [
        "if not lista2:\n",
        "    print(\"A lista está vazia.\")\n",
        "else:\n",
        "    print(\"A lista não está vazia\")"
      ]
    },
    {
      "cell_type": "markdown",
      "id": "4011502c",
      "metadata": {
        "id": "4011502c"
      },
      "source": [
        "c) List Comprehensions:\n",
        "\n",
        "Não Pythonic"
      ]
    },
    {
      "cell_type": "code",
      "execution_count": null,
      "id": "13b04ad2",
      "metadata": {
        "id": "13b04ad2"
      },
      "outputs": [],
      "source": [
        "resultado = []\n",
        "for i in range(10):\n",
        "    resultado.append(i * 2)\n",
        "print(resultado)"
      ]
    },
    {
      "cell_type": "markdown",
      "id": "f3b1eb11",
      "metadata": {
        "id": "f3b1eb11"
      },
      "source": [
        "Pythonic"
      ]
    },
    {
      "cell_type": "code",
      "execution_count": null,
      "id": "64ac80cd",
      "metadata": {
        "id": "64ac80cd"
      },
      "outputs": [],
      "source": [
        "resultado = [i * 2 for i in range(10)]\n",
        "print(resultado)"
      ]
    },
    {
      "cell_type": "markdown",
      "id": "ef00e153",
      "metadata": {
        "id": "ef00e153"
      },
      "source": [
        "d) Acessar elementos de um dicionário com um valor padrão\n",
        "\n",
        "Inicialmente, vamos criar um dicionário:"
      ]
    },
    {
      "cell_type": "code",
      "execution_count": null,
      "id": "f2271273",
      "metadata": {
        "id": "f2271273"
      },
      "outputs": [],
      "source": [
        "dicionario = {'a': 1, 'b': 2, 'c': 3}"
      ]
    },
    {
      "cell_type": "markdown",
      "id": "90f9f3ef",
      "metadata": {
        "id": "90f9f3ef"
      },
      "source": [
        "Vamos usar uma abordagem explícita para verificar se a chave 'd' está no dicionário e, em caso negativo, atribuir um valor padrão.\n",
        "\n",
        "Não Pythonic"
      ]
    },
    {
      "cell_type": "code",
      "execution_count": null,
      "id": "d6b110b5",
      "metadata": {
        "id": "d6b110b5"
      },
      "outputs": [],
      "source": [
        "chave = 'd'\n",
        "\n",
        "if chave in dicionario:\n",
        "    valor = dicionario[chave]\n",
        "else:\n",
        "    valor = 'padrao'\n",
        "\n",
        "print(valor)"
      ]
    },
    {
      "cell_type": "markdown",
      "id": "e798dd44",
      "metadata": {
        "id": "e798dd44"
      },
      "source": [
        "Como a chave 'd' não existe, atribuímos o valor 'padrao' à variável valor.\n",
        "\n",
        "\n",
        "\n",
        "Pythonic"
      ]
    },
    {
      "cell_type": "code",
      "execution_count": null,
      "id": "00d2dd94",
      "metadata": {
        "id": "00d2dd94"
      },
      "outputs": [],
      "source": [
        "chave = 'd'\n",
        "\n",
        "valor = dicionario.get(chave, 'padrao')\n",
        "\n",
        "print(valor)"
      ]
    },
    {
      "cell_type": "markdown",
      "id": "55a60328",
      "metadata": {
        "id": "55a60328"
      },
      "source": [
        "A segunda abordagem (Pythonic) é mais concisa e recomendada, pois evita a necessidade de uma verificação explícita da existência da chave e torna o código mais limpo e fácil de entender.\n",
        "\n",
        "\n",
        "\n",
        "\n",
        "\n",
        "\n",
        "\n",
        "\n",
        "Em síntese, escrever código de maneira Pythonic é abraçar a filosofia do Python e seus ideais de clareza, simplicidade e elegância. Isso não apenas torna o código mais agradável de ler e escrever, mas também promove boas práticas que são valorizadas em toda a comunidade Python."
      ]
    }
  ],
  "metadata": {
    "kernelspec": {
      "display_name": "Python 3",
      "language": "python",
      "name": "python3"
    },
    "colab": {
      "provenance": []
    }
  },
  "nbformat": 4,
  "nbformat_minor": 5
}
