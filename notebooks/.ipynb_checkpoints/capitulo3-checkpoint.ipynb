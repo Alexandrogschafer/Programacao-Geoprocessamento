{
 "cells": [
  {
   "cell_type": "markdown",
   "id": "cfac34c5",
   "metadata": {},
   "source": [
    "# 3. A BIBLIOTECA PANDAS\n",
    "\n",
    "[Abrir no Google Colab](https://colab.research.google.com/github/Alexandrogschafer/Programacao-Geoprocessamento/blob/main/capitulo3.ipynb)\n",
    "\n",
    "Pandas é uma biblioteca de programação em Python que fornece estruturas de dados e ferramentas de análise de dados flexíveis e eficientes. É uma das bibliotecas mais populares e amplamente utilizadas para análise e manipulação de dados em Python. Ele transforma a complexidade da manipulação de dados em tarefas intuitivas, permitindo que o usuário se concentre na análise dos dados ao invés de se preocupar com os aspectos técnicos da preparação de dados. Constituem pontos-chave do Pandas:\n",
    "\n",
    "- Estruturas de Dados: O Pandas introduz duas estruturas de dados principais para Python: Series e DataFrame;\n",
    "\n",
    "- Manipulação de Dados: Facilita a filtragem seleção, mesclagem e agrupamento de dados. Disponibiliza ainda funções e métodos para efetuar rapidamente operações comuns, como: Manipulação de datas; Ajuste de dados faltantes; Agrupamento e agregação de dados; Fusão e junção de conjuntos de dados;\n",
    "\n",
    "- Análise de Dados: Facilita a análise estatística dos dados. Ele integra-se bem com outras bibliotecas de análise de dados e visualização, como numpy, scipy e matplotlib;\n",
    "\n",
    "- Importação e Exportação de Dados: Suporta uma ampla variedade de formatos de arquivos, como CSV, Excel, SQL, HDF5, entre outros. Isso torna fácil importar dados para análise e exportar resultados após a análise;\n",
    "\n",
    "- Integração: integra-se bem com muitas outras bibliotecas do ecossistema de ciência de dados em Python, como matplotlib para visualização, scikit-learn para aprendizado de máquina e statsmodels para modelagem estatística.\n",
    "\n",
    "\n",
    "## 3.1 Introdução e Configurações Básicas\n",
    "\n",
    "### 3.1.1 Configurações iniciais\n",
    "\n",
    "Ao iniciar com a biblioteca Pandas, é importante realizar algumas configurações iniciais para garantir que a experiência de análise de dados seja otimizada e alinhada às suas preferências. Abaixo, apresento algumas configurações comuns que os usuários do Pandas frequentemente ajustam:\n",
    "\n",
    "*Importação da Biblioteca:* Antes de qualquer coisa, você precisa importar a biblioteca. Pandas é geralmente importado com o alias \"pd\" por convenção."
   ]
  },
  {
   "cell_type": "code",
   "execution_count": null,
   "id": "7ab1d16d",
   "metadata": {},
   "outputs": [],
   "source": [
    "import pandas as pd"
   ]
  },
  {
   "cell_type": "markdown",
   "id": "7b246aaa",
   "metadata": {},
   "source": [
    "*Configuração do número máximo de linhas e colunas exibidas:* Se você estiver trabalhando com DataFrames grandes, pode querer ajustar o número de linhas e colunas exibidas por padrão quando imprimir o DataFrame."
   ]
  },
  {
   "cell_type": "code",
   "execution_count": null,
   "id": "75fc41f6",
   "metadata": {},
   "outputs": [],
   "source": [
    "pd.set_option('display.max_rows', 20)\n",
    "pd.set_option('display.max_columns', 10)"
   ]
  },
  {
   "cell_type": "markdown",
   "id": "cea61381",
   "metadata": {},
   "source": [
    "*Largura da Coluna e Precisão:* Para melhor visualização dos dados, você pode ajustar a largura da coluna e a precisão (número de casas decimais)."
   ]
  },
  {
   "cell_type": "code",
   "execution_count": null,
   "id": "e46d113e",
   "metadata": {},
   "outputs": [],
   "source": [
    "pd.set_option('display.max_colwidth', 20)\n",
    "pd.set_option('display.precision', 2)"
   ]
  },
  {
   "cell_type": "markdown",
   "id": "c1a55201",
   "metadata": {},
   "source": [
    "*Configuração do Float Format:* Controla a formatação de números flutuantes. Útil para quando se quer mostrar valores em formato de porcentagem, por exemplo."
   ]
  },
  {
   "cell_type": "code",
   "execution_count": null,
   "id": "625162d9",
   "metadata": {},
   "outputs": [],
   "source": [
    "pd.options.display.float_format = '{:,.2f}'.format"
   ]
  },
  {
   "cell_type": "markdown",
   "id": "cada92fc",
   "metadata": {},
   "source": [
    "*Evitando Notação Científica:* Por padrão, o Pandas pode exibir números grandes ou muito pequenos usando notação científica. Para desativar isso:"
   ]
  },
  {
   "cell_type": "code",
   "execution_count": null,
   "id": "ea2cf117",
   "metadata": {},
   "outputs": [],
   "source": [
    "pd.set_option('display.float_format', lambda x: '%.2f' % x)"
   ]
  },
  {
   "cell_type": "markdown",
   "id": "d88b91de",
   "metadata": {},
   "source": [
    "*Configurações de Visualização:* Se estiver usando o Jupyter Notebook ou Jupyter Lab, para que os plots feitos com Pandas (integrados com Matplotlib) sejam exibidos diretamente no notebook:"
   ]
  },
  {
   "cell_type": "code",
   "execution_count": null,
   "id": "388bfbfb",
   "metadata": {},
   "outputs": [],
   "source": [
    "%matplotlib inline"
   ]
  },
  {
   "cell_type": "markdown",
   "id": "4dbb89ed",
   "metadata": {},
   "source": [
    "*Configuração de Data e Hora:* Se estiver trabalhando com séries temporais, pode ser útil ajustar a formatação padrão de datas."
   ]
  },
  {
   "cell_type": "code",
   "execution_count": null,
   "id": "680501f5",
   "metadata": {},
   "outputs": [],
   "source": [
    "pd.set_option('display.date_dayfirst', True)"
   ]
  },
  {
   "cell_type": "markdown",
   "id": "8425fd89",
   "metadata": {},
   "source": [
    "*Configuração do Encoding Padrão:* Ao lidar com conjuntos de dados que possuem caracteres especiais ou não-ASCII, configurar o encoding padrão para leitura e escrita de arquivos pode evitar problemas."
   ]
  },
  {
   "cell_type": "code",
   "execution_count": null,
   "id": "389382a1",
   "metadata": {},
   "outputs": [],
   "source": [
    "pd.set_option('display.encoding', 'UTF-8')"
   ]
  },
  {
   "cell_type": "markdown",
   "id": "09fa1dd5",
   "metadata": {},
   "source": [
    "Estas são apenas algumas das opções que você pode configurar ao iniciar com o Pandas. Dependendo da natureza de seus dados e suas preferências pessoais, você pode precisar ajustar outras opções. Consulte a documentação do Pandas para uma lista completa de opções configuráveis.\n",
    "\n",
    "\n",
    "### 3.1.2 Introdução às estruturas de dados no Pandas\n",
    "\n",
    "O domínio das estruturas de dados do Pandas é essencial para qualquer pessoa que deseja trabalhar com análise de dados em Python. Uma vez que você esteja confortável com Series e DataFrame, muitas tarefas complexas de processamento de dados se tornarão mais simples e diretas.\n",
    "\n",
    "No contexto da biblioteca Pandas, quando falamos de estruturas de dados, nos referimos principalmente a duas estruturas fundamentais: a Series e o DataFrame, que são a base para a maioria das operações de análise de dados em Python. Ambas foram projetadas para facilitar a manipulação de dados em Python, cada uma servindo a diferentes propósitos e possuindo suas características específicas.\n",
    "\n",
    "Além de Series e DataFrame, o Pandas oferece outras estruturas mais especializadas como Panel (estrutura tridimensional, menos usada) e MultiIndex (para indexação hierárquica).\n",
    "\n",
    "\n",
    "*Series*\n",
    "\n",
    "Series é uma estrutura de dados unidimensional, que pode armazenar valores de qualquer tipo de dado (números, strings, objetos Python, etc.). É, em essência, uma coluna em um DataFrame. Os rótulos dos eixos são chamados de índice.\n",
    "    \n",
    "Uma Series oferece uma variedade de métodos e operações para facilitar a manipulação e análise de dados unidimensionais. \n",
    "\n",
    "\n",
    "Características Principais:\n",
    "\n",
    "- Unidimensionalidade: Series contém uma sequência de itens em uma única dimensão;\n",
    "\n",
    "- Index: Cada elemento em uma Series é associado a um índice. Esse índice é, por padrão, uma sequência numérica começando por zero, mas pode ser de outros tipos, como datas, strings ou até mesmo outros números;\n",
    "\n",
    "- Homogeneidade: Apesar de uma Series poder conter qualquer tipo de dado, todos os itens em uma única Series devem ser do mesmo tipo. Se diferentes tipos são colocados em uma Series, ela tentará converter os tipos para um formato comum;\n",
    "\n",
    "- Nome: Uma Series pode ter um atributo nome, o que pode ser útil especialmente quando a Series é usada como uma coluna em um DataFrame.\n",
    "\n",
    "\n",
    "Usos Comuns:\n",
    "\n",
    "- Seleção de dados: Muitas vezes, quando você seleciona uma única coluna de um DataFrame, o resultado é uma Series;\n",
    "\n",
    "- Operações aritméticas: Assim como com arrays do Numpy, é possível realizar operações aritméticas com uma Series;\n",
    "\n",
    "- Operações de agregação: Você pode aplicar funções de agregação, como soma, média, mediana, entre outras, diretamente a uma Series;\n",
    "\n",
    "- Filtragem: É fácil filtrar dados em uma Series usando operadores condicionais;\n",
    "\n",
    "- Aplicação de funções: O método .apply() permite que você aplique uma função a cada item de uma Series.\n",
    "\n",
    "- Conversão de tipos: Converta os tipos de dados em uma Series usando o método astype();\n",
    "\n",
    "- Manipulação de strings: Se a Series contém strings, o Pandas oferece um conjunto robusto de operações de string através do atributo .str;\n",
    "\n",
    "- Tratamento de valores faltantes: Métodos como .fillna() ou .dropna() ajudam a lidar com valores faltantes (NaN) em uma Series.\n",
    "\n",
    "\n",
    "*DataFrame* \n",
    "\n",
    "Um DataFrame é uma estrutura de dados bidimensional, semelhante a uma planilha ou uma tabela de banco de dados, uma planilha do Excel ou uma tabela em linguagens estatísticas como R, que pode armazenar dados de diferentes tipos em suas colunas. O DataFrame é a estrutura central do Pandas e é a ferramenta de escolha para a maioria das operações de análise de dados em Python. Seu design flexível e a grande quantidade de métodos e funcionalidades o tornam ideal para trabalhar com dados em muitos contextos diferentes. Enquanto a Series é essencial e útil em muitos cenários, o DataFrame amplia essa utilidade para operações mais complexas e análises multidimensionais.\n",
    "\n",
    "\n",
    "Características Principais:\n",
    "\n",
    "- Bidimensionalidade: Ao contrário da Series (unidimensional), um DataFrame é bidimensional, representando dados em linhas e colunas;\n",
    "Colunas com Nomes: Cada coluna em um DataFrame tem um nome, que serve como seu identificador;\n",
    "\n",
    "- Indexação: Assim como a Series, o DataFrame tem um índice que identifica cada linha. Esse índice pode ser numérico, de data, de string, ou até mesmo hierárquico;\n",
    "\n",
    "- Colunas com diferentes tipos de dados: Enquanto uma Series deve ter um tipo de dado único, um DataFrame pode ter diferentes tipos de dados em suas diferentes colunas (por exemplo, inteiros, floats, strings);\n",
    "\n",
    "- Flexibilidade: Você pode adicionar ou remover colunas, alterar o índice, reordenar as linhas, entre outras operações;\n",
    "\n",
    "- Funcionalidades: O Pandas oferece uma ampla gama de funções e métodos para manipular, filtrar, agrupar, transformar e analisar os dados em um DataFrame;\n",
    "\n",
    "- Integração com Outras Bibliotecas: DataFrames podem ser facilmente convertidos para outras estruturas de dados, como arrays do numpy, e são amplamente utilizados em conjunto com outras bibliotecas de análise de dados e visualização, como matplotlib, seaborn e scikit-learn;\n",
    "\n",
    "- Importação e Exportação: Com o Pandas, é possível ler dados de diversas fontes, como arquivos CSV, Excel, bancos de dados SQL e muitos outros formatos, diretamente para um DataFrame. Da mesma forma, os dados em um DataFrame podem ser facilmente exportados para esses formatos.\n",
    "\n",
    "\n",
    "Usos Comuns:\n",
    "\n",
    "- Manipulação de dados: Seleção, adição e exclusão de colunas e linhas;\n",
    "\n",
    "- Agrupamento: Utilizando o método groupby() é possível agrupar dados com base em certos critérios e aplicar funções de agregação;\n",
    "\n",
    "- Mesclagem e junção: Com métodos como merge() e join(), é possível combinar diferentes DataFrames de acordo com critérios específicos;\n",
    "\n",
    "- Pivotamento: Transforme dados de formato longo para largo e vice-versa usando métodos como pivot();\n",
    "\n",
    "- Visualização: O Pandas integra-se bem com bibliotecas de visualização, como Matplotlib, permitindo a criação de gráficos diretamente de um DataFrame;\n",
    "\n",
    "- Estatísticas e análise: Calcule estatísticas básicas, realize testes estatísticos, explore correlações e muito mais;\n",
    "Tratamento de valores faltantes: Use métodos como fillna(), dropna(), e interpolate() para tratar dados faltantes.\n",
    "\n",
    "\n",
    "Diferenças em Relação às Series:\n",
    "\n",
    "- Dimensionalidade: Enquanto uma Series é unidimensional, o DataFrame é bidimensional;\n",
    "\n",
    "- Tipos de dados: A Series tem um único tipo de dado para todos os seus elementos, enquanto um DataFrame pode ter colunas com diferentes tipos de dados;\n",
    "\n",
    "- Acessibilidade: Em uma Series, acessamos os dados pelo índice. Em um DataFrame, usamos o nome da coluna (ou uma lista de nomes de colunas) para selecionar colunas específicas;\n",
    "\n",
    "- Estrutura: Enquanto você pode pensar em uma Series como uma única coluna de dados com índices, um DataFrame é como um conjunto de Series que compartilham um índice comum.\n",
    "\n",
    "\n",
    "### 3.1.3 Criação e manipulação de Series\n",
    "\n",
    "A criação e a manipulação de Series é um aspecto importante da análise de dados, pois nos permite organizar e trabalhar com sequências de dados de maneira sistemática. Vamos aprender sobre as algumas das ferramentas e técnicas fundamentais para gerenciar e analisar dados em séries.\n",
    "\n",
    "Criação de uma Series a partir de uma lista"
   ]
  },
  {
   "cell_type": "code",
   "execution_count": null,
   "id": "b7db824a",
   "metadata": {},
   "outputs": [],
   "source": [
    "import pandas as pd\n",
    "s = pd.Series([1, 2, 3, 4, 5])"
   ]
  },
  {
   "cell_type": "markdown",
   "id": "15854ac2",
   "metadata": {},
   "source": [
    "A coluna esquerda é o índice da Series (lembre-se que a indexação no Python começa em zero), enquanto a coluna a direita armazena os valores definidos pelo usuário.\n",
    "\n",
    "Definindo um índice personalizado"
   ]
  },
  {
   "cell_type": "code",
   "execution_count": null,
   "id": "0303b081",
   "metadata": {},
   "outputs": [],
   "source": [
    "s = pd.Series([1, 2, 3, 4, 5], index=['a', 'b', 'c', 'd', 'e'])"
   ]
  },
  {
   "cell_type": "markdown",
   "id": "fd1ec958",
   "metadata": {},
   "source": [
    "Acessando valores e índices"
   ]
  },
  {
   "cell_type": "code",
   "execution_count": null,
   "id": "df023b89",
   "metadata": {},
   "outputs": [],
   "source": [
    "s.values  "
   ]
  },
  {
   "cell_type": "code",
   "execution_count": null,
   "id": "4c80543c",
   "metadata": {},
   "outputs": [],
   "source": [
    "s.index   "
   ]
  },
  {
   "cell_type": "markdown",
   "id": "a199b5f1",
   "metadata": {},
   "source": [
    "Operações aritméticas básicas"
   ]
  },
  {
   "cell_type": "code",
   "execution_count": null,
   "id": "b5358546",
   "metadata": {},
   "outputs": [],
   "source": [
    "s + 10  "
   ]
  },
  {
   "cell_type": "code",
   "execution_count": null,
   "id": "2b0a3344",
   "metadata": {},
   "outputs": [],
   "source": [
    "s * 2  "
   ]
  },
  {
   "cell_type": "markdown",
   "id": "b2a56f16",
   "metadata": {},
   "source": [
    "*Indexação e Seleção*\n",
    "\n",
    "Seleção por índice"
   ]
  },
  {
   "cell_type": "code",
   "execution_count": null,
   "id": "fbc6ba6e",
   "metadata": {},
   "outputs": [],
   "source": [
    "s['a']  "
   ]
  },
  {
   "cell_type": "markdown",
   "id": "c58bcf28",
   "metadata": {},
   "source": [
    "Seleção por posição"
   ]
  },
  {
   "cell_type": "code",
   "execution_count": null,
   "id": "c2331835",
   "metadata": {},
   "outputs": [],
   "source": [
    "s[0]  "
   ]
  },
  {
   "cell_type": "markdown",
   "id": "90eeb3f0",
   "metadata": {},
   "source": [
    "Seleção condicional"
   ]
  },
  {
   "cell_type": "code",
   "execution_count": null,
   "id": "22cbb5c1",
   "metadata": {},
   "outputs": [],
   "source": [
    "s[s > 2]  "
   ]
  },
  {
   "cell_type": "markdown",
   "id": "797b0314",
   "metadata": {},
   "source": [
    "Fatiamento"
   ]
  },
  {
   "cell_type": "code",
   "execution_count": null,
   "id": "00132fbd",
   "metadata": {},
   "outputs": [],
   "source": [
    "s[1:4]  "
   ]
  },
  {
   "cell_type": "code",
   "execution_count": null,
   "id": "61db337f",
   "metadata": {},
   "outputs": [],
   "source": [
    "s['a':'c']  "
   ]
  },
  {
   "cell_type": "markdown",
   "id": "d1c1985c",
   "metadata": {},
   "source": [
    "Atribuição de valores"
   ]
  },
  {
   "cell_type": "code",
   "execution_count": null,
   "id": "284b2291",
   "metadata": {},
   "outputs": [],
   "source": [
    "s['a'] = 10  "
   ]
  },
  {
   "cell_type": "markdown",
   "id": "133839cb",
   "metadata": {},
   "source": [
    "### 3.1.4 Criação de DataFrames\n",
    "\n",
    "O Pandas facilita a criação de DataFrames a partir de diferentes formatos de dados. Seja um arquivo CSV, uma planilha do Excel, um banco de dados ou até mesmo uma API, o Pandas oferece funcionalidades para transformar essas diversas fontes de informação em estruturas de dados organizadas. Internamente, é possível criar DataFrames a partir de tipos básicos de dados e estruturas de dados. Vamos ver alguns exemplos:\n",
    "\n",
    "Criação de DataFrame a partir de um dicionário:"
   ]
  },
  {
   "cell_type": "code",
   "execution_count": null,
   "id": "01e81c30",
   "metadata": {},
   "outputs": [],
   "source": [
    "import pandas as pd\n",
    "dados = {\n",
    "    'Nome': ['Ana', 'Bruno', 'Carlos'],\n",
    "    'Idade': [25, 30, 35],\n",
    "    'Cidade': ['Curitiba', 'Belém', 'Belo Horizonte']\n",
    "}\n",
    "df = pd.DataFrame(dados)\n",
    "df"
   ]
  },
  {
   "cell_type": "markdown",
   "id": "e49a5500",
   "metadata": {},
   "source": [
    "Neste código, primeiro é realizada a importação da biblioteca Pandas com o apelido \"pd\". Em seguida, é criado um dicionário chamado \"dados\", contendo três pares chave-valor que representam, respectivamente, nomes, idades e cidades de três indivíduos. Por fim, o dicionário é convertido em um DataFrame do Pandas e armazenado na variável \"df\". Assim, o DataFrame \"df\" organiza as informações presentes no dicionário \"dados\" em forma de tabela, facilitando análises e manipulações posteriores dos dados. \n",
    "\n",
    "Criação de um DataFrame a partir de uma lista:"
   ]
  },
  {
   "cell_type": "code",
   "execution_count": null,
   "id": "cd67357d",
   "metadata": {},
   "outputs": [],
   "source": [
    "nome = ['Ana', 'Bruno', 'Carlos']\n",
    "idade = [25, 30, 35]\n",
    "cidade = ['Curitiba', 'Belém', 'Belo Horizonte']\n",
    "df = pd.DataFrame(list(zip(nome, idade, cidade)), columns=['Nome', 'Idade', 'Cidade'])"
   ]
  },
  {
   "cell_type": "markdown",
   "id": "9b724f08",
   "metadata": {},
   "source": [
    "Neste código, são definidas três listas: \"nome\", \"idade\" e \"cidade\", que contêm, respectivamente, os nomes, idades e cidades de três indivíduos. A função zip é usada para agrupar os elementos correspondentes dessas três listas em tuplas. A função list converte o resultado do zip em uma lista de tuplas, onde cada tupla contém um nome, uma idade e uma cidade. Finalmente, essa lista de tuplas é convertida em um DataFrame, com as colunas nomeadas como 'Nome', 'Idade' e 'Cidade'. O resultado é armazenado na variável \"df\".\n",
    "\n",
    "\n",
    "Criação de DataFrames a partir de arquivos:\n",
    "\n",
    "No contexto do Geoprocessamento, frequentemente lidamos com vastas quantidades de informações armazenadas em diferentes formatos de arquivos, como CSV, Excel, entre outros. A criação de DataFrames a partir de arquivos permite acessar, visualizar e trabalhar com os dados de uma maneira mais organizada e intuitiva. Veremos como criar DataFrames a partir de arquivos externos mais adiante em nosso curso.\n",
    "    \n",
    "    \n",
    "\n",
    "## 3.2 Manipulação e Seleção de Dados\n",
    "\n",
    "### 3.2.1 Seleção e filtragem em DataFrames\n",
    "\n",
    "Ao trabalhar com DataFrames no Pandas, uma habilidade importante é a capacidade de selecionar e filtrar dados de forma eficaz. Dado que um DataFrame pode conter grandes quantidades de dados, frequentemente precisamos isolar subconjuntos específicos desses dados para análises mais detalhadas ou operações subsequentes. Seja para extrair colunas específicas, selecionar linhas baseadas em critérios definidos ou combinar ambos os métodos, o Pandas oferece uma variedade de ferramentas intuitivas que tornam essas tarefas simples e diretas.\n",
    "\n",
    "Estudaremos a seleção e a filtragem de dados no Pandas a partir de exemplos. Vamos começar criando um conjunto de dados (DataFrame):"
   ]
  },
  {
   "cell_type": "code",
   "execution_count": null,
   "id": "15c72fb9",
   "metadata": {},
   "outputs": [],
   "source": [
    "dados = {\n",
    "    'País': ['Brasil', 'Argentina', 'Chile', 'Uruguai', 'Paraguai', 'Bolívia'],\n",
    "    'População': [211050000, 45195777, 19116201, 3473727, 7044636, 11513100],\n",
    "    'Área': [8515767, 2780400, 756102, 176215, 406752, 1098581],  # em km^2\n",
    "    'PIB (2020)': [2.055, 0.389, 0.282, 0.056, 0.038, 0.034]  # PIB em \n",
    "    # trilhões de dólares para 2020 (valores aproximados)\n",
    "}\n",
    "\n",
    "df = pd.DataFrame(dados)"
   ]
  },
  {
   "cell_type": "code",
   "execution_count": null,
   "id": "a4108c4c",
   "metadata": {},
   "outputs": [],
   "source": [
    "# Exibindo o DataFrame\n",
    "print(df)"
   ]
  },
  {
   "cell_type": "markdown",
   "id": "aaa14882",
   "metadata": {},
   "source": [
    "*Selecionar colunas e linhas específicas*\n",
    "\n",
    "Para selecionar uma única coluna, você pode usar a notação de colchetes com o nome da coluna."
   ]
  },
  {
   "cell_type": "code",
   "execution_count": null,
   "id": "46fa2abb",
   "metadata": {},
   "outputs": [],
   "source": [
    "# Selecionando apenas a coluna 'País'\n",
    "paises = df['País']\n",
    "print(paises)"
   ]
  },
  {
   "cell_type": "markdown",
   "id": "9def6398",
   "metadata": {},
   "source": [
    "Para selecionar várias colunas, você pode passar uma lista com os nomes das colunas desejadas:"
   ]
  },
  {
   "cell_type": "code",
   "execution_count": null,
   "id": "b70c6060",
   "metadata": {},
   "outputs": [],
   "source": [
    "# Selecionando as colunas 'País' e 'PIB (2020)'\n",
    "paises_pib = df[['País', 'PIB (2020)']]\n",
    "print(paises_pib)"
   ]
  },
  {
   "cell_type": "markdown",
   "id": "f56e0c7b",
   "metadata": {},
   "source": [
    "- Usando o método .iloc:\n",
    "\n",
    "O método iloc do Pandas permite selecionar linhas e colunas em um DataFrame usando índices numéricos. É uma abordagem baseada em posição, o que significa que você se refere às linhas e colunas por seus índices numéricos.\n",
    "\n",
    "Para selecionar uma única linha, você pode usar a notação de colchetes com o índice da linha."
   ]
  },
  {
   "cell_type": "code",
   "execution_count": null,
   "id": "f7032c11",
   "metadata": {},
   "outputs": [],
   "source": [
    "# Selecionando a terceira linha (índice 2)\n",
    "linha3 = df.iloc[2]\n",
    "print(linha3)"
   ]
  },
  {
   "cell_type": "markdown",
   "id": "dba487e7",
   "metadata": {},
   "source": [
    "Você pode selecionar várias linhas passando uma lista de índices ou um intervalo de índices. Por exemplo, selecionar as três primeiras linhas do DataFrame:"
   ]
  },
  {
   "cell_type": "code",
   "execution_count": null,
   "id": "3b5183e5",
   "metadata": {},
   "outputs": [],
   "source": [
    "primeiras_tres = df.iloc[0:3]\n",
    "print(primeiras_tres)"
   ]
  },
  {
   "cell_type": "markdown",
   "id": "29a79729",
   "metadata": {},
   "source": [
    "Para selecionar linhas com índices específicos:"
   ]
  },
  {
   "cell_type": "code",
   "execution_count": null,
   "id": "c86bd66f",
   "metadata": {},
   "outputs": [],
   "source": [
    "linhas_especificas = df.iloc[[1, 3, 5]]\n",
    "print(linhas_especificas)"
   ]
  },
  {
   "cell_type": "markdown",
   "id": "0c6e8386",
   "metadata": {},
   "source": [
    "*Selecionando Linhas e Colunas Simultaneamente*\n",
    "\n",
    "Com iloc, você também pode selecionar linhas e colunas específicas ao mesmo tempo. Para selecionar uma coluna específica utilizando o método iloc, é necessário fornecer os índices das linhas e da coluna desejada. Se você deseja selecionar toda a coluna \"País\", por exemplo, pode fazer o seguinte:"
   ]
  },
  {
   "cell_type": "code",
   "execution_count": null,
   "id": "c241d376",
   "metadata": {},
   "outputs": [],
   "source": [
    "coluna_pais = df.iloc[:, 0]\n",
    "print(coluna_pais)"
   ]
  },
  {
   "cell_type": "markdown",
   "id": "32fd1f37",
   "metadata": {},
   "source": [
    "Neste código, ``` df.iloc[:, 0] ``` seleciona todas as linhas (indicado pelo “:”) da primeira coluna (índice 0).\n",
    "\n",
    "Se você quiser especificar tanto as linhas quanto as colunas a serem selecionados, usando o iloc:"
   ]
  },
  {
   "cell_type": "code",
   "execution_count": null,
   "id": "10b09e77",
   "metadata": {},
   "outputs": [],
   "source": [
    "selecao = df.iloc[1:4, [0, 3]]\n",
    "print(selecao)"
   ]
  },
  {
   "cell_type": "markdown",
   "id": "02eac5cd",
   "metadata": {},
   "source": [
    "- Usando loc (por índices etiquetados ou nomes de colunas)\n",
    "\n",
    "O método loc do Pandas é usado para selecionar linhas e colunas por seus índices etiquetados (ou rótulos) e nomes de colunas, ao contrário do iloc, que usa índices numéricos. Vamos ver como usar o loc com o nosso DataFrame.\n",
    "\n",
    "Inicialmente, vamos alterar o DataFrame que utilizamos no estudo do método ‘iloc’, definindo como índice etiquetado (rótulo) o nome do país:"
   ]
  },
  {
   "cell_type": "code",
   "execution_count": null,
   "id": "1967da73",
   "metadata": {},
   "outputs": [],
   "source": [
    "df.set_index('País', inplace=True)\n",
    "print(df)"
   ]
  },
  {
   "cell_type": "markdown",
   "id": "e03b0e5d",
   "metadata": {},
   "source": [
    "O método set_index do DataFrame é usado para definir uma coluna como índice (ou rótulo de linha) do DataFrame. O argumento que você fornece a este método especifica a coluna que você deseja usar como índice. Aqui, estamos indicando que queremos definir a coluna 'País' como o índice do DataFrame df. Quando inplace é definido como True, a operação modifica o DataFrame original e não retorna um novo DataFrame. Se inplace for False (ou não fornecido), a operação retornará um novo DataFrame com a alteração, e o DataFrame original não será modificado.\n",
    "\n",
    "\n",
    "- Selecionando uma Única Linha\n",
    "\n",
    "Exemplo: Selecionar a linha com índice 'Brasil'."
   ]
  },
  {
   "cell_type": "code",
   "execution_count": null,
   "id": "f3368b1d",
   "metadata": {},
   "outputs": [],
   "source": [
    "linha_brasil = df.loc['Brasil']\n",
    "print(linha_brasil)"
   ]
  },
  {
   "cell_type": "markdown",
   "id": "ab20d1f3",
   "metadata": {},
   "source": [
    "Selecionando Múltiplas Linhas\n",
    "\n",
    "Exemplo: Selecionar as linhas com índices 'Brasil', 'Argentina' e 'Chile'."
   ]
  },
  {
   "cell_type": "code",
   "execution_count": null,
   "id": "a986d86b",
   "metadata": {},
   "outputs": [],
   "source": [
    "linhas_selecionadas = df.loc[['Brasil', 'Argentina', 'Chile']]\n",
    "print(linhas_selecionadas)"
   ]
  },
  {
   "cell_type": "markdown",
   "id": "ecd555bc",
   "metadata": {},
   "source": [
    "Selecionando Linhas e Colunas Simultaneamente\n",
    "\n",
    "Exemplo: Selecionar as linhas 'Brasil' e 'Argentina' e as colunas 'População' e 'PIB (2020)'."
   ]
  },
  {
   "cell_type": "code",
   "execution_count": null,
   "id": "3e223a9e",
   "metadata": {},
   "outputs": [],
   "source": [
    "selecao = df.loc[['Brasil', 'Argentina'], ['População', 'PIB (2020)']]\n",
    "print(selecao)"
   ]
  },
  {
   "cell_type": "markdown",
   "id": "beae843b",
   "metadata": {},
   "source": [
    "Selecionando Todas as Linhas de Colunas Específicas\n",
    "\n",
    "Exemplo: Selecionar todas as linhas e apenas a coluna 'Área'."
   ]
  },
  {
   "cell_type": "code",
   "execution_count": null,
   "id": "8dd0fba8",
   "metadata": {},
   "outputs": [],
   "source": [
    "coluna_area = df.loc[:, 'Área']\n",
    "print(coluna_area)"
   ]
  },
  {
   "cell_type": "markdown",
   "id": "d2a63646",
   "metadata": {},
   "source": [
    "*Filtragem de dados com base em condições*\n",
    "\n",
    "Com o Pandas, é possível filtrar um DataFrame baseado em condições específicas aplicadas às colunas.\n",
    "\n",
    "A filtragem de dados baseada em condições é uma das operações mais comuns ao trabalhar com DataFrames no Pandas. Isso permite que você selecione subconjuntos de dados que atendam a critérios específicos. Vamos explorar como fazer isso.\n",
    "\n",
    "Vamos utilizar o DataFrame que tem os rótulos das linhas numerados, mas resetando o seu índice."
   ]
  },
  {
   "cell_type": "code",
   "execution_count": null,
   "id": "e21feaec",
   "metadata": {},
   "outputs": [],
   "source": [
    "df.reset_index(inplace=True)\n",
    "df"
   ]
  },
  {
   "cell_type": "markdown",
   "id": "aead1ce7",
   "metadata": {},
   "source": [
    "Filtragem Simples\n",
    "\n",
    "Exemplo: selecionar todos os países com uma população maior que 10 milhões."
   ]
  },
  {
   "cell_type": "code",
   "execution_count": null,
   "id": "432a2e5c",
   "metadata": {},
   "outputs": [],
   "source": [
    "paises_10M = df[df['População'] > 10000000]\n",
    "print(paises_10M)"
   ]
  },
  {
   "cell_type": "markdown",
   "id": "419f833e",
   "metadata": {},
   "source": [
    "Usando Múltiplas Condições:\n",
    "\n",
    "Se você quiser combinar várias condições, pode usar os operadores “&” (e), “|” (ou) e “ ~ ” (não). Lembre-se de colocar cada condição entre parênteses.\n",
    "\n",
    "Por exemplo, para selecionar países com uma população maior que 15 milhões e uma área menor que 1 milhão de km2:"
   ]
  },
  {
   "cell_type": "code",
   "execution_count": null,
   "id": "e80a7777",
   "metadata": {},
   "outputs": [],
   "source": [
    "filtro = (df['População'] > 15000000) & (df['Área'] < 1000000)\n",
    "paises_filtrados = df[filtro]\n",
    "print(paises_filtrados)"
   ]
  },
  {
   "cell_type": "markdown",
   "id": "f88d1fa6",
   "metadata": {},
   "source": [
    "Usando o Método isin:\n",
    "\n",
    "Se você quiser filtrar com base em uma lista de valores, pode usar o método isin. Por exemplo, para selecionar países que estão na lista ``` ['Brasil', 'Argentina', 'Chile']:```"
   ]
  },
  {
   "cell_type": "code",
   "execution_count": null,
   "id": "e0042493",
   "metadata": {},
   "outputs": [],
   "source": [
    "paises_lista = df[df['País'].isin(['Brasil', 'Argentina', 'Chile'])]\n",
    "print(paises_lista)"
   ]
  },
  {
   "cell_type": "markdown",
   "id": "845d33ba",
   "metadata": {},
   "source": [
    "Filtragem com query\n",
    "\n",
    "O método query permite filtrar usando uma string de consulta, o que pode ser mais legível em algumas situações. Por exemplo, para selecionar países com uma área menor que 500.000 km2:"
   ]
  },
  {
   "cell_type": "code",
   "execution_count": null,
   "id": "bc137b55",
   "metadata": {},
   "outputs": [],
   "source": [
    "paises_grandes_query = df.query('Área < 500000')\n",
    "print(paises_grandes_query)"
   ]
  },
  {
   "cell_type": "markdown",
   "id": "7dd8adcc",
   "metadata": {},
   "source": [
    "### 3.2.2 Manipulação de Dados em DataFrames\n",
    "\n",
    "A manipulação de dados é uma das principais funcionalidades oferecidas pelo Pandas. Com ela, é possível realizar uma ampla variedade de operações para transformar, limpar e analisar seus conjuntos de dados.\n",
    "\n",
    "\n",
    "*Alterando um valor específico*\n",
    "\n",
    "Para alterar um valor específico, você pode usar loc ou iloc. Exemplo:\n",
    "\n",
    "Alterar a população do Brasil para 203.062.215:"
   ]
  },
  {
   "cell_type": "code",
   "execution_count": null,
   "id": "ac8bf3a4",
   "metadata": {},
   "outputs": [],
   "source": [
    "df.loc[df['País'] == 'Brasil', 'População'] = 203062512"
   ]
  },
  {
   "cell_type": "markdown",
   "id": "62e4e2f7",
   "metadata": {},
   "source": [
    "*Alterando valores com base em uma condição*\n",
    "\n",
    "Você pode combinar a filtragem de dados com a atribuição para alterar valores com base em uma condição:"
   ]
  },
  {
   "cell_type": "code",
   "execution_count": null,
   "id": "cbbcfabf",
   "metadata": {},
   "outputs": [],
   "source": [
    "df.loc[df['População'] > 15000000, 'PIB (2020)'] += 0.1"
   ]
  },
  {
   "cell_type": "markdown",
   "id": "59f005ce",
   "metadata": {},
   "source": [
    "Neste exemplo, estamos aumentando o PIB (2020) em 100 bilhões (lembrando que o PIB registrado no DataFrame original está em trilhões de dólares) para todos os países com uma população superior a 15 milhões.\n",
    "\n",
    "\n",
    "*Usando o método replace*\n",
    "\n",
    "O método replace é usado para substituir valores específicos. Por exemplo, substituir o nome “Brasil” por “República Federativa do Brasil”:"
   ]
  },
  {
   "cell_type": "code",
   "execution_count": null,
   "id": "82ac3d4c",
   "metadata": {},
   "outputs": [],
   "source": [
    "df['País'] = df['País'].replace('Brasil', 'República Federativa do Brasil')"
   ]
  },
  {
   "cell_type": "markdown",
   "id": "0419d5f8",
   "metadata": {},
   "source": [
    "*Alterando valores usando uma função com apply*\n",
    "\n",
    "O método apply permite aplicar uma função a cada elemento de uma coluna ou linha. Por exemplo, aumentar a população de todos os países em 5%:"
   ]
  },
  {
   "cell_type": "code",
   "execution_count": null,
   "id": "7ca19b36",
   "metadata": {},
   "outputs": [],
   "source": [
    "df['População'] = df['População'].apply(lambda x: int(x * 1.05))"
   ]
  },
  {
   "cell_type": "markdown",
   "id": "bfacafb0",
   "metadata": {},
   "source": [
    "Neste exemplo, estamos multiplicando a população de cada país por 1.05, o que resulta em um aumento de 5% na população original.\n",
    "\n",
    "\n",
    "*Redefinindo valores de uma coluna inteira*\n",
    "\n",
    "Por exemplo, redefinir todos os valores da coluna PIB (2020) para zero:"
   ]
  },
  {
   "cell_type": "code",
   "execution_count": null,
   "id": "2389f107",
   "metadata": {},
   "outputs": [],
   "source": [
    "df['PIB (2020)'] = 0"
   ]
  },
  {
   "cell_type": "markdown",
   "id": "a718a6ee",
   "metadata": {},
   "source": [
    "Estes são apenas alguns exemplos básicos de como alterar valores em um DataFrame do Pandas. A biblioteca oferece uma ampla variedade de métodos e funcionalidades que permitem manipular e transformar dados de maneira eficiente.\n",
    "\n",
    "\n",
    "*Adicionando e removendo colunas*\n",
    "\n",
    "Em muitas situações de análise e manipulação de dados, é comum a necessidade de ajustar a estrutura dos conjuntos de dados para melhor atender aos requisitos do projeto. No contexto dos DataFrames do Pandas, essa flexibilidade é amplamente facilitada através de métodos que permitem adicionar novas colunas, seja com base em cálculos, combinações ou informações externas, bem como remover colunas que podem não ser relevantes para a análise subsequente. Vamos aplicar alguns dos principais métodos a partir de exemplos:\n",
    "\n",
    "\n",
    "Adicionar uma nova coluna:\n",
    "\n",
    "\tPara adicionar uma nova coluna com valores padrão:"
   ]
  },
  {
   "cell_type": "code",
   "execution_count": null,
   "id": "e25cbfa5",
   "metadata": {},
   "outputs": [],
   "source": [
    "df['NovaColuna'] = 'Valor Padrão'"
   ]
  },
  {
   "cell_type": "code",
   "execution_count": null,
   "id": "3439fedd",
   "metadata": {},
   "outputs": [],
   "source": [
    "df['Continente'] = 'América do Sul'"
   ]
  },
  {
   "cell_type": "markdown",
   "id": "040e2703",
   "metadata": {},
   "source": [
    "Remover uma coluna:\n",
    "\n",
    "Para remover uma coluna:"
   ]
  },
  {
   "cell_type": "code",
   "execution_count": null,
   "id": "e5911f51",
   "metadata": {},
   "outputs": [],
   "source": [
    "df.drop('Continente', axis=1, inplace=True)"
   ]
  },
  {
   "cell_type": "markdown",
   "id": "8f36b3e1",
   "metadata": {},
   "source": [
    "O método drop do Pandas é usado para remover linhas ou colunas de um DataFrame. No código fornecido, o método está sendo aplicado para remover uma coluna:\n",
    "\n",
    "'Continente': é o nome da coluna que você deseja remover.\n",
    "\n",
    "‘axis=1: especifica que a operação deve ser realizada nas colunas. Se você estivesse removendo uma linha, usaria axis=0.\n",
    "\n",
    "inplace=True: essa opção significa que a alteração será aplicada diretamente no DataFrame df, sem necessidade de reatribuição. Se inplace fosse definido como False (ou omitido, já que o padrão é False), o método retornaria um novo DataFrame com a coluna removida, mas o DataFrame original df permaneceria inalterado.\n",
    "\n",
    "\n",
    "Adicionar uma coluna com base em outras colunas\n",
    "\n",
    "Exemplo 1: adicionar uma coluna que seja a razão entre a população e a área."
   ]
  },
  {
   "cell_type": "code",
   "execution_count": null,
   "id": "b3e3f262",
   "metadata": {},
   "outputs": [],
   "source": [
    "df['Densidade_populacional'] = df['População'] / df['Área']"
   ]
  },
  {
   "cell_type": "markdown",
   "id": "451e6ff7",
   "metadata": {},
   "source": [
    "Exemplo 2: Adicionar uma coluna que seja a relação entre o PIB e o número de habitantes:"
   ]
  },
  {
   "cell_type": "code",
   "execution_count": null,
   "id": "ddc4172d",
   "metadata": {},
   "outputs": [],
   "source": [
    "df['Renda Per Capita'] = df['PIB (2020)'] * 1e12 / df['População']"
   ]
  },
  {
   "cell_type": "markdown",
   "id": "ef44c5fc",
   "metadata": {},
   "source": [
    "Remover múltiplas colunas\n",
    "\n",
    "\tPara remover várias colunas:"
   ]
  },
  {
   "cell_type": "code",
   "execution_count": null,
   "id": "cecfd5e7",
   "metadata": {},
   "outputs": [],
   "source": [
    "df.drop(['Densidade_populacional', 'Renda Per Capita'], axis=1, inplace=True)"
   ]
  },
  {
   "cell_type": "markdown",
   "id": "d0ac19d1",
   "metadata": {},
   "source": [
    "Adicionar colunas usando assign\n",
    "\n",
    "\tO método assign permite adicionar uma ou mais colunas ao DataFrame:"
   ]
  },
  {
   "cell_type": "code",
   "execution_count": null,
   "id": "6c785af1",
   "metadata": {},
   "outputs": [],
   "source": [
    "df = df.assign(\n",
    "    Densidade_Populacional = df['População'] / df['Área'],\n",
    "    PIB_Per_Capita = df['PIB (2020)'] * 1e12 / df['População']\n",
    ")"
   ]
  },
  {
   "cell_type": "markdown",
   "id": "c95a5fb1",
   "metadata": {},
   "source": [
    "Adicionar colunas em locais específicos\n",
    "\n",
    "\tPara adicionar uma coluna em uma posição específica, é possível usar o método insert:"
   ]
  },
  {
   "cell_type": "code",
   "execution_count": null,
   "id": "ce223d55",
   "metadata": {},
   "outputs": [],
   "source": [
    "df.insert(loc=1, column='Continente', value='América do Sul')"
   ]
  },
  {
   "cell_type": "markdown",
   "id": "f149abd3",
   "metadata": {},
   "source": [
    "Os argumentos fornecidos ao método insert fazem o seguinte:\n",
    "\n",
    "- loc=1: Especifica a posição (ou índice) onde a nova coluna deve ser inserida. Neste caso, a nova coluna será inserida na posição 1 (lembrando que a indexação começa em 0). Portanto, a nova coluna será a segunda coluna no DataFrame.\n",
    "\n",
    "- column='Continente': Define o nome da nova coluna como 'Continente'.\n",
    "\n",
    "- value='América do Sul': Especifica o valor que será preenchido em todas as linhas dessa nova coluna. Aqui, todas as linhas da coluna 'Continente' terão o valor 'América do Sul'.\n",
    "\n",
    "Neste exemplo, a nova coluna foi inserida na segunda posição (lembre-se que a indexação no Python começa em zero).\n",
    "\n",
    "Estes são apenas alguns exemplos básicos de como adicionar e remover colunas em um DataFrame do Pandas. A biblioteca oferece uma ampla variedade de métodos e funcionalidades que permitem manipular e transformar dados de maneira eficiente.\n",
    "\n",
    "\n",
    "### 3.2.3 Manipulação de índices\n",
    "\n",
    "Índices são essenciais no Pandas, pois permitem acesso rápido a linhas e colunas, facilitam a organização dos dados e são úteis para operações como junções. Já utilizamos métodos para manipulação de índices nos exemplos anteriores. Nesta seção, vamos dar continuidade ao seu estudo. Para tanto, vamos utilizar o mesmo DataFrame dos exemplos anteriores:"
   ]
  },
  {
   "cell_type": "code",
   "execution_count": null,
   "id": "cd203684",
   "metadata": {},
   "outputs": [],
   "source": [
    "# Dicionário de listas\n",
    "dados = {\n",
    "    'País': ['Brasil', 'Argentina', 'Chile', 'Uruguai', 'Paraguai', 'Bolívia'],\n",
    "    'População': [211050000, 45195777, 19116201, 3473727, 7044636, 11513100],\n",
    "    'Área': [8515767, 2780400, 756102, 176215, 406752, 1098581],  # em km^2\n",
    "    'PIB (2020)': [2.055, 0.389, 0.282, 0.056, 0.038, 0.034]  # PIB em \n",
    "    # trilhões de dólares para 2020 (valores aproximados)\n",
    "}\n",
    "\n",
    "df = pd.DataFrame(dados)"
   ]
  },
  {
   "cell_type": "markdown",
   "id": "7a62f548",
   "metadata": {},
   "source": [
    "Definindo uma coluna como índice\n",
    "\n",
    "Para definir a coluna \"País\" como índice:"
   ]
  },
  {
   "cell_type": "code",
   "execution_count": null,
   "id": "0cef604e",
   "metadata": {},
   "outputs": [],
   "source": [
    "df = df.set_index('País')"
   ]
  },
  {
   "cell_type": "markdown",
   "id": "aba84b51",
   "metadata": {},
   "source": [
    "Renomeando índices\n",
    "\n",
    "Renomear o índice \"Uruguai\" para \"República Oriental do Uruguai\":"
   ]
  },
  {
   "cell_type": "code",
   "execution_count": null,
   "id": "e82a3609",
   "metadata": {},
   "outputs": [],
   "source": [
    "df = df.rename(index={'Uruguai': 'República Oriental do Uruguai'})"
   ]
  },
  {
   "cell_type": "markdown",
   "id": "b965892d",
   "metadata": {},
   "source": [
    "Selecionando linhas por índice\n",
    "\n",
    "Para selecionar os dados referentes ao Chile:"
   ]
  },
  {
   "cell_type": "code",
   "execution_count": null,
   "id": "990b2926",
   "metadata": {},
   "outputs": [],
   "source": [
    "chile_dados = df.loc['Chile'] "
   ]
  },
  {
   "cell_type": "markdown",
   "id": "c650d836",
   "metadata": {},
   "source": [
    "Removendo linhas por índice\n",
    "\n",
    "Para remover os dados referentes a Argentina:"
   ]
  },
  {
   "cell_type": "code",
   "execution_count": null,
   "id": "b312d5c4",
   "metadata": {},
   "outputs": [],
   "source": [
    "df = df.drop('Argentina')"
   ]
  },
  {
   "cell_type": "markdown",
   "id": "05d3d2bf",
   "metadata": {},
   "source": [
    "Verificando a existência de índices\n",
    "\n",
    "Para verificar se o Brasil está no índice:"
   ]
  },
  {
   "cell_type": "code",
   "execution_count": null,
   "id": "a126ff07",
   "metadata": {},
   "outputs": [],
   "source": [
    "print('Brasil' in df.index)"
   ]
  },
  {
   "cell_type": "markdown",
   "id": "66c3a07a",
   "metadata": {},
   "source": [
    "Para verificar se a Argentina está no índice:"
   ]
  },
  {
   "cell_type": "code",
   "execution_count": null,
   "id": "473abce0",
   "metadata": {},
   "outputs": [],
   "source": [
    "print('Argentina' in df.index)"
   ]
  },
  {
   "cell_type": "markdown",
   "id": "449fe5d1",
   "metadata": {},
   "source": [
    "Alterando a ordem dos índices\n",
    "\n",
    "Para ordenar os países em ordem alfabética decrescente:"
   ]
  },
  {
   "cell_type": "code",
   "execution_count": null,
   "id": "9ef1af70",
   "metadata": {},
   "outputs": [],
   "source": [
    "df = df.sort_index(ascending=False)"
   ]
  },
  {
   "cell_type": "markdown",
   "id": "3e0dcce0",
   "metadata": {},
   "source": [
    "### 3.2.4 Operações aritméticas com DataFrames\n",
    "\n",
    "As operações aritméticas com DataFrames são componentes essenciais da análise de dados. Essas operações podem ser realizadas entre colunas de um único DataFrame, entre Series e DataFrames, ou entre dois DataFrames. Abaixo, você encontrará os principais tópicos relacionados a operações aritméticas com DataFrames no Pandas:\n",
    "\n",
    "*Operações Escalares*\n",
    "\n",
    "Exemplo: Aplicar uma operação aritmética entre um DataFrame e um escalar (multiplicar todos os valores do DataFrame por 10):\n",
    " Inicialmente, vamos criar um DataFrame:"
   ]
  },
  {
   "cell_type": "code",
   "execution_count": null,
   "id": "e21aa5be",
   "metadata": {},
   "outputs": [],
   "source": [
    "df = pd.DataFrame({\n",
    "    'A': [1, 2, 3],\n",
    "    'B': [4, 5, 6]\n",
    "})"
   ]
  },
  {
   "cell_type": "markdown",
   "id": "56220254",
   "metadata": {},
   "source": [
    "Em seguida, aplicamos a multiplicação:"
   ]
  },
  {
   "cell_type": "code",
   "execution_count": null,
   "id": "9bdc4e49",
   "metadata": {},
   "outputs": [],
   "source": [
    "df * 10  # Multiplica todos os elementos por 10"
   ]
  },
  {
   "cell_type": "markdown",
   "id": "4ab6e4bc",
   "metadata": {},
   "source": [
    "*Operações entre Series e DataFrames*\n",
    "\n",
    "Por padrão, ao realizar uma operação entre uma Series e um DataFrame, o Pandas tentará fazer a operação ao longo do índice (para cada linha):"
   ]
  },
  {
   "cell_type": "code",
   "execution_count": null,
   "id": "58b5f92a",
   "metadata": {},
   "outputs": [],
   "source": [
    "df = pd.DataFrame({\n",
    "    'A': [1, 2, 3],\n",
    "    'B': [4, 5, 6]\n",
    "})"
   ]
  },
  {
   "cell_type": "code",
   "execution_count": null,
   "id": "5efb141d",
   "metadata": {},
   "outputs": [],
   "source": [
    "s = pd.Series([1, 2, 3], index=['A', 'B', 'C'])"
   ]
  },
  {
   "cell_type": "code",
   "execution_count": null,
   "id": "f035161c",
   "metadata": {},
   "outputs": [],
   "source": [
    "df - s  # Subtrai a Series de cada linha do DataFrame"
   ]
  },
  {
   "cell_type": "markdown",
   "id": "3a2f0ff7",
   "metadata": {},
   "source": [
    "   \n",
    "No código acima, “s” é uma Series do Pandas que contém três elementos com índices 'A', 'B' e 'C'. Ao realizar a operação “df – s”, o Pandas tentará subtrair os valores da Series “s” de cada linha do DataFrame df com base nos índices correspondentes. A subtração é feita elemento a elemento, alinhando os índices da Series com as colunas do DataFrame. Para o DataFrame df e a Series “s” fornecidos, a subtração seria:\n",
    "\n",
    "\n",
    "Observe que a coluna 'C' no resultado é preenchida com NaN (Not a Number), porque o DataFrame df não tem uma coluna 'C', e o Pandas introduz valores NaN quando não consegue encontrar um valor correspondente para a operação.\n",
    "\n",
    "\n",
    "*Operações entre DataFrames*\n",
    "\n",
    "Quando se realizam operações entre DataFrames, o Pandas alinha os DataFrames pelos índices e pelas colunas:"
   ]
  },
  {
   "cell_type": "code",
   "execution_count": null,
   "id": "39258d48",
   "metadata": {},
   "outputs": [],
   "source": [
    "df1 = pd.DataFrame({\n",
    "    'A': [1, 2, 3],\n",
    "    'B': [4, 5, 6]\n",
    "})"
   ]
  },
  {
   "cell_type": "code",
   "execution_count": null,
   "id": "25348c04",
   "metadata": {},
   "outputs": [],
   "source": [
    "df2 = pd.DataFrame({\n",
    "    'A': [7, 8, 9],\n",
    "    'B': [10, 11, 12]\n",
    "})"
   ]
  },
  {
   "cell_type": "code",
   "execution_count": null,
   "id": "0a99f8ce",
   "metadata": {},
   "outputs": [],
   "source": [
    "df1 + df2  # Realiza a soma elemento a elemento"
   ]
  },
  {
   "cell_type": "markdown",
   "id": "335f359f",
   "metadata": {},
   "source": [
    "*Operações com Métodos Específicos*\n",
    "\n",
    "O Pandas também oferece métodos específicos que proporcionam mais controle sobre as operações aritméticas. Por exemplo, o método .add():"
   ]
  },
  {
   "cell_type": "code",
   "execution_count": null,
   "id": "5e652e3e",
   "metadata": {},
   "outputs": [],
   "source": [
    "df1.add(df2, fill_value=0)  "
   ]
  },
  {
   "cell_type": "markdown",
   "id": "01646e7a",
   "metadata": {},
   "source": [
    "Nesse código, fill_value=0 faz com que registros NaN, caso existam, sejam substituídos por 0 antes da operação. Saída:\n",
    "\n",
    "\n",
    "*Operações com Funções Agregadas*\n",
    "\n",
    "Para aplicar funções que agregam dados, como soma, média e contagem, você pode usar métodos como .sum(), .mean() e .count(), respectivamente.\n",
    "\n",
    "Para o DataFrame df:\n",
    "\n",
    "\n",
    "Aplicar:"
   ]
  },
  {
   "cell_type": "code",
   "execution_count": null,
   "id": "1949002b",
   "metadata": {},
   "outputs": [],
   "source": [
    "df.sum()"
   ]
  },
  {
   "cell_type": "markdown",
   "id": "421f4e24",
   "metadata": {},
   "source": [
    "Aplicar:"
   ]
  },
  {
   "cell_type": "code",
   "execution_count": null,
   "id": "96ed74ea",
   "metadata": {},
   "outputs": [],
   "source": [
    "df.count()"
   ]
  },
  {
   "cell_type": "markdown",
   "id": "213a4d92",
   "metadata": {},
   "source": [
    "Existem três registros em cada coluna.\n",
    "\n",
    "\n",
    "*Operações ao longo de um Eixo Específico*\n",
    "\n",
    "Suponha que você queira subtrair a média de cada coluna de todos os valores dessa coluna. Você pode usar o método .sub() e especificar o eixo:"
   ]
  },
  {
   "cell_type": "code",
   "execution_count": null,
   "id": "2087ce9f",
   "metadata": {},
   "outputs": [],
   "source": [
    "df.sub(df.mean(axis=1), axis=0)"
   ]
  },
  {
   "cell_type": "markdown",
   "id": "3e785632",
   "metadata": {},
   "source": [
    "Nesse código, df1.mean(axis=1) calcula a média dos valores ao longo do eixo horizontal (ao longo das colunas) para cada linha. O resultado é uma Series onde o seu índice corresponde ao índice das linhas do DataFrame df1 e os valores são as médias calculadas para cada linha.\n",
    "\n",
    "\n",
    "Continuando com o código acima, df1.sub(df1.mean(axis=1), axis=0) subtrai os valores da Series resultante da etapa anterior de cada coluna do DataFrame df1. O parâmetro axis=0 indica que a operação de subtração deve ser realizada verticalmente (ao longo das linhas). Isso significa que cada valor da Series (a média de cada linha) será subtraído de cada valor na coluna correspondente do DataFrame. P\n",
    "\n",
    "\n",
    "*Operações utilizando o método applymap*\n",
    "\n",
    "O método applymap() é usado em DataFrames do Pandas para aplicar uma função a todos os elementos do DataFrame. Ele é particularmente útil quando você deseja realizar uma operação ou transformação elemento a elemento em todo o DataFrame.\n",
    "\n",
    "Ao contrário de outros métodos, como apply(), que trabalham ao longo de eixos (linhas ou colunas), o applymap() opera em cada elemento do DataFrame, um por um. Você fornece a função que deseja aplicar como argumento para o applymap(). Esta função é então aplicada a cada elemento do DataFrame.\n",
    "\n",
    "Vamos ver um exemplo simples para ilustrar o uso do applymap(): Suponha que você tenha um DataFrame com valores numéricos e deseje formatá-los como strings com duas casas decimais:"
   ]
  },
  {
   "cell_type": "code",
   "execution_count": null,
   "id": "436d458e",
   "metadata": {},
   "outputs": [],
   "source": [
    "# Criando um DataFrame de exemplo\n",
    "df = pd.DataFrame({\n",
    "    'A': [1.2345, 2.3456],\n",
    "    'B': [3.4567, 4.5678]\n",
    "})"
   ]
  },
  {
   "cell_type": "markdown",
   "id": "da74c67b",
   "metadata": {},
   "source": [
    "Usando applymap() para formatar todos os números para duas casas decimais:"
   ]
  },
  {
   "cell_type": "code",
   "execution_count": null,
   "id": "e0cc5354",
   "metadata": {},
   "outputs": [],
   "source": [
    "df_formatado = df.applymap(lambda x: \"{:.2f}\".format(x))\n",
    "df_formatado"
   ]
  },
  {
   "cell_type": "markdown",
   "id": "c74ae1e0",
   "metadata": {},
   "source": [
    "Em Series, você pode usar .map() para operações elemento a elemento ou .apply() para operações que produzem um resultado agregado.\n",
    "Lembre-se de que, quando os índices ou as colunas dos objetos envolvidos na operação não se alinham perfeitamente, o Pandas introduzirá valores NaN nos locais onde os dados estão faltando. Assim, é importante estar atento ao tratamento desses valores após operações aritméticas.\n",
    "\n",
    "\n",
    "### 3.2.5 Tratamento de dados ausentes ou faltantes\n",
    "\n",
    "O tratamento de dados ausentes é uma etapa crucial na preparação e limpeza de dados. Dados ausentes podem surgir por diversas razões, como falhas na coleta de dados, erros na entrada ou simplesmente porque a informação não estava disponível. O Pandas fornece várias ferramentas para lidar com esses valores ausentes.\n",
    "\n",
    "O tratamento adequado de dados ausentes depende do contexto e da natureza dos dados. Em alguns casos, pode ser apropriado preencher valores ausentes, enquanto em outros, pode ser melhor excluir registros ou até mesmo imputar valores com base em outras informações.\n",
    "\n",
    "Inicialmente, vamos criar um DataFrame com 4 colunas e 8 linhas, utilizando tanto valores numéricos quanto valores NaN (Not a Number) para representar dados faltantes em três das quatro colunas. Os dados faltantes serão criados utilizando np.NaN, que é uma constante especial definida na biblioteca Numpy que representa um valor \"Not a Number\". Em termos práticos, é usado para denotar a ausência de um valor ou dados faltantes em arrays e DataFrames.\n",
    "    \n",
    "Para o estudo do tratamento de dados ausentes, vamos utilizar um DataFrame criado a partir de um dicionário:"
   ]
  },
  {
   "cell_type": "code",
   "execution_count": null,
   "id": "2f21fadf",
   "metadata": {},
   "outputs": [],
   "source": [
    "import pandas as pd\n",
    "import numpy as np\n",
    "\n",
    "data = {\n",
    "    'A': [1, 2, 3, 4, 5, 6, 7, 8],\n",
    "    'B': [np.nan, 9, 10, np.nan, 12, 13, 14, np.nan],\n",
    "    'C': [16, np.nan, 18, 19, 20, np.nan, 22, 23],\n",
    "    'D': [np.nan, 25, np.nan, 27, np.nan, 29, np.nan, 31]\n",
    "}"
   ]
  },
  {
   "cell_type": "code",
   "execution_count": null,
   "id": "c2ea9fca",
   "metadata": {},
   "outputs": [],
   "source": [
    "df = pd.DataFrame(data)\n",
    "print(df)"
   ]
  },
  {
   "cell_type": "markdown",
   "id": "b0f8a25a",
   "metadata": {},
   "source": [
    "*Identificação de dados ausentes*\n",
    "\n",
    "O Pandas utiliza o valor NaN (Not a Number) para representar dados ausentes. Você pode identificar esses valores usando o método isna() ou isnull(), ambos retornam o mesmo resultado: um DataFrame de mesma dimensão com valores booleanos (True ou False) indicando a presença de valores faltantes."
   ]
  },
  {
   "cell_type": "code",
   "execution_count": null,
   "id": "0d8ab8a2",
   "metadata": {},
   "outputs": [],
   "source": [
    "print(df.isna())"
   ]
  },
  {
   "cell_type": "code",
   "execution_count": null,
   "id": "1e15b097",
   "metadata": {},
   "outputs": [],
   "source": [
    "print(df.isnull())"
   ]
  },
  {
   "cell_type": "markdown",
   "id": "ceb6b7b6",
   "metadata": {},
   "source": [
    "Para contar o número de valores faltantes por coluna:"
   ]
  },
  {
   "cell_type": "code",
   "execution_count": null,
   "id": "13043409",
   "metadata": {},
   "outputs": [],
   "source": [
    "print(df.isna().sum())"
   ]
  },
  {
   "cell_type": "markdown",
   "id": "cce6b56e",
   "metadata": {},
   "source": [
    "Para contar o total de valores faltantes no DataFrame inteiro:"
   ]
  },
  {
   "cell_type": "code",
   "execution_count": null,
   "id": "6ee5c173",
   "metadata": {},
   "outputs": [],
   "source": [
    "print(df.isna().sum().sum())"
   ]
  },
  {
   "cell_type": "markdown",
   "id": "d490d083",
   "metadata": {},
   "source": [
    "*Estratégias para tratamento de dados faltantes: exclusão e imputação*\n",
    "\n",
    "O tratamento de dados faltantes é uma etapa importante na análise e preparação de dados, especialmente porque a presença de valores faltantes pode distorcer análises. Existem várias estratégias para lidar com dados faltantes, e a escolha da estratégia adequada geralmente depende do contexto e da natureza dos dados. Vamos explorar duas categorias principais: exclusão e imputação.\n",
    "\n",
    "\n",
    "- Exclusão de dados ausentes\n",
    "\n",
    "A exclusão de dados ausentes em um DataFrame é uma abordagem que pode ser aplicada tanto às linhas quanto às colunas. Dependendo da natureza e da quantidade de dados ausentes, você pode optar por remover registros inteiros (linhas) ou características específicas (colunas) para manter a integridade e a qualidade dos dados analisados.\n",
    "\n",
    "A exclusão de linhas com valores faltantes é atrativa devido à sua simplicidade e rapidez de implementação. Além disso, ao evitar suposições ou imputações, a exclusão mantém a pureza dos dados. No entanto, essa abordagem não está isenta de desvantagens. A remoção de registros pode levar à perda significativa de informações, particularmente em conjuntos de dados onde a ausência de valores é comum. Adicionalmente, se os valores ausentes em um conjunto de dados não forem aleatoriamente distribuídos, a exclusão pode introduzir um viés, potencialmente levando a interpretações distorcidas ou análises imprecisas. \n",
    "\n",
    "O método .dropna() é uma função da biblioteca Pandas, utilizada para tratar dados faltantes em DataFrames. Ao aplicá-lo, todas as linhas que contêm pelo menos um valor faltante (NaN ou None) são excluídas do DataFrame. Por padrão, a operação é feita nas linhas, ou seja, se qualquer valor em uma linha for NaN ou None, toda a linha será removida. É importante notar que, a menos que o argumento inplace=True seja especificado, o método dropna() retornará um novo DataFrame com os valores faltantes removidos, sem alterar o DataFrame original.\n",
    "\n",
    "Vamos aplicar o método dropna() em nosso DataFrame df:"
   ]
  },
  {
   "cell_type": "code",
   "execution_count": null,
   "id": "0d83666d",
   "metadata": {},
   "outputs": [],
   "source": [
    "df.dropna()  # Remove linhas com qualquer valor faltante"
   ]
  },
  {
   "cell_type": "markdown",
   "id": "97c87aca",
   "metadata": {},
   "source": [
    "No caso de nosso DataFrame, como havia dados faltantes em todas as linhas, em pelo menos uma coluna, todos os dados foram removidos, resultando em um DataFrame vazio.\n",
    "\n",
    "A exclusão de colunas é uma estratégia considerada quando se depara com atributos que possuem uma quantidade significativa de valores faltantes. Esta abordagem pode ser especialmente útil quando uma coluna tem uma proporção tão alta de dados ausentes que a tentativa de imputação ou interpretação se torna inviável ou pouco confiável. No entanto, optar por descartar uma coluna inteira traz o risco de perder uma característica potencialmente relevante para a análise. É crucial ponderar a relevância da informação contida na coluna e o impacto de sua perda no contexto da análise ou modelo em questão.\n",
    "\n",
    "Se você desejar remover colunas que contêm valores faltantes utilizando o método dropna(), pode usar o argumento axis=1. Ao fazer isso, todas as colunas que contêm pelo menos um valor faltante serão excluídas:"
   ]
  },
  {
   "cell_type": "code",
   "execution_count": null,
   "id": "64bafcd3",
   "metadata": {},
   "outputs": [],
   "source": [
    "df.dropna(axis=1)  # Remove colunas com qualquer valor faltante"
   ]
  },
  {
   "cell_type": "markdown",
   "id": "907c3535",
   "metadata": {},
   "source": [
    "No caso do nosso DataFrame df, somente a coluna “A “não possuía dados faltantes. Logo, o DataFrame (agora, uma Series) resultante tem somente os dados dessa coluna.\n",
    "\n",
    "\n",
    "- Imputação\n",
    "\n",
    "A imputação é uma técnica fundamental no pré-processamento de dados para tratar valores faltantes. Dentre as abordagens mais populares para realizá-la, podemos citar: a) a imputação com valor constante; b) a imputação com média, mediana ou moda; c) a interpolação e; d) a imputação utilizando métodos avançados. Vamos detalhar essas abordagens a seguir.\n",
    "\n",
    "Imputação com Valor Constante\n",
    "\n",
    "A imputação com valor constante é uma abordagem na qual os valores faltantes são substituídos por um valor fixo, determinado previamente. Esta técnica é simples e rápida, sendo atraente em cenários onde se deseja uma solução imediata. No entanto, há ressalvas a serem consideradas. Substituir dados ausentes por um valor constante pode não refletir a realidade do conjunto de dados, especialmente se os valores ausentes não forem aleatórios. Além disso, essa estratégia pode introduzir distorções, alterando a distribuição original dos dados e potencialmente levando a interpretações errôneas.\n",
    "\n",
    "O método fillna() do Pandas é utilizado para preencher valores faltantes (representados como NaN) em um DataFrame ou Series. Vamos aplicá-lo em nosso DataFrame df:"
   ]
  },
  {
   "cell_type": "code",
   "execution_count": null,
   "id": "fe6b5ace",
   "metadata": {},
   "outputs": [],
   "source": [
    "df.fillna(0)"
   ]
  },
  {
   "cell_type": "markdown",
   "id": "8f007e60",
   "metadata": {},
   "source": [
    "Ao usar df.fillna(0), você está instruindo o Pandas a substituir todos os valores faltantes no DataFrame df pelo número zero. Em outras palavras, qualquer entrada que seja NaN no DataFrame original será substituída por zero na saída resultante. \n",
    "\n",
    "\n",
    "Imputação com média, mediana ou moda\n",
    "\n",
    "A utilização de métodos que levam em consideração a distribuição dos dados para tratar valores faltantes normalmente é uma opção mais refinada. Esta abordagem, que pode envolver o uso da média, mediana ou moda, tende a ser mais realista do que simplesmente substituir os valores ausentes por uma constante arbitrária, pois baseia-se na tendência central dos dados disponíveis. No entanto, nem sempre é a solução ideal. \n",
    "\n",
    "Em conjuntos de dados com distribuições altamente enviesadas ou com uma quantidade significativa de outliers (valores ou pontos em um conjunto de dados que se desviam significativamente dos outros pontos e, por isso, são considerados anômalos), essa técnica pode não ser a mais apropriada, já que a substituição de valores faltantes baseada nessas métricas pode não representar adequadamente a característica intrínseca do conjunto de dados. \n",
    "\n",
    "Vamos aplicar uma imputação com a média em nosso DataFrame df:"
   ]
  },
  {
   "cell_type": "code",
   "execution_count": null,
   "id": "16373e7f",
   "metadata": {},
   "outputs": [],
   "source": [
    "df.fillna(df.mean())"
   ]
  },
  {
   "cell_type": "markdown",
   "id": "f0d84d2d",
   "metadata": {},
   "source": [
    "Ao usar df.fillna(df.mean()), você está instruindo o Pandas a substituir todos os valores faltantes no DataFrame df pela média da respectiva coluna em que o valor faltante está localizado. Para ser mais específico, se uma coluna do DataFrame tiver algum valor faltante, esse valor será substituído pela média de todos os outros valores (não faltantes) da mesma coluna.\n",
    "\n",
    "\n",
    "- Interpolação\n",
    "\n",
    "A interpolação é especialmente útil em séries temporais ou dados sequenciais. A interpolação estima valores faltantes com base nos valores existentes antes e depois do ponto faltante. Por exemplo, em uma série temporal, se tivermos valores para os dias 1, 2 e 4, mas o dia 3 estiver faltando, a interpolação pode ser usada para estimar o valor para o dia 3 com base nos valores dos dias 2 e 4. Existem vários métodos de interpolação, desde técnicas lineares simples até métodos mais complexos, como interpolação polinomial ou spline. A escolha do método de interpolação deve ser feita considerando a natureza dos dados e o padrão subjacente que se acredita existir na sequência. Vamos aplicar a interpolação ao nosso DataFrame df:"
   ]
  },
  {
   "cell_type": "code",
   "execution_count": null,
   "id": "0dc941b6",
   "metadata": {},
   "outputs": [],
   "source": [
    "df.interpolate()"
   ]
  },
  {
   "cell_type": "markdown",
   "id": "fd17727c",
   "metadata": {},
   "source": [
    "A função interpolate() do Pandas utiliza, por padrão, um método de interpolação linear para preencher os valores NaN. No entanto, ela não consegue interpolar os valores NaN que estão nas extremidades do DataFrame (primeira e última linhas), pois não há dados adjacentes de um dos lados para calcular a interpolação.\n",
    "\n",
    "Para lidar com valores NaN nas extremidades, você pode considerar outras abordagens, como: preencher com um valor constante, preencher com a média da coluna ou aplicar métodos como bfill ou ffill.\n",
    "\n",
    "\n",
    "- Imputação com Métodos Avançados\n",
    "\n",
    "Existem métodos de imputação de dados mais avançados, como a imputação KNN (K-Nearest Neighbors), imputação por regressão e algoritmos como o MICE (Multiple Imputation by Chained Equations). Embora esses métodos possam oferecer uma precisão superior em comparação com abordagens mais simples, eles são computacionalmente mais intensivos e demandam uma compreensão mais profunda por parte do usuário. \n",
    "\n",
    "As vantagens incluem a potencial precisão elevada, enquanto as desvantagens giram em torno da sua complexidade e da necessidade de um maior poder computacional. Além disso, a implementação correta requer conhecimento adicional.\n",
    "\n",
    "\n",
    "\n",
    "### 3.2.6 Agrupamento e Agregação de Dados\n",
    "\n",
    "O agrupamento e a agregação de dados são técnicas importantes para analisar e resumir grandes conjuntos de dados. Elas permitem que você segmente seus dados em grupos e aplique funções de resumo a cada grupo, facilitando a identificação de padrões e tendências. Neste capítulo, exploraremos como realizar essas operações usando a biblioteca Pandas em Python. Para tanto vamos criar um DataFrame com dados sobre imagens de satélite:"
   ]
  },
  {
   "cell_type": "code",
   "execution_count": null,
   "id": "b715f048",
   "metadata": {},
   "outputs": [],
   "source": [
    "import pandas as pd\n",
    "\n",
    "paises_dados = {\n",
    "    'País': ['Argentina', 'Bolívia', 'Brasil', 'Chile', 'Colômbia', 'Equador', 'Guiana', 'Paraguai', 'Peru', 'Suriname', 'Uruguai', 'Venezuela'],\n",
    "    'População': [45195777, 11513100, 211050000, 19116201, 50882891, 17643054, 786552, 7044636, 32971854, 586632, 3473727, 28435940],\n",
    "    'Área': [2780400, 1098581, 8515767, 756102, 1141748, 283561, 214969, 406752, 1285216, 163821, 176215, 912050],\n",
    "    'Independência': ['1816-07-09', '1825-08-06', '1822-09-07', '1818-02-12', '1810-07-20', '1822-05-24', '1966-05-26', '1811-05-14', '1821-07-28', '1975-11-25', '1825-08-25', '1811-07-05']\n",
    "}"
   ]
  },
  {
   "cell_type": "code",
   "execution_count": null,
   "id": "5ebb827d",
   "metadata": {},
   "outputs": [],
   "source": [
    "df = pd.DataFrame(paises_dados)\n",
    "df"
   ]
  },
  {
   "cell_type": "markdown",
   "id": "01da951a",
   "metadata": {},
   "source": [
    "*Funções de agregação*\n",
    "\n",
    "As funções de agregação proporcionam um resumo estatístico ou uma redução dos dados. Quando você tem um grande conjunto de dados e quer obter informações resumidas ou insights gerais, as funções de agregação são muito úteis. No Python, especialmente com o Pandas, temos várias funções de agregação à disposição.\n",
    "\n",
    "Algumas das funções de agregação mais comuns são:\n",
    "\n",
    "min() e max(): Retorna os valores mínimo e máximo registrado em cada coluna no DataFrame, respectivamente."
   ]
  },
  {
   "cell_type": "code",
   "execution_count": null,
   "id": "ea6c9420",
   "metadata": {},
   "outputs": [],
   "source": [
    "df['Área'].min()"
   ]
  },
  {
   "cell_type": "code",
   "execution_count": null,
   "id": "2d619585",
   "metadata": {},
   "outputs": [],
   "source": [
    "df['Área'].max()"
   ]
  },
  {
   "cell_type": "markdown",
   "id": "ff32af60",
   "metadata": {},
   "source": [
    "sum(): Calcula a soma total de uma coluna."
   ]
  },
  {
   "cell_type": "code",
   "execution_count": null,
   "id": "f43db2bf",
   "metadata": {},
   "outputs": [],
   "source": [
    "df['População'].sum()"
   ]
  },
  {
   "cell_type": "markdown",
   "id": "25463683",
   "metadata": {},
   "source": [
    "mean(): Calcula a média aritmética."
   ]
  },
  {
   "cell_type": "code",
   "execution_count": null,
   "id": "e3c9aca0",
   "metadata": {},
   "outputs": [],
   "source": [
    "df['População'].mean()"
   ]
  },
  {
   "cell_type": "markdown",
   "id": "f0b93b54",
   "metadata": {},
   "source": [
    "median(): Retorna a mediana de uma coluna ordenada."
   ]
  },
  {
   "cell_type": "code",
   "execution_count": null,
   "id": "401fdf27",
   "metadata": {},
   "outputs": [],
   "source": [
    "df['População'].median()"
   ]
  },
  {
   "cell_type": "markdown",
   "id": "2123de43",
   "metadata": {},
   "source": [
    "std(): Calcula o desvio padrão, que é uma medida de dispersão dos dados."
   ]
  },
  {
   "cell_type": "code",
   "execution_count": null,
   "id": "44a8ed11",
   "metadata": {},
   "outputs": [],
   "source": [
    "df['População'].std()"
   ]
  },
  {
   "cell_type": "markdown",
   "id": "0d3fc42b",
   "metadata": {},
   "source": [
    "var(): Calcula a variância dos dados."
   ]
  },
  {
   "cell_type": "code",
   "execution_count": null,
   "id": "993f05c0",
   "metadata": {},
   "outputs": [],
   "source": [
    "df['População'].var()"
   ]
  },
  {
   "cell_type": "markdown",
   "id": "3577540d",
   "metadata": {},
   "source": [
    "quantile(): Retorna valores em percentis específicos de uma coluna."
   ]
  },
  {
   "cell_type": "code",
   "execution_count": null,
   "id": "06da9418",
   "metadata": {},
   "outputs": [],
   "source": [
    "df['População'].quantile(0.25)  "
   ]
  },
  {
   "cell_type": "markdown",
   "id": "34b94e3f",
   "metadata": {},
   "source": [
    "Count(): Conta o número de itens não nulos."
   ]
  },
  {
   "cell_type": "code",
   "execution_count": null,
   "id": "13fe2e7d",
   "metadata": {},
   "outputs": [],
   "source": [
    "df['País'].count()"
   ]
  },
  {
   "cell_type": "markdown",
   "id": "d71ecd02",
   "metadata": {},
   "source": [
    "nunique(): Conta o número de valores únicos em uma coluna."
   ]
  },
  {
   "cell_type": "code",
   "execution_count": null,
   "id": "6ac9224e",
   "metadata": {},
   "outputs": [],
   "source": [
    "df['País'].nunique()"
   ]
  },
  {
   "cell_type": "markdown",
   "id": "51ad90e1",
   "metadata": {},
   "source": [
    "unique(): Retorna um array dos valores únicos."
   ]
  },
  {
   "cell_type": "code",
   "execution_count": null,
   "id": "27a7b6fe",
   "metadata": {},
   "outputs": [],
   "source": [
    "df['País'].unique()"
   ]
  },
  {
   "cell_type": "markdown",
   "id": "e3d09f51",
   "metadata": {},
   "source": [
    "agg() ou aggregate(): Permite aplicar várias funções de agregação ao mesmo tempo ou especificar funções de agregação para colunas específicas."
   ]
  },
  {
   "cell_type": "code",
   "execution_count": null,
   "id": "0c43bf87",
   "metadata": {},
   "outputs": [],
   "source": [
    "df.agg({'População': 'sum', 'Área': 'mean'})"
   ]
  },
  {
   "cell_type": "markdown",
   "id": "9c7b04fe",
   "metadata": {},
   "source": [
    "*Método Groupby*\n",
    "\n",
    "O método groupby é uma ferramenta do Pandas que permite agrupar dados com base em algumas colunas e, em seguida, aplicar uma função (como soma, média, contagem, etc.) a cada grupo. Esse método é especialmente útil para segmentar um DataFrame em subconjuntos de dados para análise. Ele opera em três etapas fundamentais: Dividir, Aplicar e Combinar.\n",
    "\n",
    "a) Dividir: Nesta etapa, o DataFrame é dividido em grupos com base em uma ou mais colunas especificadas. Cada grupo é um subconjunto do DataFrame que tem o mesmo valor na coluna (ou colunas) especificada(s);\n",
    "\n",
    "b) Aplicar: Uma vez que os dados são agrupados, uma função é aplicada a cada grupo individualmente. Esta função pode ser uma operação de agregação (como calcular a média, a soma, a contagem, etc.), uma transformação (como normalizações ou cálculos mais complexos) ou qualquer outra operação que você queira realizar em grupos específicos;\n",
    "\n",
    "c) Combinar: Após aplicar a função a cada grupo, o Pandas combina os resultados em uma nova estrutura, geralmente um DataFrame. O resultado é um DataFrame reformulado, onde os índices são os valores únicos das colunas usadas para agrupar e as colunas contêm os resultados das funções aplicadas.\n",
    "\n",
    "Exemplos:\n",
    "\n",
    "Inicialmente, vamos criar um DataFrame:"
   ]
  },
  {
   "cell_type": "code",
   "execution_count": null,
   "id": "c4f2a5ae",
   "metadata": {},
   "outputs": [],
   "source": [
    "dados = {\n",
    "    'Imagem': ['Landsat 8', 'Sentinel-2', 'Landsat 8', 'WorldView-3', 'Sentinel-2',\n",
    "     'WorldView-3', 'Landsat 8', 'Sentinel-2'],\n",
    "    'Região': ['Amazônia', 'Cerrado', 'Pantanal', 'Pantanal', 'Amazônia',\n",
    "     'Caatinga', 'Caatinga', 'Cerrado'],\n",
    "    'Área Coberta (km²)': [1000, 1500, 2000, 500, 3000, 750, 1250, 1750],\n",
    "    'Custo (R$)': [5000, 10000, 15000, 50000, 25000, 70000, 7500, 15000]\n",
    "}\n",
    "\n",
    "df = pd.DataFrame(dados)\n",
    "df"
   ]
  },
  {
   "cell_type": "markdown",
   "id": "cf89d6c2",
   "metadata": {},
   "source": [
    "Agrupar os dados por 'Imagem' e obter a soma da 'Área Coberta (km²)' para cada tipo de imagem:"
   ]
  },
  {
   "cell_type": "code",
   "execution_count": null,
   "id": "107984ac",
   "metadata": {},
   "outputs": [],
   "source": [
    "df.groupby('Imagem')['Área Coberta (km²)'].sum()"
   ]
  },
  {
   "cell_type": "markdown",
   "id": "ab33b766",
   "metadata": {},
   "source": [
    "Agrupar os dados por 'Região' e calcular a média do 'Custo (R$)':"
   ]
  },
  {
   "cell_type": "code",
   "execution_count": null,
   "id": "c2fed981",
   "metadata": {},
   "outputs": [],
   "source": [
    "df.groupby('Região')['Custo (R$)'].mean()"
   ]
  },
  {
   "cell_type": "markdown",
   "id": "6044f3b3",
   "metadata": {},
   "source": [
    "Agrupar os dados por 'Imagem' e 'Região' e obter a contagem de registros para cada combinação:"
   ]
  },
  {
   "cell_type": "code",
   "execution_count": null,
   "id": "cfd6b493",
   "metadata": {},
   "outputs": [],
   "source": [
    "df.groupby(['Imagem', 'Região']).size()"
   ]
  },
  {
   "cell_type": "markdown",
   "id": "e4af6c26",
   "metadata": {},
   "source": [
    "Agrupar os dados por 'Imagem' e obter várias agregações para a coluna 'Custo (R$)' (média, soma e desvio padrão):"
   ]
  },
  {
   "cell_type": "code",
   "execution_count": null,
   "id": "9f3be43e",
   "metadata": {},
   "outputs": [],
   "source": [
    "df.groupby('Imagem')['Custo (R$)'].agg(['mean', 'sum', 'std'])"
   ]
  },
  {
   "cell_type": "markdown",
   "id": "24bd96b5",
   "metadata": {},
   "source": [
    "*Combinação de Dados*\n",
    "\n",
    "A combinação de dados é uma operação de grande relevância em geoprocessamento, permitindo que você junte informações de diferentes fontes ou DataFrames. Existem várias ferramentas para combinar DataFrames no Pandas, incluindo concatenação, junção e mesclagem.\n",
    "\n",
    "- Concatenação de DataFrames:\n",
    "\n",
    "A concatenação é o processo de anexar um DataFrame a outro, seja verticalmente (adicionando linhas) ou horizontalmente (adicionando colunas).\n",
    "\n",
    "Exemplo: Suponha que temos dois subconjuntos do nosso DataFrame df:"
   ]
  },
  {
   "cell_type": "code",
   "execution_count": null,
   "id": "4be03456",
   "metadata": {},
   "outputs": [],
   "source": [
    "df1 = df.iloc[:2]\n",
    "df1"
   ]
  },
  {
   "cell_type": "code",
   "execution_count": null,
   "id": "c53db7e5",
   "metadata": {},
   "outputs": [],
   "source": [
    "df2 = df.iloc[2:4]\n",
    "df2"
   ]
  },
  {
   "cell_type": "markdown",
   "id": "3a18465d",
   "metadata": {},
   "source": [
    "Relembrando: Esse código utiliza o método iloc do Pandas, que é usado para selecionar linhas e colunas por suas posições numéricas (índices).\n",
    "\n",
    "df1 = ``` df.iloc[:2] ``` seleciona as duas primeiras linhas do DataFrame df, atribuindo-as a um novo DataFrame chamado df1. O “:2” especifica que queremos todas as linhas do início até a posição 2 (exclusiva), ou seja, as linhas nas posições 0 e 1.\n",
    "\n",
    "df2 = ``` df.iloc[2:4] ``` seleciona as linhas nas posições 2 e 3 do DataFrame df, atribuindo-as a um novo DataFrame chamado df2. O “2:4” especifica que queremos as linhas da posição 2 até a posição 4 (o registro que está na posição 4 não é selecionado).\n",
    "\n",
    "\n",
    "Para concatená-los verticalmente:"
   ]
  },
  {
   "cell_type": "code",
   "execution_count": null,
   "id": "198c39b6",
   "metadata": {},
   "outputs": [],
   "source": [
    "df_concatenado = pd.concat([df1, df2])\n",
    "df_concatenado"
   ]
  },
  {
   "cell_type": "markdown",
   "id": "7dea28b9",
   "metadata": {},
   "source": [
    "Para aplicar a concatenação horizontal, considere o conjunto de dados adicional:"
   ]
  },
  {
   "cell_type": "code",
   "execution_count": null,
   "id": "f2163e14",
   "metadata": {},
   "outputs": [],
   "source": [
    "dado_adicional = {\n",
    "    'Qualidade': ['Alta', 'Média', 'Baixa', 'Alta', \n",
    "    'Alta', 'Média', 'Baixa', 'Alta']\n",
    "}\n",
    "df_adicional = pd.DataFrame(dado_adicional)\n",
    "df_adicional"
   ]
  },
  {
   "cell_type": "markdown",
   "id": "289089b5",
   "metadata": {},
   "source": [
    "Para conectá-lo horizontalmente com o DataFrame ‘df’:"
   ]
  },
  {
   "cell_type": "code",
   "execution_count": null,
   "id": "720deac1",
   "metadata": {},
   "outputs": [],
   "source": [
    "df_horizontal = pd.concat([df, df_adicional], axis=1)\n",
    "df_horizontal"
   ]
  },
  {
   "cell_type": "markdown",
   "id": "5262ad0e",
   "metadata": {},
   "source": [
    "Neste exemplo, o argumento axis=1 indica que a concatenação deve ocorrer horizontalmente. O resultado é um DataFrame que combina as colunas de df  e df_adicional:\n",
    "\n",
    "Ao usar o método concat, é importante garantir que os índices dos DataFrames que estão sendo concatenados se alinhem corretamente, especialmente ao realizar a concatenação horizontal. Caso contrário, você pode acabar com valores ausentes nas posições onde os índices não se alinham.\n",
    "\n",
    "\n",
    "- junção e mesclagem\n",
    "\n",
    "A junção e a mesclagem permitem combinar DataFrames com base em colunas comuns ou índices comuns. Vamos explorar como usar essas técnicas com os DataFrames df e df_satelites."
   ]
  },
  {
   "cell_type": "code",
   "execution_count": null,
   "id": "614f7ab8",
   "metadata": {},
   "outputs": [],
   "source": [
    "dados_satelites = {\n",
    "    'Satélite': ['Landsat 8', 'Sentinel-2', 'WorldView-3'],\n",
    "    'Resolução Espacial (m)': [30, 10, 0.31],  \n",
    "    # Resolução do sensor óptico principal\n",
    "    'Operador': ['NASA/USGS', 'ESA', 'DigitalGlobe']\n",
    "}\n",
    "df_satelites = pd.DataFrame(dados_satelites)\n",
    "df_satelites"
   ]
  },
  {
   "cell_type": "markdown",
   "id": "8d368dd1",
   "metadata": {},
   "source": [
    "*Merge*\n",
    "\n",
    "O método merge() é usado para combinar DataFrames com base em colunas comuns."
   ]
  },
  {
   "cell_type": "code",
   "execution_count": null,
   "id": "343572e0",
   "metadata": {},
   "outputs": [],
   "source": [
    "df_mesclado = df.merge(df_satelites, left_on='Imagem', right_on='Satélite', how='left')\n",
    "df_mesclado"
   ]
  },
  {
   "cell_type": "markdown",
   "id": "012d9ae5",
   "metadata": {},
   "source": [
    "Neste exemplo, estamos usando left_on para especificar a coluna do DataFrame df e right_on para especificar a coluna do DataFrame df_satelites. O argumento how='left' garante que todas as entradas do df sejam mantidas, mesmo que não tenham uma correspondência no df_satelites.\n",
    "\n",
    "\n",
    "*Junção (join)*\n",
    "\n",
    "O método join é semelhante ao merge, mas é usado para combinar DataFrames com base em índices ao invés de colunas. Para demonstrá-lo, vamos primeiro definir o índice de df_satelites para a coluna 'Satélite':"
   ]
  },
  {
   "cell_type": "code",
   "execution_count": null,
   "id": "b3911c28",
   "metadata": {},
   "outputs": [],
   "source": [
    "df_satelites.set_index('Satélite', inplace=True)\n",
    "df_satelites"
   ]
  },
  {
   "cell_type": "markdown",
   "id": "0d8026c8",
   "metadata": {},
   "source": [
    "Agora, podemos usar join para combinar os DataFrames:"
   ]
  },
  {
   "cell_type": "code",
   "execution_count": null,
   "id": "450f8242",
   "metadata": {},
   "outputs": [],
   "source": [
    "df_juncao = df.join(df_satelites, on='Imagem', how='left')\n",
    "df_juncao"
   ]
  },
  {
   "cell_type": "markdown",
   "id": "e5f0731e",
   "metadata": {},
   "source": [
    "Neste exemplo, estamos usando on para especificar a coluna do DataFrame df que deve ser usada para a junção. Novamente, how='left' garante que todas as entradas do df  sejam mantidas.\n",
    "\n",
    "\n",
    "\n",
    "## 3.3 Importação e exportação de dados\n",
    "\n",
    "   A capacidade de importar e exportar dados é fundamental ao trabalhar com análise de dados no contexto do Geoprocessamento. O Pandas oferece uma ampla variedade de funções para ler e escrever dados em diversos formatos. Vamos explorar a importação e exportação de dados usando Pandas, com foco em arquivos CSV e Excel.\n",
    "\n",
    "\n",
    "### 3.3.1 Arquivos CSV (Comma-Separated Values)\n",
    "\n",
    "A leitura de arquivos CSV (Comma-Separated Values) é uma das tarefas mais comuns ao se trabalhar com análise de dados em Python. No Pandas utilizamos a função read_CSV. Vamos explorar os principais aspectos e opções dessa função:\n",
    "Sintaxe básica:\n",
    "``` df = pd.read_csv('caminho_do_arquivo.csv') ```\n",
    "\n",
    "Caso o delimitador do arquivo seja ponto e vírgula, é possível utilizar o parâmetro “sep”:\n",
    "\n",
    "``` df = pd.read_csv('caminho_do_arquivo.csv', sep=';') ```\n",
    "\n",
    "Quadro 6: Parâmetros do método read_csv.\n",
    "\n",
    "| Parâmetro           | Descrição                                                                                                                        |\n",
    "|---------------------|----------------------------------------------------------------------------------------------------------------------------------|\n",
    "| filepath_or_buffer  | String contendo o caminho para o arquivo ou um objeto do tipo arquivo.                                                           |\n",
    "| sep                 | Delimitador a ser usado. Padrão é ','.                                                                                           |\n",
    "| delimiter           | Alternativa ao argumento sep.                                                                                                    |\n",
    "| header              | Número(s) da(s) linha(s) a ser(em) usada(s) como nome das colunas. Padrão é 'infer' (inferir a partir da primeira linha).        |\n",
    "| names               | Lista de nomes de colunas a serem usadas. Se o arquivo já tiver um cabeçalho, você deverá especificar header=0 para substituir.  |\n",
    "| index_col           | Coluna(s) a ser(em) usada(s) como índice (linha).                                                                                |\n",
    "| usecols             | Lista de colunas a serem lidas no DataFrame.                                                                                     |\n",
    "| dtype               | Tipo de dado para colunas. Pode ser um único tipo ou um dicionário.                                                              |\n",
    "| skiprows            | Número de linhas ou sequência de índices de linha para pular ao ler.                                                             |\n",
    "| na_values           | Sequência de valores que, se encontrados no CSV, devem ser tratados como NaN.                                                    |\n",
    "| parse_dates         | Colunas a serem interpretadas como datas.                                                                                        |\n",
    "| date_parser         | Função a ser usada para analisar datas.                                                                                          |\n",
    "| nrows               | Número de linhas a serem lidas a partir do início do arquivo.                                                                    |\n",
    "| skipfooter          | Número de linhas a serem ignoradas na parte inferior do arquivo.                                                                 |\n",
    "| encoding            | Codificação a ser usada para o arquivo. O padrão é 'utf-8', mas em alguns casos você pode precisar usar 'ISO-8859-1' ou outras.  |\n",
    "| compression         | Tipo de compressão do arquivo. Suporta 'infer', 'gzip', 'bz2', 'zip', 'xz', etc.                                                |\n",
    "\n",
    "\n",
    "Exemplo 2: Ler somente determinadas colunas de um arquivo."
   ]
  },
  {
   "cell_type": "code",
   "execution_count": null,
   "id": "230315dd",
   "metadata": {},
   "outputs": [],
   "source": [
    "df = pd.read_csv('~/geopythonbook/content/1_paises_america_sul/paises_america_sul.csv', usecols=['País', 'Área'])\n",
    "df.head()"
   ]
  },
  {
   "cell_type": "markdown",
   "id": "c97e31c6",
   "metadata": {},
   "source": [
    "Exemplo 3: Ler um arquivo e interpretar a coluna 'data' como data."
   ]
  },
  {
   "cell_type": "code",
   "execution_count": null,
   "id": "935171da",
   "metadata": {},
   "outputs": [],
   "source": [
    "df = pd.read_csv('~/geopythonbook/content/1_paises_america_sul/paises_america_sul.csv', parse_dates=['Independência'])\n",
    "df.dtypes"
   ]
  },
  {
   "cell_type": "markdown",
   "id": "7ca1f8f1",
   "metadata": {},
   "source": [
    "Exemplo 4: Tratar valores específicos como NaN.\n",
    "\n",
    "Considere a tabela abaixo, que é proveniente de um arquivo CSV:\n",
    "\n",
    "| País      | População  |\n",
    "|-----------|------------|\n",
    "| Brasil    |211050000  |\n",
    "| Argentina | NA         |\n",
    "| Chile     |19116201   |\n",
    "| Uruguai   | N/A        |\n",
    "| Paraguai  |7044636    |\n",
    "| Bolívia   | -          |\n",
    "\n",
    "\n",
    "Nesta tabela, temos diversos dados ausentes, representados por diferentes valores. Para que o Pandas os interprete como valores ausentes, podemos utilizar o método na_values() quando da leitura do arquivo CSV:"
   ]
  },
  {
   "cell_type": "code",
   "execution_count": null,
   "id": "cdf2f6ca",
   "metadata": {},
   "outputs": [],
   "source": [
    "df = pd.read_csv('~/geopythonbook/content/1_paises_america_sul/paises_america_sul.csv', na_values=['NA', 'N/A', '-'], encoding='ISO-8859-1')"
   ]
  },
  {
   "cell_type": "markdown",
   "id": "93076fc4",
   "metadata": {},
   "source": [
    "O parâmetro na_values é usado para especificar uma lista de valores que devem ser tratados como \"faltantes\" (ou \"NA\" - Not Available) ao ler o arquivo. No exemplo fornecido, qualquer ocorrência dos valores 'NA', 'N/A' ou '-' nas células do arquivo CSV será interpretada pelo Pandas como um valor faltante (NaN).\n",
    "\n",
    "\n",
    "No caso do DataFrame de nosso exemplo, para ler os dados da coluna 'População' como int ao invés de float, você pode usar o argumento dtype do método read_CSV(). No entanto, é importante lembrar que os valores NaN são representados como float em Pandas. Portanto, se você tentar ler a coluna diretamente como int, receberá um erro quando encontrar um NaN. Uma solução seria ler a coluna como float primeiro (devido aos NaNs) e depois converter os valores não-NaN para int. \n",
    "\n",
    "\t\n",
    "    \n",
    "### 3.3.2 Arquivos do Excel\n",
    "\n",
    "A leitura de arquivos Excel é outra tarefa muito frequente em Geoprocessamento. O Pandas oferece suporte para ler dados de planilhas do Excel, tanto no formato .xls (formato mais antigo) quanto no .xlsx (formato mais recente). A função principal para essa tarefa é a read_excel.\n",
    "\n",
    "\n",
    "Quadro 7: Parâmetros do método read_excel.\n",
    "\n",
    "| Parâmetro    | Descrição                                                                                                                 |\n",
    "|--------------|---------------------------------------------------------------------------------------------------------------------------|\n",
    "| io           | Caminho do arquivo, URL ou objeto semelhante a um arquivo.                                                                |\n",
    "| sheet_name   | Nome ou índice da planilha a ser lida. Padrão é a primeira. Pode ser também uma lista de nomes/índices ou None para todas.|\n",
    "| header       | Número da linha a ser usada como cabeçalho. Padrão é 0 (a primeira linha).                                                |\n",
    "| names        | Lista de nomes de colunas a serem usadas.                                                                                 |\n",
    "| index_col    | Coluna(s) a ser(em) usada(s) como índice (linha).                                                                         |\n",
    "| usecols      | Lista de colunas a serem lidas no DataFrame ou string no formato do Excel (por exemplo, \"A,E:G\").                         |\n",
    "| dtype        | Tipo de dado para colunas. Pode ser um único tipo ou um dicionário.                                                        |\n",
    "| na_values    | Sequência de valores que, se encontrados, devem ser tratados como NaN.                                                    |\n",
    "| parse_dates  | Colunas a serem interpretadas como datas.                                                                                 |\n",
    "| date_parser  | Função a ser usada para analisar datas.                                                                                   |\n",
    "| nrows        | Número de linhas a serem lidas a partir do início da planilha.                                                            |\n",
    "| skipfooter   | Número de linhas a serem ignoradas na parte inferior da planilha.                                                         |\n",
    "| engine       | Engine a ser usada para leitura. Pode ser 'xlrd', 'openpyxl' ou 'odf'. Selecionada automaticamente pelo Pandas.           |\n",
    "\n",
    "\n",
    "Sintaxe básica:\n",
    "```\n",
    "df = pd.read_excel('caminho_do_arquivo.xlsx')\n",
    "```\n",
    "\n",
    "Exemplos:\n",
    "Considere um arquivo do Excel denominado paises_america_sul_central, com duas planilhas (figura 4): américa_central e américa_sul. \n",
    "\n",
    "![Figura 4](images/fig4.png)\n",
    "\n",
    "<p align=\"center\">Figura 4: Planilhas do excel com dados de países das Américas do Sul e Central.</p>\n",
    "\n",
    "\n",
    "Para importar os dados somente da planilha america_central:"
   ]
  },
  {
   "cell_type": "code",
   "execution_count": null,
   "id": "84cb509b",
   "metadata": {},
   "outputs": [],
   "source": [
    "df = pd.read_excel('~/geopythonbook/content/2_paises_america_sul_central/paises_america_sul_central.xlsx', \n",
    "    sheet_name='america_central')"
   ]
  },
  {
   "cell_type": "markdown",
   "id": "bd10b491",
   "metadata": {},
   "source": [
    "O método pd.read_excel() é utilizado para ler arquivos no formato Excel. O argumento adicional sheet_name='america_central' do método pd.read_excel() especifica qual planilha do arquivo Excel deve ser lida. Neste caso, estamos lendo a aba com o nome 'america_central'.\n",
    "\n",
    "\n",
    "Também é possível ler várias planilhas de um arquivo Excel com apenas um script:"
   ]
  },
  {
   "cell_type": "code",
   "execution_count": null,
   "id": "de564bed",
   "metadata": {},
   "outputs": [],
   "source": [
    "dfs = pd.read_excel('~/geopythonbook/content/2_paises_america_sul_central/paises_america_sul_central.xlsx', sheet_name=['america_sul', 'america_central'])"
   ]
  },
  {
   "cell_type": "markdown",
   "id": "46a44583",
   "metadata": {},
   "source": [
    "Nesse código: \n",
    "\n",
    "```sheet_name=['america_sul', 'america_central'] ``` especifica duas abas por meio de uma lista. Isso indica ao método pd.read_excel() que desejamos ler os dados de ambas as abas 'america_sul' e 'america_central'. Como resultado, a variável dfs será um dicionário onde as chaves são os nomes das abas ('america_sul' e 'america_central') e os valores são os respectivos DataFrames com os dados de cada aba.\n",
    "\n",
    "\n",
    "\n",
    "### 3.3.3 Gravação de dados em diferentes formatos\n",
    "\n",
    "O Pandas oferece uma série de métodos que permitem gravar DataFrames em diversos formatos. Vamos ver como salvar seus dados em formato .CSV e .xlsx.\n",
    "\n",
    "\n",
    "*Arquivo CSV*\n",
    "\n",
    "Para gravar um DataFrame como um arquivo CSV, use o método to_CSV:\n",
    "\n",
    "```\n",
    "df.to_csv('caminho_para_salvar.csv', index=False, sep=',')\n",
    "```\n",
    "\n",
    "\n",
    "Parâmetros comuns:\n",
    "\n",
    "index: Se verdadeiro, inclui o índice do DataFrame no arquivo. Por padrão é True;\n",
    "sep: Delimitador a ser usado. Por padrão é ','.\n",
    "\n",
    "\n",
    "*Arquivo Excel*\n",
    "\n",
    "Para gravar um DataFrame em um arquivo do Excel, use o método to_excel:\n",
    "\n",
    "```\n",
    "df.to_excel('caminho_para_salvar.xlsx', sheet_name='Planilha1', index=False)\n",
    "```\n",
    "\n",
    "Parâmetros comuns:\n",
    "\n",
    "sheet_name: Nome da planilha onde os dados serão escritos. Por padrão é Sheet';\n",
    "index: Se verdadeiro, inclui o índice do DataFrame na planilha."
   ]
  }
 ],
 "metadata": {
  "kernelspec": {
   "display_name": "Python 3",
   "language": "python",
   "name": "python3"
  }
 },
 "nbformat": 4,
 "nbformat_minor": 5
}
