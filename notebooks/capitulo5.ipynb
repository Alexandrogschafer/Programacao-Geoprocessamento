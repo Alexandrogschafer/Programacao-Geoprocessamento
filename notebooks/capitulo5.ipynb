{
  "cells": [
    {
      "cell_type": "markdown",
      "id": "8b1b4c4d",
      "metadata": {
        "id": "8b1b4c4d"
      },
      "source": [
        "# 5 A BIBLIOTECA GEOPANDAS\n",
        "\n",
        "[Abrir no Google Colab](https://colab.research.google.com/github/Alexandrogschafer/Programacao-Geoprocessamento/blob/main/notebooks/capitulo5.ipynb)\n",
        "\n",
        "Em um mundo cada vez mais orientado por dados, a capacidade de trabalhar com informações geoespaciais tornou-se fundamental em diversas áreas, desde o planejamento urbano até a ecologia e ciências ambientais. Neste contexto, a Geopandas emerge como uma importante ferramenta para a análise geoespacial em Python.\n",
        "\n",
        "Geopandas é uma extensão da Pandas que introduz estruturas de dados espaciais. Ele apresenta duas estruturas de dados principais (figura 10): GeoSeries e GeoDataFrame. Uma GeoSeries é uma série em que cada entrada representa um conjunto geométrico. Por sua vez, um GeoDataFrame assemelha-se a um DataFrame padrão do Pandas, porém, inclui uma coluna especial denominada \"geometry\", responsável por armazenar informações geoespaciais.\n",
        "\n",
        "![Figura 10](https://github.com/Alexandrogschafer/Programacao-Geoprocessamento/blob/gh-pages/notebooks/images/fig10.png?raw=1)\n",
        "\n",
        "Figura 10: Estruturas de dados da Geopandas.\n",
        "<br><br>\n",
        "\n",
        "A Geopandas é capaz de lidar com uma variedade de tipos geométricos, abrangendo pontos, linhas, polígonos e combinações destes. Esta capacidade é complementada por uma série de operações espaciais, possíveis graças à integração com bibliotecas como Shapely e Fiona. Estas operações incluem, mas não se limitam a, interseção, união, diferença e buffer. Além disso, a biblioteca oferece ferramentas robustas para análise espacial, permitindo o cálculo de áreas, distâncias e outras métricas geométricas essenciais.\n",
        "\n",
        "A flexibilidade da Geopandas não se restringe apenas às operações mencionadas. Ele pode ler e escrever em diversos formatos de dados espaciais, incluindo shapefile e GeoJSON. Além disso, suporta operações de projeção e transformações entre sistemas de coordenadas. Para os profissionais que trabalham com bancos de dados espaciais, a Geopandas também pode ser integrado ao PostGIS, facilitando operações avançadas e consultas SQL. Quando se trata de visualização, a biblioteca se integra perfeitamente a outras soluções Python, como Matplotlib, Plotly e Folium, oferecendo um vasto leque de opções para representação gráfica de dados geoespaciais.\n",
        "\n",
        "\n",
        "## 5.1 Leitura de arquivos\n",
        "\n",
        "A Geopandas tem a capacidade de simplificar a leitura de arquivos geoespaciais em Python, suportando uma variedade de formatos comuns na área de Geoprocessamento.\n",
        "\n",
        "O método gpd.read_file é uma função da biblioteca Geopandas que permite ler diferentes formatos de arquivos de dados geoespaciais e convertê-los em um GeoDataFrame. Quando você utiliza o gpd.read_file, a Geopandas faz uso da biblioteca Fiona internamente para ler o arquivo. Isso significa que ele pode lidar com uma variedade de formatos de arquivo, incluindo Shapefiles (.shp), GeoJSON, GPKG, entre outros.\n",
        "<br><br>\n",
        "\n",
        "*Lendo Shapefiles com Geopandas*\n",
        "\n",
        "Inicialmente vamos importar as bibliotecas pandas e geopandas, que utilizaremos ao longo deste capítulo:"
      ]
    },
    {
      "cell_type": "code",
      "execution_count": null,
      "id": "7a7ea8a5",
      "metadata": {
        "id": "7a7ea8a5"
      },
      "outputs": [],
      "source": [
        "import pandas as pd\n",
        "import geopandas as gpd"
      ]
    },
    {
      "cell_type": "markdown",
      "source": [
        "Vamos acessar os arquivos diretamente do Google Drive. Para tanto, vamos aplicar o seguinte código:"
      ],
      "metadata": {
        "id": "jy4SO_qzlQYm"
      },
      "id": "jy4SO_qzlQYm"
    },
    {
      "cell_type": "code",
      "source": [
        "from google.colab import drive\n",
        "drive.mount('/content/drive')"
      ],
      "metadata": {
        "id": "2jY1Hu3glYxF",
        "outputId": "965e979d-8773-4170-b630-66e8af55a894",
        "colab": {
          "base_uri": "https://localhost:8080/"
        }
      },
      "id": "2jY1Hu3glYxF",
      "execution_count": null,
      "outputs": [
        {
          "output_type": "stream",
          "name": "stdout",
          "text": [
            "Drive already mounted at /content/drive; to attempt to forcibly remount, call drive.mount(\"/content/drive\", force_remount=True).\n"
          ]
        }
      ]
    },
    {
      "cell_type": "markdown",
      "id": "8d79ac53",
      "metadata": {
        "id": "8d79ac53"
      },
      "source": [
        "Carregar o Shapefile em um GeoDataFrame:"
      ]
    },
    {
      "cell_type": "code",
      "execution_count": null,
      "id": "34c3789c",
      "metadata": {
        "id": "34c3789c"
      },
      "outputs": [],
      "source": [
        "gdf = gpd.read_file('/content/drive/MyDrive/files/cap5/f4/BR_UF.shp')"
      ]
    },
    {
      "cell_type": "markdown",
      "id": "a166cb8a",
      "metadata": {
        "id": "a166cb8a"
      },
      "source": [
        "Mostrar as primeiras linhas do GeoDataFrame:"
      ]
    },
    {
      "cell_type": "code",
      "execution_count": null,
      "id": "a4f047b6",
      "metadata": {
        "id": "a4f047b6",
        "outputId": "3fb8f67e-b88f-4639-f6b0-6887a6e4707f",
        "colab": {
          "base_uri": "https://localhost:8080/",
          "height": 206
        }
      },
      "outputs": [
        {
          "output_type": "execute_result",
          "data": {
            "text/plain": [
              "  CD_UF      NM_UF SIGLA_UF NM_REGIAO     AREA_KM2  \\\n",
              "0    12       Acre       AC     Norte   164173.429   \n",
              "1    13   Amazonas       AM     Norte  1559255.881   \n",
              "2    15       Pará       PA     Norte  1245870.704   \n",
              "3    16      Amapá       AP     Norte   142470.762   \n",
              "4    17  Tocantins       TO     Norte   277423.627   \n",
              "\n",
              "                                            geometry  \n",
              "0  POLYGON ((-68.79282 -10.99957, -68.79367 -10.9...  \n",
              "1  POLYGON ((-56.76292 -3.23221, -56.76789 -3.242...  \n",
              "2  MULTIPOLYGON (((-48.97548 -0.19834, -48.97487 ...  \n",
              "3  MULTIPOLYGON (((-51.04561 -0.05088, -51.05422 ...  \n",
              "4  POLYGON ((-48.24830 -13.19239, -48.24844 -13.1...  "
            ],
            "text/html": [
              "\n",
              "  <div id=\"df-57541682-8b73-40be-8b89-a1d7f13fd315\" class=\"colab-df-container\">\n",
              "    <div>\n",
              "<style scoped>\n",
              "    .dataframe tbody tr th:only-of-type {\n",
              "        vertical-align: middle;\n",
              "    }\n",
              "\n",
              "    .dataframe tbody tr th {\n",
              "        vertical-align: top;\n",
              "    }\n",
              "\n",
              "    .dataframe thead th {\n",
              "        text-align: right;\n",
              "    }\n",
              "</style>\n",
              "<table border=\"1\" class=\"dataframe\">\n",
              "  <thead>\n",
              "    <tr style=\"text-align: right;\">\n",
              "      <th></th>\n",
              "      <th>CD_UF</th>\n",
              "      <th>NM_UF</th>\n",
              "      <th>SIGLA_UF</th>\n",
              "      <th>NM_REGIAO</th>\n",
              "      <th>AREA_KM2</th>\n",
              "      <th>geometry</th>\n",
              "    </tr>\n",
              "  </thead>\n",
              "  <tbody>\n",
              "    <tr>\n",
              "      <th>0</th>\n",
              "      <td>12</td>\n",
              "      <td>Acre</td>\n",
              "      <td>AC</td>\n",
              "      <td>Norte</td>\n",
              "      <td>164173.429</td>\n",
              "      <td>POLYGON ((-68.79282 -10.99957, -68.79367 -10.9...</td>\n",
              "    </tr>\n",
              "    <tr>\n",
              "      <th>1</th>\n",
              "      <td>13</td>\n",
              "      <td>Amazonas</td>\n",
              "      <td>AM</td>\n",
              "      <td>Norte</td>\n",
              "      <td>1559255.881</td>\n",
              "      <td>POLYGON ((-56.76292 -3.23221, -56.76789 -3.242...</td>\n",
              "    </tr>\n",
              "    <tr>\n",
              "      <th>2</th>\n",
              "      <td>15</td>\n",
              "      <td>Pará</td>\n",
              "      <td>PA</td>\n",
              "      <td>Norte</td>\n",
              "      <td>1245870.704</td>\n",
              "      <td>MULTIPOLYGON (((-48.97548 -0.19834, -48.97487 ...</td>\n",
              "    </tr>\n",
              "    <tr>\n",
              "      <th>3</th>\n",
              "      <td>16</td>\n",
              "      <td>Amapá</td>\n",
              "      <td>AP</td>\n",
              "      <td>Norte</td>\n",
              "      <td>142470.762</td>\n",
              "      <td>MULTIPOLYGON (((-51.04561 -0.05088, -51.05422 ...</td>\n",
              "    </tr>\n",
              "    <tr>\n",
              "      <th>4</th>\n",
              "      <td>17</td>\n",
              "      <td>Tocantins</td>\n",
              "      <td>TO</td>\n",
              "      <td>Norte</td>\n",
              "      <td>277423.627</td>\n",
              "      <td>POLYGON ((-48.24830 -13.19239, -48.24844 -13.1...</td>\n",
              "    </tr>\n",
              "  </tbody>\n",
              "</table>\n",
              "</div>\n",
              "    <div class=\"colab-df-buttons\">\n",
              "\n",
              "  <div class=\"colab-df-container\">\n",
              "    <button class=\"colab-df-convert\" onclick=\"convertToInteractive('df-57541682-8b73-40be-8b89-a1d7f13fd315')\"\n",
              "            title=\"Convert this dataframe to an interactive table.\"\n",
              "            style=\"display:none;\">\n",
              "\n",
              "  <svg xmlns=\"http://www.w3.org/2000/svg\" height=\"24px\" viewBox=\"0 -960 960 960\">\n",
              "    <path d=\"M120-120v-720h720v720H120Zm60-500h600v-160H180v160Zm220 220h160v-160H400v160Zm0 220h160v-160H400v160ZM180-400h160v-160H180v160Zm440 0h160v-160H620v160ZM180-180h160v-160H180v160Zm440 0h160v-160H620v160Z\"/>\n",
              "  </svg>\n",
              "    </button>\n",
              "\n",
              "  <style>\n",
              "    .colab-df-container {\n",
              "      display:flex;\n",
              "      gap: 12px;\n",
              "    }\n",
              "\n",
              "    .colab-df-convert {\n",
              "      background-color: #E8F0FE;\n",
              "      border: none;\n",
              "      border-radius: 50%;\n",
              "      cursor: pointer;\n",
              "      display: none;\n",
              "      fill: #1967D2;\n",
              "      height: 32px;\n",
              "      padding: 0 0 0 0;\n",
              "      width: 32px;\n",
              "    }\n",
              "\n",
              "    .colab-df-convert:hover {\n",
              "      background-color: #E2EBFA;\n",
              "      box-shadow: 0px 1px 2px rgba(60, 64, 67, 0.3), 0px 1px 3px 1px rgba(60, 64, 67, 0.15);\n",
              "      fill: #174EA6;\n",
              "    }\n",
              "\n",
              "    .colab-df-buttons div {\n",
              "      margin-bottom: 4px;\n",
              "    }\n",
              "\n",
              "    [theme=dark] .colab-df-convert {\n",
              "      background-color: #3B4455;\n",
              "      fill: #D2E3FC;\n",
              "    }\n",
              "\n",
              "    [theme=dark] .colab-df-convert:hover {\n",
              "      background-color: #434B5C;\n",
              "      box-shadow: 0px 1px 3px 1px rgba(0, 0, 0, 0.15);\n",
              "      filter: drop-shadow(0px 1px 2px rgba(0, 0, 0, 0.3));\n",
              "      fill: #FFFFFF;\n",
              "    }\n",
              "  </style>\n",
              "\n",
              "    <script>\n",
              "      const buttonEl =\n",
              "        document.querySelector('#df-57541682-8b73-40be-8b89-a1d7f13fd315 button.colab-df-convert');\n",
              "      buttonEl.style.display =\n",
              "        google.colab.kernel.accessAllowed ? 'block' : 'none';\n",
              "\n",
              "      async function convertToInteractive(key) {\n",
              "        const element = document.querySelector('#df-57541682-8b73-40be-8b89-a1d7f13fd315');\n",
              "        const dataTable =\n",
              "          await google.colab.kernel.invokeFunction('convertToInteractive',\n",
              "                                                    [key], {});\n",
              "        if (!dataTable) return;\n",
              "\n",
              "        const docLinkHtml = 'Like what you see? Visit the ' +\n",
              "          '<a target=\"_blank\" href=https://colab.research.google.com/notebooks/data_table.ipynb>data table notebook</a>'\n",
              "          + ' to learn more about interactive tables.';\n",
              "        element.innerHTML = '';\n",
              "        dataTable['output_type'] = 'display_data';\n",
              "        await google.colab.output.renderOutput(dataTable, element);\n",
              "        const docLink = document.createElement('div');\n",
              "        docLink.innerHTML = docLinkHtml;\n",
              "        element.appendChild(docLink);\n",
              "      }\n",
              "    </script>\n",
              "  </div>\n",
              "\n",
              "\n",
              "<div id=\"df-776f7e46-e912-4448-a345-0f931a17556f\">\n",
              "  <button class=\"colab-df-quickchart\" onclick=\"quickchart('df-776f7e46-e912-4448-a345-0f931a17556f')\"\n",
              "            title=\"Suggest charts\"\n",
              "            style=\"display:none;\">\n",
              "\n",
              "<svg xmlns=\"http://www.w3.org/2000/svg\" height=\"24px\"viewBox=\"0 0 24 24\"\n",
              "     width=\"24px\">\n",
              "    <g>\n",
              "        <path d=\"M19 3H5c-1.1 0-2 .9-2 2v14c0 1.1.9 2 2 2h14c1.1 0 2-.9 2-2V5c0-1.1-.9-2-2-2zM9 17H7v-7h2v7zm4 0h-2V7h2v10zm4 0h-2v-4h2v4z\"/>\n",
              "    </g>\n",
              "</svg>\n",
              "  </button>\n",
              "\n",
              "<style>\n",
              "  .colab-df-quickchart {\n",
              "      --bg-color: #E8F0FE;\n",
              "      --fill-color: #1967D2;\n",
              "      --hover-bg-color: #E2EBFA;\n",
              "      --hover-fill-color: #174EA6;\n",
              "      --disabled-fill-color: #AAA;\n",
              "      --disabled-bg-color: #DDD;\n",
              "  }\n",
              "\n",
              "  [theme=dark] .colab-df-quickchart {\n",
              "      --bg-color: #3B4455;\n",
              "      --fill-color: #D2E3FC;\n",
              "      --hover-bg-color: #434B5C;\n",
              "      --hover-fill-color: #FFFFFF;\n",
              "      --disabled-bg-color: #3B4455;\n",
              "      --disabled-fill-color: #666;\n",
              "  }\n",
              "\n",
              "  .colab-df-quickchart {\n",
              "    background-color: var(--bg-color);\n",
              "    border: none;\n",
              "    border-radius: 50%;\n",
              "    cursor: pointer;\n",
              "    display: none;\n",
              "    fill: var(--fill-color);\n",
              "    height: 32px;\n",
              "    padding: 0;\n",
              "    width: 32px;\n",
              "  }\n",
              "\n",
              "  .colab-df-quickchart:hover {\n",
              "    background-color: var(--hover-bg-color);\n",
              "    box-shadow: 0 1px 2px rgba(60, 64, 67, 0.3), 0 1px 3px 1px rgba(60, 64, 67, 0.15);\n",
              "    fill: var(--button-hover-fill-color);\n",
              "  }\n",
              "\n",
              "  .colab-df-quickchart-complete:disabled,\n",
              "  .colab-df-quickchart-complete:disabled:hover {\n",
              "    background-color: var(--disabled-bg-color);\n",
              "    fill: var(--disabled-fill-color);\n",
              "    box-shadow: none;\n",
              "  }\n",
              "\n",
              "  .colab-df-spinner {\n",
              "    border: 2px solid var(--fill-color);\n",
              "    border-color: transparent;\n",
              "    border-bottom-color: var(--fill-color);\n",
              "    animation:\n",
              "      spin 1s steps(1) infinite;\n",
              "  }\n",
              "\n",
              "  @keyframes spin {\n",
              "    0% {\n",
              "      border-color: transparent;\n",
              "      border-bottom-color: var(--fill-color);\n",
              "      border-left-color: var(--fill-color);\n",
              "    }\n",
              "    20% {\n",
              "      border-color: transparent;\n",
              "      border-left-color: var(--fill-color);\n",
              "      border-top-color: var(--fill-color);\n",
              "    }\n",
              "    30% {\n",
              "      border-color: transparent;\n",
              "      border-left-color: var(--fill-color);\n",
              "      border-top-color: var(--fill-color);\n",
              "      border-right-color: var(--fill-color);\n",
              "    }\n",
              "    40% {\n",
              "      border-color: transparent;\n",
              "      border-right-color: var(--fill-color);\n",
              "      border-top-color: var(--fill-color);\n",
              "    }\n",
              "    60% {\n",
              "      border-color: transparent;\n",
              "      border-right-color: var(--fill-color);\n",
              "    }\n",
              "    80% {\n",
              "      border-color: transparent;\n",
              "      border-right-color: var(--fill-color);\n",
              "      border-bottom-color: var(--fill-color);\n",
              "    }\n",
              "    90% {\n",
              "      border-color: transparent;\n",
              "      border-bottom-color: var(--fill-color);\n",
              "    }\n",
              "  }\n",
              "</style>\n",
              "\n",
              "  <script>\n",
              "    async function quickchart(key) {\n",
              "      const quickchartButtonEl =\n",
              "        document.querySelector('#' + key + ' button');\n",
              "      quickchartButtonEl.disabled = true;  // To prevent multiple clicks.\n",
              "      quickchartButtonEl.classList.add('colab-df-spinner');\n",
              "      try {\n",
              "        const charts = await google.colab.kernel.invokeFunction(\n",
              "            'suggestCharts', [key], {});\n",
              "      } catch (error) {\n",
              "        console.error('Error during call to suggestCharts:', error);\n",
              "      }\n",
              "      quickchartButtonEl.classList.remove('colab-df-spinner');\n",
              "      quickchartButtonEl.classList.add('colab-df-quickchart-complete');\n",
              "    }\n",
              "    (() => {\n",
              "      let quickchartButtonEl =\n",
              "        document.querySelector('#df-776f7e46-e912-4448-a345-0f931a17556f button');\n",
              "      quickchartButtonEl.style.display =\n",
              "        google.colab.kernel.accessAllowed ? 'block' : 'none';\n",
              "    })();\n",
              "  </script>\n",
              "</div>\n",
              "    </div>\n",
              "  </div>\n"
            ]
          },
          "metadata": {},
          "execution_count": 7
        }
      ],
      "source": [
        "gdf.head()"
      ]
    },
    {
      "cell_type": "markdown",
      "id": "92136098",
      "metadata": {
        "id": "92136098"
      },
      "source": [
        "Após ler o arquivo, ele é armazenado no GeoDataFrame gdf; gdf.head() imprime as primeiras cinco linhas do GeoDataFrame gdf usando o método head(). Desta maneira podemos ter uma visão rápida dos dados e verificar se tudo foi carregado e convertido corretamente.\n",
        "<br><br>\n",
        "\n",
        "*Observações:*\n",
        "\n",
        "- Dependências: A Geopandas depende de várias outras bibliotecas, como Fiona (para leitura/escrita de arquivos) e Shapely (para operações geométricas). Ao instalar a Geopandas via pip, estas dependências também serão instaladas.\n",
        "\n",
        "- Projeção: Muitas vezes, é uma boa prática verificar a projeção do Shapefile depois de carregá-lo, especialmente se você planeja combinar dados de várias fontes. Você pode fazer isso usando gdf.crs:"
      ]
    },
    {
      "cell_type": "code",
      "execution_count": null,
      "id": "ee2aa990",
      "metadata": {
        "id": "ee2aa990",
        "outputId": "4ba87147-3a01-4bd8-c8cd-c8aaea72b9a4",
        "colab": {
          "base_uri": "https://localhost:8080/"
        }
      },
      "outputs": [
        {
          "output_type": "stream",
          "name": "stdout",
          "text": [
            "EPSG:4674\n"
          ]
        }
      ],
      "source": [
        "print(gdf.crs)"
      ]
    },
    {
      "cell_type": "markdown",
      "id": "d416ac2e",
      "metadata": {
        "id": "d416ac2e"
      },
      "source": [
        "<br><br>\n",
        "\n",
        "*Plotando GeoDataFrames com Geopandas*\n",
        "\n",
        "A Geopandas permite a visualização de GeoDataFrames, facilitando a visualização das geometrias no espaço geográfico. Para exibir a geometria ativa, utilize o método GeoDataFrame.plot()."
      ]
    },
    {
      "cell_type": "code",
      "execution_count": null,
      "id": "db4f45ba",
      "metadata": {
        "id": "db4f45ba",
        "outputId": "d89f3b34-b57f-474d-ce54-8a024cf1a0fa",
        "colab": {
          "base_uri": "https://localhost:8080/",
          "height": 447
        }
      },
      "outputs": [
        {
          "output_type": "execute_result",
          "data": {
            "text/plain": [
              "<Axes: >"
            ]
          },
          "metadata": {},
          "execution_count": 9
        },
        {
          "output_type": "display_data",
          "data": {
            "text/plain": [
              "<Figure size 640x480 with 1 Axes>"
            ],
            "image/png": "[encoded data removed]"
          },
          "metadata": {}
        }
      ],
      "source": [
        "gdf.plot()"
      ]
    },
    {
      "cell_type": "markdown",
      "id": "f508bbba",
      "metadata": {
        "id": "f508bbba"
      },
      "source": [
        "No exemplo a seguir, exibimos a coluna de geometria ativa e usamos a coluna \"NM_REGIAO\" para determinar as cores por regiões do Brasil. Além disso, optamos por exibir uma legenda usando legend=True."
      ]
    },
    {
      "cell_type": "code",
      "execution_count": null,
      "id": "24e9f263",
      "metadata": {
        "id": "24e9f263"
      },
      "outputs": [],
      "source": [
        "gdf.plot('NM_REGIAO', legend=True)"
      ]
    },
    {
      "cell_type": "markdown",
      "id": "42370af5",
      "metadata": {
        "id": "42370af5"
      },
      "source": [
        "Essa é uma breve apresentação do método GeoDataFrame.plot() para possibilitar a visualização dos GeoDataFrames ao longo do estudo da Geopandas. Após estudar a Geopandas, teremos uma seção sobre visualização de dados geoespaciais.\n",
        "<br><br>\n",
        "\n",
        "*Lendo dados com Geopandas – outros arquivos*\n",
        "\n",
        "- GeoJSON\n",
        "\n",
        "Como vimos anteriormente, o GeoJSON é um formato baseado em JSON para codificar estruturas geográficas. Para ler um arquivo GeoJSON:"
      ]
    },
    {
      "cell_type": "code",
      "execution_count": null,
      "id": "86d81151",
      "metadata": {
        "id": "86d81151"
      },
      "outputs": [],
      "source": [
        "gdf_cap = gpd.read_file('/content/drive/MyDrive/files/cap5/f5/capitais_br.geojson')\n",
        "gdf_cap.head()"
      ]
    },
    {
      "cell_type": "code",
      "execution_count": null,
      "id": "b107f8db",
      "metadata": {
        "id": "b107f8db"
      },
      "outputs": [],
      "source": [
        "gdf_cap.plot()"
      ]
    },
    {
      "cell_type": "markdown",
      "id": "ebd486b3",
      "metadata": {
        "id": "ebd486b3"
      },
      "source": [
        "É possível visualizar geometricamente os dados de dois GeoDataFrame da Geopandas em um único gráfico. Por enquanto, vamos apenas aplicar o script para gerar a visualização. Estudaremos o método plot() mais adiante."
      ]
    },
    {
      "cell_type": "code",
      "execution_count": null,
      "id": "4bb99d62",
      "metadata": {
        "id": "4bb99d62"
      },
      "outputs": [],
      "source": [
        "ax = gdf['geometry'].plot(color='gray')\n",
        "gdf_cap['geometry'].plot(ax=ax, color='black')"
      ]
    },
    {
      "cell_type": "markdown",
      "id": "ff077a2a",
      "metadata": {
        "id": "ff077a2a"
      },
      "source": [
        "- GPKG (GeoPackage)\n",
        "\n",
        "GeoPackage é um formato de banco de dados aberto e padrão que pode conter múltiplas camadas. Você pode listar e selecionar camadas específicas:"
      ]
    },
    {
      "cell_type": "code",
      "execution_count": null,
      "id": "3838efab",
      "metadata": {
        "id": "3838efab"
      },
      "outputs": [],
      "source": [
        "gdf_rod = gpd.read_file('/content/drive/MyDrive/files/cap5/f6/malha_transporte.gpkg', layer='trecho_rodoviario')\n",
        "gdf_fer = gpd.read_file('/content/drive/MyDrive/files/cap5/f6/malha_transporte.gpkg', layer='trecho_ferroviario')"
      ]
    },
    {
      "cell_type": "markdown",
      "id": "371a2af3",
      "metadata": {
        "id": "371a2af3"
      },
      "source": [
        "No código acima, em layer='trecho_rodoviario', o argumento layer especifica a camada ou tabela dentro do Geopackage que desejamos ler. Em um Geopackage, você pode ter várias camadas (ou tabelas) diferentes, e essa especificação permite que você selecione qual delas deseja carregar. Neste caso, estamos escolhendo a camada chamada trecho_rodoviario.\n",
        "\n",
        "No código seguinte, especificamos o layer ‘trecho_ferroviario’. Vamos visualizar os GeoDataFrames criados:"
      ]
    },
    {
      "cell_type": "code",
      "execution_count": null,
      "id": "60022bbd",
      "metadata": {
        "id": "60022bbd"
      },
      "outputs": [],
      "source": [
        "gdf_rod.plot()"
      ]
    },
    {
      "cell_type": "code",
      "execution_count": null,
      "id": "6cd0c0ad",
      "metadata": {
        "id": "6cd0c0ad"
      },
      "outputs": [],
      "source": [
        "gdf_fer.plot()"
      ]
    },
    {
      "cell_type": "markdown",
      "id": "8ad80a25",
      "metadata": {
        "id": "8ad80a25"
      },
      "source": [
        "<br><br>\n",
        "\n",
        "*CSV com Coordenadas: Convertendo dados tabulares em dados geoespaciais*\n",
        "\n",
        "Caso tenhamos um arquivo CSV com colunas de latitude e longitude, primeiro podemos ler o arquivo com a Pandas e depois converter o DataFrame para um GeoDataFrame."
      ]
    },
    {
      "cell_type": "code",
      "execution_count": null,
      "id": "fb917c9a",
      "metadata": {
        "id": "fb917c9a"
      },
      "outputs": [],
      "source": [
        "from shapely.geometry import Point\n",
        "df = pd.read_csv('/content/drive/MyDrive/files/cap5/f7/capitais_brasil.csv')\n",
        "gdf = gpd.GeoDataFrame(df, geometry=gpd.points_from_xy\n",
        "    (df.longitude, df.latitude))\n",
        "gdf.head()"
      ]
    },
    {
      "cell_type": "markdown",
      "id": "93ab0043",
      "metadata": {
        "id": "93ab0043"
      },
      "source": [
        "O código acima lê um arquivo CSV contendo informações sobre as capitais brasileiras (incluindo suas coordenadas de longitude e latitude), converte essas coordenadas em pontos geoespaciais e armazena tudo em um GeoDataFrame. O parâmetro geometry é usado para definir a coluna de geometria do GeoDataFrame. A função gpd.points_from_xy(df.longitude, df.latitude) é usada para criar pontos a partir das colunas longitude e latitude do DataFrame df. Por fim, as primeiras cinco linhas desse GeoDataFrame são impressas para visualização.\n",
        "<br><br>\n",
        "\n",
        "*Leitura Seletiva de Dados*\n",
        "\n",
        "Se um arquivo geoespacial contiver um grande volume de dados, pode ser útil ler apenas uma subseção ou uma amostra dos dados. Você pode fazer isso usando os argumentos rows ou bbox no método read_file.\n",
        "\n",
        "a) Argumento rows\n",
        "\n",
        "Ler apenas as primeiras 10 linhas"
      ]
    },
    {
      "cell_type": "code",
      "execution_count": null,
      "id": "b48213df",
      "metadata": {
        "id": "b48213df"
      },
      "outputs": [],
      "source": [
        "gdf = gpd.read_file('/content/drive/MyDrive/files/cap5/f4/BR_UF.shp', rows=10)\n",
        "gdf.plot()"
      ]
    },
    {
      "cell_type": "markdown",
      "id": "10b1f548",
      "metadata": {
        "id": "10b1f548"
      },
      "source": [
        "No código acima, serão lidas apenas as primeiras dez linhas do arquivo shapefile.\n",
        "\n",
        "\n",
        "b) Argumento bbox (bounding box)\n",
        "\n",
        "Uma bounding box (ou retângulo envolvente) refere-se ao retângulo de dimensões mínimas que envolve um conjunto geométrico, definido pelos cantos inferior esquerdo e superior direito. Cada ponto é definido por uma coordenada de longitude e latitude. Esse retângulo frequentemente é usado para operações rápidas de verificação espacial, pois trabalhar com um retângulo é computacionalmente mais simples do que com formas geométricas mais complexas.\n",
        "\n",
        "\n",
        "Exemplo: Vamos ler o arquivo shapefile BR_UF novamente, mas agora especificando uma bounding box.\n",
        "\n",
        "\n",
        "Ler dados dentro de uma bounding box específica (minx, miny, maxx, maxy):"
      ]
    },
    {
      "cell_type": "code",
      "execution_count": null,
      "id": "876f53a9",
      "metadata": {
        "id": "876f53a9"
      },
      "outputs": [],
      "source": [
        "bbox = [-53.8, -29.4, -48.3, -25.8]\n",
        "gdf = gpd.read_file('/content/drive/MyDrive/files/cap5/f4/BR_UF.shp', bbox=bbox)\n",
        "gdf.plot()"
      ]
    },
    {
      "cell_type": "markdown",
      "id": "01ddc8cb",
      "metadata": {
        "id": "01ddc8cb"
      },
      "source": [
        "<br><br>\n",
        "\n",
        "*Conversão de Projeção durante a Leitura*\n",
        "\n",
        "É possível reprojetar dados durante a leitura aplicando o método to_crs(), economizando um passo posterior de transformação. Por exemplo, para reprojetar dados de qualquer EPSG para o EPSG: 4674:\n",
        "\n",
        "```\n",
        "gdf = gpd.read_file('caminho_do_arquivo.shp').to_crs(epsg=4674)\n",
        "```\n",
        "<br><br>\n",
        "\n",
        "*Lendo com Codificação Específica*\n",
        "\n",
        "Ao trabalhar com dados geoespaciais, especialmente dados de diferentes fontes ou regiões, pode ser necessário experimentar ou verificar a documentação para determinar a codificação correta. Algumas codificações comuns incluem (quadro 10):\n",
        "\n",
        "Quadro 10: Codificações e suas descrições.\n",
        "\n",
        "\n",
        "| Codificação   | Descrição                                                                                                                                                   |\n",
        "|---------------|-------------------------------------------------------------------------------------------------------------------------------------------------------------|\n",
        "| UTF-8         | Codificação Unicode popular que pode representar qualquer caractere no conjunto de caracteres Unicode. É a codificação padrão para muitos formatos de arquivo e é amplamente usada em aplicações web. |\n",
        "| ISO-8859-1    | Codificação de um único byte que pode representar os primeiros 256 pontos de código Unicode. É comum em dados de países ocidentais. Também conhecido como Latin1. |\n",
        "| CP1252        | Uma codificação de página de código usada pelo Windows em inglês e em algumas outras línguas ocidentais.                                                     |\n",
        "| ISO-8859-15   | Semelhante ao ISO-8859-1, mas inclui alguns caracteres adicionais, como o euro (€).                                                                          |\n",
        "\n",
        "Vamos ler novamente o arquivo 'capitais_brasil.csv', especificando a codificação (parâmetro encoding) UTF-8:"
      ]
    },
    {
      "cell_type": "code",
      "execution_count": null,
      "id": "6c49cb3f",
      "metadata": {
        "id": "6c49cb3f"
      },
      "outputs": [],
      "source": [
        "gdf = gpd.read_file('/content/drive/MyDrive/files/cap5/f7/capitais_brasil.csv', encoding='UTF-8')\n",
        "gdf"
      ]
    },
    {
      "cell_type": "markdown",
      "id": "fbb44307",
      "metadata": {
        "id": "fbb44307"
      },
      "source": [
        "<br><br>\n",
        "\n",
        "*Lendo dados não espaciais (tabulares)*\n",
        "\n",
        "A Geopandas é projetado para lidar com dados geoespaciais, mas, dado que é uma extensão do Pandas, também pode manipular dados tabulares (não espaciais). No entanto, para dados puramente tabulares, é mais comum e direto usar o Pandas.\n",
        "\n",
        "\n",
        "\n",
        "## 5.2 Criando geometrias na Geopandas\n",
        "\n",
        "Na Geopandas, além de manipular e analisar dados geoespaciais, você também pode criar geometrias. Como vimos anteriormente, a biblioteca Shapely (que é uma dependência da Geopandas) fornece as ferramentas para criar e manipular geometrias. A Geopandas integra essas ferramentas para facilitar a criação e manipulação de geometrias dentro de seus GeoDataFrames e GeoSeries. Vamos estudar algumas funções e métodos para criar geometrias na Geopandas:\n",
        "<br><br>\n",
        "\n",
        "a) A partir de dados:\n",
        "\n",
        "Se você tiver dados em um DataFrame da Pandas e quiser convertê-los em um GeoDataFrame com geometrias, pode usar a função Geopandas.GeoDataFrame."
      ]
    },
    {
      "cell_type": "code",
      "execution_count": null,
      "id": "1e256d2a",
      "metadata": {
        "id": "1e256d2a"
      },
      "outputs": [],
      "source": [
        "df = pd.DataFrame({'longitude': [-67.8270, -40.2976, -54.6156],\n",
        "    'latitude': [-9.97499, -20.3195, -20.4428]})"
      ]
    },
    {
      "cell_type": "code",
      "execution_count": null,
      "id": "a98f65fa",
      "metadata": {
        "id": "a98f65fa"
      },
      "outputs": [],
      "source": [
        "gdf = gpd.GeoDataFrame(df, geometry=gpd.points_from_xy(df.longitude, df.latitude))\n",
        "gdf"
      ]
    },
    {
      "cell_type": "markdown",
      "id": "f718d7c3",
      "metadata": {
        "id": "f718d7c3"
      },
      "source": [
        "A primeira linha desse código cria um DataFrame da Pandas chamado df, com base em um dicionário de dados. O dicionário tem duas chaves: 'longitude' e 'latitude'. Cada chave está associada a uma lista de valores.\n",
        "\n",
        "A segunda linha do código converte o DataFrame df em um GeoDataFrame gdf, adicionando informações geométricas (neste caso, pontos) a partir de duas colunas do DataFrame original que representam coordenadas de longitude e latitude. gpd.points_from_xy(df.longitude, df.latitude), points_from_xy cria uma série de objetos geométricos do tipo \"ponto\" a partir de duas sequências de valores: a primeira para as coordenadas X (longitudes) e a segunda para as coordenadas Y (latitudes). Assim, ela transforma pares de valores de longitude e latitude em pontos geométricos.\n",
        "\n",
        "Em gpd.GeoDataFrame(df, geometry=...) criamos um novo GeoDataFrame a partir do DataFrame original df. O parâmetro geometry é usado para especificar qual coluna do GeoDataFrame deve ser tratada como a coluna de geometria. Ao fornecer a série de pontos criada no passo anterior como valor para o argumento geometry, estamos efetivamente adicionando uma nova coluna ao DataFrame original que armazenará as informações geométricas.\n",
        "\n",
        "\n",
        "Para criar um shapefile com atributos e geometrias, a partir de um dicionário:"
      ]
    },
    {
      "cell_type": "code",
      "execution_count": null,
      "id": "2c662c3c",
      "metadata": {
        "id": "2c662c3c"
      },
      "outputs": [],
      "source": [
        "# Definição do dicionário\n",
        "capitais = {\n",
        "    'Rio Branco': ('Acre', (-67.8270, -9.97499)),\n",
        "    'Vitória': ('Espírito Santo', (-40.2976, -20.3195)),\n",
        "    'Campo Grande': ('Mato Grosso do Sul', (-54.6156, -20.4428)),\n",
        "    'João Pessoa': ('Paraíba', (-34.8761, -7.11509)),\n",
        "    'Porto Alegre': ('Rio Grande do Sul', (-51.2167, -30.0277))\n",
        "}"
      ]
    },
    {
      "cell_type": "markdown",
      "id": "751800e0",
      "metadata": {
        "id": "751800e0"
      },
      "source": [
        "Um dicionário chamado capitais é definido. As chaves desse dicionário são nomes de capitais de alguns estados brasileiros. Cada valor associado a uma capital é uma tupla contendo o nome do estado e outra tupla com as coordenadas geográficas (longitude e latitude) da capital.\n",
        "\n",
        "O objetivo das próximas linhas de código é extrair informações separadas do dicionário capitais e armazená-las em listas individuais.\n",
        "\n",
        "Convertendo o dicionário em listas separadas"
      ]
    },
    {
      "cell_type": "code",
      "execution_count": null,
      "id": "1f496fac",
      "metadata": {
        "id": "1f496fac"
      },
      "outputs": [],
      "source": [
        "nomes = list(capitais.keys())\n",
        "estados = [capitais[capital][0] for capital in nomes]\n",
        "longitudes = [capitais[capital][1][0] for capital in nomes]\n",
        "latitudes = [capitais[capital][1][1] for capital in nomes]"
      ]
    },
    {
      "cell_type": "markdown",
      "id": "0987a17c",
      "metadata": {
        "id": "0987a17c"
      },
      "source": [
        "No código acima:\n",
        "\n",
        "- nomes = list(capitais.keys()) extrai os nomes das capitais (que são as chaves do dicionário) e os armazena em uma lista chamada nomes;\n",
        "\n",
        "- estados = ``` [capitais[capital][0] for capital in nomes] ``` é uma list comprehension que itera sobre cada capital na lista nomes e extrai o nome do estado associado (que é o primeiro elemento da tupla associada a cada capital no dicionário). O resultado é armazenado na lista estados.;\n",
        "\n",
        "- longitudes = ``` [capitais[capital][1][0] ``` for capital in nomes] extrai a longitude de cada capital (que é o primeiro elemento da segunda tupla associada a cada capital) e armazena os valores na lista longitudes.\n",
        "\n",
        "- latitudes = ``` [capitais[capital][1][1] for capital in nomes] ``` extrai a latitude de cada capital (que é o segundo elemento da segunda tupla associada a cada capital) e armazena os valores na lista latitudes.\n",
        "<br><br>\n",
        "\n",
        "O trecho de código abaixo cria um GeoDataFrame a partir das listas nomes, estados, longitudes e latitudes que foram previamente extraídas do dicionário capitais:"
      ]
    },
    {
      "cell_type": "code",
      "execution_count": null,
      "id": "21fc744f",
      "metadata": {
        "id": "21fc744f"
      },
      "outputs": [],
      "source": [
        "gdf = gpd.GeoDataFrame({\n",
        "    'capital': nomes,\n",
        "    'estado': estados,\n",
        "    'geometry': [Point(xy) for xy in zip(longitudes, latitudes)]\n",
        "})\n",
        "gdf.head()"
      ]
    },
    {
      "cell_type": "markdown",
      "id": "81587d5b",
      "metadata": {
        "id": "81587d5b"
      },
      "source": [
        "Nesse trecho:\n",
        "\n",
        "- ``` gpd.GeoDataFrame()```  cria um novo GeoDataFrame chamado gdf;\n",
        "\n",
        "- ``` 'capital': nomes ``` e ``` 'estado': estados ``` são colunas que armazenam os nomes das capitais e dos estados, respectivamente, usando as listas nomes e estados;\n",
        "\n",
        "- ``` 'geometry': [Point(xy) for xy in zip(longitudes, latitudes)] ``` é a coluna de geometria do GeoDataFrame. A compreensão de lista dentro dessa linha cria uma lista de objetos Point a partir das listas longitudes e latitudes. A função zip() é usada para emparelhar cada longitude com sua latitude correspondente, e cada par é passado para o construtor Point() para criar um objeto geométrico do tipo ponto.\n",
        "<br><br>\n",
        "\n",
        "Vamos verificar se as geometrias criadas estão em algum CRS:"
      ]
    },
    {
      "cell_type": "code",
      "execution_count": null,
      "id": "b6814542",
      "metadata": {
        "id": "b6814542"
      },
      "outputs": [],
      "source": [
        "crs=gdf.crs\n",
        "print(crs)"
      ]
    },
    {
      "cell_type": "markdown",
      "id": "bba56fb4",
      "metadata": {
        "id": "bba56fb4"
      },
      "source": [
        "As geometrias não tem nenhum CRS especificado. Vamos atribuir o CRS SIRGAS 2000 ao nosso GeoDataFrame."
      ]
    },
    {
      "cell_type": "code",
      "execution_count": null,
      "id": "f150bba2",
      "metadata": {
        "id": "f150bba2"
      },
      "outputs": [],
      "source": [
        "gdf.crs = 'EPSG:4674'"
      ]
    },
    {
      "cell_type": "markdown",
      "id": "3efb506f",
      "metadata": {
        "id": "3efb506f"
      },
      "source": [
        "Vamos consultar novamente o CRS:"
      ]
    },
    {
      "cell_type": "code",
      "execution_count": null,
      "id": "3a2bbe68",
      "metadata": {
        "id": "3a2bbe68"
      },
      "outputs": [],
      "source": [
        "crs=gdf.crs\n",
        "print(crs)"
      ]
    },
    {
      "cell_type": "markdown",
      "id": "a25081e7",
      "metadata": {
        "id": "a25081e7"
      },
      "source": [
        "<br><br>\n",
        "\n",
        "*A partir de WKT (Well-Known Text)*\n",
        "\n",
        "O formato WKT, que significa Well-Known Text, é uma representação textual padrão para geometrias espaciais. Ele é usado para transmitir informações sobre objetos geométricos - como pontos, linhas e polígonos - de uma maneira legível por humanos e máquina.\n",
        "\n",
        "O formato WKT é útil porque fornece uma maneira padrão e concisa de representar geometrias. Isso facilita a troca, armazenamento e análise de dados geoespaciais em diferentes sistemas e plataformas. Muitas ferramentas e bibliotecas geoespaciais, como PostGIS, QGIS, Shapely e Geopandas, suportam a leitura e escrita de geometrias no formato WKT.\n",
        "\n",
        "Para criar um GeoDataFrame a partir de um WKT:"
      ]
    },
    {
      "cell_type": "code",
      "execution_count": null,
      "id": "be9cabfa",
      "metadata": {
        "id": "be9cabfa"
      },
      "outputs": [],
      "source": [
        "from shapely.geometry import GeometryCollection, Point, LineString\n",
        "\n",
        "geom_collection = GeometryCollection([\n",
        "    Point(40, 10),\n",
        "    LineString([(10, 10), (20, 20), (10, 40)])\n",
        "])\n",
        "\n",
        "# Criar uma lista com as geometrias usando a propriedade 'geoms'\n",
        "geometrias = [geom for geom in geom_collection.geoms]\n",
        "\n",
        "# Criar um GeoDataFrame a partir das geometrias\n",
        "gdf_wkt = gpd.GeoDataFrame(geometry=geometrias)\n",
        "\n",
        "print(gdf_wkt)"
      ]
    },
    {
      "cell_type": "code",
      "execution_count": null,
      "id": "59eca026",
      "metadata": {
        "id": "59eca026"
      },
      "outputs": [],
      "source": [
        "gdf_wkt.plot()"
      ]
    },
    {
      "cell_type": "markdown",
      "id": "226ed4be",
      "metadata": {
        "id": "226ed4be"
      },
      "source": [
        "<br><br>\n",
        "\n",
        "*Escrevendo um GeoDataFrame para um arquivo no disco*\n",
        "\n",
        "Escrever um GeoDataFrame em um arquivo ou banco de dados é uma operação corriqueira ao trabalhar com dados geoespaciais na Geopandas. Aqui estão algumas das opções mais comuns:\n",
        "\n",
        "\n",
        "Escrever em Shapefile:"
      ]
    },
    {
      "cell_type": "code",
      "execution_count": null,
      "id": "4ebfdaf3",
      "metadata": {
        "id": "4ebfdaf3"
      },
      "outputs": [],
      "source": [
        "# gdf.to_file('capitais.shp')"
      ]
    },
    {
      "cell_type": "markdown",
      "id": "3327bf0f",
      "metadata": {
        "id": "3327bf0f"
      },
      "source": [
        "Escrever em GeoJSON:"
      ]
    },
    {
      "cell_type": "code",
      "execution_count": null,
      "id": "a9a1c4a3",
      "metadata": {
        "id": "a9a1c4a3"
      },
      "outputs": [],
      "source": [
        "gdf.to_file('files_out/capitais.geojson', driver='GeoJSON')\n"
      ]
    },
    {
      "cell_type": "markdown",
      "id": "5ebb3da8",
      "metadata": {
        "id": "5ebb3da8"
      },
      "source": [
        "Escrever em GeoPackage (GPKG):"
      ]
    },
    {
      "cell_type": "code",
      "execution_count": null,
      "id": "5562c2c2",
      "metadata": {
        "id": "5562c2c2"
      },
      "outputs": [],
      "source": [
        "gdf.to_file('capitais.gpkg', driver='GPKG')"
      ]
    },
    {
      "cell_type": "markdown",
      "id": "91a90f34",
      "metadata": {
        "id": "91a90f34"
      },
      "source": [
        "## 5.3 Funções apply, map e replace no contexto da Geopandas\n",
        "\n",
        "### 5.3.1 A função apply na Geopandas\n",
        "\n",
        "A função apply é uma herança da Pandas que permite aplicar uma determinada função a todos os elementos de uma coluna ou linha em um DataFrame ou GeoDataFrame. Na Geopandas, essa função é comumente utilizada para realizar operações específicas em cada uma das geometrias de um conjunto de dados geoespacial. Vamos entender melhor com alguns exemplos.\n",
        "<br><br>\n",
        "\n",
        "Exemplo 1: Calcular o comprimento dos rios apresentados na figura 11, localizados no estado do Maranhão.\n",
        "\n",
        "\n",
        "![Figura 11](https://github.com/Alexandrogschafer/Programacao-Geoprocessamento/blob/gh-pages/notebooks/images/fig11.png?raw=1)\n",
        "\n",
        "Figura 11: Rios no estado do Maranhão.\n",
        "<br><br>\n",
        "\n",
        "\n",
        "Etapa 1: Leitura do shapefile e edição do GeoDataFrame:"
      ]
    },
    {
      "cell_type": "code",
      "execution_count": null,
      "id": "938d02e0",
      "metadata": {
        "id": "938d02e0"
      },
      "outputs": [],
      "source": [
        "gdf_rios = gpd.read_file('/content/drive/MyDrive/files/cap5/f8/rios_maranhao.shp')\n",
        "gdf_rios = gdf_rios.rename(columns={'NORIOCOMP': 'nome'})\n",
        "gdf_rios = gdf_rios.drop(columns=['FID_GEOFT_',\n",
        "    'CORIO', 'FID_BR_UF_', 'CD_UF', 'NM_UF', 'SIGLA_UF',\n",
        "    'NM_REGIAO', 'AREA_KM2', 'Shape_Leng'])\n",
        "gdf_rios"
      ]
    },
    {
      "cell_type": "markdown",
      "id": "cdd0d84c",
      "metadata": {
        "id": "cdd0d84c"
      },
      "source": [
        "Vamos plotar o GeoDataFrame:"
      ]
    },
    {
      "cell_type": "code",
      "execution_count": null,
      "id": "038bf303",
      "metadata": {
        "id": "038bf303"
      },
      "outputs": [],
      "source": [
        "gdf_rios.plot()"
      ]
    },
    {
      "cell_type": "markdown",
      "id": "4eb9fa0e",
      "metadata": {
        "id": "4eb9fa0e"
      },
      "source": [
        "Etapa 2: Cálculo do comprimento de cada rio e armazenamento dos resultados na nova coluna 'comprimento':"
      ]
    },
    {
      "cell_type": "code",
      "execution_count": null,
      "id": "26d5fd2e",
      "metadata": {
        "id": "26d5fd2e"
      },
      "outputs": [],
      "source": [
        "gdf_rios['comprimento'] = gdf_rios['geometry'].apply(lambda geom: geom.length)/1e3"
      ]
    },
    {
      "cell_type": "markdown",
      "id": "259c10ce",
      "metadata": {
        "id": "259c10ce"
      },
      "source": [
        "Nesse código, utilizamos o método apply() para aplicar uma função a cada valor na coluna geometry do GeoDataFrame chamado gdf_rios. A função é uma função lambda que pega um argumento geom (que representa uma geometria individual da coluna geometry) e retorna o comprimento dessa geometria usando o método length. Em seguida, dividimos todos os comprimentos por '1e3'(que é igual a 1000). Isso é feito para converter os comprimentos de metros para quilômetros. Vamos verificar o GeoDataFrame após a aplicação do código:"
      ]
    },
    {
      "cell_type": "code",
      "execution_count": null,
      "id": "e8b1e4c3",
      "metadata": {
        "id": "e8b1e4c3"
      },
      "outputs": [],
      "source": [
        "print (gdf_rios)"
      ]
    },
    {
      "cell_type": "markdown",
      "id": "07659bd8",
      "metadata": {
        "id": "07659bd8"
      },
      "source": [
        "Podemos verificar que foi criada a coluna \"comprimento\" e o comprimento de cada rio foi calculado utilizando o método \"length\". Vamos criar uma consulta que retorne apenas o nome e o comprimento de cada rio:"
      ]
    },
    {
      "cell_type": "code",
      "execution_count": null,
      "id": "a4050cc3",
      "metadata": {
        "id": "a4050cc3"
      },
      "outputs": [],
      "source": [
        "print (gdf_rios[['nome', 'comprimento']])"
      ]
    },
    {
      "cell_type": "markdown",
      "id": "615f11ec",
      "metadata": {
        "id": "615f11ec"
      },
      "source": [
        "<br><br>\n",
        "\n",
        "Exemplo 2: Inserir uma nova coluna no GeoDataFrame, cujo registro é o nome no rio e a sigla do estado. Por exemplo, Rio Pindaré MA.\n",
        "\n",
        "Para processar ou transformar cada linha de um GeoDataFrame individualmente, utiliza-se a função apply com o argumento axis=1."
      ]
    },
    {
      "cell_type": "code",
      "execution_count": null,
      "id": "8ff9022c",
      "metadata": {
        "id": "8ff9022c"
      },
      "outputs": [],
      "source": [
        "gdf_rios['UF'] = 'MA'\n",
        "gdf_rios['nome_UF'] = gdf_rios.apply(lambda row: row['nome'] + ' ' + row['UF'], axis=1)\n",
        "gdf_rios = gdf_rios.drop(columns=['nome', 'UF'])"
      ]
    },
    {
      "cell_type": "markdown",
      "id": "58d2e454",
      "metadata": {
        "id": "58d2e454"
      },
      "source": [
        "No código acima, criamos a coluna ‘UF’ com o valor padrão ‘MA’, referente ao estado do Maranhão. Em seguida, aplicamos o apply com uma função lambda a cada linha (axis=1). A expressão da função lambda é ``` row['nome'] + ' ' + row['UF']. ``` Aqui, para cada linha do GeoDataFrame, estamos concatenando o valor na coluna 'nome' com o valor na coluna 'UF', separados por um espaço. O resultado dessa concatenação é então atribuído à nova coluna 'nome_UF' para cada linha do GeoDataFrame. Por fim, deletamos as colunas ‘nome’ e ‘UF’."
      ]
    },
    {
      "cell_type": "code",
      "execution_count": null,
      "id": "1a1d8c09",
      "metadata": {
        "id": "1a1d8c09"
      },
      "outputs": [],
      "source": [
        "print (gdf_rios[['nome_UF', 'comprimento']])"
      ]
    },
    {
      "cell_type": "markdown",
      "id": "ad059541",
      "metadata": {
        "id": "ad059541"
      },
      "source": [
        "<br><br>\n",
        "\n",
        "\n",
        "Exemplo 3: Criar um buffer de 30 metros em torno de cada rio que consta na figura 12."
      ]
    },
    {
      "cell_type": "code",
      "execution_count": null,
      "id": "d4708bf3",
      "metadata": {
        "id": "d4708bf3"
      },
      "outputs": [],
      "source": [
        "gdf_rios['buffer_app'] = gdf_rios['geometry'].apply(lambda geom: geom.buffer(30))"
      ]
    },
    {
      "cell_type": "markdown",
      "id": "1482e603",
      "metadata": {
        "id": "1482e603"
      },
      "source": [
        "Nesse código utilizamos o método apply() para aplicar uma função a cada valor na coluna geometry. A função lambda pega um argumento geom (que representa uma geometria individual da coluna geometry) e aplica o método buffer(30) a ele. O método buffer(30) é um método da Shapely que cria um buffer (ou zona de influência) ao redor da geometria. Neste caso, o buffer terá uma distância de 30 metros a partir da geometria original.\n",
        "\n",
        "\n",
        "Na figura 12, temos uma visualização parcial das linhas originadas pela aplicação do buffer no Rio Grajaú.\n",
        "\n",
        "![Figura 12](https://github.com/Alexandrogschafer/Programacao-Geoprocessamento/blob/gh-pages/notebooks/images/fig12.png?raw=1)\n",
        "\n",
        "Figura 12: Buffer de 30 metros ao longo do rio Grajaú.\n",
        "<br><br>\n",
        "\n",
        "Exemplo 4: Classificar os rios existentes no DataFrame em ‘pequeno’, ‘médio’ e ‘grande’.\n",
        "Além de funções lambda, é possível criar as suas próprias funções e usá-las com apply.  Nesse exemplo, vamos criar a função ‘categoriza_comp’:"
      ]
    },
    {
      "cell_type": "code",
      "execution_count": null,
      "id": "85c1d8e3",
      "metadata": {
        "id": "85c1d8e3"
      },
      "outputs": [],
      "source": [
        "def categoriza_comp(row):\n",
        "    if row.geometry.length < 300000:\n",
        "        return 'pequeno'\n",
        "    elif row.geometry.length < 600000:\n",
        "        return 'médio'\n",
        "    else:\n",
        "        return 'grande'"
      ]
    },
    {
      "cell_type": "markdown",
      "id": "3b840e77",
      "metadata": {
        "id": "3b840e77"
      },
      "source": [
        "Essa função aceita um argumento chamado row, que é uma linha do GeoDataFrame. A linha if row.geometry.length < 300000: verifica se o comprimento da geometria da linha atual é menor que 300.000 metros. Se a condição for verdadeira, a função retorna \"pequeno\".\n",
        "A linha elif row.geometry.length < 600000: é avaliada se a primeira condição não for verdadeira. Verifica se o comprimento da geometria da linha atual é menor que 600.000 metros. Se essa condição for verdadeira, a função retorna \"médio\". Se nenhuma das condições acima for verdadeira, a função retorna \"grande\". As classes para essa função foram definidas aleatoriamente, sem uma base teórica, apenas para apresentar esse exemplo."
      ]
    },
    {
      "cell_type": "code",
      "execution_count": null,
      "id": "07470634",
      "metadata": {
        "id": "07470634"
      },
      "outputs": [],
      "source": [
        "gdf_rios['categoria_comp'] = gdf_rios.apply(categoriza_comp, axis=1)"
      ]
    },
    {
      "cell_type": "markdown",
      "id": "e3bf0e35",
      "metadata": {
        "id": "e3bf0e35"
      },
      "source": [
        "No código acima, utilizamos o método apply() para aplicar a função categoriza_comp a cada linha do GeoDataFrame. O argumento axis=1 indica que a função será aplicada a cada linha."
      ]
    },
    {
      "cell_type": "code",
      "execution_count": null,
      "id": "a1dc4206",
      "metadata": {
        "id": "a1dc4206"
      },
      "outputs": [],
      "source": [
        "print(gdf_rios[['nome_UF', 'categoria_comp']])"
      ]
    },
    {
      "cell_type": "markdown",
      "id": "fa69b16f",
      "metadata": {
        "id": "fa69b16f"
      },
      "source": [
        "### 5.3.2 As funções map e replace na Geopandas\n",
        "\n",
        "Na Geopandas, assim como no Pandas, as funções map e replace oferecem meios distintos de transformar valores em uma coluna.\n",
        "A função map é usada para substituir cada valor por outro valor, que pode ser derivado de uma função, dicionário ou uma Series. É particularmente útil quando se deseja realizar uma transformação elementar com base em um conjunto predefinido de correspondências. Por exemplo, se estiver trabalhando com um dicionário, você pode mapear códigos de estados para seus respectivos nomes completos. Contudo, é importante notar que a função map opera apenas sobre Series, e não sobre DataFrames inteiros.\n",
        "\n",
        "Por outro lado, a função replace é mais geral e flexível. Ela permite substituir um valor por outro em um DataFrame ou Series. A substituição pode ter como base valores individuais ou listas de valores. Por exemplo, você pode usar replace para substituir todos os valores nulos ou específicos em um DataFrame por um valor padrão. Diferente do map, o replace não limita a substituição com base em um mapeamento direto, oferecendo uma abordagem mais abrangente para transformações.\n",
        "<br><br>\n",
        "\n",
        "Exemplo: Temos um arquivo shapefile com os municípios dos estados de Goiás, Mato Grosso e Mato Grosso do Sul (figura 13). No total, são 466 municípios. A identificação do estado a que cada município pertence se dá pela coluna SIGLA_UF, que armazena a sigla de cada estado. Queremos alterar a identificação dos estados de Goiás e Mato Grosso para os seus nomes ao invés das siglas, mas manter Mato Grosso do Sul identificado pela sua sigla. Vamos realizar essa operação usando tanto a função map quanto a função replace para compará-las.\n",
        "\n",
        "\n",
        "![Figura 13](https://github.com/Alexandrogschafer/Programacao-Geoprocessamento/blob/gh-pages/notebooks/images/fig13.jpg?raw=1)\n",
        "\n",
        "Figura 13: Municípios dos estados de Goiás, Mato Grosso e Mato Grosso do Sul.\n",
        "<br><br>\n",
        "\n",
        "*Utilizando a função map*\n",
        "\n",
        "Inicialmente, criamos um GeoDataFrame a partir do arquivo shapefile mun_MT_MS_GO.shp."
      ]
    },
    {
      "cell_type": "code",
      "execution_count": null,
      "id": "2dd627d7",
      "metadata": {
        "id": "2dd627d7"
      },
      "outputs": [],
      "source": [
        "gdf_co = gpd.read_file ('/content/drive/MyDrive/files/cap5/f9/mun_MT_MS_GO.shp')\n",
        "gdf_co"
      ]
    },
    {
      "cell_type": "markdown",
      "id": "73ad56cb",
      "metadata": {
        "id": "73ad56cb"
      },
      "source": [
        "Podemos verificar que os estados estão identificados por suas siglas: GO, MS e MT. vamos plotar o GeoDataFrame:"
      ]
    },
    {
      "cell_type": "code",
      "execution_count": null,
      "id": "ef3b1c88",
      "metadata": {
        "id": "ef3b1c88"
      },
      "outputs": [],
      "source": [
        "gdf_co.plot()"
      ]
    },
    {
      "cell_type": "markdown",
      "id": "97f68765",
      "metadata": {
        "id": "97f68765"
      },
      "source": [
        "Vamos agora criar um dicionário chamado mapeamento (ele será útil em nossos próximos códigos). Neste dicionário, as siglas dos estados (como 'GO' e 'MT') são usadas como chaves, e os nomes completos dos estados (como 'Goiás' e 'Mato Grosso') são os valores correspondentes. Em termos práticos, isso significa que, se você acessar o valor associado à chave 'GO' no dicionário mapeamento, obterá 'Goiás'. Da mesma forma, se acessar o valor associado à chave 'MT', obterá 'Mato Grosso'."
      ]
    },
    {
      "cell_type": "code",
      "execution_count": null,
      "id": "d399dc91",
      "metadata": {
        "id": "d399dc91"
      },
      "outputs": [],
      "source": [
        "mapeamento = {'GO': 'Goiás', 'MT': 'Mato Grosso'}"
      ]
    },
    {
      "cell_type": "markdown",
      "id": "a4a872ff",
      "metadata": {
        "id": "a4a872ff"
      },
      "source": [
        "Agora vamos aplicar a função map à coluna 'SIGLA_UF':"
      ]
    },
    {
      "cell_type": "code",
      "execution_count": null,
      "id": "f7d028b5",
      "metadata": {
        "id": "f7d028b5"
      },
      "outputs": [],
      "source": [
        "gdf_map = gdf_co\n",
        "gdf_map['SIGLA_UF'] = gdf_map['SIGLA_UF'].map(mapeamento)"
      ]
    },
    {
      "cell_type": "markdown",
      "id": "a7f30b98",
      "metadata": {
        "id": "a7f30b98"
      },
      "source": [
        "O que a função \"map\" faz é mapear os valores desta coluna usando o dicionário mapeamento. Se um valor da coluna 'SIGLA_UF' corresponder a uma chave do dicionário, ele será substituído pelo valor associado no dicionário. Qualquer valor na coluna 'SIGLA_UF' que não estiver no dicionário mapeamento será convertido para NaN (ou seja, considerado como valor ausente)."
      ]
    },
    {
      "cell_type": "code",
      "execution_count": null,
      "id": "3208d70c",
      "metadata": {
        "id": "3208d70c"
      },
      "outputs": [],
      "source": [
        "gdf_map"
      ]
    },
    {
      "cell_type": "markdown",
      "id": "8352251b",
      "metadata": {
        "id": "8352251b"
      },
      "source": [
        "<br><br>\n",
        "\n",
        "*Usando a função replace*\n",
        "\n",
        "Vamos carregar novamente o arquivo shapefile e convertê-lo em um GeoDataFrame:"
      ]
    },
    {
      "cell_type": "code",
      "execution_count": null,
      "id": "d6bec521",
      "metadata": {
        "id": "d6bec521"
      },
      "outputs": [],
      "source": [
        "gdf_co = gpd.read_file ('/content/drive/MyDrive/files/cap5/f9/mun_MT_MS_GO.shp')\n",
        "gdf_co"
      ]
    },
    {
      "cell_type": "markdown",
      "id": "5162434d",
      "metadata": {
        "id": "5162434d"
      },
      "source": [
        "Agora vamos aplicar a função \"replace\" na mesma coluna, 'SIGLA_UF', do GeoDataFrame gdf_rep:"
      ]
    },
    {
      "cell_type": "code",
      "execution_count": null,
      "id": "929f4033",
      "metadata": {
        "id": "929f4033"
      },
      "outputs": [],
      "source": [
        "gdf_rep = gdf_co\n",
        "gdf_rep['SIGLA_UF'] = gdf_rep['SIGLA_UF'].replace(mapeamento)"
      ]
    },
    {
      "cell_type": "markdown",
      "id": "112e636d",
      "metadata": {
        "id": "112e636d"
      },
      "source": [
        "Semelhante à função map, a função replace substituirá os valores da coluna com base no dicionário mapeamento. No entanto, a diferença fundamental é que, com replace, se um valor da coluna 'SIGLA_UF' não estiver no dicionário mapeamento, ele permanecerá inalterado. Ou seja, replace não converte valores não mapeados para NaN.\n",
        "\n",
        "\n",
        "Em resumo, enquanto tanto a função map quanto a função replace podem ser usadas para transformar valores com base em um dicionário de mapeamento, a função map irá converter valores não mapeados para NaN, enquanto a função replace deixará valores não mapeados inalterados.\n",
        "\n",
        "\n",
        "## 5.4 Combinando DataFrames e GeoDataFrames\n",
        "\n",
        "No âmbito da análise de dados geoespaciais, a combinação de DataFrames e GeoDataFrames é uma prática essencial para integrar e manipular informações de diferentes fontes. As ferramentas concat e merge, disponíveis em bibliotecas como pandas e geopandas, são amplamente utilizadas neste processo. Enquanto concat é utilizado para empilhar DataFrames verticalmente ou horizontalmente, respeitando o mesmo conjunto de colunas, a função merge é empregada para unir DataFrames com base em colunas específicas, similar a uma operação de junção em bancos de dados. Para melhor compreensão, exploraremos a aplicação dessas funções em detalhes utilizando dados reais a seguir.\n",
        "\n",
        "\n",
        "### 5.4.1 Anexação: Método concat\n",
        "\n",
        "Exemplo: Temos cinco arquivos shapefile, um de cada região do Brasil (figura 14). Queremos criar um GeoDataFrame de todo o país.\n",
        "\n",
        "![Figura 14](https://github.com/Alexandrogschafer/Programacao-Geoprocessamento/blob/gh-pages/notebooks/images/fig14.png?raw=1)\n",
        "\n",
        "Figura 14: Regiões do Brasil.\n",
        "<br><br>\n",
        "\n",
        "Inicialmente, valos criar os GeoDataFrames de cada região a partir dos arquivos shapefile:"
      ]
    },
    {
      "cell_type": "code",
      "execution_count": null,
      "id": "0c5bce4f",
      "metadata": {
        "id": "0c5bce4f"
      },
      "outputs": [],
      "source": [
        "gdf_norte = gpd.read_file('content/drive/MyDrive/files/cap5/f10/norte.shp')\n",
        "gdf_sul = gpd.read_file('content/drive/MyDrive/files/cap5/f10/sul.shp')\n",
        "gdf_nordeste = gpd.read_file('content/drive/MyDrive/files/cap5/f10/nordeste.shp')\n",
        "gdf_sudeste = gpd.read_file('content/drive/MyDrive/files/cap5/f10/sudeste.shp')\n",
        "gdf_centro_oeste = gpd.read_file('/content/drive/MyDrive/files/cap5/f10/centro_oeste.shp.shp')"
      ]
    },
    {
      "cell_type": "markdown",
      "id": "31ed5712",
      "metadata": {
        "id": "31ed5712"
      },
      "source": [
        "Vamos plotar cada GeoDataFrame.\n",
        "\n",
        "Região norte:"
      ]
    },
    {
      "cell_type": "code",
      "execution_count": null,
      "id": "4d85c6ac",
      "metadata": {
        "id": "4d85c6ac"
      },
      "outputs": [],
      "source": [
        "gdf_norte.plot()"
      ]
    },
    {
      "cell_type": "markdown",
      "id": "b479b872",
      "metadata": {
        "id": "b479b872"
      },
      "source": [
        "Região nordeste:"
      ]
    },
    {
      "cell_type": "code",
      "execution_count": null,
      "id": "b8570f1e",
      "metadata": {
        "id": "b8570f1e"
      },
      "outputs": [],
      "source": [
        "gdf_nordeste.plot()"
      ]
    },
    {
      "cell_type": "markdown",
      "id": "337207ea",
      "metadata": {
        "id": "337207ea"
      },
      "source": [
        "Região centro oeste:"
      ]
    },
    {
      "cell_type": "code",
      "execution_count": null,
      "id": "6f83323b",
      "metadata": {
        "id": "6f83323b"
      },
      "outputs": [],
      "source": [
        "gdf_centro_oeste.plot()"
      ]
    },
    {
      "cell_type": "markdown",
      "id": "76d91df6",
      "metadata": {
        "id": "76d91df6"
      },
      "source": [
        "Região sudeste:"
      ]
    },
    {
      "cell_type": "code",
      "execution_count": null,
      "id": "c1d216e9",
      "metadata": {
        "id": "c1d216e9"
      },
      "outputs": [],
      "source": [
        "gdf_sudeste.plot()"
      ]
    },
    {
      "cell_type": "markdown",
      "id": "29384609",
      "metadata": {
        "id": "29384609"
      },
      "source": [
        "Região sul:"
      ]
    },
    {
      "cell_type": "code",
      "execution_count": null,
      "id": "3bbbbf85",
      "metadata": {
        "id": "3bbbbf85"
      },
      "outputs": [],
      "source": [
        "gdf_sul.plot()"
      ]
    },
    {
      "cell_type": "markdown",
      "id": "c100f2cb",
      "metadata": {
        "id": "c100f2cb"
      },
      "source": [
        "Em seguida, concatenamos todos os GeoDataFrames criados:"
      ]
    },
    {
      "cell_type": "code",
      "execution_count": null,
      "id": "23996f34",
      "metadata": {
        "id": "23996f34"
      },
      "outputs": [],
      "source": [
        "gdf_brasil = pd.concat([gdf_norte, gdf_sul, gdf_nordeste,\n",
        "    gdf_sudeste, gdf_centro_oeste], ignore_index=True)\n",
        "gdf_brasil.head()"
      ]
    },
    {
      "cell_type": "markdown",
      "id": "4ca45142",
      "metadata": {
        "id": "4ca45142"
      },
      "source": [
        "E plotamos o GeoDataFrame resultante:"
      ]
    },
    {
      "cell_type": "code",
      "execution_count": null,
      "id": "631596d0",
      "metadata": {
        "id": "631596d0"
      },
      "outputs": [],
      "source": [
        "gdf_brasil.plot()"
      ]
    },
    {
      "cell_type": "markdown",
      "id": "c51ea553",
      "metadata": {
        "id": "c51ea553"
      },
      "source": [
        "### 5.4.2 Junções de Atributos (Attribute Joins)\n",
        "\n",
        "Junções de atributos referem-se ao processo de combinar tabelas com base em valores de colunas comuns. Em termos de conjuntos de dados geoespaciais, isso significa que você pode combinar informações de diferentes fontes com base em um identificador comum, como um ID ou nome, sem considerar a localização geográfica. Esse tipo de junção é semelhante às junções realizadas em bancos de dados relacionais.\n",
        "Inicialmente vamos importar as bibliotecas: Pandas (para manipulação de dados tabulares) e Geopandas (para manipulação de dados geoespaciais). Em seguida, vamos ler os dados e criar os DataFrames."
      ]
    },
    {
      "cell_type": "code",
      "execution_count": null,
      "id": "ace5006b",
      "metadata": {
        "id": "ace5006b"
      },
      "outputs": [],
      "source": [
        "gdf_cap = gpd.read_file('/content/drive/MyDrive/files/cap5/f11/capitais_br.shp')\n",
        "df_censo_cap = pd.read_excel('/content/drive/MyDrive/files/cap5/f12/censo_capitais.xlsx')\n",
        "df_censo_cap.head()"
      ]
    },
    {
      "cell_type": "code",
      "execution_count": null,
      "id": "4d59a7ba",
      "metadata": {
        "id": "4d59a7ba"
      },
      "outputs": [],
      "source": [
        "gdf_cap.head()"
      ]
    },
    {
      "cell_type": "code",
      "execution_count": null,
      "id": "be5c9c0b",
      "metadata": {
        "id": "be5c9c0b"
      },
      "outputs": [],
      "source": [
        "gdf_cap.plot()"
      ]
    },
    {
      "cell_type": "markdown",
      "id": "7b7c59e7",
      "metadata": {
        "id": "7b7c59e7"
      },
      "source": [
        "Agora vamos renomear as colunas do DataFrame df_censo_cap para torná-las mais descritivas:"
      ]
    },
    {
      "cell_type": "code",
      "execution_count": null,
      "id": "f7c8ce3f",
      "metadata": {
        "id": "f7c8ce3f"
      },
      "outputs": [],
      "source": [
        "#Alterar o nome das colunas do df_censo_cap\n",
        "df_censo_cap = df_censo_cap.rename(columns={\n",
        "    2000: 'pop2000',\n",
        "    2010: 'pop2010',\n",
        "    2022: 'pop2022'\n",
        "})\n",
        "df_censo_cap.head()"
      ]
    },
    {
      "cell_type": "markdown",
      "id": "7c33cc53",
      "metadata": {
        "id": "7c33cc53"
      },
      "source": [
        "Podemos verificar que a alteração foi realizada corretamente.\n",
        "\n",
        "Vamos agora combinar gdf_cap e df_censo_cap com base na coluna codigo. A junção é do tipo \"inner\", o que significa que apenas as linhas com códigos correspondentes em ambos os DataFrames serão inclusos no resultado.\n",
        "\n",
        "\n",
        "Junção dos dataframes usando as colunas 'capital' e 'Capital'"
      ]
    },
    {
      "cell_type": "code",
      "execution_count": null,
      "id": "ac6b42f4",
      "metadata": {
        "id": "ac6b42f4"
      },
      "outputs": [],
      "source": [
        "gdf_censo_cap = gdf_cap.merge(df_censo_cap, left_on='codigo', right_on='codigo', how='inner')\n",
        "gdf_censo_cap.head()"
      ]
    },
    {
      "cell_type": "markdown",
      "id": "6fef7b7e",
      "metadata": {
        "id": "6fef7b7e"
      },
      "source": [
        "Nesse código, o método merge é usado para combinar DataFrames com base em colunas ou índices comuns. O parâmetro on=’codigo' especifica que a combinação deve ser feita com base na coluna codigo. Em outras palavras, para cada linha em gdf_cap que tenha uma determinada sigla na coluna codigo, o método procurará por linhas em df_censo_cap que tenham a mesma sigla e combinará as informações.\n",
        "\n",
        "O parâmetro how='left' define o tipo de junção a ser realizado. O valor 'left' significa que a junção é do tipo \"left join\", ou seja, todas as linhas do gdf_cap serão mantidas. Caso não haja correspondência em df_censo_cap, os valores resultantes para as colunas de df_censo_cap serão NaN (valores faltantes).\n",
        "\n",
        "Após a junção, temos duas colunas que representam a capital (uma de cada DataFrame):\n",
        "\n",
        "\n",
        "Vamos remover a coluna 'Capital' duplicada após a junção:"
      ]
    },
    {
      "cell_type": "code",
      "execution_count": null,
      "id": "d874bc7c",
      "metadata": {
        "id": "d874bc7c"
      },
      "outputs": [],
      "source": [
        "gdf_censo_cap = gdf_censo_cap.drop(columns=['Capital'])\n",
        "gdf_censo_cap.head()"
      ]
    },
    {
      "cell_type": "markdown",
      "id": "f367a7a3",
      "metadata": {
        "id": "f367a7a3"
      },
      "source": [
        "## 5.5 Seleção e filtragem de dados\n",
        "\n",
        "### 5.5.1 Seleção com base em atributos\n",
        "\n",
        "Na Geopandas, a seleção com base em atributos refere-se ao processo de filtrar dados em um GeoDataFrame com base nos valores das colunas, similarmente ao que fazemos com o Pandas. Esse tipo de seleção permite que os usuários isolem subconjuntos específicos de dados com base em critérios definidos, como características geográficas, demográficas ou qualquer outro atributo tabular. Para exemplificar a seleção por atributos, vamos realizar algumas operações para criar um GeoDataFrame com os dados do PIB estadual de 2020 e dos Censos de 2000, 2010 e 2022 a partir de dado s que estão em planilhas do Excel.\n",
        "\n",
        "Ler o arquivo shapefile:"
      ]
    },
    {
      "cell_type": "code",
      "execution_count": null,
      "id": "ebc08c13",
      "metadata": {
        "id": "ebc08c13"
      },
      "outputs": [],
      "source": [
        "gdf = gpd.read_file('/content/drive/MyDrive/files/cap5/f4/BR_UF.shp')\n",
        "gdf.head()"
      ]
    },
    {
      "cell_type": "markdown",
      "id": "086ed417",
      "metadata": {
        "id": "086ed417"
      },
      "source": [
        "Ler o arquivo Excel com dados do PIB estadual:"
      ]
    },
    {
      "cell_type": "code",
      "execution_count": null,
      "id": "e1cea0b6",
      "metadata": {
        "id": "e1cea0b6"
      },
      "outputs": [],
      "source": [
        "dfpib = pd.read_excel('/content/drive/MyDrive/files/cap5/f13/pibUfBr2020.xlsx')\n",
        "dfpib.head()"
      ]
    },
    {
      "cell_type": "markdown",
      "id": "d15f401b",
      "metadata": {
        "id": "d15f401b"
      },
      "source": [
        "Ler o arquivo Excel com dados do Censo de 2000, 2010 e 2022:"
      ]
    },
    {
      "cell_type": "code",
      "execution_count": null,
      "id": "f0e63ffb",
      "metadata": {
        "id": "f0e63ffb"
      },
      "outputs": [],
      "source": [
        "dfcenso = pd.read_excel('/content/drive/MyDrive/files/cap5/f14/censo_UF.xlsx')\n",
        "dfcenso.head()"
      ]
    },
    {
      "cell_type": "markdown",
      "id": "7438b8c5",
      "metadata": {
        "id": "7438b8c5"
      },
      "source": [
        "Unir os dataframes dfpib e dfcenso:"
      ]
    },
    {
      "cell_type": "code",
      "execution_count": null,
      "id": "cb3497f2",
      "metadata": {
        "id": "cb3497f2"
      },
      "outputs": [],
      "source": [
        "df_uf = pd.merge(dfpib, dfcenso, on='SIGLA_UF').drop(columns='UF_y').rename(columns={'UF_x': 'UF'})\n",
        "df_uf.head()"
      ]
    },
    {
      "cell_type": "markdown",
      "id": "22586bb0",
      "metadata": {
        "id": "22586bb0"
      },
      "source": [
        "Unir o dataframe df_uf com o geodataframe gdf:"
      ]
    },
    {
      "cell_type": "code",
      "execution_count": null,
      "id": "b87365e7",
      "metadata": {
        "id": "b87365e7"
      },
      "outputs": [],
      "source": [
        "gdf_uf_cp = gdf.merge(df_uf, on='SIGLA_UF').drop(columns=['NM_UF', 'NM_REGIAO'])\n",
        "gdf_uf_cp.head()"
      ]
    },
    {
      "cell_type": "markdown",
      "id": "bdb42537",
      "metadata": {
        "id": "bdb42537"
      },
      "source": [
        "<br><br>\n",
        "\n",
        "*Selecionar uma única coluna*\n",
        "\n",
        "Sintaxe básica:\n",
        "\n",
        "``` gdf['nome_da_coluna'] ```\n",
        "\n",
        "ou\n",
        "\n",
        "``` gdf.nome_da_coluna ```\n",
        "\n",
        "\n",
        "Exemplo: Selecionar a coluna ‘UF’, que armazena o nome dos estados brasileiros:"
      ]
    },
    {
      "cell_type": "code",
      "execution_count": null,
      "id": "41b111ba",
      "metadata": {
        "id": "41b111ba"
      },
      "outputs": [],
      "source": [
        "estados=gdf_uf_cp['UF']\n",
        "print(estados)"
      ]
    },
    {
      "cell_type": "markdown",
      "id": "7b07cb8a",
      "metadata": {
        "id": "7b07cb8a"
      },
      "source": [
        "Quando selecionamos apenas uma coluna, retorna uma Series.\n",
        "\n",
        "\n",
        "Ao trabalhar com Geopandas, lembre-se de que se você remover a coluna \"geometry\", o DataFrame (ou Series) resultante perderá sua natureza espacial e se tornará um DataFrame comum ou uma Series do Pandas.\n",
        "<br><br>\n",
        "\n",
        "*Selecionar Múltiplas Colunas*\n",
        "\n",
        "Sintaxe básica:\n",
        "\n",
        "``` gdf[['coluna1', 'coluna2', 'coluna3']] ```\n",
        "\n",
        "Exemplo: selecionar as colunas UF, PIB_2020, Popul_2022 e geometry do GeoDataFrame"
      ]
    },
    {
      "cell_type": "code",
      "execution_count": null,
      "id": "f8a7d421",
      "metadata": {
        "id": "f8a7d421"
      },
      "outputs": [],
      "source": [
        "gdf_selecao = gdf_uf_cp[['UF', 'PIB_2020', 'Popul_2022', 'geometry']]\n",
        "gdf_selecao.head()"
      ]
    },
    {
      "cell_type": "markdown",
      "id": "cdc7dfa9",
      "metadata": {
        "id": "cdc7dfa9"
      },
      "source": [
        "<br><br>\n",
        "\n",
        "*Descartar Colunas*\n",
        "\n",
        "Ao invés de selecionar colunas específicas, você também pode descartar colunas que não deseja:"
      ]
    },
    {
      "cell_type": "code",
      "execution_count": null,
      "id": "7a2b24ad",
      "metadata": {
        "id": "7a2b24ad"
      },
      "outputs": [],
      "source": [
        "gdf_drop = gdf_uf_cp.drop(columns=['CD_UF', 'AREA_KM2'])\n",
        "gdf_drop.head()"
      ]
    },
    {
      "cell_type": "markdown",
      "id": "10d11b73",
      "metadata": {
        "id": "10d11b73"
      },
      "source": [
        "<br><br>\n",
        "\n",
        "#### 5.5.1.1 Seleção com base em Condições\n",
        "\n",
        "A seleção baseada em condições é uma técnica comum ao trabalhar com DataFrames na Pandas e Geopandas. Ela permite filtrar linhas de um DataFrame com base em critérios específicos definidos por uma ou mais condições. Essa técnica é especialmente útil para análises exploratórias, pré-processamento de dados e muitas outras operações de manipulação de dados.\n",
        "\n",
        "Sintaxe Básica: A seleção baseada em condições é realizada usando uma expressão booleana dentro de colchetes. Por exemplo:\n",
        "\n",
        "```  gdf[gdf['coluna'] > 10] ```\n",
        "\n",
        "\n",
        "Exemplo 1: Criar o GeoDataFrame pop_menor_1M, com os estados brasileiros com população menor do que 1 milhão de habitantes em 2022:"
      ]
    },
    {
      "cell_type": "code",
      "execution_count": null,
      "id": "0a76611d",
      "metadata": {
        "id": "0a76611d"
      },
      "outputs": [],
      "source": [
        "consulta1 = gdf_uf_cp[gdf_uf_cp['Popul_2022'] < 1000000]\n",
        "consulta1.head()"
      ]
    },
    {
      "cell_type": "code",
      "execution_count": null,
      "id": "b17cc500",
      "metadata": {
        "id": "b17cc500"
      },
      "outputs": [],
      "source": [
        "consulta1.plot()"
      ]
    },
    {
      "cell_type": "markdown",
      "id": "8233288c",
      "metadata": {
        "id": "8233288c"
      },
      "source": [
        "Exemplo 2: Criar o GeoDataFrame pop_maior_20M, com os estados brasileiros cuja população era maior do que 20 milhões de habitantes em 2022:"
      ]
    },
    {
      "cell_type": "code",
      "execution_count": null,
      "id": "c6850260",
      "metadata": {
        "id": "c6850260"
      },
      "outputs": [],
      "source": [
        "consulta2 = gdf_uf_cp[gdf_uf_cp['Popul_2022'] > 20000000]\n",
        "consulta2.head()"
      ]
    },
    {
      "cell_type": "code",
      "execution_count": null,
      "id": "adbe23bb",
      "metadata": {
        "id": "adbe23bb"
      },
      "outputs": [],
      "source": [
        "consulta2.plot()"
      ]
    },
    {
      "cell_type": "markdown",
      "id": "9582926b",
      "metadata": {
        "id": "9582926b"
      },
      "source": [
        "<br><br>\n",
        "\n",
        "*Selecionar a partir de Múltiplas Condições*\n",
        "\n",
        "Para aplicar múltiplas condições, é importante entender como combiná-las corretamente. Você pode usar operadores lógicos como “&” (e), “|” (ou) e “ ~ ” (não) para combinar condições. Lembre-se de colocar cada condição entre parênteses.\n",
        "\n",
        "Exemplo: Selecionar os estados brasileiros com mais de 10 milhões de habitantes em 2022 e PIB de 2020 menor que R$ 500 bilhões."
      ]
    },
    {
      "cell_type": "code",
      "execution_count": null,
      "id": "d9df207c",
      "metadata": {
        "id": "d9df207c"
      },
      "outputs": [],
      "source": [
        "consulta3 = gdf_uf_cp[(gdf_uf_cp['Popul_2022'] > 10000000) & (gdf_uf_cp['PIB_2020'] < 500000)]\n",
        "consulta3.head()"
      ]
    },
    {
      "cell_type": "code",
      "execution_count": null,
      "id": "ce968381",
      "metadata": {
        "id": "ce968381"
      },
      "outputs": [],
      "source": [
        "consulta3.plot()"
      ]
    },
    {
      "cell_type": "markdown",
      "id": "00d88a60",
      "metadata": {
        "id": "00d88a60"
      },
      "source": [
        "#### 5.5.1.2 O Método query\n",
        "\n",
        "O método query permite escrever condições de seleção de forma mais legível, especialmente quando se lida com condições complexas. Por exemplo:"
      ]
    },
    {
      "cell_type": "code",
      "execution_count": null,
      "id": "fcd7d118",
      "metadata": {
        "id": "fcd7d118"
      },
      "outputs": [],
      "source": [
        "consulta4 = gdf_uf_cp.query('Popul_2022 > 10000000 & PIB_2020 < 500000')\n",
        "consulta4.head()"
      ]
    },
    {
      "cell_type": "code",
      "execution_count": null,
      "id": "df3aa20c",
      "metadata": {
        "id": "df3aa20c"
      },
      "outputs": [],
      "source": [
        "consulta4.plot()"
      ]
    },
    {
      "cell_type": "markdown",
      "id": "da889efe",
      "metadata": {
        "id": "da889efe"
      },
      "source": [
        "Vamos realizar algumas consultas utilizando o método query:\n",
        "\n",
        "\n",
        "*Utilizando o operador OR*\n",
        "\n",
        "Selecionar os estados com mais de 15 milhões de habitantes em 2022 “OU” PIB de 2020 menor que R$ 1,6 trilhões."
      ]
    },
    {
      "cell_type": "code",
      "execution_count": null,
      "id": "e5a846b0",
      "metadata": {
        "id": "e5a846b0"
      },
      "outputs": [],
      "source": [
        "consulta5 = gdf_uf_cp.query('Popul_2022 > 15000000 | PIB_2020 > 1600000')\n",
        "consulta5.head()"
      ]
    },
    {
      "cell_type": "code",
      "execution_count": null,
      "id": "f4386faa",
      "metadata": {
        "id": "f4386faa"
      },
      "outputs": [],
      "source": [
        "consulta5.plot()"
      ]
    },
    {
      "cell_type": "markdown",
      "id": "e674acbb",
      "metadata": {
        "id": "e674acbb"
      },
      "source": [
        "*Utilizando o operador NOT (~)*\n",
        "\n",
        "Selecionar os estados cuja população não era maior do que 1 milhão no censo de 2022:"
      ]
    },
    {
      "cell_type": "code",
      "execution_count": null,
      "id": "4b5b8ad0",
      "metadata": {
        "id": "4b5b8ad0"
      },
      "outputs": [],
      "source": [
        "consulta6 = gdf_uf_cp.query('~(Popul_2022 > 2000000)')\n",
        "consulta6.head()"
      ]
    },
    {
      "cell_type": "markdown",
      "id": "a756169c",
      "metadata": {
        "id": "a756169c"
      },
      "source": [
        "<br><br>\n",
        "\n",
        "\n",
        "#### 5.5.1.3 O método isin\n",
        "\n",
        "O método isin é útil para filtrar o DataFrame com base em uma lista de valores.\n",
        "\n",
        "Sintaxe básica:\n",
        "\n",
        "``` df[df['coluna'].isin(['valor1', 'valor2'])] ```\n",
        "\n",
        "Exemplo: Criar um GeoDataFrame com todos os estados que fazem parte das regiões Norte e Nordeste do Brasil, a partir do arquivo shapefile BR_UF."
      ]
    },
    {
      "cell_type": "code",
      "execution_count": null,
      "id": "322fb2ec",
      "metadata": {
        "id": "322fb2ec"
      },
      "outputs": [],
      "source": [
        "gdf_uf = gpd.read_file('/content/drive/MyDrive/files/cap5/f4/BR_UF.shp')\n",
        "norte_nordeste = gdf_uf[gdf_uf['NM_REGIAO'].isin(['Norte', 'Nordeste'])]\n",
        "print(norte_nordeste)"
      ]
    },
    {
      "cell_type": "code",
      "execution_count": null,
      "id": "675fefe4",
      "metadata": {
        "id": "675fefe4"
      },
      "outputs": [],
      "source": [
        "norte_nordeste.plot()"
      ]
    },
    {
      "cell_type": "markdown",
      "id": "52ca1ab3",
      "metadata": {
        "id": "52ca1ab3"
      },
      "source": [
        "<br><br>\n",
        "\n",
        "#### 5.5.1.4 Seleção por rótulos e por posição\n",
        "\n",
        "Na Pandas e na Geopandas, a seleção de dados pode ser feita de várias maneiras, sendo as mais comuns a seleção por rótulos, por posição e por um único valor específico. Vamos entender a diferença entre esses métodos e exemplificar a partir GeoDataFrame gdf_uf_cp.\n",
        "\n",
        "\n",
        "*Seleção por Rótulos (loc)*\n",
        "\n",
        "O método loc é usado principalmente para selecionar com base em rótulos (nomes) de linhas e colunas. Pode aceitar rótulos de índices de linha e rótulos de colunas para retornar um subconjunto do DataFrame. Para obter o valor da coluna \"A\" na linha com índice \"x\":\n",
        "\n",
        "```\n",
        "valor = gdf.loc['x', 'A']\n",
        "```\n",
        "\n",
        "Em que:\n",
        "\n",
        "- 'x': É o rótulo da linha que você deseja acessar. Neste caso, você está tentando acessar a linha cujo rótulo (ou índice) é 'x'.\n",
        "\n",
        "- 'A': É o rótulo da coluna que você deseja acessar. Neste caso, você está tentando acessar a coluna chamada 'A'.\n",
        "\n",
        "- O código ``` valor = df.loc['x', 'A'] ``` está pegando o dado registrado na linha com rótulo 'x' e na coluna com rótulo 'A' do DataFrame df e atribuindo esse dado à variável “valor”.\n",
        "<br><br>\n",
        "\n",
        "Vamos aplicar o loc em alguns exemplos em que queremos obter respostas no contexto dos estados do Brasil. Inicialmente, vamos alterar o índice referente as linhas para a coluna “SIGLA_UF”. Assim poderemos usar a sigla referente a cada estado nas consultas."
      ]
    },
    {
      "cell_type": "code",
      "execution_count": null,
      "id": "13f9352b",
      "metadata": {
        "id": "13f9352b"
      },
      "outputs": [],
      "source": [
        "gdf_uf_cp.set_index('SIGLA_UF', inplace=True)\n",
        "gdf_uf_cp.head()"
      ]
    },
    {
      "cell_type": "markdown",
      "id": "02e3cc07",
      "metadata": {
        "id": "02e3cc07"
      },
      "source": [
        "Consulta 1: Verificar a população em 2022 (Popul_2022) no estado da Paraíba:"
      ]
    },
    {
      "cell_type": "code",
      "execution_count": null,
      "id": "3f75bab3",
      "metadata": {
        "id": "3f75bab3"
      },
      "outputs": [],
      "source": [
        "gdf_uf_cp.loc['PB','Popul_2022']"
      ]
    },
    {
      "cell_type": "markdown",
      "id": "ae5ba52d",
      "metadata": {
        "id": "ae5ba52d"
      },
      "source": [
        "Consulta 2: Obter a geometria do estado da Paraíba:"
      ]
    },
    {
      "cell_type": "code",
      "execution_count": null,
      "id": "fb35b0d2",
      "metadata": {
        "id": "fb35b0d2"
      },
      "outputs": [],
      "source": [
        "gdf_uf_cp.loc['PB','geometry']"
      ]
    },
    {
      "cell_type": "markdown",
      "id": "0ea68f0a",
      "metadata": {
        "id": "0ea68f0a"
      },
      "source": [
        "Consulta 3: Obter os valores de PIB de 2020 (PIB_2020), População em 2000 (Popul_2000) e população em 2022 (Popul_2022) para o estado do Espírito Santo:"
      ]
    },
    {
      "cell_type": "code",
      "execution_count": null,
      "id": "1f15dc7a",
      "metadata": {
        "id": "1f15dc7a"
      },
      "outputs": [],
      "source": [
        "gdf_uf_cp.loc['ES',['UF', 'PIB_2020', 'Popul_2000', 'Popul_2022']]"
      ]
    },
    {
      "cell_type": "markdown",
      "id": "44a420b1",
      "metadata": {
        "id": "44a420b1"
      },
      "source": [
        "Consulta 4: Selecionar todas as linhas de colunas específicas:"
      ]
    },
    {
      "cell_type": "code",
      "execution_count": null,
      "id": "9940d9f1",
      "metadata": {
        "id": "9940d9f1"
      },
      "outputs": [],
      "source": [
        "gdf_uf_cp.loc[:, ['CD_UF', 'UF', 'PIB_2020', 'geometry']]"
      ]
    },
    {
      "cell_type": "markdown",
      "id": "d49e2ec9",
      "metadata": {
        "id": "d49e2ec9"
      },
      "source": [
        "Consulta 5: Selecionar colunas específicas em um intervalo de linhas. Nesta consulta, vamos acessar os registros entre os estados de Sergipe e Santa Catarina:"
      ]
    },
    {
      "cell_type": "code",
      "execution_count": null,
      "id": "530a61f0",
      "metadata": {
        "id": "530a61f0"
      },
      "outputs": [],
      "source": [
        "gdf_uf_cp.loc['SE':'SC',['UF', 'PIB_2020', 'Popul_2000', 'Popul_2022']]"
      ]
    },
    {
      "cell_type": "markdown",
      "id": "16c3d910",
      "metadata": {
        "id": "16c3d910"
      },
      "source": [
        "<br><br>\n",
        "\n",
        "*Seleção por Posição (iloc)*\n",
        "\n",
        "O método iloc é usado principalmente para seleção por posição inteira. Aceita somente valores inteiros que representam a posição do índice (linha) ou coluna.\n",
        "    \n",
        "Para exemplificar o iloc, inicialmente vamos resetar o índice do GeoDataFrame gpd_uf_cp para que ele fique indexado pela numeração original ao invés de SIGLA_UF:"
      ]
    },
    {
      "cell_type": "code",
      "execution_count": null,
      "id": "211802ae",
      "metadata": {
        "id": "211802ae"
      },
      "outputs": [],
      "source": [
        "gdf_uf_cp.reset_index(inplace=True)"
      ]
    },
    {
      "cell_type": "markdown",
      "id": "f6518fe7",
      "metadata": {
        "id": "f6518fe7"
      },
      "source": [
        "Consulta 1: Obter o valor da primeira coluna (posição 0) na primeira linha (posição 0)."
      ]
    },
    {
      "cell_type": "code",
      "execution_count": null,
      "id": "80927caa",
      "metadata": {
        "id": "80927caa"
      },
      "outputs": [],
      "source": [
        "gdf_uf_cp.iloc[0, 0]"
      ]
    },
    {
      "cell_type": "markdown",
      "id": "85c448ea",
      "metadata": {
        "id": "85c448ea"
      },
      "source": [
        "Verificando no GeoDataFrame original:\n",
        "\n",
        "![Figura 15](https://github.com/Alexandrogschafer/Programacao-Geoprocessamento/blob/gh-pages/notebooks/images/fig15.png?raw=1)\n",
        "\n",
        "\n",
        "\n",
        "Consulta 2: Obter os valores das duas primeiras colunas na primeira linha:"
      ]
    },
    {
      "cell_type": "code",
      "execution_count": null,
      "id": "1f325fef",
      "metadata": {
        "id": "1f325fef"
      },
      "outputs": [],
      "source": [
        "gdf_uf_cp.iloc[0, 0:2]"
      ]
    },
    {
      "cell_type": "markdown",
      "id": "05cec9f7",
      "metadata": {
        "id": "05cec9f7"
      },
      "source": [
        "Consulta 3: Obter a geometria referente a segunda linha (índice 1) do GeoDataFrame (lembrando que é a coluna geometry que está no índice 3 das colunas):"
      ]
    },
    {
      "cell_type": "code",
      "execution_count": null,
      "id": "b6090580",
      "metadata": {
        "id": "b6090580"
      },
      "outputs": [],
      "source": [
        "gdf_uf_cp.iloc[1, 3]"
      ]
    },
    {
      "cell_type": "markdown",
      "id": "948d3a10",
      "metadata": {
        "id": "948d3a10"
      },
      "source": [
        "<br><br>\n",
        "\n",
        "*Seleção de um Valor Específico (at)*\n",
        "\n",
        "O método at é semelhante ao loc, mas é usado para acessar um valor específico rapidamente. É mais rápido que loc quando você precisa acessar um único valor, mas não é adequado para selecionar múltiplos elementos.\n",
        "\n",
        "Para obter o valor da coluna \"A\" na linha com índice \"x\":\n",
        "\n",
        "```\n",
        "valor = gdf.at['x', 'A']\n",
        "```\n",
        "\n",
        "Vamos alterar novamente o índice do GeoDataFrame para “SIGLA_UF”:"
      ]
    },
    {
      "cell_type": "code",
      "execution_count": null,
      "id": "c8cbeeee",
      "metadata": {
        "id": "c8cbeeee"
      },
      "outputs": [],
      "source": [
        "gdf_uf_cp.set_index('SIGLA_UF', inplace=True)\n",
        "gdf_uf_cp.head()"
      ]
    },
    {
      "cell_type": "markdown",
      "id": "2b7bb83f",
      "metadata": {
        "id": "2b7bb83f"
      },
      "source": [
        "Consulta: Selecionar a geometria referente ao estado do Mato Grosso:"
      ]
    },
    {
      "cell_type": "code",
      "execution_count": null,
      "id": "0a953ff0",
      "metadata": {
        "id": "0a953ff0"
      },
      "outputs": [],
      "source": [
        "gdf_uf_cp.at['MT', 'geometry']"
      ]
    },
    {
      "cell_type": "markdown",
      "id": "ab0bc3a7",
      "metadata": {
        "id": "ab0bc3a7"
      },
      "source": [
        "<br><br>\n",
        "\n",
        "*Observações:*\n",
        "\n",
        "- Embora at seja mais rápido para acessar um único valor, em operações mais complexas ou ao trabalhar com slices/subconjuntos, loc e iloc são geralmente mais versáteis;\n",
        "\n",
        "- Sempre tenha cuidado ao usar loc e iloc para modificar valores, pois você pode alterar inadvertidamente seu DataFrame se não especificar corretamente a linha e a coluna;\n",
        "\n",
        "- Lembre-se de que, ao trabalhar com GeoDataFrame, a coluna \"geometry\" contém as geometrias espaciais (por exemplo, pontos, linhas ou polígonos), e você pode acessar ou modificar essas geometrias da mesma maneira que outras colunas usando loc, iloc e at.\n",
        "<br><br>\n",
        "\n",
        "*Seleção por Posição com iat:*\n",
        "\n",
        "O iat é um método rápido para acessar um valor escalar em um local específico em um DataFrame ou GeoDataFrame e é semelhante ao at. A principal diferença entre os dois é que iat é baseado em posições numéricas (como iloc), enquanto at é baseado em rótulos (como loc).\n",
        "\n",
        "Vamos novamente resetar o índice do GeoDataFrame:"
      ]
    },
    {
      "cell_type": "code",
      "execution_count": null,
      "id": "e9ccfb73",
      "metadata": {
        "id": "e9ccfb73"
      },
      "outputs": [],
      "source": [
        "gdf_uf_cp.reset_index(inplace=True)\n",
        "gdf_uf_cp.head()"
      ]
    },
    {
      "cell_type": "markdown",
      "id": "260308c3",
      "metadata": {
        "id": "260308c3"
      },
      "source": [
        "Consulta: Recuperar o registro que está armazenado na linha 23, coluna 3 do GeoDataFrame:"
      ]
    },
    {
      "cell_type": "code",
      "execution_count": null,
      "id": "b324c484",
      "metadata": {
        "id": "b324c484"
      },
      "outputs": [],
      "source": [
        "gdf_uf_cp.iat[23, 3]"
      ]
    },
    {
      "cell_type": "markdown",
      "id": "1ffeb7b7",
      "metadata": {
        "id": "1ffeb7b7"
      },
      "source": [
        "*Vantagens de usar iat:*\n",
        "\n",
        "- Velocidade: O iat é otimizado para ser rápido ao acessar um único valor, tornando-o mais eficiente que iloc quando você precisa apenas de um valor escalar;\n",
        "\n",
        "- Simplicidade: É um método conciso para obter um valor rapidamente quando você sabe a posição numérica da linha e da coluna.\n",
        "\n",
        "\n",
        "*Cuidados ao usar iat:*\n",
        "\n",
        "- Como iat é baseado em posições numéricas, é importante ter certeza de que você está referenciando a posição correta para evitar acessar dados errados;\n",
        "\n",
        "- Semelhante ao at, o iat é projetado para acessar um único valor de cada vez e não é adequado para operações que envolvem múltiplos valores ou slices.\n",
        "\n",
        "\n",
        "\n",
        "### 5.5.2 Seleção de subconjuntos via coordenadas: bounding box com notação slice.\n",
        "\n",
        "Selecionar subconjuntos de dados com base em coordenadas é uma prática comum na Geopandas, especialmente quando se trabalha com grandes conjuntos de dados geoespaciais e se deseja focar em uma área específica. Uma das maneiras mais fáceis de fazer isso é usando uma bounding box (retângulo envolvente) com a notação de slice do Python, através do indexador cx.\n",
        "\n",
        "Como vimos anteriormente, uma bounding box (caixa delimitadora) é geralmente representada por um retângulo definido por dois pontos: o canto inferior esquerdo e o canto superior direito. Em termos de coordenadas, você terá um par para o canto inferior esquerdo (mínimo de x, mínimo de y) e outro par para o canto superior direito (máximo de x, máximo de y):\n",
        "\n",
        "``` gdf.cx[min_x:min_y, max_x:max_y] ```\n",
        "\n",
        "Exemplo: Vamos supor que você tenha uma bounding box definida pelas coordenadas (-42, -12, -34, -2) (figura 16).\n",
        "\n",
        "![Figura 16](https://github.com/Alexandrogschafer/Programacao-Geoprocessamento/blob/gh-pages/notebooks/images/fig16.png?raw=1)\n",
        "\n",
        "Figura 16: Visualização da bounding box.\n",
        "\n",
        "\n",
        "Para selecionar o subconjunto do GeoDataFrame “gdf_uf_cp” referente a esse bounding box:"
      ]
    },
    {
      "cell_type": "code",
      "execution_count": null,
      "id": "bd676f7b",
      "metadata": {
        "id": "bd676f7b"
      },
      "outputs": [],
      "source": [
        "selecao = gdf_uf_cp.cx[-34:-42, -2:-12]\n",
        "selecao.plot()"
      ]
    },
    {
      "cell_type": "markdown",
      "id": "33e81f63",
      "metadata": {
        "id": "33e81f63"
      },
      "source": [
        "Lembre-se de garantir que o GeoDataFrame e a bounding box estejam no mesmo Sistema de Referência de Coordenadas (CRS) para obter resultados precisos. Se eles não estiverem, você precisará reprojetar o GeoDataFrame ou a bounding box para um CRS em comum antes de realizar a operação.\n",
        "\n",
        "\n",
        "## 5.6 Operações espaciais na Geopandas\n",
        "\n",
        "Uma operação espacial refere-se a um conjunto de procedimentos ou métodos aplicados a objetos geométricos que produzem novas informações geoespaciais ou novas geometrias com base nas propriedades e relações espaciais dos objetos originais. Estas operações são fundamentais em sistemas de informação geográfica (SIG) e análise espacial, permitindo a obtenção de insights, a transformação de dados e resolução de problemas específicos do domínio espacial.\n",
        "\n",
        "Na Geopandas, estas operações são facilitadas pela integração com outras bibliotecas, como Shapely, para a manipulação de geometrias, e Fiona para a leitura e a escrita de arquivos. Dentre as operações espaciais mais comuns na Geopandas, podemos destacar:\n",
        "\n",
        "- Operações Métricas;\n",
        "\n",
        "- Operações de Transformação;\n",
        "\n",
        "- Operações de Generalização;\n",
        "\n",
        "- Operações de Decomposição;\n",
        "\n",
        "- Operações entre múltiplos GeoDataframes.\n",
        "\n",
        "\n",
        "É importante ressaltar que a classificação mencionada acima pode variar de acordo com o contexto. Muitos métodos e funções na Geopandas podem se encaixar em múltiplas categorias de operações. Além disso, existem outras possíveis classificações e categorizações de operações que não serão abordadas em nosso curso.\n",
        "\n",
        "\n",
        "### 5.6.1 Operações métricas\n",
        "\n",
        "As operações métricas em geoprocessamento e análise espacial referem-se a cálculos que produzem valores baseados em propriedades espaciais, como distâncias, áreas e comprimentos. Algumas das operações métricas disponíveis na Geopandas são apresentadas no quadro 11.\n",
        "\n",
        "\n",
        "Quadro 11: Operações métricas na Geopandas.\n",
        "\n",
        "| Operação       | Definição                                                                                                                                           |\n",
        "|----------------|-----------------------------------------------------------------------------------------------------------------------------------------------------|\n",
        "| area           | Calcula a área de cada geometria em um GeoDataFrame ou GeoSeries.                                                                                   |\n",
        "| length         | Calcula o comprimento de cada geometria. Isso é particularmente relevante para linhas ou polilinhas.                                               |\n",
        "| centroid       | Calcula o ponto central (ou médio) de uma geometria.                                                                                                |\n",
        "| total_bounds   | Retorna uma tupla com as coordenadas (minx, miny, maxx, maxy) que formam o retângulo envolvente ao redor do conjunto total de geometrias em um GeoDataFrame ou GeoSeries. |\n",
        "| distance       | Calcula a distância mínima entre as geometrias de dois GeoDataFrames ou GeoSeries.                                                                  |\n",
        "<br><br>\n",
        "\n",
        "\n",
        "Vejamos alguns exemplos :\n",
        "<br><br>\n",
        "\n",
        "*Cálculo de área*\n",
        "\n",
        "Sintaxe básica:\n",
        "```\n",
        "area = gdf['geometry'].area\n",
        "```\n",
        "\n",
        "Exemplo: Calcular a área do estado de Santa Catarina, utilizando o shapefile BR_UF:\n",
        "\n",
        "Inicialmente vamos criar um GeoDataFrame a partir do arquivo shapefile, que tem os seguintes atributos:"
      ]
    },
    {
      "cell_type": "code",
      "execution_count": null,
      "id": "ea1edc3a",
      "metadata": {
        "id": "ea1edc3a"
      },
      "outputs": [],
      "source": [
        "gdf_uf=gpd.read_file('/content/drive/MyDrive/files/cap5/f4/BR_UF.shp')\n",
        "gdf_uf"
      ]
    },
    {
      "cell_type": "markdown",
      "id": "1c420f71",
      "metadata": {
        "id": "1c420f71"
      },
      "source": [
        "\n",
        "Em seguida, filtramos o estado de Santa Catarina e selecionamos as colunas 'NM_UF', 'SIGLA_UF' e 'geometry':"
      ]
    },
    {
      "cell_type": "code",
      "execution_count": null,
      "id": "9745a30d",
      "metadata": {
        "id": "9745a30d"
      },
      "outputs": [],
      "source": [
        "gdf_sc = gdf_uf[gdf_uf['NM_UF'] == 'Santa Catarina'][['NM_UF', 'SIGLA_UF', 'geometry']]\n",
        "gdf_sc"
      ]
    },
    {
      "cell_type": "markdown",
      "id": "73f5a2cf",
      "metadata": {
        "id": "73f5a2cf"
      },
      "source": [
        "Agora, o GeoDataFrame gdf_sc contém apenas as linhas onde NM_UF é \"Santa Catarina\" e apenas as colunas NM_UF, SIGLA_UF e geometry.\n",
        "Vamos verificar se o GeoDataFrame está em uma projeção apropriada para cálculos de área:"
      ]
    },
    {
      "cell_type": "code",
      "execution_count": null,
      "id": "5683c0d2",
      "metadata": {
        "id": "5683c0d2"
      },
      "outputs": [],
      "source": [
        "gdf_sc.crs"
      ]
    },
    {
      "cell_type": "markdown",
      "id": "6672643e",
      "metadata": {
        "id": "6672643e"
      },
      "source": [
        "O GeoDataFrame está em um sistema de coordenadas geográficas. Para calcular a área, o ideal é que ele esteja em um sistema de coordenadas UTM. Vamos reprojetá-lo para o EPSG 31982 (SIRGAS UTM 22S)."
      ]
    },
    {
      "cell_type": "code",
      "execution_count": null,
      "id": "9c51fcdd",
      "metadata": {
        "id": "9c51fcdd"
      },
      "outputs": [],
      "source": [
        "gdf_sc = gdf_sc.to_crs(epsg=31982)"
      ]
    },
    {
      "cell_type": "markdown",
      "id": "09183a5c",
      "metadata": {
        "id": "09183a5c"
      },
      "source": [
        "Por fim, calculamos a área (em km2) e inserimos como uma nova coluna no GeoDataFrame. Lembre-se que, como o sistema de projeção está em UTM, a área será calculada em m2. Para armazenar a área em km2 em nosso GeoDataFrame, vamos dividir por 100.000 (1e6):"
      ]
    },
    {
      "cell_type": "code",
      "execution_count": null,
      "id": "9e33c214",
      "metadata": {
        "id": "9e33c214"
      },
      "outputs": [],
      "source": [
        "gdf_sc['Area'] = gdf_sc['geometry'].area / 1e6\n",
        "gdf_sc"
      ]
    },
    {
      "cell_type": "markdown",
      "id": "c1e20b89",
      "metadata": {
        "id": "c1e20b89"
      },
      "source": [
        "<br><br>\n",
        "\n",
        "*Cálculo de comprimento*\n",
        "\n",
        "Sintaxe básica: ``` gdf['geometry'].length ```\n",
        "\n",
        "\n",
        "Exemplo: Determinar o comprimento dos rios Araguaia e Tocantins, criando uma coluna ‘comprimento_M’ e inserindo os valores calculados.\n",
        "Inicialmente criamos o GeoDataFrame e verificamos o sistema de coordenadas:"
      ]
    },
    {
      "cell_type": "code",
      "execution_count": null,
      "id": "06961c98",
      "metadata": {
        "id": "06961c98"
      },
      "outputs": [],
      "source": [
        "gdf_rio=gpd.read_file('/content/drive/MyDrive/files/cap5/f15/rios_arag_toc.shp')\n",
        "gdf_rio.head()"
      ]
    },
    {
      "cell_type": "code",
      "execution_count": null,
      "id": "cb74edf8",
      "metadata": {
        "id": "cb74edf8"
      },
      "outputs": [],
      "source": [
        "gdf_rio.plot()"
      ]
    },
    {
      "cell_type": "code",
      "execution_count": null,
      "id": "f12edbea",
      "metadata": {
        "id": "f12edbea"
      },
      "outputs": [],
      "source": [
        "gdf_rio.crs"
      ]
    },
    {
      "cell_type": "markdown",
      "id": "252686ec",
      "metadata": {
        "id": "252686ec"
      },
      "source": [
        "Em seguida, alteramos o nome da coluna ‘NORIOCOMP’ para ‘nome’ e deletamos a coluna ‘CORIO’:"
      ]
    },
    {
      "cell_type": "code",
      "execution_count": null,
      "id": "814e83b3",
      "metadata": {
        "id": "814e83b3"
      },
      "outputs": [],
      "source": [
        "gdf_rio = gdf_rio.rename(columns={'NORIOCOMP': 'nome'})\n",
        "gdf_rio = gdf_rio.drop(columns=['CORIO'])\n",
        "gdf_rio.head()"
      ]
    },
    {
      "cell_type": "markdown",
      "id": "1e92e65a",
      "metadata": {
        "id": "1e92e65a"
      },
      "source": [
        "Agora vamos reprojetar para o EPSG 31982 (SIRGAS UTM 22S):"
      ]
    },
    {
      "cell_type": "code",
      "execution_count": null,
      "id": "f78c309c",
      "metadata": {
        "id": "f78c309c"
      },
      "outputs": [],
      "source": [
        "gdf_rio = gdf_rio.to_crs(epsg=31982)"
      ]
    },
    {
      "cell_type": "markdown",
      "id": "b3ea19f1",
      "metadata": {
        "id": "b3ea19f1"
      },
      "source": [
        "Por fim, calculamos o comprimento (em km) e inserimos os valores como uma nova coluna:"
      ]
    },
    {
      "cell_type": "code",
      "execution_count": null,
      "id": "c593e84b",
      "metadata": {
        "id": "c593e84b"
      },
      "outputs": [],
      "source": [
        "gdf_rio['Comprimento_km'] = gdf_rio['geometry'].length / 1e3\n",
        "gdf_rio.head()"
      ]
    },
    {
      "cell_type": "markdown",
      "id": "c60a9fa7",
      "metadata": {
        "id": "c60a9fa7"
      },
      "source": [
        "<br><br>\n",
        "\n",
        "*Cálculo do centroide*\n",
        "\n",
        "Sintaxe básica:\n",
        "\n",
        "```\n",
        "centroides = gdf['geometry'].centroid\n",
        "```\n",
        "\n",
        "Exemplo: Determinar os centroides dos estados do Brasil."
      ]
    },
    {
      "cell_type": "code",
      "execution_count": null,
      "id": "f6c5e929",
      "metadata": {
        "id": "f6c5e929"
      },
      "outputs": [],
      "source": [
        "gdf_uf['centroid'] = gdf_uf['geometry'].centroid"
      ]
    },
    {
      "cell_type": "markdown",
      "id": "cf498544",
      "metadata": {
        "id": "cf498544"
      },
      "source": [
        "*Observação:*\n",
        "\n",
        "Quando você calcula o centroide em um CRS geográfico, o resultado será expresso em coordenadas de latitude e longitude. Esse centroide representa o \"centro médio\" das coordenadas da geometria. Ele provavelmente não será tão preciso quanto em um CRS projetado, especialmente para grandes áreas ou formas irregulares. Isso ocorre porque a distância entre graus de longitude varia com a latitude, e a superfície da Terra não é plana.\n",
        "\n",
        "Sendo assim, calcular o centroide em um CRS geográfico pode ser suficiente, especialmente se uma grande precisão não for necessária. No entanto, se você precisar de maior precisão, especialmente para grandes áreas, pode ser aconselhável transformar o GeoDataFrame para um CRS projetado antes de calcular o centroide.\n",
        "<br><br>\n",
        "\n",
        "*Cálculo de distâncias*\n",
        "\n",
        "A função 'distance' na Geopandas é usada para calcular a distância entre geometrias. Ela é aplicada a uma geometria e requer outra geometria como argumento para calcular a distância entre elas. A distância é calculada entre os pontos mais próximos das duas geometrias.\n",
        "\n",
        "Exemplo: Calcular a distância (a menor distância) entre: a) Brasília e Palmas; b) Belém e Porto Alegre; c) Florianópolis e Goiânia.\n",
        "A figura 17 destaca as capitais dos estados brasileiros que estão localizadas no fuso 22UTM (Optamos por selecionar apenas capitais que estão sob um mesmo fuso visando facilitar a demonstração da ferramenta).\n",
        "\n",
        "![Figura 17](https://github.com/Alexandrogschafer/Programacao-Geoprocessamento/blob/gh-pages/notebooks/images/fig17.png?raw=1)\n",
        "\n",
        "Figura 17: Capitais dos estados brasileiros no sufo UTM 22S.\n",
        "\n",
        "Inicialmente, vamos ler o shapefile e criar o GeoDataFrame:"
      ]
    },
    {
      "cell_type": "code",
      "execution_count": null,
      "id": "8613e9ed",
      "metadata": {
        "id": "8613e9ed"
      },
      "outputs": [],
      "source": [
        "gdf_cap = gpd.read_file('/content/drive/MyDrive/files/cap5/f16/capitais_UTM22.shp')\n",
        "gdf.head()"
      ]
    },
    {
      "cell_type": "code",
      "execution_count": null,
      "id": "feccfc65",
      "metadata": {
        "id": "feccfc65"
      },
      "outputs": [],
      "source": [
        "gdf.plot()"
      ]
    },
    {
      "cell_type": "markdown",
      "id": "e51034ae",
      "metadata": {
        "id": "e51034ae"
      },
      "source": [
        "Como o GeoDataFrame está em coordenadas geográficas, vamos reprojetá-lo para o EPSG 31982:"
      ]
    },
    {
      "cell_type": "code",
      "execution_count": null,
      "id": "53b1cc1b",
      "metadata": {
        "id": "53b1cc1b"
      },
      "outputs": [],
      "source": [
        "gdf_cap = gdf_cap.to_crs(epsg=31982)"
      ]
    },
    {
      "cell_type": "markdown",
      "id": "eefa33df",
      "metadata": {
        "id": "eefa33df"
      },
      "source": [
        "Podemos verificar a mudança das coordenadas da coluna ‘geometry’.\n",
        "\n",
        "Por fim, calculamos a distância entre capitais. Para tanto, vamos utilizar a seguinte sintaxe:\n",
        "\n",
        "```\n",
        "distancia = (gdf['geometry'].iloc[capA]).distance(gdf['geometry'].iloc[capB])\n",
        "```\n",
        "\n",
        "No código acima, ``` iloc[capA] e iloc[capB] ``` são as posições dos índices no GeoDataFrame das capitais que se está consultando. Por exemplo, a posição do índice de Brasilia é zero ``` (iloc[0]) ``` e a de Palmas é seis ``` (iloc[6]). ```\n",
        "\n",
        "- Distância entre Brasília e Palmas"
      ]
    },
    {
      "cell_type": "code",
      "execution_count": null,
      "id": "5dee84a5",
      "metadata": {
        "id": "5dee84a5"
      },
      "outputs": [],
      "source": [
        "distancia = (gdf_cap['geometry'].iloc[0]).distance(gdf_cap['geometry'].iloc[6])/1e3\n",
        "distancia"
      ]
    },
    {
      "cell_type": "markdown",
      "id": "64a87cb8",
      "metadata": {
        "id": "64a87cb8"
      },
      "source": [
        "- Distância entre Belém e Porto Alegre"
      ]
    },
    {
      "cell_type": "code",
      "execution_count": null,
      "id": "8c30d2d1",
      "metadata": {
        "id": "8c30d2d1"
      },
      "outputs": [],
      "source": [
        "distancia = (gdf_cap['geometry'].iloc[2]).distance(gdf_cap['geometry'].iloc[4])/1e3\n",
        "distancia"
      ]
    },
    {
      "cell_type": "markdown",
      "id": "9cd9ada3",
      "metadata": {
        "id": "9cd9ada3"
      },
      "source": [
        "- Distância entre Goiás e Florianópolis"
      ]
    },
    {
      "cell_type": "code",
      "execution_count": null,
      "id": "372664ef",
      "metadata": {
        "id": "372664ef"
      },
      "outputs": [],
      "source": [
        "distancia = (gdf_cap['geometry'].iloc[1]).distance(gdf_cap['geometry'].iloc[5])/1e3\n",
        "distancia"
      ]
    },
    {
      "cell_type": "markdown",
      "id": "78cc7b86",
      "metadata": {
        "id": "78cc7b86"
      },
      "source": [
        "<br><br>\n",
        "\n",
        "\n",
        "*Total_bounds*\n",
        "\n",
        "O método *total_bounds* na Geopandas retorna uma tupla contendo as coordenadas do retângulo envolvente para todas as geometrias em um GeoSeries ou GeoDataFrame.\n",
        "\n",
        "A tupla que retorna tem a seguinte estrutura: ``` (minx, miny, maxx, maxy) ```\n",
        "\n",
        "Em que:\n",
        "\n",
        "minx e miny: São as coordenadas x e y do canto inferior esquerdo do retângulo delimitador;\n",
        "\n",
        "maxx e maxy: São as coordenadas x e y do canto superior direito do retângulo delimitador.\n",
        "\n",
        "\n",
        "Exemplo: verificar os limites do GeoDataFrame contendo a geometria do estado do Amazonas (DataFrame gdf_am):"
      ]
    },
    {
      "cell_type": "code",
      "execution_count": null,
      "id": "2b44dc81",
      "metadata": {
        "id": "2b44dc81"
      },
      "outputs": [],
      "source": [
        "gdf_am = gdf_uf[gdf_uf['SIGLA_UF'] == 'AM']\n",
        "limites = gdf_am['geometry'].total_bounds\n",
        "limites"
      ]
    },
    {
      "cell_type": "markdown",
      "id": "151112a5",
      "metadata": {
        "id": "151112a5"
      },
      "source": [
        "\n",
        "\n",
        "### 5.6.2 Operações de transformação\n",
        "\n",
        "Operações de transformação em geoprocessamento referem-se a métodos que alteram a posição, orientação, tamanho ou forma das geometrias, mas não necessariamente sua natureza intrínseca. Algumas das principais operações de transformação disponíveis na Geopandas estão no quadro 12.\n",
        "\n",
        "Quadro 12: Operações de transformação na Geopandas.\n",
        "\n",
        "| Operação          | Definição                                                                                   | Exemplo de Sintaxe                              |\n",
        "|-------------------|---------------------------------------------------------------------------------------------|-------------------------------------------------|\n",
        "| to_crs (reprojeção) | Altera o sistema de coordenadas das geometrias em um GeoDataFrame ou GeoSeries.             | ``` gdf.to_crs(epsg=4326) ```                         |\n",
        "| rotate            | Rotaciona as geometrias por um ângulo determinado.                                           | ``` gdf.rotate(45) ```                               |\n",
        "| scale             | Redimensiona as geometrias multiplicando suas coordenadas por fatores de escala definidos.  | ``` gdf.scale(xfact=2.0, yfact=2.0) ```              |\n",
        "| translate         | Desloca as geometrias por uma quantidade definida em X e/ou Y.                               | ``` gdf.translate(xoff=10, yoff=20)```               |\n",
        "| affine_transform  | Aplica uma transformação afim às geometrias com base em uma matriz de transformação definida. | ``` gdf.affine_transform(matrix)```                  |\n",
        "| simplify          | Simplifica as geometrias, reduzindo o número de vértices, baseado no algoritmo Douglas-Peucker. | ``` gdf.simplify(tolerance=0.01) ```                  |\n",
        "\n",
        "\n",
        "\n",
        "### 5.6.3 Operações de generalização\n",
        "\n",
        "Generalização, no contexto da análise geoespacial, refere-se ao processo de simplificar representações geométricas, a fim de torná-las mais manejáveis, reduzir a complexidade, ou apresentar os dados em uma escala menor ou em um nível de detalhe mais amplo. As operações de generalização são especialmente úteis para visualização e otimização de desempenho. Algumas das principais operações de generalização disponíveis na Geopandas estão no quadro 13.\n",
        "\n",
        "Quadro 13: Operações de generalização na Geopandas.\n",
        "\n",
        "| Operação    | Definição                                                                                                                                                               | Exemplo de Sintaxe                         |\n",
        "|-------------|-------------------------------------------------------------------------------------------------------------------------------------------------------------------------|--------------------------------------------|\n",
        "| Convex_hull | Calcula o menor polígono convexo (envoltória convexa) que pode conter a geometria.                                                                                      | ``` gdf.convex_hull ```                          |\n",
        "| envelope    | Produz uma caixa delimitadora retangular mínima para cada geometria.                                                                                                    | ``` gdf.envelope ```                             |\n",
        "| dissolve    | Combina várias geometrias em uma com base em uma coluna comum. Esta operação pode ser vista como uma forma de generalização porque pode consolidar várias entidades menores em uma única entidade maior. | ``` gdf.dissolve(by='column_name') ```           |\n",
        "| simplify    | Usa o algoritmo Douglas-Peucker (ou Visvalingam, se especificado) para simplificar as geometrias, reduzindo o número de vértices.                                       | ``` gdf.simplify(tolerance=0.01) ```             |\n",
        "\n",
        "\n",
        "Vamos aplicar o método dissolve no GeoDataFrame dos estados brasileiros, agregando os dados do censo de 2000, 2010 e 2022. Cada estado tem um nome, uma geometria e pertence a um país (no caso, o Brasil)."
      ]
    },
    {
      "cell_type": "code",
      "execution_count": null,
      "id": "8bd3f3bb",
      "metadata": {
        "id": "8bd3f3bb"
      },
      "outputs": [],
      "source": [
        "gdf_uf_cp.plot()"
      ]
    },
    {
      "cell_type": "markdown",
      "id": "406a8f8b",
      "metadata": {
        "id": "406a8f8b"
      },
      "source": [
        "Para aplicar o método dissolve, precisamos de uma coluna com dados em comum para todos os registros (no caso, os estados). Com não temos essa coluna, vamos inserir uma coluna ‘pais’, com o valor default ‘br’."
      ]
    },
    {
      "cell_type": "code",
      "execution_count": null,
      "id": "7c4639e1",
      "metadata": {
        "id": "7c4639e1"
      },
      "outputs": [],
      "source": [
        "gdf_uf_cp['pais'] = 'br'\n",
        "gdf_uf_cp.head()"
      ]
    },
    {
      "cell_type": "markdown",
      "id": "f69ed7a2",
      "metadata": {
        "id": "f69ed7a2"
      },
      "source": [
        "Agora que temos a coluna com um valor em comum para todos os estados podemos aplicar a função dissolve."
      ]
    },
    {
      "cell_type": "code",
      "execution_count": null,
      "id": "14dd7169",
      "metadata": {
        "id": "14dd7169"
      },
      "outputs": [],
      "source": [
        "gdf_br = gdf_uf_cp.dissolve(by='pais')\n",
        "gdf_br.head()"
      ]
    },
    {
      "cell_type": "markdown",
      "id": "68a0365f",
      "metadata": {
        "id": "68a0365f"
      },
      "source": [
        "A figura abaixo mostra a geometria após a aplicação do método dissolve."
      ]
    },
    {
      "cell_type": "code",
      "execution_count": null,
      "id": "81cfc2eb",
      "metadata": {
        "id": "81cfc2eb"
      },
      "outputs": [],
      "source": [
        "gdf_br.plot()"
      ]
    },
    {
      "cell_type": "markdown",
      "id": "ddeed994",
      "metadata": {
        "id": "ddeed994"
      },
      "source": [
        "O resultado da operação dissolve terá a coluna usada para dissolver como índice. No exemplo acima, país se torna o índice do gdf_br. Se você não quiser que a coluna de dissolução se torne o índice, pode resetar o índice usando reset_index().\n",
        "\n",
        "Podemos verificar que, embora a geometria tenha sido dissolvida, do ponto de vista dos atributos no GeoDataFrame, a operação eliminou os dados de todos os estados, deixando apenas os dados do primeiro registro, que era o estado do ACRE.\n",
        "\n",
        "Além de combinar geometrias, a função dissolve também pode agregar dados associados a essas geometrias. Por padrão, todas as colunas (exceto a coluna usada para dissolver) tem seus valores agregados usando a função first, o que significa que apenas o primeiro valor encontrado é usado. No entanto, você pode especificar outras funções de agregação, como sum, mean, etc., para colunas específicas.\n",
        "\n",
        "Para fazer com que a primeira linha contenha a soma das populações em todos os estados, para os anos de 2000, 2010 e 2022, além do PIB de 2020:"
      ]
    },
    {
      "cell_type": "code",
      "execution_count": null,
      "id": "20437c57",
      "metadata": {
        "id": "20437c57"
      },
      "outputs": [],
      "source": [
        "gdf_br2 = gdf_uf_cp.dissolve(by='pais', aggfunc={\n",
        "    'Popul_2000': 'sum',\n",
        "    'Popul_2010': 'sum',\n",
        "    'Popul_2022': 'sum',\n",
        "    'PIB_2020': 'sum'\n",
        "    })\n",
        "gdf_br2.head()"
      ]
    },
    {
      "cell_type": "markdown",
      "id": "ae50988c",
      "metadata": {
        "id": "ae50988c"
      },
      "source": [
        "### 5.6.4 Operações de decomposição\n",
        "\n",
        "Operações de decomposição, no contexto geoespacial, envolvem a quebra ou separação de geometrias complexas em componentes mais simples ou partes constituintes. Algumas das principais operações de decomposição disponíveis na Geopandas estão no quadro 14.\n",
        "\n",
        "Quadro 14: Operações de decomposição na Geopandas.\n",
        "\n",
        "| Operação                                  | Definição                                                                                                                                                                      |\n",
        "|-------------------------------------------|---------------------------------------------------------------------------------------------------------------------------------------------------------------------------------|\n",
        "| boundary                                  | Retorna uma representação das linhas externas de uma geometria. Por exemplo, para polígonos, isso resultará em linhas; para linhas, isso resultará em pontos nas extremidades. |\n",
        "| explode                                   | Separa geometrias em suas múltiplas partes constituintes. Por exemplo, um Multipolygon será decomposto em vários polígonos individuais.                                         |\n",
        "| geometry (quando acessando componentes individuais) | Por exemplo, para uma Linestring, você pode acessar pontos individuais ou para um Polygon, você pode acessar seus anéis externo e interno.                                     |\n",
        "\n",
        "\n",
        "\n",
        "*Boundary*\n",
        "\n",
        "O método boundary retorna uma representação geométrica das linhas de borda de uma geometria. Para um polígono, isso resultará em uma Linestring (ou Multilinestring para polígonos com furos) que representa o contorno do polígono. Ele não fornece uma medida, mas sim uma representação geométrica.\n",
        "\n",
        "Sintaxe básica: ``` contornos = gdf['geometry'].boundary ```\n",
        "\n",
        "Exemplo: gerar a geometria de contorno do estado de Santa Catarina:"
      ]
    },
    {
      "cell_type": "code",
      "execution_count": null,
      "id": "44022511",
      "metadata": {
        "id": "44022511"
      },
      "outputs": [],
      "source": [
        "contorno_sc = gdf_sc['geometry'].boundary\n",
        "contorno_sc.plot()"
      ]
    },
    {
      "cell_type": "markdown",
      "id": "ec5813f8",
      "metadata": {
        "id": "ec5813f8"
      },
      "source": [
        "### 5.6.5 Operações entre multiplos geodataframes\n",
        "\n",
        "As operações entre múltiplos GeoDataFrames são uma parte crucial da análise geoespacial. Em muitos contextos, os dados geográficos são distribuídos em diferentes conjuntos ou fontes, e a capacidade de integrar, comparar ou realizar operações conjuntas entre esses conjuntos é fundamental. Como vimos, um GeoDataFrame é uma estrutura de dados que contém dados espaciais ou geográficos, como pontos, linhas e polígonos, juntamente com atributos.\n",
        "\n",
        "Quando se trabalha com múltiplos GeoDataFrames, pode-se realizar uma série de operações, como união, interseção e diferença. Estas operações permitem combinar dados de diferentes fontes, identificar sobreposições ou discrepâncias entre conjuntos de dados e derivar novos insights ou conjuntos de dados a partir da combinação de dados existentes. Ao longo deste tópico, exploraremos possibilidades e técnicas para efetuar operações entre múltiplos GeoDataFrames.\n",
        "\n",
        "\n",
        "#### 5.6.5.1 Cortando Geometrias com a ferramenta Clip\n",
        "\n",
        "No contexto do geoprocessamento, o recorte é uma operação que permite extrair uma porção de uma geometria com base em outra. Esta técnica é corriqueira em análises espaciais onde é necessário isolar áreas específicas de interesse dentro de um conjunto de dados maior.\n",
        "\n",
        "Ao realizar um recorte, obtém-se uma nova geometria que representa exatamente a área de intersecção entre as duas geometrias originais. No Python, a ferramenta clip é usada para realizar essa operação.\n",
        "\n",
        "Exemplo: Gerar um GeoDataFrame com as rodovias de jurisdição federal no estado do Rio Grande do Sul.\n",
        "\n",
        "Etapa 1. Importação da Geopandas, leitura dos arquivos shapefile e plotagem das rodovias federais do Brasil:"
      ]
    },
    {
      "cell_type": "code",
      "execution_count": null,
      "id": "5fcab00f",
      "metadata": {
        "id": "5fcab00f"
      },
      "outputs": [],
      "source": [
        "gdf_rodo = gpd.read_file('/content/drive/MyDrive/files/cap5/f17/rodovias_BR.shp')\n",
        "gdf_uf = gpd.read_file('/content/drive/MyDrive/files/cap5/f4/BR_UF.shp')\n",
        "gdf_rodo.plot()"
      ]
    },
    {
      "cell_type": "markdown",
      "id": "2b47250c",
      "metadata": {
        "id": "2b47250c"
      },
      "source": [
        "Etapa 2. Filtragem do estado desejado:"
      ]
    },
    {
      "cell_type": "code",
      "execution_count": null,
      "id": "7a991d87",
      "metadata": {
        "id": "7a991d87"
      },
      "outputs": [],
      "source": [
        "gdf_RS = gdf_uf[gdf_uf['SIGLA_UF'] == 'RS']\n",
        "gdf_RS.plot()"
      ]
    },
    {
      "cell_type": "markdown",
      "id": "8d3f7d03",
      "metadata": {
        "id": "8d3f7d03"
      },
      "source": [
        "Etapa 3. Verificação e Ajuste de CRS:"
      ]
    },
    {
      "cell_type": "code",
      "execution_count": null,
      "id": "5fe914ff",
      "metadata": {
        "id": "5fe914ff"
      },
      "outputs": [],
      "source": [
        "if gdf_rodo.crs != gdf_RS.crs:\n",
        "    gdf_rodo = gdf_rodo.to_crs(gdf_RS.crs)"
      ]
    },
    {
      "cell_type": "markdown",
      "id": "fe6f1294",
      "metadata": {
        "id": "fe6f1294"
      },
      "source": [
        "Etapa 4. Recortar a geometria:"
      ]
    },
    {
      "cell_type": "code",
      "execution_count": null,
      "id": "5a9aecc5",
      "metadata": {
        "id": "5a9aecc5"
      },
      "outputs": [],
      "source": [
        "rodovias_rs = gpd.clip(gdf_rodo, gdf_RS)"
      ]
    },
    {
      "cell_type": "markdown",
      "id": "dfe052ea",
      "metadata": {
        "id": "dfe052ea"
      },
      "source": [
        "A função clip da Geopandas é usada para recortar as rodovias usando a geometria do Rio Grande do Sul. O resultado é um novo GeoDataFrame, rodovias_rs, que contém apenas as rodovias de jurisdição federal (ou partes delas) localizadas dentro dos limites geográficos do RS.\n",
        "\n",
        "Etapa 5. Visualização:"
      ]
    },
    {
      "cell_type": "code",
      "execution_count": null,
      "id": "ac1326a7",
      "metadata": {
        "id": "ac1326a7"
      },
      "outputs": [],
      "source": [
        "ax = gdf_RS.plot(color='green', alpha=0.5)\n",
        "rodovias_rs.plot(ax=ax, color='red', alpha=0.5)"
      ]
    },
    {
      "cell_type": "markdown",
      "id": "a570fa96",
      "metadata": {
        "id": "a570fa96"
      },
      "source": [
        "#### 5.6.5.2 Predicados Espaciais: Uma Introdução\n",
        "\n",
        "Predicados espaciais, também chamado de relações espaciais, são operadores que definem e descrevem relações entre objetos geométricos. No contexto da análise geoespacial, \"predicado espacial\" refere-se a uma função booleana que descreve uma relação entre duas geometrias. Retornam True ou False com base na relação espacial entre as geometrias.\n",
        "\n",
        "Estes predicados são definidos pelo padrão \"Simple Features\" do Open Geospatial Consortium (OGC). O padrão estabelece uma linguagem comum e um conjunto de operações para manipulação e consulta de dados geométricos.\n",
        "\n",
        "As bibliotecas geoespaciais, como shapely e Geopandas, implementam esses predicados espaciais, possibilitando a realização de consultas e análises espaciais complexas de maneira eficiente e intuitiva. Ao compreender e aplicar corretamente esses predicados, é possível extrair informações significativas de conjuntos de dados geoespaciais. Algumas das relações mais comuns descritas por predicados espaciais são apresentadas no quadro 15.\n",
        "\n",
        "Quadro 15: Predicados espaciais.\n",
        "\n",
        "| Predicado Espacial | Conceito                                                                                   |\n",
        "|--------------------|--------------------------------------------------------------------------------------------|\n",
        "| contains           | Verifica se uma geometria contém completamente a outra.                                   |\n",
        "| within             | Oposto de contains. Verifica se uma geometria está completamente dentro de outra.         |\n",
        "| touches            | Verifica se duas geometrias têm, pelo menos, um ponto em comum, mas suas áreas não se sobrepõem. |\n",
        "| crosses            | Verifica se duas geometrias têm alguma, mas não toda, área em comum.                       |\n",
        "| intersects         | Verifica se duas geometrias têm algum ponto em comum.                                     |\n",
        "| disjoint           | Verifica se duas geometrias não têm pontos em comum.                                      |\n",
        "<br><br>\n",
        "\n",
        "*Método contains*\n",
        "\n",
        "Sintaxe básica: ``` geometria1.contains(geometria2) ```\n",
        "\n",
        "Exemplo: Verificar qual estado brasileiro contém o ponto referente a capital Cuiabá (figura 18). Para tanto, vamos utilizar dois GeoDataFrames, um com os polígonos referentes aos estados brasileiros e outro com os pontos referentes as suas capitais.\n",
        "\n",
        "![Figura 18](https://github.com/Alexandrogschafer/Programacao-Geoprocessamento/blob/gh-pages/notebooks/images/fig18.png?raw=1)\n",
        "\n",
        "Figura 18: Seleção do município de Cuiabá-MT.\n",
        "<br><br>\n",
        "\n",
        "Inicialmente, vamos filtrar o GeoDataFrame 'gdf_cap' para encontrar a linha que tem 'Cuiabá' como capital:"
      ]
    },
    {
      "cell_type": "code",
      "execution_count": null,
      "id": "2a5f2c61",
      "metadata": {
        "id": "2a5f2c61"
      },
      "outputs": [],
      "source": [
        "gdf_cap = gpd.read_file('/content/drive/MyDrive/files/cap5/f5/capitais_br.geojson')\n",
        "filtro_cuiaba = gdf_cap['capital'] == 'Cuiabá'\n",
        "gdf_cuiaba = gdf_cap[filtro_cuiaba]"
      ]
    },
    {
      "cell_type": "markdown",
      "id": "914bfc51",
      "metadata": {
        "id": "914bfc51"
      },
      "source": [
        "Em seguida, selecionamos a coluna 'geometry' desse GeoDataFrame filtrado:"
      ]
    },
    {
      "cell_type": "code",
      "execution_count": null,
      "id": "73ee9a30",
      "metadata": {
        "id": "73ee9a30"
      },
      "outputs": [],
      "source": [
        "geometria_cuiaba = gdf_cuiaba['geometry']"
      ]
    },
    {
      "cell_type": "markdown",
      "id": "d178822b",
      "metadata": {
        "id": "d178822b"
      },
      "source": [
        "Como sabemos que só existe uma capital chamada 'Cuiabá', pegamos o primeiro (e único) item dessa coluna:"
      ]
    },
    {
      "cell_type": "code",
      "execution_count": null,
      "id": "611498e4",
      "metadata": {
        "id": "611498e4"
      },
      "outputs": [],
      "source": [
        "ponto_cuiaba = geometria_cuiaba.iloc[0]"
      ]
    },
    {
      "cell_type": "markdown",
      "id": "37b022ca",
      "metadata": {
        "id": "37b022ca"
      },
      "source": [
        "Agora, a variável 'ponto_cuiaba' contém as informações de latitude e longitude da capital Cuiabá. Por fim, utilizamos o método contains para verificar qual polígono contêm esse ponto:"
      ]
    },
    {
      "cell_type": "code",
      "execution_count": null,
      "id": "8d1d42df",
      "metadata": {
        "id": "8d1d42df"
      },
      "outputs": [],
      "source": [
        "estado = gdf_uf[gdf_uf['geometry'].contains(ponto_cuiaba)]\n",
        "estado"
      ]
    },
    {
      "cell_type": "code",
      "execution_count": null,
      "id": "970b36ec",
      "metadata": {
        "id": "970b36ec"
      },
      "outputs": [],
      "source": [
        "estado.plot()"
      ]
    },
    {
      "cell_type": "markdown",
      "id": "77b53fd4",
      "metadata": {
        "id": "77b53fd4"
      },
      "source": [
        "*Método within*\n",
        "\n",
        "Sintaxe básica:\n",
        "```\n",
        "geometria1.within(geometria2)\n",
        "```\n",
        "\n",
        "Exemplo: Determinar quais pontos referentes às capitais dos estados brasileiros estão dentro do polígono referente ao estado de Roraima.\n",
        "\n",
        "![Figura 19](https://github.com/Alexandrogschafer/Programacao-Geoprocessamento/blob/gh-pages/notebooks/images/fig19.png?raw=1)\n",
        "\n",
        "Figura 19: Seleção da geometria referente ao estado de Roraima.\n",
        "<br><br>\n",
        "\n",
        "Inicialmente, vamos ler o arquivo shapefile, criar um GeoDataFrame e filtrar apenas as linhas em que 'NM_UF' é 'Roraima':"
      ]
    },
    {
      "cell_type": "code",
      "execution_count": null,
      "id": "9bd07382",
      "metadata": {
        "id": "9bd07382"
      },
      "outputs": [],
      "source": [
        "gdf_uf = gpd.read_file('/content/drive/MyDrive/files/cap5/f4/BR_UF.shp')\n",
        "filtro_roraima = gdf_uf['NM_UF'] == 'Roraima'\n",
        "gdf_roraima = gdf_uf[filtro_roraima]"
      ]
    },
    {
      "cell_type": "markdown",
      "id": "60269424",
      "metadata": {
        "id": "60269424"
      },
      "source": [
        "Isso nos dará um novo GeoDataFrame com todos os atributos referentes ao estado de Roraima.\n",
        "\n",
        "\n",
        "A partir do GeoDataFrame filtrado, selecionamos a coluna 'geometry':"
      ]
    },
    {
      "cell_type": "code",
      "execution_count": null,
      "id": "19d2d83b",
      "metadata": {
        "id": "19d2d83b"
      },
      "outputs": [],
      "source": [
        "geometrias_roraima = gdf_roraima['geometry']\n",
        "geometrias_roraima.plot()"
      ]
    },
    {
      "cell_type": "markdown",
      "id": "ff7eeebe",
      "metadata": {
        "id": "ff7eeebe"
      },
      "source": [
        "Essa operação resultará em uma Series com a geometria. Como temos apenas uma linha para Roraima, a Series terá apenas um item:\n",
        "\n",
        "\n",
        "Vamos selecionar o primeiro (e único) item da série de geometrias:"
      ]
    },
    {
      "cell_type": "code",
      "execution_count": null,
      "id": "feac0495",
      "metadata": {
        "id": "feac0495"
      },
      "outputs": [],
      "source": [
        "poligono_roraima = geometrias_roraima.iloc[0]\n",
        "poligono_roraima"
      ]
    },
    {
      "cell_type": "markdown",
      "id": "100fb529",
      "metadata": {
        "id": "100fb529"
      },
      "source": [
        "Agora, a variável poligono_roraima contém o polígono do estado de Roraima. Para verificar quais pontos referentes as capitais dos estados brasileiros estão dentro do polígono de Roraima, vamos utilizar o método within da Geopandas:"
      ]
    },
    {
      "cell_type": "code",
      "execution_count": null,
      "id": "144b09ba",
      "metadata": {
        "id": "144b09ba"
      },
      "outputs": [],
      "source": [
        "capital_rr = gdf_cap[gdf_cap['geometry'].within(poligono_roraima)]"
      ]
    },
    {
      "cell_type": "markdown",
      "id": "d4de76a6",
      "metadata": {
        "id": "d4de76a6"
      },
      "source": [
        "O resultado, capital_rr, é um GeoDataFrame contendo todos os registros de gdf_cap que estão dentro do polígono de Roraima:"
      ]
    },
    {
      "cell_type": "code",
      "execution_count": null,
      "id": "d814838d",
      "metadata": {
        "id": "d814838d"
      },
      "outputs": [],
      "source": [
        "capital_rr"
      ]
    },
    {
      "cell_type": "markdown",
      "id": "02af6fb4",
      "metadata": {
        "id": "02af6fb4"
      },
      "source": [
        "<br><br>\n",
        "\n",
        "\n",
        "*Método intersects*\n",
        "\n",
        "Sintaxe básica:\n",
        "```\n",
        "geometria1.intersects(geometria2)\n",
        "```\n",
        "\n",
        "Exemplo: Determinar quais estados brasileiros são interseccionados pela rodovia BR-116 (figura 20).\n",
        "\n",
        "![Figura 20](https://github.com/Alexandrogschafer/Programacao-Geoprocessamento/blob/gh-pages/notebooks/images/fig20.png?raw=1)\n",
        "\n",
        "Figura 20: Visualização da BR-116 no Brasil.\n",
        "<br><br>\n",
        "\n",
        "Inicialmente, vamos ler o arquivo shapefile referente a BR-116 e criar um GeoDataFrame. Iremos utilizar ainda o GeoDataFrame gdf_uf que carregamos anteriormente para exemplificar o método contains:"
      ]
    },
    {
      "cell_type": "code",
      "execution_count": null,
      "id": "744ce236",
      "metadata": {
        "id": "744ce236"
      },
      "outputs": [],
      "source": [
        "gdf_br116 = gpd.read_file('/content/drive/MyDrive/files/cap5/f18/br116.shp')\n",
        "gdf_br116.plot()"
      ]
    },
    {
      "cell_type": "markdown",
      "id": "95fc2e1f",
      "metadata": {
        "id": "95fc2e1f"
      },
      "source": [
        "Em seguida, selecionamos a geometria referente a BR-116. Como o GeoDataFrame gdf_linha_br116 possui apenas uma linha, expecificamos ``` iloc[0]. ```:"
      ]
    },
    {
      "cell_type": "code",
      "execution_count": null,
      "id": "dbb49612",
      "metadata": {
        "id": "dbb49612"
      },
      "outputs": [],
      "source": [
        "geometria_br116 = gdf_br116['geometry'].iloc[0]\n",
        "geometria_br116"
      ]
    },
    {
      "cell_type": "markdown",
      "id": "d2ad15c8",
      "metadata": {
        "id": "d2ad15c8"
      },
      "source": [
        "Agora podemos verificar quais estados se interseccionam com a BR-116 utilizando o método intersects:"
      ]
    },
    {
      "cell_type": "code",
      "execution_count": null,
      "id": "78234648",
      "metadata": {
        "id": "78234648"
      },
      "outputs": [],
      "source": [
        "estados_br116 = gdf_uf[gdf_uf['geometry'].intersects(geometria_br116)]\n",
        "estados_br116.plot()"
      ]
    },
    {
      "cell_type": "markdown",
      "id": "9b8e11cb",
      "metadata": {
        "id": "9b8e11cb"
      },
      "source": [
        "Vamos imprimir os nomes desses estados, que podem ser visualizados na figura 21:"
      ]
    },
    {
      "cell_type": "code",
      "execution_count": null,
      "id": "2d55d927",
      "metadata": {
        "id": "2d55d927"
      },
      "outputs": [],
      "source": [
        "print(estados_br116['NM_UF'])"
      ]
    },
    {
      "cell_type": "markdown",
      "id": "72bd8659",
      "metadata": {
        "id": "72bd8659"
      },
      "source": [
        "![Figura 21](https://github.com/Alexandrogschafer/Programacao-Geoprocessamento/blob/gh-pages/notebooks/images/fig21.png?raw=1)\n",
        "\n",
        "Figura 21: Estados brasileiros atravessados pela BR-116.\n",
        "\n",
        "\n",
        "#### 5.6.5.3 Diferentes maneiras de utilizar operações e predicados espaciais com dois ou mais GeoDataFrames no contexto da Geopandas\n",
        "\n",
        "Ao trabalhar com dados geoespaciais, é comum realizar operações que identificam e processam interações entre diferentes conjuntos de dados geográficos. A biblioteca Geopandas oferece várias funções e métodos para facilitar esse tipo de análise. Entretanto, à primeira vista, as funções podem parecer semelhantes em suas finalidades, levando a confusões sobre qual utilizar e quando.\n",
        "\n",
        "Neste contexto, vamos explorar e comparar funcionalidades que relacionadas à interseção de geometrias: o intersects e o intersection no contexto do sjoin e do overlay. Para tanto, vamos criar dois GeoDataFrames (gdf1 e gdf2) a partir de operações de buffers em pontos que tem coordenadas x e y:"
      ]
    },
    {
      "cell_type": "code",
      "execution_count": null,
      "id": "8311d501",
      "metadata": {
        "id": "8311d501"
      },
      "outputs": [],
      "source": [
        "b1 = Point(1, 1).buffer(.7)\n",
        "b2 = Point(3, 1).buffer(.7)\n",
        "data = {\n",
        "    'nome': ['PA', 'PB'],\n",
        "    'valor': [10, 15],\n",
        "    'geometry': [b1, b2]\n",
        "}\n",
        "gdf1 = gpd.GeoDataFrame(data)\n",
        "\n",
        "gdf1.head()"
      ]
    },
    {
      "cell_type": "code",
      "execution_count": null,
      "id": "6869a31c",
      "metadata": {
        "id": "6869a31c"
      },
      "outputs": [],
      "source": [
        "gdf1.plot()"
      ]
    },
    {
      "cell_type": "code",
      "execution_count": null,
      "id": "c70e7dbe",
      "metadata": {
        "id": "c70e7dbe"
      },
      "outputs": [],
      "source": [
        "b3 = Point(2, 1).buffer(.7)\n",
        "b4 = Point(4, 1).buffer(.7)\n",
        "data2 = {\n",
        "    'nome': ['PC', 'PD'],\n",
        "    'valor': [20, 30],\n",
        "    'geometry': [b3, b4]\n",
        "}\n",
        "gdf2 = gpd.GeoDataFrame(data2)\n",
        "\n",
        "gdf2.head()"
      ]
    },
    {
      "cell_type": "code",
      "execution_count": null,
      "id": "ce14c202",
      "metadata": {
        "id": "ce14c202"
      },
      "outputs": [],
      "source": [
        "gdf2.plot(color='red')"
      ]
    },
    {
      "cell_type": "markdown",
      "id": "836cf010",
      "metadata": {
        "id": "836cf010"
      },
      "source": [
        "O código abaixo configura a visualização dos GeoDataFrames em uma única área de plotagem:"
      ]
    },
    {
      "cell_type": "code",
      "execution_count": null,
      "id": "58840aae",
      "metadata": {
        "id": "58840aae"
      },
      "outputs": [],
      "source": [
        "ax = gdf1.plot(color='blue', alpha=0.5)\n",
        "gdf2.plot(ax=ax, color='red', alpha=0.5)\n",
        "\n",
        "def get_coords(geom):\n",
        "    if geom.geom_type == 'Point':\n",
        "        return geom.x, geom.y\n",
        "    else:\n",
        "        return geom.centroid.x, geom.centroid.y\n",
        "\n",
        "for geom, label in zip(gdf1.geometry, gdf1['nome']):\n",
        "    x, y = get_coords(geom)\n",
        "    ax.text(x, y, label)\n",
        "\n",
        "for geom, label in zip(gdf2.geometry, gdf2['nome']):\n",
        "    x, y = get_coords(geom)\n",
        "    ax.text(x, y, label)"
      ]
    },
    {
      "cell_type": "markdown",
      "id": "3bdeec7d",
      "metadata": {
        "id": "3bdeec7d"
      },
      "source": [
        "As circunferências PA e PB pertencem ao gdf1, enquanto PC e PD pertencem ao gdf2. A seguir, vamos utilizá-las em consultas espaciais.\n",
        "<br><br>\n",
        "\n",
        "a) Intersects\n",
        "\n",
        "A função intersects da Geopandas determina se duas geometrias se interseccionam. É normalmente aplicada a uma GeoSeries e espera outra GeoSeries ou geometria como argumento. Vamos criar duas GeoSeries a partir dos GeoDataFrames gdf1 e gdf2:"
      ]
    },
    {
      "cell_type": "code",
      "execution_count": null,
      "id": "b462f961",
      "metadata": {
        "id": "b462f961"
      },
      "outputs": [],
      "source": [
        "gs1=gdf1['geometry']\n",
        "gs2=gdf2['geometry']"
      ]
    },
    {
      "cell_type": "markdown",
      "id": "013f6edf",
      "metadata": {
        "id": "013f6edf"
      },
      "source": [
        "Agora aplicamos o intersects:"
      ]
    },
    {
      "cell_type": "code",
      "execution_count": null,
      "id": "e264597a",
      "metadata": {
        "id": "e264597a"
      },
      "outputs": [],
      "source": [
        "resultado = gs1.intersects(gs2)\n",
        "resultado"
      ]
    },
    {
      "cell_type": "markdown",
      "id": "c2249c10",
      "metadata": {
        "id": "c2249c10"
      },
      "source": [
        "Este código verifica se cada geometria em gs1 tem interseção com alguma geometria em gs2. Retorna uma série booleana, com True em caso afirmativo e False caso contrário.\n",
        "\n",
        "\n",
        "Se tentarmos visualizar o GeoDataFrame, ocorrerá o seguinte erro:\n",
        "\n",
        "```\n",
        "resultado.plot()\n",
        "\n",
        "TypeError: no numeric data to plot\n",
        "```\n",
        "\n",
        "Como intersects resulta em uma Series de valores booleanos, não pode ser plotada diretamente.\n",
        "<br><br>\n",
        "\n",
        "b) Intersection\n",
        "\n",
        "Intersection retorna uma nova GeoSeries com a geometria resultante da interseção entre gdf1 e gdf2. Uso comum: Obter a área ou parte da geometria onde dois conjuntos geoespaciais se sobrepõem."
      ]
    },
    {
      "cell_type": "code",
      "execution_count": null,
      "id": "5cad6943",
      "metadata": {
        "id": "5cad6943"
      },
      "outputs": [],
      "source": [
        "cons_intersection = gdf1.intersection(gdf2)\n",
        "cons_intersection"
      ]
    },
    {
      "cell_type": "code",
      "execution_count": null,
      "id": "e123d4e1",
      "metadata": {
        "id": "e123d4e1"
      },
      "outputs": [],
      "source": [
        "cons_intersection.plot()"
      ]
    },
    {
      "cell_type": "markdown",
      "id": "f84f854e",
      "metadata": {
        "id": "f84f854e"
      },
      "source": [
        "<br><br>\n",
        "\n",
        "c) Intersects com Sjoin\n",
        "\n",
        "Realiza uma junção espacial entre dois GeoDataFrames com base no predicado espacial Intersects. Retorna um novo GeoDataFrame resultante da junção dos GeoDataFrames nos locais em que suas geometrias se interseccionam. Este GeoDataFrame combinado terá colunas de ambos GeoDataFrames. Uso comum: Associar dados de um GeoDataFrame a outro com base em sua relação espacial, neste caso, interseção."
      ]
    },
    {
      "cell_type": "code",
      "execution_count": null,
      "id": "2119f71f",
      "metadata": {
        "id": "2119f71f"
      },
      "outputs": [],
      "source": [
        "cons_int_sjoin = gpd.sjoin(gdf1, gdf2, op='intersects', how='inner')\n",
        "cons_int_sjoin.head()"
      ]
    },
    {
      "cell_type": "markdown",
      "id": "32851d84",
      "metadata": {
        "id": "32851d84"
      },
      "source": [
        "Nesse código: a)  gpd.sjoin(...) é o método da Geopandas usado para realizar junções espaciais entre dois GeoDataFrames; b) op='intersects' especifica o tipo de relação espacial a ser verificada. Neste caso, estamos interessados em geometrias que se interseccionam (ou seja, têm pelo menos um ponto em comum); c) how='inner' especifica o tipo de junção a ser realizada. Uma junção \"inner\" retornará apenas as linhas onde houve uma correspondência. Em outras palavras, as linhas no resultado são apenas aquelas para as quais uma geometria em gdf1 intersecciona uma geometria em gdf2.\n",
        "\n",
        "\n",
        "\n",
        "O código abaixo possibilita a plotagem do resultado da aplicação do sjoin."
      ]
    },
    {
      "cell_type": "code",
      "execution_count": null,
      "id": "4b435e70",
      "metadata": {
        "id": "4b435e70"
      },
      "outputs": [],
      "source": [
        "import matplotlib.pyplot as plt\n",
        "ax = cons_int_sjoin.plot(edgecolor='k', color='whitesmoke')\n",
        "for x, y, label_left, label_right in zip(cons_int_sjoin.geometry.centroid.x,\n",
        "    cons_int_sjoin.geometry.centroid.y, cons_int_sjoin['nome_left'],\n",
        "    cons_int_sjoin['nome_right']):\n",
        "    ax.annotate(label_left, xy=(x, y), xytext=(3,3),\n",
        "        textcoords='offset points', color='blue')\n",
        "    ax.annotate(label_right, xy=(x, y), xytext=(15,3),\n",
        "        textcoords='offset points', color='red')\n",
        "plt.show()"
      ]
    },
    {
      "cell_type": "markdown",
      "id": "6bcf04c4",
      "metadata": {
        "id": "6bcf04c4"
      },
      "source": [
        "Nessa operação, as geometrias originais de gdf1 são preservadas. Contudo, informações adicionais de gdf2 são anexadas às linhas correspondentes de gdf1 onde ocorre a interseção. Especificamente, os polígonos \"PC\" e \"PD\" de gdf2 tem interseção com as geometrias \"PA\" e \"PB\" de gdf1, respectivamente. Portanto, o novo GeoDataFrame, cons_int_sjoin, combina os atributos dessas geometrias em linhas unificadas, mantendo a estrutura original de gdf1 e incorporando informações relevantes de gdf2 onde as interseções ocorrem.\n",
        "Vamos aplicar novamente o sjoin, mas invertendo a ordem dos GeoDataFrames:"
      ]
    },
    {
      "cell_type": "code",
      "execution_count": null,
      "id": "41beea0a",
      "metadata": {
        "id": "41beea0a"
      },
      "outputs": [],
      "source": [
        "cons_int_sjoin2 = gpd.sjoin(gdf2, gdf1, op='intersects', how='inner')\n",
        "cons_int_sjoin2.head()"
      ]
    },
    {
      "cell_type": "markdown",
      "id": "3b7bd940",
      "metadata": {
        "id": "3b7bd940"
      },
      "source": [
        "Note que, agora, as geometrias originais de gdf2 que são preservadas. Contudo, informações adicionais de gdf1 são anexadas às linhas correspondentes de gdf2 onde ocorre a interseção. Especificamente, os polígonos \"PA\" e \"PB\" de gdf1 tem interseção com as geometrias \"PC\" e \"PD\" de gdf2, respectivamente. Portanto, o novo GeoDataFrame, cons_int_sjoin2, combina os atributos dessas geometrias em linhas unificadas, mantendo a estrutura original de gdf2 e incorporando informações relevantes de gdf1 onde as interseções ocorrem."
      ]
    },
    {
      "cell_type": "code",
      "execution_count": null,
      "id": "0e2d1d5f",
      "metadata": {
        "id": "0e2d1d5f"
      },
      "outputs": [],
      "source": [
        "ax = cons_int_sjoin2.plot(edgecolor='k', color='whitesmoke')\n",
        "for x, y, label_left, label_right in zip(cons_int_sjoin2.geometry.centroid.x,\n",
        "    cons_int_sjoin2.geometry.centroid.y, cons_int_sjoin2['nome_left'],\n",
        "    cons_int_sjoin2['nome_right']):\n",
        "    ax.annotate(label_left, xy=(x, y), xytext=(3,3),\n",
        "        textcoords='offset points', color='blue')\n",
        "    ax.annotate(label_right, xy=(x, y), xytext=(3,-15),\n",
        "        textcoords='offset points', color='red')\n",
        "plt.show()"
      ]
    },
    {
      "cell_type": "markdown",
      "id": "d06f93a0",
      "metadata": {
        "id": "d06f93a0"
      },
      "source": [
        "<br><br>\n",
        "\n",
        "\n",
        "d) Intersection com operação de Overlay\n",
        "\n",
        "Essa operação calcula a interseção geométrica entre dois GeoDataFrames e combina os seus atributos. Retorna um novo GeoDataFrame cujas geometrias são a interseção entre as geometrias no GeoDataFrame 1 e no GeoDataFrame 2. Este GeoDataFrame combinado terá colunas de ambos.\n",
        "Uso comum: Semelhante à operação intersection, mas mantém informações (atributos) de ambas as camadas geoespaciais."
      ]
    },
    {
      "cell_type": "code",
      "execution_count": null,
      "id": "956e9275",
      "metadata": {
        "id": "956e9275"
      },
      "outputs": [],
      "source": [
        "cons_int_overlay = gpd.overlay(gdf1, gdf2, how='intersection')\n",
        "cons_int_overlay"
      ]
    },
    {
      "cell_type": "markdown",
      "id": "39b41d8e",
      "metadata": {
        "id": "39b41d8e"
      },
      "source": [
        "Nesse código, gpd.overlay(...) é o método da Geopandas usado para realizar operações de sobreposição espacial entre dois GeoDataFrames. gdf1 e gdf2: São os dois GeoDataFrames que estão sendo combinados. A operação compara cada geometria em gdf1 com cada geometria em gdf2. how='intersection' especifica o tipo de operação de sobreposição a ser realizada. A opção \"intersection\" retorna a interseção geométrica entre as geometrias dos dois GeoDataFrames. Isso significa que a geometria resultante é aquela que é compartilhada entre gdf1 e gdf2."
      ]
    },
    {
      "cell_type": "code",
      "execution_count": null,
      "id": "70cbcd33",
      "metadata": {
        "id": "70cbcd33"
      },
      "outputs": [],
      "source": [
        "ax = cons_int_overlay.plot(edgecolor='k', color='whitesmoke')\n",
        "for x, y, label_left, label_right in zip(cons_int_overlay.geometry.centroid.x,\n",
        "    cons_int_overlay.geometry.centroid.y, cons_int_overlay['nome_1'], cons_int_overlay['nome_2']):\n",
        "    ax.annotate(label_left, xy=(x, y), xytext=(3,3), textcoords='offset points', color='blue')\n",
        "    ax.annotate(label_right, xy=(x, y), xytext=(3,-15), textcoords='offset points', color='red')\n",
        "\n",
        "plt.show()"
      ]
    },
    {
      "cell_type": "markdown",
      "id": "e945d8ec",
      "metadata": {
        "id": "e945d8ec"
      },
      "source": [
        "Diferente do sjoin, que mantém as geometrias originais de um dos GeoDataFrames e apenas anexa os atributos do outro onde há interseção, o overlay cria geometrias resultantes da interseção real entre as geometrias dos dois GeoDataFrames. Além disso, o novo GeoDataFrame resultante também combina os atributos das geometrias originais de gdf1 e gdf2 para cada uma dessas novas geometrias de interseção. Assim, cons_int_overlay fornece uma representação espacial precisa de onde as geometrias de gdf1 e gdf2 se cruzam, juntamente com os atributos combinados dessas interseções.\n",
        "\n",
        "Agora vamos inverter a ordem de entrada dos GeoDataFrames na consulta:"
      ]
    },
    {
      "cell_type": "code",
      "execution_count": null,
      "id": "b2730bed",
      "metadata": {
        "id": "b2730bed"
      },
      "outputs": [],
      "source": [
        "cons_int_overlay2 = gpd.overlay(gdf2, gdf1, how='intersection')\n",
        "cons_int_overlay2"
      ]
    },
    {
      "cell_type": "code",
      "execution_count": null,
      "id": "822673f8",
      "metadata": {
        "id": "822673f8"
      },
      "outputs": [],
      "source": [
        "ax = cons_int_overlay2.plot(edgecolor='k', color='whitesmoke')\n",
        "for x, y, label_left, label_right in zip(cons_int_overlay2.geometry.centroid.x,\n",
        "    cons_int_overlay2.geometry.centroid.y, cons_int_overlay2['nome_1'], cons_int_overlay2['nome_2']):\n",
        "    ax.annotate(label_left, xy=(x, y), xytext=(3,3), textcoords='offset points', color='blue')\n",
        "    ax.annotate(label_right, xy=(x, y), xytext=(3,-15), textcoords='offset points', color='red')\n",
        "\n",
        "plt.show()"
      ]
    },
    {
      "cell_type": "markdown",
      "id": "dd4cce06",
      "metadata": {
        "id": "dd4cce06"
      },
      "source": [
        "Podemos verificar que, em termos de geometria, a interseção entre gdf1 e gdf2 será a mesma que a interseção entre gdf2 e gdf1. No entanto, a ordem dos atributos no resultado é diferente. Enquanto cons_int_overlay tem os atributos de gdf1 seguidos pelos de gdf2 para cada geometria de interseção, cons_int_overlay2 tem os atributos de gdf2 seguidos pelos de gdf1. Desta maneira, é possível concluir que a ordem em que GeoDataFrames são fornecidos ao método overlay influenciam a ordem dos atributos no GeoDataFrame resultante, mas não a geometria da interseção.\n",
        "<br><br>\n",
        "\n",
        "Conclusões:\n",
        "\n",
        "- Intersects é usado para verificar a interseção sem realmente computar a geometria resultante;\n",
        "\n",
        "- Intersection computa a geometria resultante da interseção;\n",
        "\n",
        "- Intersects com Sjoin: Mantém os registros do GeoDataFrame à esquerda (primeiro mencionado na operação) que têm alguma interseção com os registros do GeoDataFrame à direita. As geometrias do GeoDataFrame à esquerda são mantidas intactas. Não são alteradas para representar a interseção em si;\n",
        "\n",
        "- Intersection com Overlay: Cria registros que representam a interseção geométrica entre os registros dos dois GeoDataFrames fornecidos. As geometrias resultantes são as áreas de interseção entre os registros dos dois GeoDataFrames. Ou seja, são as partes que os registros dos dois GeoDataFrames têm em comum.\n",
        "\n",
        "\n",
        "#### 5.6.5.4 Junções Espaciais (Spatial Joins)\n",
        "\n",
        "A junção espacial (Sjoin) é uma ferramenta que permite a combinação de informações de dois GeoDataFrames com base em suas relações espaciais. Vimos uma aplicação dessa ferramenta no tópico anterior. Vamos agora aprofundar nosso estudo.\n",
        "\n",
        "Os parâmetros principais em uma Sjoin são:\n",
        "\n",
        "- how: Tipo de junção a ser realizada. Pode ser uma das seguintes opções: \"left\", \"right\" ou \"inner\".\n",
        "\n",
        "- op: Operação espacial a ser usada. As opções são: \"contains\", \"within\" e \"intersects\".\n",
        "\n",
        "O parâmetro how em sjoin (e em muitas outras operações de junção em bibliotecas como Pandas) determina como as linhas dos dois GeoDataFrames serão combinadas com base na relação espacial especificada. Ele especifica qual tipo de junção será realizado. Vamos analisar cada uma das opções:\n",
        "\n",
        "- \"left\" (junção à esquerda): Mantém todas as linhas do GeoDataFrame à esquerda, independentemente de haver uma correspondência no GeoDataFrame à direita. As linhas que não têm correspondência no GeoDataFrame à direita terão NaN (valor ausente) para todas as colunas desse GeoDataFrame;\n",
        "\n",
        "- \"right\" (junção à direita): Mantém todas as linhas do GeoDataFrame à direita, independentemente de haver uma correspondência no GeoDataFrame à esquerda. As linhas que não têm correspondência no GeoDataFrame à esquerda terão NaN para todas as colunas desse GeoDataFrame;\n",
        "\n",
        "- \"inner\" (junção interna): Mantém apenas as linhas para as quais há uma correspondência entre os dois GeoDataFrames. Ou seja, as linhas no resultado só estarão presentes se houver uma relação espacial válida entre elas (por exemplo, um ponto está dentro de um polígono) em ambos os conjuntos de dados. Linhas sem correspondência em qualquer GeoDataFrame serão descartadas.\n",
        "<br><br>\n",
        "\n",
        "Se pensarmos nos GeoDataFrames como se fossem tabelas. As opções \"left\", \"right\" e \"inner\" determinam quais linhas (registros) dessas tabelas estarão presentes no resultado, após a operação de junção. Se você estiver familiarizado com bancos de dados SQL, esses conceitos de junção à esquerda, à direita e interna são semelhantes aos LEFT JOIN, RIGHT JOIN e INNER JOIN, respectivamente.\n",
        "\n",
        "Exemplo: Temos um arquivo shapefile com pontos representando as usinas hidrelétricas e as PCHs (Pequenas Centrais Hidrelétricas) do Brasil (figura 22). Queremos descobrir em qual estado brasileiro está localizada cada uma delas e inserir essa informação em arquivo.\n",
        "Para resolver esse exemplo, vamos aplicar o sjoin com o predicado espacial ‘intersects’ entre dois GeoDataFrames: o das usinas e PCHs e o dos estados brasileiros.\n",
        "\n",
        "![Figura 22](https://github.com/Alexandrogschafer/Programacao-Geoprocessamento/blob/gh-pages/notebooks/images/fig22.png?raw=1)\n",
        "\n",
        "Figura 22: Localização das hidrelétricas e PCHs no Brasil.\n",
        "<br><br>\n",
        "\n",
        "Inicialmente, vamos ler os arquivos shapefile e criar os GeoDataFrames. Em seguida, verificamos as colunas existentes em gdf_usinas e gdf_uf:"
      ]
    },
    {
      "cell_type": "code",
      "execution_count": null,
      "id": "5e6a08c1",
      "metadata": {
        "id": "5e6a08c1"
      },
      "outputs": [],
      "source": [
        "gdf_hidr = gpd.read_file('/content/drive/MyDrive/files/cap5/f19/hidreletricas.shp')\n",
        "gdf_uf = gpd.read_file('/content/drive/MyDrive/files/cap5/f4/BR_UF.shp')\n",
        "gdf_hidr.columns"
      ]
    },
    {
      "cell_type": "code",
      "execution_count": null,
      "id": "4d822f99",
      "metadata": {
        "id": "4d822f99"
      },
      "outputs": [],
      "source": [
        "gdf_hidr.plot()"
      ]
    },
    {
      "cell_type": "code",
      "execution_count": null,
      "id": "1332b47c",
      "metadata": {
        "id": "1332b47c"
      },
      "outputs": [],
      "source": [
        "gdf_uf.columns"
      ]
    },
    {
      "cell_type": "markdown",
      "id": "656167bc",
      "metadata": {
        "id": "656167bc"
      },
      "source": [
        "  \n",
        "\n",
        "Vamos deletar algumas colunas de gdf_uf que não utilizaremos:"
      ]
    },
    {
      "cell_type": "code",
      "execution_count": null,
      "id": "581ef339",
      "metadata": {
        "id": "581ef339"
      },
      "outputs": [],
      "source": [
        "gdf_uf = gdf_uf.drop(columns=['CD_UF', 'NM_UF', 'AREA_KM2'])\n",
        "gdf_uf.columns"
      ]
    },
    {
      "cell_type": "markdown",
      "id": "85bd4ae8",
      "metadata": {
        "id": "85bd4ae8"
      },
      "source": [
        "Para nos certificarmos de que ambos os GeoDataFrames estarão no mesmo CRS:"
      ]
    },
    {
      "cell_type": "code",
      "execution_count": null,
      "id": "d1cb5f61",
      "metadata": {
        "id": "d1cb5f61"
      },
      "outputs": [],
      "source": [
        "if gdf_hidr.crs != gdf_uf.crs:\n",
        "    gdf_hidr = gdf_hidr.to_crs(gdf_uf.crs)"
      ]
    },
    {
      "cell_type": "markdown",
      "id": "cd5ae6fb",
      "metadata": {
        "id": "cd5ae6fb"
      },
      "source": [
        "Esse código verifica se os dois GeoDataFrames têm CRSs diferentes. Em caso afirmativo, aplica uma transformação em gdf_usinas para corresponder ao CRS de gdf_uf.\n",
        "\n",
        "Agora vamos aplicar a junção espacial:"
      ]
    },
    {
      "cell_type": "code",
      "execution_count": null,
      "id": "c400bb00",
      "metadata": {
        "id": "c400bb00"
      },
      "outputs": [],
      "source": [
        "hidr_uf = gpd.sjoin(gdf_hidr, gdf_uf, op='intersects', how='left')\n",
        "hidr_uf.head()"
      ]
    },
    {
      "cell_type": "markdown",
      "id": "d181086b",
      "metadata": {
        "id": "d181086b"
      },
      "source": [
        "\n",
        "Esse código associa cada usina ao estado ao qual ela está localizada e consulta as colunas do GeoDataFrame.\n",
        "\n",
        "Podemos verificar que, agora, o GeoDataFrame usinas_uf tem colunas referentes aos estados (SIGLA_UF E NM_REGIAO).\n",
        "Vamos verificar quantas usinas e PCHs estão implantadas em cada estado:"
      ]
    },
    {
      "cell_type": "code",
      "execution_count": null,
      "id": "c0f00eb0",
      "metadata": {
        "id": "c0f00eb0"
      },
      "outputs": [],
      "source": [
        "numero_hidr_uf = hidr_uf.groupby('SIGLA_UF').size()\n",
        "print(numero_hidr_uf)"
      ]
    },
    {
      "cell_type": "markdown",
      "id": "a333a860",
      "metadata": {
        "id": "a333a860"
      },
      "source": [
        "Por fim, vamos agrupar os dados por região (NM_REGIAO) e imprimir o número de usinas em cada região do país:"
      ]
    },
    {
      "cell_type": "code",
      "execution_count": null,
      "id": "83b66cca",
      "metadata": {
        "id": "83b66cca"
      },
      "outputs": [],
      "source": [
        "numero_hidr_regiao = hidr_uf.groupby('NM_REGIAO').size()\n",
        "print(numero_hidr_regiao)"
      ]
    },
    {
      "cell_type": "markdown",
      "id": "5b923ca0",
      "metadata": {
        "id": "5b923ca0"
      },
      "source": [
        "#### 5.6.5.5 Operações de conjunto com sobreposição (overlay)\n",
        "\n",
        "As operações de sobreposição, ou \"overlay\", desempenham um importante papel no geoprocessamento, permitindo a combinação de diferentes camadas de dados para extrair, comparar e analisar relações geoespaciais. Na seção anterior, exploramos o overlay com a operação básica de interseção. Nesta seção, aprofundaremos nosso estudo, examinando outras operações de conjunto disponíveis.\n",
        "\n",
        "Vamos aplicar cada uma delas no conjunto de dados utilizado na seção anterior: os GeoDataFrames gdf1 (polígonos PA e PB) e gdf 2 (polígonos PC e PD):"
      ]
    },
    {
      "cell_type": "code",
      "execution_count": null,
      "id": "bd3d9a5d",
      "metadata": {
        "id": "bd3d9a5d"
      },
      "outputs": [],
      "source": [
        "ax = gdf1.plot(color='blue', alpha=0.5)\n",
        "gdf2.plot(ax=ax, color='red', alpha=0.5)\n",
        "\n",
        "def get_coords(geom):\n",
        "    if geom.geom_type == 'Point':\n",
        "        return geom.x, geom.y\n",
        "    else:\n",
        "        return geom.centroid.x, geom.centroid.y\n",
        "\n",
        "for geom, label in zip(gdf1.geometry, gdf1['nome']):\n",
        "    x, y = get_coords(geom)\n",
        "    ax.text(x, y, label)\n",
        "\n",
        "for geom, label in zip(gdf2.geometry, gdf2['nome']):\n",
        "    x, y = get_coords(geom)\n",
        "    ax.text(x, y, label)"
      ]
    },
    {
      "cell_type": "markdown",
      "id": "95d66c20",
      "metadata": {
        "id": "95d66c20"
      },
      "source": [
        "<br><br>\n",
        "\n",
        "\n",
        "*Overlay com union*\n",
        "\n",
        "Essa operação combina as geometrias dos dois conjuntos de dados. Isso inclui todas as áreas de ambos os conjuntos de dados, independentemente de se sobreporem ou não."
      ]
    },
    {
      "cell_type": "code",
      "execution_count": null,
      "id": "d3b2c86f",
      "metadata": {
        "id": "d3b2c86f"
      },
      "outputs": [],
      "source": [
        "uniao = gpd.overlay(gdf1, gdf2, how='union')\n",
        "uniao.head()"
      ]
    },
    {
      "cell_type": "code",
      "execution_count": null,
      "id": "81d26522",
      "metadata": {
        "id": "81d26522"
      },
      "outputs": [],
      "source": [
        "uniao.plot()"
      ]
    },
    {
      "cell_type": "markdown",
      "id": "df34de02",
      "metadata": {
        "id": "df34de02"
      },
      "source": [
        "<br><br>\n",
        "\n",
        "\n",
        "*Overlay com difference*\n",
        "\n",
        "Essa operação retorna as geometrias do primeiro conjunto de dados que não são compartilhadas com o segundo conjunto de dados. Em outras palavras, remove as áreas do segundo conjunto de dados que se sobrepõem ao primeiro."
      ]
    },
    {
      "cell_type": "code",
      "execution_count": null,
      "id": "2adc7429",
      "metadata": {
        "id": "2adc7429"
      },
      "outputs": [],
      "source": [
        "diferenca = gpd.overlay(gdf1, gdf2, how='difference')\n",
        "diferenca.head()"
      ]
    },
    {
      "cell_type": "code",
      "execution_count": null,
      "id": "191646e0",
      "metadata": {
        "id": "191646e0"
      },
      "outputs": [],
      "source": [
        "diferenca.plot()"
      ]
    },
    {
      "cell_type": "markdown",
      "id": "b3218b0e",
      "metadata": {
        "id": "b3218b0e"
      },
      "source": [
        "Fazendo gdf2 a esquerda e gdf1 a direita:"
      ]
    },
    {
      "cell_type": "code",
      "execution_count": null,
      "id": "e01de15d",
      "metadata": {
        "id": "e01de15d"
      },
      "outputs": [],
      "source": [
        "diferenca2 = gpd.overlay(gdf2, gdf1, how='difference')\n",
        "diferenca2.head()"
      ]
    },
    {
      "cell_type": "code",
      "execution_count": null,
      "id": "214f6ba5",
      "metadata": {
        "id": "214f6ba5"
      },
      "outputs": [],
      "source": [
        "diferenca2.plot()"
      ]
    },
    {
      "cell_type": "markdown",
      "id": "b1411708",
      "metadata": {
        "id": "b1411708"
      },
      "source": [
        "<br><br>\n",
        "\n",
        "\n",
        "*Overlay com symmetric_difference*\n",
        "\n",
        "Essa operação retorna as geometrias que são exclusivas para cada um dos conjuntos de dados. É o oposto da interseção, mantendo apenas as áreas que não se sobrepõem."
      ]
    },
    {
      "cell_type": "code",
      "execution_count": null,
      "id": "ec3f1a03",
      "metadata": {
        "id": "ec3f1a03"
      },
      "outputs": [],
      "source": [
        "diferenca_simetrica = gpd.overlay(gdf1, gdf2, how='symmetric_difference')\n",
        "diferenca_simetrica.head()"
      ]
    },
    {
      "cell_type": "code",
      "execution_count": null,
      "id": "e7a87c87",
      "metadata": {
        "id": "e7a87c87"
      },
      "outputs": [],
      "source": [
        "diferenca_simetrica.plot()"
      ]
    },
    {
      "cell_type": "markdown",
      "id": "df28f171",
      "metadata": {
        "id": "df28f171"
      },
      "source": [
        "<br><br>\n",
        "\n",
        "\n",
        "*Overlay com identity*\n",
        "\n",
        "Essa operação mantém as geometrias do primeiro conjunto de dados que se sobrepõem ao segundo conjunto de dados, bem como qualquer parte do primeiro conjunto de dados que não se sobrepõe ao segundo."
      ]
    },
    {
      "cell_type": "code",
      "execution_count": null,
      "id": "d2d086e1",
      "metadata": {
        "id": "d2d086e1"
      },
      "outputs": [],
      "source": [
        "identidade = gpd.overlay(gdf1, gdf2, how='identity')\n",
        "identidade.head()"
      ]
    },
    {
      "cell_type": "code",
      "execution_count": null,
      "id": "d71966bc",
      "metadata": {
        "id": "d71966bc"
      },
      "outputs": [],
      "source": [
        "identidade.plot()"
      ]
    }
  ],
  "metadata": {
    "kernelspec": {
      "display_name": "Python 3",
      "language": "python",
      "name": "python3"
    },
    "colab": {
      "provenance": []
    }
  },
  "nbformat": 4,
  "nbformat_minor": 5
}