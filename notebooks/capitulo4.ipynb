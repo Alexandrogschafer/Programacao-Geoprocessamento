{
  "cells": [
    {
      "cell_type": "markdown",
      "id": "0fd9526d",
      "metadata": {
        "id": "0fd9526d"
      },
      "source": [
        "# 4. GEOPROCESSAMENTO BÁSICO COM SHAPELY E FIONA\n",
        "\n",
        "\n",
        "Dentro do ecossistema Python, existem diversas bibliotecas para otimizar o trabalho com dados geoespaciais. Dentre elas, Shapely e Fiona merecem destaque, não apenas por sua simplicidade, mas também pela eficácia com que lidam com tarefas geoespaciais. Quando utilizadas em conjunto, essas bibliotecas proporcionam uma abordagem integrada e robusta para o geoprocessamento básico no Python, tornando a análise e manipulação de dados espaciais mais acessível e eficiente.\n",
        "\n",
        "\n",
        "## 4.1 A biblioteca Shapely\n",
        "\n",
        "Shapely é uma biblioteca Python para manipulação e análise de objetos geométricos planares. Baseada na biblioteca GEOS (usada em PostGIS e outros sistemas), ela oferece uma interface amigável para criar, manipular e analisar formas geométricas. As classes básicas são apresentadas na figura 5.\n",
        "\n",
        "![Figura 5](https://github.com/Alexandrogschafer/Programacao-Geoprocessamento/blob/gh-pages/notebooks/images/fig5.png?raw=1)\n",
        "\n",
        "Figura 5: Classes para representar geometrias na Shapely\n",
        "\n",
        "\n",
        "A Shapely destaca-se principalmente por suas capacidades geométricas. Ele facilita a execução de operações como união, interseção, diferença e buffer. Além disso, a biblioteca é essencial para manipular e transformar geometrias, desde a simplificação de linhas e polígonos até a criação de um convex hull em torno de pontos ou a divisão e combinação de diferentes formas geométricas.\n",
        "\n",
        "\n",
        "### 4.1.1 Criação de Geometrias com Shapely\n",
        "\n",
        "Conforme apresentamos na figura 5, a Shapely oferece uma série de classes para representar diferentes tipos de geometrias. Vamos explorar como criá-las:\n",
        "\n",
        "a) Point: Representa uma coordenada única no espaço."
      ]
    },
    {
      "cell_type": "code",
      "execution_count": null,
      "id": "7b617d92",
      "metadata": {
        "id": "7b617d92"
      },
      "outputs": [],
      "source": [
        "from shapely.geometry import Point\n",
        "ponto = Point(4.5, 3.2)\n",
        "ponto"
      ]
    },
    {
      "cell_type": "markdown",
      "id": "dd002d5f",
      "metadata": {
        "id": "dd002d5f"
      },
      "source": [
        "b) Linestring: Representa uma série de pontos conectados para formar uma linha."
      ]
    },
    {
      "cell_type": "code",
      "execution_count": null,
      "id": "5441639d",
      "metadata": {
        "id": "5441639d"
      },
      "outputs": [],
      "source": [
        "from shapely.geometry import LineString\n",
        "linha = LineString([(3.3, 3.1), (4.4, 4.3), (5.5, 5.7)])\n",
        "linha"
      ]
    },
    {
      "cell_type": "markdown",
      "id": "f9b8180a",
      "metadata": {
        "id": "f9b8180a"
      },
      "source": [
        "c) Polygon: Representa uma área fechada. Você deve fornecer ao menos três coordenadas, e o primeiro e o último ponto devem ser os mesmos para fechar o polígono."
      ]
    },
    {
      "cell_type": "code",
      "execution_count": null,
      "id": "13c43918",
      "metadata": {
        "id": "13c43918"
      },
      "outputs": [],
      "source": [
        "from shapely.geometry import Polygon\n",
        "poligono = Polygon([(5.1, 3.2), (6.4, 4.3), (6.6, 3.9), (5.1, 3.2)])\n",
        "poligono"
      ]
    },
    {
      "cell_type": "markdown",
      "id": "1b585af4",
      "metadata": {
        "id": "1b585af4"
      },
      "source": [
        "d) Polígono com furo: Refere-se a uma forma geométrica que consiste em um polígono externo maior e um ou mais polígonos internos menores que representam \"furos\" ou espaços vazios dentro do polígono maior. Estes polígonos internos são completamente contidos dentro do polígono externo e não se sobrepõem uns aos outros. Para criar um polígono com furos usando Shapely, você usaria a classe Polygon. A sintaxe básica é:\n",
        "\n",
        "\n",
        "\n",
        "Definindo o polígono externo:\n",
        "\n",
        "```\n",
        "exterior = [(x1, y1), (x2, y2), ...]\n",
        "```\n",
        "\n",
        "Definindo um ou mais polígonos internos (furos):\n",
        "```\n",
        "interior1 = [(x1, y1), (x2, y2), ...]\n",
        "interior2 = [(x1, y1), (x2, y2), ...]\n",
        "```\n",
        "\n",
        "Criando o polígono\n",
        "```\n",
        "poligono_com_furos = Polygon(exterior, [interior1, interior2])\n",
        "```\n",
        "\n",
        "No código acima, exterior define os pontos do polígono externo, enquanto interior1 e interior2 definem os furos dentro do polígono externo. Você pode adicionar quantos \"furos\" quiser, estendendo a lista de interiores. Exemplo:\n",
        "\n",
        "Definindo as coordenadas para o anel externo"
      ]
    },
    {
      "cell_type": "code",
      "execution_count": null,
      "id": "84df30f7",
      "metadata": {
        "id": "84df30f7"
      },
      "outputs": [],
      "source": [
        "anel_externo = [(0, 0), (0, 10), (10, 10), (10, 0), (0, 0)]"
      ]
    },
    {
      "cell_type": "markdown",
      "id": "d2294bd0",
      "metadata": {
        "id": "d2294bd0"
      },
      "source": [
        "Definindo as coordenadas para o anel interno"
      ]
    },
    {
      "cell_type": "code",
      "execution_count": null,
      "id": "8e5c0899",
      "metadata": {
        "id": "8e5c0899"
      },
      "outputs": [],
      "source": [
        "anel_interno = [(2, 2), (2, 8), (8, 8), (8, 4), (2, 2)]"
      ]
    },
    {
      "cell_type": "markdown",
      "id": "bd405cd7",
      "metadata": {
        "id": "bd405cd7"
      },
      "source": [
        "Criando o polígono com anel externo e interno"
      ]
    },
    {
      "cell_type": "code",
      "execution_count": null,
      "id": "0c41a699",
      "metadata": {
        "id": "0c41a699"
      },
      "outputs": [],
      "source": [
        "poligono_com_furo = Polygon(anel_externo, [anel_interno])"
      ]
    },
    {
      "cell_type": "markdown",
      "id": "8fae1a78",
      "metadata": {
        "id": "8fae1a78"
      },
      "source": [
        "Imprimindo o polígono"
      ]
    },
    {
      "cell_type": "code",
      "execution_count": null,
      "id": "06a24929",
      "metadata": {
        "id": "06a24929"
      },
      "outputs": [],
      "source": [
        "poligono_com_furo"
      ]
    },
    {
      "cell_type": "markdown",
      "id": "21458211",
      "metadata": {
        "id": "21458211"
      },
      "source": [
        "Multipoint: É uma coleção de vários pontos."
      ]
    },
    {
      "cell_type": "code",
      "execution_count": null,
      "id": "35da4e1b",
      "metadata": {
        "id": "35da4e1b"
      },
      "outputs": [],
      "source": [
        "from shapely.geometry import MultiPoint\n",
        "multiponto = MultiPoint([(3.3, 3.1), (4.4, 4.3), (5.5, 5.7)])\n",
        "multiponto"
      ]
    },
    {
      "cell_type": "markdown",
      "id": "8251726c",
      "metadata": {
        "id": "8251726c"
      },
      "source": [
        "Multilinestring: É uma coleção de várias linhas."
      ]
    },
    {
      "cell_type": "code",
      "execution_count": null,
      "id": "03d07d37",
      "metadata": {
        "id": "03d07d37"
      },
      "outputs": [],
      "source": [
        "from shapely.geometry import MultiLineString\n",
        "multilinha = MultiLineString([[(3.3, 3.1), (4, 5)], [(4.4, 4.3), (5.5, 5.7)]])\n",
        "multilinha"
      ]
    },
    {
      "cell_type": "markdown",
      "id": "553db0e6",
      "metadata": {
        "id": "553db0e6"
      },
      "source": [
        "Multipolygon: É uma coleção de vários polígonos."
      ]
    },
    {
      "cell_type": "code",
      "execution_count": null,
      "id": "7a411999",
      "metadata": {
        "id": "7a411999"
      },
      "outputs": [],
      "source": [
        "from shapely.geometry import MultiPolygon\n",
        "poligono1 = Polygon([(4.1, 4.7), (5.0, 5.8), (5.6, 5.4), (4.1, 4.7)])\n",
        "poligono2 = Polygon([(6.2, 6.2), (7.3, 7.3), (8.1, 6.3), (6.2, 6.2)])\n",
        "multipoligono = MultiPolygon([poligono1, poligono2])\n",
        "multipoligono"
      ]
    },
    {
      "cell_type": "markdown",
      "id": "0d53de9c",
      "metadata": {
        "id": "0d53de9c"
      },
      "source": [
        "GeometryCollection: É uma coleção de qualquer combinação de geometrias."
      ]
    },
    {
      "cell_type": "code",
      "execution_count": null,
      "id": "2d84df55",
      "metadata": {
        "id": "2d84df55"
      },
      "outputs": [],
      "source": [
        "from shapely.geometry import GeometryCollection\n",
        "colecao = GeometryCollection([ponto, linha, poligono])\n",
        "colecao"
      ]
    },
    {
      "cell_type": "markdown",
      "id": "aa6c7e1b",
      "metadata": {
        "id": "aa6c7e1b"
      },
      "source": [
        "### 4.1.2 Atributos geométrico na Shapely\n",
        "\n",
        "A Shapely fornece uma variedade de atributos e métodos para interagir e analisar objetos geométricos. Quando falamos sobre \"atributos geométricos\" no contexto da Shapely, estamos nos referindo às propriedades intrínsecas de uma forma geométrica. Aqui estão alguns dos atributos geométricos mais comuns e úteis disponíveis na Shapely:\n",
        "<br><br>\n",
        "\n",
        "geom_type: Retorna o tipo de geometria do objeto, como \"Point\", \"Linestring\", \"Polygon\", etc."
      ]
    },
    {
      "cell_type": "code",
      "execution_count": null,
      "id": "d3e5cec9",
      "metadata": {
        "id": "d3e5cec9"
      },
      "outputs": [],
      "source": [
        "print(ponto.geom_type)\n"
      ]
    },
    {
      "cell_type": "markdown",
      "id": "747ad8a4",
      "metadata": {
        "id": "747ad8a4"
      },
      "source": [
        "<br>\n",
        "\n",
        "area: Retorna a área do objeto geométrico. Este atributo é relevante principalmente para polígonos."
      ]
    },
    {
      "cell_type": "code",
      "execution_count": null,
      "id": "ce726844",
      "metadata": {
        "id": "ce726844"
      },
      "outputs": [],
      "source": [
        "print(poligono.area)\n"
      ]
    },
    {
      "cell_type": "markdown",
      "id": "22a3d50d",
      "metadata": {
        "id": "22a3d50d"
      },
      "source": [
        "<br>\n",
        "\n",
        "length: Para objetos Linestring, retorna o comprimento total da linha. Para objetos Polygon, retorna o comprimento total do perímetro."
      ]
    },
    {
      "cell_type": "code",
      "execution_count": null,
      "id": "77ef6ab6",
      "metadata": {
        "id": "77ef6ab6"
      },
      "outputs": [],
      "source": [
        "print(linha.length)\n"
      ]
    },
    {
      "cell_type": "markdown",
      "id": "8ad6c222",
      "metadata": {
        "id": "8ad6c222"
      },
      "source": [
        "<br>\n",
        "\n",
        "bounds: Retorna uma tupla com as coordenadas (minx, miny, maxx, maxy) que define a caixa delimitadora (bounding box) da geometria."
      ]
    },
    {
      "cell_type": "code",
      "execution_count": null,
      "id": "ab0acdea",
      "metadata": {
        "id": "ab0acdea"
      },
      "outputs": [],
      "source": [
        "print(poligono.bounds)\n"
      ]
    },
    {
      "cell_type": "markdown",
      "id": "c0d60356",
      "metadata": {
        "id": "c0d60356"
      },
      "source": [
        "<br>\n",
        "\n",
        "is_valid: Verifica se a geometria é válida de acordo com as regras do plano euclidiano. Por exemplo, um polígono que se auto intersecciona não seria válido."
      ]
    },
    {
      "cell_type": "code",
      "execution_count": null,
      "id": "04d824e9",
      "metadata": {
        "id": "04d824e9"
      },
      "outputs": [],
      "source": [
        "print(poligono.is_valid)\n"
      ]
    },
    {
      "cell_type": "markdown",
      "id": "dbbc470d",
      "metadata": {
        "id": "dbbc470d"
      },
      "source": [
        "<br>\n",
        "\n",
        "is_simple: Indica se a geometria não se auto intersecciona. Para a maioria das geometrias, isso é o mesmo que is_valid, mas existem alguns casos raros em que uma geometria pode ser válida, mas não simples."
      ]
    },
    {
      "cell_type": "code",
      "execution_count": null,
      "id": "e510624a",
      "metadata": {
        "id": "e510624a"
      },
      "outputs": [],
      "source": [
        "print(linha.is_simple)\n"
      ]
    },
    {
      "cell_type": "markdown",
      "id": "eb8f288c",
      "metadata": {
        "id": "eb8f288c"
      },
      "source": [
        "<br>\n",
        "\n",
        "centroid: Retorna o ponto central (ou \"centroide\") da geometria."
      ]
    },
    {
      "cell_type": "code",
      "execution_count": null,
      "id": "4e530eb7",
      "metadata": {
        "id": "4e530eb7"
      },
      "outputs": [],
      "source": [
        "print(poligono.centroid)\n"
      ]
    },
    {
      "cell_type": "markdown",
      "id": "9c7e0f00",
      "metadata": {
        "id": "9c7e0f00"
      },
      "source": [
        "<br>\n",
        "\n",
        "exterior: Para polígonos, retorna o anel externo como um objeto LinearRing."
      ]
    },
    {
      "cell_type": "code",
      "execution_count": null,
      "id": "93c5f392",
      "metadata": {
        "id": "93c5f392"
      },
      "outputs": [],
      "source": [
        "print(poligono.exterior)\n"
      ]
    },
    {
      "cell_type": "markdown",
      "id": "446996ab",
      "metadata": {
        "id": "446996ab"
      },
      "source": [
        "<br>\n",
        "\n",
        "interiors: Para polígonos com furos, retorna uma sequência dos anéis internos."
      ]
    },
    {
      "cell_type": "code",
      "execution_count": null,
      "id": "71adbad2",
      "metadata": {
        "id": "71adbad2"
      },
      "outputs": [],
      "source": [
        "anel_externo = [(0, 0), (0, 5), (5, 5), (5, 0), (0, 0)]\n",
        "anel_interno = [(1, 1), (1, 4), (4, 4), (4, 1), (1, 1)]\n",
        "poli_com_furo = Polygon(shell=anel_externo, holes=[anel_interno])\n",
        "print(list(poli_com_furo.interiors))"
      ]
    },
    {
      "cell_type": "markdown",
      "id": "a85b64f2",
      "metadata": {
        "id": "a85b64f2"
      },
      "source": [
        "<br>\n",
        "\n",
        "### 4.1.3 Funções geométricas na Shapely\n",
        "\n",
        "Na Shapely, além dos atributos geométricos, existem várias funções ou métodos que permitem realizar operações geométricas. Essas funções são úteis para manipular, analisar e transformar geometrias. A seguir utilizaremos algumas das funções geométricas mais importantes na Shapely.\n",
        "<br>\n",
        "\n",
        "buffer: Cria um buffer ao redor de uma geometria com uma distância especificada."
      ]
    },
    {
      "cell_type": "code",
      "execution_count": null,
      "id": "93e9e1fc",
      "metadata": {
        "id": "93e9e1fc"
      },
      "outputs": [],
      "source": [
        "ponto = Point(0, 0)\n",
        "buffer = ponto.buffer(1)\n",
        "buffer"
      ]
    },
    {
      "cell_type": "markdown",
      "id": "e87ddbc4",
      "metadata": {
        "id": "e87ddbc4"
      },
      "source": [
        "<br><br>\n",
        "\n",
        "union: Retorna a união geométrica entre geometrias."
      ]
    },
    {
      "cell_type": "code",
      "execution_count": null,
      "id": "ce2b43b0",
      "metadata": {
        "id": "ce2b43b0"
      },
      "outputs": [],
      "source": [
        "pontoA = Point(0, 0)\n",
        "pontoB = Point(2.5,0)\n",
        "bufferA = pontoA.buffer(2)\n",
        "bufferB = pontoB.buffer(2)\n",
        "uniao = bufferA.union(bufferB)\n",
        "uniao"
      ]
    },
    {
      "cell_type": "markdown",
      "id": "7a7eb91d",
      "metadata": {
        "id": "7a7eb91d"
      },
      "source": [
        "<br>\n",
        "\n",
        "intersection: Retorna a interseção geométrica entre geometrias."
      ]
    },
    {
      "cell_type": "code",
      "execution_count": null,
      "id": "0fb56f84",
      "metadata": {
        "id": "0fb56f84"
      },
      "outputs": [],
      "source": [
        "interseccao = bufferA.intersection(bufferB)\n",
        "interseccao"
      ]
    },
    {
      "cell_type": "markdown",
      "id": "6106b840",
      "metadata": {
        "id": "6106b840"
      },
      "source": [
        "<br>\n",
        "\n",
        "difference: Retorna a diferença geométrica entre geometrias (subtrai a segunda geometria da primeira)."
      ]
    },
    {
      "cell_type": "code",
      "execution_count": null,
      "id": "f23e4250",
      "metadata": {
        "id": "f23e4250"
      },
      "outputs": [],
      "source": [
        "diferencaAB = bufferA.difference(bufferB)\n",
        "diferencaAB"
      ]
    },
    {
      "cell_type": "code",
      "execution_count": null,
      "id": "12fdb4cc",
      "metadata": {
        "id": "12fdb4cc"
      },
      "outputs": [],
      "source": [
        "diferencaBA = bufferB.difference(bufferA)\n",
        "diferencaBA"
      ]
    },
    {
      "cell_type": "markdown",
      "id": "4c392d58",
      "metadata": {
        "id": "4c392d58"
      },
      "source": [
        "<br>\n",
        "\n",
        "symmetric_difference: Retorna as partes de duas geometrias que não são compartilhadas entre si."
      ]
    },
    {
      "cell_type": "code",
      "execution_count": null,
      "id": "acf64819",
      "metadata": {
        "id": "acf64819"
      },
      "outputs": [],
      "source": [
        "dif_simetrica = bufferA.symmetric_difference(bufferB)\n",
        "dif_simetrica"
      ]
    },
    {
      "cell_type": "markdown",
      "id": "b52d01b5",
      "metadata": {
        "id": "b52d01b5"
      },
      "source": [
        "<br>\n",
        "\n",
        "contains: Verifica se uma geometria contém a outra geometria fornecida."
      ]
    },
    {
      "cell_type": "code",
      "execution_count": null,
      "id": "4d30b997",
      "metadata": {
        "id": "4d30b997"
      },
      "outputs": [],
      "source": [
        "bufferA.contains(Point(1, 1))"
      ]
    },
    {
      "cell_type": "markdown",
      "id": "e870166b",
      "metadata": {
        "id": "e870166b"
      },
      "source": [
        "<br>\n",
        "\n",
        "intersects: Verifica se uma geometria intercepta a outra geometria fornecida."
      ]
    },
    {
      "cell_type": "code",
      "execution_count": null,
      "id": "0ccac4f4",
      "metadata": {
        "id": "0ccac4f4"
      },
      "outputs": [],
      "source": [
        "bufferA.intersects(bufferB)"
      ]
    },
    {
      "cell_type": "markdown",
      "id": "dd5e2799",
      "metadata": {
        "id": "dd5e2799"
      },
      "source": [
        "<br>\n",
        "\n",
        "crosses: Verifica se uma geometria cruza a outra (aplicável principalmente com linhas)."
      ]
    },
    {
      "cell_type": "code",
      "execution_count": null,
      "id": "dd5aa9ed",
      "metadata": {
        "id": "dd5aa9ed"
      },
      "outputs": [],
      "source": [
        "linha1 = LineString([(0, 1), (3, 1)])\n",
        "linha2 = LineString([(1, 0), (1, 3)])"
      ]
    },
    {
      "cell_type": "code",
      "execution_count": null,
      "id": "80080b9c",
      "metadata": {
        "id": "80080b9c"
      },
      "outputs": [],
      "source": [
        "linha1.crosses(linha2)"
      ]
    },
    {
      "cell_type": "markdown",
      "id": "fdb295f0",
      "metadata": {
        "id": "fdb295f0"
      },
      "source": [
        "<br>\n",
        "\n",
        "distance: Calcula a distância mínima entre as geometrias."
      ]
    },
    {
      "cell_type": "code",
      "execution_count": null,
      "id": "64b7ee1b",
      "metadata": {
        "id": "64b7ee1b"
      },
      "outputs": [],
      "source": [
        "distancia = pontoB.distance(bufferA)\n",
        "distancia"
      ]
    },
    {
      "cell_type": "markdown",
      "id": "4704307a",
      "metadata": {
        "id": "4704307a"
      },
      "source": [
        "<br>\n",
        "\n",
        "envelope: Retorna o menor retângulo delimitador que contém uma geometria."
      ]
    },
    {
      "cell_type": "code",
      "execution_count": null,
      "id": "d8b82fd3",
      "metadata": {
        "id": "d8b82fd3"
      },
      "outputs": [],
      "source": [
        "envelope = bufferA.envelope\n",
        "envelope"
      ]
    },
    {
      "cell_type": "markdown",
      "id": "55b6b973",
      "metadata": {
        "id": "55b6b973"
      },
      "source": [
        "![Figura 6](https://github.com/Alexandrogschafer/Programacao-Geoprocessamento/blob/gh-pages/notebooks/images/fig6.png?raw=1)\n",
        "\n",
        "Figura 6: Visualização do buffer e do respectivo envelope\n",
        "<br><br>\n",
        "\n",
        "## 4.2 Leitura de arquivos com Fiona\n",
        "\n",
        "A maneira como os dados espaciais são armazenados é diferente dos arquivos de texto ou binários comuns. Desta maneira, abrir um arquivo geoespacial (como um shapefile, GeoJSON, entre outros) requer uma interpretação especializada das estruturas de dados contidas no arquivo.\n",
        "\n",
        "A Fiona fornece a interface e as funcionalidades necessárias para ler e escrever dados geoespaciais em Python. Ele se baseia no conjunto de bibliotecas GDAL/OGR e fornece uma maneira \"pythonic\" de manipular arquivos de formato vetorial. Uma vez que os dados são lidos com Fiona, as geometrias podem ser facilmente convertidas em objetos Shapely para análise e manipulação geométrica.\n",
        "\n",
        "\n",
        "### 4.2.1 Leitura de arquivos shapefile com Fiona\n",
        "\n",
        "O shapefile é um formato de arquivo popular para armazenar informações geográficas, amplamente utilizado em Sistemas de Informações Geográficas (SIG ou GIS, em inglês). Embora existam outros formatos (como GeoJSON, GML, KML) que são mais modernos e flexíveis em muitos aspectos, o formato shapefile pode ser considerado o padrão na área de SIG atualmente.\n",
        "Além das informações geográficas (coordenadas que definem a geometria), cada objeto em um shapefile pode ter um conjunto de atributos associado. Além disso, um shapefile pode (e geralmente tem) um sistema de referência de coordenadas associado, que define o sistema de projeção.\n",
        "\n",
        "É importante ressaltar que o shapefile é, na realidade, um conjunto de arquivos que trabalham juntos para representar e armazenar informações geográficas e seus atributos. Existem três arquivos principais, essenciais para que o shapefile funcione corretamente, e vários outros arquivos auxiliares que podem acompanhar um shapefile dependendo das características e necessidades do conjunto de dados. Nos quadros 8 e 9 apresenta-se os principais arquivos que podem constituir um shapefile.\n",
        "<br><br>\n",
        "\n",
        "Quadro 8: Arquivos obrigatórios\n",
        "\n",
        "| Arquivo | Descrição                                                                                                                     |\n",
        "|---------|-------------------------------------------------------------------------------------------------------------------------------|\n",
        "| shp     | Contém a geometria dos objetos, por exemplo, pontos, linhas ou polígonos.                                                      |\n",
        "| shx     | É o índice da geometria. Ele fornece um índice para os objetos no arquivo .shp, permitindo um acesso mais rápido a eles.     |\n",
        "| dbf     | Contém os atributos para cada objeto em uma tabela. Cada linha da tabela corresponde a um objeto no arquivo .shp e cada coluna é um atributo desse objeto. |\n",
        "<br><br>\n",
        "\n",
        "Quadro 9: Arquivos auxiliares\n",
        "\n",
        "| Arquivo | Descrição                                                                                                                                                                                                                                      |\n",
        "|----------|--------------------------------------------------------------------------------------------------------------------------------------------------------------------------------------------------------------------------------------------------|\n",
        "| prj      | Contém informações sobre a projeção e o sistema de coordenadas em que os dados estão definidos.                                                                                                                                               |\n",
        "| sbn      | São arquivos de índice espacial. Eles podem ser usados por alguns sistemas SIG para renderizar e consultar dados mais rapidamente.                                                                                                           |\n",
        "| sbx      | São arquivos de índice espacial. Eles podem ser usados por alguns sistemas SIG para renderizar e consultar dados mais rapidamente.                                                                                                           |\n",
        "| qix      | É um arquivo de índice espacial opcional criado por algumas ferramentas, como o QGIS, para acelerar operações espaciais.                                                                                                                      |\n",
        "| lyr      | É um arquivo utilizado pelo ArcGIS para armazenar informações sobre a simbologia e a visualização do shapefile.                                                                                                                                |\n",
        "| cpg      | Contém informações sobre a codificação de caracteres para o arquivo .dbf, o que pode ser importante para a exibição correta de caracteres especiais ou não ASCII.                                                                             |\n",
        "| atx      | É um arquivo de índice criado pelo ArcGIS para campos específicos na tabela de atributos, acelerando determinadas operações.                                                                                                                    |\n",
        "<br><br>\n",
        "\n",
        "\n",
        "Existem outros arquivos que podem, ocasionalmente, estar associados a um shapefile, especialmente quando se trabalha com softwares específicos que criam arquivos de índice ou metadados adicionais. No entanto, os listados acima são os mais comuns. Vale lembrar que para transferir ou mover um shapefile, é importante manter pelo menos os três arquivos principais juntos (.shp, .shx e .dbf) para garantir a integridade dos dados.\n",
        "\n",
        "O código a seguir é um exemplo de como ler um arquivo shapefile:\n",
        "\n",
        "```\n",
        "import fiona\n",
        "# Abre o arquivo shapefile\n",
        "with fiona.open('caminho_para_seu_arquivo.shp', 'r') as registro:\n",
        "    # Imprime o tipo de geometria (Ex.: 'Point', 'LineString', 'Polygon')\n",
        "    print(registro.schema['geometry'])\n",
        "    # Itera sobre cada recurso no shapefile\n",
        "\n",
        "    for entidade in registro:\n",
        "        # 'entidade' é um dicionário com os atributos e a geometria\n",
        "        geom = entidade['geometry']  # geometria\n",
        "        props = entidade['properties']  # atributos\n",
        "        print(geom)\n",
        "        print(props)\n",
        "```\n",
        "\n",
        "Vamos entender cada parte do código:\n",
        "<br><br>\n",
        "\n",
        "``` import fiona ```\n",
        "\n",
        "A primeira linha importa a biblioteca fiona.\n",
        "<br><br>\n",
        "\n",
        "``` with fiona.open('caminho_para_seu_arquivo.shp', 'r') as registro: ```\n",
        "\n",
        "A função fiona.open é usada para abrir um arquivo shapefile. O argumento 'r' indica que o arquivo está sendo aberto no modo de leitura (read). A instrução with é usada aqui para garantir que o arquivo seja fechado corretamente após sua utilização, independentemente de ocorrerem erros durante a execução do código.\n",
        "<br><br>\n",
        "\n",
        "```print(registro.schema['geometry'])```\n",
        "\n",
        "Imprime o tipo de geometria do shapefile, que pode ser, por exemplo, 'Point', 'Linestring' ou 'Polygon'. registro.schema é um dicionário que descreve os atributos e a geometria do shapefile.\n",
        "<br><br>\n",
        "\n",
        "``` for entidade in registro: ```\n",
        "\n",
        "Este é um loop que itera sobre cada registro no shapefile. O objetivo dessa iteração é processar cada entidade individualmente.\n",
        "<br><br>\n",
        "\n",
        "```geom = entidade['geometry']  # geometria```\n",
        "\n",
        "Aqui, a geometria de cada registro é extraída. A geometria pode ser um ponto, uma linha, um polígono, etc.\n",
        "<br><br>\n",
        "\n",
        "```props = entidade['properties']  # atributos```\n",
        "\n",
        "Aqui, os atributos associados a cada recurso são extraídos. Os atributos são os dados associados a cada geometria, como nomes, valores, categorias, etc..\n",
        "<br><br>\n",
        "\n",
        "```\n",
        "print(geom)\n",
        "print(props)\n",
        "```\n",
        "\n",
        "Esse código imprime a geometria e os atributos de cada registro.\n",
        "<br><br>\n",
        "\n",
        "Quando você usa a biblioteca fiona para abrir e ler um shapefile, vários processos ocorrem internamente. Aqui está uma visão geral do que acontece:\n",
        "\n",
        "Abertura do Arquivo: Quando você chama fiona.open(), a biblioteca primeiramente localiza e abre o arquivo shapefile para leitura;\n",
        "Leitura dos Metadados: Uma vez que o arquivo é aberto, fiona começa lendo os metadados associados ao shapefile. Isso inclui informações sobre o sistema de coordenadas, o tipo de geometria (pontos, linhas, polígonos, etc.) e a estrutura do arquivo de atributos (campos, tipos de dados, etc.);\n",
        "\n",
        "Interface Iterável: A biblioteca fornece uma interface iterável sobre os registros no shapefile. Cada registro contém uma geometria e um conjunto associado de atributos;\n",
        "\n",
        "Acesso Direto à Geometria e Atributos: Ao iterar sobre os registros, você pode acessar diretamente as geometrias e os atributos de cada registro. Fiona retorna geometrias no formato GeoJSON e permite que você interaja com os atributos como se estivesse trabalhando com um dicionário em Python;\n",
        "\n",
        "Conversão de Geometrias: Embora as geometrias retornem no formato GeoJSON, elas são compatíveis com a biblioteca shapely. Isto significa que você pode convertê-las em objetos shapely para análise e manipulação geométrica;\n",
        "\n",
        "Fechamento Automático: Se você usar fiona dentro de um bloco with (como é recomendado), o arquivo será automaticamente fechado quando o bloco for concluído. Isso garante que os recursos do sistema sejam liberados e que não haja bloqueios no arquivo;\n",
        "\n",
        "Manipulação de Erros: Durante todo o processo, fiona tem mecanismos para lidar com erros. Se houver algum problema com o arquivo (por exemplo, se estiver corrompido ou faltando componentes), fiona geralmente lançará um erro explicativo.\n",
        "<br><br>\n",
        "\n",
        "*Obtendo metadados do arquivo*\n",
        "\n",
        "Os metadados de um shapefile referem-se a informações sobre o próprio shapefile, como o sistema de coordenadas em que os dados estão projetados, o tipo de geometria (pontos, linhas ou polígonos) e outras informações que descrevem o conteúdo, qualidade, condição, e outras características do arquivo. Em muitos casos, os metadados são vitais para a correta interpretação e uso dos dados no shapefile. Sem metadados adequados, um usuário pode interpretar mal os dados, levando a decisões ou análises incorretas.\n",
        "\n",
        "Os metadados de um arquivo shapefile utilizando Fiona podem ser obtidos utilizando o seguinte código:\n",
        "\n",
        "```\n",
        "import fiona\n",
        "with fiona.open('caminho_para_seu_arquivo.shp', 'r') as registro:\n",
        "    # Sistema de coordenadas\n",
        "    crs = registro.crs\n",
        "    print('CRS:', crs)\n",
        "\n",
        "    # Limites do conjunto de dados\n",
        "    bounds = registro.bounds\n",
        "    print('Ext_espacial:', bounds)\n",
        "\n",
        "    # Total de recursos no arquivo\n",
        "    total = len(registro)\n",
        "    print('Total de registros:', total)\n",
        "```\n",
        "\n",
        "Nesse código, fiona.open() é usado para abrir e ler o arquivo shapefile; registro.crs fornece o Sistema de Referência de Coordenadas (CRS) do shapefile; registro.bounds retorna uma tupla com os limites do conjunto de dados: (minx, miny, maxx, maxy), onde minx e miny são as coordenadas mínimas x e y, e maxx e maxy são as coordenadas máximas x e y; len(registro) retorna o número total de recursos no arquivo shapefile, ou seja, a quantidade de objetos que ele contém.\n",
        "\n",
        "Exemplo: Vamos abrir o shapefile “BR_UF.shp”, constituído por polígonos referentes a cada estado brasileiro (figura 7) e pelos atributos que constam na figura 8.\n",
        "\n",
        "![Figura 7](https://github.com/Alexandrogschafer/Programacao-Geoprocessamento/blob/gh-pages/notebooks/images/fig7.png?raw=1)\n",
        "\n",
        "Figura 7: Visualização do arquivo shapefile BR_UF.\n",
        "<br><br>\n",
        "\n",
        "![Figura 8](https://github.com/Alexandrogschafer/Programacao-Geoprocessamento/blob/gh-pages/notebooks/images/fig8.png?raw=1)\n",
        "\n",
        "Figura 8: Visualização parcial da tabela de atributos de BR_UF.\n",
        "<br><br>\n",
        "\n",
        "Vamos utilizar o script abaixo para abrir o shapefile, ler as geometrias do tipo Polygon e imprimir os atributos CD_UF, NM_UF e SIGLA_UF."
      ]
    },
    {
      "cell_type": "markdown",
      "source": [
        "Inicialmente, vamos acessar os arquivos diretamente do Google Drive. Para tanto, vamos aplicar o seguinte código:"
      ],
      "metadata": {
        "id": "EpUR7a9AoyZF"
      },
      "id": "EpUR7a9AoyZF"
    },
    {
      "cell_type": "code",
      "source": [
        "from google.colab import drive\n",
        "drive.mount('/content/drive')"
      ],
      "metadata": {
        "id": "Ct5sz49tnWda"
      },
      "id": "Ct5sz49tnWda",
      "execution_count": null,
      "outputs": []
    },
    {
      "cell_type": "code",
      "execution_count": null,
      "id": "638691e3",
      "metadata": {
        "id": "638691e3"
      },
      "outputs": [],
      "source": [
        "import fiona\n",
        "with fiona.open('/content/drive/MyDrive/files/cap4/f4/BR_UF.shp', 'r') as registro:\n",
        "    print(registro.schema['geometry'])\n",
        "\n",
        "    for entidade in registro:\n",
        "        geom = entidade['geometry']\n",
        "        props = entidade['properties']\n",
        "\n",
        "        # Extrai os atributos desejados\n",
        "        id_estado = props['CD_UF']\n",
        "        nome = props['NM_UF']\n",
        "        sigla = props['SIGLA_UF']\n",
        "\n",
        "        # Imprime os atributos\n",
        "        print(f'ID: {id_estado}, Nome: {nome}, Sigla: {sigla}')\n"
      ]
    },
    {
      "cell_type": "markdown",
      "id": "ead18688",
      "metadata": {
        "id": "ead18688"
      },
      "source": [
        "<br><br>\n",
        "\n",
        "Aplicando o script de consulta de metadados, obtemos:"
      ]
    },
    {
      "cell_type": "code",
      "execution_count": null,
      "id": "f7413004",
      "metadata": {
        "id": "f7413004"
      },
      "outputs": [],
      "source": [
        "with fiona.open('/content/drive/MyDrive/files/cap4/f4/BR_UF.shp', 'r') as registro:\n",
        "    # Sistema de coordenadas\n",
        "    crs = registro.crs\n",
        "    print('CRS:', crs)\n",
        "\n",
        "    # Limites do conjunto de dados\n",
        "    bounds = registro.bounds\n",
        "    print('Ext_espacial:', bounds)\n",
        "\n",
        "    # Total de recursos no arquivo\n",
        "    total = len(registro)\n",
        "    print('Total de registros:', total)"
      ]
    },
    {
      "cell_type": "markdown",
      "id": "59213748",
      "metadata": {
        "id": "59213748"
      },
      "source": [
        "O EPSG 4674 refere-se ao sistema de referência geodésica chamado \"SIRGAS 2000\". EPSG é o acrônimo de \"European Petroleum Survey Group\", que é uma organização que mantém e publica uma base de dados de informações de referência espacial. Isso inclui sistemas de coordenadas geográficas, projeções e elipsóides.\n",
        "\n",
        "\n",
        "\n",
        "## 4.3 Manipulando e escrevendo com Shapely e Fiona\n",
        "\n",
        "Escrever dados espaciais usando as bibliotecas Shapely e Fiona é uma tarefa comum em aplicações de geoprocessamento com Python. A Shapely é utilizada para manipular e analisar dados geométricos, enquanto a Fiona é usada para ler e escrever dados geoespaciais. Vamos criar um exemplo simples para demonstrar como escrever um shapefile contendo pontos usando Shapely e Fiona:\n",
        "\n",
        "Exemplo 1: Criar um shapefile contendo um único ponto (5,5) com as propriedades 'ID' e 'NOME'. Você pode estender o exemplo adicionando mais pontos ou outras geometrias e propriedades, conforme sua necessidade."
      ]
    },
    {
      "cell_type": "code",
      "execution_count": null,
      "id": "d062fb8b",
      "metadata": {
        "id": "d062fb8b"
      },
      "outputs": [],
      "source": [
        "from shapely.geometry import mapping\n",
        "\n",
        "# Define a estrutura do shapefile\n",
        "esquema = {\n",
        "    'geometry': 'Point',\n",
        "    'properties': {'id': 'int', 'nome': 'str'},\n",
        "}\n",
        "\n",
        "# Caminho e nome para o novo shapefile\n",
        "shapefile_saida = 'files_out/pontos_saida.shp'\n",
        "\n",
        "# Cria um novo shapefile\n",
        "with fiona.open(shapefile_saida, 'w', 'ESRI Shapefile', esquema) as c:\n",
        "\n",
        "    # Exemplo de dados: um ponto com coordenadas (5,5) e algumas propriedades\n",
        "    ponto = Point(5, 5)\n",
        "    propriedades = {'id': 1, 'nome': 'Ponto de exemplo'}\n",
        "\n",
        "    # Escreve o ponto no shapefile\n",
        "    c.write({\n",
        "        'geometry': mapping(ponto),\n",
        "        'properties': propriedades\n",
        "    })\n",
        "\n",
        "print(f'Shapefile {shapefile_saida} criado com sucesso!')"
      ]
    },
    {
      "cell_type": "markdown",
      "id": "4f0df31f",
      "metadata": {
        "id": "4f0df31f"
      },
      "source": [
        "<br><br>\n",
        "\n",
        "Vamos detalhar o código:\n",
        "<br><br>\n",
        "\n",
        "```import fiona ```\n",
        "\n",
        "Importa a biblioteca Fiona, que é usada para a leitura e escrita de arquivos geoespaciais.\n",
        "<br><br>\n",
        "\n",
        "```from shapely.geometry import mapping ```\n",
        "\n",
        "Importa a função mapping é usada para converter geometrias Shapely em um formato que Fiona possa entender.\n",
        "<br><br>\n",
        "\n",
        "```\n",
        "esquema = {\n",
        "    'geometry': 'Point',\n",
        "    'properties': {'id': 'int', 'name': 'str'},\n",
        "}\n",
        "```\n",
        "\n",
        "Um dicionário chamado esquema é definido para especificar a estrutura do shapefile. Indica que o shapefile conterá geometrias do tipo ponto ('geometry': 'Point') e terá duas propriedades/atributos: id (um número inteiro) e name (uma string).\n",
        "<br><br>\n",
        "\n",
        "``` shapefile_saida = 'pontos_saida.shp' ```\n",
        "\n",
        "Especifica o nome e o caminho do novo shapefile que será criado: shapefile_saida.\n",
        "<br><br>\n",
        "\n",
        "``` with fiona.open(shapefile_saida, 'w', 'ESRI Shapefile', esquema) as c:```\n",
        "\n",
        "Aqui, o comando fiona.open é usado com o argumento 'w' (para escrita) para criar um novo shapefile. Também especifica o formato do arquivo ('ESRI Shapefile') e o esquema previamente definido.\n",
        "<br><br>\n",
        "\n",
        "```\n",
        "ponto = Point(5, 5)\n",
        "    propriedades = {'ID': 1, 'NOME': 'Ponto de exemplo'}\n",
        "```\n",
        "\n",
        "Um objeto de ponto é criado usando a classe Point da biblioteca Shapely, e as propriedades associadas a esse ponto são armazenadas no dicionário “propriedades”.\n",
        "<br><br>\n",
        "\n",
        "```\n",
        "   c.write({\n",
        "        'geometry': mapping(ponto),\n",
        "        'properties': propriedades\n",
        "    })\n",
        "```\n",
        "\n",
        "O ponto e suas propriedades são escritos no shapefile. A função mapping é usada para converter o objeto de ponto em um formato que Fiona possa entender e escrever no arquivo.\n",
        "<br><br>\n",
        "\n",
        "``` print(f'Shapefile {shapefile_saida} criado com sucesso!') ```\n",
        "\n",
        "Uma mensagem é impressa para confirmar que o shapefile foi criado com sucesso.\n",
        "<br><br>\n",
        "\n",
        "Você pode visualizar os arquivos criados na aba files, na lateral esquerda do ambiente do Google Colab.\n",
        "\n",
        "Lembre-se de que ao trabalhar com shapefiles, além do arquivo .shp, outros arquivos (como .shx e .dbf) também são gerados. Se você decidir mover ou compartilhar seu shapefile, certifique-se de incluir esses arquivos auxiliares.\n",
        "<br><br>\n",
        "\n",
        "\n",
        "Exemplo 2: Criar um shapefile com as capitais do Brasil, com geometrias do tipo ponto."
      ]
    },
    {
      "cell_type": "code",
      "execution_count": null,
      "id": "d58f6d3f",
      "metadata": {
        "id": "d58f6d3f"
      },
      "outputs": [],
      "source": [
        "from fiona.crs import from_epsg\n",
        "\n",
        "\n",
        "esquema = {\n",
        "    'geometry': 'Point',\n",
        "    'properties': {'capital': 'str', 'estado': 'str'},\n",
        "}"
      ]
    },
    {
      "cell_type": "markdown",
      "id": "1fde3b63",
      "metadata": {
        "id": "1fde3b63"
      },
      "source": [
        "Nesse código, importamos as bibliotecas e definimos a estrutura do arquivo shapefile. O campo geometry define que o arquivo conterá pontos (Point). O campo properties especifica que cada ponto terá dois atributos associados: capital (o nome da capital) e estado (o nome do estado), ambos do tipo string (str).\n",
        "<br><br>"
      ]
    },
    {
      "cell_type": "code",
      "execution_count": null,
      "id": "2a14b7bd",
      "metadata": {
        "id": "2a14b7bd"
      },
      "outputs": [],
      "source": [
        "capitais = {\n",
        "    'Brasília': ('Distrito Federal', (-47.8825, -15.7934)),\n",
        "    'Rio Branco': ('Acre', (-67.8270, -9.97499)),\n",
        "    'Maceió': ('Alagoas', (-35.7353, -9.66599)),\n",
        "    'Manaus': ('Amazonas', (-60.0253, -3.11333)),\n",
        "    'Macapá': ('Amapá', (-51.0705, 0.039452)),\n",
        "    'Salvador': ('Bahia', (-38.5014, -12.9714)),\n",
        "    'Fortaleza': ('Ceará', (-38.5423, -3.71722)),\n",
        "    'Vitória': ('Espírito Santo', (-40.2976, -20.3195)),\n",
        "    'Goiânia': ('Goiás', (-49.2539, -16.6869)),\n",
        "    'São Luís': ('Maranhão', (-44.3028, -2.52996)),\n",
        "    'Cuiabá': ('Mato Grosso', (-56.0974, -15.6014)),\n",
        "    'Campo Grande': ('Mato Grosso do Sul', (-54.6156, -20.4428)),\n",
        "    'Belo Horizonte': ('Minas Gerais', (-43.9378, -19.9208)),\n",
        "    'Belém': ('Pará', (-48.4874, -1.4554)),\n",
        "    'João Pessoa': ('Paraíba', (-34.8761, -7.11509)),\n",
        "    'Curitiba': ('Paraná', (-49.2713, -25.4296)),\n",
        "    'Recife': ('Pernambuco', (-34.8813, -8.05428)),\n",
        "    'Teresina': ('Piauí', (-42.8056, -5.09194)),\n",
        "    'Rio de Janeiro': ('Rio de Janeiro', (-43.1965, -22.9083)),\n",
        "    'Natal': ('Rio Grande do Norte', (-35.2091, -5.79448)),\n",
        "    'Porto Alegre': ('Rio Grande do Sul', (-51.2167, -30.0277)),\n",
        "    'Porto Velho': ('Rondônia', (-63.9004, -8.76077)),\n",
        "    'Boa Vista': ('Roraima', (-60.6733, 2.81972)),\n",
        "    'Florianópolis': ('Santa Catarina', (-48.5012, -27.5954)),\n",
        "    'São Paulo': ('São Paulo', (-46.6395, -23.5475)),\n",
        "    'Aracaju': ('Sergipe', (-37.0763, -10.9873)),\n",
        "    'Palmas': ('Tocantins', (-48.3344, -10.2391))\n",
        "}"
      ]
    },
    {
      "cell_type": "markdown",
      "id": "cb06859c",
      "metadata": {
        "id": "cb06859c"
      },
      "source": [
        "Com este código, criamos um dicionário chamado “capitais”. As chaves do dicionário são os nomes das capitais e os valores são tuplas que contêm o nome do estado e as coordenadas (longitude e latitude) da respectiva capital.\n",
        "<br><br>"
      ]
    },
    {
      "cell_type": "code",
      "execution_count": null,
      "id": "87b8c6b9",
      "metadata": {
        "id": "87b8c6b9"
      },
      "outputs": [],
      "source": [
        "# Neste trecho, o código inicia o processo de criação do arquivo shapefile usando a biblioteca fiona. O arquivo será salvo como 'capitais_br.shp' na pasta files_out. O CRS (Sistema de Referência de Coordenadas) utilizado é o EPSG 4326.\n",
        "\n",
        "with fiona.open('files_out/capitais_br.shp', 'w', driver='ESRI Shapefile', crs=from_epsg(4326), schema=esquema) as layer:\n",
        "    for capital, (estado, coords) in capitais.items():\n",
        "        ponto = Point(coords)\n",
        "        propriedades = {\n",
        "            'geometry': {\n",
        "                'type': 'Point',\n",
        "                'coordinates': coords,\n",
        "            },\n",
        "            'properties': {\n",
        "                'capital': capital,\n",
        "                'estado': estado,\n",
        "            },\n",
        "        }\n",
        "        layer.write(propriedades)"
      ]
    },
    {
      "cell_type": "markdown",
      "id": "17bf0141",
      "metadata": {
        "id": "17bf0141"
      },
      "source": [
        "Nesse código, iteramos sobre o dicionário capitais. Para cada capital, ele cria um objeto Point com as coordenadas. Em seguida, ele cria um dicionário propriedades que contém as informações geométricas e os atributos associados. Esse dicionário é então escrito (adicionado) no arquivo shapefile usando o método write.\n",
        "<br><br>"
      ]
    },
    {
      "cell_type": "code",
      "execution_count": null,
      "id": "e586a23b",
      "metadata": {
        "id": "e586a23b"
      },
      "outputs": [],
      "source": [
        "print('Shapefile criado com sucesso!')"
      ]
    },
    {
      "cell_type": "markdown",
      "id": "e8b7a17e",
      "metadata": {
        "id": "e8b7a17e"
      },
      "source": [
        "Por fim, o código imprime uma mensagem indicando que o arquivo shapefile foi criado com sucesso.\n",
        "\n",
        "Na figura 9 podemos visualizar os pontos referentes as capitais provenientes do arquivo shapefile criado.\n",
        "\n",
        "![Figura 9](https://github.com/Alexandrogschafer/Programacao-Geoprocessamento/blob/gh-pages/notebooks/images/fig9.png?raw=1)\n",
        "\n",
        "Figura 9: Visualização dos pontos referentes às capitais dos estados brasileiros.\n",
        "<br><br>\n",
        "\n",
        "Exemplo 3: Escrever um arquivo em formato GeoJSON\n",
        "\n",
        "O GeoJSON é um formato de intercâmbio de dados geoespaciais, baseado no JSON (JavaScript Object Notation). Foi desenvolvido para representar objetos geográficos simples, juntamente com seus atributos não espaciais. Devido à simplicidade e à crescente adoção de tecnologias baseadas em web para aplicações geoespaciais, o GeoJSON vem se tornando um dos formatos padrão para transmissão de dados geoespaciais na web.\n",
        "\n",
        "O GeoJSON suporta vários tipos de geometria, incluindo Point (ponto), Linestring (linha), Polygon (polígono), Multipoint, Multilinestring, e Multipolygon. Além disso, ele suporta GeometryCollection, que, como vimos, é uma coleção de geometrias. Além da geometria, cada objeto GeoJSON pode ter atributos associados. Estes são armazenados em um objeto chamado propriedades. As coordenadas em GeoJSON são sempre em longitude e latitude (e opcionalmente altitude), e são representadas no formato decimal.\n",
        "\n",
        "Para criar um arquivo GeoJSON na fiona, é necessário alterar o argumento driver para \"GeoJSON\" quando você abrir o arquivo para escrita com fiona.open(). Esse argumento especifica o formato desejado, que neste caso é GeoJSON.\n",
        "with fiona.open(arquivo_saida, 'w', driver='GeoJSON', schema=esquema) as c:\n",
        "\n",
        "Vamos criar um arquivo GeoJSON contendo uma linha definida a partir de três pontos."
      ]
    },
    {
      "cell_type": "code",
      "execution_count": null,
      "id": "ad9cc441",
      "metadata": {
        "id": "ad9cc441"
      },
      "outputs": [],
      "source": [
        "# Define a estrutura do GeoJSON\n",
        "esquema = {\n",
        "    'geometry': 'LineString',\n",
        "    'properties': {'id': 'int', 'descricao': 'str'},\n",
        "}\n",
        "\n",
        "# Caminho e nome para o novo GeoJSON\n",
        "arquivo_saida = 'files_out/linhas_saida.geojson'\n",
        "\n",
        "# Cria um novo arquivo GeoJSON\n",
        "\n",
        "with fiona.open(arquivo_saida, 'w', driver='GeoJSON', schema=esquema) as c:\n",
        "\n",
        "    # Exemplo de dados: uma linha com coordenadas [(0,0), (5,5), (10,10)] e algumas propriedades\n",
        "    linha = LineString([(0, 0), (5, 5), (10, 10)])\n",
        "    propriedades = {'id': 1, 'descricao': 'Linha Exemplo'}\n",
        "\n",
        "    # Escreve a linha no GeoJSON\n",
        "    c.write({\n",
        "        'geometry': mapping(linha),\n",
        "        'properties': propriedades,\n",
        "    })\n",
        "\n",
        "print(f'Arquivo GeoJSON {arquivo_saida} criado com sucesso!')"
      ]
    },
    {
      "cell_type": "markdown",
      "id": "0c5a2755",
      "metadata": {
        "id": "0c5a2755"
      },
      "source": [
        "<br><br>\n",
        "\n",
        "\n",
        "Exemplo 4: Escrever um arquivo shapefile com geometrias do tipo polígono\n",
        "\n",
        "Para escrever um shapefile contendo polígonos, utilizaremos a mesma sintaxe dos exemplos anteriores, usando Shapely para a criação das geometrias e Fiona para a escrita dos dados em formato shapefile:"
      ]
    },
    {
      "cell_type": "code",
      "execution_count": null,
      "id": "7949bd9e",
      "metadata": {
        "id": "7949bd9e"
      },
      "outputs": [],
      "source": [
        "# Define a estrutura do shapefile\n",
        "esquema = {\n",
        "    'geometry': 'Polygon',\n",
        "    'properties': {'id': 'int', 'descricao': 'str'},\n",
        "}\n",
        "\n",
        "# Caminho e nome para o novo shapefile\n",
        "arquivo_saida = 'files_out/poligonos_saida.shp'\n",
        "\n",
        "# Cria um novo shapefile\n",
        "with fiona.open(arquivo_saida, 'w', 'ESRI Shapefile', esquema) as c:\n",
        "\n",
        "    # Exemplo de dados: um polígono com coordenadas [(0,0), (5,5), (10,0), (0,0)]\n",
        "    #e algumas propriedades\n",
        "    poligono = Polygon([(0, 0), (5, 5), (10, 0), (0, 0)])\n",
        "    propriedades = {'id': 1, 'descricao': 'Polígono Exemplo'}\n",
        "\n",
        "    # Escreve o polígono no shapefile\n",
        "    c.write({\n",
        "        'geometry': mapping(poligono),\n",
        "        'properties': propriedades,\n",
        "    })\n",
        "\n",
        "print(f'Shapefile {arquivo_saida} criado com sucesso!')"
      ]
    },
    {
      "cell_type": "markdown",
      "id": "a859b32f",
      "metadata": {
        "id": "a859b32f"
      },
      "source": [
        "<br><br>\n",
        "\n",
        "Você pode visualizar os arquivos criados na aba 'files', na lateral esquerda do ambiente do Google Colab, na pasta 'files_out'.\n",
        "\n",
        "\n",
        "É possível estender o exemplo acima para adicionar mais polígonos ou outras propriedades conforme a necessidade. Novamente, lembre-se de que shapefiles são compostos por múltiplos arquivos (.shp, .shx, .dbf, entre outros). Ao mover ou compartilhar seu shapefile, não se esqueça de incluir todos os arquivos auxiliares."
      ]
    }
  ],
  "metadata": {
    "kernelspec": {
      "display_name": "Python 3",
      "language": "python",
      "name": "python3"
    },
    "colab": {
      "provenance": []
    }
  },
  "nbformat": 4,
  "nbformat_minor": 5
}
