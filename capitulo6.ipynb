{
 "cells": [
  {
   "cell_type": "markdown",
   "id": "47fce249",
   "metadata": {},
   "source": [
    "# 6. VISUALIZAÇÃO DE DADOS GEOESPACIAIS NO PYTHON\n",
    "\n",
    "[Abrir no Google Colab](https://colab.research.google.com/github/Alexandrogschafer/Programacao-Geoprocessamento/blob/main/capitulo6.ipynb)\n",
    "\n",
    "O geoprocessamento, como área que se dedica à coleta, processamento e análise de dados geoespaciais, é intrinsecamente ligado à visualização de informações. A representação gráfica desses dados não apenas facilita a compreensão de padrões e tendências espaciais, mas também serve como uma ponte entre informações complexas e a tomada de decisões informadas. Mapas, gráficos e outras representações visuais transformam conjuntos de dados brutos em insights tangíveis, permitindo que especialistas e tomadores de decisão visualizem fenômenos geográficos de maneira mais intuitiva.\n",
    "\n",
    "Além disso, em um mundo onde a quantidade de dados geoespaciais cresce exponencialmente, a capacidade de sintetizar e apresentar esses dados de forma clara e concisa é crucial. A visualização adequada permite que os usuários identifiquem rapidamente áreas de interesse, anomalias ou padrões, otimizando processos de análise e acelerando a resposta a questões geográficas críticas. Esta síntese visual também facilita a comunicação entre diferentes públicos, desde especialistas técnicos até o público em geral, democratizando o acesso à informação geoespacial.\n",
    "\n",
    "Por fim, a visualização de dados no geoprocessamento não se limita à simples representação gráfica. Ela também desempenha um papel vital na validação e qualidade dos dados. Através da representação visual, erros, inconsistências ou lacunas nos dados podem ser rapidamente identificados e corrigidos. Assim, a visualização atua como uma ferramenta de controle de qualidade, garantindo que as análises e decisões tomadas com base nesses dados sejam confiáveis e precisas.\n",
    "\n",
    "Existem diversas ferramentas dedicadas à visualização de dados espaciais. Entre as mais populares estão o QGIS e o ArcGIS. No entanto, linguagens de programação, como Python e R, também oferecem bibliotecas que permitem criar visualizações espaciais complexas e personalizadas. Algumas das principais bibliotecas e ferramentas que possibilitam a visualização de dados espaciais em Python são o Geopandas, o Matplotlib (e Pyplot), o Folium e o Rasterio. Nesta seção, exploraremos algumas dessas ferramentas e bibliotecas. \n",
    "\n",
    "\n",
    "## 6.1 Introdução ao Matplotlib\n",
    "\n",
    "O Matplotlib é uma das principais bibliotecas de visualização de dados em Python, criada por John D. Hunter em 2003. Desde sua concepção, cresceu significativamente como um projeto de código aberto, auxiliado por uma grande comunidade de colaboradores. \n",
    "A biblioteca destaca-se pela sua capacidade de gerar uma ampla variedade de gráficos, como de linha, barras, dispersão, histogramas, entre outros, e se integra com as principais estruturas de dados do Python, como listas e arrays, especialmente com a biblioteca Numpy.\n",
    "Um diferencial do Matplotlib é seu alto grau de personalização. O usuário pode ajustar quase todos os aspectos de uma visualização, desde cores e estilos até a posição das legendas e dos eixos. É possível implementar a biblioteca em diferentes interfaces gráficas, servidores web e Notebooks Jupyter, conferindo grande versatilidade na criação e exportação de gráficos.\n",
    "\n",
    "Além de suas capacidades intrínsecas, a extensibilidade do Matplotlib é evidente no surgimento de bibliotecas derivadas que oferecem funcionalidades adicionais, como o Seaborn para visualizações estatísticas e o Basemap para mapeamento geográfico. Sua adoção generalizada em diversos campos, como pesquisa acadêmica, ciência de dados e engenharia, reforça seu papel como uma ferramenta importante para análise e comunicação de dados.\n",
    "\n",
    "### 6.1.1 Principais abordagens para a criação de gráficos no Matplotlib\n",
    "\n",
    "A criação de gráficos no Matplotlib pode ser abordada de duas maneiras principais: a abordagem funcional e a abordagem orientada a objetos. Ambas permitem a criação de visualizações de alta qualidade, mas são usadas em contextos diferentes e têm diferenças em termos de flexibilidade e controle sobre os elementos do gráfico.\n",
    "\n",
    "A abordagem Funcional é a mais simples, sendo frequentemente usada para gráficos rápidos e diretos. A interface pyplot do Matplotlib oferece uma série de funções que atuam sobre uma configuração padrão em andamento. Por exemplo, quando você chama plt.plot(...), você está modificando o gráfico atual. As funções nesta abordagem se assemelham a comandos, e a sequência em que são chamadas importa, pois alteram o estado atual do gráfico. Embora seja conveniente para gráficos simples, pode tornar-se menos intuitiva para visualizações mais complexas com múltiplos subgráficos.\n",
    "\n",
    "A abordagem orientada a objetos (OO) no Matplotlib refere-se a uma maneira de criar e manipular gráficos usando explicitamente objetos e métodos associados a esses objetos, em vez de depender de uma interface funcional mais direta. Esta abordagem oferece um controle mais explícito e maior flexibilidade sobre a figura e os eixos do gráfico. Ao invés de depender do estado global, você trabalha diretamente com objetos específicos, como a figura e os eixos, permitindo um controle mais preciso sobre todos os aspectos da visualização. É especialmente útil para visualizações mais complexas, como aquelas com múltiplos subgráficos ou eixos. Ela é frequentemente combinada com a interface pyplot para obter a flexibilidade da programação orientada a objeto com a simplicidade das funções do pyplot.\n",
    "\n",
    "Em resumo, enquanto a abordagem funcional é ótima para criar rapidamente visualizações simples, a abordagem orientada a objetos oferece a flexibilidade necessária para criar visualizações mais complexas e personalizadas. A escolha entre as abordagens depende do contexto e da complexidade da visualização desejada. Em nosso curso, vamos optar por trabalhar com a abordagem funcional sempre que possível.\n",
    "\n",
    "\n",
    "## 6.1.2 Primeiros passos no Matplotlib\n",
    "\n",
    "Gráficos básicos\n",
    "\n",
    "Para começar, focaremos na elaboração de gráficos fundamentais, abordando os tipos linha, coluna e dispersão.\n",
    "Exemplo 1:"
   ]
  },
  {
   "cell_type": "code",
   "execution_count": null,
   "id": "1e9097ed",
   "metadata": {},
   "outputs": [],
   "source": [
    "import matplotlib.pyplot as plt\n",
    "x = [0, 1, 2, 3, 4]\n",
    "y = [0, 1, 4, 9, 16]\n",
    "plt.plot(x, y)\n",
    "plt.show()"
   ]
  },
  {
   "cell_type": "markdown",
   "id": "12557d31",
   "metadata": {},
   "source": [
    "Vamos detalhar o código:\n",
    "\n",
    "import matplotlib.pyplot as plt\n",
    "\n",
    "Aqui, importamos o módulo pyplot da biblioteca matplotlib e atribuimos a ele o alias \"plt\". \n",
    "\n",
    "```\n",
    "x = [0, 1, 2, 3, 4]\n",
    "y = [0, 1, 4, 9, 16]\n",
    "```\n",
    "\n",
    "Duas listas são criadas. A lista x representará os valores no eixo horizontal (eixo x), enquanto a lista y representará os valores no eixo vertical (eixo y). \n",
    "\n",
    "\n",
    "``` plt.plot(x, y) ```\n",
    "\n",
    "O método plot do pyplot é usado para plotar as listas x e y como um gráfico de linhas. Por padrão, o Matplotlib traçará uma linha contínua azul ligando os pontos definidos pelas listas x e y. Este comando exibe o gráfico criado:\n",
    "\n",
    "``` plt.show() ```\n",
    "\n",
    "\n",
    "Exemplo 2:"
   ]
  },
  {
   "cell_type": "code",
   "execution_count": null,
   "id": "3301302e",
   "metadata": {},
   "outputs": [],
   "source": [
    "etiqueta = ['A', 'B', 'C']\n",
    "valor = [3, 7, 2]\n",
    "plt.bar(etiqueta, valor)\n",
    "plt.show()"
   ]
  },
  {
   "cell_type": "markdown",
   "id": "a313d99f",
   "metadata": {},
   "source": [
    "Vamos detalhar o código:\n",
    "\n",
    "``` etiqueta = ['A', 'B', 'C'] ```\n",
    "\n",
    "Nesta linha, você está definindo uma lista chamada “etiqueta” que contém três strings: 'A', 'B' e 'C'. Essas serão as etiquetas (ou rótulos) das barras no gráfico.\n",
    "\n",
    "``` valor = [3, 7, 2] ```\n",
    "\n",
    "Aqui, você está definindo uma lista chamada “valor” que contém três números: 3, 7 e 2. Esses números representarão as alturas das barras correspondentes às etiquetas 'A', 'B' e 'C'.\n",
    "\n",
    "```plt.bar(etiqueta, valor) ```\n",
    "\n",
    "Esta é a chamada principal para a criação do gráfico de barras. A função bar() do plt (pyplot) é usada para criar gráficos de barra. Ela espera, pelo menos, dois argumentos: os rótulos das barras e os valores das barras. Neste caso, as barras serão rotuladas como 'A', 'B' e 'C', e terão alturas de 3, 7 e 2 unidades, respectivamente.\n",
    "\n",
    "``` plt.show() ```\n",
    "\n",
    "Por fim, esta linha exibe o gráfico. Ela é responsável por renderizar o gráfico e mostrá-lo ao usuário:\n",
    "\n",
    "Exemplo 3:"
   ]
  },
  {
   "cell_type": "code",
   "execution_count": null,
   "id": "814fe166",
   "metadata": {},
   "outputs": [],
   "source": [
    "x = [1, 2, 3, 4, 5]\n",
    "y = [5, 4, 3, 2, 1]\n",
    "plt.scatter(x, y)\n",
    "plt.show()"
   ]
  },
  {
   "cell_type": "markdown",
   "id": "b9d2c34c",
   "metadata": {},
   "source": [
    "Vamos detalhar o código:\n",
    "\n",
    "``` x = [1, 2, 3, 4, 5] ```\n",
    "\n",
    "Aqui, estamos definindo uma lista chamada x que contém cinco números. Esta lista representará as coordenadas x dos pontos que você deseja plotar no gráfico de dispersão.\n",
    "\n",
    "``` y = [5, 4, 3, 2, 1] ```\n",
    "\n",
    "Nesta linha, estamos definindo uma segunda lista chamada y que também contém cinco números. Essa lista representará as coordenadas y correspondentes dos pontos a serem plotados no gráfico.\n",
    "\n",
    "``` plt.scatter(x, y) ```\n",
    "\n",
    "Esta é a linha principal do código, onde a função scatter() do plt (módulo pyplot da Matplotlib) é chamada para criar um gráfico de dispersão. Ela espera, pelo menos, dois argumentos: as coordenadas x e y dos pontos. Neste caso, estamos instruindo a Matplotlib a criar pontos nas coordenadas (1,5), (2,4), (3,3), (4,2) e (5,1). Por fim:\n",
    "\n",
    "``` plt.show() ```\n",
    "\n",
    "\n",
    "\n",
    "### 6.1.3 Personalizando Gráficos com Matplotlib\n",
    "\n",
    "A efetividade de uma visualização não reside apenas em representar dados, mas também na forma como essa representação é feita. Uma boa personalização pode destacar informações importantes, enquanto uma escolha de design inadequada pode obscurecer ou até mesmo distorcer os dados. O Matplotlib fornece uma grande quantidade de ferramentas para personalizar gráficos, garantindo que eles sejam informativos e esteticamente agradáveis.\n",
    "\n",
    "Cores, marcadores e linhas\n",
    "\n",
    "A aparência visual de um gráfico pode ser definida principalmente por suas cores, os marcadores utilizados e os estilos de linha.\n",
    "\n",
    "Cores\n",
    "\n",
    "Em Matplotlib, a cor de qualquer elemento do gráfico pode ser alterada. As cores podem ser especificadas de várias maneiras, incluindo nomes comuns ('red', 'blue', 'green'), códigos hexadecimais ('#FF5733'), entre outros.  \n",
    "Exemplo:"
   ]
  },
  {
   "cell_type": "code",
   "execution_count": null,
   "id": "39c22295",
   "metadata": {},
   "outputs": [],
   "source": [
    "x = [0, 1, 2, 3, 4]\n",
    "y = [0, 1, 4, 9, 16]\n",
    "plt.plot(x, y, color='red')  # linha vermelha\n",
    "plt.show()"
   ]
  },
  {
   "cell_type": "markdown",
   "id": "8ecb36e4",
   "metadata": {},
   "source": [
    "Marcadores\n",
    "\n",
    "Em gráficos de dispersão ou pontos específicos de uma linha, os marcadores indicam a localização exata de um ponto. Existem diferentes estilos de marcadores disponíveis, como 'o' para círculos, 's' para quadrados, '^' para triângulos, entre outros.  \n",
    "Exemplo:"
   ]
  },
  {
   "cell_type": "code",
   "execution_count": null,
   "id": "dba02581",
   "metadata": {},
   "outputs": [],
   "source": [
    "x = [1, 2, 3, 4, 5]\n",
    "y = [5, 4, 3, 2, 1]\n",
    "plt.scatter(x, y, marker='^') # pontos triangulares\n",
    "plt.show"
   ]
  },
  {
   "cell_type": "markdown",
   "id": "5d347a55",
   "metadata": {},
   "source": [
    "Linhas\n",
    "\n",
    "Os estilos de linha podem variar, e Matplotlib oferece opções como linhas contínuas ('-'), tracejadas ('--'), pontos e traços ('-.'), entre outros.  \n",
    "Exemplo:"
   ]
  },
  {
   "cell_type": "code",
   "execution_count": null,
   "id": "40f76609",
   "metadata": {},
   "outputs": [],
   "source": [
    "x = [0, 1, 2, 3, 4]\n",
    "y = [0, 1, 4, 9, 16]\n",
    "plt.plot(x, y, color='red', linestyle='--')\n",
    "# linha tracejada  \n",
    "plt.show()"
   ]
  },
  {
   "cell_type": "markdown",
   "id": "6aa4bcbd",
   "metadata": {},
   "source": [
    "Para simplificar, a Matplotlib permite combinar o estilo de linha, marcador e cor em uma única string. Por exemplo, 'go-' significa marcadores verdes circulares com uma linha contínua."
   ]
  },
  {
   "cell_type": "code",
   "execution_count": null,
   "id": "4fd16087",
   "metadata": {},
   "outputs": [],
   "source": [
    "plt.plot(x, y, 'ro-')  \n",
    "# linha contínua vermelha com marcadores circulares\n",
    "plt.show()"
   ]
  },
  {
   "cell_type": "markdown",
   "id": "8f952a48",
   "metadata": {},
   "source": [
    "Além disso, a largura da linha e o tamanho do marcador podem ser ajustados usando os argumentos linewidth e markersize, respectivamente."
   ]
  },
  {
   "cell_type": "code",
   "execution_count": null,
   "id": "10ef883a",
   "metadata": {},
   "outputs": [],
   "source": [
    "plt.plot(x, y, 'go-', linewidth=2, markersize=10)\n",
    "plt.show()"
   ]
  },
  {
   "cell_type": "markdown",
   "id": "3bcc8a97",
   "metadata": {},
   "source": [
    "Ao ajustar esses elementos básicos, já é possível criar gráficos mais informativos e visualmente atraentes. \n",
    "\n",
    "\n",
    "Rótulos, títulos e legendas\n",
    "\n",
    "Os rótulos, títulos e legendas são componentes essenciais em visualizações de dados, pois proporcionam contexto e significado, facilitando a interpretação dos gráficos. Vejamos um exemplo:\n",
    "\n",
    "\n",
    "\n",
    "- Rótulos: são usados para dar nome aos eixos (x e y) de um gráfico.\n",
    "\n",
    "- Títulos: uma descrição breve e concisa que indica o propósito ou o conteúdo do gráfico.\n",
    "\n",
    "- Legendas: usadas para identificar as diferentes séries ou categorias em um gráfico, especialmente útil quando várias linhas, pontos ou barras são desenhadas no mesmo espaço.\n",
    "\n",
    "A partir dos elementos apresentados até aqui, podemos sugerir uma estrutura básica para criar um gráfico no Matplotlib:"
   ]
  },
  {
   "cell_type": "code",
   "execution_count": null,
   "id": "1dcc15c9",
   "metadata": {},
   "outputs": [],
   "source": [
    "plt.plot(x, y, label='linha 1')\n",
    "plt.xlabel('Eixo X')\n",
    "plt.ylabel('Eixo Y')\n",
    "plt.title('Gráfico de linhas')\n",
    "plt.legend()\n",
    "plt.show()"
   ]
  },
  {
   "cell_type": "markdown",
   "id": "870e41ee",
   "metadata": {},
   "source": [
    "Vamos detalhar cada componente:\n",
    "\n",
    "plt.plot(x, y, label='Legenda') é a função principal para plotar gráficos de linhas. Ela toma os valores do eixo x e y como entrada e os plota. O argumento label é usado para associar uma legenda a essa linha específica, o que será útil quando chamarmos plt.legend() mais tarde. Podemos ter diversos outros argumentos, como os responsáveis pela definição de cores, marcadores, tipo e espessura de linhas, entre outros;\n",
    "\n",
    "plt.xlabel('Eixo X') e plt.ylabel('Eixo Y') são usadas para adicionar rótulos aos eixos x e y, respectivamente;\n",
    "plt.title('Título do Gráfico') é usada para adicionar um título ao gráfico;\n",
    "\n",
    "plt.legend() é usada para mostrar as legendas associadas a cada série no gráfico. A legenda é baseada nos labels fornecidos nas chamadas anteriores, como em plt.plot();\n",
    "\n",
    "plt.show() é usado para exibir o gráfico. Sem chamar essa função, o gráfico pode não ser exibido (dependendo do ambiente em que você está trabalhando).\n",
    "\n",
    "Esta estrutura básica é suficiente para criar gráficos simples. No entanto, o Matplotlib é uma biblioteca muito versátil e possui muitas outras funcionalidades que permitem personalizar e aprimorar seus gráficos, dependendo da necessidade. \n",
    "\n",
    "\n",
    "Adicionando texto ao gráfico\n",
    "\n",
    "Além dos componentes mencionados acima, o Matplotlib permite que você adicione texto em qualquer parte do gráfico.\n",
    "Use plt.text(x, y, \"Texto\") para adicionar um texto na posição (x, y) do gráfico.\n",
    "\n",
    "Exemplo:"
   ]
  },
  {
   "cell_type": "code",
   "execution_count": null,
   "id": "448aaff4",
   "metadata": {},
   "outputs": [],
   "source": [
    "x = [1, 2, 3, 4, 5]\n",
    "y = [5, 4, 3, 2, 1]\n",
    "plt.plot(x, y, label='linha 1', color='green', linestyle='--')\n",
    "plt.xlabel('Eixo X')\n",
    "plt.ylabel('Eixo Y')\n",
    "plt.title('Gráfico de linhas')\n",
    "plt.text(1, 1.5, 'Texto de exemplo')\n",
    "plt.legend()\n",
    "plt.show()"
   ]
  },
  {
   "cell_type": "markdown",
   "id": "f37c55a6",
   "metadata": {},
   "source": [
    "Nosso exemplo consiste em um gráfico de linhas, em que utilizamos a estrutura básica sugerida anteriormente para a criação de gráficos no Matplotlib. Adicionamos plt.text(x, y, ‘texto’) para inserir o texto “Texto de exemplo” na posição x=1 e y=1.5.\n",
    "\n",
    "\n",
    "Vamos agora plotar um gráfico com duas linhas."
   ]
  },
  {
   "cell_type": "code",
   "execution_count": null,
   "id": "56b5750b",
   "metadata": {},
   "outputs": [],
   "source": [
    "# Dados de exemplo\n",
    "x = [0, 1, 2, 3, 4]\n",
    "y1 = [0, 1, 4, 9, 16]\n",
    "y2 = [0, 2, 3, 7, 11]  \n",
    "\n",
    "# Plotando as linhas\n",
    "plt.plot(x, y1, label='Linha 1', color='blue')\n",
    "plt.plot(x, y2, label='Linha 2', color='green') \n",
    "\n",
    "# Personalizando o gráfico\n",
    "plt.xlabel('Eixo X')\n",
    "plt.ylabel('Eixo Y')\n",
    "plt.title('Gráfico de linhas')\n",
    "plt.legend()\n",
    "\n",
    "# Mostrando o gráfico\n",
    "plt.show()"
   ]
  },
  {
   "cell_type": "markdown",
   "id": "3997be2a",
   "metadata": {},
   "source": [
    "### 6.1.4 Subplots na Matplotlib\n",
    "\n",
    "Subplots são uma maneira de criar múltiplos gráficos em uma única figura. Eles são úteis quando você quer comparar diferentes conjuntos de dados lado a lado ou quando quer visualizar diferentes aspectos de um mesmo conjunto de dados. Com a combinação de subplots e as diversas funções de plotagem disponíveis, você pode criar uma ampla variedade de visualizações para analisar e apresentar seus dados.\n",
    "\n",
    "A função plt.subplots() é a maneira mais comum de criar subplots. Ela retorna uma figura e os eixos dos subplots."
   ]
  },
  {
   "cell_type": "code",
   "execution_count": null,
   "id": "f074d87f",
   "metadata": {},
   "outputs": [],
   "source": [
    "fig, ax = plt.subplots()"
   ]
  },
  {
   "cell_type": "markdown",
   "id": "386308c5",
   "metadata": {},
   "source": [
    "Neste caso, fig é a figura completa, enquanto ax é um único conjunto de eixos. Você pode plotar diretamente neste conjunto de eixos usando métodos como ax.plot().\n",
    "\n",
    "\n",
    "Especificando o número de subplots\n",
    "\n",
    "Você pode especificar o número de subplots passando dois argumentos para plt.subplots(): o número de linhas e o número de colunas."
   ]
  },
  {
   "cell_type": "code",
   "execution_count": null,
   "id": "0fcf32f7",
   "metadata": {},
   "outputs": [],
   "source": [
    "fig, axs = plt.subplots(2, 3)  \n",
    "# Cria uma grade de 2x3 subplots"
   ]
  },
  {
   "cell_type": "markdown",
   "id": "d5166543",
   "metadata": {},
   "source": [
    "Aqui, axs é uma matriz 2x3 contendo os eixos dos subplots. Você pode acessar um subplot específico usando a indexação, como ``` axs[0, 1] ``` para o subplot na primeira linha e segunda coluna.\n",
    "\n",
    "\n",
    "Ajustando o Espaçamento\n",
    "Quando você cria múltiplos subplots, pode ser necessário ajustar o espaçamento entre eles para evitar sobreposição de rótulos ou de títulos. Você pode fazer isso usando plt.tight_layout() ou ajustando manualmente com fig.subplots_adjust()."
   ]
  },
  {
   "cell_type": "code",
   "execution_count": null,
   "id": "fc86b3fd",
   "metadata": {},
   "outputs": [],
   "source": [
    "plt.tight_layout()"
   ]
  },
  {
   "cell_type": "markdown",
   "id": "936a5179",
   "metadata": {},
   "source": [
    "ou"
   ]
  },
  {
   "cell_type": "code",
   "execution_count": null,
   "id": "e9ac8f02",
   "metadata": {},
   "outputs": [],
   "source": [
    "fig.subplots_adjust(left=None, bottom=None, right=None, \n",
    "    top=None, wspace=None, hspace=None)"
   ]
  },
  {
   "cell_type": "markdown",
   "id": "daae17ac",
   "metadata": {},
   "source": [
    "Em que:\n",
    "\n",
    "left, right, top, bottom controlam o espaçamento em relação à figura.\n",
    "\n",
    "wspace e hspace controlam o espaçamento entre subplots.\n",
    "\n",
    "Para visualizar o resultado:"
   ]
  },
  {
   "cell_type": "code",
   "execution_count": null,
   "id": "73a0a1c0",
   "metadata": {},
   "outputs": [],
   "source": [
    "fig, axs = plt.subplots(2, 3)  \n",
    "plt.tight_layout()\n",
    "plt.show()"
   ]
  },
  {
   "cell_type": "markdown",
   "id": "a80f0b6b",
   "metadata": {},
   "source": [
    "Plotando nos Subplots\n",
    "\n",
    "Uma vez que você tenha seus subplots definidos, você pode plotar neles usando os métodos de plotagem do objeto de eixos."
   ]
  },
  {
   "cell_type": "code",
   "execution_count": null,
   "id": "76869f58",
   "metadata": {},
   "outputs": [],
   "source": [
    "fig, axs = plt.subplots(2, 1)\n",
    "axs[0].plot([0, 1, 2], [0, 1, 0], label='Subplot 1')\n",
    "axs[1].plot([0, 1, 2], [0, -1, 0], label='Subplot 2')"
   ]
  },
  {
   "cell_type": "markdown",
   "id": "cb2c6240",
   "metadata": {},
   "source": [
    "Títulos e Rótulos\n",
    "\n",
    "Você pode adicionar títulos e rótulos a cada subplot individualmente:"
   ]
  },
  {
   "cell_type": "code",
   "execution_count": null,
   "id": "d128fade",
   "metadata": {},
   "outputs": [],
   "source": [
    "axs[0].set_title('Título do Subplot 1')\n",
    "axs[0].set_xlabel('Eixo X do Subplot 1')\n",
    "axs[0].set_ylabel('Eixo Y do Subplot 1')"
   ]
  },
  {
   "cell_type": "markdown",
   "id": "62d16424",
   "metadata": {},
   "source": [
    "Compartilhando Eixos\n",
    "\n",
    "Se você estiver comparando dados em diferentes subplots e quiser que eles compartilhem o mesmo eixo X ou Y, você pode usar o argumento sharex ou sharey:"
   ]
  },
  {
   "cell_type": "code",
   "execution_count": null,
   "id": "64fc239b",
   "metadata": {},
   "outputs": [],
   "source": [
    "fig, axs = plt.subplots(2, 1, sharex=True)"
   ]
  },
  {
   "cell_type": "markdown",
   "id": "2a183d5e",
   "metadata": {},
   "source": [
    "Neste exemplo, ambos subplots compartilharão o mesmo eixo X.\n",
    "\n",
    "Exemplo: Criando múltiplos gráficos em uma única figura.\n",
    "\n",
    "a) Usando plt.subplots():\n",
    "\n",
    "O método plt.subplots() retorna uma figura e uma matriz de objetos \"axes\" (eixos), que são as áreas individuais de plotagem.\n",
    "\n",
    "Etapa 1: Importação de biblioteca e criação da figura e dos subplots."
   ]
  },
  {
   "cell_type": "code",
   "execution_count": null,
   "id": "4d7a1986",
   "metadata": {},
   "outputs": [],
   "source": [
    "import matplotlib.pyplot as plt\n",
    "# Criar a figura e os subplots\n",
    "fig, ax = plt.subplots(nrows=2, ncols=2, figsize=(10, 10))"
   ]
  },
  {
   "cell_type": "markdown",
   "id": "1da6f3df",
   "metadata": {},
   "source": [
    "Nesse código, plt.subplots() retorna uma figura (fig) e os eixos (ax) dos subplots; nrows=2, ncols=2 define uma matriz 2x2, resultando em 4 subplots; figsize=(10, 10) define o tamanho da figura. Neste caso, a figura terá 10x10 polegadas.\n",
    "\n",
    "Etapa 2: Plotando os gráficos em cada subplot.\n",
    "\n",
    "Cada subplot é referenciado usando a indexação ``` ax[row, col] ```. Por exemplo, ``` ax[0, 0] ``` refere-se ao subplot superior esquerdo, enquanto ``` ax[1, 1] ``` é o subplot inferior direito."
   ]
  },
  {
   "cell_type": "code",
   "execution_count": null,
   "id": "5a5885ad",
   "metadata": {},
   "outputs": [],
   "source": [
    "# Primeiro subplot (superior esquerdo)\n",
    "ax[0, 0].plot([0, 1, 2], [0, 1, 4])\n",
    "ax[0, 0].set_title('Gráfico de Linha')\n",
    "\n",
    "# Segundo subplot (superior direito)\n",
    "ax[0, 1].scatter([0, 1, 2], [0, 1, 3])\n",
    "ax[0, 1].set_title('Gráfico de Dispersão')\n",
    "\n",
    "# Terceiro subplot (inferior esquerdo)\n",
    "ax[1, 0].bar(['A', 'B', 'C'], [3, 7, 2])\n",
    "ax[1, 0].set_title('Gráfico de Barras')\n",
    "\n",
    "# Quarto subplot (inferior direito)\n",
    "ax[1, 1].hist([0, 1, 2, 2, 3, 3, 3, 4, 4, 5])\n",
    "ax[1, 1].set_title('Histograma')"
   ]
  },
  {
   "cell_type": "markdown",
   "id": "c9f3ef74",
   "metadata": {},
   "source": [
    "Os seguintes métodos são usados para criar os gráficos: .plot() cria o gráfico de linha; .scatter() cria o gráfico de dispersão; .bar() cria o gráfico de barras; .hist() cria o histograma; set_title é usado para definir o título de cada subplot.\n",
    "\n",
    "Etapa 3: Ajustando e visualizando a figura."
   ]
  },
  {
   "cell_type": "code",
   "execution_count": null,
   "id": "9a72f291",
   "metadata": {},
   "outputs": [],
   "source": [
    "plt.tight_layout()"
   ]
  },
  {
   "cell_type": "markdown",
   "id": "d0edcf84",
   "metadata": {},
   "source": [
    "O método tight_layout() ajusta o espaçamento entre os subplots para que não se sobreponham.\n",
    "\n",
    "\n",
    "### 6.1.5 Gráficos com dados reais\n",
    "\n",
    "Para exemplificar a criação de gráficos com dados reais, vamos criar um gráfico para visualizar a precipitação mensal (em mm) registrada na estação meteorológica do INMET, código A827, instalada no município de Bagé-RS nos anos de 2021, 2022 e 2023. Os dados estão armazenados em um arquivo CSV. \n",
    "\n",
    "O código completo para ler o arquivo e criar o gráfico é:"
   ]
  },
  {
   "cell_type": "code",
   "execution_count": null,
   "id": "9843aaec",
   "metadata": {},
   "outputs": [],
   "source": [
    "import pandas as pd\n",
    "import matplotlib.pyplot as plt\n",
    "\n",
    "df_precipitacao = pd.read_csv('~/geopythonbook/content/23_estacao_a827/precipitacao_A827.csv')\n",
    "df_precipitacao.head()"
   ]
  },
  {
   "cell_type": "code",
   "execution_count": null,
   "id": "2a112ab3",
   "metadata": {},
   "outputs": [],
   "source": [
    "ax = df_precipitacao.plot(kind='bar', figsize=(10, 6), width=0.8, \n",
    "    color=['steelblue', 'mediumseagreen', 'silver'])\n",
    "ax.set_xlabel('Mês')\n",
    "ax.set_ylabel('Precipitação mensal (mm)')\n",
    "ax.set_title('Precipitação: Estação INMET A827(Bagé)')\n",
    "ax.set_xticklabels(df_precipitacao['Mês'], rotation=45)\n",
    "ax.legend()\n",
    "plt.tight_layout()\n",
    "plt.show()"
   ]
  },
  {
   "cell_type": "markdown",
   "id": "22fa4a92",
   "metadata": {},
   "source": [
    "Vamos analisar o código por partes:\n",
    "\n",
    "```\n",
    "import pandas as pd\n",
    "import matplotlib.pyplot as plt\n",
    "df_precipitacao = pd.read_csv('~/geopythonbook/content/23_estacao_a827/precipitacao_A827.csv')\n",
    "df_precipitacao.head()\n",
    "```\n",
    " \n",
    "Aqui realizamos a leitura do arquivo CSV denominado precipitacao_A827.CSV. Os dados do arquivo são armazenados no DataFrame chamado df_precipitacao. Em seguida, as primeiras cinco linhas do DataFrame são impressas usando o método head().\n",
    "\n",
    "```\n",
    "ax = df_precipitacao.plot(kind='bar', figsize=(10, 6), width=0.8, color=['steelblue', 'mediumseagreen', 'silver']) \n",
    "```\n",
    "\n",
    "Nesse código, df_precipitacao.plot(...) utiliza a função plot() do DataFrame df_precipitacao para criar um gráfico; kind='bar' especifica que o tipo de gráfico desejado é um gráfico de barras; figsize=(10, 6) define o tamanho da figura como 10 unidades de largura por 6 unidades de altura; width=0.8 define a largura das barras como 80% da largura padrão entre os ticks do eixo x; ``` color=['steelblue', 'mediumseagreen', 'silver'] ``` define as cores das barras. \n",
    "\n",
    "``` ax.set_xlabel('Mês') ```\n",
    " \n",
    "Define o rótulo do eixo x como \"Mês\".\n",
    "\n",
    "``` ax.set_ylabel('Precipitação mensal (mm)') ```\n",
    "\n",
    "Define o rótulo do eixo y como \"Precipitação mensal (mm)\".\n",
    "\n",
    "``` ax.set_title('Precipitação: Estação INMET A827(Bagé)') ```\n",
    "\n",
    "Estabelece o título do gráfico.\n",
    "\n",
    "``` ax.set_xticklabels(df_precipitacao['Mês'], rotation=45) ```\n",
    "\n",
    "Define os rótulos do eixo x com os valores da coluna 'Mês' do DataFrame df_precipitacao e roda esses rótulos em 45 graus para melhor visualização.\n",
    "\n",
    "``` ax.legend() ```\n",
    "\n",
    "Exibe a legenda do gráfico, que, por padrão, usará os nomes das colunas do DataFrame como rótulos.\n",
    "\n",
    "``` plt.tight_layout() ```\n",
    "\n",
    "Ajusta automaticamente o layout da figura para garantir que tudo seja exibido corretamente.\n",
    "\n",
    "``` plt.show() ```\n",
    "\n",
    "Exibe a figura. Se você estiver usando um Jupyter Notebook ou um ambiente IPython, a figura será exibida diretamente abaixo da célula que contém o código. Em outros ambientes, isso pode abrir uma janela com a figura.\n",
    "\n",
    "\n",
    "### 6.1.6 Exportando Gráficos\n",
    "\n",
    "Quando você cria um gráfico, seja para análise de dados, apresentações ou publicações, muitas vezes é necessário exportá-lo para um formato de arquivo específico. A exportação de gráficos envolve várias considerações, incluindo o formato de arquivo, resolução e qualidade. A escolha certa depende do uso pretendido do gráfico e das especificações do meio em que será apresentado.\n",
    "\n",
    "\n",
    "Formatos\n",
    "\n",
    "Existem vários formatos de arquivo para os quais você pode exportar um gráfico, e a escolha do formato depende do uso pretendido. Alguns dos formatos mais comuns incluem:\n",
    "\n",
    "PNG (Portable Network Graphics): É um formato de imagem matricial, o que significa que ele armazena o gráfico como uma coleção de pixels. É amplamente usado devido à sua compressão sem perdas e suporte a transparência;\n",
    "\n",
    "JPEG (Joint Photographic Experts Group): Também é um formato de imagem matricial, mas usa compressão com perdas, o que pode reduzir a qualidade da imagem. É mais adequado para fotografias do que para gráficos;\n",
    "\n",
    "SVG (Scalable Vector Graphics): É um formato de imagem vetorial, o que possibilita que o gráfico seja redimensionado sem perder qualidade;\n",
    "\n",
    "PDF (Portable Document Format): É um formato de arquivo versátil que pode conter gráficos vetoriais e matriciais. É amplamente usado para publicações e impressão.\n",
    "\n",
    "\n",
    "Resolução\n",
    "\n",
    "A resolução refere-se ao número de pixels por polegada (PPI) ou pontos por polegada (DPI) em uma imagem. Uma resolução mais alta resulta em uma imagem mais nítida, mas também em um tamanho de arquivo maior. A resolução ideal depende de onde o gráfico será usado:\n",
    "Tela (web, apresentações): Geralmente, uma resolução de 72 PPI é suficiente;\n",
    "\n",
    "Impressão: Para obter uma imagem nítida, é recomendável uma resolução de pelo menos 300 DPI.\n",
    "\n",
    "\n",
    "Qualidade\n",
    "\n",
    "A qualidade refere-se à quantidade de detalhes e clareza em uma imagem. Em formatos de compressão com perdas, como JPEG, você pode escolher um nível de qualidade ao exportar. Uma qualidade mais alta resultará em uma imagem mais nítida, mas também em um tamanho de arquivo maior. Por outro lado, uma qualidade mais baixa reduzirá o tamanho do arquivo, mas também a nitidez da imagem. Ao exportar gráficos, é importante equilibrar a qualidade e o tamanho do arquivo, considerando o propósito pretendido do gráfico. \n",
    "\n",
    "\n",
    "Exportando o gráfico de precipitação da estação A827\n",
    "\n",
    "Para exportar o último gráfico criado com os dados de precipitação da estação climatológica A827 no contexto do Matplotlib, utilizamos o método savefig(). Vamos criar um arquivo em formato PNG, com resolução de 300dpi.\n",
    "\n",
    "plt.savefig('precipitacao_2021-2023_A827.png', format='png', dpi=300)\n",
    "\n",
    "É importante ressaltar que o método savefig() deve ser posicionado antes do método .show para que o gráfico seja exportado corretamente. O código atualizado com esta linha é:"
   ]
  },
  {
   "cell_type": "code",
   "execution_count": null,
   "id": "1a43a865",
   "metadata": {},
   "outputs": [],
   "source": [
    "ax = df_precipitacao.plot(kind='bar', figsize=(10, 6), width=0.8, \n",
    "    color=['steelblue', 'mediumseagreen', 'silver'])\n",
    "ax.set_xlabel('Mês')\n",
    "ax.set_ylabel('Precipitação mensal (mm)')\n",
    "ax.set_title('Precipitação: Estação INMET A827(Bagé)')\n",
    "ax.set_xticklabels(df_precipitacao['Mês'], rotation=45)\n",
    "ax.legend()\n",
    "plt.tight_layout()\n",
    "plt.savefig('precipitacao_2021-2023_A827.png', format='png', dpi=300)\n",
    "plt.show()"
   ]
  },
  {
   "cell_type": "markdown",
   "id": "469c90f7",
   "metadata": {},
   "source": [
    "Depois de executar este código, você encontrará o gráfico exportado como um arquivo PNG com a resolução especificada, no diretório atual de trabalho.\n",
    "\n",
    "\n",
    "\n",
    "## 6.2 Função de plotagem integrada do GeoPandas.\n",
    "\n",
    "Como vimos no capítulo anterior, o Geopandas é uma extensão do Pandas, uma das bibliotecas mais populares para análise de dados em Python. Ele facilita o trabalho com dados geoespaciais, incorporando estruturas para manipulação de geometrias.\n",
    "\n",
    "Com o Geopandas, é possível realizar a plotagem básica de dados geográficos com facilidade. Um simples comando plot() aplicado a um GeoDataFrame ou GeoSeries gera uma representação visual dos dados. Por exemplo:"
   ]
  },
  {
   "cell_type": "code",
   "execution_count": null,
   "id": "b96e5507",
   "metadata": {},
   "outputs": [],
   "source": [
    "import geopandas as gpd\n",
    "gdf_uf = gpd.read_file('~/geopythonbook/content/4_br_uf/BR_UF.shp')\n",
    "gdf_uf.plot()"
   ]
  },
  {
   "cell_type": "markdown",
   "id": "11af1066",
   "metadata": {},
   "source": [
    "A seguir, exploraremos as opções de personalização do método plot. A visualização padrão é prática, mas muitas vezes precisamos modificar cores, legendas e outros detalhes para melhorar a apresentação dos dados. Entender essas opções nos ajudará a produzir gráficos mais claros e adequados ao nosso propósito.\n",
    "\n",
    "\n",
    "a) Definição da cor de preenchimento\n",
    "\n",
    "O blue é a cor padrão quando plotamos utilizando o .plot(). Para aplicar outra cor a todas as geometrias do GeoDataFrame, você pode usar o argumento color."
   ]
  },
  {
   "cell_type": "code",
   "execution_count": null,
   "id": "af11d86a",
   "metadata": {},
   "outputs": [],
   "source": [
    "gdf_uf.plot(color = 'green')"
   ]
  },
  {
   "cell_type": "markdown",
   "id": "7a6c1893",
   "metadata": {},
   "source": [
    "Atribuindo cores diferentes de acordo com os atributos\n",
    "\n",
    "Para colorir geometrias com base nos valores de uma coluna (atributo) específica, você pode utilizar os argumentos column e cmap (mapa de cores). Vamos criar uma visualização do gdf_uf, atribuindo cores a cada geometria com base nos valores da coluna NM_REGIAO e usando o esquema de cores Pastel2."
   ]
  },
  {
   "cell_type": "code",
   "execution_count": null,
   "id": "f8ed6679",
   "metadata": {},
   "outputs": [],
   "source": [
    "gdf_uf.plot(column = 'NM_REGIAO', cmap = 'Pastel2')"
   ]
  },
  {
   "cell_type": "markdown",
   "id": "89fc6026",
   "metadata": {},
   "source": [
    "O cmap, abreviação de Colormap, refere-se a uma escala de cores ou um mapa de cores no Matplotlib e em outras bibliotecas de visualização. O Matplotlib oferece uma variedade de colormaps pré-definidos que podem ser usados conforme o tipo de dado e a preferência visual. Alguns exemplos de colormaps no Matplotlib incluem:\n",
    "\n",
    "Sequenciais: São adequados para dados que vão de valores baixos a altos. Exemplos: Blues, Greens, OrRd.\n",
    "\n",
    "Divergentes: São adequados para dados que têm um valor médio significativo e variações nos dois extremos (baixo e alto). Exemplos: RdBu (Vermelho-Azul), coolwarm.\n",
    "\n",
    "Cíclicos: São adequados para dados que têm valores repetidos em ciclos. Exemplo: twilight.\n",
    "\n",
    "Qualitativos: São usados para representar informações categóricas. Exemplo: tab10. Para mais detalhes, consulte (https://matplotlib.org/stable/users/explain/colors/colormaps.html).\n",
    "\n",
    "\n",
    "Personalizando as linhas de borda \n",
    "\n",
    "Usando edgecolor e linewidth, você pode personalizar a cor e a largura das linhas de borda das geometrias. Exemplo:"
   ]
  },
  {
   "cell_type": "code",
   "execution_count": null,
   "id": "fce70e3d",
   "metadata": {},
   "outputs": [],
   "source": [
    "gdf_uf.plot(color='green', edgecolor='black', linewidth=0.8)"
   ]
  },
  {
   "cell_type": "markdown",
   "id": "d4cb0a5d",
   "metadata": {},
   "source": [
    "Configuração de legenda e barra de cores\n",
    "\n",
    "Ao usar o argumento legend=True, você pode adicionar uma legenda ou barra de cores para representar os valores dos dados."
   ]
  },
  {
   "cell_type": "code",
   "execution_count": null,
   "id": "2650b543",
   "metadata": {},
   "outputs": [],
   "source": [
    "gdf_uf.plot(column = 'NM_REGIAO', cmap = 'Pastel2', legend=True)"
   ]
  },
  {
   "cell_type": "markdown",
   "id": "ccaab683",
   "metadata": {},
   "source": [
    "Estes são apenas alguns exemplos básicos de como você pode personalizar a plotagem de seus dados geográficos no Geopandas. Como o Geopandas se integra perfeitamente ao Matplotlib, as possibilidades são amplas e permitem muita personalização. Estudaremos a integração do Geopandas com a Matplotlib a seguir.\n",
    "\n",
    "\n",
    "\n",
    "## 6.3 Integração do Geopandas com Matplotlib\n",
    "\n",
    "Quando você usa o método .plot() do Geopandas, ele já está usando o matplotlib implicitamente. No entanto, para uma integração mais profunda e personalizada, você pode usar a matplotlib explicitamente. Essa integração é bastante direta e traz várias vantagens, dentre elas:\n",
    "\n",
    "Personalização Avançada: O matplotlib oferece uma ampla gama de opções de personalização, permitindo que você ajuste quase todos os aspectos do seu gráfico;\n",
    "\n",
    "Combinação de Gráficos: Você pode combinar seu mapa com outros tipos de gráficos, como gráficos de barras, linhas ou scatter plots, em uma única figura;\n",
    "\n",
    "Subplots: Como discutido anteriormente, o matplotlib permite criar subplots. Isso é útil se você quiser mostrar vários mapas lado a lado para comparação;\n",
    "\n",
    "Controle de Legenda: O matplotlib oferece opções avançadas para personalizar a legenda do seu gráfico, incluindo posição, tamanho, cor e muito mais;\n",
    "\n",
    "Integração com Outras Bibliotecas: Ao usar o matplotlib como base, você pode facilmente integrar seu mapa com outras bibliotecas de visualização que também usam o matplotlib, como seaborn;\n",
    "\n",
    "Exportação Flexível: O matplotlib oferece várias opções para exportar seu gráfico, permitindo que você escolha formatos, resoluções e outros parâmetros de exportação;\n",
    "\n",
    "Interatividade: Embora o matplotlib seja principalmente uma biblioteca de plotagem estática, ele tem algumas funcionalidades interativas, especialmente quando usado em ambientes como o Jupyter Notebook.\n",
    "\n",
    "Em resumo, integrar o Geopandas com a Matplotlib oferece uma maior flexibilidade e controle sobre a visualização dos seus dados geoespaciais. Vamos explorar algumas opções de personalização a seguir.\n",
    "\n",
    "\n",
    "Configuração das etiquetas dos eixos\n",
    "\n",
    "O método .plot() do Geopandas retorna um objeto de eixos (ax) do matplotlib, e você pode usar esse objeto para ajustar as propriedades dos eixos, incluindo o tamanho do texto das etiquetas dos eixos. \n",
    "\n",
    "As etiquetas dos eixos na Matplotlib são altamente configuráveis. O método ax.tick_params() pode ser usado para ajustar várias propriedades das etiquetas dos eixos e dos marcadores (ticks) ao mesmo tempo. \n",
    "\n",
    "Vamos reduzir o tamanho do texto referente aos valores das coordenadas geográficas em nosso GeoDataFrame gdf_uf:"
   ]
  },
  {
   "cell_type": "code",
   "execution_count": null,
   "id": "4d245d97",
   "metadata": {},
   "outputs": [],
   "source": [
    "import matplotlib.pyplot as plt\n",
    "\n",
    "# Plotando o GeoDataFrame\n",
    "ax = gdf_uf.plot()\n",
    "\n",
    "# Ajustando o tamanho do texto das etiquetas dos eixos:\n",
    "# Ajuste o tamanho desejado para '7'\n",
    "ax.tick_params(axis='both', which='major', labelsize=7)  \n",
    "plt.show()"
   ]
  },
  {
   "cell_type": "markdown",
   "id": "ddb6227b",
   "metadata": {},
   "source": [
    "No método ax.tick_params(), o argumento labelsize define o tamanho do texto. Você pode ajustar esse valor conforme necessário. which=’major’ indica que a configuração será realizada com o eixo principal da plotagem.\n",
    "\n",
    "\n",
    "Além de ax.tick_params(), existem outros métodos e propriedades para ajustar as etiquetas dos eixos e os ticks. A documentação oficial do matplotlib é uma excelente fonte para verificar as opções disponíveis e obter exemplos detalhados. Você pode encontrar mais informações sobre ax.tick_params() e outras funcionalidades relacionadas na documentação da matplotlib, em: (https://matplotlib.org/stable/api/axis_api.html).\n",
    "\n",
    "Mais exemplos de integração entre Geopandas e Matplotlib\n",
    "\n",
    "Exemplo 1: Plotando um único GeoDataFrame"
   ]
  },
  {
   "cell_type": "code",
   "execution_count": null,
   "id": "e0f977d0",
   "metadata": {},
   "outputs": [],
   "source": [
    "fig, ax = plt.subplots(figsize=(10, 10))\n",
    "\n",
    "# Usando o método .plot() do GeoDataFrame e passando o eixo criado\n",
    "gdf_uf.plot(ax=ax, color='darkseagreen', edgecolor='black')\n",
    "\n",
    "# Personalizando com Matplotlib\n",
    "ax.set_title('Brasil')\n",
    "ax.set_xlabel('Longitude')\n",
    "ax.set_ylabel('Latitude')\n",
    "\n",
    "# Mostrando o gráfico\n",
    "plt.show()"
   ]
  },
  {
   "cell_type": "markdown",
   "id": "662386f1",
   "metadata": {},
   "source": [
    "Resumidamente, este código carrega um conjunto de dados geoespaciais do Brasil a partir de um arquivo shapefile, cria uma figura e eixos usando matplotlib, plota os dados geoespaciais no gráfico, personaliza o gráfico e, em seguida, exibe o gráfico resultante. \n",
    "Vamos analisar o código passo a passo.\n",
    "\n",
    "``` fig, ax = plt.subplots(figsize=(10, 10)) ```\n",
    "\n",
    "Uma figura e eixos são criados usando a função subplots do matplotlib. A figura terá um tamanho de 10x10 polegadas.\n",
    "\n",
    "``` gdf_uf.plot(ax=ax, color='darkseagreen', edgecolor='black') ```\n",
    "\n",
    "O método .plot() do GeoDataFrame (gdf_uf) é usado para visualizar os dados geoespaciais. O argumento ax=ax indica que o plot deve ser feito nos eixos previamente criados. O argumento color='darkseagreen' define a cor de preenchimento das unidades federativas, enquanto edgecolor='black' define a cor das bordas.\n",
    "\n",
    "```\n",
    "ax.set_title('Brasil')\n",
    "ax.set_xlabel('Longitude')\n",
    "ax.set_ylabel('Latitude')\n",
    "```\n",
    "\n",
    "Aqui, o gráfico é personalizado usando funções do matplotlib. O título do gráfico é definido como \"Brasil\", e os rótulos dos eixos x e y são definidos como \"Longitude\" e \"Latitude\", respectivamente.\n",
    "\n",
    "\n",
    "\n",
    "Exemplo 2: Plotando uma geometria e o conteúdo de uma coluna\n",
    "\n",
    "Vamos plotar a mesma figura anterior, mas inserindo na visualização a sigla referente a cada estado. Para tanto, vamos utilizar a função annotate da matplotlib. A ideia é iterar sobre cada geometria (neste caso, cada estado) no GeoDataFrame e adicionar uma anotação (o nome do estado) à sua posição central."
   ]
  },
  {
   "cell_type": "code",
   "execution_count": null,
   "id": "2ec8f89d",
   "metadata": {},
   "outputs": [],
   "source": [
    "# Criando uma figura e eixos com Matplotlib\n",
    "fig, ax = plt.subplots(figsize=(10, 10))\n",
    "\n",
    "# Usando o método .plot() do GeoDataFrame e passando o eixo criado\n",
    "gdf_uf.plot(ax=ax, color='darkseagreen', edgecolor='black')\n",
    "\n",
    "# Adicionando os nomes dos estados\n",
    "for x, y, label in zip(gdf_uf.geometry.centroid.x, \n",
    "    gdf_uf.geometry.centroid.y, gdf_uf['SIGLA_UF']):\n",
    "    ax.annotate(label, xy=(x, y), xytext=(0,-2), \n",
    "        textcoords='offset points', fontsize=9)\n",
    "\n",
    "# Personalizando com Matplotlib\n",
    "ax.set_title('Brasil')\n",
    "ax.set_xlabel('Longitude')\n",
    "ax.set_ylabel('Latitude')\n",
    "\n",
    "# Mostrando o gráfico\n",
    "plt.show()"
   ]
  },
  {
   "cell_type": "markdown",
   "id": "d774826a",
   "metadata": {},
   "source": [
    "Neste código, a parte chave é o loop for que itera sobre as coordenadas centrais de cada geometria (usando gdf_uf.geometry.centroid.x e gdf_uf.geometry.centroid.y) e os nomes dos estados ``` (usando gdf_uf['NM_UF']). ``` Para cada estado, a função annotate adiciona o nome do estado à sua posição central no gráfico. O argumento xytext=(0,-2) e textcoords=\"offset points\" são usados para garantir que o texto não seja colocado exatamente no centro da geometria, mas ligeiramente deslocado para evitar sobreposições com as bordas das geometrias.\n",
    "\n",
    "\n",
    "Exemplo 3: Plotando camadas de geometrias sobrepostas\n",
    "\n",
    "Vamos criar uma plotagem das rodovias do estado de Sergipe sobrepostas a geometria desse estado."
   ]
  },
  {
   "cell_type": "code",
   "execution_count": null,
   "id": "3d8c5d59",
   "metadata": {},
   "outputs": [],
   "source": [
    "import geopandas as gdf_gpd\n",
    "import matplotlib.pyplot as plt\n",
    "\n",
    "gdf_sergipe = gpd.read_file('~/geopythonbook/content/24_sergipe/sergipe_UF.shp')\n",
    "gdf_rodovias = gpd.read_file('~/geopythonbook/content/24_sergipe/sergipe_rodo.shp')\n",
    "\n",
    "# Criar uma figura e eixos com Matplotlib\n",
    "fig, ax = plt.subplots(figsize=(10, 10))\n",
    "\n",
    "# Plotar a geometria do estado do Sergipe como fundo\n",
    "gdf_sergipe.plot(ax=ax, color='lightgray', edgecolor='black', linewidth=0.5)\n",
    "\n",
    "# Plotar as rodovias sobrepostas ao estado\n",
    "gdf_rodovias.plot(ax=ax, color='red', linewidth=1)\n",
    "\n",
    "# Personalizar com Matplotlib: inserir um título\n",
    "ax.set_title('Rodovias de Sergipe')\n",
    "\n",
    "# Plotar o gráfico\n",
    "plt.show()"
   ]
  },
  {
   "cell_type": "markdown",
   "id": "29b6f2b2",
   "metadata": {},
   "source": [
    "Neste exemplo, a geometria do estado do Sergipe é plotada primeiro com uma cor de fundo lightgray e borda black. As rodovias são então plotadas por cima com uma cor red e uma largura de linha de 1.0. \n",
    "\n",
    "\n",
    "É possível criar uma visualização sem os eixos de coordenadas, o que é útil em muitas situações. A chamada ax.axis('off') pode ser usada para isso:"
   ]
  },
  {
   "cell_type": "code",
   "execution_count": null,
   "id": "f2298e4a",
   "metadata": {},
   "outputs": [],
   "source": [
    "fig, ax = plt.subplots(figsize=(10, 10))\n",
    "\n",
    "gdf_sergipe.plot(ax=ax, color='lightgray', edgecolor='black', linewidth=0.5)\n",
    "\n",
    "gdf_rodovias.plot(ax=ax, color='red', linewidth=1)\n",
    "\n",
    "ax.set_title('Rodovias de Sergipe')\n",
    "\n",
    "# Removendo os eixos para uma visualização mais limpa\n",
    "ax.axis('off')\n",
    "\n",
    "plt.show()"
   ]
  },
  {
   "cell_type": "markdown",
   "id": "19f3191f",
   "metadata": {},
   "source": [
    "Exemplo 4: Classificando um tema por categorias\n",
    "\n",
    "O GeoDataFrame gdf_rodovias tem uma coluna chamada jurisdição que especifica a jurisdição de cada segmento de rodovia (Federal, Estadual, Municipal ou desconhecida). Vamos gerar uma plotagem das rodovias de Sergipe, categorizadas de acordo com a sua jurisdição. Para tanto, vamos utilizar o argumento column no método plot e adicionar uma legenda."
   ]
  },
  {
   "cell_type": "code",
   "execution_count": null,
   "id": "baf28063",
   "metadata": {},
   "outputs": [],
   "source": [
    "# Criar uma figura e eixos com Matplotlib\n",
    "fig, ax = plt.subplots(figsize=(8,8))\n",
    "\n",
    "# Plotar a geometria do estado do Sergipe como fundo\n",
    "gdf_sergipe.plot(ax=ax, color='lightgray', edgecolor='black', \n",
    "    linewidth=0.5)\n",
    "\n",
    "# Plotar as rodovias classificadas por jurisdição\n",
    "gdf_rodovias.plot(ax=ax, column='jurisdicao', legend=True, cmap='Reds', \n",
    "    linewidth=1.5)\n",
    "\n",
    "# Inserir o título\n",
    "ax.set_title('Rodovias de Sergipe por Jurisdição', fontweight='bold')\n",
    "\n",
    "# Remover os eixos para uma visualização mais limpa\n",
    "ax.axis('off')\n",
    "\n",
    "# Ajustar a posição da legenda\n",
    "leg = ax.get_legend()\n",
    "leg.set_bbox_to_anchor((0.9, 0.3))\n",
    "\n",
    "# Ajustar o layout automaticamente\n",
    "plt.tight_layout()\n",
    "\n",
    "# Mostrar o gráfico\n",
    "plt.show()"
   ]
  },
  {
   "cell_type": "markdown",
   "id": "16037994",
   "metadata": {},
   "source": [
    "Neste código: leg.set_bbox_to_anchor((0.9, 0.3)) ajusta a posição da legenda para que ela não sobreponha o gráfico. \n",
    "\n",
    "\n",
    "Exemplo 6: Mapa coroplético \n",
    "\n",
    "Vamos criar uma visualização da distribuição espacial da população por município para o estado de Santa Catarina (dados referentes ao ano de 2021). Para simplificar, usaremos aqui o termo ‘mapa coroplético’, mesmo que alguns dos elementos que constituem um mapa por definição (como a escala gráfica ou numérica) não estejam presentes nessa visualização.\n",
    "\n",
    "Inicialmente, vamos importar as bibliotecas, ler o arquivo shapefile e plotar as primeiras linhas do GeoDataFrame."
   ]
  },
  {
   "cell_type": "code",
   "execution_count": null,
   "id": "53d9a69f",
   "metadata": {},
   "outputs": [],
   "source": [
    "import geopandas as gpd\n",
    "import matplotlib.pyplot as plt\n",
    "\n",
    "gdf_sc = gpd.read_file('~/geopythonbook/content/25_censo_SC/censo_mun_sc.shp')\n",
    "gdf_sc.head()"
   ]
  },
  {
   "cell_type": "code",
   "execution_count": null,
   "id": "6bca8320",
   "metadata": {},
   "outputs": [],
   "source": [
    "gdf_sc.plot()"
   ]
  },
  {
   "cell_type": "markdown",
   "id": "68e57471",
   "metadata": {},
   "source": [
    "Para criar o mapa coroplético, vamos utilizar o seguinte código:"
   ]
  },
  {
   "cell_type": "code",
   "execution_count": null,
   "id": "3bb59ed1",
   "metadata": {},
   "outputs": [],
   "source": [
    "# Definir o tamanho da figura\n",
    "fig, ax = plt.subplots(figsize=(10, 10))\n",
    "\n",
    "# Criar o mapa\n",
    "gdf_sc.plot(column='pop_2021', ax=ax, cmap='OrRd')\n",
    "\n",
    "# Criar a barra de cores (colorbar) manualmente\n",
    "cbar = plt.colorbar(ax.collections[0], ax=ax, shrink=0.5)\n",
    "cbar.set_label('População por Município', size=10)\n",
    "cbar.ax.tick_params(labelsize=9)\n",
    "\n",
    "# Ajustar o tamanho do texto dos eixos de coordenadas\n",
    "ax.tick_params(axis='both', which='major', labelsize=6) \n",
    "\n",
    "# Adicionar título e exibindo o mapa\n",
    "ax.set_title('Distribuição da População por Município')\n",
    "plt.show()"
   ]
  },
  {
   "cell_type": "markdown",
   "id": "b415c5ea",
   "metadata": {},
   "source": [
    "Vamos detalhar o código:\n",
    "\n",
    "``` fig, ax = plt.subplots(figsize=(10, 10)) ```\n",
    "\n",
    "Esta linha cria uma figura (fig) e um conjunto de eixos (ax) com um tamanho especificado de 10x10 polegadas.\n",
    "\n",
    "``` gdf_sc.plot(column='pop_2021', ax=ax, cmap='OrRd') ```\n",
    "\n",
    "Aqui, estamos usando o método plot do GeoDataFrame gdf_sc para criar um mapa coroplético. Estamos atribuindo cores aos municípios com base nos valores da coluna pop_2021, usando o cmap 'OrRd'. O argumento ax=ax especifica que queremos plotar os dados no conjunto de eixos que criamos anteriormente.\n",
    "\n",
    "``` cbar = plt.colorbar(ax.collections[0], ax=ax, shrink=0.5) ```\n",
    "\n",
    "Esta linha adiciona uma barra de cores (colorbar) ao gráfico. A barra de cores fornece uma referência visual para mapear cores individuais para valores de dados. O argumento shrink=0.5 especifica que a barra de cores deve ser reduzida para metade do tamanho do eixo.\n",
    "\n",
    "``` cbar.set_label('População por Município', size=10) ```\n",
    "\n",
    "Aqui, estamos definindo um rótulo para a barra de cores com o texto \"População por Município\" e especificando que o tamanho da fonte do rótulo deve ser 10.\n",
    "\n",
    "``` cbar.ax.tick_params(labelsize=9) ```\n",
    "\n",
    "O código acima ajusta os parâmetros dos ticks (marcadores) da barra de cores. Estamos definindo o tamanho da fonte dos rótulos dos marcadores para 9.\n",
    "\n",
    "\n",
    "Na figura acima, a vasta diferença nos valores populacionais entre os municípios tornou a visualização desbalanceada e pouco informativa. Isso porque municípios com populações muito altas contrastavam fortemente com aqueles de população menor, obscurecendo nuances e padrões regionais. Para proporcionar uma interpretação mais clara dos dados, vamos ajustar a representação para uma escala logarítmica. Esse ajuste pode equilibrar visualmente as variações populacionais, tornando o mapa mais compreensível e revelando detalhes anteriormente ofuscados pela discrepância nos valores absolutos. Para criar essa visualização, utilizamos o código:"
   ]
  },
  {
   "cell_type": "code",
   "execution_count": null,
   "id": "3eea62ca",
   "metadata": {},
   "outputs": [],
   "source": [
    "import matplotlib.pyplot as plt\n",
    "import numpy as np\n",
    "import matplotlib.colors as mcolors\n",
    "import matplotlib.cm as cm\n",
    "\n",
    "# Definir o tamanho da figura\n",
    "fig, ax = plt.subplots(figsize=(10, 10))\n",
    "\n",
    "# Criar uma coluna logarítmica\n",
    "gdf_sc = gdf_sc.copy()\n",
    "gdf_sc['pop_2021_log'] = np.log(gdf_sc['pop_2021'])\n",
    "\n",
    "# Definir o colormap\n",
    "cmap = 'OrRd'\n",
    "norm = mcolors.Normalize(vmin=gdf_sc['pop_2021'].min(), \n",
    "    vmax=gdf_sc['pop_2021'].max())\n",
    "\n",
    "# Plotar o mapa coroplético com escala logarítmica\n",
    "gdf_sc.plot(column='pop_2021_log', ax=ax, cmap=cmap, legend=False)\n",
    "\n",
    "# Criar uma legenda personalizada\n",
    "cbar = plt.cm.ScalarMappable(norm=norm, cmap=cmap)\n",
    "\n",
    "# Ajustar as dimensões da legenda\n",
    "cbar_ax = fig.add_axes([0.95, 0.25, 0.02, 0.5])\n",
    "cb = fig.colorbar(cbar, cax=cbar_ax, orientation='vertical')\n",
    "\n",
    "# Ajustar o tamanho do título da legenda\n",
    "cb.set_label('População', size=10)  \n",
    "\n",
    "# Ajustar o tamanho dos ticks da legenda\n",
    "cb.ax.tick_params(labelsize=9)      \n",
    "\n",
    "# Ajustar o tamanho do texto dos eixos de coordenadas\n",
    "ax.tick_params(axis='both', which='major', labelsize=6) \n",
    "\n",
    "# Adicionar título e exibir o mapa\n",
    "ax.set_title('Distribuição da População por Município - SC')\n",
    "plt.show()"
   ]
  },
  {
   "cell_type": "markdown",
   "id": "6b2223bc",
   "metadata": {},
   "source": [
    "Vamos analisar as diferenças com relação ao código anterior:\n",
    "\n",
    "```\n",
    "import matplotlib.pyplot as plt\n",
    "import numpy as np\n",
    "import matplotlib.colors as mcolors\n",
    "import matplotlib.cm as cm\n",
    "```\n",
    "\n",
    "Aqui, além da Matplotlib importamos o numpy, e os módulos matplotlib.colors e matplotlib.cm, que são usados para trabalhar com mapas de cores.\n",
    "\n",
    "```\n",
    "gdf_sc = gdf_sc.copy()\n",
    "gdf_sc['pop_2021_log'] = np.log(gdf_sc['pop_2021']) \n",
    "```\n",
    "\n",
    "Cria uma cópia do GeoDataFrame gdf_sc para evitar alterações no original. Em seguida, adiciona uma nova coluna pop_2021_log que contém o logaritmo natural dos valores da coluna pop_2021.\n",
    "\n",
    "```\n",
    "cmap = 'OrRd'\n",
    "norm = mcolors.Normalize(vmin=gdf_sc['pop_2021'].min(), vmax=gdf_sc['pop_2021'].max())\n",
    "```\n",
    "\n",
    "Define o mapa de cores como 'OrRd' e cria um objeto de normalização que mapeia os valores da coluna pop_2021 para o intervalo ``` [0, 1] ```.\n",
    "\n",
    "``` gdf_sc.plot(column='pop_2021_log', ax=ax, cmap=cmap, legend=False) ```\n",
    "\n",
    "Plota o mapa coroplético usando a coluna pop_2021_log e o mapa de cores definido anteriormente. A legenda não é mostrada porque legend=False.\n",
    "\n",
    "```\n",
    "cbar = plt.cm.ScalarMappable(norm=norm, cmap=cmap)\n",
    "cbar_ax = fig.add_axes([0.95, 0.25, 0.02, 0.5])\n",
    "cb = fig.colorbar(cbar, cax=cbar_ax, orientation='vertical\n",
    "```\n",
    "\n",
    "Cria uma legenda personalizada para o mapa; plt.cm.ScalarMappable é usado para mapear os valores da coluna pop_2021 para cores no mapa de cores; fig.add_axes adiciona um novo conjunto de eixos à figura para a legenda, e fig.colorbar adiciona a legenda à figura.\n",
    "\n",
    "Ao utilizar a escala logarítmica, foi possível representar de forma mais eficaz a distribuição populacional, realçando tanto áreas densamente quanto escassamente povoadas.\n",
    "\n",
    "\n",
    "Exemplo 7: Múltiplos plots em uma visualização\n",
    "\n",
    "A visualização simultânea de múltiplos conjuntos de dados geoespaciais pode proporcionar uma compreensão abrangente das características e relações territoriais de uma área. No exemplo a seguir, exploraremos o uso de subplots para visualizar, lado a lado: os estados, os biomas e as regiões hidrográficas do Brasil. Para facilitar o entendimento, inicialmente vamos apresentar o código sem a configuração de estilos de cores, dos textos e de legendas."
   ]
  },
  {
   "cell_type": "code",
   "execution_count": null,
   "id": "f32c4ea7",
   "metadata": {},
   "outputs": [],
   "source": [
    "import geopandas as gpd\n",
    "import matplotlib.pyplot as plt\n",
    "\n",
    "# Leitura dos arquivos\n",
    "gdf_uf = gpd.read_file('~/geopythonbook/content/4_br_uf/BR_UF.shp')\n",
    "gdf_bio = gpd.read_file('~/geopythonbook/content/26_biomas_reghidro/biomas.shp')\n",
    "gdf_hid = gpd.read_file('~/geopythonbook/content/26_biomas_reghidro/regioes_hidro.shp')\n",
    "\n",
    "# Criando uma figura com três subplots (um ao lado do outro)\n",
    "fig, axs = plt.subplots(1, 3, figsize=(15, 5))\n",
    "\n",
    "# Plotando gdf_uf no primeiro subplot\n",
    "gdf_uf.plot(ax=axs[0])\n",
    "axs[0].set_title('Estados')\n",
    "\n",
    "# Plotando gdf_bio no segundo subplot\n",
    "gdf_bio.plot(ax=axs[1])\n",
    "axs[1].set_title('Biomas')\n",
    "\n",
    "# Plotando gdf_hid no terceiro subplot\n",
    "gdf_hid.plot(ax=axs[2])\n",
    "axs[2].set_title('Regiões Hidrográficas')\n",
    "\n",
    "# Ajustando a apresentação\n",
    "for ax in axs:\n",
    "    ax.axis('off')\n",
    "\n",
    "plt.tight_layout()\n",
    "plt.show()"
   ]
  },
  {
   "cell_type": "markdown",
   "id": "739064aa",
   "metadata": {},
   "source": [
    "No código acima:\n",
    "\n",
    "``` fig, axs = plt.subplots(1, 3, figsize=(15, 5)) ```\n",
    "\n",
    "Aqui, usamos o método plt.subplots() para criar uma figura (fig) e três subplots (axs). O argumento “1, 3” indica que queremos 1 linha e 3 colunas de subplots, ou seja, três áreas de plotagem lado a lado. O argumento figsize=(15, 5) define o tamanho total da figura como 15x5 polegadas.\n",
    "\n",
    "```\n",
    "gdf_uf.plot(ax=axs[0])\n",
    "axs[0].set_title('Estados')\n",
    "\n",
    "gdf_bio.plot(ax=axs[1])\n",
    "axs[1].set_title('Biomas')\n",
    "\n",
    "gdf_hid.plot(ax=axs[2])\n",
    "axs[2].set_title('Regiões Hidrográficas')\n",
    "```\n",
    "\n",
    "Neste código, estamos plotando o gdf_uf (que representa os estados) no primeiro subplot (área de plotagem ``` axs[0] ```). Em seguida, definimos um título para esse subplot. Da mesma forma, estamos plotando o gdf_bio (que representa os biomas) no segundo subplot (área de plotagem ``` axs[1] ```) e definindo um título para ele. Por fim, estamos plotando o gdf_hid (que representa as regiões hidrográficas) no terceiro subplot (área de plotagem ``` axs[2] ```) e definindo um título para ele.\n",
    "\n",
    "```\n",
    "for ax in axs:\n",
    "    ax.axis('off')\n",
    "\n",
    "plt.tight_layout()\n",
    "plt.show()\n",
    "```\n",
    "\n",
    "Aqui, estamos percorrendo cada subplot (área de plotagem) e desativando os eixos usando ax.axis('off'), o que remove os rótulos e os marcadores dos eixos, tornando a visualização mais limpa. plt.tight_layout() ajusta automaticamente o tamanho e a posição dos subplots para que eles se ajustem bem na figura; plt.show() exibe a figura criada.\n",
    "Agora vamos alterar o código, adicionando as configurações de texto, legendas e categorias:"
   ]
  },
  {
   "cell_type": "code",
   "execution_count": null,
   "id": "d32981cb",
   "metadata": {},
   "outputs": [],
   "source": [
    "gdf_uf = gpd.read_file('~/geopythonbook/content/4_br_uf/BR_UF.shp')\n",
    "gdf_bio = gpd.read_file('~/geopythonbook/content/26_biomas_reghidro/biomas.shp')\n",
    "gdf_hid = gpd.read_file('~/geopythonbook/content/26_biomas_reghidro/regioes_hidro.shp')\n",
    "\n",
    "# Criando uma figura e três eixos\n",
    "fig, axs = plt.subplots(nrows=1, ncols=3, figsize=(15, 5))\n",
    "\n",
    "# Argumentos para a legenda\n",
    "legend_args = {\n",
    "    'loc': 'lower left',\n",
    "    'fontsize': 'small'  # Reduzindo o tamanho da fonte da legenda\n",
    "}\n",
    "\n",
    "# Plotando o mapa dos estados brasileiros no primeiro eixo\n",
    "gdf_uf.plot(column='SIGLA_UF', ax=axs[0], cmap='Pastel2', edgecolor='black')\n",
    "axs[0].set_title('Estados Brasileiros')\n",
    "\n",
    "# Plotando o mapa dos biomas do Brasil no segundo eixo\n",
    "gdf_bio.plot(column='NOME', ax=axs[1], cmap = 'Greens', edgecolor='black', \n",
    "    legend=True, legend_kwds=legend_args)\n",
    "axs[1].set_title('Biomas do Brasil')\n",
    "\n",
    "# Plotando o mapa das regiões hidrográficas do Brasil no terceiro eixo\n",
    "gdf_hid.plot(column='RHI_NM', ax=axs[2], cmap='Blues', edgecolor='black', \n",
    "    legend=True, legend_kwds=legend_args)\n",
    "axs[2].set_title('Regiões Hidrográficas do Brasil')\n",
    "\n",
    "# Removendo os eixos x e y para uma visualização mais limpa\n",
    "for ax in axs:\n",
    "    ax.axis('off')\n",
    "\n",
    "# Ajustando o layout com um espaçamento reduzido\n",
    "plt.tight_layout(pad=0.1)\n",
    "plt.show()"
   ]
  },
  {
   "cell_type": "markdown",
   "id": "f39a2e66",
   "metadata": {},
   "source": [
    "Vamos analisar o código:\n",
    "\n",
    "``` fig, axs = plt.subplots(nrows=1, ncols=3, figsize=(15, 5)) ```\n",
    "\n",
    "Aqui, usamos o método plt.subplots() para criar uma figura (fig) e três eixos (axs), da mesma maneira que no código anterior.\n",
    "\n",
    "```\n",
    "legend_args = {\n",
    "    'loc': 'lower left',\n",
    "    'fontsize': 'small'  # Reduzindo o tamanho da fonte da legenda\n",
    "}\n",
    "```\n",
    "\n",
    "Neste trecho, definimos um dicionário legend_args que contém argumentos para personalizar a legenda dos plots. A legenda é posicionada no canto inferior esquerdo ('loc': 'lower left') e tem tamanho de fonte pequeno ('fontsize': 'small').\n",
    "\n",
    "```\n",
    "gdf_uf.plot(column='SIGLA_UF', ax=axs[0], cmap='Pastel2', edgecolor='black')\n",
    "axs[0].set_title('Estados Brasileiros')\n",
    "```\n",
    "\n",
    "Aqui, plotamos o gdf_uf no primeiro eixo (```axs[0]```) e atribuímos cores aos estados com base na coluna 'SIGLA_UF' usando o mapa de cores Pastel2. As bordas dos estados são definidas como pretas (edgecolor='black'). Em seguida, definimos um título para esse eixo.\n",
    "\n",
    "```\n",
    "gdf_bio.plot(column='NOME', ax=axs[1], cmap = 'Greens', edgecolor='black', \n",
    "    legend=True, legend_kwds=legend_args)\n",
    "axs[1].set_title('Biomas do Brasil')\n",
    "```\n",
    "\n",
    "Neste trecho, estamos plotando o gdf_bio no segundo eixo (``` axs[1] ```) e atribuindo cores aos biomas com base na coluna 'NOME', usando o mapa de cores Greens. As bordas dos biomas são definidas como pretas (edgecolor='black'). A legenda é ativada (legend=True) e personalizada usando os argumentos definidos anteriormente (legend_kwds=legend_args). Em seguida, definimos um título para esse eixo.\n",
    "\n",
    "     \n",
    "Plotando o mapa das regiões hidrográficas do Brasil no terceiro eixo\n",
    "\n",
    "```\n",
    "gdf_hid.plot(column='RHI_NM', ax=axs[2], cmap='Blues', edgecolor='black', \n",
    "    legend=True, legend_kwds=legend_args)\n",
    "axs[2].set_title('Regiões Hidrográficas do Brasil')\n",
    "```\n",
    "\n",
    "Aqui, plotamos o gdf_hid no terceiro eixo (```axs[2] ```) e atribuímos cores as regiões hidrográficas com base na coluna 'RHI_NM' usando o mapa de cores 'Blues'. As bordas das regiões são definidas como pretas (edgecolor='black'). A legenda é ativada (legend=True) e personalizada usando os argumentos definidos anteriormente (legend_kwds=legend_args). Em seguida, definimos um título para esse eixo.\n",
    "\n",
    "O restante do código permanece inalterado com relação ao primeiro código apresentado. \n",
    "\n",
    "\n",
    "## 6.4 Adicionando Mapas Base à Plotagem com Contextily\n",
    "\n",
    "Ao visualizar dados geoespaciais, muitas vezes é útil ter um mapa base para fornecer contexto geográfico. A biblioteca Contextily permite adicionar facilmente mapas base, provenientes de fontes populares como OpenStreetMap e Stamen às suas visualizações.\n",
    "\n",
    "A biblioteca foi projetada para integrar-se perfeitamente com outras bibliotecas geoespaciais, como Geopandas e Matplotlib. Ela é capaz de reprojetar os dados automaticamente para o sistema de coordenadas Web Mercator (EPSG:3857), comumente usado por provedores de tiles de mapas base. Além disso, ao recuperar tiles de mapas base, otimiza o desempenho armazenando-os localmente em cache.\n",
    "\n",
    "\n",
    "Provedores de mapas base no Contextily\n",
    "\n",
    "A biblioteca Contextily fornece acesso a vários provedores de tiles de mapas base. Os provedores incluídos no Contextily estão organizados sob o módulo ctx.providers. Cada provedor tem um ou mais estilos de mapa disponíveis. No quadro 15 apresenta-se alguns dos principais provedores e estilos disponíveis com acesso gratuito. \n",
    "\n",
    "\n",
    "Quadro 15: Provedores de tiles e estilos no Contextily.\n",
    "\n",
    "| Provedor     | Estilo                           |\n",
    "|--------------|----------------------------------|\n",
    "| OpenStreetMap| ctx.providers.OpenStreetMap.Mapnik|\n",
    "| Stamen       | ctx.providers.Stamen.Toner       |\n",
    "|              | ctx.providers.Stamen.TonerLite   |\n",
    "|              | ctx.providers.Stamen.Terrain     |\n",
    "|              | ctx.providers.Stamen.Watercolor  |\n",
    "| CartoDB      | ctx.providers.CartoDB.Positron   |\n",
    "|              | ctx.providers.CartoDB.DarkMatter |\n",
    "| Esri         | ctx.providers.Esri.WorldStreetMap|\n",
    "|              | ctx.providers.Esri.DeLorme       |\n",
    "|              | ctx.providers.Esri.WorldTopoMap  |\n",
    "|              | ctx.providers.Esri.WorldImagery  |\n",
    "\n",
    "\n",
    "Abaixo apresentamos alguns exemplos de estilos de mapas base:\n",
    "\n",
    "| OpenStreetMap.Mapnik | Stamen.Watercolor |\n",
    "|----------------------|-------------------|\n",
    "| ![Figura 23](images/fig23.png)           | ![Figura 24](images/fig24.png)         |\n",
    "\n",
    "\n",
    "| Esri.DeLorme | NASAGIBS.ASTER_GDEM_Greyscale_Shaded_Relief |\n",
    "|--------------|---------------------------------------------|\n",
    "| ![Figura 25](images/fig25.png)     | ![Figura 26](images/fig26.png)                                    |\n",
    "\n",
    "\n",
    "\n",
    "Vale lembrar que a disponibilidade dos tiles pode variar dependendo dos termos de serviço dos provedores e da capacidade de suportar tráfego. Além disso, a lista de provedores e estilos pode mudar com o tempo, conforme novos estilos são adicionados ou antigos são removidos. Você pode verificar diretamente a lista completa de provedores e estilos disponíveis no ambiente Python explorando o módulo ctx.providers.\n",
    "\n",
    "\n",
    "Exemplo: Criar uma visualização do município de Florianópolis com o basemap WorldImagery, do provedor ESRI.\n",
    "\n",
    "Inicialmente, precisamos instalar a biblioteca Contextily:"
   ]
  },
  {
   "cell_type": "code",
   "execution_count": null,
   "id": "18840902",
   "metadata": {},
   "outputs": [],
   "source": [
    "# !pip install contextily"
   ]
  },
  {
   "cell_type": "markdown",
   "id": "ae63776e",
   "metadata": {},
   "source": [
    "O comando !pip install é utilizado para instalar pacotes Python utilizando o gerenciador de pacotes pip. O prefixo “!“ é específico para ambientes como o Jupyter Notebook e indica que o comando deve ser executado no sistema operacional, e não no kernel Python. \n",
    "Em seguida, importamos as bibliotecas necessárias, lemos o arquivo shapefile e geramos um plot para ver se o arquivo foi lido corretamente."
   ]
  },
  {
   "cell_type": "code",
   "execution_count": null,
   "id": "fa4259ea",
   "metadata": {},
   "outputs": [],
   "source": [
    "import geopandas as gpd\n",
    "import contextily as ctx\n",
    "import matplotlib.pyplot as plt\n",
    "\n",
    "# Carregar o GeoDataFrame\n",
    "gdf = gpd.read_file('~/geopythonbook/content/27_floripa/floripa.shp')\n",
    "gdf.plot()"
   ]
  },
  {
   "cell_type": "markdown",
   "id": "62756a80",
   "metadata": {},
   "source": [
    "Agora vamos plotar o GeoDataFrame utilizando o Contextily:"
   ]
  },
  {
   "cell_type": "code",
   "execution_count": null,
   "id": "a2781f4f",
   "metadata": {},
   "outputs": [],
   "source": [
    "# Plotar o GeoDataFrame\n",
    "ax = gdf.to_crs(epsg=3857).plot(figsize=(15, 15), facecolor='none', \n",
    "    alpha=0.9, edgecolor='r')\n",
    "\n",
    "# Adicionar o mapa base\n",
    "ctx.add_basemap(ax, source=ctx.providers.Esri.WorldImagery, zoom=12)\n",
    "\n",
    "plt.show()"
   ]
  },
  {
   "cell_type": "markdown",
   "id": "5ad64cf1",
   "metadata": {},
   "source": [
    "Detalhando o código anterior:\n",
    "\n",
    "``` ax = gdf.to_crs(epsg=3857).plot(figsize=(15, 15), facecolor='none', alpha=0.9, edgecolor='r') ```\n",
    "\n",
    "Aqui, reprojetamos o GeoDataFrame gdf para o sistema de coordenadas Web Mercator (EPSG:3857), que é comum para mapas base. Em seguida, plotamos com as seguintes características: \n",
    "\n",
    "``` figsize=(15, 15): Define o tamanho da figura; ```\n",
    "\n",
    "facecolor='none': Define a cor de preenchimento das geometrias como ‘sem cor’;\n",
    "\n",
    "alpha=0.9: Define a transparência das geometrias (0 é totalmente transparente, 1 é totalmente opaco);\n",
    "\n",
    "edgecolor='r': Define a cor das bordas das geometrias como vermelho.\n",
    "\n",
    "```\n",
    "ctx.add_basemap(ax, source=ctx.providers.Esri.WorldImagery, zoom=12)\n",
    "plt.show()\n",
    "```\n",
    "\n",
    "A biblioteca Contextily é usada para adicionar um mapa base à visualização. Neste caso, o mapa base escolhido é o WorldImagery da Esri. A função add_basemap adiciona esse mapa ao fundo da plotagem de gdf, com um nível de zoom definido como 12. Por fim, plt.show() é utilizado para exibir o gráfico.\n",
    "\n",
    "\n",
    "\n",
    "## 6.5 Visualização interativa com folium\n",
    "\n",
    "O Folium é uma biblioteca que tem como base a biblioteca JavaScript Leaflet.js (https://leafletjs.com/). Sua integração com as bibliotecas Pandas e Geopandas permite transformar DataFrames e GeoDataFrames em visualizações de mapa interativas. \n",
    "\n",
    "O Folium suporta uma ampla variedade de tiles de mapa, como Mapbox e OpenStreetMap, para que os usuários possam personalizar a aparência de seus mapas base. É possível configurar cores, ícones e estilos para a visualização de dados. Com relação a ícones, o Folium utiliza predominantemente os ícones do FontAwesome 4.7 e os estilos de cores são predefinidos dentro da própria biblioteca. A lista completa de ícones disponíveis pode ser consultada no seguinte link: (https://fontawesome.com/v4.7/icons/).\n",
    "\n",
    "O Folium possui um conjunto predefinido de cores para os ícones. No entanto, ao contrário dos ícones, a lista de cores não está bem documentada em um único lugar, no site oficial ou na documentação do Folium. Algumas das cores disponíveis são: 'red', 'blue', 'green', 'purple', 'orange', 'darkred', 'lightred', 'beige'- 'darkblue', 'darkgreen', 'cadetblue', 'darkpurple', 'white', 'pink', 'lightblue', 'lightgreen', 'gray', 'black', 'lightgray'.\n",
    "\n",
    "Existem vários plugins que ampliam as funcionalidades do Folium e possibilitam a criação de visualizações de mapas mais interativas e ricas em recursos, como o HeatMap, MarkerCluster, Fullscreen. Além disso, como o Folium é baseado no Leaflet.js, muitos plugins do Leaflet podem ser facilmente adaptados ou integrados a ele.\n",
    "\n",
    "\n",
    "\n",
    "### 6.5.1 Aplicando o Folium com dados reais\n",
    "\n",
    "Vamos demonstrar algumas das funcionalidades do Folium a partir de exemplos com dados reais.\n",
    "\n",
    "Exemplo 1: Criar uma visualização interativa das localizações das hidrelétricas e PCHs do estado de São Paulo."
   ]
  },
  {
   "cell_type": "code",
   "execution_count": null,
   "id": "a9f13a8d",
   "metadata": {},
   "outputs": [],
   "source": [
    "# Importar as bibliotecas, ler o arquivo shapefile e criar o GeoDataFrame\n",
    "import geopandas as gpd\n",
    "import folium\n",
    "gdf_hsp = gpd.read_file('~/geopythonbook/content/28_hidreletricas_SP/hidreletricas_sp.shp')\n",
    "\n",
    "\n",
    "#nCalcular a latitude e longitude médias das geometrias no GeoDataFrame\n",
    "\n",
    "latitude_central = gdf_hsp.geometry.y.mean()\n",
    "longitude_central = gdf_hsp.geometry.x.mean()\n",
    "\n",
    "\n",
    "# Imprimir as coordenadas centrais\n",
    "\n",
    "print(latitude_central, longitude_central)\n",
    "\n",
    "\n",
    "# Inicializar um mapa centrado nas coordenadas médias com um nível de zoom inicial de 7\n",
    "\n",
    "mapa_hid = folium.Map(location=[latitude_central, longitude_central], \n",
    "    zoom_start=7)\n",
    "# Também é possível inserir manualmente as coordenadas centrais do mapa\n",
    "# mapa_hid = folium.Map(location=[-22.6444, -48.0996], zoom_start=7)\n",
    "\n",
    "# Adicionar um marcador ao mapa para cada hidrelétrica no GeoDataFrame\n",
    "for idx, row in gdf_hsp.iterrows():\n",
    "    folium.Marker(location=[row['geometry'].y, row['geometry'].x],\n",
    "                  popup=row['potenciaou']  \n",
    "                 ).add_to(mapa_hid)\n",
    "\n",
    "# Exibir o mapa \n",
    "mapa_hid"
   ]
  },
  {
   "cell_type": "markdown",
   "id": "cee649bd",
   "metadata": {},
   "source": [
    "Nessa visualização, além de termos a localização dos pontos referentes às hidrelétricas e PCHs, podemos visualizar a capacidade instalada clicando no ícone desejado.\n",
    "\n",
    "\n",
    "Vamos analisar o código por partes:\n",
    "\n",
    "```\n",
    "latitude_central = gdf_hsp.geometry.y.mean()\n",
    "longitude_central = gdf_hsp.geometry.x.mean()\n",
    "print(latitude_central, longitude_central)\n",
    "#Saída: (-22.6444, -48.0966)\n",
    "```\n",
    "\n",
    "Esse código calcula a latitude e longitude médias de todas as geometrias no GeoDataFrame. Isso é usado para definir o ponto central do mapa que será criado posteriormente.\n",
    "\n",
    "```\n",
    "mapa_hid = folium.Map(location=[latitude_central, longitude_central], zoom_start=7)\n",
    "Um mapa é inicializado usando a biblioteca Folium, centrado nas coordenadas médias calculadas anteriormente e com um nível de zoom inicial de 7.\n",
    "\n",
    "for idx, row in gdf_hsp.iterrows():\n",
    "    folium.Marker(location=[row['geometry'].y, row['geometry'].x],\n",
    "                  popup=row['potenciaou']  \n",
    "                 ).add_to(mapa_hid)\n",
    "```\n",
    "\n",
    "Para cada hidrelétrica no GeoDataFrame gdf_hsp, um marcador é adicionado ao mapa. A localização de cada marcador é definida pela latitude (``` row['geometry'].y ```) e longitude (``` row['geometry'].x ```) da hidrelétrica. Um pop-up também é adicionado a cada marcador, que exibirá a potência da hidrelétrica quando o marcador for clicado. Para alvar a visualização interativa em um arquivo HTML:\n",
    "\n",
    "``` mapa_hid.save('mapa_hidreletricas_SP.html') ```\n",
    "\n",
    "\n",
    "Vamos agora gerar uma nova visualização, alterando o mapa base e o símbolo dos marcadores."
   ]
  },
  {
   "cell_type": "code",
   "execution_count": null,
   "id": "5966259a",
   "metadata": {},
   "outputs": [],
   "source": [
    "# Inicializando um mapa folium centrado na latitude e longitude médias\n",
    "\n",
    "# usar o serviço de imagens do ArcGIS como tiles de fundo\n",
    "mapa_hid = folium.Map(\n",
    "    location=[latitude_central, longitude_central],  # Ponto central do mapa\n",
    "    zoom_start=7,  # Nível de zoom inicial\n",
    "    control_scale=True,  # Adiciona um controle de escala ao mapa\n",
    "    attr='ESRI World Imagery',  # Atribuição do mapa\n",
    "    tiles=\n",
    "    'http://services.arcgisonline.com/ArcGIS/rest/services/World_Imagery/MapServer/tile/{z}/{y}/{x}'  # URL do servidor de tiles\n",
    ")\n",
    "\n",
    "# Iterar sobre cada linha do GeoDataFrame 'gdf_hsp' para adicionar marcadores ao mapa\n",
    "for idx, row in gdf_hsp.iterrows():\n",
    "    folium.Marker(\n",
    "        location=[row['geometry'].y, row['geometry'].x],  # Coordenadas do marcador\n",
    "        popup=row['potenciaou'],  # Informação da potência que será mostrada no pop-up\n",
    "        icon=folium.Icon(color='blue', icon='flash')  # Ícone azul com símbolo de 'flash'\n",
    "    ).add_to(mapa_hid)  # Adiciona o marcador ao mapa\n",
    "\n",
    "# Exibir o mapa\n",
    "mapa_hid"
   ]
  },
  {
   "cell_type": "markdown",
   "id": "2d807221",
   "metadata": {},
   "source": [
    "É possível ainda alterar o dimensionamento da área gráfica da figura:"
   ]
  },
  {
   "cell_type": "code",
   "execution_count": null,
   "id": "daac0804",
   "metadata": {},
   "outputs": [],
   "source": [
    "folium.Map(location=[latitude_central, longitude_central], zoom_start=7, width=600, height=400, control_scale=True)"
   ]
  },
  {
   "cell_type": "markdown",
   "id": "e40d2fc1",
   "metadata": {},
   "source": [
    "Nesse Código, width=600 e height=400 definem as dimensões do mapa em pixels. Neste caso, o mapa terá uma largura de 600 pixels e uma altura de 400 pixels.\n",
    "\n",
    "\n",
    "Exemplo 2: Criar a visualização interativa de uma geometria do tipo ‘linha’: a BR-116."
   ]
  },
  {
   "cell_type": "code",
   "execution_count": null,
   "id": "be038461",
   "metadata": {},
   "outputs": [],
   "source": [
    "# Importar as bibliotecas \n",
    "import geopandas as gpd\n",
    "import folium\n",
    "\n",
    "# Ler o arquivo shapefile e armazenar no GeoDataFrame\n",
    "gdf = gpd.read_file('~/geopythonbook/content/14_br116/br116.shp')\n",
    "\n",
    "# Calcular o ponto central da união das geometrias no GeoDataFrame\n",
    "center = gdf.geometry.unary_union.centroid\n",
    "\n",
    "# Obter a latitude e longitude desse ponto central\n",
    "latitude_central = center.y\n",
    "longitude_central = center.x\n",
    "\n",
    "# Converter o GeoDataFrame para formato JSON \n",
    "gdf.crs = 'EPSG:4326'\n",
    "gdf.to_json()\n",
    "gdf_json = gdf.to_json()\n",
    "\n",
    "# Criar um objeto de feature GeoJson a partir do gdf convertido em JSON\n",
    "gdf_ftrs = folium.features.GeoJson(gdf_json)\n",
    "\n",
    "# Inicializar o mapa folium centrado na latitude e longitude calculadas \n",
    "# Nível de zoom inicial de 4\n",
    "mapabr = folium.Map(location=[latitude_central, longitude_central], \n",
    "    zoom_start=4)\n",
    "\n",
    "# Adicionar o GeoJson (que representa a BR-116) ao mapa\n",
    "mapabr.add_child(gdf_ftrs)\n",
    "\n",
    "# Exibir o mapa \n",
    "mapabr"
   ]
  },
  {
   "cell_type": "markdown",
   "id": "8aa7c6e7",
   "metadata": {},
   "source": [
    "Exemplo 3: Criar uma visualização com os municípios do estado do Amapá (dados do tipo ‘polígono’), introduzindo algumas possibilidades de configuração adicional."
   ]
  },
  {
   "cell_type": "code",
   "execution_count": null,
   "id": "e51d799f",
   "metadata": {},
   "outputs": [],
   "source": [
    "# Importar as bibliotecas necessárias\n",
    "import geopandas as gpd\n",
    "import folium\n",
    "\n",
    "# Ler o arquivo shapefile e armazenar no GeoDataFrame\n",
    "amapa = gpd.read_file('~/geopythonbook/content/29_mun_amapa/censo_mun_AP.shp')\n",
    "\n",
    "# Calcular o ponto central (centroid) da união de todas as geometrias no GeoDataFrame\n",
    "center = amapa.geometry.unary_union.centroid\n",
    "\n",
    "# Obter a latitude e longitude desse ponto central\n",
    "latitude_central = center.y\n",
    "longitude_central = center.x\n",
    "\n",
    "# Converter o GeoDataFrame para formato JSON (útil para visualização em algumas bibliotecas)\n",
    "amapa.crs = 'EPSG:4326'\n",
    "amapa.to_json()\n",
    "amapa_json = amapa.to_json()\n",
    "# Criar um objeto de feature GeoJson a partir do GeoDataFrame convertido em JSON\n",
    "amapa_ftrs = folium.features.GeoJson(amapa_json)\n",
    "\n",
    "# Inicializar um mapa folium centrado na latitude e longitude calculadas com um nível de zoom inicial de 7\n",
    "# Utilizar o serviço de imagens do mundo do ArcGIS como tiles de fundo\n",
    "mapa_AP = folium.Map(location=[latitude_central, longitude_central], zoom_start=7,\n",
    "        control_scale=True, attr='ESRI World Imagery',\n",
    "        tiles=\n",
    "        'http://services.arcgisonline.com/ArcGIS/rest/services/World_Imagery/MapServer/tile/{z}/{y}/{x}')\n",
    "\n",
    "# Adicionar o GeoJson (que representa os municípios do Amapá) ao mapa\n",
    "mapa_AP.add_child(amapa_ftrs)\n",
    "\n",
    "# Exibir o mapa\n",
    "mapa_AP"
   ]
  },
  {
   "cell_type": "markdown",
   "id": "2183180f",
   "metadata": {},
   "source": [
    "Vamos alterar o código anterior, especificando a cor e a espessura da linha de borda e a cor de preenchimento dos municípios."
   ]
  },
  {
   "cell_type": "code",
   "execution_count": null,
   "id": "b79b789c",
   "metadata": {},
   "outputs": [],
   "source": [
    "# Criar uma função para estilizar as geometrias referentes aos municípios.\n",
    "# A função especifica a cor da borda, a espessura da borda e a cor de preenchimento.\n",
    "def estilo_mun(ftr):\n",
    "    return({'color':'red', 'weight':1, 'fillColor':'purple'})\n",
    "\n",
    "# Converter o GeoDataFrame 'amapa' para formato JSON.\n",
    "\n",
    "amapa_json = amapa.to_json()\n",
    "\n",
    "# Criar o objeto de feature GeoJson a partir do GeoDataFrame convertido em JSON. E:\n",
    "# - Definir o nome da layer como 'municipio'.\n",
    "# - Adicionar um tooltip que mostra informações dos municípios ao passar o mouse sobre eles.\n",
    "# - Aplicar a função de estilo estilo_mun a cada município.\n",
    "amapa_ftrs = folium.features.GeoJson(amapa_json, \n",
    "    name='municipio', \n",
    "    tooltip=folium.features.GeoJsonTooltip(['municipio', 'pop_2010', 'pop_2021', 'dif_pop']), \n",
    "    style_function=estilo_mun)\n",
    "\n",
    "# Adicionar o GeoJson ao mapa previamente criado.\n",
    "mapa_AP.add_child(amapa_ftrs)\n",
    "\n",
    "# Exibir o mapa.\n",
    "mapa_AP"
   ]
  },
  {
   "cell_type": "markdown",
   "id": "f40f93dd",
   "metadata": {},
   "source": [
    "A partir das alterações realizadas no código, é possível visualizar as geometrias referentes aos municípios do estado do Amapá com outra configuração. Além disso, podemos verificar os dados sobre a população em 2010 e 2021 e a sua alteração (em porcentagem):\n",
    "\n",
    "\n",
    "É possível criar estilos de visualização diferentes, com base na seleção de propriedades ou atributos. Nesse exemplo, vamos criar uma função que verifica o nome do município e, se for 'Macapá', aplica estilo específico. Caso contrário, aplica um estilo padrão para os outros municípios."
   ]
  },
  {
   "cell_type": "code",
   "execution_count": null,
   "id": "37dbac19",
   "metadata": {},
   "outputs": [],
   "source": [
    "def estilo_mun(ftr):\n",
    "    # Verificar se o município é 'Macapá'\n",
    "    if ftr['properties']['municipio']=='Macapá':\n",
    "        # Estilo para o município 'Macapá'  \n",
    "        return {'color':'red', 'weight':4, 'fillColor':'green'} \n",
    "    else:\n",
    "        #Estilo padrão para os outros municípios\n",
    "        return {'color':'black', 'weight':2, 'fillColor':'purple'} \n",
    "\n",
    "\n",
    "amapa_json = amapa.to_json()\n",
    "\n",
    "amapa_ftrs = folium.features.GeoJson(amapa_json, \n",
    "    name='municipio', \n",
    "    tooltip=folium.features.GeoJsonTooltip(['municipio', 'pop_2010', \n",
    "        'pop_2021', 'dif_pop']), \n",
    "    style_function=estilo_mun)\n",
    "\n",
    "mapa_AP.add_child(amapa_ftrs)\n",
    "mapa_AP"
   ]
  },
  {
   "cell_type": "markdown",
   "id": "08bb7e8d",
   "metadata": {},
   "source": [
    "No próximo exemplo, vamos aplicar um estilo com cor de preenchimento aleatória a cada município do Amapá, enquanto a cor de borda e a espessura serão as mesmas para todos."
   ]
  },
  {
   "cell_type": "code",
   "execution_count": null,
   "id": "f06640fb",
   "metadata": {},
   "outputs": [],
   "source": [
    "# Importar o módulo random, que permite fazer escolhas aleatórias\n",
    "import random\n",
    "\n",
    "# Definir uma função para estilizar as geometrias (municípios) no mapa.\n",
    "# A cor de preenchimento de cada município é determinada aleatoriamente \n",
    "# a partir de uma lista de cores.\n",
    "def estilo_mun(ftr):\n",
    "    # Definir uma lista de cores que podem ser escolhidas.\n",
    "    cores = ['grey', 'orange', 'yellow', 'violet', 'blue', 'green', 'indigo']\n",
    "    \n",
    "    # Retornar o estilo para o município. A cor de preenchimento é selecionada \n",
    "    # aleatoriamente. A cor de contorno é definida como preta e a espessura do \n",
    "    # contorno como 2.\n",
    "    return {'color': 'black', 'weight': 2, 'fillColor': random.choice(cores)}\n",
    "\n",
    "amapa_json = amapa.to_json()\n",
    "amapa_ftrs = folium.features.GeoJson(\n",
    "    amapa_json, \n",
    "    name='municipio', \n",
    "    tooltip=folium.features.GeoJsonTooltip(['municipio', 'pop_2010', 'pop_2021', \n",
    "        'dif_pop']), \n",
    "    style_function=estilo_mun\n",
    ")\n",
    "\n",
    "mapa_AP.add_child(amapa_ftrs)\n",
    "mapa_AP"
   ]
  },
  {
   "cell_type": "markdown",
   "id": "9ba4fe1c",
   "metadata": {},
   "source": [
    "Por fim, vamos gerar um mapa interativo que mostra os municípios do estado do Amapá e as estações fluviométricas da Agência Nacional de Águas (ANA), com estilizações e tooltips específicos."
   ]
  },
  {
   "cell_type": "code",
   "execution_count": null,
   "id": "bfbfac77",
   "metadata": {},
   "outputs": [],
   "source": [
    "# Carregar o shapefile que contém informações sobre as estações \n",
    "# fluviométricas da ANA\n",
    "ANA = gpd.read_file('~/geopythonbook/content/30_estacoes_ANA/ANA_estacoes.shp')\n",
    "\n",
    "# Definir uma função para estilizar as geometrias dos municípios.\n",
    "def estilo_mun(ftr):\n",
    "    # Retornar o estilo que será aplicado aos municípios.\n",
    "    return({'color':'red', 'weight':1, 'fillColor':'purple'})\n",
    "\n",
    "amapa_json = amapa.to_json()\n",
    "amapa_ftrs = folium.features.GeoJson(\n",
    "    amapa_json, \n",
    "    name='municipio', \n",
    "    tooltip=folium.features.GeoJsonTooltip(['municipio', \n",
    "        'pop_2010', 'pop_2021', 'dif_pop']), \n",
    "    style_function=estilo_mun)\n",
    "\n",
    "ANA.crs = 'EPSG:4326' \n",
    "\n",
    "ANA_json = ANA.to_json()\n",
    "\n",
    "# Criar uma camada GeoJson para as estações fluviométricas da ANA.\n",
    "# Tooltips são adicionadas para mostrar informações adicionais sobre \n",
    "# uma estação.\n",
    "ANA_ftrs = folium.features.GeoJson(\n",
    "    ANA_json, \n",
    "    name='Estações fluviométricas ANA',\n",
    "    tooltip=folium.features.GeoJsonTooltip(['Codigo', 'Rios', \n",
    "        'Operador']))\n",
    "\n",
    "# Inicializar um mapa interativo do Folium. # Definir a localização \n",
    "# central e o zoom. O mapa também usará tiles de imagens da ESRI.\n",
    "mapa_AP = folium.Map(\n",
    "    location=[latitude_central, longitude_central], \n",
    "    zoom_start=7,\n",
    "    control_scale=True, \n",
    "    attr='ESRI World Imagery', \n",
    "    tiles=\n",
    "    'http://services.arcgisonline.com/ArcGIS/rest/services/World_Imagery/MapServer/tile/{z}/{y}/{x}')\n",
    "\n",
    "# Adicionando a camada de municípios ao mapa.\n",
    "mapa_AP.add_child(amapa_ftrs)\n",
    "\n",
    "# Adicionando a camada de estações fluviométricas da ANA ao mapa.\n",
    "mapa_AP.add_child(ANA_ftrs)\n",
    "\n",
    "# Exibindo o mapa.\n",
    "mapa_AP"
   ]
  },
  {
   "cell_type": "markdown",
   "id": "1c7a27da",
   "metadata": {},
   "source": [
    "Nesta visualização interativa, podemos verificar tanto dados referentes à população dos municípios quanto dados das estações da ANA."
   ]
  }
 ],
 "metadata": {
  "kernelspec": {
   "display_name": "Python 3",
   "language": "python",
   "name": "python3"
  }
 },
 "nbformat": 4,
 "nbformat_minor": 5
}
