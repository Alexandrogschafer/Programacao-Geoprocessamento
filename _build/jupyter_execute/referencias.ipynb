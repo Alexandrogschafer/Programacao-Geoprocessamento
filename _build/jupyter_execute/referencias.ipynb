{
 "cells": [
  {
   "cell_type": "markdown",
   "id": "2f2d5fc4",
   "metadata": {},
   "source": [
    "# REFERÊNCIAS BIBLIOGRÁFICAS\n",
    "\n",
    "\n",
    "CONTEXTILY DEVELOPERS. Contextily Reference Guide. Disponível em: <https://contextily.readthedocs.io/en/latest/reference.html>. Acesso em: 02/10/2023.\n",
    "\n",
    "DIENER, Michael. Python Geospatial Analysis Cookbook. Packt Publishing Ltd, 2015.\n",
    "\n",
    "FIONA DEVELOPERS. The Fiona User Manual. Disponível em: <https://fiona.readthedocs.io/en/stable/manual.html>. Acesso em: 27/08/2023.\n",
    "\n",
    "GEOPANDAS DEVELOPERS. Geopandas Documentation. Disponível em: <https://geopandas.org/en/stable/docs.html>. Acesso em: 05/09/2023.\n",
    "\n",
    "LAWHEAD, Joel. Learning geospatial analysis with Python. 3rd ed. Packt Publishing Ltd, 2019.\n",
    "\n",
    "MATPLOTLIB DEVELOPMENT TEAM. Line Styles. Disponível em: <https://matplotlib.org/stable/gallery/lines_bars_and_markers/linestyles.html>. Acesso em: 04/10/2023.\n",
    "\n",
    "MATPLOTLIB DEVELOPMENT TEAM. Marker API. Disponível em: <https://matplotlib.org/stable/api/markers_api.html>. Acesso em: 04/10/2023.\n",
    "\n",
    "MATPLOTLIB DEVELOPMENT TEAM. Matplotlib Documentation. Disponível em: <https://matplotlib.org/stable/index.html>. Acesso em: 04/10/2023.\n",
    "\n",
    "MATPLOTLIB DEVELOPMENT TEAM. Named Colors. Disponível em: <https://matplotlib.org/stable/gallery/color/named_colors.html>. Acesso em: 04/10/2023.\n",
    "\n",
    "PANDAS DEVELOPMENT TEAM. Pandas Documentation. Disponível em: <https://pandas.pydata.org/docs/>. Acesso em: 21/09/2023.\n",
    "\n",
    "PROJECT JUPYTER. Project Jupyter Documentation. Disponível em: <https://docs.jupyter.org/en/latest/>. Acesso em: 14/08/2023.\n",
    "\n",
    "PYTHON ENHANCEMENT PROPOSALS. PEP 20 – The Zen of Python. Disponível em: <https://peps.python.org/pep-0020/>. Acesso em: 27/08/2023.\n",
    "\n",
    "PYTHON SOFTWARE FOUNDATION. The Python Tutorial. Disponível em: <https://docs.python.org/3/tutorial/index.html>. Acesso em: 12/08/2023.\n",
    "\n",
    "REY, Sergio J.; ARRIBAS-BEL, Dani; WOLF, Levi J. Geographic Data Science with Python. CRC Press, 2020. Disponível em: <https://geographicdata.science/book/intro.html>. Acesso em: 09/10/2023.\n",
    "\n",
    "SHAPELY DEVELOPERS. The Shapely User Manual. Disponível em: <https://shapely.readthedocs.io/en/stable/manual.html>. Acesso em: 23/08/2023."
   ]
  }
 ],
 "metadata": {
  "jupytext": {
   "formats": "md:myst",
   "text_representation": {
    "extension": ".md",
    "format_name": "myst",
    "format_version": 0.13,
    "jupytext_version": "1.11.5"
   }
  },
  "kernelspec": {
   "display_name": "Python 3",
   "language": "python",
   "name": "python3"
  },
  "language_info": {
   "codemirror_mode": {
    "name": "ipython",
    "version": 3
   },
   "file_extension": ".py",
   "mimetype": "text/x-python",
   "name": "python",
   "nbconvert_exporter": "python",
   "pygments_lexer": "ipython3",
   "version": "3.8.18"
  },
  "source_map": [
   13
  ]
 },
 "nbformat": 4,
 "nbformat_minor": 5
}