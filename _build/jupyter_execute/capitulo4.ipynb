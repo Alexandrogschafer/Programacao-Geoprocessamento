{
 "cells": [
  {
   "cell_type": "markdown",
   "id": "97aa605d",
   "metadata": {},
   "source": [
    "# 4. GEOPROCESSAMENTO BÁSICO COM SHAPELY E FIONA\n",
    "\n",
    "[Abrir no Google Colab](https://colab.research.google.com/github/Alexandrogschafer/Programacao-Geoprocessamento/blob/main/notebooks/capitulo4.ipynb)\n",
    "<br>\n",
    "\n",
    "Dentro do ecossistema Python, existem diversas bibliotecas para otimizar o trabalho com dados geoespaciais. Dentre elas, Shapely e Fiona merecem destaque, não apenas por sua simplicidade, mas também pela eficácia com que lidam com tarefas geoespaciais. Quando utilizadas em conjunto, essas bibliotecas proporcionam uma abordagem integrada e robusta para o geoprocessamento básico no Python, tornando a análise e manipulação de dados espaciais mais acessível e eficiente.\n",
    "\n",
    "\n",
    "## 4.1 A biblioteca Shapely\n",
    "\n",
    "Shapely é uma biblioteca Python para manipulação e análise de objetos geométricos planares. Baseada na biblioteca GEOS (usada em PostGIS e outros sistemas), ela oferece uma interface amigável para criar, manipular e analisar formas geométricas. As classes básicas são apresentadas na figura 5. \n",
    "\n",
    "![Figura 5](images/fig5.png)\n",
    "\n",
    "Figura 5: Classes para representar geometrias na Shapely\n",
    "\n",
    "\n",
    "A Shapely destaca-se principalmente por suas capacidades geométricas. Ele facilita a execução de operações como união, interseção, diferença e buffer. Além disso, a biblioteca é essencial para manipular e transformar geometrias, desde a simplificação de linhas e polígonos até a criação de um convex hull em torno de pontos ou a divisão e combinação de diferentes formas geométricas.\n",
    "\n",
    "\n",
    "### 4.1.1 Criação de Geometrias com Shapely\n",
    "\n",
    "Conforme apresentamos na figura 5, a Shapely oferece uma série de classes para representar diferentes tipos de geometrias. Vamos explorar como criá-las:\n",
    "\n",
    "a) Point: Representa uma coordenada única no espaço."
   ]
  },
  {
   "cell_type": "code",
   "execution_count": 1,
   "id": "2d4577d3",
   "metadata": {},
   "outputs": [
    {
     "data": {
      "image/svg+xml": [
       "<svg xmlns=\"http://www.w3.org/2000/svg\" xmlns:xlink=\"http://www.w3.org/1999/xlink\" width=\"100.0\" height=\"100.0\" viewBox=\"3.5 2.2 2.0 2.0\" preserveAspectRatio=\"xMinYMin meet\"><g transform=\"matrix(1,0,0,-1,0,6.4)\"><circle cx=\"4.5\" cy=\"3.2\" r=\"0.06\" stroke=\"#555555\" stroke-width=\"0.02\" fill=\"#66cc99\" opacity=\"0.6\" /></g></svg>"
      ],
      "text/plain": [
       "<POINT (4.5 3.2)>"
      ]
     },
     "execution_count": 1,
     "metadata": {},
     "output_type": "execute_result"
    }
   ],
   "source": [
    "from shapely.geometry import Point\n",
    "ponto = Point(4.5, 3.2)\n",
    "ponto"
   ]
  },
  {
   "cell_type": "markdown",
   "id": "10e5fcbd",
   "metadata": {},
   "source": [
    "b) Linestring: Representa uma série de pontos conectados para formar uma linha."
   ]
  },
  {
   "cell_type": "code",
   "execution_count": 2,
   "id": "babea912",
   "metadata": {},
   "outputs": [
    {
     "data": {
      "image/svg+xml": [
       "<svg xmlns=\"http://www.w3.org/2000/svg\" xmlns:xlink=\"http://www.w3.org/1999/xlink\" width=\"100.0\" height=\"100.0\" viewBox=\"3.1959999999999997 2.996 2.4080000000000004 2.8080000000000003\" preserveAspectRatio=\"xMinYMin meet\"><g transform=\"matrix(1,0,0,-1,0,8.8)\"><polyline fill=\"none\" stroke=\"#66cc99\" stroke-width=\"0.05616000000000001\" points=\"3.3,3.1 4.4,4.3 5.5,5.7\" opacity=\"0.8\" /></g></svg>"
      ],
      "text/plain": [
       "<LINESTRING (3.3 3.1, 4.4 4.3, 5.5 5.7)>"
      ]
     },
     "execution_count": 2,
     "metadata": {},
     "output_type": "execute_result"
    }
   ],
   "source": [
    "from shapely.geometry import LineString\n",
    "linha = LineString([(3.3, 3.1), (4.4, 4.3), (5.5, 5.7)])\n",
    "linha"
   ]
  },
  {
   "cell_type": "markdown",
   "id": "13b983b3",
   "metadata": {},
   "source": [
    "c) Polygon: Representa uma área fechada. Você deve fornecer ao menos três coordenadas, e o primeiro e o último ponto devem ser os mesmos para fechar o polígono."
   ]
  },
  {
   "cell_type": "code",
   "execution_count": 3,
   "id": "edf3b1d1",
   "metadata": {},
   "outputs": [
    {
     "data": {
      "image/svg+xml": [
       "<svg xmlns=\"http://www.w3.org/2000/svg\" xmlns:xlink=\"http://www.w3.org/1999/xlink\" width=\"100.0\" height=\"100.0\" viewBox=\"5.04 3.14 1.6199999999999992 1.2199999999999993\" preserveAspectRatio=\"xMinYMin meet\"><g transform=\"matrix(1,0,0,-1,0,7.5)\"><path fill-rule=\"evenodd\" fill=\"#66cc99\" stroke=\"#555555\" stroke-width=\"0.032399999999999984\" opacity=\"0.6\" d=\"M 5.1,3.2 L 6.4,4.3 L 6.6,3.9 L 5.1,3.2 z\" /></g></svg>"
      ],
      "text/plain": [
       "<POLYGON ((5.1 3.2, 6.4 4.3, 6.6 3.9, 5.1 3.2))>"
      ]
     },
     "execution_count": 3,
     "metadata": {},
     "output_type": "execute_result"
    }
   ],
   "source": [
    "from shapely.geometry import Polygon\n",
    "poligono = Polygon([(5.1, 3.2), (6.4, 4.3), (6.6, 3.9), (5.1, 3.2)])\n",
    "poligono"
   ]
  },
  {
   "cell_type": "markdown",
   "id": "396d2372",
   "metadata": {},
   "source": [
    "d) Polígono com furo: Refere-se a uma forma geométrica que consiste em um polígono externo maior e um ou mais polígonos internos menores que representam \"furos\" ou espaços vazios dentro do polígono maior. Estes polígonos internos são completamente contidos dentro do polígono externo e não se sobrepõem uns aos outros. Para criar um polígono com furos usando Shapely, você usaria a classe Polygon. A sintaxe básica é:\n",
    "\n",
    "\n",
    "\n",
    "Definindo o polígono externo\n",
    "``` exterior = [(x1, y1), (x2, y2), ...] ```\n",
    "\n",
    "Definindo um ou mais polígonos internos (furos)\n",
    "```\n",
    "interior1 = [(x1, y1), (x2, y2), ...]\n",
    "interior2 = [(x1, y1), (x2, y2), ...]\n",
    "```\n",
    "\n",
    "Criando o polígono \n",
    "```\n",
    "poligono_com_furos = Polygon(exterior, [interior1, interior2])\n",
    "```\n",
    "\n",
    "No código acima, exterior define os pontos do polígono externo, enquanto interior1 e interior2 definem os furos dentro do polígono externo. Você pode adicionar quantos \"furos\" quiser, estendendo a lista de interiores. Exemplo:\n",
    "\n",
    "Definindo as coordenadas para o anel externo"
   ]
  },
  {
   "cell_type": "code",
   "execution_count": 4,
   "id": "31ad609d",
   "metadata": {},
   "outputs": [],
   "source": [
    "anel_externo = [(0, 0), (0, 10), (10, 10), (10, 0), (0, 0)]"
   ]
  },
  {
   "cell_type": "markdown",
   "id": "aa4dc29b",
   "metadata": {},
   "source": [
    "Definindo as coordenadas para o anel interno"
   ]
  },
  {
   "cell_type": "code",
   "execution_count": 5,
   "id": "8514c34f",
   "metadata": {},
   "outputs": [],
   "source": [
    "anel_interno = [(2, 2), (2, 8), (8, 8), (8, 4), (2, 2)]"
   ]
  },
  {
   "cell_type": "markdown",
   "id": "781f18b4",
   "metadata": {},
   "source": [
    "Criando o polígono com anel externo e interno"
   ]
  },
  {
   "cell_type": "code",
   "execution_count": 6,
   "id": "471c170e",
   "metadata": {},
   "outputs": [],
   "source": [
    "poligono_com_furo = Polygon(anel_externo, [anel_interno])"
   ]
  },
  {
   "cell_type": "markdown",
   "id": "a5a24fdf",
   "metadata": {},
   "source": [
    "Imprimindo o polígono"
   ]
  },
  {
   "cell_type": "code",
   "execution_count": 7,
   "id": "29ed5fe1",
   "metadata": {},
   "outputs": [
    {
     "data": {
      "image/svg+xml": [
       "<svg xmlns=\"http://www.w3.org/2000/svg\" xmlns:xlink=\"http://www.w3.org/1999/xlink\" width=\"100.0\" height=\"100.0\" viewBox=\"-0.4 -0.4 10.8 10.8\" preserveAspectRatio=\"xMinYMin meet\"><g transform=\"matrix(1,0,0,-1,0,10.0)\"><path fill-rule=\"evenodd\" fill=\"#66cc99\" stroke=\"#555555\" stroke-width=\"0.21600000000000003\" opacity=\"0.6\" d=\"M 0.0,0.0 L 0.0,10.0 L 10.0,10.0 L 10.0,0.0 L 0.0,0.0 z M 2.0,2.0 L 2.0,8.0 L 8.0,8.0 L 8.0,4.0 L 2.0,2.0 z\" /></g></svg>"
      ],
      "text/plain": [
       "<POLYGON ((0 0, 0 10, 10 10, 10 0, 0 0), (2 2, 2 8, 8 8, 8 4, 2 2))>"
      ]
     },
     "execution_count": 7,
     "metadata": {},
     "output_type": "execute_result"
    }
   ],
   "source": [
    "poligono_com_furo"
   ]
  },
  {
   "cell_type": "markdown",
   "id": "201db9c2",
   "metadata": {},
   "source": [
    "Multipoint: É uma coleção de vários pontos."
   ]
  },
  {
   "cell_type": "code",
   "execution_count": 8,
   "id": "da1188f2",
   "metadata": {},
   "outputs": [
    {
     "data": {
      "image/svg+xml": [
       "<svg xmlns=\"http://www.w3.org/2000/svg\" xmlns:xlink=\"http://www.w3.org/1999/xlink\" width=\"100.0\" height=\"100.0\" viewBox=\"3.1959999999999997 2.996 2.4080000000000004 2.8080000000000003\" preserveAspectRatio=\"xMinYMin meet\"><g transform=\"matrix(1,0,0,-1,0,8.8)\"><g><circle cx=\"3.3\" cy=\"3.1\" r=\"0.08424000000000001\" stroke=\"#555555\" stroke-width=\"0.028080000000000004\" fill=\"#66cc99\" opacity=\"0.6\" /><circle cx=\"4.4\" cy=\"4.3\" r=\"0.08424000000000001\" stroke=\"#555555\" stroke-width=\"0.028080000000000004\" fill=\"#66cc99\" opacity=\"0.6\" /><circle cx=\"5.5\" cy=\"5.7\" r=\"0.08424000000000001\" stroke=\"#555555\" stroke-width=\"0.028080000000000004\" fill=\"#66cc99\" opacity=\"0.6\" /></g></g></svg>"
      ],
      "text/plain": [
       "<MULTIPOINT (3.3 3.1, 4.4 4.3, 5.5 5.7)>"
      ]
     },
     "execution_count": 8,
     "metadata": {},
     "output_type": "execute_result"
    }
   ],
   "source": [
    "from shapely.geometry import MultiPoint\n",
    "multiponto = MultiPoint([(3.3, 3.1), (4.4, 4.3), (5.5, 5.7)])\n",
    "multiponto"
   ]
  },
  {
   "cell_type": "markdown",
   "id": "a33959e2",
   "metadata": {},
   "source": [
    "Multilinestring: É uma coleção de várias linhas."
   ]
  },
  {
   "cell_type": "code",
   "execution_count": 9,
   "id": "0b77e783",
   "metadata": {},
   "outputs": [
    {
     "data": {
      "image/svg+xml": [
       "<svg xmlns=\"http://www.w3.org/2000/svg\" xmlns:xlink=\"http://www.w3.org/1999/xlink\" width=\"100.0\" height=\"100.0\" viewBox=\"3.1959999999999997 2.996 2.4080000000000004 2.8080000000000003\" preserveAspectRatio=\"xMinYMin meet\"><g transform=\"matrix(1,0,0,-1,0,8.8)\"><g><polyline fill=\"none\" stroke=\"#66cc99\" stroke-width=\"0.05616000000000001\" points=\"3.3,3.1 4.0,5.0\" opacity=\"0.8\" /><polyline fill=\"none\" stroke=\"#66cc99\" stroke-width=\"0.05616000000000001\" points=\"4.4,4.3 5.5,5.7\" opacity=\"0.8\" /></g></g></svg>"
      ],
      "text/plain": [
       "<MULTILINESTRING ((3.3 3.1, 4 5), (4.4 4.3, 5.5 5.7))>"
      ]
     },
     "execution_count": 9,
     "metadata": {},
     "output_type": "execute_result"
    }
   ],
   "source": [
    "from shapely.geometry import MultiLineString\n",
    "multilinha = MultiLineString([[(3.3, 3.1), (4, 5)], [(4.4, 4.3), (5.5, 5.7)]])\n",
    "multilinha"
   ]
  },
  {
   "cell_type": "markdown",
   "id": "f46adcf0",
   "metadata": {},
   "source": [
    "Multipolygon: É uma coleção de vários polígonos."
   ]
  },
  {
   "cell_type": "code",
   "execution_count": 10,
   "id": "7d791da9",
   "metadata": {},
   "outputs": [
    {
     "data": {
      "image/svg+xml": [
       "<svg xmlns=\"http://www.w3.org/2000/svg\" xmlns:xlink=\"http://www.w3.org/1999/xlink\" width=\"100.0\" height=\"100.0\" viewBox=\"3.9399999999999995 4.54 4.32 2.92\" preserveAspectRatio=\"xMinYMin meet\"><g transform=\"matrix(1,0,0,-1,0,12.0)\"><g><path fill-rule=\"evenodd\" fill=\"#66cc99\" stroke=\"#555555\" stroke-width=\"0.0864\" opacity=\"0.6\" d=\"M 4.1,4.7 L 5.0,5.8 L 5.6,5.4 L 4.1,4.7 z\" /><path fill-rule=\"evenodd\" fill=\"#66cc99\" stroke=\"#555555\" stroke-width=\"0.0864\" opacity=\"0.6\" d=\"M 6.2,6.2 L 7.3,7.3 L 8.1,6.3 L 6.2,6.2 z\" /></g></g></svg>"
      ],
      "text/plain": [
       "<MULTIPOLYGON (((4.1 4.7, 5 5.8, 5.6 5.4, 4.1 4.7)), ((6.2 6.2, 7.3 7.3, 8.1...>"
      ]
     },
     "execution_count": 10,
     "metadata": {},
     "output_type": "execute_result"
    }
   ],
   "source": [
    "from shapely.geometry import MultiPolygon\n",
    "poligono1 = Polygon([(4.1, 4.7), (5.0, 5.8), (5.6, 5.4), (4.1, 4.7)])\n",
    "poligono2 = Polygon([(6.2, 6.2), (7.3, 7.3), (8.1, 6.3), (6.2, 6.2)])\n",
    "multipoligono = MultiPolygon([poligono1, poligono2])\n",
    "multipoligono"
   ]
  },
  {
   "cell_type": "markdown",
   "id": "cdcd0b5b",
   "metadata": {},
   "source": [
    "GeometryCollection: É uma coleção de qualquer combinação de geometrias."
   ]
  },
  {
   "cell_type": "code",
   "execution_count": 11,
   "id": "63bd494a",
   "metadata": {},
   "outputs": [
    {
     "data": {
      "image/svg+xml": [
       "<svg xmlns=\"http://www.w3.org/2000/svg\" xmlns:xlink=\"http://www.w3.org/1999/xlink\" width=\"100.0\" height=\"100.0\" viewBox=\"3.1679999999999997 2.968 3.5639999999999996 2.864\" preserveAspectRatio=\"xMinYMin meet\"><g transform=\"matrix(1,0,0,-1,0,8.8)\"><g><circle cx=\"4.5\" cy=\"3.2\" r=\"0.10691999999999999\" stroke=\"#555555\" stroke-width=\"0.03564\" fill=\"#66cc99\" opacity=\"0.6\" /><polyline fill=\"none\" stroke=\"#66cc99\" stroke-width=\"0.07128\" points=\"3.3,3.1 4.4,4.3 5.5,5.7\" opacity=\"0.8\" /><path fill-rule=\"evenodd\" fill=\"#66cc99\" stroke=\"#555555\" stroke-width=\"0.07128\" opacity=\"0.6\" d=\"M 5.1,3.2 L 6.4,4.3 L 6.6,3.9 L 5.1,3.2 z\" /></g></g></svg>"
      ],
      "text/plain": [
       "<GEOMETRYCOLLECTION (POINT (4.5 3.2), LINESTRING (3.3 3.1, 4.4 4.3, 5.5 5.7)...>"
      ]
     },
     "execution_count": 11,
     "metadata": {},
     "output_type": "execute_result"
    }
   ],
   "source": [
    "from shapely.geometry import GeometryCollection\n",
    "colecao = GeometryCollection([ponto, linha, poligono])\n",
    "colecao"
   ]
  },
  {
   "cell_type": "markdown",
   "id": "952febdb",
   "metadata": {},
   "source": [
    "### 4.1.2 Atributos geométrico na Shapely\n",
    "\n",
    "A Shapely fornece uma variedade de atributos e métodos para interagir e analisar objetos geométricos. Quando falamos sobre \"atributos geométricos\" no contexto da Shapely, estamos nos referindo às propriedades intrínsecas de uma forma geométrica. Aqui estão alguns dos atributos geométricos mais comuns e úteis disponíveis na Shapely:\n",
    "<br><br>\n",
    "\n",
    "geom_type: Retorna o tipo de geometria do objeto, como \"Point\", \"Linestring\", \"Polygon\", etc."
   ]
  },
  {
   "cell_type": "code",
   "execution_count": 12,
   "id": "b8b3c163",
   "metadata": {},
   "outputs": [
    {
     "name": "stdout",
     "output_type": "stream",
     "text": [
      "Point\n"
     ]
    }
   ],
   "source": [
    "print(ponto.geom_type)  \n"
   ]
  },
  {
   "cell_type": "markdown",
   "id": "1ee5e027",
   "metadata": {},
   "source": [
    "<br>\n",
    "\n",
    "area: Retorna a área do objeto geométrico. Este atributo é relevante principalmente para polígonos."
   ]
  },
  {
   "cell_type": "code",
   "execution_count": 13,
   "id": "8a60486e",
   "metadata": {},
   "outputs": [
    {
     "name": "stdout",
     "output_type": "stream",
     "text": [
      "0.36999999999999966\n"
     ]
    }
   ],
   "source": [
    "print(poligono.area) \n"
   ]
  },
  {
   "cell_type": "markdown",
   "id": "6960fc95",
   "metadata": {},
   "source": [
    "<br>\n",
    "\n",
    "length: Para objetos Linestring, retorna o comprimento total da linha. Para objetos Polygon, retorna o comprimento total do perímetro."
   ]
  },
  {
   "cell_type": "code",
   "execution_count": 14,
   "id": "4ee8ca9f",
   "metadata": {},
   "outputs": [
    {
     "name": "stdout",
     "output_type": "stream",
     "text": [
      "3.4083314410864567\n"
     ]
    }
   ],
   "source": [
    "print(linha.length)  \n"
   ]
  },
  {
   "cell_type": "markdown",
   "id": "3567200f",
   "metadata": {},
   "source": [
    "<br>\n",
    "\n",
    "bounds: Retorna uma tupla com as coordenadas (minx, miny, maxx, maxy) que define a caixa delimitadora (bounding box) da geometria."
   ]
  },
  {
   "cell_type": "code",
   "execution_count": 15,
   "id": "70090a76",
   "metadata": {},
   "outputs": [
    {
     "name": "stdout",
     "output_type": "stream",
     "text": [
      "(5.1, 3.2, 6.6, 4.3)\n"
     ]
    }
   ],
   "source": [
    "print(poligono.bounds)  \n"
   ]
  },
  {
   "cell_type": "markdown",
   "id": "e5246d43",
   "metadata": {},
   "source": [
    "<br>\n",
    "\n",
    "is_valid: Verifica se a geometria é válida de acordo com as regras do plano euclidiano. Por exemplo, um polígono que se auto intersecciona não seria válido."
   ]
  },
  {
   "cell_type": "code",
   "execution_count": 16,
   "id": "dec4cb15",
   "metadata": {},
   "outputs": [
    {
     "name": "stdout",
     "output_type": "stream",
     "text": [
      "True\n"
     ]
    }
   ],
   "source": [
    "print(poligono.is_valid)  \n"
   ]
  },
  {
   "cell_type": "markdown",
   "id": "6d7107ed",
   "metadata": {},
   "source": [
    "<br>\n",
    "\n",
    "is_simple: Indica se a geometria não se auto intersecciona. Para a maioria das geometrias, isso é o mesmo que is_valid, mas existem alguns casos raros em que uma geometria pode ser válida, mas não simples."
   ]
  },
  {
   "cell_type": "code",
   "execution_count": 17,
   "id": "4d43e3f9",
   "metadata": {},
   "outputs": [
    {
     "name": "stdout",
     "output_type": "stream",
     "text": [
      "True\n"
     ]
    }
   ],
   "source": [
    "print(linha.is_simple)  \n"
   ]
  },
  {
   "cell_type": "markdown",
   "id": "e0cea0ca",
   "metadata": {},
   "source": [
    "<br>\n",
    "\n",
    "centroid: Retorna o ponto central (ou \"centroide\") da geometria."
   ]
  },
  {
   "cell_type": "code",
   "execution_count": 18,
   "id": "76eccefb",
   "metadata": {},
   "outputs": [
    {
     "name": "stdout",
     "output_type": "stream",
     "text": [
      "POINT (6.033333333333334 3.8000000000000003)\n"
     ]
    }
   ],
   "source": [
    "print(poligono.centroid)  \n"
   ]
  },
  {
   "cell_type": "markdown",
   "id": "5c4c1191",
   "metadata": {},
   "source": [
    "<br>\n",
    "\n",
    "exterior: Para polígonos, retorna o anel externo como um objeto LinearRing."
   ]
  },
  {
   "cell_type": "code",
   "execution_count": 19,
   "id": "b2f56423",
   "metadata": {},
   "outputs": [
    {
     "name": "stdout",
     "output_type": "stream",
     "text": [
      "LINEARRING (5.1 3.2, 6.4 4.3, 6.6 3.9, 5.1 3.2)\n"
     ]
    }
   ],
   "source": [
    "print(poligono.exterior)  \n"
   ]
  },
  {
   "cell_type": "markdown",
   "id": "5ab74db7",
   "metadata": {},
   "source": [
    "<br>\n",
    "\n",
    "interiors: Para polígonos com furos, retorna uma sequência dos anéis internos."
   ]
  },
  {
   "cell_type": "code",
   "execution_count": 20,
   "id": "4c497274",
   "metadata": {},
   "outputs": [
    {
     "name": "stdout",
     "output_type": "stream",
     "text": [
      "[<LINEARRING (1 1, 1 4, 4 4, 4 1, 1 1)>]\n"
     ]
    }
   ],
   "source": [
    "anel_externo = [(0, 0), (0, 5), (5, 5), (5, 0), (0, 0)]\n",
    "anel_interno = [(1, 1), (1, 4), (4, 4), (4, 1), (1, 1)]\n",
    "poli_com_furo = Polygon(shell=anel_externo, holes=[anel_interno])\n",
    "print(list(poli_com_furo.interiors)) "
   ]
  },
  {
   "cell_type": "markdown",
   "id": "13c4b349",
   "metadata": {},
   "source": [
    "<br>\n",
    "\n",
    "### 4.1.3 Funções geométricas na Shapely\n",
    "\n",
    "Na Shapely, além dos atributos geométricos, existem várias funções ou métodos que permitem realizar operações geométricas. Essas funções são úteis para manipular, analisar e transformar geometrias. A seguir utilizaremos algumas das funções geométricas mais importantes na Shapely.\n",
    "<br>\n",
    "\n",
    "buffer: Cria um buffer ao redor de uma geometria com uma distância especificada."
   ]
  },
  {
   "cell_type": "code",
   "execution_count": 21,
   "id": "c41b1a7c",
   "metadata": {},
   "outputs": [
    {
     "data": {
      "image/svg+xml": [
       "<svg xmlns=\"http://www.w3.org/2000/svg\" xmlns:xlink=\"http://www.w3.org/1999/xlink\" width=\"100.0\" height=\"100.0\" viewBox=\"-1.08 -1.08 2.16 2.16\" preserveAspectRatio=\"xMinYMin meet\"><g transform=\"matrix(1,0,0,-1,0,0.0)\"><path fill-rule=\"evenodd\" fill=\"#66cc99\" stroke=\"#555555\" stroke-width=\"0.0432\" opacity=\"0.6\" d=\"M 1.0,0.0 L 0.9951847266721969,-0.0980171403295606 L 0.9807852804032304,-0.19509032201612825 L 0.9569403357322088,-0.29028467725446233 L 0.9238795325112867,-0.3826834323650898 L 0.881921264348355,-0.47139673682599764 L 0.8314696123025452,-0.5555702330196022 L 0.773010453362737,-0.6343932841636455 L 0.7071067811865476,-0.7071067811865475 L 0.6343932841636455,-0.773010453362737 L 0.5555702330196023,-0.8314696123025452 L 0.4713967368259978,-0.8819212643483549 L 0.38268343236508984,-0.9238795325112867 L 0.29028467725446233,-0.9569403357322089 L 0.19509032201612833,-0.9807852804032304 L 0.09801714032956077,-0.9951847266721968 L 6.123233995736766e-17,-1.0 L -0.09801714032956065,-0.9951847266721969 L -0.1950903220161282,-0.9807852804032304 L -0.29028467725446216,-0.9569403357322089 L -0.3826834323650897,-0.9238795325112867 L -0.4713967368259977,-0.881921264348355 L -0.555570233019602,-0.8314696123025455 L -0.6343932841636454,-0.7730104533627371 L -0.7071067811865475,-0.7071067811865476 L -0.773010453362737,-0.6343932841636455 L -0.8314696123025453,-0.5555702330196022 L -0.8819212643483549,-0.47139673682599786 L -0.9238795325112867,-0.3826834323650899 L -0.9569403357322088,-0.2902846772544624 L -0.9807852804032304,-0.1950903220161286 L -0.9951847266721968,-0.09801714032956083 L -1.0,-1.2246467991473532e-16 L -0.9951847266721969,0.09801714032956059 L -0.9807852804032304,0.19509032201612836 L -0.9569403357322089,0.2902846772544621 L -0.9238795325112868,0.38268343236508967 L -0.881921264348355,0.47139673682599764 L -0.8314696123025455,0.555570233019602 L -0.7730104533627371,0.6343932841636453 L -0.7071067811865477,0.7071067811865475 L -0.6343932841636459,0.7730104533627367 L -0.5555702330196022,0.8314696123025452 L -0.47139673682599786,0.8819212643483549 L -0.38268343236509034,0.9238795325112865 L -0.29028467725446244,0.9569403357322088 L -0.19509032201612866,0.9807852804032303 L -0.09801714032956045,0.9951847266721969 L -1.8369701987210297e-16,1.0 L 0.09801714032956009,0.9951847266721969 L 0.1950903220161283,0.9807852804032304 L 0.29028467725446205,0.9569403357322089 L 0.38268343236509,0.9238795325112866 L 0.4713967368259976,0.881921264348355 L 0.5555702330196018,0.8314696123025455 L 0.6343932841636456,0.7730104533627369 L 0.7071067811865474,0.7071067811865477 L 0.7730104533627367,0.6343932841636459 L 0.8314696123025452,0.5555702330196022 L 0.8819212643483548,0.4713967368259979 L 0.9238795325112865,0.3826834323650904 L 0.9569403357322088,0.2902846772544625 L 0.9807852804032303,0.19509032201612872 L 0.9951847266721969,0.0980171403295605 L 1.0,0.0 z\" /></g></svg>"
      ],
      "text/plain": [
       "<POLYGON ((1 0, 0.995 -0.098, 0.981 -0.195, 0.957 -0.29, 0.924 -0.383, 0.882...>"
      ]
     },
     "execution_count": 21,
     "metadata": {},
     "output_type": "execute_result"
    }
   ],
   "source": [
    "ponto = Point(0, 0)\n",
    "buffer = ponto.buffer(1)\n",
    "buffer"
   ]
  },
  {
   "cell_type": "markdown",
   "id": "7d326b8e",
   "metadata": {},
   "source": [
    "<br><br>\n",
    "\n",
    "union: Retorna a união geométrica entre geometrias."
   ]
  },
  {
   "cell_type": "code",
   "execution_count": 22,
   "id": "2dda12ab",
   "metadata": {},
   "outputs": [
    {
     "data": {
      "image/svg+xml": [
       "<svg xmlns=\"http://www.w3.org/2000/svg\" xmlns:xlink=\"http://www.w3.org/1999/xlink\" width=\"100.0\" height=\"100.0\" viewBox=\"-2.26 -2.26 7.02 4.52\" preserveAspectRatio=\"xMinYMin meet\"><g transform=\"matrix(1,0,0,-1,0,0.0)\"><path fill-rule=\"evenodd\" fill=\"#66cc99\" stroke=\"#555555\" stroke-width=\"0.1404\" opacity=\"0.6\" d=\"M 1.1111404660392046,-1.6629392246050905 L 0.9427934736519956,-1.7638425286967099 L 0.7653668647301797,-1.8477590650225735 L 0.5805693545089247,-1.9138806714644179 L 0.39018064403225666,-1.9615705608064609 L 0.19603428065912154,-1.9903694533443936 L 1.2246467991473532e-16,-2.0 L -0.1960342806591213,-1.9903694533443939 L -0.3901806440322564,-1.9615705608064609 L -0.5805693545089243,-1.9138806714644179 L -0.7653668647301795,-1.8477590650225735 L -0.9427934736519954,-1.76384252869671 L -1.111140466039204,-1.662939224605091 L -1.2687865683272908,-1.5460209067254742 L -1.414213562373095,-1.4142135623730951 L -1.546020906725474,-1.268786568327291 L -1.6629392246050907,-1.1111404660392044 L -1.7638425286967099,-0.9427934736519957 L -1.8477590650225735,-0.7653668647301798 L -1.9138806714644176,-0.5805693545089248 L -1.9615705608064609,-0.3901806440322572 L -1.9903694533443936,-0.19603428065912165 L -2.0,-2.4492935982947064e-16 L -1.9903694533443939,0.19603428065912118 L -1.9615705608064609,0.3901806440322567 L -1.9138806714644179,0.5805693545089242 L -1.8477590650225737,0.7653668647301793 L -1.76384252869671,0.9427934736519953 L -1.662939224605091,1.111140466039204 L -1.5460209067254742,1.2687865683272905 L -1.4142135623730954,1.414213562373095 L -1.2687865683272919,1.5460209067254733 L -1.1111404660392044,1.6629392246050905 L -0.9427934736519957,1.7638425286967099 L -0.7653668647301807,1.847759065022573 L -0.5805693545089249,1.9138806714644176 L -0.39018064403225733,1.9615705608064606 L -0.1960342806591209,1.9903694533443939 L -3.6739403974420594e-16,2.0 L 0.19603428065912018,1.9903694533443939 L 0.3901806440322566,1.9615705608064609 L 0.5805693545089241,1.9138806714644179 L 0.76536686473018,1.8477590650225733 L 0.9427934736519952,1.76384252869671 L 1.1111404660392037,1.662939224605091 L 1.25,1.5599539753879863 L 1.3888595339607956,1.6629392246050905 L 1.5572065263480042,1.7638425286967099 L 1.7346331352698194,1.847759065022573 L 1.919430645491075,1.9138806714644176 L 2.1098193559677427,1.9615705608064606 L 2.303965719340879,1.9903694533443939 L 2.4999999999999996,2.0 L 2.69603428065912,1.9903694533443939 L 2.890180644032257,1.9615705608064609 L 3.080569354508924,1.9138806714644179 L 3.26536686473018,1.8477590650225733 L 3.442793473651995,1.76384252869671 L 3.6111404660392035,1.662939224605091 L 3.7687865683272914,1.5460209067254738 L 3.914213562373095,1.4142135623730954 L 4.046020906725474,1.2687865683272919 L 4.162939224605091,1.1111404660392044 L 4.26384252869671,0.9427934736519958 L 4.347759065022573,0.7653668647301808 L 4.413880671464417,0.580569354508925 L 4.461570560806461,0.39018064403225744 L 4.490369453344394,0.196034280659121 L 4.5,0.0 L 4.490369453344394,-0.1960342806591212 L 4.461570560806461,-0.3901806440322565 L 4.413880671464417,-0.5805693545089247 L 4.347759065022574,-0.7653668647301796 L 4.26384252869671,-0.9427934736519953 L 4.162939224605091,-1.1111404660392044 L 4.046020906725474,-1.268786568327291 L 3.914213562373095,-1.414213562373095 L 3.768786568327291,-1.546020906725474 L 3.6111404660392044,-1.6629392246050905 L 3.442793473651996,-1.7638425286967099 L 3.2653668647301797,-1.8477590650225735 L 3.0805693545089246,-1.9138806714644179 L 2.890180644032257,-1.9615705608064609 L 2.6960342806591218,-1.9903694533443936 L 2.5,-2.0 L 2.3039657193408787,-1.9903694533443939 L 2.1098193559677436,-1.9615705608064609 L 1.9194306454910757,-1.9138806714644179 L 1.7346331352698205,-1.8477590650225735 L 1.5572065263480046,-1.76384252869671 L 1.388859533960796,-1.662939224605091 L 1.25,-1.5599539753879863 L 1.1111404660392046,-1.6629392246050905 z\" /></g></svg>"
      ],
      "text/plain": [
       "<POLYGON ((1.111 -1.663, 0.943 -1.764, 0.765 -1.848, 0.581 -1.914, 0.39 -1.9...>"
      ]
     },
     "execution_count": 22,
     "metadata": {},
     "output_type": "execute_result"
    }
   ],
   "source": [
    "pontoA = Point(0, 0)\n",
    "pontoB = Point(2.5,0)\n",
    "bufferA = pontoA.buffer(2)\n",
    "bufferB = pontoB.buffer(2)\n",
    "uniao = bufferA.union(bufferB)\n",
    "uniao"
   ]
  },
  {
   "cell_type": "markdown",
   "id": "bf966b7c",
   "metadata": {},
   "source": [
    "<br>\n",
    "\n",
    "intersection: Retorna a interseção geométrica entre geometrias."
   ]
  },
  {
   "cell_type": "code",
   "execution_count": 23,
   "id": "820e86b0",
   "metadata": {},
   "outputs": [
    {
     "data": {
      "image/svg+xml": [
       "<svg xmlns=\"http://www.w3.org/2000/svg\" xmlns:xlink=\"http://www.w3.org/1999/xlink\" width=\"100.0\" height=\"100.0\" viewBox=\"0.3752036819689611 -1.6847502934190253 1.7495926360620777 3.3695005868380505\" preserveAspectRatio=\"xMinYMin meet\"><g transform=\"matrix(1,0,0,-1,0,0.0)\"><path fill-rule=\"evenodd\" fill=\"#66cc99\" stroke=\"#555555\" stroke-width=\"0.06739001173676101\" opacity=\"0.6\" d=\"M 1.9903694533443939,-0.1960342806591212 L 1.9615705608064609,-0.3901806440322565 L 1.9138806714644176,-0.5805693545089247 L 1.8477590650225735,-0.7653668647301796 L 1.76384252869671,-0.9427934736519953 L 1.6629392246050905,-1.1111404660392044 L 1.546020906725474,-1.268786568327291 L 1.4142135623730951,-1.414213562373095 L 1.268786568327291,-1.546020906725474 L 1.25,-1.5599539753879863 L 1.2312134316727092,-1.5460209067254742 L 1.085786437626905,-1.4142135623730951 L 0.953979093274526,-1.268786568327291 L 0.8370607753949093,-1.1111404660392044 L 0.7361574713032901,-0.9427934736519957 L 0.6522409349774265,-0.7653668647301798 L 0.5861193285355824,-0.5805693545089248 L 0.5384294391935391,-0.3901806440322572 L 0.5096305466556064,-0.19603428065912165 L 0.5,-2.4492935982947064e-16 L 0.5096305466556061,0.19603428065912118 L 0.5384294391935391,0.3901806440322567 L 0.5861193285355821,0.5805693545089242 L 0.6522409349774263,0.7653668647301793 L 0.7361574713032899,0.9427934736519953 L 0.8370607753949091,1.111140466039204 L 0.9539790932745258,1.2687865683272905 L 1.0857864376269046,1.414213562373095 L 1.2312134316727081,1.5460209067254733 L 1.25,1.5599539753879863 L 1.2687865683272912,1.5460209067254738 L 1.4142135623730947,1.4142135623730954 L 1.5460209067254733,1.2687865683272919 L 1.6629392246050905,1.1111404660392044 L 1.7638425286967097,0.9427934736519958 L 1.847759065022573,0.7653668647301808 L 1.9138806714644176,0.580569354508925 L 1.9615705608064606,0.39018064403225744 L 1.9903694533443939,0.196034280659121 L 2.0,0.0 L 1.9903694533443939,-0.1960342806591212 z\" /></g></svg>"
      ],
      "text/plain": [
       "<POLYGON ((1.99 -0.196, 1.962 -0.39, 1.914 -0.581, 1.848 -0.765, 1.764 -0.94...>"
      ]
     },
     "execution_count": 23,
     "metadata": {},
     "output_type": "execute_result"
    }
   ],
   "source": [
    "interseccao = bufferA.intersection(bufferB)\n",
    "interseccao"
   ]
  },
  {
   "cell_type": "markdown",
   "id": "622e12cc",
   "metadata": {},
   "source": [
    "<br>\n",
    "\n",
    "difference: Retorna a diferença geométrica entre geometrias (subtrai a segunda geometria da primeira)."
   ]
  },
  {
   "cell_type": "code",
   "execution_count": 24,
   "id": "b575fc35",
   "metadata": {},
   "outputs": [
    {
     "data": {
      "image/svg+xml": [
       "<svg xmlns=\"http://www.w3.org/2000/svg\" xmlns:xlink=\"http://www.w3.org/1999/xlink\" width=\"100.0\" height=\"100.0\" viewBox=\"-2.16 -2.16 3.5700000000000003 4.32\" preserveAspectRatio=\"xMinYMin meet\"><g transform=\"matrix(1,0,0,-1,0,0.0)\"><path fill-rule=\"evenodd\" fill=\"#66cc99\" stroke=\"#555555\" stroke-width=\"0.0864\" opacity=\"0.6\" d=\"M 1.1111404660392046,-1.6629392246050905 L 0.9427934736519956,-1.7638425286967099 L 0.7653668647301797,-1.8477590650225735 L 0.5805693545089247,-1.9138806714644179 L 0.39018064403225666,-1.9615705608064609 L 0.19603428065912154,-1.9903694533443936 L 1.2246467991473532e-16,-2.0 L -0.1960342806591213,-1.9903694533443939 L -0.3901806440322564,-1.9615705608064609 L -0.5805693545089243,-1.9138806714644179 L -0.7653668647301795,-1.8477590650225735 L -0.9427934736519954,-1.76384252869671 L -1.111140466039204,-1.662939224605091 L -1.2687865683272908,-1.5460209067254742 L -1.414213562373095,-1.4142135623730951 L -1.546020906725474,-1.268786568327291 L -1.6629392246050907,-1.1111404660392044 L -1.7638425286967099,-0.9427934736519957 L -1.8477590650225735,-0.7653668647301798 L -1.9138806714644176,-0.5805693545089248 L -1.9615705608064609,-0.3901806440322572 L -1.9903694533443936,-0.19603428065912165 L -2.0,-2.4492935982947064e-16 L -1.9903694533443939,0.19603428065912118 L -1.9615705608064609,0.3901806440322567 L -1.9138806714644179,0.5805693545089242 L -1.8477590650225737,0.7653668647301793 L -1.76384252869671,0.9427934736519953 L -1.662939224605091,1.111140466039204 L -1.5460209067254742,1.2687865683272905 L -1.4142135623730954,1.414213562373095 L -1.2687865683272919,1.5460209067254733 L -1.1111404660392044,1.6629392246050905 L -0.9427934736519957,1.7638425286967099 L -0.7653668647301807,1.847759065022573 L -0.5805693545089249,1.9138806714644176 L -0.39018064403225733,1.9615705608064606 L -0.1960342806591209,1.9903694533443939 L -3.6739403974420594e-16,2.0 L 0.19603428065912018,1.9903694533443939 L 0.3901806440322566,1.9615705608064609 L 0.5805693545089241,1.9138806714644179 L 0.76536686473018,1.8477590650225733 L 0.9427934736519952,1.76384252869671 L 1.1111404660392037,1.662939224605091 L 1.25,1.5599539753879863 L 1.2312134316727081,1.5460209067254733 L 1.0857864376269046,1.414213562373095 L 0.9539790932745258,1.2687865683272905 L 0.8370607753949091,1.111140466039204 L 0.7361574713032899,0.9427934736519953 L 0.6522409349774263,0.7653668647301793 L 0.5861193285355821,0.5805693545089242 L 0.5384294391935391,0.3901806440322567 L 0.5096305466556061,0.19603428065912118 L 0.5,-2.4492935982947064e-16 L 0.5096305466556064,-0.19603428065912165 L 0.5384294391935391,-0.3901806440322572 L 0.5861193285355824,-0.5805693545089248 L 0.6522409349774265,-0.7653668647301798 L 0.7361574713032901,-0.9427934736519957 L 0.8370607753949093,-1.1111404660392044 L 0.953979093274526,-1.268786568327291 L 1.085786437626905,-1.4142135623730951 L 1.2312134316727092,-1.5460209067254742 L 1.25,-1.5599539753879863 L 1.1111404660392046,-1.6629392246050905 z\" /></g></svg>"
      ],
      "text/plain": [
       "<POLYGON ((1.111 -1.663, 0.943 -1.764, 0.765 -1.848, 0.581 -1.914, 0.39 -1.9...>"
      ]
     },
     "execution_count": 24,
     "metadata": {},
     "output_type": "execute_result"
    }
   ],
   "source": [
    "diferencaAB = bufferA.difference(bufferB)\n",
    "diferencaAB"
   ]
  },
  {
   "cell_type": "code",
   "execution_count": 25,
   "id": "1da78373",
   "metadata": {},
   "outputs": [
    {
     "data": {
      "image/svg+xml": [
       "<svg xmlns=\"http://www.w3.org/2000/svg\" xmlns:xlink=\"http://www.w3.org/1999/xlink\" width=\"100.0\" height=\"100.0\" viewBox=\"1.09 -2.16 3.5700000000000003 4.32\" preserveAspectRatio=\"xMinYMin meet\"><g transform=\"matrix(1,0,0,-1,0,0.0)\"><path fill-rule=\"evenodd\" fill=\"#66cc99\" stroke=\"#555555\" stroke-width=\"0.0864\" opacity=\"0.6\" d=\"M 4.490369453344394,-0.1960342806591212 L 4.461570560806461,-0.3901806440322565 L 4.413880671464417,-0.5805693545089247 L 4.347759065022574,-0.7653668647301796 L 4.26384252869671,-0.9427934736519953 L 4.162939224605091,-1.1111404660392044 L 4.046020906725474,-1.268786568327291 L 3.914213562373095,-1.414213562373095 L 3.768786568327291,-1.546020906725474 L 3.6111404660392044,-1.6629392246050905 L 3.442793473651996,-1.7638425286967099 L 3.2653668647301797,-1.8477590650225735 L 3.0805693545089246,-1.9138806714644179 L 2.890180644032257,-1.9615705608064609 L 2.6960342806591218,-1.9903694533443936 L 2.5,-2.0 L 2.3039657193408787,-1.9903694533443939 L 2.1098193559677436,-1.9615705608064609 L 1.9194306454910757,-1.9138806714644179 L 1.7346331352698205,-1.8477590650225735 L 1.5572065263480046,-1.76384252869671 L 1.388859533960796,-1.662939224605091 L 1.25,-1.5599539753879863 L 1.268786568327291,-1.546020906725474 L 1.4142135623730951,-1.414213562373095 L 1.546020906725474,-1.268786568327291 L 1.6629392246050905,-1.1111404660392044 L 1.76384252869671,-0.9427934736519953 L 1.8477590650225735,-0.7653668647301796 L 1.9138806714644176,-0.5805693545089247 L 1.9615705608064609,-0.3901806440322565 L 1.9903694533443939,-0.1960342806591212 L 2.0,0.0 L 1.9903694533443939,0.196034280659121 L 1.9615705608064606,0.39018064403225744 L 1.9138806714644176,0.580569354508925 L 1.847759065022573,0.7653668647301808 L 1.7638425286967097,0.9427934736519958 L 1.6629392246050905,1.1111404660392044 L 1.5460209067254733,1.2687865683272919 L 1.4142135623730947,1.4142135623730954 L 1.2687865683272912,1.5460209067254738 L 1.25,1.5599539753879863 L 1.3888595339607956,1.6629392246050905 L 1.5572065263480042,1.7638425286967099 L 1.7346331352698194,1.847759065022573 L 1.919430645491075,1.9138806714644176 L 2.1098193559677427,1.9615705608064606 L 2.303965719340879,1.9903694533443939 L 2.4999999999999996,2.0 L 2.69603428065912,1.9903694533443939 L 2.890180644032257,1.9615705608064609 L 3.080569354508924,1.9138806714644179 L 3.26536686473018,1.8477590650225733 L 3.442793473651995,1.76384252869671 L 3.6111404660392035,1.662939224605091 L 3.7687865683272914,1.5460209067254738 L 3.914213562373095,1.4142135623730954 L 4.046020906725474,1.2687865683272919 L 4.162939224605091,1.1111404660392044 L 4.26384252869671,0.9427934736519958 L 4.347759065022573,0.7653668647301808 L 4.413880671464417,0.580569354508925 L 4.461570560806461,0.39018064403225744 L 4.490369453344394,0.196034280659121 L 4.5,0.0 L 4.490369453344394,-0.1960342806591212 z\" /></g></svg>"
      ],
      "text/plain": [
       "<POLYGON ((4.49 -0.196, 4.462 -0.39, 4.414 -0.581, 4.348 -0.765, 4.264 -0.94...>"
      ]
     },
     "execution_count": 25,
     "metadata": {},
     "output_type": "execute_result"
    }
   ],
   "source": [
    "diferencaBA = bufferB.difference(bufferA)\n",
    "diferencaBA"
   ]
  },
  {
   "cell_type": "markdown",
   "id": "13c81551",
   "metadata": {},
   "source": [
    "<br>\n",
    "\n",
    "symmetric_difference: Retorna as partes de duas geometrias que não são compartilhadas entre si."
   ]
  },
  {
   "cell_type": "code",
   "execution_count": 26,
   "id": "561cc71b",
   "metadata": {},
   "outputs": [
    {
     "data": {
      "image/svg+xml": [
       "<svg xmlns=\"http://www.w3.org/2000/svg\" xmlns:xlink=\"http://www.w3.org/1999/xlink\" width=\"100.0\" height=\"100.0\" viewBox=\"-2.26 -2.26 7.02 4.52\" preserveAspectRatio=\"xMinYMin meet\"><g transform=\"matrix(1,0,0,-1,0,0.0)\"><g><path fill-rule=\"evenodd\" fill=\"#66cc99\" stroke=\"#555555\" stroke-width=\"0.1404\" opacity=\"0.6\" d=\"M 1.268786568327291,-1.546020906725474 L 1.4142135623730951,-1.414213562373095 L 1.546020906725474,-1.268786568327291 L 1.6629392246050905,-1.1111404660392044 L 1.76384252869671,-0.9427934736519953 L 1.8477590650225735,-0.7653668647301796 L 1.9138806714644176,-0.5805693545089247 L 1.9615705608064609,-0.3901806440322565 L 1.9903694533443939,-0.1960342806591212 L 2.0,0.0 L 1.9903694533443939,0.196034280659121 L 1.9615705608064606,0.39018064403225744 L 1.9138806714644176,0.580569354508925 L 1.847759065022573,0.7653668647301808 L 1.7638425286967097,0.9427934736519958 L 1.6629392246050905,1.1111404660392044 L 1.5460209067254733,1.2687865683272919 L 1.4142135623730947,1.4142135623730954 L 1.2687865683272912,1.5460209067254738 L 1.25,1.5599539753879863 L 1.3888595339607956,1.6629392246050905 L 1.5572065263480042,1.7638425286967099 L 1.7346331352698194,1.847759065022573 L 1.919430645491075,1.9138806714644176 L 2.1098193559677427,1.9615705608064606 L 2.303965719340879,1.9903694533443939 L 2.4999999999999996,2.0 L 2.69603428065912,1.9903694533443939 L 2.890180644032257,1.9615705608064609 L 3.080569354508924,1.9138806714644179 L 3.26536686473018,1.8477590650225733 L 3.442793473651995,1.76384252869671 L 3.6111404660392035,1.662939224605091 L 3.7687865683272914,1.5460209067254738 L 3.914213562373095,1.4142135623730954 L 4.046020906725474,1.2687865683272919 L 4.162939224605091,1.1111404660392044 L 4.26384252869671,0.9427934736519958 L 4.347759065022573,0.7653668647301808 L 4.413880671464417,0.580569354508925 L 4.461570560806461,0.39018064403225744 L 4.490369453344394,0.196034280659121 L 4.5,0.0 L 4.490369453344394,-0.1960342806591212 L 4.461570560806461,-0.3901806440322565 L 4.413880671464417,-0.5805693545089247 L 4.347759065022574,-0.7653668647301796 L 4.26384252869671,-0.9427934736519953 L 4.162939224605091,-1.1111404660392044 L 4.046020906725474,-1.268786568327291 L 3.914213562373095,-1.414213562373095 L 3.768786568327291,-1.546020906725474 L 3.6111404660392044,-1.6629392246050905 L 3.442793473651996,-1.7638425286967099 L 3.2653668647301797,-1.8477590650225735 L 3.0805693545089246,-1.9138806714644179 L 2.890180644032257,-1.9615705608064609 L 2.6960342806591218,-1.9903694533443936 L 2.5,-2.0 L 2.3039657193408787,-1.9903694533443939 L 2.1098193559677436,-1.9615705608064609 L 1.9194306454910757,-1.9138806714644179 L 1.7346331352698205,-1.8477590650225735 L 1.5572065263480046,-1.76384252869671 L 1.388859533960796,-1.662939224605091 L 1.25,-1.5599539753879863 L 1.268786568327291,-1.546020906725474 z\" /><path fill-rule=\"evenodd\" fill=\"#66cc99\" stroke=\"#555555\" stroke-width=\"0.1404\" opacity=\"0.6\" d=\"M 1.1111404660392046,-1.6629392246050905 L 0.9427934736519956,-1.7638425286967099 L 0.7653668647301797,-1.8477590650225735 L 0.5805693545089247,-1.9138806714644179 L 0.39018064403225666,-1.9615705608064609 L 0.19603428065912154,-1.9903694533443936 L 1.2246467991473532e-16,-2.0 L -0.1960342806591213,-1.9903694533443939 L -0.3901806440322564,-1.9615705608064609 L -0.5805693545089243,-1.9138806714644179 L -0.7653668647301795,-1.8477590650225735 L -0.9427934736519954,-1.76384252869671 L -1.111140466039204,-1.662939224605091 L -1.2687865683272908,-1.5460209067254742 L -1.414213562373095,-1.4142135623730951 L -1.546020906725474,-1.268786568327291 L -1.6629392246050907,-1.1111404660392044 L -1.7638425286967099,-0.9427934736519957 L -1.8477590650225735,-0.7653668647301798 L -1.9138806714644176,-0.5805693545089248 L -1.9615705608064609,-0.3901806440322572 L -1.9903694533443936,-0.19603428065912165 L -2.0,-2.4492935982947064e-16 L -1.9903694533443939,0.19603428065912118 L -1.9615705608064609,0.3901806440322567 L -1.9138806714644179,0.5805693545089242 L -1.8477590650225737,0.7653668647301793 L -1.76384252869671,0.9427934736519953 L -1.662939224605091,1.111140466039204 L -1.5460209067254742,1.2687865683272905 L -1.4142135623730954,1.414213562373095 L -1.2687865683272919,1.5460209067254733 L -1.1111404660392044,1.6629392246050905 L -0.9427934736519957,1.7638425286967099 L -0.7653668647301807,1.847759065022573 L -0.5805693545089249,1.9138806714644176 L -0.39018064403225733,1.9615705608064606 L -0.1960342806591209,1.9903694533443939 L -3.6739403974420594e-16,2.0 L 0.19603428065912018,1.9903694533443939 L 0.3901806440322566,1.9615705608064609 L 0.5805693545089241,1.9138806714644179 L 0.76536686473018,1.8477590650225733 L 0.9427934736519952,1.76384252869671 L 1.1111404660392037,1.662939224605091 L 1.25,1.5599539753879863 L 1.2312134316727081,1.5460209067254733 L 1.0857864376269046,1.414213562373095 L 0.9539790932745258,1.2687865683272905 L 0.8370607753949091,1.111140466039204 L 0.7361574713032899,0.9427934736519953 L 0.6522409349774263,0.7653668647301793 L 0.5861193285355821,0.5805693545089242 L 0.5384294391935391,0.3901806440322567 L 0.5096305466556061,0.19603428065912118 L 0.5,-2.4492935982947064e-16 L 0.5096305466556064,-0.19603428065912165 L 0.5384294391935391,-0.3901806440322572 L 0.5861193285355824,-0.5805693545089248 L 0.6522409349774265,-0.7653668647301798 L 0.7361574713032901,-0.9427934736519957 L 0.8370607753949093,-1.1111404660392044 L 0.953979093274526,-1.268786568327291 L 1.085786437626905,-1.4142135623730951 L 1.2312134316727092,-1.5460209067254742 L 1.25,-1.5599539753879863 L 1.1111404660392046,-1.6629392246050905 z\" /></g></g></svg>"
      ],
      "text/plain": [
       "<MULTIPOLYGON (((1.269 -1.546, 1.414 -1.414, 1.546 -1.269, 1.663 -1.111, 1.7...>"
      ]
     },
     "execution_count": 26,
     "metadata": {},
     "output_type": "execute_result"
    }
   ],
   "source": [
    "dif_simetrica = bufferA.symmetric_difference(bufferB)\n",
    "dif_simetrica"
   ]
  },
  {
   "cell_type": "markdown",
   "id": "1bcfdc73",
   "metadata": {},
   "source": [
    "<br>\n",
    "\n",
    "contains: Verifica se uma geometria contém a outra geometria fornecida."
   ]
  },
  {
   "cell_type": "code",
   "execution_count": 27,
   "id": "9d20cf0d",
   "metadata": {},
   "outputs": [
    {
     "data": {
      "text/plain": [
       "True"
      ]
     },
     "execution_count": 27,
     "metadata": {},
     "output_type": "execute_result"
    }
   ],
   "source": [
    "bufferA.contains(Point(1, 1))  "
   ]
  },
  {
   "cell_type": "markdown",
   "id": "0c49bdee",
   "metadata": {},
   "source": [
    "<br>\n",
    "\n",
    "intersects: Verifica se uma geometria intercepta a outra geometria fornecida."
   ]
  },
  {
   "cell_type": "code",
   "execution_count": 28,
   "id": "e03a1155",
   "metadata": {},
   "outputs": [
    {
     "data": {
      "text/plain": [
       "True"
      ]
     },
     "execution_count": 28,
     "metadata": {},
     "output_type": "execute_result"
    }
   ],
   "source": [
    "bufferA.intersects(bufferB)  "
   ]
  },
  {
   "cell_type": "markdown",
   "id": "f841249d",
   "metadata": {},
   "source": [
    "<br>\n",
    "\n",
    "crosses: Verifica se uma geometria cruza a outra (aplicável principalmente com linhas)."
   ]
  },
  {
   "cell_type": "code",
   "execution_count": 29,
   "id": "36492f54",
   "metadata": {},
   "outputs": [],
   "source": [
    "linha1 = LineString([(0, 1), (3, 1)])\n",
    "linha2 = LineString([(1, 0), (1, 3)])"
   ]
  },
  {
   "cell_type": "code",
   "execution_count": 30,
   "id": "a29b92d9",
   "metadata": {},
   "outputs": [
    {
     "data": {
      "text/plain": [
       "True"
      ]
     },
     "execution_count": 30,
     "metadata": {},
     "output_type": "execute_result"
    }
   ],
   "source": [
    "linha1.crosses(linha2)  "
   ]
  },
  {
   "cell_type": "markdown",
   "id": "4140155c",
   "metadata": {},
   "source": [
    "<br>\n",
    "\n",
    "distance: Calcula a distância mínima entre as geometrias."
   ]
  },
  {
   "cell_type": "code",
   "execution_count": 31,
   "id": "cea56955",
   "metadata": {},
   "outputs": [
    {
     "data": {
      "text/plain": [
       "0.5"
      ]
     },
     "execution_count": 31,
     "metadata": {},
     "output_type": "execute_result"
    }
   ],
   "source": [
    "distancia = pontoB.distance(bufferA)  \n",
    "distancia"
   ]
  },
  {
   "cell_type": "markdown",
   "id": "3357e801",
   "metadata": {},
   "source": [
    "<br>\n",
    "\n",
    "envelope: Retorna o menor retângulo delimitador que contém uma geometria."
   ]
  },
  {
   "cell_type": "code",
   "execution_count": 32,
   "id": "7b8c06af",
   "metadata": {},
   "outputs": [
    {
     "data": {
      "image/svg+xml": [
       "<svg xmlns=\"http://www.w3.org/2000/svg\" xmlns:xlink=\"http://www.w3.org/1999/xlink\" width=\"100.0\" height=\"100.0\" viewBox=\"-2.16 -2.16 4.32 4.32\" preserveAspectRatio=\"xMinYMin meet\"><g transform=\"matrix(1,0,0,-1,0,0.0)\"><path fill-rule=\"evenodd\" fill=\"#66cc99\" stroke=\"#555555\" stroke-width=\"0.0864\" opacity=\"0.6\" d=\"M -2.0,-2.0 L 2.0,-2.0 L 2.0,2.0 L -2.0,2.0 L -2.0,-2.0 z\" /></g></svg>"
      ],
      "text/plain": [
       "<POLYGON ((-2 -2, 2 -2, 2 2, -2 2, -2 -2))>"
      ]
     },
     "execution_count": 32,
     "metadata": {},
     "output_type": "execute_result"
    }
   ],
   "source": [
    "envelope = bufferA.envelope\n",
    "envelope"
   ]
  },
  {
   "cell_type": "markdown",
   "id": "8de606b4",
   "metadata": {},
   "source": [
    "![Figura 6](images/fig6.png)\n",
    "\n",
    "Figura 6: Visualização do buffer e do respectivo envelope\n",
    "<br><br>\n",
    "\n",
    "## 4.2 Leitura de arquivos com Fiona\n",
    "\n",
    "A maneira como os dados espaciais são armazenados é diferente dos arquivos de texto ou binários comuns. Desta maneira, abrir um arquivo geoespacial (como um shapefile, GeoJSON, entre outros) requer uma interpretação especializada das estruturas de dados contidas no arquivo. \n",
    "\n",
    "A Fiona fornece a interface e as funcionalidades necessárias para ler e escrever dados geoespaciais em Python. Ele se baseia no conjunto de bibliotecas GDAL/OGR e fornece uma maneira \"pythonic\" de manipular arquivos de formato vetorial. Uma vez que os dados são lidos com Fiona, as geometrias podem ser facilmente convertidas em objetos Shapely para análise e manipulação geométrica.\n",
    "\n",
    "\n",
    "### 4.2.1 Leitura de arquivos shapefile com Fiona\n",
    "\n",
    "O shapefile é um formato de arquivo popular para armazenar informações geográficas, amplamente utilizado em Sistemas de Informações Geográficas (SIG ou GIS, em inglês). Embora existam outros formatos (como GeoJSON, GML, KML) que são mais modernos e flexíveis em muitos aspectos, o formato shapefile pode ser considerado o padrão na área de SIG atualmente.\n",
    "Além das informações geográficas (coordenadas que definem a geometria), cada objeto em um shapefile pode ter um conjunto de atributos associado. Além disso, um shapefile pode (e geralmente tem) um sistema de referência de coordenadas associado, que define o sistema de projeção. \n",
    "\n",
    "É importante ressaltar que o shapefile é, na realidade, um conjunto de arquivos que trabalham juntos para representar e armazenar informações geográficas e seus atributos. Existem três arquivos principais, essenciais para que o shapefile funcione corretamente, e vários outros arquivos auxiliares que podem acompanhar um shapefile dependendo das características e necessidades do conjunto de dados. Nos quadros 8 e 9 apresenta-se os principais arquivos que podem constituir um shapefile.\n",
    "<br><br>\n",
    "\n",
    "Quadro 8: Arquivos obrigatórios\n",
    "\n",
    "| Arquivo | Descrição                                                                                                                     |\n",
    "|---------|-------------------------------------------------------------------------------------------------------------------------------|\n",
    "| shp     | Contém a geometria dos objetos, por exemplo, pontos, linhas ou polígonos.                                                      |\n",
    "| shx     | É o índice da geometria. Ele fornece um índice para os objetos no arquivo .shp, permitindo um acesso mais rápido a eles.     |\n",
    "| dbf     | Contém os atributos para cada objeto em uma tabela. Cada linha da tabela corresponde a um objeto no arquivo .shp e cada coluna é um atributo desse objeto. |\n",
    "<br><br>\n",
    "\n",
    "Quadro 9: Arquivos auxiliares\n",
    "\n",
    "| Arquivo | Descrição                                                                                                                                                                                                                                      |\n",
    "|----------|--------------------------------------------------------------------------------------------------------------------------------------------------------------------------------------------------------------------------------------------------|\n",
    "| prj      | Contém informações sobre a projeção e o sistema de coordenadas em que os dados estão definidos.                                                                                                                                               |\n",
    "| sbn      | São arquivos de índice espacial. Eles podem ser usados por alguns sistemas SIG para renderizar e consultar dados mais rapidamente.                                                                                                           |\n",
    "| sbx      | São arquivos de índice espacial. Eles podem ser usados por alguns sistemas SIG para renderizar e consultar dados mais rapidamente.                                                                                                           |\n",
    "| qix      | É um arquivo de índice espacial opcional criado por algumas ferramentas, como o QGIS, para acelerar operações espaciais.                                                                                                                      |\n",
    "| lyr      | É um arquivo utilizado pelo ArcGIS para armazenar informações sobre a simbologia e a visualização do shapefile.                                                                                                                                |\n",
    "| cpg      | Contém informações sobre a codificação de caracteres para o arquivo .dbf, o que pode ser importante para a exibição correta de caracteres especiais ou não ASCII.                                                                             |\n",
    "| atx      | É um arquivo de índice criado pelo ArcGIS para campos específicos na tabela de atributos, acelerando determinadas operações.                                                                                                                    |\n",
    "<br><br>\n",
    "\n",
    "\n",
    "Existem outros arquivos que podem, ocasionalmente, estar associados a um shapefile, especialmente quando se trabalha com softwares específicos que criam arquivos de índice ou metadados adicionais. No entanto, os listados acima são os mais comuns. Vale lembrar que para transferir ou mover um shapefile, é importante manter pelo menos os três arquivos principais juntos (.shp, .shx e .dbf) para garantir a integridade dos dados.\n",
    "\n",
    "O código a seguir é um exemplo de como ler um arquivo shapefile:\n",
    "\n",
    "``` \n",
    "import fiona\n",
    "# Abre o arquivo shapefile\n",
    "with fiona.open('caminho_para_seu_arquivo.shp', 'r') as registro:\n",
    "    # Imprime o tipo de geometria (Ex.: 'Point', 'LineString', 'Polygon')\n",
    "    print(registro.schema['geometry'])\n",
    "    # Itera sobre cada recurso no shapefile\n",
    "\n",
    "    for entidade in registro:\n",
    "        # 'entidade' é um dicionário com os atributos e a geometria\n",
    "        geom = entidade['geometry']  # geometria\n",
    "        props = entidade['properties']  # atributos\n",
    "        print(geom)\n",
    "        print(props)\n",
    "```\n",
    "\n",
    "Vamos entender cada parte do código:\n",
    "<br><br>\n",
    "\n",
    "``` import fiona ```\n",
    "\n",
    "A primeira linha importa a biblioteca fiona.\n",
    "<br><br>\n",
    "\n",
    "``` with fiona.open('caminho_para_seu_arquivo.shp', 'r') as registro: ```\n",
    "\n",
    "A função fiona.open é usada para abrir um arquivo shapefile. O argumento 'r' indica que o arquivo está sendo aberto no modo de leitura (read). A instrução with é usada aqui para garantir que o arquivo seja fechado corretamente após sua utilização, independentemente de ocorrerem erros durante a execução do código.\n",
    "<br><br>\n",
    "\n",
    "```print(registro.schema['geometry'])```\n",
    "\n",
    "Imprime o tipo de geometria do shapefile, que pode ser, por exemplo, 'Point', 'Linestring' ou 'Polygon'. registro.schema é um dicionário que descreve os atributos e a geometria do shapefile.\n",
    "<br><br>\n",
    "\n",
    "``` for entidade in registro: ```\n",
    "\n",
    "Este é um loop que itera sobre cada registro no shapefile. O objetivo dessa iteração é processar cada entidade individualmente.\n",
    "<br><br>\n",
    "\n",
    "```geom = entidade['geometry']  # geometria```\n",
    "\n",
    "Aqui, a geometria de cada registro é extraída. A geometria pode ser um ponto, uma linha, um polígono, etc.\n",
    "<br><br>\n",
    "\n",
    "```props = entidade['properties']  # atributos```\n",
    "\n",
    "Aqui, os atributos associados a cada recurso são extraídos. Os atributos são os dados associados a cada geometria, como nomes, valores, categorias, etc..\n",
    "<br><br>\n",
    "\n",
    "```\n",
    "print(geom)\n",
    "print(props)\n",
    "```\n",
    "\n",
    "Esse código imprime a geometria e os atributos de cada registro.\n",
    "<br><br>\n",
    "\n",
    "Quando você usa a biblioteca fiona para abrir e ler um shapefile, vários processos ocorrem internamente. Aqui está uma visão geral do que acontece:\n",
    "\n",
    "Abertura do Arquivo: Quando você chama fiona.open(), a biblioteca primeiramente localiza e abre o arquivo shapefile para leitura;\n",
    "Leitura dos Metadados: Uma vez que o arquivo é aberto, fiona começa lendo os metadados associados ao shapefile. Isso inclui informações sobre o sistema de coordenadas, o tipo de geometria (pontos, linhas, polígonos, etc.) e a estrutura do arquivo de atributos (campos, tipos de dados, etc.);\n",
    "\n",
    "Interface Iterável: A biblioteca fornece uma interface iterável sobre os registros no shapefile. Cada registro contém uma geometria e um conjunto associado de atributos;\n",
    "\n",
    "Acesso Direto à Geometria e Atributos: Ao iterar sobre os registros, você pode acessar diretamente as geometrias e os atributos de cada registro. Fiona retorna geometrias no formato GeoJSON e permite que você interaja com os atributos como se estivesse trabalhando com um dicionário em Python;\n",
    "\n",
    "Conversão de Geometrias: Embora as geometrias retornem no formato GeoJSON, elas são compatíveis com a biblioteca shapely. Isto significa que você pode convertê-las em objetos shapely para análise e manipulação geométrica;\n",
    "\n",
    "Fechamento Automático: Se você usar fiona dentro de um bloco with (como é recomendado), o arquivo será automaticamente fechado quando o bloco for concluído. Isso garante que os recursos do sistema sejam liberados e que não haja bloqueios no arquivo;\n",
    "\n",
    "Manipulação de Erros: Durante todo o processo, fiona tem mecanismos para lidar com erros. Se houver algum problema com o arquivo (por exemplo, se estiver corrompido ou faltando componentes), fiona geralmente lançará um erro explicativo.\n",
    "<br><br>\n",
    "\n",
    "*Obtendo metadados do arquivo*\n",
    "\n",
    "Os metadados de um shapefile referem-se a informações sobre o próprio shapefile, como o sistema de coordenadas em que os dados estão projetados, o tipo de geometria (pontos, linhas ou polígonos) e outras informações que descrevem o conteúdo, qualidade, condição, e outras características do arquivo. Em muitos casos, os metadados são vitais para a correta interpretação e uso dos dados no shapefile. Sem metadados adequados, um usuário pode interpretar mal os dados, levando a decisões ou análises incorretas.\n",
    "\n",
    "Os metadados de um arquivo shapefile utilizando Fiona podem ser obtidos utilizando o seguinte código:\n",
    "\n",
    "```\n",
    "import fiona\n",
    "with fiona.open('caminho_para_seu_arquivo.shp', 'r') as registro:\n",
    "    # Sistema de coordenadas\n",
    "    crs = registro.crs\n",
    "    print('CRS:', crs)\n",
    "\n",
    "    # Limites do conjunto de dados\n",
    "    bounds = registro.bounds\n",
    "    print('Ext_espacial:', bounds)\n",
    "\n",
    "    # Total de recursos no arquivo\n",
    "    total = len(registro)\n",
    "    print('Total de registros:', total)\n",
    "```\n",
    "\n",
    "Nesse código, fiona.open() é usado para abrir e ler o arquivo shapefile; registro.crs fornece o Sistema de Referência de Coordenadas (CRS) do shapefile; registro.bounds retorna uma tupla com os limites do conjunto de dados: (minx, miny, maxx, maxy), onde minx e miny são as coordenadas mínimas x e y, e maxx e maxy são as coordenadas máximas x e y; len(registro) retorna o número total de recursos no arquivo shapefile, ou seja, a quantidade de objetos que ele contém.\n",
    "\n",
    "Exemplo: Vamos abrir o shapefile “BR_UF.shp”, constituído por polígonos referentes a cada estado brasileiro (figura 7) e pelos atributos que constam na figura 8.\n",
    "\n",
    "![Figura 7](images/fig7.png)\n",
    "\n",
    "Figura 7: Visualização do arquivo shapefile BR_UF.\n",
    "<br><br>\n",
    "\n",
    "![Figura 8](images/fig8.png)\n",
    "\n",
    "Figura 8: Visualização parcial da tabela de atributos de BR_UF.\n",
    "<br><br>\n",
    "\n",
    "Vamos utilizar o script abaixo para abrir o shapefile, ler as geometrias do tipo Polygon e imprimir os atributos CD_UF, NM_UF e SIGLA_UF."
   ]
  },
  {
   "cell_type": "code",
   "execution_count": 33,
   "id": "ec38afed",
   "metadata": {},
   "outputs": [
    {
     "name": "stdout",
     "output_type": "stream",
     "text": [
      "Polygon\n",
      "ID: 12, Nome: Acre, Sigla: AC\n",
      "ID: 13, Nome: Amazonas, Sigla: AM\n",
      "ID: 15, Nome: Pará, Sigla: PA\n",
      "ID: 16, Nome: Amapá, Sigla: AP\n",
      "ID: 17, Nome: Tocantins, Sigla: TO\n",
      "ID: 21, Nome: Maranhão, Sigla: MA\n",
      "ID: 22, Nome: Piauí, Sigla: PI\n",
      "ID: 23, Nome: Ceará, Sigla: CE\n",
      "ID: 24, Nome: Rio Grande do Norte, Sigla: RN\n",
      "ID: 25, Nome: Paraíba, Sigla: PB\n",
      "ID: 26, Nome: Pernambuco, Sigla: PE\n",
      "ID: 27, Nome: Alagoas, Sigla: AL\n",
      "ID: 28, Nome: Sergipe, Sigla: SE\n",
      "ID: 29, Nome: Bahia, Sigla: BA\n",
      "ID: 31, Nome: Minas Gerais, Sigla: MG\n",
      "ID: 32, Nome: Espírito Santo, Sigla: ES\n"
     ]
    },
    {
     "name": "stdout",
     "output_type": "stream",
     "text": [
      "ID: 33, Nome: Rio de Janeiro, Sigla: RJ\n",
      "ID: 35, Nome: São Paulo, Sigla: SP\n",
      "ID: 41, Nome: Paraná, Sigla: PR\n",
      "ID: 42, Nome: Santa Catarina, Sigla: SC\n",
      "ID: 43, Nome: Rio Grande do Sul, Sigla: RS\n",
      "ID: 50, Nome: Mato Grosso do Sul, Sigla: MS\n",
      "ID: 51, Nome: Mato Grosso, Sigla: MT\n",
      "ID: 52, Nome: Goiás, Sigla: GO\n",
      "ID: 53, Nome: Distrito Federal, Sigla: DF\n",
      "ID: 11, Nome: Rondônia, Sigla: RO\n",
      "ID: 14, Nome: Roraima, Sigla: RR\n"
     ]
    }
   ],
   "source": [
    "import os\n",
    "home_dir = os.path.expanduser(\"~\")\n",
    "shp_file_path = os.path.join(home_dir, 'geopythonbook/files/f4/BR_UF.shp')\n",
    "\n",
    "import fiona\n",
    "with fiona.open(shp_file_path, 'r') as registro:\n",
    "    print(registro.schema['geometry'])\n",
    "\n",
    "    for entidade in registro:\n",
    "        geom = entidade['geometry']  \n",
    "        props = entidade['properties'] \n",
    "        \n",
    "        # Extrai os atributos desejados\n",
    "        id_estado = props['CD_UF']\n",
    "        nome = props['NM_UF']\n",
    "        sigla = props['SIGLA_UF']\n",
    "            \n",
    "        # Imprime os atributos\n",
    "        print(f'ID: {id_estado}, Nome: {nome}, Sigla: {sigla}')\n"
   ]
  },
  {
   "cell_type": "markdown",
   "id": "47bf9d15",
   "metadata": {},
   "source": [
    "<br><br>\n",
    "\n",
    "Aplicando o script de consulta de metadados, obtemos:\n",
    "\n",
    "\n",
    "O EPSG 4326 é um código de sistema de referência espacial (SRS) que se refere ao sistema WGS 84 (World Geodetic System 1984). EPSG significa \"European Petroleum Survey Group\". Originalmente era um grupo de trabalho dedicado à aplicação da geodésia e da cartografia na indústria de petróleo e gás na Europa. \n",
    "\n",
    "O grupo criou e mantém uma base de dados com códigos para sistemas de referência espacial, transformações de coordenadas, unidades e métodos relacionados. Este banco de dados é amplamente utilizado em software GIS e outras aplicações geoespaciais. “4326” é o código específico no banco de dados EPSG que se refere ao WGS 84 com coordenadas em latitude e longitude (em graus decimais). \n",
    "\n",
    "\n",
    "\n",
    "## 4.3 Manipulando e escrevendo com Shapely e Fiona\n",
    "\n",
    "Escrever dados espaciais usando as bibliotecas Shapely e Fiona é uma tarefa comum em aplicações de geoprocessamento com Python. A Shapely é utilizada para manipular e analisar dados geométricos, enquanto a Fiona é usada para ler e escrever dados geoespaciais. Vamos criar um exemplo simples para demonstrar como escrever um shapefile contendo pontos usando Shapely e Fiona:\n",
    "\n",
    "Exemplo 1: Criar um shapefile contendo um único ponto (5,5) com as propriedades 'ID' e 'NOME'. Você pode estender o exemplo adicionando mais pontos ou outras geometrias e propriedades, conforme sua necessidade."
   ]
  },
  {
   "cell_type": "code",
   "execution_count": 34,
   "id": "b463c0c2",
   "metadata": {},
   "outputs": [
    {
     "name": "stdout",
     "output_type": "stream",
     "text": [
      "Shapefile files_out/pontos_saida.shp criado com sucesso!\n"
     ]
    }
   ],
   "source": [
    "from shapely.geometry import mapping\n",
    "\n",
    "# Define a estrutura do shapefile\n",
    "esquema = {\n",
    "    'geometry': 'Point',\n",
    "    'properties': {'id': 'int', 'nome': 'str'},\n",
    "}\n",
    "\n",
    "# Caminho e nome para o novo shapefile\n",
    "shapefile_saida = 'files_out/pontos_saida.shp'\n",
    "\n",
    "# Cria um novo shapefile\n",
    "with fiona.open(shapefile_saida, 'w', 'ESRI Shapefile', esquema) as c:\n",
    "\n",
    "    # Exemplo de dados: um ponto com coordenadas (5,5) e algumas propriedades\n",
    "    ponto = Point(5, 5)\n",
    "    propriedades = {'id': 1, 'nome': 'Ponto de exemplo'}\n",
    "    \n",
    "    # Escreve o ponto no shapefile\n",
    "    c.write({\n",
    "        'geometry': mapping(ponto),\n",
    "        'properties': propriedades\n",
    "    })\n",
    "\n",
    "print(f'Shapefile {shapefile_saida} criado com sucesso!')"
   ]
  },
  {
   "cell_type": "markdown",
   "id": "595766bf",
   "metadata": {},
   "source": [
    "<br><br>\n",
    "\n",
    "Vamos detalhar o código:\n",
    "<br><br>\n",
    "\n",
    "```import fiona ``` \n",
    "\n",
    "Importa a biblioteca Fiona, que é usada para a leitura e escrita de arquivos geoespaciais.\n",
    "<br><br>\n",
    "\n",
    "```from shapely.geometry import mapping ```\n",
    "\n",
    "Importa a função mapping é usada para converter geometrias Shapely em um formato que Fiona possa entender.\n",
    "<br><br>\n",
    "\n",
    "```\n",
    "esquema = {\n",
    "    'geometry': 'Point',\n",
    "    'properties': {'id': 'int', 'name': 'str'},\n",
    "}\n",
    "```\n",
    "\n",
    "Um dicionário chamado esquema é definido para especificar a estrutura do shapefile. Indica que o shapefile conterá geometrias do tipo ponto ('geometry': 'Point') e terá duas propriedades/atributos: id (um número inteiro) e name (uma string).\n",
    "<br><br>\n",
    "\n",
    "``` shapefile_saida = 'pontos_saida.shp' ```\n",
    "\n",
    "Especifica o nome e o caminho do novo shapefile que será criado: shapefile_saida.\n",
    "<br><br>\n",
    "\n",
    "``` with fiona.open(shapefile_saida, 'w', 'ESRI Shapefile', esquema) as c:```\n",
    "\n",
    "Aqui, o comando fiona.open é usado com o argumento 'w' (para escrita) para criar um novo shapefile. Também especifica o formato do arquivo ('ESRI Shapefile') e o esquema previamente definido.\n",
    "<br><br>\n",
    "\n",
    "```\n",
    "ponto = Point(5, 5)\n",
    "    propriedades = {'ID': 1, 'NOME': 'Ponto de exemplo'}\n",
    "```\n",
    "\n",
    "Um objeto de ponto é criado usando a classe Point da biblioteca Shapely, e as propriedades associadas a esse ponto são armazenadas no dicionário “propriedades”.\n",
    "<br><br>\n",
    "\n",
    "```\n",
    "   c.write({\n",
    "        'geometry': mapping(ponto),\n",
    "        'properties': propriedades\n",
    "    })\n",
    "```\n",
    "\n",
    "O ponto e suas propriedades são escritos no shapefile. A função mapping é usada para converter o objeto de ponto em um formato que Fiona possa entender e escrever no arquivo.\n",
    "<br><br>\n",
    "\n",
    "``` print(f'Shapefile {shapefile_saida} criado com sucesso!') ```\n",
    "\n",
    "Uma mensagem é impressa para confirmar que o shapefile foi criado com sucesso. \n",
    "<br><br>\n",
    "\n",
    "Você pode visualizar os arquivos criados na aba files, na lateral esquerda do ambiente do Google Colab.\n",
    "\n",
    "Lembre-se de que ao trabalhar com shapefiles, além do arquivo .shp, outros arquivos (como .shx e .dbf) também são gerados. Se você decidir mover ou compartilhar seu shapefile, certifique-se de incluir esses arquivos auxiliares.\n",
    "<br><br>\n",
    "\n",
    "\n",
    "Exemplo 2: Criar um shapefile com as capitais do Brasil, com geometrias do tipo ponto."
   ]
  },
  {
   "cell_type": "code",
   "execution_count": 35,
   "id": "0daf953d",
   "metadata": {},
   "outputs": [],
   "source": [
    "from fiona.crs import from_epsg\n",
    "\n",
    "\n",
    "esquema = {\n",
    "    'geometry': 'Point',\n",
    "    'properties': {'capital': 'str', 'estado': 'str'},\n",
    "}"
   ]
  },
  {
   "cell_type": "markdown",
   "id": "895597ea",
   "metadata": {},
   "source": [
    "Nesse código, importamos as bibliotecas e definimos a estrutura do arquivo shapefile. O campo geometry define que o arquivo conterá pontos (Point). O campo properties especifica que cada ponto terá dois atributos associados: capital (o nome da capital) e estado (o nome do estado), ambos do tipo string (str).\n",
    "<br><br>"
   ]
  },
  {
   "cell_type": "code",
   "execution_count": 36,
   "id": "efacccfe",
   "metadata": {},
   "outputs": [],
   "source": [
    "capitais = {\n",
    "    'Brasília': ('Distrito Federal', (-47.8825, -15.7934)),\n",
    "    'Rio Branco': ('Acre', (-67.8270, -9.97499)),\n",
    "    'Maceió': ('Alagoas', (-35.7353, -9.66599)),\n",
    "    'Manaus': ('Amazonas', (-60.0253, -3.11333)),\n",
    "    'Macapá': ('Amapá', (-51.0705, 0.039452)),\n",
    "    'Salvador': ('Bahia', (-38.5014, -12.9714)),\n",
    "    'Fortaleza': ('Ceará', (-38.5423, -3.71722)),\n",
    "    'Vitória': ('Espírito Santo', (-40.2976, -20.3195)),\n",
    "    'Goiânia': ('Goiás', (-49.2539, -16.6869)),\n",
    "    'São Luís': ('Maranhão', (-44.3028, -2.52996)),\n",
    "    'Cuiabá': ('Mato Grosso', (-56.0974, -15.6014)),\n",
    "    'Campo Grande': ('Mato Grosso do Sul', (-54.6156, -20.4428)),\n",
    "    'Belo Horizonte': ('Minas Gerais', (-43.9378, -19.9208)),\n",
    "    'Belém': ('Pará', (-48.4874, -1.4554)),\n",
    "    'João Pessoa': ('Paraíba', (-34.8761, -7.11509)),\n",
    "    'Curitiba': ('Paraná', (-49.2713, -25.4296)),\n",
    "    'Recife': ('Pernambuco', (-34.8813, -8.05428)),\n",
    "    'Teresina': ('Piauí', (-42.8056, -5.09194)),\n",
    "    'Rio de Janeiro': ('Rio de Janeiro', (-43.1965, -22.9083)),\n",
    "    'Natal': ('Rio Grande do Norte', (-35.2091, -5.79448)),\n",
    "    'Porto Alegre': ('Rio Grande do Sul', (-51.2167, -30.0277)),\n",
    "    'Porto Velho': ('Rondônia', (-63.9004, -8.76077)),\n",
    "    'Boa Vista': ('Roraima', (-60.6733, 2.81972)),\n",
    "    'Florianópolis': ('Santa Catarina', (-48.5012, -27.5954)),\n",
    "    'São Paulo': ('São Paulo', (-46.6395, -23.5475)),\n",
    "    'Aracaju': ('Sergipe', (-37.0763, -10.9873)),\n",
    "    'Palmas': ('Tocantins', (-48.3344, -10.2391))\n",
    "}"
   ]
  },
  {
   "cell_type": "markdown",
   "id": "c13debe4",
   "metadata": {},
   "source": [
    "Com este código, criamos um dicionário chamado “capitais”. As chaves do dicionário são os nomes das capitais e os valores são tuplas que contêm o nome do estado e as coordenadas (longitude e latitude) da respectiva capital.\n",
    "<br><br>"
   ]
  },
  {
   "cell_type": "code",
   "execution_count": 37,
   "id": "e87d39bc",
   "metadata": {},
   "outputs": [],
   "source": [
    "# Neste trecho, o código inicia o processo de criação do arquivo shapefile usando a biblioteca fiona. O arquivo será salvo como 'capitais_br.shp' na pasta files_out. O CRS (Sistema de Referência de Coordenadas) utilizado é o EPSG 4326.\n",
    "\n",
    "with fiona.open('files_out/capitais_br.shp', 'w', driver='ESRI Shapefile', crs=from_epsg(4326), schema=esquema) as layer:\n",
    "    for capital, (estado, coords) in capitais.items():\n",
    "        ponto = Point(coords)\n",
    "        propriedades = {\n",
    "            'geometry': {\n",
    "                'type': 'Point',\n",
    "                'coordinates': coords,\n",
    "            },\n",
    "            'properties': {\n",
    "                'capital': capital,\n",
    "                'estado': estado,\n",
    "            },\n",
    "        }\n",
    "        layer.write(propriedades)"
   ]
  },
  {
   "cell_type": "markdown",
   "id": "e9e8041a",
   "metadata": {},
   "source": [
    "Nesse código, iteramos sobre o dicionário capitais. Para cada capital, ele cria um objeto Point com as coordenadas. Em seguida, ele cria um dicionário propriedades que contém as informações geométricas e os atributos associados. Esse dicionário é então escrito (adicionado) no arquivo shapefile usando o método write.\n",
    "<br><br>"
   ]
  },
  {
   "cell_type": "code",
   "execution_count": 38,
   "id": "d47a5125",
   "metadata": {},
   "outputs": [
    {
     "name": "stdout",
     "output_type": "stream",
     "text": [
      "Shapefile criado com sucesso!\n"
     ]
    }
   ],
   "source": [
    "print('Shapefile criado com sucesso!')"
   ]
  },
  {
   "cell_type": "markdown",
   "id": "ccbb613d",
   "metadata": {},
   "source": [
    "Por fim, o código imprime uma mensagem indicando que o arquivo shapefile foi criado com sucesso. \n",
    "\n",
    "Na figura 9 podemos visualizar os pontos referentes as capitais provenientes do arquivo shapefile criado.\n",
    "\n",
    "![Figura 9](images/fig9.png)\n",
    "\n",
    "Figura 9: Visualização dos pontos referentes às capitais dos estados brasileiros.\n",
    "<br><br>\n",
    "\n",
    "Exemplo 3: Escrever um arquivo em formato GeoJSON\n",
    "\n",
    "O GeoJSON é um formato de intercâmbio de dados geoespaciais, baseado no JSON (JavaScript Object Notation). Foi desenvolvido para representar objetos geográficos simples, juntamente com seus atributos não espaciais. Devido à simplicidade e à crescente adoção de tecnologias baseadas em web para aplicações geoespaciais, o GeoJSON vem se tornando um dos formatos padrão para transmissão de dados geoespaciais na web.\n",
    "\n",
    "O GeoJSON suporta vários tipos de geometria, incluindo Point (ponto), Linestring (linha), Polygon (polígono), Multipoint, Multilinestring, e Multipolygon. Além disso, ele suporta GeometryCollection, que, como vimos, é uma coleção de geometrias. Além da geometria, cada objeto GeoJSON pode ter atributos associados. Estes são armazenados em um objeto chamado propriedades. As coordenadas em GeoJSON são sempre em longitude e latitude (e opcionalmente altitude), e são representadas no formato decimal.\n",
    "\n",
    "Para criar um arquivo GeoJSON na fiona, é necessário alterar o argumento driver para \"GeoJSON\" quando você abrir o arquivo para escrita com fiona.open(). Esse argumento especifica o formato desejado, que neste caso é GeoJSON.\n",
    "with fiona.open(arquivo_saida, 'w', driver='GeoJSON', schema=esquema) as c:\n",
    "\n",
    "Vamos criar um arquivo GeoJSON contendo uma linha definida a partir de três pontos."
   ]
  },
  {
   "cell_type": "code",
   "execution_count": 39,
   "id": "2f641578",
   "metadata": {},
   "outputs": [
    {
     "name": "stdout",
     "output_type": "stream",
     "text": [
      "Arquivo GeoJSON files_out/linhas_saida.geojson criado com sucesso!\n"
     ]
    }
   ],
   "source": [
    "# Define a estrutura do GeoJSON\n",
    "esquema = {\n",
    "    'geometry': 'LineString',\n",
    "    'properties': {'id': 'int', 'descricao': 'str'},\n",
    "}\n",
    "\n",
    "# Caminho e nome para o novo GeoJSON\n",
    "arquivo_saida = 'files_out/linhas_saida.geojson'\n",
    "\n",
    "# Cria um novo arquivo GeoJSON\n",
    "\n",
    "with fiona.open(arquivo_saida, 'w', driver='GeoJSON', schema=esquema) as c:\n",
    "    \n",
    "    # Exemplo de dados: uma linha com coordenadas [(0,0), (5,5), (10,10)] e algumas propriedades\n",
    "    linha = LineString([(0, 0), (5, 5), (10, 10)])\n",
    "    propriedades = {'id': 1, 'descricao': 'Linha Exemplo'}\n",
    "    \n",
    "    # Escreve a linha no GeoJSON\n",
    "    c.write({\n",
    "        'geometry': mapping(linha),\n",
    "        'properties': propriedades,\n",
    "    })\n",
    "\n",
    "print(f'Arquivo GeoJSON {arquivo_saida} criado com sucesso!')"
   ]
  },
  {
   "cell_type": "markdown",
   "id": "a8ac4399",
   "metadata": {},
   "source": [
    "<br><br>\n",
    "\n",
    "\n",
    "Exemplo 4: Escrever um arquivo shapefile com geometrias do tipo polígono\n",
    "\n",
    "Para escrever um shapefile contendo polígonos, utilizaremos a mesma sintaxe dos exemplos anteriores, usando Shapely para a criação das geometrias e Fiona para a escrita dos dados em formato shapefile:"
   ]
  },
  {
   "cell_type": "code",
   "execution_count": 40,
   "id": "94400150",
   "metadata": {},
   "outputs": [
    {
     "name": "stdout",
     "output_type": "stream",
     "text": [
      "Shapefile files_out/poligonos_saida.shp criado com sucesso!\n"
     ]
    }
   ],
   "source": [
    "# Define a estrutura do shapefile\n",
    "esquema = {\n",
    "    'geometry': 'Polygon',\n",
    "    'properties': {'id': 'int', 'descricao': 'str'},\n",
    "}\n",
    "\n",
    "# Caminho e nome para o novo shapefile\n",
    "arquivo_saida = 'files_out/poligonos_saida.shp'\n",
    "\n",
    "# Cria um novo shapefile\n",
    "with fiona.open(arquivo_saida, 'w', 'ESRI Shapefile', esquema) as c:\n",
    "    \n",
    "    # Exemplo de dados: um polígono com coordenadas [(0,0), (5,5), (10,0), (0,0)] \n",
    "    #e algumas propriedades\n",
    "    poligono = Polygon([(0, 0), (5, 5), (10, 0), (0, 0)])\n",
    "    propriedades = {'id': 1, 'descricao': 'Polígono Exemplo'}\n",
    "    \n",
    "    # Escreve o polígono no shapefile\n",
    "    c.write({\n",
    "        'geometry': mapping(poligono),\n",
    "        'properties': propriedades,\n",
    "    })\n",
    "\n",
    "print(f'Shapefile {arquivo_saida} criado com sucesso!')"
   ]
  },
  {
   "cell_type": "markdown",
   "id": "88551add",
   "metadata": {},
   "source": [
    "<br><br>\n",
    "\n",
    "Você pode visualizar os arquivos criados na aba files, na lateral esquerda do ambiente do Google Colab.\n",
    "\n",
    "\n",
    "É possível estender o exemplo acima para adicionar mais polígonos ou outras propriedades conforme a necessidade. Novamente, lembre-se de que shapefiles são compostos por múltiplos arquivos (.shp, .shx, .dbf, entre outros). Ao mover ou compartilhar seu shapefile, não se esqueça de incluir todos os arquivos auxiliares."
   ]
  }
 ],
 "metadata": {
  "jupytext": {
   "formats": "md:myst",
   "text_representation": {
    "extension": ".md",
    "format_name": "myst",
    "format_version": 0.13,
    "jupytext_version": "1.11.5"
   }
  },
  "kernelspec": {
   "display_name": "Python 3",
   "language": "python",
   "name": "python3"
  },
  "language_info": {
   "codemirror_mode": {
    "name": "ipython",
    "version": 3
   },
   "file_extension": ".py",
   "mimetype": "text/x-python",
   "name": "python",
   "nbconvert_exporter": "python",
   "pygments_lexer": "ipython3",
   "version": "3.8.18"
  },
  "source_map": [
   13,
   41,
   45,
   50,
   54,
   59,
   63,
   86,
   88,
   91,
   93,
   96,
   98,
   102,
   104,
   108,
   112,
   116,
   120,
   125,
   131,
   135,
   139,
   149,
   152,
   157,
   160,
   165,
   168,
   173,
   176,
   181,
   184,
   189,
   192,
   197,
   200,
   205,
   208,
   212,
   217,
   227,
   232,
   237,
   245,
   250,
   253,
   258,
   263,
   266,
   271,
   274,
   278,
   280,
   284,
   286,
   290,
   296,
   298,
   302,
   305,
   309,
   312,
   472,
   493,
   511,
   538,
   605,
   614,
   620,
   650,
   655,
   672,
   677,
   679,
   701,
   727,
   735,
   761
  ]
 },
 "nbformat": 4,
 "nbformat_minor": 5
}