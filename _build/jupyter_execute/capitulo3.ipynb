{
 "cells": [
  {
   "cell_type": "markdown",
   "id": "3d8d59ff",
   "metadata": {},
   "source": [
    "# 3. A BIBLIOTECA PANDAS\n",
    "\n",
    "[Abrir no Google Colab](https://colab.research.google.com/github/Alexandrogschafer/Programacao-Geoprocessamento/blob/main/capitulo3.ipynb)\n",
    "\n",
    "Pandas é uma biblioteca de programação em Python que fornece estruturas de dados e ferramentas de análise de dados flexíveis e eficientes. É uma das bibliotecas mais populares e amplamente utilizadas para análise e manipulação de dados em Python. Ele transforma a complexidade da manipulação de dados em tarefas intuitivas, permitindo que o usuário se concentre na análise dos dados ao invés de se preocupar com os aspectos técnicos da preparação de dados. Constituem pontos-chave do Pandas:\n",
    "\n",
    "- Estruturas de Dados: O Pandas introduz duas estruturas de dados principais para Python: Series e DataFrame;\n",
    "\n",
    "- Manipulação de Dados: Facilita a filtragem seleção, mesclagem e agrupamento de dados. Disponibiliza ainda funções e métodos para efetuar rapidamente operações comuns, como: Manipulação de datas; Ajuste de dados faltantes; Agrupamento e agregação de dados; Fusão e junção de conjuntos de dados;\n",
    "\n",
    "- Análise de Dados: Facilita a análise estatística dos dados. Ele integra-se bem com outras bibliotecas de análise de dados e visualização, como numpy, scipy e matplotlib;\n",
    "\n",
    "- Importação e Exportação de Dados: Suporta uma ampla variedade de formatos de arquivos, como CSV, Excel, SQL, HDF5, entre outros. Isso torna fácil importar dados para análise e exportar resultados após a análise;\n",
    "\n",
    "- Integração: integra-se bem com muitas outras bibliotecas do ecossistema de ciência de dados em Python, como matplotlib para visualização, scikit-learn para aprendizado de máquina e statsmodels para modelagem estatística.\n",
    "\n",
    "\n",
    "## 3.1 Introdução e Configurações Básicas\n",
    "\n",
    "### 3.1.1 Configurações iniciais\n",
    "\n",
    "Ao iniciar com a biblioteca Pandas, é importante realizar algumas configurações iniciais para garantir que a experiência de análise de dados seja otimizada e alinhada às suas preferências. Abaixo, apresento algumas configurações comuns que os usuários do Pandas frequentemente ajustam:\n",
    "\n",
    "*Importação da Biblioteca:* Antes de qualquer coisa, você precisa importar a biblioteca. Pandas é geralmente importado com o alias \"pd\" por convenção."
   ]
  },
  {
   "cell_type": "code",
   "execution_count": 1,
   "id": "44dcccf1",
   "metadata": {},
   "outputs": [],
   "source": [
    "import pandas as pd"
   ]
  },
  {
   "cell_type": "markdown",
   "id": "c0db26f0",
   "metadata": {},
   "source": [
    "*Configuração do número máximo de linhas e colunas exibidas:* Se você estiver trabalhando com DataFrames grandes, pode querer ajustar o número de linhas e colunas exibidas por padrão quando imprimir o DataFrame."
   ]
  },
  {
   "cell_type": "code",
   "execution_count": 2,
   "id": "988345cb",
   "metadata": {},
   "outputs": [],
   "source": [
    "pd.set_option('display.max_rows', 20)\n",
    "pd.set_option('display.max_columns', 10)"
   ]
  },
  {
   "cell_type": "markdown",
   "id": "8d04e313",
   "metadata": {},
   "source": [
    "*Largura da Coluna e Precisão:* Para melhor visualização dos dados, você pode ajustar a largura da coluna e a precisão (número de casas decimais)."
   ]
  },
  {
   "cell_type": "code",
   "execution_count": 3,
   "id": "ed534097",
   "metadata": {},
   "outputs": [],
   "source": [
    "pd.set_option('display.max_colwidth', 20)\n",
    "pd.set_option('display.precision', 2)"
   ]
  },
  {
   "cell_type": "markdown",
   "id": "dcd2d047",
   "metadata": {},
   "source": [
    "*Configuração do Float Format:* Controla a formatação de números flutuantes. Útil para quando se quer mostrar valores em formato de porcentagem, por exemplo."
   ]
  },
  {
   "cell_type": "code",
   "execution_count": 4,
   "id": "b9f23ccb",
   "metadata": {},
   "outputs": [],
   "source": [
    "pd.options.display.float_format = '{:,.2f}'.format"
   ]
  },
  {
   "cell_type": "markdown",
   "id": "bc213caa",
   "metadata": {},
   "source": [
    "*Evitando Notação Científica:* Por padrão, o Pandas pode exibir números grandes ou muito pequenos usando notação científica. Para desativar isso:"
   ]
  },
  {
   "cell_type": "code",
   "execution_count": 5,
   "id": "b6d9d713",
   "metadata": {},
   "outputs": [],
   "source": [
    "pd.set_option('display.float_format', lambda x: '%.2f' % x)"
   ]
  },
  {
   "cell_type": "markdown",
   "id": "66ba291c",
   "metadata": {},
   "source": [
    "*Configurações de Visualização:* Se estiver usando o Jupyter Notebook ou Jupyter Lab, para que os plots feitos com Pandas (integrados com Matplotlib) sejam exibidos diretamente no notebook:"
   ]
  },
  {
   "cell_type": "code",
   "execution_count": 6,
   "id": "2b1d917f",
   "metadata": {},
   "outputs": [],
   "source": [
    "%matplotlib inline"
   ]
  },
  {
   "cell_type": "markdown",
   "id": "443e0059",
   "metadata": {},
   "source": [
    "*Configuração de Data e Hora:* Se estiver trabalhando com séries temporais, pode ser útil ajustar a formatação padrão de datas."
   ]
  },
  {
   "cell_type": "code",
   "execution_count": 7,
   "id": "082d4ab8",
   "metadata": {},
   "outputs": [],
   "source": [
    "pd.set_option('display.date_dayfirst', True)"
   ]
  },
  {
   "cell_type": "markdown",
   "id": "73af664a",
   "metadata": {},
   "source": [
    "*Configuração do Encoding Padrão:* Ao lidar com conjuntos de dados que possuem caracteres especiais ou não-ASCII, configurar o encoding padrão para leitura e escrita de arquivos pode evitar problemas."
   ]
  },
  {
   "cell_type": "code",
   "execution_count": 8,
   "id": "c5ae7107",
   "metadata": {},
   "outputs": [],
   "source": [
    "pd.set_option('display.encoding', 'UTF-8')"
   ]
  },
  {
   "cell_type": "markdown",
   "id": "dda993f0",
   "metadata": {},
   "source": [
    "Estas são apenas algumas das opções que você pode configurar ao iniciar com o Pandas. Dependendo da natureza de seus dados e suas preferências pessoais, você pode precisar ajustar outras opções. Consulte a documentação do Pandas para uma lista completa de opções configuráveis.\n",
    "\n",
    "\n",
    "### 3.1.2 Introdução às estruturas de dados no Pandas\n",
    "\n",
    "O domínio das estruturas de dados do Pandas é essencial para qualquer pessoa que deseja trabalhar com análise de dados em Python. Uma vez que você esteja confortável com Series e DataFrame, muitas tarefas complexas de processamento de dados se tornarão mais simples e diretas.\n",
    "\n",
    "No contexto da biblioteca Pandas, quando falamos de estruturas de dados, nos referimos principalmente a duas estruturas fundamentais: a Series e o DataFrame, que são a base para a maioria das operações de análise de dados em Python. Ambas foram projetadas para facilitar a manipulação de dados em Python, cada uma servindo a diferentes propósitos e possuindo suas características específicas.\n",
    "\n",
    "Além de Series e DataFrame, o Pandas oferece outras estruturas mais especializadas como Panel (estrutura tridimensional, menos usada) e MultiIndex (para indexação hierárquica).\n",
    "\n",
    "\n",
    "*Series*\n",
    "\n",
    "Series é uma estrutura de dados unidimensional, que pode armazenar valores de qualquer tipo de dado (números, strings, objetos Python, etc.). É, em essência, uma coluna em um DataFrame. Os rótulos dos eixos são chamados de índice.\n",
    "    \n",
    "Uma Series oferece uma variedade de métodos e operações para facilitar a manipulação e análise de dados unidimensionais. \n",
    "\n",
    "\n",
    "Características Principais:\n",
    "\n",
    "- Unidimensionalidade: Series contém uma sequência de itens em uma única dimensão;\n",
    "\n",
    "- Index: Cada elemento em uma Series é associado a um índice. Esse índice é, por padrão, uma sequência numérica começando por zero, mas pode ser de outros tipos, como datas, strings ou até mesmo outros números;\n",
    "\n",
    "- Homogeneidade: Apesar de uma Series poder conter qualquer tipo de dado, todos os itens em uma única Series devem ser do mesmo tipo. Se diferentes tipos são colocados em uma Series, ela tentará converter os tipos para um formato comum;\n",
    "\n",
    "- Nome: Uma Series pode ter um atributo nome, o que pode ser útil especialmente quando a Series é usada como uma coluna em um DataFrame.\n",
    "\n",
    "\n",
    "Usos Comuns:\n",
    "\n",
    "- Seleção de dados: Muitas vezes, quando você seleciona uma única coluna de um DataFrame, o resultado é uma Series;\n",
    "\n",
    "- Operações aritméticas: Assim como com arrays do Numpy, é possível realizar operações aritméticas com uma Series;\n",
    "\n",
    "- Operações de agregação: Você pode aplicar funções de agregação, como soma, média, mediana, entre outras, diretamente a uma Series;\n",
    "\n",
    "- Filtragem: É fácil filtrar dados em uma Series usando operadores condicionais;\n",
    "\n",
    "- Aplicação de funções: O método .apply() permite que você aplique uma função a cada item de uma Series.\n",
    "\n",
    "- Conversão de tipos: Converta os tipos de dados em uma Series usando o método astype();\n",
    "\n",
    "- Manipulação de strings: Se a Series contém strings, o Pandas oferece um conjunto robusto de operações de string através do atributo .str;\n",
    "\n",
    "- Tratamento de valores faltantes: Métodos como .fillna() ou .dropna() ajudam a lidar com valores faltantes (NaN) em uma Series.\n",
    "\n",
    "\n",
    "*DataFrame* \n",
    "\n",
    "Um DataFrame é uma estrutura de dados bidimensional, semelhante a uma planilha ou uma tabela de banco de dados, uma planilha do Excel ou uma tabela em linguagens estatísticas como R, que pode armazenar dados de diferentes tipos em suas colunas. O DataFrame é a estrutura central do Pandas e é a ferramenta de escolha para a maioria das operações de análise de dados em Python. Seu design flexível e a grande quantidade de métodos e funcionalidades o tornam ideal para trabalhar com dados em muitos contextos diferentes. Enquanto a Series é essencial e útil em muitos cenários, o DataFrame amplia essa utilidade para operações mais complexas e análises multidimensionais.\n",
    "\n",
    "\n",
    "Características Principais:\n",
    "\n",
    "- Bidimensionalidade: Ao contrário da Series (unidimensional), um DataFrame é bidimensional, representando dados em linhas e colunas;\n",
    "Colunas com Nomes: Cada coluna em um DataFrame tem um nome, que serve como seu identificador;\n",
    "\n",
    "- Indexação: Assim como a Series, o DataFrame tem um índice que identifica cada linha. Esse índice pode ser numérico, de data, de string, ou até mesmo hierárquico;\n",
    "\n",
    "- Colunas com diferentes tipos de dados: Enquanto uma Series deve ter um tipo de dado único, um DataFrame pode ter diferentes tipos de dados em suas diferentes colunas (por exemplo, inteiros, floats, strings);\n",
    "\n",
    "- Flexibilidade: Você pode adicionar ou remover colunas, alterar o índice, reordenar as linhas, entre outras operações;\n",
    "\n",
    "- Funcionalidades: O Pandas oferece uma ampla gama de funções e métodos para manipular, filtrar, agrupar, transformar e analisar os dados em um DataFrame;\n",
    "\n",
    "- Integração com Outras Bibliotecas: DataFrames podem ser facilmente convertidos para outras estruturas de dados, como arrays do numpy, e são amplamente utilizados em conjunto com outras bibliotecas de análise de dados e visualização, como matplotlib, seaborn e scikit-learn;\n",
    "\n",
    "- Importação e Exportação: Com o Pandas, é possível ler dados de diversas fontes, como arquivos CSV, Excel, bancos de dados SQL e muitos outros formatos, diretamente para um DataFrame. Da mesma forma, os dados em um DataFrame podem ser facilmente exportados para esses formatos.\n",
    "\n",
    "\n",
    "Usos Comuns:\n",
    "\n",
    "- Manipulação de dados: Seleção, adição e exclusão de colunas e linhas;\n",
    "\n",
    "- Agrupamento: Utilizando o método groupby() é possível agrupar dados com base em certos critérios e aplicar funções de agregação;\n",
    "\n",
    "- Mesclagem e junção: Com métodos como merge() e join(), é possível combinar diferentes DataFrames de acordo com critérios específicos;\n",
    "\n",
    "- Pivotamento: Transforme dados de formato longo para largo e vice-versa usando métodos como pivot();\n",
    "\n",
    "- Visualização: O Pandas integra-se bem com bibliotecas de visualização, como Matplotlib, permitindo a criação de gráficos diretamente de um DataFrame;\n",
    "\n",
    "- Estatísticas e análise: Calcule estatísticas básicas, realize testes estatísticos, explore correlações e muito mais;\n",
    "Tratamento de valores faltantes: Use métodos como fillna(), dropna(), e interpolate() para tratar dados faltantes.\n",
    "\n",
    "\n",
    "Diferenças em Relação às Series:\n",
    "\n",
    "- Dimensionalidade: Enquanto uma Series é unidimensional, o DataFrame é bidimensional;\n",
    "\n",
    "- Tipos de dados: A Series tem um único tipo de dado para todos os seus elementos, enquanto um DataFrame pode ter colunas com diferentes tipos de dados;\n",
    "\n",
    "- Acessibilidade: Em uma Series, acessamos os dados pelo índice. Em um DataFrame, usamos o nome da coluna (ou uma lista de nomes de colunas) para selecionar colunas específicas;\n",
    "\n",
    "- Estrutura: Enquanto você pode pensar em uma Series como uma única coluna de dados com índices, um DataFrame é como um conjunto de Series que compartilham um índice comum.\n",
    "\n",
    "\n",
    "### 3.1.3 Criação e manipulação de Series\n",
    "\n",
    "A criação e a manipulação de Series é um aspecto importante da análise de dados, pois nos permite organizar e trabalhar com sequências de dados de maneira sistemática. Vamos aprender sobre as algumas das ferramentas e técnicas fundamentais para gerenciar e analisar dados em séries.\n",
    "\n",
    "Criação de uma Series a partir de uma lista"
   ]
  },
  {
   "cell_type": "code",
   "execution_count": 9,
   "id": "2ebba92c",
   "metadata": {},
   "outputs": [],
   "source": [
    "import pandas as pd\n",
    "s = pd.Series([1, 2, 3, 4, 5])"
   ]
  },
  {
   "cell_type": "markdown",
   "id": "865e65eb",
   "metadata": {},
   "source": [
    "A coluna esquerda é o índice da Series (lembre-se que a indexação no Python começa em zero), enquanto a coluna a direita armazena os valores definidos pelo usuário.\n",
    "\n",
    "Definindo um índice personalizado"
   ]
  },
  {
   "cell_type": "code",
   "execution_count": 10,
   "id": "975925f5",
   "metadata": {},
   "outputs": [],
   "source": [
    "s = pd.Series([1, 2, 3, 4, 5], index=['a', 'b', 'c', 'd', 'e'])"
   ]
  },
  {
   "cell_type": "markdown",
   "id": "9854f560",
   "metadata": {},
   "source": [
    "Acessando valores e índices"
   ]
  },
  {
   "cell_type": "code",
   "execution_count": 11,
   "id": "09cf3f5d",
   "metadata": {},
   "outputs": [
    {
     "data": {
      "text/plain": [
       "array([1, 2, 3, 4, 5])"
      ]
     },
     "execution_count": 11,
     "metadata": {},
     "output_type": "execute_result"
    }
   ],
   "source": [
    "s.values  "
   ]
  },
  {
   "cell_type": "code",
   "execution_count": 12,
   "id": "e5d9de69",
   "metadata": {},
   "outputs": [
    {
     "data": {
      "text/plain": [
       "Index(['a', 'b', 'c', 'd', 'e'], dtype='object')"
      ]
     },
     "execution_count": 12,
     "metadata": {},
     "output_type": "execute_result"
    }
   ],
   "source": [
    "s.index   "
   ]
  },
  {
   "cell_type": "markdown",
   "id": "bc7498b2",
   "metadata": {},
   "source": [
    "Operações aritméticas básicas"
   ]
  },
  {
   "cell_type": "code",
   "execution_count": 13,
   "id": "fdfc39af",
   "metadata": {},
   "outputs": [
    {
     "data": {
      "text/plain": [
       "a    11\n",
       "b    12\n",
       "c    13\n",
       "d    14\n",
       "e    15\n",
       "dtype: int64"
      ]
     },
     "execution_count": 13,
     "metadata": {},
     "output_type": "execute_result"
    }
   ],
   "source": [
    "s + 10  "
   ]
  },
  {
   "cell_type": "code",
   "execution_count": 14,
   "id": "f555a919",
   "metadata": {},
   "outputs": [
    {
     "data": {
      "text/plain": [
       "a     2\n",
       "b     4\n",
       "c     6\n",
       "d     8\n",
       "e    10\n",
       "dtype: int64"
      ]
     },
     "execution_count": 14,
     "metadata": {},
     "output_type": "execute_result"
    }
   ],
   "source": [
    "s * 2  "
   ]
  },
  {
   "cell_type": "markdown",
   "id": "b477cef7",
   "metadata": {},
   "source": [
    "*Indexação e Seleção*\n",
    "\n",
    "Seleção por índice"
   ]
  },
  {
   "cell_type": "code",
   "execution_count": 15,
   "id": "078fd46f",
   "metadata": {},
   "outputs": [
    {
     "data": {
      "text/plain": [
       "1"
      ]
     },
     "execution_count": 15,
     "metadata": {},
     "output_type": "execute_result"
    }
   ],
   "source": [
    "s['a']  "
   ]
  },
  {
   "cell_type": "markdown",
   "id": "19572d96",
   "metadata": {},
   "source": [
    "Seleção por posição"
   ]
  },
  {
   "cell_type": "code",
   "execution_count": 16,
   "id": "a1a519f5",
   "metadata": {},
   "outputs": [
    {
     "data": {
      "text/plain": [
       "1"
      ]
     },
     "execution_count": 16,
     "metadata": {},
     "output_type": "execute_result"
    }
   ],
   "source": [
    "s[0]  "
   ]
  },
  {
   "cell_type": "markdown",
   "id": "93569d3f",
   "metadata": {},
   "source": [
    "Seleção condicional"
   ]
  },
  {
   "cell_type": "code",
   "execution_count": 17,
   "id": "77cbd313",
   "metadata": {},
   "outputs": [
    {
     "data": {
      "text/plain": [
       "c    3\n",
       "d    4\n",
       "e    5\n",
       "dtype: int64"
      ]
     },
     "execution_count": 17,
     "metadata": {},
     "output_type": "execute_result"
    }
   ],
   "source": [
    "s[s > 2]  "
   ]
  },
  {
   "cell_type": "markdown",
   "id": "c67b03f9",
   "metadata": {},
   "source": [
    "Fatiamento"
   ]
  },
  {
   "cell_type": "code",
   "execution_count": 18,
   "id": "d4a39044",
   "metadata": {},
   "outputs": [
    {
     "data": {
      "text/plain": [
       "b    2\n",
       "c    3\n",
       "d    4\n",
       "dtype: int64"
      ]
     },
     "execution_count": 18,
     "metadata": {},
     "output_type": "execute_result"
    }
   ],
   "source": [
    "s[1:4]  "
   ]
  },
  {
   "cell_type": "code",
   "execution_count": 19,
   "id": "e596430a",
   "metadata": {},
   "outputs": [
    {
     "data": {
      "text/plain": [
       "a    1\n",
       "b    2\n",
       "c    3\n",
       "dtype: int64"
      ]
     },
     "execution_count": 19,
     "metadata": {},
     "output_type": "execute_result"
    }
   ],
   "source": [
    "s['a':'c']  "
   ]
  },
  {
   "cell_type": "markdown",
   "id": "7a91e69c",
   "metadata": {},
   "source": [
    "Atribuição de valores"
   ]
  },
  {
   "cell_type": "code",
   "execution_count": 20,
   "id": "cdd01f6f",
   "metadata": {},
   "outputs": [],
   "source": [
    "s['a'] = 10  "
   ]
  },
  {
   "cell_type": "markdown",
   "id": "242cf72e",
   "metadata": {},
   "source": [
    "### 3.1.4 Criação de DataFrames\n",
    "\n",
    "O Pandas facilita a criação de DataFrames a partir de diferentes formatos de dados. Seja um arquivo CSV, uma planilha do Excel, um banco de dados ou até mesmo uma API, o Pandas oferece funcionalidades para transformar essas diversas fontes de informação em estruturas de dados organizadas. Internamente, é possível criar DataFrames a partir de tipos básicos de dados e estruturas de dados. Vamos ver alguns exemplos:\n",
    "\n",
    "Criação de DataFrame a partir de um dicionário:"
   ]
  },
  {
   "cell_type": "code",
   "execution_count": 21,
   "id": "021570d5",
   "metadata": {},
   "outputs": [
    {
     "data": {
      "text/html": [
       "<div>\n",
       "<style scoped>\n",
       "    .dataframe tbody tr th:only-of-type {\n",
       "        vertical-align: middle;\n",
       "    }\n",
       "\n",
       "    .dataframe tbody tr th {\n",
       "        vertical-align: top;\n",
       "    }\n",
       "\n",
       "    .dataframe thead th {\n",
       "        text-align: right;\n",
       "    }\n",
       "</style>\n",
       "<table border=\"1\" class=\"dataframe\">\n",
       "  <thead>\n",
       "    <tr style=\"text-align: right;\">\n",
       "      <th></th>\n",
       "      <th>Nome</th>\n",
       "      <th>Idade</th>\n",
       "      <th>Cidade</th>\n",
       "    </tr>\n",
       "  </thead>\n",
       "  <tbody>\n",
       "    <tr>\n",
       "      <th>0</th>\n",
       "      <td>Ana</td>\n",
       "      <td>25</td>\n",
       "      <td>Curitiba</td>\n",
       "    </tr>\n",
       "    <tr>\n",
       "      <th>1</th>\n",
       "      <td>Bruno</td>\n",
       "      <td>30</td>\n",
       "      <td>Belém</td>\n",
       "    </tr>\n",
       "    <tr>\n",
       "      <th>2</th>\n",
       "      <td>Carlos</td>\n",
       "      <td>35</td>\n",
       "      <td>Belo Horizonte</td>\n",
       "    </tr>\n",
       "  </tbody>\n",
       "</table>\n",
       "</div>"
      ],
      "text/plain": [
       "     Nome  Idade          Cidade\n",
       "0     Ana     25        Curitiba\n",
       "1   Bruno     30           Belém\n",
       "2  Carlos     35  Belo Horizonte"
      ]
     },
     "execution_count": 21,
     "metadata": {},
     "output_type": "execute_result"
    }
   ],
   "source": [
    "import pandas as pd\n",
    "dados = {\n",
    "    'Nome': ['Ana', 'Bruno', 'Carlos'],\n",
    "    'Idade': [25, 30, 35],\n",
    "    'Cidade': ['Curitiba', 'Belém', 'Belo Horizonte']\n",
    "}\n",
    "df = pd.DataFrame(dados)\n",
    "df"
   ]
  },
  {
   "cell_type": "markdown",
   "id": "a36ecf79",
   "metadata": {},
   "source": [
    "Neste código, primeiro é realizada a importação da biblioteca Pandas com o apelido \"pd\". Em seguida, é criado um dicionário chamado \"dados\", contendo três pares chave-valor que representam, respectivamente, nomes, idades e cidades de três indivíduos. Por fim, o dicionário é convertido em um DataFrame do Pandas e armazenado na variável \"df\". Assim, o DataFrame \"df\" organiza as informações presentes no dicionário \"dados\" em forma de tabela, facilitando análises e manipulações posteriores dos dados. \n",
    "\n",
    "Criação de um DataFrame a partir de uma lista:"
   ]
  },
  {
   "cell_type": "code",
   "execution_count": 22,
   "id": "a69967ec",
   "metadata": {},
   "outputs": [],
   "source": [
    "nome = ['Ana', 'Bruno', 'Carlos']\n",
    "idade = [25, 30, 35]\n",
    "cidade = ['Curitiba', 'Belém', 'Belo Horizonte']\n",
    "df = pd.DataFrame(list(zip(nome, idade, cidade)), columns=['Nome', 'Idade', 'Cidade'])"
   ]
  },
  {
   "cell_type": "markdown",
   "id": "3c80fc34",
   "metadata": {},
   "source": [
    "Neste código, são definidas três listas: \"nome\", \"idade\" e \"cidade\", que contêm, respectivamente, os nomes, idades e cidades de três indivíduos. A função zip é usada para agrupar os elementos correspondentes dessas três listas em tuplas. A função list converte o resultado do zip em uma lista de tuplas, onde cada tupla contém um nome, uma idade e uma cidade. Finalmente, essa lista de tuplas é convertida em um DataFrame, com as colunas nomeadas como 'Nome', 'Idade' e 'Cidade'. O resultado é armazenado na variável \"df\".\n",
    "\n",
    "\n",
    "Criação de DataFrames a partir de arquivos:\n",
    "\n",
    "No contexto do Geoprocessamento, frequentemente lidamos com vastas quantidades de informações armazenadas em diferentes formatos de arquivos, como CSV, Excel, entre outros. A criação de DataFrames a partir de arquivos permite acessar, visualizar e trabalhar com os dados de uma maneira mais organizada e intuitiva. Veremos como criar DataFrames a partir de arquivos externos mais adiante em nosso curso.\n",
    "    \n",
    "    \n",
    "\n",
    "## 3.2 Manipulação e Seleção de Dados\n",
    "\n",
    "### 3.2.1 Seleção e filtragem em DataFrames\n",
    "\n",
    "Ao trabalhar com DataFrames no Pandas, uma habilidade importante é a capacidade de selecionar e filtrar dados de forma eficaz. Dado que um DataFrame pode conter grandes quantidades de dados, frequentemente precisamos isolar subconjuntos específicos desses dados para análises mais detalhadas ou operações subsequentes. Seja para extrair colunas específicas, selecionar linhas baseadas em critérios definidos ou combinar ambos os métodos, o Pandas oferece uma variedade de ferramentas intuitivas que tornam essas tarefas simples e diretas.\n",
    "\n",
    "Estudaremos a seleção e a filtragem de dados no Pandas a partir de exemplos. Vamos começar criando um conjunto de dados (DataFrame):"
   ]
  },
  {
   "cell_type": "code",
   "execution_count": 23,
   "id": "2f973a9e",
   "metadata": {},
   "outputs": [],
   "source": [
    "dados = {\n",
    "    'País': ['Brasil', 'Argentina', 'Chile', 'Uruguai', 'Paraguai', 'Bolívia'],\n",
    "    'População': [211050000, 45195777, 19116201, 3473727, 7044636, 11513100],\n",
    "    'Área': [8515767, 2780400, 756102, 176215, 406752, 1098581],  # em km^2\n",
    "    'PIB (2020)': [2.055, 0.389, 0.282, 0.056, 0.038, 0.034]  # PIB em \n",
    "    # trilhões de dólares para 2020 (valores aproximados)\n",
    "}\n",
    "\n",
    "df = pd.DataFrame(dados)"
   ]
  },
  {
   "cell_type": "code",
   "execution_count": 24,
   "id": "009efdc2",
   "metadata": {},
   "outputs": [
    {
     "name": "stdout",
     "output_type": "stream",
     "text": [
      "        País  População     Área  PIB (2020)\n",
      "0     Brasil  211050000  8515767        2.06\n",
      "1  Argentina   45195777  2780400        0.39\n",
      "2      Chile   19116201   756102        0.28\n",
      "3    Uruguai    3473727   176215        0.06\n",
      "4   Paraguai    7044636   406752        0.04\n",
      "5    Bolívia   11513100  1098581        0.03\n"
     ]
    }
   ],
   "source": [
    "# Exibindo o DataFrame\n",
    "print(df)"
   ]
  },
  {
   "cell_type": "markdown",
   "id": "6d1c9cd3",
   "metadata": {},
   "source": [
    "*Selecionar colunas e linhas específicas*\n",
    "\n",
    "Para selecionar uma única coluna, você pode usar a notação de colchetes com o nome da coluna."
   ]
  },
  {
   "cell_type": "code",
   "execution_count": 25,
   "id": "16569fb2",
   "metadata": {},
   "outputs": [
    {
     "name": "stdout",
     "output_type": "stream",
     "text": [
      "0       Brasil\n",
      "1    Argentina\n",
      "2        Chile\n",
      "3      Uruguai\n",
      "4     Paraguai\n",
      "5      Bolívia\n",
      "Name: País, dtype: object\n"
     ]
    }
   ],
   "source": [
    "# Selecionando apenas a coluna 'País'\n",
    "paises = df['País']\n",
    "print(paises)"
   ]
  },
  {
   "cell_type": "markdown",
   "id": "bf82fd83",
   "metadata": {},
   "source": [
    "Para selecionar várias colunas, você pode passar uma lista com os nomes das colunas desejadas:"
   ]
  },
  {
   "cell_type": "code",
   "execution_count": 26,
   "id": "fc99a58c",
   "metadata": {},
   "outputs": [
    {
     "name": "stdout",
     "output_type": "stream",
     "text": [
      "        País  PIB (2020)\n",
      "0     Brasil        2.06\n",
      "1  Argentina        0.39\n",
      "2      Chile        0.28\n",
      "3    Uruguai        0.06\n",
      "4   Paraguai        0.04\n",
      "5    Bolívia        0.03\n"
     ]
    }
   ],
   "source": [
    "# Selecionando as colunas 'País' e 'PIB (2020)'\n",
    "paises_pib = df[['País', 'PIB (2020)']]\n",
    "print(paises_pib)"
   ]
  },
  {
   "cell_type": "markdown",
   "id": "4d0de4c8",
   "metadata": {},
   "source": [
    "- Usando o método .iloc:\n",
    "\n",
    "O método iloc do Pandas permite selecionar linhas e colunas em um DataFrame usando índices numéricos. É uma abordagem baseada em posição, o que significa que você se refere às linhas e colunas por seus índices numéricos.\n",
    "\n",
    "Para selecionar uma única linha, você pode usar a notação de colchetes com o índice da linha."
   ]
  },
  {
   "cell_type": "code",
   "execution_count": 27,
   "id": "ee6f75d4",
   "metadata": {},
   "outputs": [
    {
     "name": "stdout",
     "output_type": "stream",
     "text": [
      "País             Chile\n",
      "População     19116201\n",
      "Área            756102\n",
      "PIB (2020)        0.28\n",
      "Name: 2, dtype: object\n"
     ]
    }
   ],
   "source": [
    "# Selecionando a terceira linha (índice 2)\n",
    "linha3 = df.iloc[2]\n",
    "print(linha3)"
   ]
  },
  {
   "cell_type": "markdown",
   "id": "85f21139",
   "metadata": {},
   "source": [
    "Você pode selecionar várias linhas passando uma lista de índices ou um intervalo de índices. Por exemplo, selecionar as três primeiras linhas do DataFrame:"
   ]
  },
  {
   "cell_type": "code",
   "execution_count": 28,
   "id": "89802ec1",
   "metadata": {},
   "outputs": [
    {
     "name": "stdout",
     "output_type": "stream",
     "text": [
      "        País  População     Área  PIB (2020)\n",
      "0     Brasil  211050000  8515767        2.06\n",
      "1  Argentina   45195777  2780400        0.39\n",
      "2      Chile   19116201   756102        0.28\n"
     ]
    }
   ],
   "source": [
    "primeiras_tres = df.iloc[0:3]\n",
    "print(primeiras_tres)"
   ]
  },
  {
   "cell_type": "markdown",
   "id": "857616b2",
   "metadata": {},
   "source": [
    "Para selecionar linhas com índices específicos:"
   ]
  },
  {
   "cell_type": "code",
   "execution_count": 29,
   "id": "3a12b8cf",
   "metadata": {},
   "outputs": [
    {
     "name": "stdout",
     "output_type": "stream",
     "text": [
      "        País  População     Área  PIB (2020)\n",
      "1  Argentina   45195777  2780400        0.39\n",
      "3    Uruguai    3473727   176215        0.06\n",
      "5    Bolívia   11513100  1098581        0.03\n"
     ]
    }
   ],
   "source": [
    "linhas_especificas = df.iloc[[1, 3, 5]]\n",
    "print(linhas_especificas)"
   ]
  },
  {
   "cell_type": "markdown",
   "id": "d2ffee25",
   "metadata": {},
   "source": [
    "*Selecionando Linhas e Colunas Simultaneamente*\n",
    "\n",
    "Com iloc, você também pode selecionar linhas e colunas específicas ao mesmo tempo. Para selecionar uma coluna específica utilizando o método iloc, é necessário fornecer os índices das linhas e da coluna desejada. Se você deseja selecionar toda a coluna \"País\", por exemplo, pode fazer o seguinte:"
   ]
  },
  {
   "cell_type": "code",
   "execution_count": 30,
   "id": "93d72da3",
   "metadata": {},
   "outputs": [
    {
     "name": "stdout",
     "output_type": "stream",
     "text": [
      "0       Brasil\n",
      "1    Argentina\n",
      "2        Chile\n",
      "3      Uruguai\n",
      "4     Paraguai\n",
      "5      Bolívia\n",
      "Name: País, dtype: object\n"
     ]
    }
   ],
   "source": [
    "coluna_pais = df.iloc[:, 0]\n",
    "print(coluna_pais)"
   ]
  },
  {
   "cell_type": "markdown",
   "id": "3fedba86",
   "metadata": {},
   "source": [
    "Neste código, ``` df.iloc[:, 0] ``` seleciona todas as linhas (indicado pelo “:”) da primeira coluna (índice 0).\n",
    "\n",
    "Se você quiser especificar tanto as linhas quanto as colunas a serem selecionados, usando o iloc:"
   ]
  },
  {
   "cell_type": "code",
   "execution_count": 31,
   "id": "eeb6b02b",
   "metadata": {},
   "outputs": [
    {
     "name": "stdout",
     "output_type": "stream",
     "text": [
      "        País  PIB (2020)\n",
      "1  Argentina        0.39\n",
      "2      Chile        0.28\n",
      "3    Uruguai        0.06\n"
     ]
    }
   ],
   "source": [
    "selecao = df.iloc[1:4, [0, 3]]\n",
    "print(selecao)"
   ]
  },
  {
   "cell_type": "markdown",
   "id": "d4e4fcc9",
   "metadata": {},
   "source": [
    "- Usando loc (por índices etiquetados ou nomes de colunas)\n",
    "\n",
    "O método loc do Pandas é usado para selecionar linhas e colunas por seus índices etiquetados (ou rótulos) e nomes de colunas, ao contrário do iloc, que usa índices numéricos. Vamos ver como usar o loc com o nosso DataFrame.\n",
    "\n",
    "Inicialmente, vamos alterar o DataFrame que utilizamos no estudo do método ‘iloc’, definindo como índice etiquetado (rótulo) o nome do país:"
   ]
  },
  {
   "cell_type": "code",
   "execution_count": 32,
   "id": "ede28ebf",
   "metadata": {},
   "outputs": [
    {
     "name": "stdout",
     "output_type": "stream",
     "text": [
      "           População     Área  PIB (2020)\n",
      "País                                     \n",
      "Brasil     211050000  8515767        2.06\n",
      "Argentina   45195777  2780400        0.39\n",
      "Chile       19116201   756102        0.28\n",
      "Uruguai      3473727   176215        0.06\n",
      "Paraguai     7044636   406752        0.04\n",
      "Bolívia     11513100  1098581        0.03\n"
     ]
    }
   ],
   "source": [
    "df.set_index('País', inplace=True)\n",
    "print(df)"
   ]
  },
  {
   "cell_type": "markdown",
   "id": "d0e21b7a",
   "metadata": {},
   "source": [
    "O método set_index do DataFrame é usado para definir uma coluna como índice (ou rótulo de linha) do DataFrame. O argumento que você fornece a este método especifica a coluna que você deseja usar como índice. Aqui, estamos indicando que queremos definir a coluna 'País' como o índice do DataFrame df. Quando inplace é definido como True, a operação modifica o DataFrame original e não retorna um novo DataFrame. Se inplace for False (ou não fornecido), a operação retornará um novo DataFrame com a alteração, e o DataFrame original não será modificado.\n",
    "\n",
    "\n",
    "- Selecionando uma Única Linha\n",
    "\n",
    "Exemplo: Selecionar a linha com índice 'Brasil'."
   ]
  },
  {
   "cell_type": "code",
   "execution_count": 33,
   "id": "0c63e8e4",
   "metadata": {},
   "outputs": [
    {
     "name": "stdout",
     "output_type": "stream",
     "text": [
      "População    211050000.00\n",
      "Área           8515767.00\n",
      "PIB (2020)           2.06\n",
      "Name: Brasil, dtype: float64\n"
     ]
    }
   ],
   "source": [
    "linha_brasil = df.loc['Brasil']\n",
    "print(linha_brasil)"
   ]
  },
  {
   "cell_type": "markdown",
   "id": "a0934000",
   "metadata": {},
   "source": [
    "Selecionando Múltiplas Linhas\n",
    "\n",
    "Exemplo: Selecionar as linhas com índices 'Brasil', 'Argentina' e 'Chile'."
   ]
  },
  {
   "cell_type": "code",
   "execution_count": 34,
   "id": "4d5998d6",
   "metadata": {},
   "outputs": [
    {
     "name": "stdout",
     "output_type": "stream",
     "text": [
      "           População     Área  PIB (2020)\n",
      "País                                     \n",
      "Brasil     211050000  8515767        2.06\n",
      "Argentina   45195777  2780400        0.39\n",
      "Chile       19116201   756102        0.28\n"
     ]
    }
   ],
   "source": [
    "linhas_selecionadas = df.loc[['Brasil', 'Argentina', 'Chile']]\n",
    "print(linhas_selecionadas)"
   ]
  },
  {
   "cell_type": "markdown",
   "id": "c37d63ed",
   "metadata": {},
   "source": [
    "Selecionando Linhas e Colunas Simultaneamente\n",
    "\n",
    "Exemplo: Selecionar as linhas 'Brasil' e 'Argentina' e as colunas 'População' e 'PIB (2020)'."
   ]
  },
  {
   "cell_type": "code",
   "execution_count": 35,
   "id": "7fada2f9",
   "metadata": {},
   "outputs": [
    {
     "name": "stdout",
     "output_type": "stream",
     "text": [
      "           População  PIB (2020)\n",
      "País                            \n",
      "Brasil     211050000        2.06\n",
      "Argentina   45195777        0.39\n"
     ]
    }
   ],
   "source": [
    "selecao = df.loc[['Brasil', 'Argentina'], ['População', 'PIB (2020)']]\n",
    "print(selecao)"
   ]
  },
  {
   "cell_type": "markdown",
   "id": "bc9a093a",
   "metadata": {},
   "source": [
    "Selecionando Todas as Linhas de Colunas Específicas\n",
    "\n",
    "Exemplo: Selecionar todas as linhas e apenas a coluna 'Área'."
   ]
  },
  {
   "cell_type": "code",
   "execution_count": 36,
   "id": "72a7649a",
   "metadata": {},
   "outputs": [
    {
     "name": "stdout",
     "output_type": "stream",
     "text": [
      "País\n",
      "Brasil       8515767\n",
      "Argentina    2780400\n",
      "Chile         756102\n",
      "Uruguai       176215\n",
      "Paraguai      406752\n",
      "Bolívia      1098581\n",
      "Name: Área, dtype: int64\n"
     ]
    }
   ],
   "source": [
    "coluna_area = df.loc[:, 'Área']\n",
    "print(coluna_area)"
   ]
  },
  {
   "cell_type": "markdown",
   "id": "06097a10",
   "metadata": {},
   "source": [
    "*Filtragem de dados com base em condições*\n",
    "\n",
    "Com o Pandas, é possível filtrar um DataFrame baseado em condições específicas aplicadas às colunas.\n",
    "\n",
    "A filtragem de dados baseada em condições é uma das operações mais comuns ao trabalhar com DataFrames no Pandas. Isso permite que você selecione subconjuntos de dados que atendam a critérios específicos. Vamos explorar como fazer isso.\n",
    "\n",
    "Vamos utilizar o DataFrame que tem os rótulos das linhas numerados, mas resetando o seu índice."
   ]
  },
  {
   "cell_type": "code",
   "execution_count": 37,
   "id": "4b7d9d2c",
   "metadata": {},
   "outputs": [
    {
     "data": {
      "text/html": [
       "<div>\n",
       "<style scoped>\n",
       "    .dataframe tbody tr th:only-of-type {\n",
       "        vertical-align: middle;\n",
       "    }\n",
       "\n",
       "    .dataframe tbody tr th {\n",
       "        vertical-align: top;\n",
       "    }\n",
       "\n",
       "    .dataframe thead th {\n",
       "        text-align: right;\n",
       "    }\n",
       "</style>\n",
       "<table border=\"1\" class=\"dataframe\">\n",
       "  <thead>\n",
       "    <tr style=\"text-align: right;\">\n",
       "      <th></th>\n",
       "      <th>País</th>\n",
       "      <th>População</th>\n",
       "      <th>Área</th>\n",
       "      <th>PIB (2020)</th>\n",
       "    </tr>\n",
       "  </thead>\n",
       "  <tbody>\n",
       "    <tr>\n",
       "      <th>0</th>\n",
       "      <td>Brasil</td>\n",
       "      <td>211050000</td>\n",
       "      <td>8515767</td>\n",
       "      <td>2.06</td>\n",
       "    </tr>\n",
       "    <tr>\n",
       "      <th>1</th>\n",
       "      <td>Argentina</td>\n",
       "      <td>45195777</td>\n",
       "      <td>2780400</td>\n",
       "      <td>0.39</td>\n",
       "    </tr>\n",
       "    <tr>\n",
       "      <th>2</th>\n",
       "      <td>Chile</td>\n",
       "      <td>19116201</td>\n",
       "      <td>756102</td>\n",
       "      <td>0.28</td>\n",
       "    </tr>\n",
       "    <tr>\n",
       "      <th>3</th>\n",
       "      <td>Uruguai</td>\n",
       "      <td>3473727</td>\n",
       "      <td>176215</td>\n",
       "      <td>0.06</td>\n",
       "    </tr>\n",
       "    <tr>\n",
       "      <th>4</th>\n",
       "      <td>Paraguai</td>\n",
       "      <td>7044636</td>\n",
       "      <td>406752</td>\n",
       "      <td>0.04</td>\n",
       "    </tr>\n",
       "    <tr>\n",
       "      <th>5</th>\n",
       "      <td>Bolívia</td>\n",
       "      <td>11513100</td>\n",
       "      <td>1098581</td>\n",
       "      <td>0.03</td>\n",
       "    </tr>\n",
       "  </tbody>\n",
       "</table>\n",
       "</div>"
      ],
      "text/plain": [
       "        País  População     Área  PIB (2020)\n",
       "0     Brasil  211050000  8515767        2.06\n",
       "1  Argentina   45195777  2780400        0.39\n",
       "2      Chile   19116201   756102        0.28\n",
       "3    Uruguai    3473727   176215        0.06\n",
       "4   Paraguai    7044636   406752        0.04\n",
       "5    Bolívia   11513100  1098581        0.03"
      ]
     },
     "execution_count": 37,
     "metadata": {},
     "output_type": "execute_result"
    }
   ],
   "source": [
    "df.reset_index(inplace=True)\n",
    "df"
   ]
  },
  {
   "cell_type": "markdown",
   "id": "5a71b347",
   "metadata": {},
   "source": [
    "Filtragem Simples\n",
    "\n",
    "Exemplo: selecionar todos os países com uma população maior que 10 milhões."
   ]
  },
  {
   "cell_type": "code",
   "execution_count": 38,
   "id": "99439f93",
   "metadata": {},
   "outputs": [
    {
     "name": "stdout",
     "output_type": "stream",
     "text": [
      "        País  População     Área  PIB (2020)\n",
      "0     Brasil  211050000  8515767        2.06\n",
      "1  Argentina   45195777  2780400        0.39\n",
      "2      Chile   19116201   756102        0.28\n",
      "5    Bolívia   11513100  1098581        0.03\n"
     ]
    }
   ],
   "source": [
    "paises_10M = df[df['População'] > 10000000]\n",
    "print(paises_10M)"
   ]
  },
  {
   "cell_type": "markdown",
   "id": "f4356417",
   "metadata": {},
   "source": [
    "Usando Múltiplas Condições:\n",
    "\n",
    "Se você quiser combinar várias condições, pode usar os operadores “&” (e), “|” (ou) e “ ~ ” (não). Lembre-se de colocar cada condição entre parênteses.\n",
    "\n",
    "Por exemplo, para selecionar países com uma população maior que 15 milhões e uma área menor que 1 milhão de km2:"
   ]
  },
  {
   "cell_type": "code",
   "execution_count": 39,
   "id": "9e9618a6",
   "metadata": {},
   "outputs": [
    {
     "name": "stdout",
     "output_type": "stream",
     "text": [
      "    País  População    Área  PIB (2020)\n",
      "2  Chile   19116201  756102        0.28\n"
     ]
    }
   ],
   "source": [
    "filtro = (df['População'] > 15000000) & (df['Área'] < 1000000)\n",
    "paises_filtrados = df[filtro]\n",
    "print(paises_filtrados)"
   ]
  },
  {
   "cell_type": "markdown",
   "id": "7d4b9dda",
   "metadata": {},
   "source": [
    "Usando o Método isin:\n",
    "\n",
    "Se você quiser filtrar com base em uma lista de valores, pode usar o método isin. Por exemplo, para selecionar países que estão na lista ``` ['Brasil', 'Argentina', 'Chile']:```"
   ]
  },
  {
   "cell_type": "code",
   "execution_count": 40,
   "id": "8598bddc",
   "metadata": {},
   "outputs": [
    {
     "name": "stdout",
     "output_type": "stream",
     "text": [
      "        País  População     Área  PIB (2020)\n",
      "0     Brasil  211050000  8515767        2.06\n",
      "1  Argentina   45195777  2780400        0.39\n",
      "2      Chile   19116201   756102        0.28\n"
     ]
    }
   ],
   "source": [
    "paises_lista = df[df['País'].isin(['Brasil', 'Argentina', 'Chile'])]\n",
    "print(paises_lista)"
   ]
  },
  {
   "cell_type": "markdown",
   "id": "7f160256",
   "metadata": {},
   "source": [
    "Filtragem com query\n",
    "\n",
    "O método query permite filtrar usando uma string de consulta, o que pode ser mais legível em algumas situações. Por exemplo, para selecionar países com uma área menor que 500.000 km2:"
   ]
  },
  {
   "cell_type": "code",
   "execution_count": 41,
   "id": "2373c5fc",
   "metadata": {},
   "outputs": [
    {
     "name": "stdout",
     "output_type": "stream",
     "text": [
      "       País  População    Área  PIB (2020)\n",
      "3   Uruguai    3473727  176215        0.06\n",
      "4  Paraguai    7044636  406752        0.04\n"
     ]
    }
   ],
   "source": [
    "paises_grandes_query = df.query('Área < 500000')\n",
    "print(paises_grandes_query)"
   ]
  },
  {
   "cell_type": "markdown",
   "id": "a207b72c",
   "metadata": {},
   "source": [
    "### 3.2.2 Manipulação de Dados em DataFrames\n",
    "\n",
    "A manipulação de dados é uma das principais funcionalidades oferecidas pelo Pandas. Com ela, é possível realizar uma ampla variedade de operações para transformar, limpar e analisar seus conjuntos de dados.\n",
    "\n",
    "\n",
    "*Alterando um valor específico*\n",
    "\n",
    "Para alterar um valor específico, você pode usar loc ou iloc. Exemplo:\n",
    "\n",
    "Alterar a população do Brasil para 203.062.215:"
   ]
  },
  {
   "cell_type": "code",
   "execution_count": 42,
   "id": "b84a80e5",
   "metadata": {},
   "outputs": [],
   "source": [
    "df.loc[df['País'] == 'Brasil', 'População'] = 203062512"
   ]
  },
  {
   "cell_type": "markdown",
   "id": "2875e3ca",
   "metadata": {},
   "source": [
    "*Alterando valores com base em uma condição*\n",
    "\n",
    "Você pode combinar a filtragem de dados com a atribuição para alterar valores com base em uma condição:"
   ]
  },
  {
   "cell_type": "code",
   "execution_count": 43,
   "id": "37cd6780",
   "metadata": {},
   "outputs": [],
   "source": [
    "df.loc[df['População'] > 15000000, 'PIB (2020)'] += 0.1"
   ]
  },
  {
   "cell_type": "markdown",
   "id": "85b571fc",
   "metadata": {},
   "source": [
    "Neste exemplo, estamos aumentando o PIB (2020) em 100 bilhões (lembrando que o PIB registrado no DataFrame original está em trilhões de dólares) para todos os países com uma população superior a 15 milhões.\n",
    "\n",
    "\n",
    "*Usando o método replace*\n",
    "\n",
    "O método replace é usado para substituir valores específicos. Por exemplo, substituir o nome “Brasil” por “República Federativa do Brasil”:"
   ]
  },
  {
   "cell_type": "code",
   "execution_count": 44,
   "id": "1dd6db4f",
   "metadata": {},
   "outputs": [],
   "source": [
    "df['País'] = df['País'].replace('Brasil', 'República Federativa do Brasil')"
   ]
  },
  {
   "cell_type": "markdown",
   "id": "45daedce",
   "metadata": {},
   "source": [
    "*Alterando valores usando uma função com apply*\n",
    "\n",
    "O método apply permite aplicar uma função a cada elemento de uma coluna ou linha. Por exemplo, aumentar a população de todos os países em 5%:"
   ]
  },
  {
   "cell_type": "code",
   "execution_count": 45,
   "id": "9a9ac851",
   "metadata": {},
   "outputs": [],
   "source": [
    "df['População'] = df['População'].apply(lambda x: int(x * 1.05))"
   ]
  },
  {
   "cell_type": "markdown",
   "id": "82456c35",
   "metadata": {},
   "source": [
    "Neste exemplo, estamos multiplicando a população de cada país por 1.05, o que resulta em um aumento de 5% na população original.\n",
    "\n",
    "\n",
    "*Redefinindo valores de uma coluna inteira*\n",
    "\n",
    "Por exemplo, redefinir todos os valores da coluna PIB (2020) para zero:"
   ]
  },
  {
   "cell_type": "code",
   "execution_count": 46,
   "id": "0a9365e4",
   "metadata": {},
   "outputs": [],
   "source": [
    "df['PIB (2020)'] = 0"
   ]
  },
  {
   "cell_type": "markdown",
   "id": "604e3e32",
   "metadata": {},
   "source": [
    "Estes são apenas alguns exemplos básicos de como alterar valores em um DataFrame do Pandas. A biblioteca oferece uma ampla variedade de métodos e funcionalidades que permitem manipular e transformar dados de maneira eficiente.\n",
    "\n",
    "\n",
    "*Adicionando e removendo colunas*\n",
    "\n",
    "Em muitas situações de análise e manipulação de dados, é comum a necessidade de ajustar a estrutura dos conjuntos de dados para melhor atender aos requisitos do projeto. No contexto dos DataFrames do Pandas, essa flexibilidade é amplamente facilitada através de métodos que permitem adicionar novas colunas, seja com base em cálculos, combinações ou informações externas, bem como remover colunas que podem não ser relevantes para a análise subsequente. Vamos aplicar alguns dos principais métodos a partir de exemplos:\n",
    "\n",
    "\n",
    "Adicionar uma nova coluna:\n",
    "\n",
    "\tPara adicionar uma nova coluna com valores padrão:"
   ]
  },
  {
   "cell_type": "code",
   "execution_count": 47,
   "id": "bc3001b4",
   "metadata": {},
   "outputs": [],
   "source": [
    "df['NovaColuna'] = 'Valor Padrão'"
   ]
  },
  {
   "cell_type": "code",
   "execution_count": 48,
   "id": "42f0ab11",
   "metadata": {},
   "outputs": [],
   "source": [
    "df['Continente'] = 'América do Sul'"
   ]
  },
  {
   "cell_type": "markdown",
   "id": "0c2cdda2",
   "metadata": {},
   "source": [
    "Remover uma coluna:\n",
    "\n",
    "Para remover uma coluna:"
   ]
  },
  {
   "cell_type": "code",
   "execution_count": 49,
   "id": "4a88a6f1",
   "metadata": {},
   "outputs": [],
   "source": [
    "df.drop('Continente', axis=1, inplace=True)"
   ]
  },
  {
   "cell_type": "markdown",
   "id": "d5167591",
   "metadata": {},
   "source": [
    "O método drop do Pandas é usado para remover linhas ou colunas de um DataFrame. No código fornecido, o método está sendo aplicado para remover uma coluna:\n",
    "\n",
    "'Continente': é o nome da coluna que você deseja remover.\n",
    "\n",
    "‘axis=1: especifica que a operação deve ser realizada nas colunas. Se você estivesse removendo uma linha, usaria axis=0.\n",
    "\n",
    "inplace=True: essa opção significa que a alteração será aplicada diretamente no DataFrame df, sem necessidade de reatribuição. Se inplace fosse definido como False (ou omitido, já que o padrão é False), o método retornaria um novo DataFrame com a coluna removida, mas o DataFrame original df permaneceria inalterado.\n",
    "\n",
    "\n",
    "Adicionar uma coluna com base em outras colunas\n",
    "\n",
    "Exemplo 1: adicionar uma coluna que seja a razão entre a população e a área."
   ]
  },
  {
   "cell_type": "code",
   "execution_count": 50,
   "id": "ceaf6b6c",
   "metadata": {},
   "outputs": [],
   "source": [
    "df['Densidade_populacional'] = df['População'] / df['Área']"
   ]
  },
  {
   "cell_type": "markdown",
   "id": "5e17bf49",
   "metadata": {},
   "source": [
    "Exemplo 2: Adicionar uma coluna que seja a relação entre o PIB e o número de habitantes:"
   ]
  },
  {
   "cell_type": "code",
   "execution_count": 51,
   "id": "4fcdb4c4",
   "metadata": {},
   "outputs": [],
   "source": [
    "df['Renda Per Capita'] = df['PIB (2020)'] * 1e12 / df['População']"
   ]
  },
  {
   "cell_type": "markdown",
   "id": "71ab577b",
   "metadata": {},
   "source": [
    "Remover múltiplas colunas\n",
    "\n",
    "\tPara remover várias colunas:"
   ]
  },
  {
   "cell_type": "code",
   "execution_count": 52,
   "id": "a326b639",
   "metadata": {},
   "outputs": [],
   "source": [
    "df.drop(['Densidade_populacional', 'Renda Per Capita'], axis=1, inplace=True)"
   ]
  },
  {
   "cell_type": "markdown",
   "id": "0131f346",
   "metadata": {},
   "source": [
    "Adicionar colunas usando assign\n",
    "\n",
    "\tO método assign permite adicionar uma ou mais colunas ao DataFrame:"
   ]
  },
  {
   "cell_type": "code",
   "execution_count": 53,
   "id": "14a83a5c",
   "metadata": {},
   "outputs": [],
   "source": [
    "df = df.assign(\n",
    "    Densidade_Populacional = df['População'] / df['Área'],\n",
    "    PIB_Per_Capita = df['PIB (2020)'] * 1e12 / df['População']\n",
    ")"
   ]
  },
  {
   "cell_type": "markdown",
   "id": "1fe258a8",
   "metadata": {},
   "source": [
    "Adicionar colunas em locais específicos\n",
    "\n",
    "\tPara adicionar uma coluna em uma posição específica, é possível usar o método insert:"
   ]
  },
  {
   "cell_type": "code",
   "execution_count": 54,
   "id": "6a5ed81b",
   "metadata": {},
   "outputs": [],
   "source": [
    "df.insert(loc=1, column='Continente', value='América do Sul')"
   ]
  },
  {
   "cell_type": "markdown",
   "id": "bcdd8e12",
   "metadata": {},
   "source": [
    "Os argumentos fornecidos ao método insert fazem o seguinte:\n",
    "\n",
    "- loc=1: Especifica a posição (ou índice) onde a nova coluna deve ser inserida. Neste caso, a nova coluna será inserida na posição 1 (lembrando que a indexação começa em 0). Portanto, a nova coluna será a segunda coluna no DataFrame.\n",
    "\n",
    "- column='Continente': Define o nome da nova coluna como 'Continente'.\n",
    "\n",
    "- value='América do Sul': Especifica o valor que será preenchido em todas as linhas dessa nova coluna. Aqui, todas as linhas da coluna 'Continente' terão o valor 'América do Sul'.\n",
    "\n",
    "Neste exemplo, a nova coluna foi inserida na segunda posição (lembre-se que a indexação no Python começa em zero).\n",
    "\n",
    "Estes são apenas alguns exemplos básicos de como adicionar e remover colunas em um DataFrame do Pandas. A biblioteca oferece uma ampla variedade de métodos e funcionalidades que permitem manipular e transformar dados de maneira eficiente.\n",
    "\n",
    "\n",
    "### 3.2.3 Manipulação de índices\n",
    "\n",
    "Índices são essenciais no Pandas, pois permitem acesso rápido a linhas e colunas, facilitam a organização dos dados e são úteis para operações como junções. Já utilizamos métodos para manipulação de índices nos exemplos anteriores. Nesta seção, vamos dar continuidade ao seu estudo. Para tanto, vamos utilizar o mesmo DataFrame dos exemplos anteriores:"
   ]
  },
  {
   "cell_type": "code",
   "execution_count": 55,
   "id": "dd7cd474",
   "metadata": {},
   "outputs": [],
   "source": [
    "# Dicionário de listas\n",
    "dados = {\n",
    "    'País': ['Brasil', 'Argentina', 'Chile', 'Uruguai', 'Paraguai', 'Bolívia'],\n",
    "    'População': [211050000, 45195777, 19116201, 3473727, 7044636, 11513100],\n",
    "    'Área': [8515767, 2780400, 756102, 176215, 406752, 1098581],  # em km^2\n",
    "    'PIB (2020)': [2.055, 0.389, 0.282, 0.056, 0.038, 0.034]  # PIB em \n",
    "    # trilhões de dólares para 2020 (valores aproximados)\n",
    "}\n",
    "\n",
    "df = pd.DataFrame(dados)"
   ]
  },
  {
   "cell_type": "markdown",
   "id": "b80fb35f",
   "metadata": {},
   "source": [
    "Definindo uma coluna como índice\n",
    "\n",
    "Para definir a coluna \"País\" como índice:"
   ]
  },
  {
   "cell_type": "code",
   "execution_count": 56,
   "id": "6e5d99a2",
   "metadata": {},
   "outputs": [],
   "source": [
    "df = df.set_index('País')"
   ]
  },
  {
   "cell_type": "markdown",
   "id": "23cee550",
   "metadata": {},
   "source": [
    "Renomeando índices\n",
    "\n",
    "Renomear o índice \"Uruguai\" para \"República Oriental do Uruguai\":"
   ]
  },
  {
   "cell_type": "code",
   "execution_count": 57,
   "id": "d8089180",
   "metadata": {},
   "outputs": [],
   "source": [
    "df = df.rename(index={'Uruguai': 'República Oriental do Uruguai'})"
   ]
  },
  {
   "cell_type": "markdown",
   "id": "9d3685a1",
   "metadata": {},
   "source": [
    "Selecionando linhas por índice\n",
    "\n",
    "Para selecionar os dados referentes ao Chile:"
   ]
  },
  {
   "cell_type": "code",
   "execution_count": 58,
   "id": "4987adf9",
   "metadata": {},
   "outputs": [],
   "source": [
    "chile_dados = df.loc['Chile'] "
   ]
  },
  {
   "cell_type": "markdown",
   "id": "558bb116",
   "metadata": {},
   "source": [
    "Removendo linhas por índice\n",
    "\n",
    "Para remover os dados referentes a Argentina:"
   ]
  },
  {
   "cell_type": "code",
   "execution_count": 59,
   "id": "6c7a846a",
   "metadata": {},
   "outputs": [],
   "source": [
    "df = df.drop('Argentina')"
   ]
  },
  {
   "cell_type": "markdown",
   "id": "3de03cb7",
   "metadata": {},
   "source": [
    "Verificando a existência de índices\n",
    "\n",
    "Para verificar se o Brasil está no índice:"
   ]
  },
  {
   "cell_type": "code",
   "execution_count": 60,
   "id": "f66e8e19",
   "metadata": {},
   "outputs": [
    {
     "name": "stdout",
     "output_type": "stream",
     "text": [
      "True\n"
     ]
    }
   ],
   "source": [
    "print('Brasil' in df.index)"
   ]
  },
  {
   "cell_type": "markdown",
   "id": "9cd6728f",
   "metadata": {},
   "source": [
    "Para verificar se a Argentina está no índice:"
   ]
  },
  {
   "cell_type": "code",
   "execution_count": 61,
   "id": "ff75cdb0",
   "metadata": {},
   "outputs": [
    {
     "name": "stdout",
     "output_type": "stream",
     "text": [
      "False\n"
     ]
    }
   ],
   "source": [
    "print('Argentina' in df.index)"
   ]
  },
  {
   "cell_type": "markdown",
   "id": "b9f0baf2",
   "metadata": {},
   "source": [
    "Alterando a ordem dos índices\n",
    "\n",
    "Para ordenar os países em ordem alfabética decrescente:"
   ]
  },
  {
   "cell_type": "code",
   "execution_count": 62,
   "id": "e542f987",
   "metadata": {},
   "outputs": [],
   "source": [
    "df = df.sort_index(ascending=False)"
   ]
  },
  {
   "cell_type": "markdown",
   "id": "46a076ad",
   "metadata": {},
   "source": [
    "### 3.2.4 Operações aritméticas com DataFrames\n",
    "\n",
    "As operações aritméticas com DataFrames são componentes essenciais da análise de dados. Essas operações podem ser realizadas entre colunas de um único DataFrame, entre Series e DataFrames, ou entre dois DataFrames. Abaixo, você encontrará os principais tópicos relacionados a operações aritméticas com DataFrames no Pandas:\n",
    "\n",
    "*Operações Escalares*\n",
    "\n",
    "Exemplo: Aplicar uma operação aritmética entre um DataFrame e um escalar (multiplicar todos os valores do DataFrame por 10):\n",
    " Inicialmente, vamos criar um DataFrame:"
   ]
  },
  {
   "cell_type": "code",
   "execution_count": 63,
   "id": "9b89a410",
   "metadata": {},
   "outputs": [],
   "source": [
    "df = pd.DataFrame({\n",
    "    'A': [1, 2, 3],\n",
    "    'B': [4, 5, 6]\n",
    "})"
   ]
  },
  {
   "cell_type": "markdown",
   "id": "e0effd80",
   "metadata": {},
   "source": [
    "Em seguida, aplicamos a multiplicação:"
   ]
  },
  {
   "cell_type": "code",
   "execution_count": 64,
   "id": "cca9ec57",
   "metadata": {},
   "outputs": [
    {
     "data": {
      "text/html": [
       "<div>\n",
       "<style scoped>\n",
       "    .dataframe tbody tr th:only-of-type {\n",
       "        vertical-align: middle;\n",
       "    }\n",
       "\n",
       "    .dataframe tbody tr th {\n",
       "        vertical-align: top;\n",
       "    }\n",
       "\n",
       "    .dataframe thead th {\n",
       "        text-align: right;\n",
       "    }\n",
       "</style>\n",
       "<table border=\"1\" class=\"dataframe\">\n",
       "  <thead>\n",
       "    <tr style=\"text-align: right;\">\n",
       "      <th></th>\n",
       "      <th>A</th>\n",
       "      <th>B</th>\n",
       "    </tr>\n",
       "  </thead>\n",
       "  <tbody>\n",
       "    <tr>\n",
       "      <th>0</th>\n",
       "      <td>10</td>\n",
       "      <td>40</td>\n",
       "    </tr>\n",
       "    <tr>\n",
       "      <th>1</th>\n",
       "      <td>20</td>\n",
       "      <td>50</td>\n",
       "    </tr>\n",
       "    <tr>\n",
       "      <th>2</th>\n",
       "      <td>30</td>\n",
       "      <td>60</td>\n",
       "    </tr>\n",
       "  </tbody>\n",
       "</table>\n",
       "</div>"
      ],
      "text/plain": [
       "    A   B\n",
       "0  10  40\n",
       "1  20  50\n",
       "2  30  60"
      ]
     },
     "execution_count": 64,
     "metadata": {},
     "output_type": "execute_result"
    }
   ],
   "source": [
    "df * 10  # Multiplica todos os elementos por 10"
   ]
  },
  {
   "cell_type": "markdown",
   "id": "ad7f97be",
   "metadata": {},
   "source": [
    "*Operações entre Series e DataFrames*\n",
    "\n",
    "Por padrão, ao realizar uma operação entre uma Series e um DataFrame, o Pandas tentará fazer a operação ao longo do índice (para cada linha):"
   ]
  },
  {
   "cell_type": "code",
   "execution_count": 65,
   "id": "86e39cc1",
   "metadata": {},
   "outputs": [],
   "source": [
    "df = pd.DataFrame({\n",
    "    'A': [1, 2, 3],\n",
    "    'B': [4, 5, 6]\n",
    "})"
   ]
  },
  {
   "cell_type": "code",
   "execution_count": 66,
   "id": "f806a4ca",
   "metadata": {},
   "outputs": [],
   "source": [
    "s = pd.Series([1, 2, 3], index=['A', 'B', 'C'])"
   ]
  },
  {
   "cell_type": "code",
   "execution_count": 67,
   "id": "27427a6b",
   "metadata": {},
   "outputs": [
    {
     "data": {
      "text/html": [
       "<div>\n",
       "<style scoped>\n",
       "    .dataframe tbody tr th:only-of-type {\n",
       "        vertical-align: middle;\n",
       "    }\n",
       "\n",
       "    .dataframe tbody tr th {\n",
       "        vertical-align: top;\n",
       "    }\n",
       "\n",
       "    .dataframe thead th {\n",
       "        text-align: right;\n",
       "    }\n",
       "</style>\n",
       "<table border=\"1\" class=\"dataframe\">\n",
       "  <thead>\n",
       "    <tr style=\"text-align: right;\">\n",
       "      <th></th>\n",
       "      <th>A</th>\n",
       "      <th>B</th>\n",
       "      <th>C</th>\n",
       "    </tr>\n",
       "  </thead>\n",
       "  <tbody>\n",
       "    <tr>\n",
       "      <th>0</th>\n",
       "      <td>0</td>\n",
       "      <td>2</td>\n",
       "      <td>NaN</td>\n",
       "    </tr>\n",
       "    <tr>\n",
       "      <th>1</th>\n",
       "      <td>1</td>\n",
       "      <td>3</td>\n",
       "      <td>NaN</td>\n",
       "    </tr>\n",
       "    <tr>\n",
       "      <th>2</th>\n",
       "      <td>2</td>\n",
       "      <td>4</td>\n",
       "      <td>NaN</td>\n",
       "    </tr>\n",
       "  </tbody>\n",
       "</table>\n",
       "</div>"
      ],
      "text/plain": [
       "   A  B   C\n",
       "0  0  2 NaN\n",
       "1  1  3 NaN\n",
       "2  2  4 NaN"
      ]
     },
     "execution_count": 67,
     "metadata": {},
     "output_type": "execute_result"
    }
   ],
   "source": [
    "df - s  # Subtrai a Series de cada linha do DataFrame"
   ]
  },
  {
   "cell_type": "markdown",
   "id": "6acf1ad1",
   "metadata": {},
   "source": [
    "   \n",
    "No código acima, “s” é uma Series do Pandas que contém três elementos com índices 'A', 'B' e 'C'. Ao realizar a operação “df – s”, o Pandas tentará subtrair os valores da Series “s” de cada linha do DataFrame df com base nos índices correspondentes. A subtração é feita elemento a elemento, alinhando os índices da Series com as colunas do DataFrame. Para o DataFrame df e a Series “s” fornecidos, a subtração seria:\n",
    "\n",
    "\n",
    "Observe que a coluna 'C' no resultado é preenchida com NaN (Not a Number), porque o DataFrame df não tem uma coluna 'C', e o Pandas introduz valores NaN quando não consegue encontrar um valor correspondente para a operação.\n",
    "\n",
    "\n",
    "*Operações entre DataFrames*\n",
    "\n",
    "Quando se realizam operações entre DataFrames, o Pandas alinha os DataFrames pelos índices e pelas colunas:"
   ]
  },
  {
   "cell_type": "code",
   "execution_count": 68,
   "id": "91a6a415",
   "metadata": {},
   "outputs": [],
   "source": [
    "df1 = pd.DataFrame({\n",
    "    'A': [1, 2, 3],\n",
    "    'B': [4, 5, 6]\n",
    "})"
   ]
  },
  {
   "cell_type": "code",
   "execution_count": 69,
   "id": "bdcd2910",
   "metadata": {},
   "outputs": [],
   "source": [
    "df2 = pd.DataFrame({\n",
    "    'A': [7, 8, 9],\n",
    "    'B': [10, 11, 12]\n",
    "})"
   ]
  },
  {
   "cell_type": "code",
   "execution_count": 70,
   "id": "0063eb27",
   "metadata": {},
   "outputs": [
    {
     "data": {
      "text/html": [
       "<div>\n",
       "<style scoped>\n",
       "    .dataframe tbody tr th:only-of-type {\n",
       "        vertical-align: middle;\n",
       "    }\n",
       "\n",
       "    .dataframe tbody tr th {\n",
       "        vertical-align: top;\n",
       "    }\n",
       "\n",
       "    .dataframe thead th {\n",
       "        text-align: right;\n",
       "    }\n",
       "</style>\n",
       "<table border=\"1\" class=\"dataframe\">\n",
       "  <thead>\n",
       "    <tr style=\"text-align: right;\">\n",
       "      <th></th>\n",
       "      <th>A</th>\n",
       "      <th>B</th>\n",
       "    </tr>\n",
       "  </thead>\n",
       "  <tbody>\n",
       "    <tr>\n",
       "      <th>0</th>\n",
       "      <td>8</td>\n",
       "      <td>14</td>\n",
       "    </tr>\n",
       "    <tr>\n",
       "      <th>1</th>\n",
       "      <td>10</td>\n",
       "      <td>16</td>\n",
       "    </tr>\n",
       "    <tr>\n",
       "      <th>2</th>\n",
       "      <td>12</td>\n",
       "      <td>18</td>\n",
       "    </tr>\n",
       "  </tbody>\n",
       "</table>\n",
       "</div>"
      ],
      "text/plain": [
       "    A   B\n",
       "0   8  14\n",
       "1  10  16\n",
       "2  12  18"
      ]
     },
     "execution_count": 70,
     "metadata": {},
     "output_type": "execute_result"
    }
   ],
   "source": [
    "df1 + df2  # Realiza a soma elemento a elemento"
   ]
  },
  {
   "cell_type": "markdown",
   "id": "f8472ec5",
   "metadata": {},
   "source": [
    "*Operações com Métodos Específicos*\n",
    "\n",
    "O Pandas também oferece métodos específicos que proporcionam mais controle sobre as operações aritméticas. Por exemplo, o método .add():"
   ]
  },
  {
   "cell_type": "code",
   "execution_count": 71,
   "id": "736e75d7",
   "metadata": {},
   "outputs": [
    {
     "data": {
      "text/html": [
       "<div>\n",
       "<style scoped>\n",
       "    .dataframe tbody tr th:only-of-type {\n",
       "        vertical-align: middle;\n",
       "    }\n",
       "\n",
       "    .dataframe tbody tr th {\n",
       "        vertical-align: top;\n",
       "    }\n",
       "\n",
       "    .dataframe thead th {\n",
       "        text-align: right;\n",
       "    }\n",
       "</style>\n",
       "<table border=\"1\" class=\"dataframe\">\n",
       "  <thead>\n",
       "    <tr style=\"text-align: right;\">\n",
       "      <th></th>\n",
       "      <th>A</th>\n",
       "      <th>B</th>\n",
       "    </tr>\n",
       "  </thead>\n",
       "  <tbody>\n",
       "    <tr>\n",
       "      <th>0</th>\n",
       "      <td>8</td>\n",
       "      <td>14</td>\n",
       "    </tr>\n",
       "    <tr>\n",
       "      <th>1</th>\n",
       "      <td>10</td>\n",
       "      <td>16</td>\n",
       "    </tr>\n",
       "    <tr>\n",
       "      <th>2</th>\n",
       "      <td>12</td>\n",
       "      <td>18</td>\n",
       "    </tr>\n",
       "  </tbody>\n",
       "</table>\n",
       "</div>"
      ],
      "text/plain": [
       "    A   B\n",
       "0   8  14\n",
       "1  10  16\n",
       "2  12  18"
      ]
     },
     "execution_count": 71,
     "metadata": {},
     "output_type": "execute_result"
    }
   ],
   "source": [
    "df1.add(df2, fill_value=0)  "
   ]
  },
  {
   "cell_type": "markdown",
   "id": "fcbdf473",
   "metadata": {},
   "source": [
    "Nesse código, fill_value=0 faz com que registros NaN, caso existam, sejam substituídos por 0 antes da operação. Saída:\n",
    "\n",
    "\n",
    "*Operações com Funções Agregadas*\n",
    "\n",
    "Para aplicar funções que agregam dados, como soma, média e contagem, você pode usar métodos como .sum(), .mean() e .count(), respectivamente.\n",
    "\n",
    "Para o DataFrame df:\n",
    "\n",
    "\n",
    "Aplicar:"
   ]
  },
  {
   "cell_type": "code",
   "execution_count": 72,
   "id": "5cd0cca3",
   "metadata": {},
   "outputs": [
    {
     "data": {
      "text/plain": [
       "A     6\n",
       "B    15\n",
       "dtype: int64"
      ]
     },
     "execution_count": 72,
     "metadata": {},
     "output_type": "execute_result"
    }
   ],
   "source": [
    "df.sum()"
   ]
  },
  {
   "cell_type": "markdown",
   "id": "6fa2356b",
   "metadata": {},
   "source": [
    "Aplicar:"
   ]
  },
  {
   "cell_type": "code",
   "execution_count": 73,
   "id": "42fb568a",
   "metadata": {},
   "outputs": [
    {
     "data": {
      "text/plain": [
       "A    3\n",
       "B    3\n",
       "dtype: int64"
      ]
     },
     "execution_count": 73,
     "metadata": {},
     "output_type": "execute_result"
    }
   ],
   "source": [
    "df.count()"
   ]
  },
  {
   "cell_type": "markdown",
   "id": "b29f0d85",
   "metadata": {},
   "source": [
    "Existem três registros em cada coluna.\n",
    "\n",
    "\n",
    "*Operações ao longo de um Eixo Específico*\n",
    "\n",
    "Suponha que você queira subtrair a média de cada coluna de todos os valores dessa coluna. Você pode usar o método .sub() e especificar o eixo:"
   ]
  },
  {
   "cell_type": "code",
   "execution_count": 74,
   "id": "29c572e3",
   "metadata": {},
   "outputs": [
    {
     "data": {
      "text/html": [
       "<div>\n",
       "<style scoped>\n",
       "    .dataframe tbody tr th:only-of-type {\n",
       "        vertical-align: middle;\n",
       "    }\n",
       "\n",
       "    .dataframe tbody tr th {\n",
       "        vertical-align: top;\n",
       "    }\n",
       "\n",
       "    .dataframe thead th {\n",
       "        text-align: right;\n",
       "    }\n",
       "</style>\n",
       "<table border=\"1\" class=\"dataframe\">\n",
       "  <thead>\n",
       "    <tr style=\"text-align: right;\">\n",
       "      <th></th>\n",
       "      <th>A</th>\n",
       "      <th>B</th>\n",
       "    </tr>\n",
       "  </thead>\n",
       "  <tbody>\n",
       "    <tr>\n",
       "      <th>0</th>\n",
       "      <td>-1.50</td>\n",
       "      <td>1.50</td>\n",
       "    </tr>\n",
       "    <tr>\n",
       "      <th>1</th>\n",
       "      <td>-1.50</td>\n",
       "      <td>1.50</td>\n",
       "    </tr>\n",
       "    <tr>\n",
       "      <th>2</th>\n",
       "      <td>-1.50</td>\n",
       "      <td>1.50</td>\n",
       "    </tr>\n",
       "  </tbody>\n",
       "</table>\n",
       "</div>"
      ],
      "text/plain": [
       "      A    B\n",
       "0 -1.50 1.50\n",
       "1 -1.50 1.50\n",
       "2 -1.50 1.50"
      ]
     },
     "execution_count": 74,
     "metadata": {},
     "output_type": "execute_result"
    }
   ],
   "source": [
    "df.sub(df.mean(axis=1), axis=0)"
   ]
  },
  {
   "cell_type": "markdown",
   "id": "18bf3c3c",
   "metadata": {},
   "source": [
    "Nesse código, df1.mean(axis=1) calcula a média dos valores ao longo do eixo horizontal (ao longo das colunas) para cada linha. O resultado é uma Series onde o seu índice corresponde ao índice das linhas do DataFrame df1 e os valores são as médias calculadas para cada linha.\n",
    "\n",
    "\n",
    "Continuando com o código acima, df1.sub(df1.mean(axis=1), axis=0) subtrai os valores da Series resultante da etapa anterior de cada coluna do DataFrame df1. O parâmetro axis=0 indica que a operação de subtração deve ser realizada verticalmente (ao longo das linhas). Isso significa que cada valor da Series (a média de cada linha) será subtraído de cada valor na coluna correspondente do DataFrame. P\n",
    "\n",
    "\n",
    "*Operações utilizando o método applymap*\n",
    "\n",
    "O método applymap() é usado em DataFrames do Pandas para aplicar uma função a todos os elementos do DataFrame. Ele é particularmente útil quando você deseja realizar uma operação ou transformação elemento a elemento em todo o DataFrame.\n",
    "\n",
    "Ao contrário de outros métodos, como apply(), que trabalham ao longo de eixos (linhas ou colunas), o applymap() opera em cada elemento do DataFrame, um por um. Você fornece a função que deseja aplicar como argumento para o applymap(). Esta função é então aplicada a cada elemento do DataFrame.\n",
    "\n",
    "Vamos ver um exemplo simples para ilustrar o uso do applymap(): Suponha que você tenha um DataFrame com valores numéricos e deseje formatá-los como strings com duas casas decimais:"
   ]
  },
  {
   "cell_type": "code",
   "execution_count": 75,
   "id": "8f2f457d",
   "metadata": {},
   "outputs": [],
   "source": [
    "# Criando um DataFrame de exemplo\n",
    "df = pd.DataFrame({\n",
    "    'A': [1.2345, 2.3456],\n",
    "    'B': [3.4567, 4.5678]\n",
    "})"
   ]
  },
  {
   "cell_type": "markdown",
   "id": "6d1847ec",
   "metadata": {},
   "source": [
    "Usando applymap() para formatar todos os números para duas casas decimais:"
   ]
  },
  {
   "cell_type": "code",
   "execution_count": 76,
   "id": "e75e3607",
   "metadata": {},
   "outputs": [
    {
     "data": {
      "text/html": [
       "<div>\n",
       "<style scoped>\n",
       "    .dataframe tbody tr th:only-of-type {\n",
       "        vertical-align: middle;\n",
       "    }\n",
       "\n",
       "    .dataframe tbody tr th {\n",
       "        vertical-align: top;\n",
       "    }\n",
       "\n",
       "    .dataframe thead th {\n",
       "        text-align: right;\n",
       "    }\n",
       "</style>\n",
       "<table border=\"1\" class=\"dataframe\">\n",
       "  <thead>\n",
       "    <tr style=\"text-align: right;\">\n",
       "      <th></th>\n",
       "      <th>A</th>\n",
       "      <th>B</th>\n",
       "    </tr>\n",
       "  </thead>\n",
       "  <tbody>\n",
       "    <tr>\n",
       "      <th>0</th>\n",
       "      <td>1.23</td>\n",
       "      <td>3.46</td>\n",
       "    </tr>\n",
       "    <tr>\n",
       "      <th>1</th>\n",
       "      <td>2.35</td>\n",
       "      <td>4.57</td>\n",
       "    </tr>\n",
       "  </tbody>\n",
       "</table>\n",
       "</div>"
      ],
      "text/plain": [
       "      A     B\n",
       "0  1.23  3.46\n",
       "1  2.35  4.57"
      ]
     },
     "execution_count": 76,
     "metadata": {},
     "output_type": "execute_result"
    }
   ],
   "source": [
    "df_formatado = df.applymap(lambda x: \"{:.2f}\".format(x))\n",
    "df_formatado"
   ]
  },
  {
   "cell_type": "markdown",
   "id": "2eda1d63",
   "metadata": {},
   "source": [
    "Em Series, você pode usar .map() para operações elemento a elemento ou .apply() para operações que produzem um resultado agregado.\n",
    "Lembre-se de que, quando os índices ou as colunas dos objetos envolvidos na operação não se alinham perfeitamente, o Pandas introduzirá valores NaN nos locais onde os dados estão faltando. Assim, é importante estar atento ao tratamento desses valores após operações aritméticas.\n",
    "\n",
    "\n",
    "### 3.2.5 Tratamento de dados ausentes ou faltantes\n",
    "\n",
    "O tratamento de dados ausentes é uma etapa crucial na preparação e limpeza de dados. Dados ausentes podem surgir por diversas razões, como falhas na coleta de dados, erros na entrada ou simplesmente porque a informação não estava disponível. O Pandas fornece várias ferramentas para lidar com esses valores ausentes.\n",
    "\n",
    "O tratamento adequado de dados ausentes depende do contexto e da natureza dos dados. Em alguns casos, pode ser apropriado preencher valores ausentes, enquanto em outros, pode ser melhor excluir registros ou até mesmo imputar valores com base em outras informações.\n",
    "\n",
    "Inicialmente, vamos criar um DataFrame com 4 colunas e 8 linhas, utilizando tanto valores numéricos quanto valores NaN (Not a Number) para representar dados faltantes em três das quatro colunas. Os dados faltantes serão criados utilizando np.NaN, que é uma constante especial definida na biblioteca Numpy que representa um valor \"Not a Number\". Em termos práticos, é usado para denotar a ausência de um valor ou dados faltantes em arrays e DataFrames.\n",
    "    \n",
    "Para o estudo do tratamento de dados ausentes, vamos utilizar um DataFrame criado a partir de um dicionário:"
   ]
  },
  {
   "cell_type": "code",
   "execution_count": 77,
   "id": "a3c39991",
   "metadata": {},
   "outputs": [],
   "source": [
    "import pandas as pd\n",
    "import numpy as np\n",
    "\n",
    "data = {\n",
    "    'A': [1, 2, 3, 4, 5, 6, 7, 8],\n",
    "    'B': [np.nan, 9, 10, np.nan, 12, 13, 14, np.nan],\n",
    "    'C': [16, np.nan, 18, 19, 20, np.nan, 22, 23],\n",
    "    'D': [np.nan, 25, np.nan, 27, np.nan, 29, np.nan, 31]\n",
    "}"
   ]
  },
  {
   "cell_type": "code",
   "execution_count": 78,
   "id": "fa7a4e05",
   "metadata": {},
   "outputs": [
    {
     "name": "stdout",
     "output_type": "stream",
     "text": [
      "   A     B     C     D\n",
      "0  1   NaN 16.00   NaN\n",
      "1  2  9.00   NaN 25.00\n",
      "2  3 10.00 18.00   NaN\n",
      "3  4   NaN 19.00 27.00\n",
      "4  5 12.00 20.00   NaN\n",
      "5  6 13.00   NaN 29.00\n",
      "6  7 14.00 22.00   NaN\n",
      "7  8   NaN 23.00 31.00\n"
     ]
    }
   ],
   "source": [
    "df = pd.DataFrame(data)\n",
    "print(df)"
   ]
  },
  {
   "cell_type": "markdown",
   "id": "42368360",
   "metadata": {},
   "source": [
    "*Identificação de dados ausentes*\n",
    "\n",
    "O Pandas utiliza o valor NaN (Not a Number) para representar dados ausentes. Você pode identificar esses valores usando o método isna() ou isnull(), ambos retornam o mesmo resultado: um DataFrame de mesma dimensão com valores booleanos (True ou False) indicando a presença de valores faltantes."
   ]
  },
  {
   "cell_type": "code",
   "execution_count": 79,
   "id": "a5bf9086",
   "metadata": {},
   "outputs": [
    {
     "name": "stdout",
     "output_type": "stream",
     "text": [
      "       A      B      C      D\n",
      "0  False   True  False   True\n",
      "1  False  False   True  False\n",
      "2  False  False  False   True\n",
      "3  False   True  False  False\n",
      "4  False  False  False   True\n",
      "5  False  False   True  False\n",
      "6  False  False  False   True\n",
      "7  False   True  False  False\n"
     ]
    }
   ],
   "source": [
    "print(df.isna())"
   ]
  },
  {
   "cell_type": "code",
   "execution_count": 80,
   "id": "874965cb",
   "metadata": {},
   "outputs": [
    {
     "name": "stdout",
     "output_type": "stream",
     "text": [
      "       A      B      C      D\n",
      "0  False   True  False   True\n",
      "1  False  False   True  False\n",
      "2  False  False  False   True\n",
      "3  False   True  False  False\n",
      "4  False  False  False   True\n",
      "5  False  False   True  False\n",
      "6  False  False  False   True\n",
      "7  False   True  False  False\n"
     ]
    }
   ],
   "source": [
    "print(df.isnull())"
   ]
  },
  {
   "cell_type": "markdown",
   "id": "72e42e6a",
   "metadata": {},
   "source": [
    "Para contar o número de valores faltantes por coluna:"
   ]
  },
  {
   "cell_type": "code",
   "execution_count": 81,
   "id": "802cce93",
   "metadata": {},
   "outputs": [
    {
     "name": "stdout",
     "output_type": "stream",
     "text": [
      "A    0\n",
      "B    3\n",
      "C    2\n",
      "D    4\n",
      "dtype: int64\n"
     ]
    }
   ],
   "source": [
    "print(df.isna().sum())"
   ]
  },
  {
   "cell_type": "markdown",
   "id": "03dc5991",
   "metadata": {},
   "source": [
    "Para contar o total de valores faltantes no DataFrame inteiro:"
   ]
  },
  {
   "cell_type": "code",
   "execution_count": 82,
   "id": "9fe37bd0",
   "metadata": {},
   "outputs": [
    {
     "name": "stdout",
     "output_type": "stream",
     "text": [
      "9\n"
     ]
    }
   ],
   "source": [
    "print(df.isna().sum().sum())"
   ]
  },
  {
   "cell_type": "markdown",
   "id": "3777f670",
   "metadata": {},
   "source": [
    "*Estratégias para tratamento de dados faltantes: exclusão e imputação*\n",
    "\n",
    "O tratamento de dados faltantes é uma etapa importante na análise e preparação de dados, especialmente porque a presença de valores faltantes pode distorcer análises. Existem várias estratégias para lidar com dados faltantes, e a escolha da estratégia adequada geralmente depende do contexto e da natureza dos dados. Vamos explorar duas categorias principais: exclusão e imputação.\n",
    "\n",
    "\n",
    "- Exclusão de dados ausentes\n",
    "\n",
    "A exclusão de dados ausentes em um DataFrame é uma abordagem que pode ser aplicada tanto às linhas quanto às colunas. Dependendo da natureza e da quantidade de dados ausentes, você pode optar por remover registros inteiros (linhas) ou características específicas (colunas) para manter a integridade e a qualidade dos dados analisados.\n",
    "\n",
    "A exclusão de linhas com valores faltantes é atrativa devido à sua simplicidade e rapidez de implementação. Além disso, ao evitar suposições ou imputações, a exclusão mantém a pureza dos dados. No entanto, essa abordagem não está isenta de desvantagens. A remoção de registros pode levar à perda significativa de informações, particularmente em conjuntos de dados onde a ausência de valores é comum. Adicionalmente, se os valores ausentes em um conjunto de dados não forem aleatoriamente distribuídos, a exclusão pode introduzir um viés, potencialmente levando a interpretações distorcidas ou análises imprecisas. \n",
    "\n",
    "O método .dropna() é uma função da biblioteca Pandas, utilizada para tratar dados faltantes em DataFrames. Ao aplicá-lo, todas as linhas que contêm pelo menos um valor faltante (NaN ou None) são excluídas do DataFrame. Por padrão, a operação é feita nas linhas, ou seja, se qualquer valor em uma linha for NaN ou None, toda a linha será removida. É importante notar que, a menos que o argumento inplace=True seja especificado, o método dropna() retornará um novo DataFrame com os valores faltantes removidos, sem alterar o DataFrame original.\n",
    "\n",
    "Vamos aplicar o método dropna() em nosso DataFrame df:"
   ]
  },
  {
   "cell_type": "code",
   "execution_count": 83,
   "id": "42b33c43",
   "metadata": {},
   "outputs": [
    {
     "data": {
      "text/html": [
       "<div>\n",
       "<style scoped>\n",
       "    .dataframe tbody tr th:only-of-type {\n",
       "        vertical-align: middle;\n",
       "    }\n",
       "\n",
       "    .dataframe tbody tr th {\n",
       "        vertical-align: top;\n",
       "    }\n",
       "\n",
       "    .dataframe thead th {\n",
       "        text-align: right;\n",
       "    }\n",
       "</style>\n",
       "<table border=\"1\" class=\"dataframe\">\n",
       "  <thead>\n",
       "    <tr style=\"text-align: right;\">\n",
       "      <th></th>\n",
       "      <th>A</th>\n",
       "      <th>B</th>\n",
       "      <th>C</th>\n",
       "      <th>D</th>\n",
       "    </tr>\n",
       "  </thead>\n",
       "  <tbody>\n",
       "  </tbody>\n",
       "</table>\n",
       "</div>"
      ],
      "text/plain": [
       "Empty DataFrame\n",
       "Columns: [A, B, C, D]\n",
       "Index: []"
      ]
     },
     "execution_count": 83,
     "metadata": {},
     "output_type": "execute_result"
    }
   ],
   "source": [
    "df.dropna()  # Remove linhas com qualquer valor faltante"
   ]
  },
  {
   "cell_type": "markdown",
   "id": "314b9676",
   "metadata": {},
   "source": [
    "No caso de nosso DataFrame, como havia dados faltantes em todas as linhas, em pelo menos uma coluna, todos os dados foram removidos, resultando em um DataFrame vazio.\n",
    "\n",
    "A exclusão de colunas é uma estratégia considerada quando se depara com atributos que possuem uma quantidade significativa de valores faltantes. Esta abordagem pode ser especialmente útil quando uma coluna tem uma proporção tão alta de dados ausentes que a tentativa de imputação ou interpretação se torna inviável ou pouco confiável. No entanto, optar por descartar uma coluna inteira traz o risco de perder uma característica potencialmente relevante para a análise. É crucial ponderar a relevância da informação contida na coluna e o impacto de sua perda no contexto da análise ou modelo em questão.\n",
    "\n",
    "Se você desejar remover colunas que contêm valores faltantes utilizando o método dropna(), pode usar o argumento axis=1. Ao fazer isso, todas as colunas que contêm pelo menos um valor faltante serão excluídas:"
   ]
  },
  {
   "cell_type": "code",
   "execution_count": 84,
   "id": "af78a5b2",
   "metadata": {},
   "outputs": [
    {
     "data": {
      "text/html": [
       "<div>\n",
       "<style scoped>\n",
       "    .dataframe tbody tr th:only-of-type {\n",
       "        vertical-align: middle;\n",
       "    }\n",
       "\n",
       "    .dataframe tbody tr th {\n",
       "        vertical-align: top;\n",
       "    }\n",
       "\n",
       "    .dataframe thead th {\n",
       "        text-align: right;\n",
       "    }\n",
       "</style>\n",
       "<table border=\"1\" class=\"dataframe\">\n",
       "  <thead>\n",
       "    <tr style=\"text-align: right;\">\n",
       "      <th></th>\n",
       "      <th>A</th>\n",
       "    </tr>\n",
       "  </thead>\n",
       "  <tbody>\n",
       "    <tr>\n",
       "      <th>0</th>\n",
       "      <td>1</td>\n",
       "    </tr>\n",
       "    <tr>\n",
       "      <th>1</th>\n",
       "      <td>2</td>\n",
       "    </tr>\n",
       "    <tr>\n",
       "      <th>2</th>\n",
       "      <td>3</td>\n",
       "    </tr>\n",
       "    <tr>\n",
       "      <th>3</th>\n",
       "      <td>4</td>\n",
       "    </tr>\n",
       "    <tr>\n",
       "      <th>4</th>\n",
       "      <td>5</td>\n",
       "    </tr>\n",
       "    <tr>\n",
       "      <th>5</th>\n",
       "      <td>6</td>\n",
       "    </tr>\n",
       "    <tr>\n",
       "      <th>6</th>\n",
       "      <td>7</td>\n",
       "    </tr>\n",
       "    <tr>\n",
       "      <th>7</th>\n",
       "      <td>8</td>\n",
       "    </tr>\n",
       "  </tbody>\n",
       "</table>\n",
       "</div>"
      ],
      "text/plain": [
       "   A\n",
       "0  1\n",
       "1  2\n",
       "2  3\n",
       "3  4\n",
       "4  5\n",
       "5  6\n",
       "6  7\n",
       "7  8"
      ]
     },
     "execution_count": 84,
     "metadata": {},
     "output_type": "execute_result"
    }
   ],
   "source": [
    "df.dropna(axis=1)  # Remove colunas com qualquer valor faltante"
   ]
  },
  {
   "cell_type": "markdown",
   "id": "18a70eb2",
   "metadata": {},
   "source": [
    "No caso do nosso DataFrame df, somente a coluna “A “não possuía dados faltantes. Logo, o DataFrame (agora, uma Series) resultante tem somente os dados dessa coluna.\n",
    "\n",
    "\n",
    "- Imputação\n",
    "\n",
    "A imputação é uma técnica fundamental no pré-processamento de dados para tratar valores faltantes. Dentre as abordagens mais populares para realizá-la, podemos citar: a) a imputação com valor constante; b) a imputação com média, mediana ou moda; c) a interpolação e; d) a imputação utilizando métodos avançados. Vamos detalhar essas abordagens a seguir.\n",
    "\n",
    "Imputação com Valor Constante\n",
    "\n",
    "A imputação com valor constante é uma abordagem na qual os valores faltantes são substituídos por um valor fixo, determinado previamente. Esta técnica é simples e rápida, sendo atraente em cenários onde se deseja uma solução imediata. No entanto, há ressalvas a serem consideradas. Substituir dados ausentes por um valor constante pode não refletir a realidade do conjunto de dados, especialmente se os valores ausentes não forem aleatórios. Além disso, essa estratégia pode introduzir distorções, alterando a distribuição original dos dados e potencialmente levando a interpretações errôneas.\n",
    "\n",
    "O método fillna() do Pandas é utilizado para preencher valores faltantes (representados como NaN) em um DataFrame ou Series. Vamos aplicá-lo em nosso DataFrame df:"
   ]
  },
  {
   "cell_type": "code",
   "execution_count": 85,
   "id": "1c99b9ee",
   "metadata": {},
   "outputs": [
    {
     "data": {
      "text/html": [
       "<div>\n",
       "<style scoped>\n",
       "    .dataframe tbody tr th:only-of-type {\n",
       "        vertical-align: middle;\n",
       "    }\n",
       "\n",
       "    .dataframe tbody tr th {\n",
       "        vertical-align: top;\n",
       "    }\n",
       "\n",
       "    .dataframe thead th {\n",
       "        text-align: right;\n",
       "    }\n",
       "</style>\n",
       "<table border=\"1\" class=\"dataframe\">\n",
       "  <thead>\n",
       "    <tr style=\"text-align: right;\">\n",
       "      <th></th>\n",
       "      <th>A</th>\n",
       "      <th>B</th>\n",
       "      <th>C</th>\n",
       "      <th>D</th>\n",
       "    </tr>\n",
       "  </thead>\n",
       "  <tbody>\n",
       "    <tr>\n",
       "      <th>0</th>\n",
       "      <td>1</td>\n",
       "      <td>0.00</td>\n",
       "      <td>16.00</td>\n",
       "      <td>0.00</td>\n",
       "    </tr>\n",
       "    <tr>\n",
       "      <th>1</th>\n",
       "      <td>2</td>\n",
       "      <td>9.00</td>\n",
       "      <td>0.00</td>\n",
       "      <td>25.00</td>\n",
       "    </tr>\n",
       "    <tr>\n",
       "      <th>2</th>\n",
       "      <td>3</td>\n",
       "      <td>10.00</td>\n",
       "      <td>18.00</td>\n",
       "      <td>0.00</td>\n",
       "    </tr>\n",
       "    <tr>\n",
       "      <th>3</th>\n",
       "      <td>4</td>\n",
       "      <td>0.00</td>\n",
       "      <td>19.00</td>\n",
       "      <td>27.00</td>\n",
       "    </tr>\n",
       "    <tr>\n",
       "      <th>4</th>\n",
       "      <td>5</td>\n",
       "      <td>12.00</td>\n",
       "      <td>20.00</td>\n",
       "      <td>0.00</td>\n",
       "    </tr>\n",
       "    <tr>\n",
       "      <th>5</th>\n",
       "      <td>6</td>\n",
       "      <td>13.00</td>\n",
       "      <td>0.00</td>\n",
       "      <td>29.00</td>\n",
       "    </tr>\n",
       "    <tr>\n",
       "      <th>6</th>\n",
       "      <td>7</td>\n",
       "      <td>14.00</td>\n",
       "      <td>22.00</td>\n",
       "      <td>0.00</td>\n",
       "    </tr>\n",
       "    <tr>\n",
       "      <th>7</th>\n",
       "      <td>8</td>\n",
       "      <td>0.00</td>\n",
       "      <td>23.00</td>\n",
       "      <td>31.00</td>\n",
       "    </tr>\n",
       "  </tbody>\n",
       "</table>\n",
       "</div>"
      ],
      "text/plain": [
       "   A     B     C     D\n",
       "0  1  0.00 16.00  0.00\n",
       "1  2  9.00  0.00 25.00\n",
       "2  3 10.00 18.00  0.00\n",
       "3  4  0.00 19.00 27.00\n",
       "4  5 12.00 20.00  0.00\n",
       "5  6 13.00  0.00 29.00\n",
       "6  7 14.00 22.00  0.00\n",
       "7  8  0.00 23.00 31.00"
      ]
     },
     "execution_count": 85,
     "metadata": {},
     "output_type": "execute_result"
    }
   ],
   "source": [
    "df.fillna(0)"
   ]
  },
  {
   "cell_type": "markdown",
   "id": "a255db95",
   "metadata": {},
   "source": [
    "Ao usar df.fillna(0), você está instruindo o Pandas a substituir todos os valores faltantes no DataFrame df pelo número zero. Em outras palavras, qualquer entrada que seja NaN no DataFrame original será substituída por zero na saída resultante. \n",
    "\n",
    "\n",
    "Imputação com média, mediana ou moda\n",
    "\n",
    "A utilização de métodos que levam em consideração a distribuição dos dados para tratar valores faltantes normalmente é uma opção mais refinada. Esta abordagem, que pode envolver o uso da média, mediana ou moda, tende a ser mais realista do que simplesmente substituir os valores ausentes por uma constante arbitrária, pois baseia-se na tendência central dos dados disponíveis. No entanto, nem sempre é a solução ideal. \n",
    "\n",
    "Em conjuntos de dados com distribuições altamente enviesadas ou com uma quantidade significativa de outliers (valores ou pontos em um conjunto de dados que se desviam significativamente dos outros pontos e, por isso, são considerados anômalos), essa técnica pode não ser a mais apropriada, já que a substituição de valores faltantes baseada nessas métricas pode não representar adequadamente a característica intrínseca do conjunto de dados. \n",
    "\n",
    "Vamos aplicar uma imputação com a média em nosso DataFrame df:"
   ]
  },
  {
   "cell_type": "code",
   "execution_count": 86,
   "id": "b1b23c6c",
   "metadata": {},
   "outputs": [
    {
     "data": {
      "text/html": [
       "<div>\n",
       "<style scoped>\n",
       "    .dataframe tbody tr th:only-of-type {\n",
       "        vertical-align: middle;\n",
       "    }\n",
       "\n",
       "    .dataframe tbody tr th {\n",
       "        vertical-align: top;\n",
       "    }\n",
       "\n",
       "    .dataframe thead th {\n",
       "        text-align: right;\n",
       "    }\n",
       "</style>\n",
       "<table border=\"1\" class=\"dataframe\">\n",
       "  <thead>\n",
       "    <tr style=\"text-align: right;\">\n",
       "      <th></th>\n",
       "      <th>A</th>\n",
       "      <th>B</th>\n",
       "      <th>C</th>\n",
       "      <th>D</th>\n",
       "    </tr>\n",
       "  </thead>\n",
       "  <tbody>\n",
       "    <tr>\n",
       "      <th>0</th>\n",
       "      <td>1</td>\n",
       "      <td>11.60</td>\n",
       "      <td>16.00</td>\n",
       "      <td>28.00</td>\n",
       "    </tr>\n",
       "    <tr>\n",
       "      <th>1</th>\n",
       "      <td>2</td>\n",
       "      <td>9.00</td>\n",
       "      <td>19.67</td>\n",
       "      <td>25.00</td>\n",
       "    </tr>\n",
       "    <tr>\n",
       "      <th>2</th>\n",
       "      <td>3</td>\n",
       "      <td>10.00</td>\n",
       "      <td>18.00</td>\n",
       "      <td>28.00</td>\n",
       "    </tr>\n",
       "    <tr>\n",
       "      <th>3</th>\n",
       "      <td>4</td>\n",
       "      <td>11.60</td>\n",
       "      <td>19.00</td>\n",
       "      <td>27.00</td>\n",
       "    </tr>\n",
       "    <tr>\n",
       "      <th>4</th>\n",
       "      <td>5</td>\n",
       "      <td>12.00</td>\n",
       "      <td>20.00</td>\n",
       "      <td>28.00</td>\n",
       "    </tr>\n",
       "    <tr>\n",
       "      <th>5</th>\n",
       "      <td>6</td>\n",
       "      <td>13.00</td>\n",
       "      <td>19.67</td>\n",
       "      <td>29.00</td>\n",
       "    </tr>\n",
       "    <tr>\n",
       "      <th>6</th>\n",
       "      <td>7</td>\n",
       "      <td>14.00</td>\n",
       "      <td>22.00</td>\n",
       "      <td>28.00</td>\n",
       "    </tr>\n",
       "    <tr>\n",
       "      <th>7</th>\n",
       "      <td>8</td>\n",
       "      <td>11.60</td>\n",
       "      <td>23.00</td>\n",
       "      <td>31.00</td>\n",
       "    </tr>\n",
       "  </tbody>\n",
       "</table>\n",
       "</div>"
      ],
      "text/plain": [
       "   A     B     C     D\n",
       "0  1 11.60 16.00 28.00\n",
       "1  2  9.00 19.67 25.00\n",
       "2  3 10.00 18.00 28.00\n",
       "3  4 11.60 19.00 27.00\n",
       "4  5 12.00 20.00 28.00\n",
       "5  6 13.00 19.67 29.00\n",
       "6  7 14.00 22.00 28.00\n",
       "7  8 11.60 23.00 31.00"
      ]
     },
     "execution_count": 86,
     "metadata": {},
     "output_type": "execute_result"
    }
   ],
   "source": [
    "df.fillna(df.mean())"
   ]
  },
  {
   "cell_type": "markdown",
   "id": "0f12b52c",
   "metadata": {},
   "source": [
    "Ao usar df.fillna(df.mean()), você está instruindo o Pandas a substituir todos os valores faltantes no DataFrame df pela média da respectiva coluna em que o valor faltante está localizado. Para ser mais específico, se uma coluna do DataFrame tiver algum valor faltante, esse valor será substituído pela média de todos os outros valores (não faltantes) da mesma coluna.\n",
    "\n",
    "\n",
    "- Interpolação\n",
    "\n",
    "A interpolação é especialmente útil em séries temporais ou dados sequenciais. A interpolação estima valores faltantes com base nos valores existentes antes e depois do ponto faltante. Por exemplo, em uma série temporal, se tivermos valores para os dias 1, 2 e 4, mas o dia 3 estiver faltando, a interpolação pode ser usada para estimar o valor para o dia 3 com base nos valores dos dias 2 e 4. Existem vários métodos de interpolação, desde técnicas lineares simples até métodos mais complexos, como interpolação polinomial ou spline. A escolha do método de interpolação deve ser feita considerando a natureza dos dados e o padrão subjacente que se acredita existir na sequência. Vamos aplicar a interpolação ao nosso DataFrame df:"
   ]
  },
  {
   "cell_type": "code",
   "execution_count": 87,
   "id": "9a659a52",
   "metadata": {},
   "outputs": [
    {
     "data": {
      "text/html": [
       "<div>\n",
       "<style scoped>\n",
       "    .dataframe tbody tr th:only-of-type {\n",
       "        vertical-align: middle;\n",
       "    }\n",
       "\n",
       "    .dataframe tbody tr th {\n",
       "        vertical-align: top;\n",
       "    }\n",
       "\n",
       "    .dataframe thead th {\n",
       "        text-align: right;\n",
       "    }\n",
       "</style>\n",
       "<table border=\"1\" class=\"dataframe\">\n",
       "  <thead>\n",
       "    <tr style=\"text-align: right;\">\n",
       "      <th></th>\n",
       "      <th>A</th>\n",
       "      <th>B</th>\n",
       "      <th>C</th>\n",
       "      <th>D</th>\n",
       "    </tr>\n",
       "  </thead>\n",
       "  <tbody>\n",
       "    <tr>\n",
       "      <th>0</th>\n",
       "      <td>1</td>\n",
       "      <td>NaN</td>\n",
       "      <td>16.00</td>\n",
       "      <td>NaN</td>\n",
       "    </tr>\n",
       "    <tr>\n",
       "      <th>1</th>\n",
       "      <td>2</td>\n",
       "      <td>9.00</td>\n",
       "      <td>17.00</td>\n",
       "      <td>25.00</td>\n",
       "    </tr>\n",
       "    <tr>\n",
       "      <th>2</th>\n",
       "      <td>3</td>\n",
       "      <td>10.00</td>\n",
       "      <td>18.00</td>\n",
       "      <td>26.00</td>\n",
       "    </tr>\n",
       "    <tr>\n",
       "      <th>3</th>\n",
       "      <td>4</td>\n",
       "      <td>11.00</td>\n",
       "      <td>19.00</td>\n",
       "      <td>27.00</td>\n",
       "    </tr>\n",
       "    <tr>\n",
       "      <th>4</th>\n",
       "      <td>5</td>\n",
       "      <td>12.00</td>\n",
       "      <td>20.00</td>\n",
       "      <td>28.00</td>\n",
       "    </tr>\n",
       "    <tr>\n",
       "      <th>5</th>\n",
       "      <td>6</td>\n",
       "      <td>13.00</td>\n",
       "      <td>21.00</td>\n",
       "      <td>29.00</td>\n",
       "    </tr>\n",
       "    <tr>\n",
       "      <th>6</th>\n",
       "      <td>7</td>\n",
       "      <td>14.00</td>\n",
       "      <td>22.00</td>\n",
       "      <td>30.00</td>\n",
       "    </tr>\n",
       "    <tr>\n",
       "      <th>7</th>\n",
       "      <td>8</td>\n",
       "      <td>14.00</td>\n",
       "      <td>23.00</td>\n",
       "      <td>31.00</td>\n",
       "    </tr>\n",
       "  </tbody>\n",
       "</table>\n",
       "</div>"
      ],
      "text/plain": [
       "   A     B     C     D\n",
       "0  1   NaN 16.00   NaN\n",
       "1  2  9.00 17.00 25.00\n",
       "2  3 10.00 18.00 26.00\n",
       "3  4 11.00 19.00 27.00\n",
       "4  5 12.00 20.00 28.00\n",
       "5  6 13.00 21.00 29.00\n",
       "6  7 14.00 22.00 30.00\n",
       "7  8 14.00 23.00 31.00"
      ]
     },
     "execution_count": 87,
     "metadata": {},
     "output_type": "execute_result"
    }
   ],
   "source": [
    "df.interpolate()"
   ]
  },
  {
   "cell_type": "markdown",
   "id": "01ecc3a9",
   "metadata": {},
   "source": [
    "A função interpolate() do Pandas utiliza, por padrão, um método de interpolação linear para preencher os valores NaN. No entanto, ela não consegue interpolar os valores NaN que estão nas extremidades do DataFrame (primeira e última linhas), pois não há dados adjacentes de um dos lados para calcular a interpolação.\n",
    "\n",
    "Para lidar com valores NaN nas extremidades, você pode considerar outras abordagens, como: preencher com um valor constante, preencher com a média da coluna ou aplicar métodos como bfill ou ffill.\n",
    "\n",
    "\n",
    "- Imputação com Métodos Avançados\n",
    "\n",
    "Existem métodos de imputação de dados mais avançados, como a imputação KNN (K-Nearest Neighbors), imputação por regressão e algoritmos como o MICE (Multiple Imputation by Chained Equations). Embora esses métodos possam oferecer uma precisão superior em comparação com abordagens mais simples, eles são computacionalmente mais intensivos e demandam uma compreensão mais profunda por parte do usuário. \n",
    "\n",
    "As vantagens incluem a potencial precisão elevada, enquanto as desvantagens giram em torno da sua complexidade e da necessidade de um maior poder computacional. Além disso, a implementação correta requer conhecimento adicional.\n",
    "\n",
    "\n",
    "\n",
    "### 3.2.6 Agrupamento e Agregação de Dados\n",
    "\n",
    "O agrupamento e a agregação de dados são técnicas importantes para analisar e resumir grandes conjuntos de dados. Elas permitem que você segmente seus dados em grupos e aplique funções de resumo a cada grupo, facilitando a identificação de padrões e tendências. Neste capítulo, exploraremos como realizar essas operações usando a biblioteca Pandas em Python. Para tanto vamos criar um DataFrame com dados sobre imagens de satélite:"
   ]
  },
  {
   "cell_type": "code",
   "execution_count": 88,
   "id": "5b4ad6e4",
   "metadata": {},
   "outputs": [],
   "source": [
    "import pandas as pd\n",
    "\n",
    "paises_dados = {\n",
    "    'País': ['Argentina', 'Bolívia', 'Brasil', 'Chile', 'Colômbia', 'Equador', 'Guiana', 'Paraguai', 'Peru', 'Suriname', 'Uruguai', 'Venezuela'],\n",
    "    'População': [45195777, 11513100, 211050000, 19116201, 50882891, 17643054, 786552, 7044636, 32971854, 586632, 3473727, 28435940],\n",
    "    'Área': [2780400, 1098581, 8515767, 756102, 1141748, 283561, 214969, 406752, 1285216, 163821, 176215, 912050],\n",
    "    'Independência': ['1816-07-09', '1825-08-06', '1822-09-07', '1818-02-12', '1810-07-20', '1822-05-24', '1966-05-26', '1811-05-14', '1821-07-28', '1975-11-25', '1825-08-25', '1811-07-05']\n",
    "}"
   ]
  },
  {
   "cell_type": "code",
   "execution_count": 89,
   "id": "3271d4f7",
   "metadata": {},
   "outputs": [
    {
     "data": {
      "text/html": [
       "<div>\n",
       "<style scoped>\n",
       "    .dataframe tbody tr th:only-of-type {\n",
       "        vertical-align: middle;\n",
       "    }\n",
       "\n",
       "    .dataframe tbody tr th {\n",
       "        vertical-align: top;\n",
       "    }\n",
       "\n",
       "    .dataframe thead th {\n",
       "        text-align: right;\n",
       "    }\n",
       "</style>\n",
       "<table border=\"1\" class=\"dataframe\">\n",
       "  <thead>\n",
       "    <tr style=\"text-align: right;\">\n",
       "      <th></th>\n",
       "      <th>País</th>\n",
       "      <th>População</th>\n",
       "      <th>Área</th>\n",
       "      <th>Independência</th>\n",
       "    </tr>\n",
       "  </thead>\n",
       "  <tbody>\n",
       "    <tr>\n",
       "      <th>0</th>\n",
       "      <td>Argentina</td>\n",
       "      <td>45195777</td>\n",
       "      <td>2780400</td>\n",
       "      <td>1816-07-09</td>\n",
       "    </tr>\n",
       "    <tr>\n",
       "      <th>1</th>\n",
       "      <td>Bolívia</td>\n",
       "      <td>11513100</td>\n",
       "      <td>1098581</td>\n",
       "      <td>1825-08-06</td>\n",
       "    </tr>\n",
       "    <tr>\n",
       "      <th>2</th>\n",
       "      <td>Brasil</td>\n",
       "      <td>211050000</td>\n",
       "      <td>8515767</td>\n",
       "      <td>1822-09-07</td>\n",
       "    </tr>\n",
       "    <tr>\n",
       "      <th>3</th>\n",
       "      <td>Chile</td>\n",
       "      <td>19116201</td>\n",
       "      <td>756102</td>\n",
       "      <td>1818-02-12</td>\n",
       "    </tr>\n",
       "    <tr>\n",
       "      <th>4</th>\n",
       "      <td>Colômbia</td>\n",
       "      <td>50882891</td>\n",
       "      <td>1141748</td>\n",
       "      <td>1810-07-20</td>\n",
       "    </tr>\n",
       "    <tr>\n",
       "      <th>5</th>\n",
       "      <td>Equador</td>\n",
       "      <td>17643054</td>\n",
       "      <td>283561</td>\n",
       "      <td>1822-05-24</td>\n",
       "    </tr>\n",
       "    <tr>\n",
       "      <th>6</th>\n",
       "      <td>Guiana</td>\n",
       "      <td>786552</td>\n",
       "      <td>214969</td>\n",
       "      <td>1966-05-26</td>\n",
       "    </tr>\n",
       "    <tr>\n",
       "      <th>7</th>\n",
       "      <td>Paraguai</td>\n",
       "      <td>7044636</td>\n",
       "      <td>406752</td>\n",
       "      <td>1811-05-14</td>\n",
       "    </tr>\n",
       "    <tr>\n",
       "      <th>8</th>\n",
       "      <td>Peru</td>\n",
       "      <td>32971854</td>\n",
       "      <td>1285216</td>\n",
       "      <td>1821-07-28</td>\n",
       "    </tr>\n",
       "    <tr>\n",
       "      <th>9</th>\n",
       "      <td>Suriname</td>\n",
       "      <td>586632</td>\n",
       "      <td>163821</td>\n",
       "      <td>1975-11-25</td>\n",
       "    </tr>\n",
       "    <tr>\n",
       "      <th>10</th>\n",
       "      <td>Uruguai</td>\n",
       "      <td>3473727</td>\n",
       "      <td>176215</td>\n",
       "      <td>1825-08-25</td>\n",
       "    </tr>\n",
       "    <tr>\n",
       "      <th>11</th>\n",
       "      <td>Venezuela</td>\n",
       "      <td>28435940</td>\n",
       "      <td>912050</td>\n",
       "      <td>1811-07-05</td>\n",
       "    </tr>\n",
       "  </tbody>\n",
       "</table>\n",
       "</div>"
      ],
      "text/plain": [
       "         País  População     Área Independência\n",
       "0   Argentina   45195777  2780400    1816-07-09\n",
       "1     Bolívia   11513100  1098581    1825-08-06\n",
       "2      Brasil  211050000  8515767    1822-09-07\n",
       "3       Chile   19116201   756102    1818-02-12\n",
       "4    Colômbia   50882891  1141748    1810-07-20\n",
       "5     Equador   17643054   283561    1822-05-24\n",
       "6      Guiana     786552   214969    1966-05-26\n",
       "7    Paraguai    7044636   406752    1811-05-14\n",
       "8        Peru   32971854  1285216    1821-07-28\n",
       "9    Suriname     586632   163821    1975-11-25\n",
       "10    Uruguai    3473727   176215    1825-08-25\n",
       "11  Venezuela   28435940   912050    1811-07-05"
      ]
     },
     "execution_count": 89,
     "metadata": {},
     "output_type": "execute_result"
    }
   ],
   "source": [
    "df = pd.DataFrame(paises_dados)\n",
    "df"
   ]
  },
  {
   "cell_type": "markdown",
   "id": "591d7a63",
   "metadata": {},
   "source": [
    "*Funções de agregação*\n",
    "\n",
    "As funções de agregação proporcionam um resumo estatístico ou uma redução dos dados. Quando você tem um grande conjunto de dados e quer obter informações resumidas ou insights gerais, as funções de agregação são muito úteis. No Python, especialmente com o Pandas, temos várias funções de agregação à disposição.\n",
    "\n",
    "Algumas das funções de agregação mais comuns são:\n",
    "\n",
    "min() e max(): Retorna os valores mínimo e máximo registrado em cada coluna no DataFrame, respectivamente."
   ]
  },
  {
   "cell_type": "code",
   "execution_count": 90,
   "id": "023ac2dd",
   "metadata": {},
   "outputs": [
    {
     "data": {
      "text/plain": [
       "163821"
      ]
     },
     "execution_count": 90,
     "metadata": {},
     "output_type": "execute_result"
    }
   ],
   "source": [
    "df['Área'].min()"
   ]
  },
  {
   "cell_type": "code",
   "execution_count": 91,
   "id": "8c4cd7e9",
   "metadata": {},
   "outputs": [
    {
     "data": {
      "text/plain": [
       "8515767"
      ]
     },
     "execution_count": 91,
     "metadata": {},
     "output_type": "execute_result"
    }
   ],
   "source": [
    "df['Área'].max()"
   ]
  },
  {
   "cell_type": "markdown",
   "id": "8abb2574",
   "metadata": {},
   "source": [
    "sum(): Calcula a soma total de uma coluna."
   ]
  },
  {
   "cell_type": "code",
   "execution_count": 92,
   "id": "97db0505",
   "metadata": {},
   "outputs": [
    {
     "data": {
      "text/plain": [
       "428700364"
      ]
     },
     "execution_count": 92,
     "metadata": {},
     "output_type": "execute_result"
    }
   ],
   "source": [
    "df['População'].sum()"
   ]
  },
  {
   "cell_type": "markdown",
   "id": "4168c160",
   "metadata": {},
   "source": [
    "mean(): Calcula a média aritmética."
   ]
  },
  {
   "cell_type": "code",
   "execution_count": 93,
   "id": "8bc8cece",
   "metadata": {},
   "outputs": [
    {
     "data": {
      "text/plain": [
       "35725030.333333336"
      ]
     },
     "execution_count": 93,
     "metadata": {},
     "output_type": "execute_result"
    }
   ],
   "source": [
    "df['População'].mean()"
   ]
  },
  {
   "cell_type": "markdown",
   "id": "becd6665",
   "metadata": {},
   "source": [
    "median(): Retorna a mediana de uma coluna ordenada."
   ]
  },
  {
   "cell_type": "code",
   "execution_count": 94,
   "id": "2e8e8a50",
   "metadata": {},
   "outputs": [
    {
     "data": {
      "text/plain": [
       "18379627.5"
      ]
     },
     "execution_count": 94,
     "metadata": {},
     "output_type": "execute_result"
    }
   ],
   "source": [
    "df['População'].median()"
   ]
  },
  {
   "cell_type": "markdown",
   "id": "13656d8a",
   "metadata": {},
   "source": [
    "std(): Calcula o desvio padrão, que é uma medida de dispersão dos dados."
   ]
  },
  {
   "cell_type": "code",
   "execution_count": 95,
   "id": "333ba42e",
   "metadata": {},
   "outputs": [
    {
     "data": {
      "text/plain": [
       "57703124.3291084"
      ]
     },
     "execution_count": 95,
     "metadata": {},
     "output_type": "execute_result"
    }
   ],
   "source": [
    "df['População'].std()"
   ]
  },
  {
   "cell_type": "markdown",
   "id": "b9440c96",
   "metadata": {},
   "source": [
    "var(): Calcula a variância dos dados."
   ]
  },
  {
   "cell_type": "code",
   "execution_count": 96,
   "id": "ede8d3ec",
   "metadata": {},
   "outputs": [
    {
     "data": {
      "text/plain": [
       "3329650557340542.0"
      ]
     },
     "execution_count": 96,
     "metadata": {},
     "output_type": "execute_result"
    }
   ],
   "source": [
    "df['População'].var()"
   ]
  },
  {
   "cell_type": "markdown",
   "id": "98f44278",
   "metadata": {},
   "source": [
    "quantile(): Retorna valores em percentis específicos de uma coluna."
   ]
  },
  {
   "cell_type": "code",
   "execution_count": 97,
   "id": "e27f8d32",
   "metadata": {},
   "outputs": [
    {
     "data": {
      "text/plain": [
       "6151908.75"
      ]
     },
     "execution_count": 97,
     "metadata": {},
     "output_type": "execute_result"
    }
   ],
   "source": [
    "df['População'].quantile(0.25)  "
   ]
  },
  {
   "cell_type": "markdown",
   "id": "05fcf3ef",
   "metadata": {},
   "source": [
    "Count(): Conta o número de itens não nulos."
   ]
  },
  {
   "cell_type": "code",
   "execution_count": 98,
   "id": "537c0db3",
   "metadata": {},
   "outputs": [
    {
     "data": {
      "text/plain": [
       "12"
      ]
     },
     "execution_count": 98,
     "metadata": {},
     "output_type": "execute_result"
    }
   ],
   "source": [
    "df['País'].count()"
   ]
  },
  {
   "cell_type": "markdown",
   "id": "a08d82ac",
   "metadata": {},
   "source": [
    "nunique(): Conta o número de valores únicos em uma coluna."
   ]
  },
  {
   "cell_type": "code",
   "execution_count": 99,
   "id": "00dd4662",
   "metadata": {},
   "outputs": [
    {
     "data": {
      "text/plain": [
       "12"
      ]
     },
     "execution_count": 99,
     "metadata": {},
     "output_type": "execute_result"
    }
   ],
   "source": [
    "df['País'].nunique()"
   ]
  },
  {
   "cell_type": "markdown",
   "id": "52d78110",
   "metadata": {},
   "source": [
    "unique(): Retorna um array dos valores únicos."
   ]
  },
  {
   "cell_type": "code",
   "execution_count": 100,
   "id": "15139018",
   "metadata": {},
   "outputs": [
    {
     "data": {
      "text/plain": [
       "array(['Argentina', 'Bolívia', 'Brasil', 'Chile', 'Colômbia', 'Equador',\n",
       "       'Guiana', 'Paraguai', 'Peru', 'Suriname', 'Uruguai', 'Venezuela'],\n",
       "      dtype=object)"
      ]
     },
     "execution_count": 100,
     "metadata": {},
     "output_type": "execute_result"
    }
   ],
   "source": [
    "df['País'].unique()"
   ]
  },
  {
   "cell_type": "markdown",
   "id": "4ccd1779",
   "metadata": {},
   "source": [
    "agg() ou aggregate(): Permite aplicar várias funções de agregação ao mesmo tempo ou especificar funções de agregação para colunas específicas."
   ]
  },
  {
   "cell_type": "code",
   "execution_count": 101,
   "id": "a8ff2cee",
   "metadata": {},
   "outputs": [
    {
     "data": {
      "text/plain": [
       "População   428700364.00\n",
       "Área          1477931.83\n",
       "dtype: float64"
      ]
     },
     "execution_count": 101,
     "metadata": {},
     "output_type": "execute_result"
    }
   ],
   "source": [
    "df.agg({'População': 'sum', 'Área': 'mean'})"
   ]
  },
  {
   "cell_type": "markdown",
   "id": "54d47365",
   "metadata": {},
   "source": [
    "*Método Groupby*\n",
    "\n",
    "O método groupby é uma ferramenta do Pandas que permite agrupar dados com base em algumas colunas e, em seguida, aplicar uma função (como soma, média, contagem, etc.) a cada grupo. Esse método é especialmente útil para segmentar um DataFrame em subconjuntos de dados para análise. Ele opera em três etapas fundamentais: Dividir, Aplicar e Combinar.\n",
    "\n",
    "a) Dividir: Nesta etapa, o DataFrame é dividido em grupos com base em uma ou mais colunas especificadas. Cada grupo é um subconjunto do DataFrame que tem o mesmo valor na coluna (ou colunas) especificada(s);\n",
    "\n",
    "b) Aplicar: Uma vez que os dados são agrupados, uma função é aplicada a cada grupo individualmente. Esta função pode ser uma operação de agregação (como calcular a média, a soma, a contagem, etc.), uma transformação (como normalizações ou cálculos mais complexos) ou qualquer outra operação que você queira realizar em grupos específicos;\n",
    "\n",
    "c) Combinar: Após aplicar a função a cada grupo, o Pandas combina os resultados em uma nova estrutura, geralmente um DataFrame. O resultado é um DataFrame reformulado, onde os índices são os valores únicos das colunas usadas para agrupar e as colunas contêm os resultados das funções aplicadas.\n",
    "\n",
    "Exemplos:\n",
    "\n",
    "Inicialmente, vamos criar um DataFrame:"
   ]
  },
  {
   "cell_type": "code",
   "execution_count": 102,
   "id": "3da24529",
   "metadata": {},
   "outputs": [
    {
     "data": {
      "text/html": [
       "<div>\n",
       "<style scoped>\n",
       "    .dataframe tbody tr th:only-of-type {\n",
       "        vertical-align: middle;\n",
       "    }\n",
       "\n",
       "    .dataframe tbody tr th {\n",
       "        vertical-align: top;\n",
       "    }\n",
       "\n",
       "    .dataframe thead th {\n",
       "        text-align: right;\n",
       "    }\n",
       "</style>\n",
       "<table border=\"1\" class=\"dataframe\">\n",
       "  <thead>\n",
       "    <tr style=\"text-align: right;\">\n",
       "      <th></th>\n",
       "      <th>Imagem</th>\n",
       "      <th>Região</th>\n",
       "      <th>Área Coberta (km²)</th>\n",
       "      <th>Custo (R$)</th>\n",
       "    </tr>\n",
       "  </thead>\n",
       "  <tbody>\n",
       "    <tr>\n",
       "      <th>0</th>\n",
       "      <td>Landsat 8</td>\n",
       "      <td>Amazônia</td>\n",
       "      <td>1000</td>\n",
       "      <td>5000</td>\n",
       "    </tr>\n",
       "    <tr>\n",
       "      <th>1</th>\n",
       "      <td>Sentinel-2</td>\n",
       "      <td>Cerrado</td>\n",
       "      <td>1500</td>\n",
       "      <td>10000</td>\n",
       "    </tr>\n",
       "    <tr>\n",
       "      <th>2</th>\n",
       "      <td>Landsat 8</td>\n",
       "      <td>Pantanal</td>\n",
       "      <td>2000</td>\n",
       "      <td>15000</td>\n",
       "    </tr>\n",
       "    <tr>\n",
       "      <th>3</th>\n",
       "      <td>WorldView-3</td>\n",
       "      <td>Pantanal</td>\n",
       "      <td>500</td>\n",
       "      <td>50000</td>\n",
       "    </tr>\n",
       "    <tr>\n",
       "      <th>4</th>\n",
       "      <td>Sentinel-2</td>\n",
       "      <td>Amazônia</td>\n",
       "      <td>3000</td>\n",
       "      <td>25000</td>\n",
       "    </tr>\n",
       "    <tr>\n",
       "      <th>5</th>\n",
       "      <td>WorldView-3</td>\n",
       "      <td>Caatinga</td>\n",
       "      <td>750</td>\n",
       "      <td>70000</td>\n",
       "    </tr>\n",
       "    <tr>\n",
       "      <th>6</th>\n",
       "      <td>Landsat 8</td>\n",
       "      <td>Caatinga</td>\n",
       "      <td>1250</td>\n",
       "      <td>7500</td>\n",
       "    </tr>\n",
       "    <tr>\n",
       "      <th>7</th>\n",
       "      <td>Sentinel-2</td>\n",
       "      <td>Cerrado</td>\n",
       "      <td>1750</td>\n",
       "      <td>15000</td>\n",
       "    </tr>\n",
       "  </tbody>\n",
       "</table>\n",
       "</div>"
      ],
      "text/plain": [
       "        Imagem    Região  Área Coberta (km²)  Custo (R$)\n",
       "0    Landsat 8  Amazônia                1000        5000\n",
       "1   Sentinel-2   Cerrado                1500       10000\n",
       "2    Landsat 8  Pantanal                2000       15000\n",
       "3  WorldView-3  Pantanal                 500       50000\n",
       "4   Sentinel-2  Amazônia                3000       25000\n",
       "5  WorldView-3  Caatinga                 750       70000\n",
       "6    Landsat 8  Caatinga                1250        7500\n",
       "7   Sentinel-2   Cerrado                1750       15000"
      ]
     },
     "execution_count": 102,
     "metadata": {},
     "output_type": "execute_result"
    }
   ],
   "source": [
    "dados = {\n",
    "    'Imagem': ['Landsat 8', 'Sentinel-2', 'Landsat 8', 'WorldView-3', 'Sentinel-2',\n",
    "     'WorldView-3', 'Landsat 8', 'Sentinel-2'],\n",
    "    'Região': ['Amazônia', 'Cerrado', 'Pantanal', 'Pantanal', 'Amazônia',\n",
    "     'Caatinga', 'Caatinga', 'Cerrado'],\n",
    "    'Área Coberta (km²)': [1000, 1500, 2000, 500, 3000, 750, 1250, 1750],\n",
    "    'Custo (R$)': [5000, 10000, 15000, 50000, 25000, 70000, 7500, 15000]\n",
    "}\n",
    "\n",
    "df = pd.DataFrame(dados)\n",
    "df"
   ]
  },
  {
   "cell_type": "markdown",
   "id": "850bb4c1",
   "metadata": {},
   "source": [
    "Agrupar os dados por 'Imagem' e obter a soma da 'Área Coberta (km²)' para cada tipo de imagem:"
   ]
  },
  {
   "cell_type": "code",
   "execution_count": 103,
   "id": "4b2c77ca",
   "metadata": {},
   "outputs": [
    {
     "data": {
      "text/plain": [
       "Imagem\n",
       "Landsat 8      4250\n",
       "Sentinel-2     6250\n",
       "WorldView-3    1250\n",
       "Name: Área Coberta (km²), dtype: int64"
      ]
     },
     "execution_count": 103,
     "metadata": {},
     "output_type": "execute_result"
    }
   ],
   "source": [
    "df.groupby('Imagem')['Área Coberta (km²)'].sum()"
   ]
  },
  {
   "cell_type": "markdown",
   "id": "eff33d5e",
   "metadata": {},
   "source": [
    "Agrupar os dados por 'Região' e calcular a média do 'Custo (R$)':"
   ]
  },
  {
   "cell_type": "code",
   "execution_count": 104,
   "id": "b6249a30",
   "metadata": {},
   "outputs": [
    {
     "data": {
      "text/plain": [
       "Região\n",
       "Amazônia   15000.00\n",
       "Caatinga   38750.00\n",
       "Cerrado    12500.00\n",
       "Pantanal   32500.00\n",
       "Name: Custo (R$), dtype: float64"
      ]
     },
     "execution_count": 104,
     "metadata": {},
     "output_type": "execute_result"
    }
   ],
   "source": [
    "df.groupby('Região')['Custo (R$)'].mean()"
   ]
  },
  {
   "cell_type": "markdown",
   "id": "9847fb09",
   "metadata": {},
   "source": [
    "Agrupar os dados por 'Imagem' e 'Região' e obter a contagem de registros para cada combinação:"
   ]
  },
  {
   "cell_type": "code",
   "execution_count": 105,
   "id": "e99798d1",
   "metadata": {},
   "outputs": [
    {
     "data": {
      "text/plain": [
       "Imagem       Região  \n",
       "Landsat 8    Amazônia    1\n",
       "             Caatinga    1\n",
       "             Pantanal    1\n",
       "Sentinel-2   Amazônia    1\n",
       "             Cerrado     2\n",
       "WorldView-3  Caatinga    1\n",
       "             Pantanal    1\n",
       "dtype: int64"
      ]
     },
     "execution_count": 105,
     "metadata": {},
     "output_type": "execute_result"
    }
   ],
   "source": [
    "df.groupby(['Imagem', 'Região']).size()"
   ]
  },
  {
   "cell_type": "markdown",
   "id": "4b2f9955",
   "metadata": {},
   "source": [
    "Agrupar os dados por 'Imagem' e obter várias agregações para a coluna 'Custo (R$)' (média, soma e desvio padrão):"
   ]
  },
  {
   "cell_type": "code",
   "execution_count": 106,
   "id": "f28ad199",
   "metadata": {},
   "outputs": [
    {
     "data": {
      "text/html": [
       "<div>\n",
       "<style scoped>\n",
       "    .dataframe tbody tr th:only-of-type {\n",
       "        vertical-align: middle;\n",
       "    }\n",
       "\n",
       "    .dataframe tbody tr th {\n",
       "        vertical-align: top;\n",
       "    }\n",
       "\n",
       "    .dataframe thead th {\n",
       "        text-align: right;\n",
       "    }\n",
       "</style>\n",
       "<table border=\"1\" class=\"dataframe\">\n",
       "  <thead>\n",
       "    <tr style=\"text-align: right;\">\n",
       "      <th></th>\n",
       "      <th>mean</th>\n",
       "      <th>sum</th>\n",
       "      <th>std</th>\n",
       "    </tr>\n",
       "    <tr>\n",
       "      <th>Imagem</th>\n",
       "      <th></th>\n",
       "      <th></th>\n",
       "      <th></th>\n",
       "    </tr>\n",
       "  </thead>\n",
       "  <tbody>\n",
       "    <tr>\n",
       "      <th>Landsat 8</th>\n",
       "      <td>9166.67</td>\n",
       "      <td>27500</td>\n",
       "      <td>5204.16</td>\n",
       "    </tr>\n",
       "    <tr>\n",
       "      <th>Sentinel-2</th>\n",
       "      <td>16666.67</td>\n",
       "      <td>50000</td>\n",
       "      <td>7637.63</td>\n",
       "    </tr>\n",
       "    <tr>\n",
       "      <th>WorldView-3</th>\n",
       "      <td>60000.00</td>\n",
       "      <td>120000</td>\n",
       "      <td>14142.14</td>\n",
       "    </tr>\n",
       "  </tbody>\n",
       "</table>\n",
       "</div>"
      ],
      "text/plain": [
       "                mean     sum      std\n",
       "Imagem                               \n",
       "Landsat 8    9166.67   27500  5204.16\n",
       "Sentinel-2  16666.67   50000  7637.63\n",
       "WorldView-3 60000.00  120000 14142.14"
      ]
     },
     "execution_count": 106,
     "metadata": {},
     "output_type": "execute_result"
    }
   ],
   "source": [
    "df.groupby('Imagem')['Custo (R$)'].agg(['mean', 'sum', 'std'])"
   ]
  },
  {
   "cell_type": "markdown",
   "id": "01957a5a",
   "metadata": {},
   "source": [
    "*Combinação de Dados*\n",
    "\n",
    "A combinação de dados é uma operação de grande relevância em geoprocessamento, permitindo que você junte informações de diferentes fontes ou DataFrames. Existem várias ferramentas para combinar DataFrames no Pandas, incluindo concatenação, junção e mesclagem.\n",
    "\n",
    "- Concatenação de DataFrames:\n",
    "\n",
    "A concatenação é o processo de anexar um DataFrame a outro, seja verticalmente (adicionando linhas) ou horizontalmente (adicionando colunas).\n",
    "\n",
    "Exemplo: Suponha que temos dois subconjuntos do nosso DataFrame df:"
   ]
  },
  {
   "cell_type": "code",
   "execution_count": 107,
   "id": "b453cbc5",
   "metadata": {},
   "outputs": [
    {
     "data": {
      "text/html": [
       "<div>\n",
       "<style scoped>\n",
       "    .dataframe tbody tr th:only-of-type {\n",
       "        vertical-align: middle;\n",
       "    }\n",
       "\n",
       "    .dataframe tbody tr th {\n",
       "        vertical-align: top;\n",
       "    }\n",
       "\n",
       "    .dataframe thead th {\n",
       "        text-align: right;\n",
       "    }\n",
       "</style>\n",
       "<table border=\"1\" class=\"dataframe\">\n",
       "  <thead>\n",
       "    <tr style=\"text-align: right;\">\n",
       "      <th></th>\n",
       "      <th>Imagem</th>\n",
       "      <th>Região</th>\n",
       "      <th>Área Coberta (km²)</th>\n",
       "      <th>Custo (R$)</th>\n",
       "    </tr>\n",
       "  </thead>\n",
       "  <tbody>\n",
       "    <tr>\n",
       "      <th>0</th>\n",
       "      <td>Landsat 8</td>\n",
       "      <td>Amazônia</td>\n",
       "      <td>1000</td>\n",
       "      <td>5000</td>\n",
       "    </tr>\n",
       "    <tr>\n",
       "      <th>1</th>\n",
       "      <td>Sentinel-2</td>\n",
       "      <td>Cerrado</td>\n",
       "      <td>1500</td>\n",
       "      <td>10000</td>\n",
       "    </tr>\n",
       "  </tbody>\n",
       "</table>\n",
       "</div>"
      ],
      "text/plain": [
       "       Imagem    Região  Área Coberta (km²)  Custo (R$)\n",
       "0   Landsat 8  Amazônia                1000        5000\n",
       "1  Sentinel-2   Cerrado                1500       10000"
      ]
     },
     "execution_count": 107,
     "metadata": {},
     "output_type": "execute_result"
    }
   ],
   "source": [
    "df1 = df.iloc[:2]\n",
    "df1"
   ]
  },
  {
   "cell_type": "code",
   "execution_count": 108,
   "id": "97ef6056",
   "metadata": {},
   "outputs": [
    {
     "data": {
      "text/html": [
       "<div>\n",
       "<style scoped>\n",
       "    .dataframe tbody tr th:only-of-type {\n",
       "        vertical-align: middle;\n",
       "    }\n",
       "\n",
       "    .dataframe tbody tr th {\n",
       "        vertical-align: top;\n",
       "    }\n",
       "\n",
       "    .dataframe thead th {\n",
       "        text-align: right;\n",
       "    }\n",
       "</style>\n",
       "<table border=\"1\" class=\"dataframe\">\n",
       "  <thead>\n",
       "    <tr style=\"text-align: right;\">\n",
       "      <th></th>\n",
       "      <th>Imagem</th>\n",
       "      <th>Região</th>\n",
       "      <th>Área Coberta (km²)</th>\n",
       "      <th>Custo (R$)</th>\n",
       "    </tr>\n",
       "  </thead>\n",
       "  <tbody>\n",
       "    <tr>\n",
       "      <th>2</th>\n",
       "      <td>Landsat 8</td>\n",
       "      <td>Pantanal</td>\n",
       "      <td>2000</td>\n",
       "      <td>15000</td>\n",
       "    </tr>\n",
       "    <tr>\n",
       "      <th>3</th>\n",
       "      <td>WorldView-3</td>\n",
       "      <td>Pantanal</td>\n",
       "      <td>500</td>\n",
       "      <td>50000</td>\n",
       "    </tr>\n",
       "  </tbody>\n",
       "</table>\n",
       "</div>"
      ],
      "text/plain": [
       "        Imagem    Região  Área Coberta (km²)  Custo (R$)\n",
       "2    Landsat 8  Pantanal                2000       15000\n",
       "3  WorldView-3  Pantanal                 500       50000"
      ]
     },
     "execution_count": 108,
     "metadata": {},
     "output_type": "execute_result"
    }
   ],
   "source": [
    "df2 = df.iloc[2:4]\n",
    "df2"
   ]
  },
  {
   "cell_type": "markdown",
   "id": "3627dc62",
   "metadata": {},
   "source": [
    "Relembrando: Esse código utiliza o método iloc do Pandas, que é usado para selecionar linhas e colunas por suas posições numéricas (índices).\n",
    "\n",
    "df1 = ``` df.iloc[:2] ``` seleciona as duas primeiras linhas do DataFrame df, atribuindo-as a um novo DataFrame chamado df1. O “:2” especifica que queremos todas as linhas do início até a posição 2 (exclusiva), ou seja, as linhas nas posições 0 e 1.\n",
    "\n",
    "df2 = ``` df.iloc[2:4] ``` seleciona as linhas nas posições 2 e 3 do DataFrame df, atribuindo-as a um novo DataFrame chamado df2. O “2:4” especifica que queremos as linhas da posição 2 até a posição 4 (o registro que está na posição 4 não é selecionado).\n",
    "\n",
    "\n",
    "Para concatená-los verticalmente:"
   ]
  },
  {
   "cell_type": "code",
   "execution_count": 109,
   "id": "df57c0c2",
   "metadata": {},
   "outputs": [
    {
     "data": {
      "text/html": [
       "<div>\n",
       "<style scoped>\n",
       "    .dataframe tbody tr th:only-of-type {\n",
       "        vertical-align: middle;\n",
       "    }\n",
       "\n",
       "    .dataframe tbody tr th {\n",
       "        vertical-align: top;\n",
       "    }\n",
       "\n",
       "    .dataframe thead th {\n",
       "        text-align: right;\n",
       "    }\n",
       "</style>\n",
       "<table border=\"1\" class=\"dataframe\">\n",
       "  <thead>\n",
       "    <tr style=\"text-align: right;\">\n",
       "      <th></th>\n",
       "      <th>Imagem</th>\n",
       "      <th>Região</th>\n",
       "      <th>Área Coberta (km²)</th>\n",
       "      <th>Custo (R$)</th>\n",
       "    </tr>\n",
       "  </thead>\n",
       "  <tbody>\n",
       "    <tr>\n",
       "      <th>0</th>\n",
       "      <td>Landsat 8</td>\n",
       "      <td>Amazônia</td>\n",
       "      <td>1000</td>\n",
       "      <td>5000</td>\n",
       "    </tr>\n",
       "    <tr>\n",
       "      <th>1</th>\n",
       "      <td>Sentinel-2</td>\n",
       "      <td>Cerrado</td>\n",
       "      <td>1500</td>\n",
       "      <td>10000</td>\n",
       "    </tr>\n",
       "    <tr>\n",
       "      <th>2</th>\n",
       "      <td>Landsat 8</td>\n",
       "      <td>Pantanal</td>\n",
       "      <td>2000</td>\n",
       "      <td>15000</td>\n",
       "    </tr>\n",
       "    <tr>\n",
       "      <th>3</th>\n",
       "      <td>WorldView-3</td>\n",
       "      <td>Pantanal</td>\n",
       "      <td>500</td>\n",
       "      <td>50000</td>\n",
       "    </tr>\n",
       "  </tbody>\n",
       "</table>\n",
       "</div>"
      ],
      "text/plain": [
       "        Imagem    Região  Área Coberta (km²)  Custo (R$)\n",
       "0    Landsat 8  Amazônia                1000        5000\n",
       "1   Sentinel-2   Cerrado                1500       10000\n",
       "2    Landsat 8  Pantanal                2000       15000\n",
       "3  WorldView-3  Pantanal                 500       50000"
      ]
     },
     "execution_count": 109,
     "metadata": {},
     "output_type": "execute_result"
    }
   ],
   "source": [
    "df_concatenado = pd.concat([df1, df2])\n",
    "df_concatenado"
   ]
  },
  {
   "cell_type": "markdown",
   "id": "8e63b7ce",
   "metadata": {},
   "source": [
    "Para aplicar a concatenação horizontal, considere o conjunto de dados adicional:"
   ]
  },
  {
   "cell_type": "code",
   "execution_count": 110,
   "id": "0ead4320",
   "metadata": {},
   "outputs": [
    {
     "data": {
      "text/html": [
       "<div>\n",
       "<style scoped>\n",
       "    .dataframe tbody tr th:only-of-type {\n",
       "        vertical-align: middle;\n",
       "    }\n",
       "\n",
       "    .dataframe tbody tr th {\n",
       "        vertical-align: top;\n",
       "    }\n",
       "\n",
       "    .dataframe thead th {\n",
       "        text-align: right;\n",
       "    }\n",
       "</style>\n",
       "<table border=\"1\" class=\"dataframe\">\n",
       "  <thead>\n",
       "    <tr style=\"text-align: right;\">\n",
       "      <th></th>\n",
       "      <th>Qualidade</th>\n",
       "    </tr>\n",
       "  </thead>\n",
       "  <tbody>\n",
       "    <tr>\n",
       "      <th>0</th>\n",
       "      <td>Alta</td>\n",
       "    </tr>\n",
       "    <tr>\n",
       "      <th>1</th>\n",
       "      <td>Média</td>\n",
       "    </tr>\n",
       "    <tr>\n",
       "      <th>2</th>\n",
       "      <td>Baixa</td>\n",
       "    </tr>\n",
       "    <tr>\n",
       "      <th>3</th>\n",
       "      <td>Alta</td>\n",
       "    </tr>\n",
       "    <tr>\n",
       "      <th>4</th>\n",
       "      <td>Alta</td>\n",
       "    </tr>\n",
       "    <tr>\n",
       "      <th>5</th>\n",
       "      <td>Média</td>\n",
       "    </tr>\n",
       "    <tr>\n",
       "      <th>6</th>\n",
       "      <td>Baixa</td>\n",
       "    </tr>\n",
       "    <tr>\n",
       "      <th>7</th>\n",
       "      <td>Alta</td>\n",
       "    </tr>\n",
       "  </tbody>\n",
       "</table>\n",
       "</div>"
      ],
      "text/plain": [
       "  Qualidade\n",
       "0      Alta\n",
       "1     Média\n",
       "2     Baixa\n",
       "3      Alta\n",
       "4      Alta\n",
       "5     Média\n",
       "6     Baixa\n",
       "7      Alta"
      ]
     },
     "execution_count": 110,
     "metadata": {},
     "output_type": "execute_result"
    }
   ],
   "source": [
    "dado_adicional = {\n",
    "    'Qualidade': ['Alta', 'Média', 'Baixa', 'Alta', \n",
    "    'Alta', 'Média', 'Baixa', 'Alta']\n",
    "}\n",
    "df_adicional = pd.DataFrame(dado_adicional)\n",
    "df_adicional"
   ]
  },
  {
   "cell_type": "markdown",
   "id": "2e2a882a",
   "metadata": {},
   "source": [
    "Para conectá-lo horizontalmente com o DataFrame ‘df’:"
   ]
  },
  {
   "cell_type": "code",
   "execution_count": 111,
   "id": "882e350e",
   "metadata": {},
   "outputs": [
    {
     "data": {
      "text/html": [
       "<div>\n",
       "<style scoped>\n",
       "    .dataframe tbody tr th:only-of-type {\n",
       "        vertical-align: middle;\n",
       "    }\n",
       "\n",
       "    .dataframe tbody tr th {\n",
       "        vertical-align: top;\n",
       "    }\n",
       "\n",
       "    .dataframe thead th {\n",
       "        text-align: right;\n",
       "    }\n",
       "</style>\n",
       "<table border=\"1\" class=\"dataframe\">\n",
       "  <thead>\n",
       "    <tr style=\"text-align: right;\">\n",
       "      <th></th>\n",
       "      <th>Imagem</th>\n",
       "      <th>Região</th>\n",
       "      <th>Área Coberta (km²)</th>\n",
       "      <th>Custo (R$)</th>\n",
       "      <th>Qualidade</th>\n",
       "    </tr>\n",
       "  </thead>\n",
       "  <tbody>\n",
       "    <tr>\n",
       "      <th>0</th>\n",
       "      <td>Landsat 8</td>\n",
       "      <td>Amazônia</td>\n",
       "      <td>1000</td>\n",
       "      <td>5000</td>\n",
       "      <td>Alta</td>\n",
       "    </tr>\n",
       "    <tr>\n",
       "      <th>1</th>\n",
       "      <td>Sentinel-2</td>\n",
       "      <td>Cerrado</td>\n",
       "      <td>1500</td>\n",
       "      <td>10000</td>\n",
       "      <td>Média</td>\n",
       "    </tr>\n",
       "    <tr>\n",
       "      <th>2</th>\n",
       "      <td>Landsat 8</td>\n",
       "      <td>Pantanal</td>\n",
       "      <td>2000</td>\n",
       "      <td>15000</td>\n",
       "      <td>Baixa</td>\n",
       "    </tr>\n",
       "    <tr>\n",
       "      <th>3</th>\n",
       "      <td>WorldView-3</td>\n",
       "      <td>Pantanal</td>\n",
       "      <td>500</td>\n",
       "      <td>50000</td>\n",
       "      <td>Alta</td>\n",
       "    </tr>\n",
       "    <tr>\n",
       "      <th>4</th>\n",
       "      <td>Sentinel-2</td>\n",
       "      <td>Amazônia</td>\n",
       "      <td>3000</td>\n",
       "      <td>25000</td>\n",
       "      <td>Alta</td>\n",
       "    </tr>\n",
       "    <tr>\n",
       "      <th>5</th>\n",
       "      <td>WorldView-3</td>\n",
       "      <td>Caatinga</td>\n",
       "      <td>750</td>\n",
       "      <td>70000</td>\n",
       "      <td>Média</td>\n",
       "    </tr>\n",
       "    <tr>\n",
       "      <th>6</th>\n",
       "      <td>Landsat 8</td>\n",
       "      <td>Caatinga</td>\n",
       "      <td>1250</td>\n",
       "      <td>7500</td>\n",
       "      <td>Baixa</td>\n",
       "    </tr>\n",
       "    <tr>\n",
       "      <th>7</th>\n",
       "      <td>Sentinel-2</td>\n",
       "      <td>Cerrado</td>\n",
       "      <td>1750</td>\n",
       "      <td>15000</td>\n",
       "      <td>Alta</td>\n",
       "    </tr>\n",
       "  </tbody>\n",
       "</table>\n",
       "</div>"
      ],
      "text/plain": [
       "        Imagem    Região  Área Coberta (km²)  Custo (R$) Qualidade\n",
       "0    Landsat 8  Amazônia                1000        5000      Alta\n",
       "1   Sentinel-2   Cerrado                1500       10000     Média\n",
       "2    Landsat 8  Pantanal                2000       15000     Baixa\n",
       "3  WorldView-3  Pantanal                 500       50000      Alta\n",
       "4   Sentinel-2  Amazônia                3000       25000      Alta\n",
       "5  WorldView-3  Caatinga                 750       70000     Média\n",
       "6    Landsat 8  Caatinga                1250        7500     Baixa\n",
       "7   Sentinel-2   Cerrado                1750       15000      Alta"
      ]
     },
     "execution_count": 111,
     "metadata": {},
     "output_type": "execute_result"
    }
   ],
   "source": [
    "df_horizontal = pd.concat([df, df_adicional], axis=1)\n",
    "df_horizontal"
   ]
  },
  {
   "cell_type": "markdown",
   "id": "d78feceb",
   "metadata": {},
   "source": [
    "Neste exemplo, o argumento axis=1 indica que a concatenação deve ocorrer horizontalmente. O resultado é um DataFrame que combina as colunas de df  e df_adicional:\n",
    "\n",
    "Ao usar o método concat, é importante garantir que os índices dos DataFrames que estão sendo concatenados se alinhem corretamente, especialmente ao realizar a concatenação horizontal. Caso contrário, você pode acabar com valores ausentes nas posições onde os índices não se alinham.\n",
    "\n",
    "\n",
    "- junção e mesclagem\n",
    "\n",
    "A junção e a mesclagem permitem combinar DataFrames com base em colunas comuns ou índices comuns. Vamos explorar como usar essas técnicas com os DataFrames df e df_satelites."
   ]
  },
  {
   "cell_type": "code",
   "execution_count": 112,
   "id": "09aca64a",
   "metadata": {},
   "outputs": [
    {
     "data": {
      "text/html": [
       "<div>\n",
       "<style scoped>\n",
       "    .dataframe tbody tr th:only-of-type {\n",
       "        vertical-align: middle;\n",
       "    }\n",
       "\n",
       "    .dataframe tbody tr th {\n",
       "        vertical-align: top;\n",
       "    }\n",
       "\n",
       "    .dataframe thead th {\n",
       "        text-align: right;\n",
       "    }\n",
       "</style>\n",
       "<table border=\"1\" class=\"dataframe\">\n",
       "  <thead>\n",
       "    <tr style=\"text-align: right;\">\n",
       "      <th></th>\n",
       "      <th>Satélite</th>\n",
       "      <th>Resolução Espacial (m)</th>\n",
       "      <th>Operador</th>\n",
       "    </tr>\n",
       "  </thead>\n",
       "  <tbody>\n",
       "    <tr>\n",
       "      <th>0</th>\n",
       "      <td>Landsat 8</td>\n",
       "      <td>30.00</td>\n",
       "      <td>NASA/USGS</td>\n",
       "    </tr>\n",
       "    <tr>\n",
       "      <th>1</th>\n",
       "      <td>Sentinel-2</td>\n",
       "      <td>10.00</td>\n",
       "      <td>ESA</td>\n",
       "    </tr>\n",
       "    <tr>\n",
       "      <th>2</th>\n",
       "      <td>WorldView-3</td>\n",
       "      <td>0.31</td>\n",
       "      <td>DigitalGlobe</td>\n",
       "    </tr>\n",
       "  </tbody>\n",
       "</table>\n",
       "</div>"
      ],
      "text/plain": [
       "      Satélite  Resolução Espacial (m)      Operador\n",
       "0    Landsat 8                30.00        NASA/USGS\n",
       "1   Sentinel-2                10.00              ESA\n",
       "2  WorldView-3                 0.31     DigitalGlobe"
      ]
     },
     "execution_count": 112,
     "metadata": {},
     "output_type": "execute_result"
    }
   ],
   "source": [
    "dados_satelites = {\n",
    "    'Satélite': ['Landsat 8', 'Sentinel-2', 'WorldView-3'],\n",
    "    'Resolução Espacial (m)': [30, 10, 0.31],  \n",
    "    # Resolução do sensor óptico principal\n",
    "    'Operador': ['NASA/USGS', 'ESA', 'DigitalGlobe']\n",
    "}\n",
    "df_satelites = pd.DataFrame(dados_satelites)\n",
    "df_satelites"
   ]
  },
  {
   "cell_type": "markdown",
   "id": "f390a990",
   "metadata": {},
   "source": [
    "*Merge*\n",
    "\n",
    "O método merge() é usado para combinar DataFrames com base em colunas comuns."
   ]
  },
  {
   "cell_type": "code",
   "execution_count": 113,
   "id": "9d773b58",
   "metadata": {},
   "outputs": [
    {
     "data": {
      "text/html": [
       "<div>\n",
       "<style scoped>\n",
       "    .dataframe tbody tr th:only-of-type {\n",
       "        vertical-align: middle;\n",
       "    }\n",
       "\n",
       "    .dataframe tbody tr th {\n",
       "        vertical-align: top;\n",
       "    }\n",
       "\n",
       "    .dataframe thead th {\n",
       "        text-align: right;\n",
       "    }\n",
       "</style>\n",
       "<table border=\"1\" class=\"dataframe\">\n",
       "  <thead>\n",
       "    <tr style=\"text-align: right;\">\n",
       "      <th></th>\n",
       "      <th>Imagem</th>\n",
       "      <th>Região</th>\n",
       "      <th>Área Coberta (km²)</th>\n",
       "      <th>Custo (R$)</th>\n",
       "      <th>Satélite</th>\n",
       "      <th>Resolução Espacial (m)</th>\n",
       "      <th>Operador</th>\n",
       "    </tr>\n",
       "  </thead>\n",
       "  <tbody>\n",
       "    <tr>\n",
       "      <th>0</th>\n",
       "      <td>Landsat 8</td>\n",
       "      <td>Amazônia</td>\n",
       "      <td>1000</td>\n",
       "      <td>5000</td>\n",
       "      <td>Landsat 8</td>\n",
       "      <td>30.00</td>\n",
       "      <td>NASA/USGS</td>\n",
       "    </tr>\n",
       "    <tr>\n",
       "      <th>1</th>\n",
       "      <td>Sentinel-2</td>\n",
       "      <td>Cerrado</td>\n",
       "      <td>1500</td>\n",
       "      <td>10000</td>\n",
       "      <td>Sentinel-2</td>\n",
       "      <td>10.00</td>\n",
       "      <td>ESA</td>\n",
       "    </tr>\n",
       "    <tr>\n",
       "      <th>2</th>\n",
       "      <td>Landsat 8</td>\n",
       "      <td>Pantanal</td>\n",
       "      <td>2000</td>\n",
       "      <td>15000</td>\n",
       "      <td>Landsat 8</td>\n",
       "      <td>30.00</td>\n",
       "      <td>NASA/USGS</td>\n",
       "    </tr>\n",
       "    <tr>\n",
       "      <th>3</th>\n",
       "      <td>WorldView-3</td>\n",
       "      <td>Pantanal</td>\n",
       "      <td>500</td>\n",
       "      <td>50000</td>\n",
       "      <td>WorldView-3</td>\n",
       "      <td>0.31</td>\n",
       "      <td>DigitalGlobe</td>\n",
       "    </tr>\n",
       "    <tr>\n",
       "      <th>4</th>\n",
       "      <td>Sentinel-2</td>\n",
       "      <td>Amazônia</td>\n",
       "      <td>3000</td>\n",
       "      <td>25000</td>\n",
       "      <td>Sentinel-2</td>\n",
       "      <td>10.00</td>\n",
       "      <td>ESA</td>\n",
       "    </tr>\n",
       "    <tr>\n",
       "      <th>5</th>\n",
       "      <td>WorldView-3</td>\n",
       "      <td>Caatinga</td>\n",
       "      <td>750</td>\n",
       "      <td>70000</td>\n",
       "      <td>WorldView-3</td>\n",
       "      <td>0.31</td>\n",
       "      <td>DigitalGlobe</td>\n",
       "    </tr>\n",
       "    <tr>\n",
       "      <th>6</th>\n",
       "      <td>Landsat 8</td>\n",
       "      <td>Caatinga</td>\n",
       "      <td>1250</td>\n",
       "      <td>7500</td>\n",
       "      <td>Landsat 8</td>\n",
       "      <td>30.00</td>\n",
       "      <td>NASA/USGS</td>\n",
       "    </tr>\n",
       "    <tr>\n",
       "      <th>7</th>\n",
       "      <td>Sentinel-2</td>\n",
       "      <td>Cerrado</td>\n",
       "      <td>1750</td>\n",
       "      <td>15000</td>\n",
       "      <td>Sentinel-2</td>\n",
       "      <td>10.00</td>\n",
       "      <td>ESA</td>\n",
       "    </tr>\n",
       "  </tbody>\n",
       "</table>\n",
       "</div>"
      ],
      "text/plain": [
       "        Imagem    Região  Área Coberta (km²)  Custo (R$)     Satélite  \\\n",
       "0    Landsat 8  Amazônia                1000        5000    Landsat 8   \n",
       "1   Sentinel-2   Cerrado                1500       10000   Sentinel-2   \n",
       "2    Landsat 8  Pantanal                2000       15000    Landsat 8   \n",
       "3  WorldView-3  Pantanal                 500       50000  WorldView-3   \n",
       "4   Sentinel-2  Amazônia                3000       25000   Sentinel-2   \n",
       "5  WorldView-3  Caatinga                 750       70000  WorldView-3   \n",
       "6    Landsat 8  Caatinga                1250        7500    Landsat 8   \n",
       "7   Sentinel-2   Cerrado                1750       15000   Sentinel-2   \n",
       "\n",
       "   Resolução Espacial (m)      Operador  \n",
       "0                30.00        NASA/USGS  \n",
       "1                10.00              ESA  \n",
       "2                30.00        NASA/USGS  \n",
       "3                 0.31     DigitalGlobe  \n",
       "4                10.00              ESA  \n",
       "5                 0.31     DigitalGlobe  \n",
       "6                30.00        NASA/USGS  \n",
       "7                10.00              ESA  "
      ]
     },
     "execution_count": 113,
     "metadata": {},
     "output_type": "execute_result"
    }
   ],
   "source": [
    "df_mesclado = df.merge(df_satelites, left_on='Imagem', right_on='Satélite', how='left')\n",
    "df_mesclado"
   ]
  },
  {
   "cell_type": "markdown",
   "id": "43117c5a",
   "metadata": {},
   "source": [
    "Neste exemplo, estamos usando left_on para especificar a coluna do DataFrame df e right_on para especificar a coluna do DataFrame df_satelites. O argumento how='left' garante que todas as entradas do df sejam mantidas, mesmo que não tenham uma correspondência no df_satelites.\n",
    "\n",
    "\n",
    "*Junção (join)*\n",
    "\n",
    "O método join é semelhante ao merge, mas é usado para combinar DataFrames com base em índices ao invés de colunas. Para demonstrá-lo, vamos primeiro definir o índice de df_satelites para a coluna 'Satélite':"
   ]
  },
  {
   "cell_type": "code",
   "execution_count": 114,
   "id": "35780cc9",
   "metadata": {},
   "outputs": [
    {
     "data": {
      "text/html": [
       "<div>\n",
       "<style scoped>\n",
       "    .dataframe tbody tr th:only-of-type {\n",
       "        vertical-align: middle;\n",
       "    }\n",
       "\n",
       "    .dataframe tbody tr th {\n",
       "        vertical-align: top;\n",
       "    }\n",
       "\n",
       "    .dataframe thead th {\n",
       "        text-align: right;\n",
       "    }\n",
       "</style>\n",
       "<table border=\"1\" class=\"dataframe\">\n",
       "  <thead>\n",
       "    <tr style=\"text-align: right;\">\n",
       "      <th></th>\n",
       "      <th>Resolução Espacial (m)</th>\n",
       "      <th>Operador</th>\n",
       "    </tr>\n",
       "    <tr>\n",
       "      <th>Satélite</th>\n",
       "      <th></th>\n",
       "      <th></th>\n",
       "    </tr>\n",
       "  </thead>\n",
       "  <tbody>\n",
       "    <tr>\n",
       "      <th>Landsat 8</th>\n",
       "      <td>30.00</td>\n",
       "      <td>NASA/USGS</td>\n",
       "    </tr>\n",
       "    <tr>\n",
       "      <th>Sentinel-2</th>\n",
       "      <td>10.00</td>\n",
       "      <td>ESA</td>\n",
       "    </tr>\n",
       "    <tr>\n",
       "      <th>WorldView-3</th>\n",
       "      <td>0.31</td>\n",
       "      <td>DigitalGlobe</td>\n",
       "    </tr>\n",
       "  </tbody>\n",
       "</table>\n",
       "</div>"
      ],
      "text/plain": [
       "             Resolução Espacial (m)      Operador\n",
       "Satélite                                         \n",
       "Landsat 8                  30.00        NASA/USGS\n",
       "Sentinel-2                 10.00              ESA\n",
       "WorldView-3                 0.31     DigitalGlobe"
      ]
     },
     "execution_count": 114,
     "metadata": {},
     "output_type": "execute_result"
    }
   ],
   "source": [
    "df_satelites.set_index('Satélite', inplace=True)\n",
    "df_satelites"
   ]
  },
  {
   "cell_type": "markdown",
   "id": "e24c3cdf",
   "metadata": {},
   "source": [
    "Agora, podemos usar join para combinar os DataFrames:"
   ]
  },
  {
   "cell_type": "code",
   "execution_count": 115,
   "id": "d2a30542",
   "metadata": {},
   "outputs": [
    {
     "data": {
      "text/html": [
       "<div>\n",
       "<style scoped>\n",
       "    .dataframe tbody tr th:only-of-type {\n",
       "        vertical-align: middle;\n",
       "    }\n",
       "\n",
       "    .dataframe tbody tr th {\n",
       "        vertical-align: top;\n",
       "    }\n",
       "\n",
       "    .dataframe thead th {\n",
       "        text-align: right;\n",
       "    }\n",
       "</style>\n",
       "<table border=\"1\" class=\"dataframe\">\n",
       "  <thead>\n",
       "    <tr style=\"text-align: right;\">\n",
       "      <th></th>\n",
       "      <th>Imagem</th>\n",
       "      <th>Região</th>\n",
       "      <th>Área Coberta (km²)</th>\n",
       "      <th>Custo (R$)</th>\n",
       "      <th>Resolução Espacial (m)</th>\n",
       "      <th>Operador</th>\n",
       "    </tr>\n",
       "  </thead>\n",
       "  <tbody>\n",
       "    <tr>\n",
       "      <th>0</th>\n",
       "      <td>Landsat 8</td>\n",
       "      <td>Amazônia</td>\n",
       "      <td>1000</td>\n",
       "      <td>5000</td>\n",
       "      <td>30.00</td>\n",
       "      <td>NASA/USGS</td>\n",
       "    </tr>\n",
       "    <tr>\n",
       "      <th>1</th>\n",
       "      <td>Sentinel-2</td>\n",
       "      <td>Cerrado</td>\n",
       "      <td>1500</td>\n",
       "      <td>10000</td>\n",
       "      <td>10.00</td>\n",
       "      <td>ESA</td>\n",
       "    </tr>\n",
       "    <tr>\n",
       "      <th>2</th>\n",
       "      <td>Landsat 8</td>\n",
       "      <td>Pantanal</td>\n",
       "      <td>2000</td>\n",
       "      <td>15000</td>\n",
       "      <td>30.00</td>\n",
       "      <td>NASA/USGS</td>\n",
       "    </tr>\n",
       "    <tr>\n",
       "      <th>3</th>\n",
       "      <td>WorldView-3</td>\n",
       "      <td>Pantanal</td>\n",
       "      <td>500</td>\n",
       "      <td>50000</td>\n",
       "      <td>0.31</td>\n",
       "      <td>DigitalGlobe</td>\n",
       "    </tr>\n",
       "    <tr>\n",
       "      <th>4</th>\n",
       "      <td>Sentinel-2</td>\n",
       "      <td>Amazônia</td>\n",
       "      <td>3000</td>\n",
       "      <td>25000</td>\n",
       "      <td>10.00</td>\n",
       "      <td>ESA</td>\n",
       "    </tr>\n",
       "    <tr>\n",
       "      <th>5</th>\n",
       "      <td>WorldView-3</td>\n",
       "      <td>Caatinga</td>\n",
       "      <td>750</td>\n",
       "      <td>70000</td>\n",
       "      <td>0.31</td>\n",
       "      <td>DigitalGlobe</td>\n",
       "    </tr>\n",
       "    <tr>\n",
       "      <th>6</th>\n",
       "      <td>Landsat 8</td>\n",
       "      <td>Caatinga</td>\n",
       "      <td>1250</td>\n",
       "      <td>7500</td>\n",
       "      <td>30.00</td>\n",
       "      <td>NASA/USGS</td>\n",
       "    </tr>\n",
       "    <tr>\n",
       "      <th>7</th>\n",
       "      <td>Sentinel-2</td>\n",
       "      <td>Cerrado</td>\n",
       "      <td>1750</td>\n",
       "      <td>15000</td>\n",
       "      <td>10.00</td>\n",
       "      <td>ESA</td>\n",
       "    </tr>\n",
       "  </tbody>\n",
       "</table>\n",
       "</div>"
      ],
      "text/plain": [
       "        Imagem    Região  Área Coberta (km²)  Custo (R$)  \\\n",
       "0    Landsat 8  Amazônia                1000        5000   \n",
       "1   Sentinel-2   Cerrado                1500       10000   \n",
       "2    Landsat 8  Pantanal                2000       15000   \n",
       "3  WorldView-3  Pantanal                 500       50000   \n",
       "4   Sentinel-2  Amazônia                3000       25000   \n",
       "5  WorldView-3  Caatinga                 750       70000   \n",
       "6    Landsat 8  Caatinga                1250        7500   \n",
       "7   Sentinel-2   Cerrado                1750       15000   \n",
       "\n",
       "   Resolução Espacial (m)      Operador  \n",
       "0                30.00        NASA/USGS  \n",
       "1                10.00              ESA  \n",
       "2                30.00        NASA/USGS  \n",
       "3                 0.31     DigitalGlobe  \n",
       "4                10.00              ESA  \n",
       "5                 0.31     DigitalGlobe  \n",
       "6                30.00        NASA/USGS  \n",
       "7                10.00              ESA  "
      ]
     },
     "execution_count": 115,
     "metadata": {},
     "output_type": "execute_result"
    }
   ],
   "source": [
    "df_juncao = df.join(df_satelites, on='Imagem', how='left')\n",
    "df_juncao"
   ]
  },
  {
   "cell_type": "markdown",
   "id": "73bbf3ca",
   "metadata": {},
   "source": [
    "Neste exemplo, estamos usando on para especificar a coluna do DataFrame df que deve ser usada para a junção. Novamente, how='left' garante que todas as entradas do df  sejam mantidas.\n",
    "\n",
    "\n",
    "\n",
    "## 3.3 Importação e exportação de dados\n",
    "\n",
    "   A capacidade de importar e exportar dados é fundamental ao trabalhar com análise de dados no contexto do Geoprocessamento. O Pandas oferece uma ampla variedade de funções para ler e escrever dados em diversos formatos. Vamos explorar a importação e exportação de dados usando Pandas, com foco em arquivos CSV e Excel.\n",
    "\n",
    "\n",
    "### 3.3.1 Arquivos CSV (Comma-Separated Values)\n",
    "\n",
    "A leitura de arquivos CSV (Comma-Separated Values) é uma das tarefas mais comuns ao se trabalhar com análise de dados em Python. No Pandas utilizamos a função read_CSV. Vamos explorar os principais aspectos e opções dessa função:\n",
    "Sintaxe básica:\n",
    "``` df = pd.read_csv('caminho_do_arquivo.csv') ```\n",
    "\n",
    "Caso o delimitador do arquivo seja ponto e vírgula, é possível utilizar o parâmetro “sep”:\n",
    "\n",
    "``` df = pd.read_csv('caminho_do_arquivo.csv', sep=';') ```\n",
    "\n",
    "Quadro 6: Parâmetros do método read_csv.\n",
    "\n",
    "| Parâmetro           | Descrição                                                                                                                        |\n",
    "|---------------------|----------------------------------------------------------------------------------------------------------------------------------|\n",
    "| filepath_or_buffer  | String contendo o caminho para o arquivo ou um objeto do tipo arquivo.                                                           |\n",
    "| sep                 | Delimitador a ser usado. Padrão é ','.                                                                                           |\n",
    "| delimiter           | Alternativa ao argumento sep.                                                                                                    |\n",
    "| header              | Número(s) da(s) linha(s) a ser(em) usada(s) como nome das colunas. Padrão é 'infer' (inferir a partir da primeira linha).        |\n",
    "| names               | Lista de nomes de colunas a serem usadas. Se o arquivo já tiver um cabeçalho, você deverá especificar header=0 para substituir.  |\n",
    "| index_col           | Coluna(s) a ser(em) usada(s) como índice (linha).                                                                                |\n",
    "| usecols             | Lista de colunas a serem lidas no DataFrame.                                                                                     |\n",
    "| dtype               | Tipo de dado para colunas. Pode ser um único tipo ou um dicionário.                                                              |\n",
    "| skiprows            | Número de linhas ou sequência de índices de linha para pular ao ler.                                                             |\n",
    "| na_values           | Sequência de valores que, se encontrados no CSV, devem ser tratados como NaN.                                                    |\n",
    "| parse_dates         | Colunas a serem interpretadas como datas.                                                                                        |\n",
    "| date_parser         | Função a ser usada para analisar datas.                                                                                          |\n",
    "| nrows               | Número de linhas a serem lidas a partir do início do arquivo.                                                                    |\n",
    "| skipfooter          | Número de linhas a serem ignoradas na parte inferior do arquivo.                                                                 |\n",
    "| encoding            | Codificação a ser usada para o arquivo. O padrão é 'utf-8', mas em alguns casos você pode precisar usar 'ISO-8859-1' ou outras.  |\n",
    "| compression         | Tipo de compressão do arquivo. Suporta 'infer', 'gzip', 'bz2', 'zip', 'xz', etc.                                                |\n",
    "\n",
    "\n",
    "Exemplo 2: Ler somente determinadas colunas de um arquivo."
   ]
  },
  {
   "cell_type": "code",
   "execution_count": 116,
   "id": "bc0fbc52",
   "metadata": {},
   "outputs": [
    {
     "data": {
      "text/html": [
       "<div>\n",
       "<style scoped>\n",
       "    .dataframe tbody tr th:only-of-type {\n",
       "        vertical-align: middle;\n",
       "    }\n",
       "\n",
       "    .dataframe tbody tr th {\n",
       "        vertical-align: top;\n",
       "    }\n",
       "\n",
       "    .dataframe thead th {\n",
       "        text-align: right;\n",
       "    }\n",
       "</style>\n",
       "<table border=\"1\" class=\"dataframe\">\n",
       "  <thead>\n",
       "    <tr style=\"text-align: right;\">\n",
       "      <th></th>\n",
       "      <th>País</th>\n",
       "      <th>Área</th>\n",
       "    </tr>\n",
       "  </thead>\n",
       "  <tbody>\n",
       "    <tr>\n",
       "      <th>0</th>\n",
       "      <td>Argentina</td>\n",
       "      <td>2780400</td>\n",
       "    </tr>\n",
       "    <tr>\n",
       "      <th>1</th>\n",
       "      <td>Bolívia</td>\n",
       "      <td>1098581</td>\n",
       "    </tr>\n",
       "    <tr>\n",
       "      <th>2</th>\n",
       "      <td>Brasil</td>\n",
       "      <td>8515767</td>\n",
       "    </tr>\n",
       "    <tr>\n",
       "      <th>3</th>\n",
       "      <td>Chile</td>\n",
       "      <td>756102</td>\n",
       "    </tr>\n",
       "    <tr>\n",
       "      <th>4</th>\n",
       "      <td>Colômbia</td>\n",
       "      <td>1141748</td>\n",
       "    </tr>\n",
       "  </tbody>\n",
       "</table>\n",
       "</div>"
      ],
      "text/plain": [
       "        País     Área\n",
       "0  Argentina  2780400\n",
       "1    Bolívia  1098581\n",
       "2     Brasil  8515767\n",
       "3      Chile   756102\n",
       "4   Colômbia  1141748"
      ]
     },
     "execution_count": 116,
     "metadata": {},
     "output_type": "execute_result"
    }
   ],
   "source": [
    "df = pd.read_csv('~/geopythonbook/content/1_paises_america_sul/paises_america_sul.csv', usecols=['País', 'Área'])\n",
    "df.head()"
   ]
  },
  {
   "cell_type": "markdown",
   "id": "28629140",
   "metadata": {},
   "source": [
    "Exemplo 3: Ler um arquivo e interpretar a coluna 'data' como data."
   ]
  },
  {
   "cell_type": "code",
   "execution_count": 117,
   "id": "4ade0183",
   "metadata": {},
   "outputs": [
    {
     "data": {
      "text/plain": [
       "País                     object\n",
       "População                 int64\n",
       "Área                      int64\n",
       "Independência    datetime64[ns]\n",
       "dtype: object"
      ]
     },
     "execution_count": 117,
     "metadata": {},
     "output_type": "execute_result"
    }
   ],
   "source": [
    "df = pd.read_csv('~/geopythonbook/content/1_paises_america_sul/paises_america_sul.csv', parse_dates=['Independência'])\n",
    "df.dtypes"
   ]
  },
  {
   "cell_type": "markdown",
   "id": "6e70a18b",
   "metadata": {},
   "source": [
    "Exemplo 4: Tratar valores específicos como NaN.\n",
    "\n",
    "Considere a tabela abaixo, que é proveniente de um arquivo CSV:\n",
    "\n",
    "| País      | População  |\n",
    "|-----------|------------|\n",
    "| Brasil    |211050000  |\n",
    "| Argentina | NA         |\n",
    "| Chile     |19116201   |\n",
    "| Uruguai   | N/A        |\n",
    "| Paraguai  |7044636    |\n",
    "| Bolívia   | -          |\n",
    "\n",
    "\n",
    "Nesta tabela, temos diversos dados ausentes, representados por diferentes valores. Para que o Pandas os interprete como valores ausentes, podemos utilizar o método na_values() quando da leitura do arquivo CSV:"
   ]
  },
  {
   "cell_type": "code",
   "execution_count": 118,
   "id": "8f7f04d1",
   "metadata": {},
   "outputs": [],
   "source": [
    "df = pd.read_csv('~/geopythonbook/content/1_paises_america_sul/paises_america_sul.csv', na_values=['NA', 'N/A', '-'], encoding='ISO-8859-1')"
   ]
  },
  {
   "cell_type": "markdown",
   "id": "e7b7835e",
   "metadata": {},
   "source": [
    "O parâmetro na_values é usado para especificar uma lista de valores que devem ser tratados como \"faltantes\" (ou \"NA\" - Not Available) ao ler o arquivo. No exemplo fornecido, qualquer ocorrência dos valores 'NA', 'N/A' ou '-' nas células do arquivo CSV será interpretada pelo Pandas como um valor faltante (NaN).\n",
    "\n",
    "\n",
    "No caso do DataFrame de nosso exemplo, para ler os dados da coluna 'População' como int ao invés de float, você pode usar o argumento dtype do método read_CSV(). No entanto, é importante lembrar que os valores NaN são representados como float em Pandas. Portanto, se você tentar ler a coluna diretamente como int, receberá um erro quando encontrar um NaN. Uma solução seria ler a coluna como float primeiro (devido aos NaNs) e depois converter os valores não-NaN para int. \n",
    "\n",
    "\t\n",
    "    \n",
    "### 3.3.2 Arquivos do Excel\n",
    "\n",
    "A leitura de arquivos Excel é outra tarefa muito frequente em Geoprocessamento. O Pandas oferece suporte para ler dados de planilhas do Excel, tanto no formato .xls (formato mais antigo) quanto no .xlsx (formato mais recente). A função principal para essa tarefa é a read_excel.\n",
    "\n",
    "\n",
    "Quadro 7: Parâmetros do método read_excel.\n",
    "\n",
    "| Parâmetro    | Descrição                                                                                                                 |\n",
    "|--------------|---------------------------------------------------------------------------------------------------------------------------|\n",
    "| io           | Caminho do arquivo, URL ou objeto semelhante a um arquivo.                                                                |\n",
    "| sheet_name   | Nome ou índice da planilha a ser lida. Padrão é a primeira. Pode ser também uma lista de nomes/índices ou None para todas.|\n",
    "| header       | Número da linha a ser usada como cabeçalho. Padrão é 0 (a primeira linha).                                                |\n",
    "| names        | Lista de nomes de colunas a serem usadas.                                                                                 |\n",
    "| index_col    | Coluna(s) a ser(em) usada(s) como índice (linha).                                                                         |\n",
    "| usecols      | Lista de colunas a serem lidas no DataFrame ou string no formato do Excel (por exemplo, \"A,E:G\").                         |\n",
    "| dtype        | Tipo de dado para colunas. Pode ser um único tipo ou um dicionário.                                                        |\n",
    "| na_values    | Sequência de valores que, se encontrados, devem ser tratados como NaN.                                                    |\n",
    "| parse_dates  | Colunas a serem interpretadas como datas.                                                                                 |\n",
    "| date_parser  | Função a ser usada para analisar datas.                                                                                   |\n",
    "| nrows        | Número de linhas a serem lidas a partir do início da planilha.                                                            |\n",
    "| skipfooter   | Número de linhas a serem ignoradas na parte inferior da planilha.                                                         |\n",
    "| engine       | Engine a ser usada para leitura. Pode ser 'xlrd', 'openpyxl' ou 'odf'. Selecionada automaticamente pelo Pandas.           |\n",
    "\n",
    "\n",
    "Sintaxe básica:\n",
    "```\n",
    "df = pd.read_excel('caminho_do_arquivo.xlsx')\n",
    "```\n",
    "\n",
    "Exemplos:\n",
    "Considere um arquivo do Excel denominado paises_america_sul_central, com duas planilhas (figura 4): américa_central e américa_sul. \n",
    "\n",
    "![Figura 4](images/fig4.png)\n",
    "\n",
    "<p align=\"center\">Figura 4: Planilhas do excel com dados de países das Américas do Sul e Central.</p>\n",
    "\n",
    "\n",
    "Para importar os dados somente da planilha america_central:"
   ]
  },
  {
   "cell_type": "code",
   "execution_count": 119,
   "id": "0ffbcc96",
   "metadata": {},
   "outputs": [],
   "source": [
    "df = pd.read_excel('~/geopythonbook/content/2_paises_america_sul_central/paises_america_sul_central.xlsx', \n",
    "    sheet_name='america_central')"
   ]
  },
  {
   "cell_type": "markdown",
   "id": "aa5fd7fd",
   "metadata": {},
   "source": [
    "O método pd.read_excel() é utilizado para ler arquivos no formato Excel. O argumento adicional sheet_name='america_central' do método pd.read_excel() especifica qual planilha do arquivo Excel deve ser lida. Neste caso, estamos lendo a aba com o nome 'america_central'.\n",
    "\n",
    "\n",
    "Também é possível ler várias planilhas de um arquivo Excel com apenas um script:"
   ]
  },
  {
   "cell_type": "code",
   "execution_count": 120,
   "id": "5eea2288",
   "metadata": {},
   "outputs": [],
   "source": [
    "dfs = pd.read_excel('~/geopythonbook/content/2_paises_america_sul_central/paises_america_sul_central.xlsx', sheet_name=['america_sul', 'america_central'])"
   ]
  },
  {
   "cell_type": "markdown",
   "id": "7c412322",
   "metadata": {},
   "source": [
    "Nesse código: \n",
    "\n",
    "```sheet_name=['america_sul', 'america_central'] ``` especifica duas abas por meio de uma lista. Isso indica ao método pd.read_excel() que desejamos ler os dados de ambas as abas 'america_sul' e 'america_central'. Como resultado, a variável dfs será um dicionário onde as chaves são os nomes das abas ('america_sul' e 'america_central') e os valores são os respectivos DataFrames com os dados de cada aba.\n",
    "\n",
    "\n",
    "\n",
    "### 3.3.3 Gravação de dados em diferentes formatos\n",
    "\n",
    "O Pandas oferece uma série de métodos que permitem gravar DataFrames em diversos formatos. Vamos ver como salvar seus dados em formato .CSV e .xlsx.\n",
    "\n",
    "\n",
    "*Arquivo CSV*\n",
    "\n",
    "Para gravar um DataFrame como um arquivo CSV, use o método to_CSV:\n",
    "\n",
    "```\n",
    "df.to_csv('caminho_para_salvar.csv', index=False, sep=',')\n",
    "```\n",
    "\n",
    "\n",
    "Parâmetros comuns:\n",
    "\n",
    "index: Se verdadeiro, inclui o índice do DataFrame no arquivo. Por padrão é True;\n",
    "sep: Delimitador a ser usado. Por padrão é ','.\n",
    "\n",
    "\n",
    "*Arquivo Excel*\n",
    "\n",
    "Para gravar um DataFrame em um arquivo do Excel, use o método to_excel:\n",
    "\n",
    "```\n",
    "df.to_excel('caminho_para_salvar.xlsx', sheet_name='Planilha1', index=False)\n",
    "```\n",
    "\n",
    "Parâmetros comuns:\n",
    "\n",
    "sheet_name: Nome da planilha onde os dados serão escritos. Por padrão é Sheet';\n",
    "index: Se verdadeiro, inclui o índice do DataFrame na planilha."
   ]
  }
 ],
 "metadata": {
  "jupytext": {
   "formats": "md:myst",
   "text_representation": {
    "extension": ".md",
    "format_name": "myst",
    "format_version": 0.13,
    "jupytext_version": "1.11.5"
   }
  },
  "kernelspec": {
   "display_name": "Python 3",
   "language": "python",
   "name": "python3"
  },
  "language_info": {
   "codemirror_mode": {
    "name": "ipython",
    "version": 3
   },
   "file_extension": ".py",
   "mimetype": "text/x-python",
   "name": "python",
   "nbconvert_exporter": "python",
   "pygments_lexer": "ipython3",
   "version": "3.8.18"
  },
  "source_map": [
   13,
   39,
   41,
   44,
   47,
   50,
   53,
   56,
   58,
   61,
   63,
   66,
   68,
   71,
   73,
   76,
   78,
   184,
   187,
   192,
   194,
   198,
   202,
   204,
   207,
   211,
   213,
   219,
   221,
   224,
   226,
   230,
   232,
   236,
   240,
   242,
   246,
   248,
   256,
   265,
   270,
   275,
   294,
   306,
   309,
   314,
   318,
   321,
   325,
   332,
   336,
   339,
   342,
   345,
   348,
   354,
   357,
   361,
   364,
   372,
   375,
   383,
   386,
   391,
   394,
   399,
   402,
   407,
   410,
   420,
   423,
   428,
   431,
   438,
   442,
   447,
   450,
   455,
   458,
   470,
   472,
   477,
   479,
   486,
   488,
   493,
   495,
   502,
   504,
   517,
   521,
   523,
   528,
   530,
   544,
   546,
   549,
   551,
   556,
   558,
   563,
   568,
   573,
   575,
   594,
   605,
   610,
   612,
   618,
   620,
   625,
   627,
   632,
   634,
   639,
   641,
   644,
   646,
   651,
   653,
   664,
   669,
   672,
   674,
   681,
   688,
   692,
   694,
   706,
   713,
   720,
   722,
   730,
   732,
   745,
   747,
   751,
   753,
   762,
   764,
   780,
   786,
   790,
   793,
   810,
   822,
   825,
   832,
   836,
   838,
   842,
   844,
   848,
   850,
   868,
   870,
   880,
   882,
   898,
   900,
   913,
   915,
   925,
   927,
   947,
   958,
   961,
   971,
   975,
   977,
   980,
   982,
   985,
   987,
   991,
   993,
   997,
   999,
   1002,
   1004,
   1007,
   1009,
   1013,
   1015,
   1019,
   1021,
   1025,
   1027,
   1030,
   1032,
   1048,
   1060,
   1064,
   1066,
   1069,
   1071,
   1074,
   1076,
   1079,
   1081,
   1094,
   1099,
   1102,
   1112,
   1115,
   1120,
   1127,
   1130,
   1133,
   1144,
   1153,
   1159,
   1162,
   1171,
   1174,
   1178,
   1181,
   1226,
   1229,
   1233,
   1236,
   1254,
   1256,
   1303,
   1306,
   1312,
   1314
  ]
 },
 "nbformat": 4,
 "nbformat_minor": 5
}