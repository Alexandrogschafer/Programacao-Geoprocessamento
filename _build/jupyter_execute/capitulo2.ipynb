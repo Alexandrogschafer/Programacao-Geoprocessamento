{
 "cells": [
  {
   "cell_type": "markdown",
   "id": "259c6fc8",
   "metadata": {},
   "source": [
    "# 2. FUNDAMENTOS DA LINGUAGEM PYTHON\n",
    "\n",
    "[Abrir no Google Colab](https://colab.research.google.com/github/Alexandrogschafer/Programacao-Geoprocessamento/blob/main/capitulo2.ipynb)\n",
    "\n",
    "\n",
    "## 2.1 Sintaxe básica: variáveis, operadores, expressões\n",
    "\n",
    "O entendimento da sintaxe básica do Python é fundamental para começar a programar nesta linguagem, especialmente em aplicações voltadas para o geoprocessamento. Nesta seção abordaremos três elementos essenciais da sintaxe do Python: variáveis, operadores e expressões.\n",
    "\n",
    "### 2.1.1 Variáveis\n",
    "\n",
    "Em Python, as variáveis são usadas para armazenar informações que podem ser referenciadas e manipuladas em um programa. A atribuição de valores a variáveis em Python é feita usando o operador “=”, e não é necessário declarar explicitamente o tipo da variável, já que Python é uma linguagem de tipagem dinâmica. São exemplos de variáveis:"
   ]
  },
  {
   "cell_type": "code",
   "execution_count": 1,
   "id": "e6b84c93",
   "metadata": {},
   "outputs": [],
   "source": [
    "x = 10\n",
    "y = 8\n",
    "nome = 'Ana' \n",
    "idade = 30       \n",
    "altura_metros = 1.75"
   ]
  },
  {
   "cell_type": "markdown",
   "id": "7d7c5583",
   "metadata": {},
   "source": [
    "<br>\n",
    "\n",
    "Tipagem dinâmica refere-se ao mecanismo pelo qual o tipo de uma variável é determinado em tempo de execução, ao contrário da tipagem estática, onde o tipo de uma variável é determinado em tempo de compilação. Em linguagens com tipagem dinâmica, o tipo de uma variável pode mudar durante a execução do programa, dependendo do valor que lhe é atribuído.\n",
    "\n",
    "Cada linguagem de programação possui suas próprias regras e convenções para nomear variáveis, mas existem algumas práticas gerais recomendadas:\n",
    "\n",
    "*Regras comuns:*\n",
    "\n",
    "- O nome geralmente começa com uma letra ou sublinhado (_);\n",
    "\n",
    "- Pode conter letras (maiúsculas ou minúsculas), números ou sublinhados;\n",
    "\n",
    "- Não deve conter espaços ou caracteres especiais;\n",
    "\n",
    "- Não deve ser uma palavra reservada da linguagem.\n",
    "<br>\n",
    "\n",
    "*Convenções (de acordo com PEP 8)*\n",
    "\n",
    "O PEP 8 é a convenção de estilo para o código Python. PEP é uma sigla para \"Python Enhancement Proposal\" (Proposta de Melhoria do Python), e o número 8 refere-se ao número específico deste PEP. O PEP 8 fornece um conjunto de regras e recomendações para formatar o código Python, tornando-o mais legível e consistente em toda a comunidade Python.\n",
    "\n",
    "- Nomes de Variáveis: devem ser escritos em letras minúsculas, com palavras separadas por sublinhados. Exemplo: minha_variavel, contador, taxa_de_juros;\n",
    "\n",
    "- Variáveis Privadas: Para variáveis que são destinadas a uso interno dentro de um módulo ou classe e que não devem ser acessadas diretamente de fora, é comum usar um sublinhado antes do nome, como _variavel_privada;\n",
    "\n",
    "- Variáveis Muito Privadas: Se um nome de variável começa com dois sublinhados __, indica que a variável é \"muito privada\" e, geralmente, é usada para evitar conflitos de nome em subclasses;\n",
    "\n",
    "- Variáveis de Sistema: Se um nome de variável termina com dois sublinhados, é uma variável de sistema ou \"mágica\" que tem um uso especial em Python, como __init__, __name__, etc;\n",
    "\n",
    "- Constantes: Constantes são geralmente declaradas em letras maiúsculas com palavras separadas por sublinhados, por exemplo: PI, TAXA_FIXA;\n",
    "\n",
    "- Evitar o uso de l (letra 'el' minúscula) e O (letra 'o' maiúscula): Estes podem ser confundidos com o número 1 e 0, respectivamente.\n",
    "<br>\n",
    "\n",
    "*Atribuição de valores a variáveis*\n",
    "\n",
    "Atribuição de valores a variáveis é o processo de guardar um valor em uma variável. Em muitas linguagens de programação, incluindo Python, o operador de atribuição é o sinal de igual (=). Isso significa que você está associando um valor à variável à esquerda do sinal de igual.\n",
    "\n",
    "Em Python, a operação de atribuição cria uma referência entre o nome da variável e o valor ou objeto. Portanto, a variável não contém o valor em si, mas sim uma referência para o valor.\n",
    "<br>\n",
    "\n",
    "*Atribuição simples*\n",
    "\n",
    "A atribuição simples é o método mais básico e direto de associar um valor a uma variável. Na atribuição simples, utilizamos o operador “=” para designar um valor a uma variável.\n",
    "\n",
    "A sintaxe básica é:\n",
    "```nome_da_variavel = valor```\n",
    "\n",
    "Aqui estão alguns exemplos usando Python:"
   ]
  },
  {
   "cell_type": "code",
   "execution_count": 2,
   "id": "080e6831",
   "metadata": {},
   "outputs": [],
   "source": [
    "x = 15             # Atribui o valor inteiro 15 à variável x\n",
    "\n",
    "altura = 1.80      # Atribui o valor real 1.80 à variável altura\n",
    "\n",
    "nome = 'Julia'     # Atribui a string 'Julia' à variável nome\n",
    "\n",
    "ativo = True       # Atribui o valor booleano True (verdadeiro) à variável ativo"
   ]
  },
  {
   "cell_type": "markdown",
   "id": "d525750a",
   "metadata": {},
   "source": [
    "<br>\n",
    "\n",
    "Em linguagens com tipagem dinâmica, como Python, o tipo da variável é determinado automaticamente com base no valor atribuído. Assim, você não precisa declarar explicitamente o tipo da variável ao criá-la.\n",
    "\n",
    "A principal coisa a lembrar sobre a atribuição simples é que ela designa um valor à variável, e a variável passa a referenciar esse valor. Se o valor for um objeto, a variável não contém o objeto em si, mas sim uma referência a ele."
   ]
  },
  {
   "cell_type": "code",
   "execution_count": 3,
   "id": "a5d55fde",
   "metadata": {},
   "outputs": [],
   "source": [
    "nome = 'Ana'            # A variável 'nome' recebe o valor 'Ana'.\n",
    "\n",
    "idade = 30                 # A variável 'idade' recebe o valor '30'.\n",
    "\n",
    "altura_metros = 1.75       # A variável 'altura_metros' recebe o valor '1.75'.\n",
    "\n",
    "estudante = True           # A variável 'estudante' recebe o valor 'True'.\n",
    "\n",
    "notas = [90, 85, 88, 76]   # A variável 'notas' recebe a lista de valores '[90, 85, 88, 76]'"
   ]
  },
  {
   "cell_type": "markdown",
   "id": "a3a91c53",
   "metadata": {},
   "source": [
    "<br>\n",
    "\n",
    "Uma vez que uma variável é nomeada, seu nome não pode ser alterado. No entanto, o valor associado a essa variável pode."
   ]
  },
  {
   "cell_type": "code",
   "execution_count": 4,
   "id": "ba7764c8",
   "metadata": {},
   "outputs": [],
   "source": [
    "x = 10  # A variável 'x' recebe o valor 10.\n",
    "\n",
    "x = 20  # O valor de 'x' é alterado para 20, mas seu nome permanece 'x'."
   ]
  },
  {
   "cell_type": "markdown",
   "id": "d472d58c",
   "metadata": {},
   "source": [
    "<br>\n",
    "\n",
    "*Atribuição múltipla*\n",
    "\n",
    "A atribuição múltipla é uma característica disponível em algumas linguagens de programação, incluindo o Python, que permite que você atribua valores a várias variáveis simultaneamente em uma única instrução. Vamos ver como a atribuição múltipla funciona em Python:"
   ]
  },
  {
   "cell_type": "code",
   "execution_count": 5,
   "id": "518d08f8",
   "metadata": {},
   "outputs": [],
   "source": [
    "x, y, z = 15, 25, 35"
   ]
  },
  {
   "cell_type": "markdown",
   "id": "59b0142f",
   "metadata": {},
   "source": [
    "<br>\n",
    "\n",
    "Neste caso, x receberá o valor 15, y receberá o valor 25, e z receberá o valor 35.\n",
    "\n",
    "Uma das vantagens da atribuição múltipla é a facilidade com que você pode trocar valores entre duas variáveis."
   ]
  },
  {
   "cell_type": "code",
   "execution_count": 6,
   "id": "59a520af",
   "metadata": {},
   "outputs": [
    {
     "name": "stdout",
     "output_type": "stream",
     "text": [
      "O valor de x é: 12\n",
      "O valor de y é: 7\n"
     ]
    }
   ],
   "source": [
    "x = 7\n",
    "y = 12\n",
    "x, y = y, x\n",
    "print('O valor de x é:', x)\n",
    "print('O valor de y é:', y)"
   ]
  },
  {
   "cell_type": "markdown",
   "id": "ce4a30fa",
   "metadata": {},
   "source": [
    "<br>\n",
    "\n",
    "A atribuição múltipla torna o código mais conciso e, em muitos casos, mais legível, especialmente quando usada de maneira apropriada e não excessiva.\n",
    "\n",
    "\n",
    "\n",
    "### 2.1.2 Operadores: aritméticos, comparação, lógicos\n",
    "\n",
    "*Operadores aritméticos*\n",
    "\n",
    "Os operadores aritméticos são usados em Python para realizar operações matemáticas entre valores ou variáveis. Eles são fundamentais em qualquer linguagem de programação e formam a base para cálculos numéricos. O quadro 1 traz os principais operadores aritméticos em Python.\n",
    "\n",
    "\n",
    "Adição:"
   ]
  },
  {
   "cell_type": "code",
   "execution_count": 7,
   "id": "1a314354",
   "metadata": {},
   "outputs": [
    {
     "data": {
      "text/plain": [
       "11"
      ]
     },
     "execution_count": 7,
     "metadata": {},
     "output_type": "execute_result"
    }
   ],
   "source": [
    "7 + 4"
   ]
  },
  {
   "cell_type": "markdown",
   "id": "7356c54b",
   "metadata": {},
   "source": [
    "Subtração:"
   ]
  },
  {
   "cell_type": "code",
   "execution_count": 8,
   "id": "56af54af",
   "metadata": {},
   "outputs": [
    {
     "data": {
      "text/plain": [
       "3"
      ]
     },
     "execution_count": 8,
     "metadata": {},
     "output_type": "execute_result"
    }
   ],
   "source": [
    "7 - 4"
   ]
  },
  {
   "cell_type": "markdown",
   "id": "d67024d6",
   "metadata": {},
   "source": [
    "Multiplicação:"
   ]
  },
  {
   "cell_type": "code",
   "execution_count": 9,
   "id": "04c1c496",
   "metadata": {},
   "outputs": [
    {
     "data": {
      "text/plain": [
       "28"
      ]
     },
     "execution_count": 9,
     "metadata": {},
     "output_type": "execute_result"
    }
   ],
   "source": [
    "7 * 4"
   ]
  },
  {
   "cell_type": "markdown",
   "id": "f3cb1f33",
   "metadata": {},
   "source": [
    "Divisão:"
   ]
  },
  {
   "cell_type": "code",
   "execution_count": 10,
   "id": "f9c6ecc4",
   "metadata": {},
   "outputs": [
    {
     "data": {
      "text/plain": [
       "2.25"
      ]
     },
     "execution_count": 10,
     "metadata": {},
     "output_type": "execute_result"
    }
   ],
   "source": [
    "9 / 4"
   ]
  },
  {
   "cell_type": "markdown",
   "id": "f4d1683f",
   "metadata": {},
   "source": [
    "Divisão inteira: Realiza a divisão entre operandos, retornando somente a parte inteira do quociente."
   ]
  },
  {
   "cell_type": "code",
   "execution_count": 11,
   "id": "6f537ace",
   "metadata": {},
   "outputs": [
    {
     "data": {
      "text/plain": [
       "2"
      ]
     },
     "execution_count": 11,
     "metadata": {},
     "output_type": "execute_result"
    }
   ],
   "source": [
    "9 // 4"
   ]
  },
  {
   "cell_type": "markdown",
   "id": "369c0109",
   "metadata": {},
   "source": [
    "Módulo: Retorna o resto da divisão entre operandos."
   ]
  },
  {
   "cell_type": "code",
   "execution_count": 12,
   "id": "6e60ec6f",
   "metadata": {},
   "outputs": [
    {
     "data": {
      "text/plain": [
       "1"
      ]
     },
     "execution_count": 12,
     "metadata": {},
     "output_type": "execute_result"
    }
   ],
   "source": [
    "9 % 4"
   ]
  },
  {
   "cell_type": "markdown",
   "id": "870579b5",
   "metadata": {},
   "source": [
    "Exponenciação:"
   ]
  },
  {
   "cell_type": "code",
   "execution_count": 13,
   "id": "44307b0c",
   "metadata": {},
   "outputs": [
    {
     "data": {
      "text/plain": [
       "2401"
      ]
     },
     "execution_count": 13,
     "metadata": {},
     "output_type": "execute_result"
    }
   ],
   "source": [
    "7 ** 4"
   ]
  },
  {
   "cell_type": "markdown",
   "id": "2e0a4698",
   "metadata": {},
   "source": [
    "Radiciação:"
   ]
  },
  {
   "cell_type": "code",
   "execution_count": 14,
   "id": "ef9225c6",
   "metadata": {},
   "outputs": [
    {
     "data": {
      "text/plain": [
       "3.0"
      ]
     },
     "execution_count": 14,
     "metadata": {},
     "output_type": "execute_result"
    }
   ],
   "source": [
    "9 ** 0.5"
   ]
  },
  {
   "cell_type": "markdown",
   "id": "40a6150c",
   "metadata": {},
   "source": [
    "É importante notar que a ordem das operações segue a precedência matemática padrão. Por exemplo, a multiplicação e a divisão são avaliadas antes da adição e subtração. Se desejar modificar a ordem das operações, pode usar parênteses. Por exemplo:"
   ]
  },
  {
   "cell_type": "code",
   "execution_count": 15,
   "id": "94a0ec4a",
   "metadata": {},
   "outputs": [
    {
     "data": {
      "text/plain": [
       "16"
      ]
     },
     "execution_count": 15,
     "metadata": {},
     "output_type": "execute_result"
    }
   ],
   "source": [
    "(5 + 3) * 2"
   ]
  },
  {
   "cell_type": "code",
   "execution_count": 16,
   "id": "ce59e348",
   "metadata": {},
   "outputs": [
    {
     "data": {
      "text/plain": [
       "11"
      ]
     },
     "execution_count": 16,
     "metadata": {},
     "output_type": "execute_result"
    }
   ],
   "source": [
    "5 + 3 * 2    "
   ]
  },
  {
   "cell_type": "markdown",
   "id": "79ce1468",
   "metadata": {},
   "source": [
    "<br>\n",
    "\n",
    "*Operadores de comparação*\n",
    "\n",
    "Os operadores de comparação em Python são usados para comparar dois valores e retornar um valor booleano (True ou False) com base no resultado da comparação. Eles são fundamentais para estruturas de controle condicional, como instruções if, elif e else. O quadro 2 traz os principais operadores de comparação em Python.\n",
    "\n",
    "Igual a:"
   ]
  },
  {
   "cell_type": "code",
   "execution_count": 17,
   "id": "31500bf1",
   "metadata": {},
   "outputs": [
    {
     "data": {
      "text/plain": [
       "True"
      ]
     },
     "execution_count": 17,
     "metadata": {},
     "output_type": "execute_result"
    }
   ],
   "source": [
    "6 == 6"
   ]
  },
  {
   "cell_type": "markdown",
   "id": "20958558",
   "metadata": {},
   "source": [
    "Diferente de:"
   ]
  },
  {
   "cell_type": "code",
   "execution_count": 18,
   "id": "2d35a327",
   "metadata": {},
   "outputs": [
    {
     "data": {
      "text/plain": [
       "False"
      ]
     },
     "execution_count": 18,
     "metadata": {},
     "output_type": "execute_result"
    }
   ],
   "source": [
    "6 != 6"
   ]
  },
  {
   "cell_type": "markdown",
   "id": "2ce50da2",
   "metadata": {},
   "source": [
    "Menor que:"
   ]
  },
  {
   "cell_type": "code",
   "execution_count": 19,
   "id": "e8e36178",
   "metadata": {},
   "outputs": [
    {
     "data": {
      "text/plain": [
       "True"
      ]
     },
     "execution_count": 19,
     "metadata": {},
     "output_type": "execute_result"
    }
   ],
   "source": [
    "5 < 6"
   ]
  },
  {
   "cell_type": "markdown",
   "id": "9d92877b",
   "metadata": {},
   "source": [
    "Maior que:"
   ]
  },
  {
   "cell_type": "code",
   "execution_count": 20,
   "id": "49d22da4",
   "metadata": {},
   "outputs": [
    {
     "data": {
      "text/plain": [
       "False"
      ]
     },
     "execution_count": 20,
     "metadata": {},
     "output_type": "execute_result"
    }
   ],
   "source": [
    "5 > 6"
   ]
  },
  {
   "cell_type": "markdown",
   "id": "3493d6ce",
   "metadata": {},
   "source": [
    "Menor ou igual a:"
   ]
  },
  {
   "cell_type": "code",
   "execution_count": 21,
   "id": "d9bc15bf",
   "metadata": {},
   "outputs": [
    {
     "data": {
      "text/plain": [
       "True"
      ]
     },
     "execution_count": 21,
     "metadata": {},
     "output_type": "execute_result"
    }
   ],
   "source": [
    "6 <= 6"
   ]
  },
  {
   "cell_type": "markdown",
   "id": "d93be88e",
   "metadata": {},
   "source": [
    "Maior ou igual a:"
   ]
  },
  {
   "cell_type": "code",
   "execution_count": 22,
   "id": "b95287e6",
   "metadata": {},
   "outputs": [
    {
     "data": {
      "text/plain": [
       "False"
      ]
     },
     "execution_count": 22,
     "metadata": {},
     "output_type": "execute_result"
    }
   ],
   "source": [
    "6 >= 8"
   ]
  },
  {
   "cell_type": "markdown",
   "id": "d327ee3a",
   "metadata": {},
   "source": [
    "<br>\n",
    "\n",
    "*Operadores lógicos*\n",
    "\n",
    "Os operadores lógicos são usados para avaliar múltiplas condições ou combinar o resultado de diferentes comparações, resultando em um valor booleano (True ou False). O quadro 3 traz os operadores lógicos em Python.\n",
    "\n",
    "Operador and: Retorna True se ambas as condições forem verdadeiras."
   ]
  },
  {
   "cell_type": "code",
   "execution_count": 23,
   "id": "f3d3465f",
   "metadata": {},
   "outputs": [],
   "source": [
    "idadeLuiza = 19\n",
    "idadePietra = 14"
   ]
  },
  {
   "cell_type": "markdown",
   "id": "cde0656f",
   "metadata": {},
   "source": [
    "Operador or: Retorna True se pelo menos uma das condições for verdadeira."
   ]
  },
  {
   "cell_type": "code",
   "execution_count": 24,
   "id": "1c7de46a",
   "metadata": {},
   "outputs": [
    {
     "data": {
      "text/plain": [
       "False"
      ]
     },
     "execution_count": 24,
     "metadata": {},
     "output_type": "execute_result"
    }
   ],
   "source": [
    "idadeLuiza >= 18 and idadePietra >= 18 "
   ]
  },
  {
   "cell_type": "markdown",
   "id": "bbddd5ca",
   "metadata": {},
   "source": [
    "Operador not: Inverte o valor booleano."
   ]
  },
  {
   "cell_type": "code",
   "execution_count": 25,
   "id": "5fd6be10",
   "metadata": {},
   "outputs": [
    {
     "data": {
      "text/plain": [
       "True"
      ]
     },
     "execution_count": 25,
     "metadata": {},
     "output_type": "execute_result"
    }
   ],
   "source": [
    "idadeLuiza >= 18 or idadePietra >= 18"
   ]
  },
  {
   "cell_type": "markdown",
   "id": "8162b345",
   "metadata": {},
   "source": [
    "Esses operadores são essenciais para controle de fluxo em programação, permitindo combinações complexas de condições em estruturas como if, while, entre outras. A capacidade de avaliar e combinar condições é uma parte fundamental da lógica de programação. No decorrer de nosso curso, aprofundaremos nosso estudo sobre os operadores, contemplando ainda os operadores de atribuição, de identidade e de associação. \n",
    "\n",
    "\n",
    "### 2.1.3 Expressões\n",
    "\n",
    "Expressões em Python referem-se a combinações de valores, variáveis e operadores que são avaliadas pelo interpretador Python para produzir um resultado. Em termos simples, uma expressão é como uma instrução matemática que o Python resolve e retorna um valor. No contexto de uma expressão:\n",
    "<br>\n",
    "\n",
    "- Valores: São os dados básicos com os quais trabalhamos, como números (2, 4.5) ou strings (\"geoprocessamento\", \"Python\").\n",
    "\n",
    "- Operadores: São símbolos que realizam operações sobre valores, como adição (“+”), subtração (“-”), multiplicação (“*”), divisão (“/”) e muitos outros. Exemplo: “3 + 4” é uma expressão onde “3” e “4” são valores e “+” é um operador.\n",
    "<br>\n",
    "\n",
    "- Variáveis: São nomes que designam locais na memória para armazenar valores. Uma vez que um valor é atribuído a uma variável, a variável pode ser usada em expressões. Exemplo: “x = 5” (Aqui, “x” é uma variável e “5” é um valor. Depois disso, é possível usar “x” em expressões como “x + 2”.)\n",
    "<br>\n",
    "\n",
    "- Funções: são blocos de código reutilizáveis que realizam uma tarefa específica. Em expressões, funções podem ser usadas para processar valores e produzir resultados. Exemplo: “print(\"Geoprocessamento com Python\")” (Aqui, “print” é uma função que exibe seu argumento.)\n",
    "<br>\n",
    "\n",
    "- Avaliação: Quando o Python encontra uma expressão, seja em um script ou no terminal interativo, ele avalia (ou calcula) a expressão e retorna um resultado. Exemplo: Na expressão “7 * 6”, o Python avaliará isso e retornará “42”.\n",
    "\n",
    "\n",
    "## 2.2 Tipos básicos de dados\n",
    "\n",
    "Os tipos básicos de dados (figura 1), também conhecidos como tipos primitivos ou fundamentais, referem-se às categorias mais simples e fundamentais de informações que uma linguagem de programação pode representar e manipular diretamente. Em Python, os principais tipos básicos de dados são: Inteiros, Ponto Flutuante, Strings, Booleanos e Bytes. Esses tipos de dados são a base para a representação e manipulação de informações em Python. O entendimento desses tipos básicos é essencial, pois eles são frequentemente usados em combinação com as estruturas mais avançadas.\n",
    "\n",
    "![Figura 1](images/fig1.png)\n",
    "\n",
    "<p align=\"center\">Figura 1: Tipos básicos de dados em Python.</p>\n",
    "\n",
    "\n",
    "\n",
    "### 2.2.1 Inteiros\n",
    "\n",
    "Inteiros são números sem uma parte fracionária, podendo ser positivos, negativos ou zero. Eles são fundamentais na matemática e na ciência da computação e são um dos tipos de dados primitivos mais comuns em linguagens de programação. Em Python, o tipo para inteiros é int.\n",
    "<br>\n",
    "\n",
    "*Características dos Inteiros:*\n",
    "\n",
    "- Natureza: não têm uma parte decimal. Podem ser tanto números positivos quanto negativos, incluindo o zero;\n",
    "\n",
    "- Operações Básicas: Com inteiros, você pode realizar operações aritméticas padrão como adição, subtração, multiplicação e divisão (embora a divisão de dois inteiros, em muitas linguagens de programação modernas, possa resultar em um número de ponto flutuante);\n",
    "\n",
    "- Tamanho e Limites: o tamanho (ou a quantidade de memória ocupada) por um inteiro pode variar, mas há um limite. Em versões recentes do Python, o tamanho dos inteiros é flexível e expande conforme necessário, mas é limitado pela quantidade de memória disponível.\n",
    "\n",
    "Exemplos:\n",
    "\n",
    "Definindo inteiros:"
   ]
  },
  {
   "cell_type": "code",
   "execution_count": 26,
   "id": "9ef79e3b",
   "metadata": {},
   "outputs": [],
   "source": [
    "a = 5\n",
    "b = -3\n",
    "c = 0"
   ]
  },
  {
   "cell_type": "markdown",
   "id": "694f1f03",
   "metadata": {},
   "source": [
    "<br>\n",
    "\n",
    "Imprimindo o tipo para confirmar que são inteiros:"
   ]
  },
  {
   "cell_type": "code",
   "execution_count": 27,
   "id": "45122b11",
   "metadata": {},
   "outputs": [
    {
     "name": "stdout",
     "output_type": "stream",
     "text": [
      "<class 'int'>\n"
     ]
    }
   ],
   "source": [
    "print(type(a))  "
   ]
  },
  {
   "cell_type": "markdown",
   "id": "a3fd84af",
   "metadata": {},
   "source": [
    "Operações básicas:"
   ]
  },
  {
   "cell_type": "code",
   "execution_count": 28,
   "id": "43399383",
   "metadata": {},
   "outputs": [
    {
     "name": "stdout",
     "output_type": "stream",
     "text": [
      "2\n"
     ]
    }
   ],
   "source": [
    "soma = a + b  \n",
    "print(soma)   "
   ]
  },
  {
   "cell_type": "code",
   "execution_count": 29,
   "id": "408bc140",
   "metadata": {},
   "outputs": [
    {
     "name": "stdout",
     "output_type": "stream",
     "text": [
      "8\n"
     ]
    }
   ],
   "source": [
    "subtracao = a - b  \n",
    "print(subtracao) "
   ]
  },
  {
   "cell_type": "code",
   "execution_count": 30,
   "id": "3819d755",
   "metadata": {},
   "outputs": [
    {
     "name": "stdout",
     "output_type": "stream",
     "text": [
      "-15\n"
     ]
    }
   ],
   "source": [
    "multiplicacao = a * b  \n",
    "print(multiplicacao)  "
   ]
  },
  {
   "cell_type": "code",
   "execution_count": 31,
   "id": "61aaa01c",
   "metadata": {},
   "outputs": [
    {
     "name": "stdout",
     "output_type": "stream",
     "text": [
      "-1.6666666666666667\n"
     ]
    }
   ],
   "source": [
    "divisao = a / b  \n",
    "print(divisao)  "
   ]
  },
  {
   "cell_type": "markdown",
   "id": "9f5ba5c6",
   "metadata": {},
   "source": [
    "No último exemplo, embora ambos a e b sejam inteiros, a divisão resulta em um número de ponto flutuante (float) em Python. Se você quiser um resultado inteiro da divisão (descartando a parte fracionária), pode usar o operador de divisão inteira:"
   ]
  },
  {
   "cell_type": "code",
   "execution_count": 32,
   "id": "5de2f9f2",
   "metadata": {},
   "outputs": [
    {
     "name": "stdout",
     "output_type": "stream",
     "text": [
      "-2\n"
     ]
    }
   ],
   "source": [
    "divisao_inteira = a // b\n",
    "print(divisao_inteira)"
   ]
  },
  {
   "cell_type": "markdown",
   "id": "d1709963",
   "metadata": {},
   "source": [
    "Além disso, Python oferece operadores específicos, como o operador módulo, que retorna o resto da divisão de dois inteiros:"
   ]
  },
  {
   "cell_type": "code",
   "execution_count": 33,
   "id": "3cdf0b39",
   "metadata": {},
   "outputs": [
    {
     "name": "stdout",
     "output_type": "stream",
     "text": [
      "-1\n"
     ]
    }
   ],
   "source": [
    "resto = a % b\n",
    "print(resto)  "
   ]
  },
  {
   "cell_type": "markdown",
   "id": "411ac149",
   "metadata": {},
   "source": [
    "### 2.2.2 Floats (Números de Ponto Flutuante)\n",
    "\n",
    "São números que têm uma parte decimal. Eles são usados para representar quantidades que não são inteiras. Em termos técnicos, \"ponto flutuante\" refere-se à maneira como estes números são representados internamente e a operações que podem ser realizadas com eles. Em Python, o tipo para números de ponto flutuante é float.\n",
    "<br>\n",
    "\n",
    "*Características dos Floats:*\n",
    "\n",
    "- Natureza: Podem representar tanto números fracionários quanto inteiros;\n",
    "\n",
    "- Precisão: Devido à maneira como os floats são armazenados e representados internamente, eles têm uma precisão limitada, o que pode levar a pequenas imprecisões em cálculos;\n",
    "\n",
    "- Operações Básicas: Como os inteiros, os floats também suportam operações aritméticas padrão, como adição, subtração, multiplicação e divisão;\n",
    "\n",
    "- Representação: Em algumas situações, números que parecem ser simples podem ter representações imprecisas quando armazenados como floats. Por exemplo, 0.1 pode não ser armazenado exatamente como 0.1 devido à maneira como os números de ponto flutuante são representados.\n",
    "\n",
    "Exemplos:\n",
    "\n",
    "Definindo floats:"
   ]
  },
  {
   "cell_type": "code",
   "execution_count": 34,
   "id": "4d750768",
   "metadata": {},
   "outputs": [],
   "source": [
    "x = 3.14\n",
    "y = -0.001\n",
    "z = 2.0 "
   ]
  },
  {
   "cell_type": "markdown",
   "id": "09c6280b",
   "metadata": {},
   "source": [
    "Imprimindo o tipo para confirmar que são floats:"
   ]
  },
  {
   "cell_type": "code",
   "execution_count": 35,
   "id": "6a20f301",
   "metadata": {},
   "outputs": [
    {
     "name": "stdout",
     "output_type": "stream",
     "text": [
      "<class 'float'>\n"
     ]
    }
   ],
   "source": [
    "print(type(x))  "
   ]
  },
  {
   "cell_type": "markdown",
   "id": "24ccbc22",
   "metadata": {},
   "source": [
    "Operações básicas:"
   ]
  },
  {
   "cell_type": "code",
   "execution_count": 36,
   "id": "ed1ef7ad",
   "metadata": {},
   "outputs": [
    {
     "name": "stdout",
     "output_type": "stream",
     "text": [
      "3.1390000000000002\n"
     ]
    }
   ],
   "source": [
    "soma = x + y  \n",
    "print(soma)  "
   ]
  },
  {
   "cell_type": "code",
   "execution_count": 37,
   "id": "edc1893a",
   "metadata": {},
   "outputs": [
    {
     "name": "stdout",
     "output_type": "stream",
     "text": [
      "-0.00314\n"
     ]
    }
   ],
   "source": [
    "multiplicacao = x * y  \n",
    "print(multiplicacao)"
   ]
  },
  {
   "cell_type": "code",
   "execution_count": 38,
   "id": "b62d49a7",
   "metadata": {},
   "outputs": [
    {
     "name": "stdout",
     "output_type": "stream",
     "text": [
      "1.57\n"
     ]
    }
   ],
   "source": [
    "divisao = x / z  \n",
    "print(divisao) "
   ]
  },
  {
   "cell_type": "markdown",
   "id": "16ee3163",
   "metadata": {},
   "source": [
    "No contexto de aritmética de ponto flutuante em Python, é importante estar ciente da precisão. Veja o seguinte exemplo:"
   ]
  },
  {
   "cell_type": "code",
   "execution_count": 39,
   "id": "fb68ad07",
   "metadata": {},
   "outputs": [
    {
     "name": "stdout",
     "output_type": "stream",
     "text": [
      "0.30000000000000004\n"
     ]
    }
   ],
   "source": [
    "Saída = 0.1 + 0.1 + 0.1\n",
    "print(Saída)  "
   ]
  },
  {
   "cell_type": "code",
   "execution_count": 40,
   "id": "7e14c9d9",
   "metadata": {},
   "outputs": [
    {
     "name": "stdout",
     "output_type": "stream",
     "text": [
      "False\n"
     ]
    }
   ],
   "source": [
    "print(Saída == 0.3) "
   ]
  },
  {
   "cell_type": "markdown",
   "id": "90f5b137",
   "metadata": {},
   "source": [
    "Saída pode ser 'False' devido a imprecisões de ponto flutuante.\n",
    "\n",
    "A maneira como os números de ponto flutuante é representada internamente pode levar a essa imprecisão. Em muitos casos, é aconselhável usar uma comparação com alguma \"margem de erro\" em vez de uma comparação direta:"
   ]
  },
  {
   "cell_type": "code",
   "execution_count": 41,
   "id": "8b80454f",
   "metadata": {},
   "outputs": [
    {
     "name": "stdout",
     "output_type": "stream",
     "text": [
      "True\n"
     ]
    }
   ],
   "source": [
    "epsilon = 0.00001\n",
    "print(abs(Saída - 0.3) < epsilon)  "
   ]
  },
  {
   "cell_type": "markdown",
   "id": "f2f40d49",
   "metadata": {},
   "source": [
    "<br>\n",
    "\n",
    "*Conversão entre tipos numéricos: inteiro e float*\n",
    "\n",
    "Em Python, é comum ser necessário converter valores entre diferentes tipos numéricos, especialmente entre int (números inteiros) e float (números de ponto flutuante). Para converter um número inteiro para um número de ponto flutuante, você pode usar a função float()."
   ]
  },
  {
   "cell_type": "code",
   "execution_count": 42,
   "id": "72e0bed8",
   "metadata": {},
   "outputs": [
    {
     "name": "stdout",
     "output_type": "stream",
     "text": [
      "5.0\n"
     ]
    }
   ],
   "source": [
    "num_inteiro = 5\n",
    "num_float = float(num_inteiro)\n",
    "print(num_float) "
   ]
  },
  {
   "cell_type": "markdown",
   "id": "9925bd07",
   "metadata": {},
   "source": [
    "<br>\n",
    "\n",
    "*Conversão de float para int*\n",
    "\n",
    "Para converter um número de ponto flutuante para um inteiro, você pode usar a função int(). É importante notar que essa conversão simplesmente descarta a parte decimal do número, sem arredondá-la."
   ]
  },
  {
   "cell_type": "code",
   "execution_count": 43,
   "id": "266c783e",
   "metadata": {},
   "outputs": [
    {
     "name": "stdout",
     "output_type": "stream",
     "text": [
      "5\n"
     ]
    }
   ],
   "source": [
    "num_float = 5.7\n",
    "num_inteiro = int(num_float)\n",
    "\n",
    "print(num_inteiro)"
   ]
  },
  {
   "cell_type": "markdown",
   "id": "e331ac73",
   "metadata": {},
   "source": [
    "<br>\n",
    "\n",
    "*Avisos:*\n",
    "\n",
    "- Ao converter de float para int, é importante lembrar que a parte decimal é truncada, não arredondada. Assim, 4.9 se tornará 4, e não 5.\n",
    "\n",
    "- A conversão de um número muito grande ou muito pequeno pode resultar em imprecisões. Sempre esteja ciente das limitações da precisão do ponto flutuante ao trabalhar com conversões.\n",
    "\n",
    "- É sempre uma boa prática verificar os valores antes de convertê-los para evitar erros em tempo de execução.\n",
    "\n",
    "Em algumas situações, você pode querer arredondar o número de ponto flutuante antes de convertê-lo para inteiro. Nesse caso, você pode usar a função round() para arredondar ao número inteiro mais próximo."
   ]
  },
  {
   "cell_type": "code",
   "execution_count": 44,
   "id": "8c6939da",
   "metadata": {},
   "outputs": [],
   "source": [
    "num_float1 = 5.7\n",
    "num_inteiro1 = round(num_float1)"
   ]
  },
  {
   "cell_type": "code",
   "execution_count": 45,
   "id": "7ce917b4",
   "metadata": {},
   "outputs": [],
   "source": [
    "num_float2 = 5.2\n",
    "num_inteiro2 = round(num_float2)"
   ]
  },
  {
   "cell_type": "code",
   "execution_count": 46,
   "id": "81985b74",
   "metadata": {},
   "outputs": [
    {
     "name": "stdout",
     "output_type": "stream",
     "text": [
      "6\n"
     ]
    }
   ],
   "source": [
    "print(num_inteiro1)  "
   ]
  },
  {
   "cell_type": "code",
   "execution_count": 47,
   "id": "f52f7d64",
   "metadata": {},
   "outputs": [
    {
     "name": "stdout",
     "output_type": "stream",
     "text": [
      "5\n"
     ]
    }
   ],
   "source": [
    "print(num_inteiro2)  "
   ]
  },
  {
   "cell_type": "markdown",
   "id": "30569483",
   "metadata": {},
   "source": [
    "Em Python, a conversão de tipo pode ser feita de maneira implícita, ocorrendo automaticamente pelo interpretador sem a necessidade de ação direta do programador. Quando você realiza uma operação aritmética entre um int e um float, o Python converte automaticamente o int em float."
   ]
  },
  {
   "cell_type": "code",
   "execution_count": 48,
   "id": "b0ecae5b",
   "metadata": {},
   "outputs": [],
   "source": [
    "inteiro = 3\n",
    "flutuante = 2.5\n",
    "Saída = inteiro + flutuante"
   ]
  },
  {
   "cell_type": "code",
   "execution_count": 49,
   "id": "13f3cebb",
   "metadata": {},
   "outputs": [
    {
     "name": "stdout",
     "output_type": "stream",
     "text": [
      "5.5\n"
     ]
    }
   ],
   "source": [
    "print(Saída)  "
   ]
  },
  {
   "cell_type": "code",
   "execution_count": 50,
   "id": "a6b241ed",
   "metadata": {},
   "outputs": [
    {
     "name": "stdout",
     "output_type": "stream",
     "text": [
      "<class 'float'>\n"
     ]
    }
   ],
   "source": [
    "print(type(Saída))  "
   ]
  },
  {
   "cell_type": "markdown",
   "id": "f9b998d6",
   "metadata": {},
   "source": [
    "Note que a variável resultado é do tipo float mesmo que apenas um dos operandos fosse originalmente float.\n",
    "\n",
    "\n",
    "### 2.2.3 Booleanos \n",
    "\n",
    "Os booleanos são um tipo de dado que representa uma das duas possíveis verdades: verdadeiro ou falso. Em Python, essas verdades são representadas pelas palavras-chave True (verdadeiro) e False (falso). O tipo booleano é fundamental em programação, pois muitas decisões e operações lógicas são baseadas em testes que resultam em um valor verdadeiro ou falso. Em Python, o tipo para valores booleanos é bool.\n",
    "<br>\n",
    "\n",
    "*Características dos Booleanos:*\n",
    "\n",
    "- Simplicidade: Booleanos só têm dois possíveis valores: True ou False;\n",
    "\n",
    "- Operações Lógicas: Os booleanos são frequentemente usados com operadores lógicos, como and, or, e not, para criar expressões mais complexas;\n",
    "\n",
    "- Comparação: Operadores de comparação, como “==”, “!=”, “<”, “>”, “<=”, e “>=”, frequentemente resultam em valores booleanos.\n",
    "\n",
    "Exemplos de código:\n",
    "\n",
    "Definindo booleanos"
   ]
  },
  {
   "cell_type": "code",
   "execution_count": 51,
   "id": "1732edfa",
   "metadata": {},
   "outputs": [],
   "source": [
    "esta_feliz = True\n",
    "esta_triste = False"
   ]
  },
  {
   "cell_type": "markdown",
   "id": "db3924ff",
   "metadata": {},
   "source": [
    "Imprimindo o tipo para confirmar que são booleanos"
   ]
  },
  {
   "cell_type": "code",
   "execution_count": 52,
   "id": "a23aec27",
   "metadata": {},
   "outputs": [
    {
     "name": "stdout",
     "output_type": "stream",
     "text": [
      "<class 'bool'>\n"
     ]
    }
   ],
   "source": [
    "print(type(esta_feliz)) "
   ]
  },
  {
   "cell_type": "markdown",
   "id": "4ab36b8a",
   "metadata": {},
   "source": [
    "Operações lógicas"
   ]
  },
  {
   "cell_type": "code",
   "execution_count": 53,
   "id": "92f181d4",
   "metadata": {},
   "outputs": [
    {
     "name": "stdout",
     "output_type": "stream",
     "text": [
      "False\n"
     ]
    }
   ],
   "source": [
    "Saída1 = esta_feliz and esta_triste\n",
    "print(Saída1) "
   ]
  },
  {
   "cell_type": "code",
   "execution_count": 54,
   "id": "71e9fffc",
   "metadata": {},
   "outputs": [
    {
     "name": "stdout",
     "output_type": "stream",
     "text": [
      "True\n"
     ]
    }
   ],
   "source": [
    "Saída2 = esta_feliz or esta_triste\n",
    "print(Saída2)  "
   ]
  },
  {
   "cell_type": "code",
   "execution_count": 55,
   "id": "bd5a671c",
   "metadata": {},
   "outputs": [
    {
     "name": "stdout",
     "output_type": "stream",
     "text": [
      "False\n"
     ]
    }
   ],
   "source": [
    "Saída3 = not esta_feliz\n",
    "print(Saída3)  "
   ]
  },
  {
   "cell_type": "markdown",
   "id": "05dda8fb",
   "metadata": {},
   "source": [
    "Usando booleanos em comparações:"
   ]
  },
  {
   "cell_type": "code",
   "execution_count": 56,
   "id": "b46af6d1",
   "metadata": {},
   "outputs": [
    {
     "name": "stdout",
     "output_type": "stream",
     "text": [
      "True\n"
     ]
    }
   ],
   "source": [
    "idade = 25\n",
    "maior_de_idade = idade >= 18\n",
    "print(maior_de_idade) "
   ]
  },
  {
   "cell_type": "markdown",
   "id": "ab56c54f",
   "metadata": {},
   "source": [
    "Comparações podem ser usadas diretamente em instruções condicionais"
   ]
  },
  {
   "cell_type": "code",
   "execution_count": 57,
   "id": "07998425",
   "metadata": {},
   "outputs": [
    {
     "name": "stdout",
     "output_type": "stream",
     "text": [
      "Idade é 30 ou menor.\n"
     ]
    }
   ],
   "source": [
    "if idade > 30:\n",
    "    print('Idade é maior que 30.')\n",
    "else:\n",
    "    print('Idade é 30 ou menor.')"
   ]
  },
  {
   "cell_type": "markdown",
   "id": "36cd83c4",
   "metadata": {},
   "source": [
    " \n",
    "Estudaremos as instruções condicionais mais adiante em nosso curso. Em Python, muitos outros tipos de dados podem ser avaliados em um contexto booleano, significando que eles podem ser tratados como True ou False sob certas condições. Por exemplo:\n",
    "\n",
    "- Valores numéricos 0 (zero) são tratados como False, enquanto outros valores numéricos são tratados como True;\n",
    "- Coleções vazias (como listas, tuplas e strings vazias) são tratadas como False. Coleções não vazias são True;\n",
    "- None é sempre tratado como False.\n",
    "\n",
    "\n",
    "\n",
    "### 2.2.4 Bytes\n",
    "\n",
    "Bytes são sequências imutáveis de inteiros pequenos no intervalo de 0 a 255. Eles são frequentemente usados para representar dados binários, como arquivos de imagem, áudio ou qualquer outro tipo de dado que não seja simplesmente texto. Em Python, dados do tipo byte são essenciais quando lidamos com operações de I/O (entrada e saída), especialmente quando os dados não são representáveis como strings de texto. Em Python, você pode criar bytes usando a sintaxe “b'' ou com a função bytes().\n",
    "<br>\n",
    "\n",
    "*Características dos Bytes:*\n",
    "\n",
    "- Imutabilidade: são imutáveis. Uma vez definidos, seus valores não podem ser alterados;\n",
    "\n",
    "- Representação: são sequências de inteiros (byte literals) que variam de 0 a 255;\n",
    "\n",
    "- Uso comum: Ideal para lidar com dados binários, como operações de I/O, comunicação de rede, arquivos binários, etc.\n",
    "\n",
    "Exemplos:\n",
    "\n",
    "Criar bytes usando a sintaxe b''"
   ]
  },
  {
   "cell_type": "code",
   "execution_count": 58,
   "id": "bea9ebe7",
   "metadata": {},
   "outputs": [
    {
     "name": "stdout",
     "output_type": "stream",
     "text": [
      "b'Ol\\xc3\\xa1 Mundo'\n"
     ]
    }
   ],
   "source": [
    "dados_binarios = b'Ol\\xc3\\xa1 Mundo'\n",
    "print(dados_binarios)  "
   ]
  },
  {
   "cell_type": "markdown",
   "id": "9c2a19e6",
   "metadata": {},
   "source": [
    "Converter uma string em bytes"
   ]
  },
  {
   "cell_type": "code",
   "execution_count": 59,
   "id": "6989331f",
   "metadata": {},
   "outputs": [
    {
     "name": "stdout",
     "output_type": "stream",
     "text": [
      "b'Ol\\xc3\\xa1 Mundo'\n"
     ]
    }
   ],
   "source": [
    "string_normal = 'Olá Mundo'\n",
    "bytes_convertidos = string_normal.encode('utf-8')\n",
    "print(bytes_convertidos)  "
   ]
  },
  {
   "cell_type": "markdown",
   "id": "73ef5be9",
   "metadata": {},
   "source": [
    "Acessar elementos dos bytes (semelhante a listas e strings)"
   ]
  },
  {
   "cell_type": "code",
   "execution_count": 60,
   "id": "6997458a",
   "metadata": {},
   "outputs": [
    {
     "name": "stdout",
     "output_type": "stream",
     "text": [
      "79\n"
     ]
    }
   ],
   "source": [
    "primeiro_byte = dados_binarios[0]\n",
    "print(primeiro_byte)  "
   ]
  },
  {
   "cell_type": "markdown",
   "id": "f03306e4",
   "metadata": {},
   "source": [
    "Bytes são imutáveis. A tentativa de mudar um valor resultará em um erro."
   ]
  },
  {
   "cell_type": "code",
   "execution_count": 61,
   "id": "c7e63157",
   "metadata": {},
   "outputs": [],
   "source": [
    "# dados_binarios[0] = 80  \n",
    "\n",
    "# TypeError: 'bytes' object does not support item assignment"
   ]
  },
  {
   "cell_type": "markdown",
   "id": "4a0769c2",
   "metadata": {},
   "source": [
    "Criando bytes a partir de uma lista de inteiros"
   ]
  },
  {
   "cell_type": "code",
   "execution_count": 62,
   "id": "abaeaec9",
   "metadata": {},
   "outputs": [
    {
     "name": "stdout",
     "output_type": "stream",
     "text": [
      "b'ABC'\n"
     ]
    }
   ],
   "source": [
    "lista_de_inteiros = [65, 66, 67]\n",
    "dados_binarios2 = bytes(lista_de_inteiros)\n",
    "print(dados_binarios2)  "
   ]
  },
  {
   "cell_type": "markdown",
   "id": "d7e9cf80",
   "metadata": {},
   "source": [
    "Vale mencionar que, além de bytes, Python também oferece o tipo bytearray, que é uma versão mutável dos bytes. Enquanto os valores dentro de um objeto bytes não podem ser modificados após sua criação, os valores dentro de um bytearray podem ser alterados.\n",
    "\n",
    "\n",
    "\n",
    "### 2.2.5 Strings\n",
    "\n",
    "Strings em Python são sequências de caracteres que representam texto. São fundamentais em programação, pois permitem representar e manipular dados textuais, armazenar informações, exibir mensagens ao usuário, entre outras funções. Algumas das características das Strings são:\n",
    "\n",
    "- Imutabilidade: Depois de definida, uma string não pode ter seu conteúdo alterado. Qualquer operação que \"modifique\" a string, na realidade, cria uma nova string com o conteúdo alterado;\n",
    "\n",
    "- Indexação e fatiamento: Como as strings são sequências, podemos acessar seus caracteres por índices e fatiar sub-strings;\n",
    "\n",
    "- Métodos integrados: Python fornece muitos métodos úteis para processar e manipular strings.\n",
    "<br>\n",
    "\n",
    "*Definição de Strings com o uso de aspas*\n",
    "\n",
    "Strings podem ser definidas usando aspas simples, aspas duplas ou três aspas duplas (para strings de várias linhas). Todas essas formas são válidas e a escolha entre elas muitas vezes se resume a preferência pessoal ou à necessidade de incluir certos caracteres na string (por exemplo, se você quiser incluir um apóstrofo em uma string, pode ser mais fácil usar aspas duplas para definir a string).\n",
    "\n",
    "Definindo strings:"
   ]
  },
  {
   "cell_type": "code",
   "execution_count": 63,
   "id": "d77e0eeb",
   "metadata": {},
   "outputs": [],
   "source": [
    "nome = 'Python'\n",
    "frase = 'Aprendendo Python!'\n",
    "paragrafo = '''Python é uma linguagem de programação\n",
    "importante no contexto do Geoprocessamento.'''"
   ]
  },
  {
   "cell_type": "markdown",
   "id": "8463d076",
   "metadata": {},
   "source": [
    "<br>\n",
    "\n",
    "Imprimindo strings:"
   ]
  },
  {
   "cell_type": "code",
   "execution_count": 64,
   "id": "7cfec864",
   "metadata": {},
   "outputs": [
    {
     "name": "stdout",
     "output_type": "stream",
     "text": [
      "Python\n"
     ]
    }
   ],
   "source": [
    "print(nome) "
   ]
  },
  {
   "cell_type": "code",
   "execution_count": 65,
   "id": "48ae9e76",
   "metadata": {},
   "outputs": [
    {
     "name": "stdout",
     "output_type": "stream",
     "text": [
      "Aprendendo Python!\n"
     ]
    }
   ],
   "source": [
    "print(frase) "
   ]
  },
  {
   "cell_type": "code",
   "execution_count": 66,
   "id": "8a82f760",
   "metadata": {},
   "outputs": [
    {
     "name": "stdout",
     "output_type": "stream",
     "text": [
      "Python é uma linguagem de programação\n",
      "importante no contexto do Geoprocessamento.\n"
     ]
    }
   ],
   "source": [
    "print(paragrafo)"
   ]
  },
  {
   "cell_type": "markdown",
   "id": "c65ab16a",
   "metadata": {},
   "source": [
    "<br>\n",
    "\n",
    "*Indexação de Strings*\n",
    "\n",
    "Em Python, strings são sequências de caracteres. Cada caractere em uma string tem um índice associado a ele, começando em 0 para o primeiro caractere, 1 para o segundo, e assim por diante. Isso permite que você acesse caracteres específicos em uma string usando seu índice. Na figura 2, temos a string \"Python\" com sua indexação.\n",
    "\n",
    "![Figura 2](images/fig2.png)\n",
    "\n",
    "Figura 2: Índice da string Python.\n",
    "\n",
    "<p align=\"center\">Este texto está centralizado.</p>\n",
    "\n",
    "Aqui estão algumas questões básicas relacionadas ao acesso de string por índice:\n",
    "\n",
    "Acessar um Caractere Específico:"
   ]
  },
  {
   "cell_type": "code",
   "execution_count": 67,
   "id": "b55529a8",
   "metadata": {},
   "outputs": [
    {
     "name": "stdout",
     "output_type": "stream",
     "text": [
      "P\n"
     ]
    }
   ],
   "source": [
    "nome = 'Python'\n",
    "print(nome[0])  "
   ]
  },
  {
   "cell_type": "code",
   "execution_count": 68,
   "id": "55631e20",
   "metadata": {},
   "outputs": [
    {
     "name": "stdout",
     "output_type": "stream",
     "text": [
      "h\n"
     ]
    }
   ],
   "source": [
    "nome = 'Python'\n",
    "print(nome[3])  "
   ]
  },
  {
   "cell_type": "markdown",
   "id": "0a4ead70",
   "metadata": {},
   "source": [
    "Índices Negativos: Python suporta índices negativos, o que significa começar a contar a partir do final da string."
   ]
  },
  {
   "cell_type": "code",
   "execution_count": 69,
   "id": "990d990c",
   "metadata": {},
   "outputs": [
    {
     "name": "stdout",
     "output_type": "stream",
     "text": [
      "n\n"
     ]
    }
   ],
   "source": [
    "print(nome[-1])  "
   ]
  },
  {
   "cell_type": "code",
   "execution_count": 70,
   "id": "963ef6f1",
   "metadata": {},
   "outputs": [
    {
     "name": "stdout",
     "output_type": "stream",
     "text": [
      "o\n"
     ]
    }
   ],
   "source": [
    "print(nome[-2])  "
   ]
  },
  {
   "cell_type": "markdown",
   "id": "ba1d743b",
   "metadata": {},
   "source": [
    "Limites de Índice: Se você tentar acessar um índice que está fora da faixa da string, você receberá um erro IndexError."
   ]
  },
  {
   "cell_type": "code",
   "execution_count": 71,
   "id": "02718571",
   "metadata": {},
   "outputs": [],
   "source": [
    "#print(nome[6])  \n",
    "\n",
    "# IndexError: string index out of range"
   ]
  },
  {
   "cell_type": "markdown",
   "id": "8823ab23",
   "metadata": {},
   "source": [
    "O índice 6 está fora da faixa.\n",
    "\n",
    "Fatiamento de Strings: Além de acessar caracteres individuais, você também pode acessar subconjuntos ou \"fatias\" de uma string usando o conceito de fatiamento."
   ]
  },
  {
   "cell_type": "code",
   "execution_count": 72,
   "id": "40352b24",
   "metadata": {},
   "outputs": [
    {
     "name": "stdout",
     "output_type": "stream",
     "text": [
      "yth\n"
     ]
    }
   ],
   "source": [
    "print(nome[1:4])  "
   ]
  },
  {
   "cell_type": "markdown",
   "id": "023ffb4e",
   "metadata": {},
   "source": [
    "<br>\n",
    "\n",
    "*Imutabilidade de Strings*\n",
    "\n",
    "Como vimos anteriormente, strings são consideradas objetos imutáveis em Python. Isso significa que, uma vez que uma string é criada, você não pode modificar diretamente seu conteúdo. Se você tentar reatribuir um valor a uma posição específica da string, você receberá um erro. Por exemplo, se você tentar alterar o primeiro caractere de nome para 'C', você receberá um TypeError, indicando que a operação não é permitida."
   ]
  },
  {
   "cell_type": "code",
   "execution_count": 73,
   "id": "d4936e18",
   "metadata": {},
   "outputs": [],
   "source": [
    "# nome[0] = 'C'  \n"
   ]
  },
  {
   "cell_type": "markdown",
   "id": "7c2bab42",
   "metadata": {},
   "source": [
    "<br> \n",
    "\n",
    "*Concatenação de strings*\n",
    "\n",
    "Concatenação é o processo de combinar duas ou mais strings para formar uma única string. Em Python, o operador “+” é usado para concatenar strings. Isso significa que ele combina as strings fornecidas para formar uma nova string."
   ]
  },
  {
   "cell_type": "code",
   "execution_count": 74,
   "id": "30341af5",
   "metadata": {},
   "outputs": [
    {
     "name": "stdout",
     "output_type": "stream",
     "text": [
      "Olá, Python!\n"
     ]
    }
   ],
   "source": [
    "nome = 'Python'\n",
    "mensagem = 'Olá, ' + nome + '!'\n",
    "print(mensagem)  "
   ]
  },
  {
   "cell_type": "markdown",
   "id": "d2f3c5ee",
   "metadata": {},
   "source": [
    "<br> \n",
    "\n",
    "*Interpolação de Strings*\n",
    "\n",
    "A interpolação de strings, particularmente usando f-strings (introduzida no Python 3.6), é uma maneira eficiente e legível de formatar strings. Ela permite que você incorpore expressões diretamente dentro de strings literais, usando {}. Os benefícios das f-strings incluem:\n",
    "\n",
    "- Legibilidade: tornam o código mais legível, especialmente quando você tem múltiplas variáveis ou expressões a serem interpoladas em uma string;\n",
    "\n",
    "- Performance: geralmente oferecem uma performance melhor em comparação com outras técnicas de formatação de string em Python;\n",
    "\n",
    "- Flexibilidade: Você pode incorporar qualquer expressão válida do Python dentro das chaves {}, o que torna as f-strings versáteis.\n",
    "<br>\n",
    "\n",
    "Exemplo:"
   ]
  },
  {
   "cell_type": "code",
   "execution_count": 75,
   "id": "ceb0182d",
   "metadata": {},
   "outputs": [
    {
     "name": "stdout",
     "output_type": "stream",
     "text": [
      "O valor total da compra foi R$ 30.\n"
     ]
    }
   ],
   "source": [
    "valor_venda = 30\n",
    "mensagem_venda = f'O valor total da compra foi R$ {valor_venda}.'\n",
    "print(mensagem_venda)  "
   ]
  },
  {
   "cell_type": "markdown",
   "id": "b811fcbc",
   "metadata": {},
   "source": [
    "Nesse código:\n",
    "\n",
    "a. Definimos uma variável valor_venda com o valor 30;\n",
    "\n",
    "b. Criamos uma f-string “mensagem_venda” onde incorporamos a variável “valor_venda” diretamente dentro da string usando chaves {}. Isso significa que o valor de “valor_venda” será inserido na posição onde {valor_venda} está na string;\n",
    "\n",
    "c. Usando a função print(), imprimimos o valor da variável “mensagem_venda” no console;\n",
    "\n",
    "d. Como “mensagem_venda” contém a string \"O valor total da compra foi R$ 30.\", essa é a saída.\n",
    "<br><br>\n",
    "\n",
    "*Métodos integrados*\n",
    "\n",
    "As strings em Python vêm com uma variedade de métodos integrados que permitem realizar operações comuns em strings sem a necessidade de escrever funções adicionais. Esses métodos são essencialmente funções que estão \"ligadas\" a objetos de string e podem ser chamados diretamente em qualquer string. Abaixo estão algumas das operações comuns e seus métodos correspondentes:\n",
    "<br>\n",
    "\n",
    "Conversão de Caso:\n",
    "\n",
    "- upper(): Converte todos os caracteres da string para maiúsculas.\n",
    "\n",
    "- lower(): Converte todos os caracteres da string para minúsculas.\n",
    "\n",
    "- capitalize(): Converte o primeiro caractere da string para maiúscula.\n",
    "\n",
    "- title(): Converte o primeiro caractere de cada palavra para maiúscula.\n",
    "   \n",
    "   \n",
    "Verificação:\n",
    "\n",
    "- startswith(substring): Retorna True se a string começar com a substring especificada.\n",
    "\n",
    "- endswith(substring): Retorna True se a string terminar com a substring especificada.\n",
    "\n",
    "- isalpha(): Retorna True se todos os caracteres da string forem letras.\n",
    "\n",
    "- isdigit(): Retorna True se todos os caracteres da string forem dígitos.\n",
    "\n",
    "\n",
    "Manipulação:\n",
    "\n",
    "- replace(old, new): Substitui todas as ocorrências da substring old pela substring new.\n",
    "\n",
    "- strip(): Remove espaços em branco (ou outros caracteres especificados) do início e do final da string.\n",
    "\n",
    "- split(delimiter): Divide a string no delimiter especificado e retorna uma lista de substrings.\n",
    "\n",
    "\n",
    "Busca:\n",
    "\n",
    "- find(substring): Retorna o índice da primeira ocorrência da substring. Se a substring não for encontrada, retorna “-1”.\n",
    "\n",
    "- count(substring): Retorna o número de ocorrências não sobrepostas da substring na string original.\n",
    "\n",
    "\n",
    "Outros:\n",
    "\n",
    "- join(iterable): Une um iterável (como uma lista) em uma única string usando a string como delimitador.\n",
    "\n",
    "- len(string): Embora não seja exatamente um método de string, a função len() retorna o número de caracteres em uma string.\n",
    "<br>\n",
    "\n",
    "Exemplos:"
   ]
  },
  {
   "cell_type": "code",
   "execution_count": 76,
   "id": "356cb4f2",
   "metadata": {},
   "outputs": [
    {
     "name": "stdout",
     "output_type": "stream",
     "text": [
      "introdução a programação, para geoprocessamento.\n"
     ]
    }
   ],
   "source": [
    "texto = 'Introdução a programação, para Geoprocessamento.'\n",
    "print(texto.lower())  "
   ]
  },
  {
   "cell_type": "code",
   "execution_count": 77,
   "id": "1356b2bb",
   "metadata": {},
   "outputs": [
    {
     "name": "stdout",
     "output_type": "stream",
     "text": [
      "INTRODUÇÃO A PROGRAMAÇÃO, PARA GEOPROCESSAMENTO.\n"
     ]
    }
   ],
   "source": [
    "print(texto.upper())  "
   ]
  },
  {
   "cell_type": "code",
   "execution_count": 78,
   "id": "8c3b80dc",
   "metadata": {},
   "outputs": [
    {
     "name": "stdout",
     "output_type": "stream",
     "text": [
      "Introduçao a programaçao, para Geoprocessamento.\n"
     ]
    }
   ],
   "source": [
    "print(texto.replace('ã', 'a')) "
   ]
  },
  {
   "cell_type": "code",
   "execution_count": 79,
   "id": "6cc278ca",
   "metadata": {},
   "outputs": [
    {
     "name": "stdout",
     "output_type": "stream",
     "text": [
      "['Introdução a programação', ' para Geoprocessamento.']\n"
     ]
    }
   ],
   "source": [
    "print(texto.split(','))  "
   ]
  },
  {
   "cell_type": "markdown",
   "id": "a39e7442",
   "metadata": {},
   "source": [
    "## 2.3 Estruturas de dados\n",
    "\n",
    "As estruturas de dados são formas organizadas e eficientes de armazenar, acessar e manipular conjuntos de dados. Elas definem a relação entre os dados e as operações que podem ser realizadas sobre eles. A escolha da estrutura de dados adequada é crucial para a implementação eficiente de algoritmos e pode impactar significativamente o desempenho e a usabilidade de um programa. As estruturas de dados (figura 3) que serão contempladas em nosso estudo são as Listas, as Tuplas, os Dicionários e os Conjuntos.\n",
    "\n",
    "![Figura 3](images/fig3.png)\n",
    "\n",
    "<p align=\"center\">Figura 3: Estruturas de dados em Python.</p>\n",
    "\n",
    "\n",
    "\n",
    "As razões pelas quais as estruturas de dados são tão importantes incluem:\n",
    "\n",
    "- Eficiência Computacional: Diferentes estruturas de dados têm diferentes custos em termos de tempo e espaço. Escolher a estrutura de dados certa pode permitir que os algoritmos operem mais rapidamente, economizando tempo de CPU e memória;\n",
    "\n",
    "- Organização de Dados: Estruturas de dados permitem que os dados sejam organizados de forma a serem facilmente acessíveis. Por exemplo, um dicionário em Python permite recuperar um valor em tempo constante, dada uma chave;\n",
    "\n",
    "- Facilita a Implementação de Algoritmos: Muitos algoritmos têm requisitos específicos quanto à forma como os dados devem ser armazenados para que funcionem corretamente e eficientemente. As estruturas de dados fornecem os meios para atender a esses requisitos;\n",
    "\n",
    "- Flexibilidade: Com a variedade de estruturas de dados disponíveis, os programadores podem escolher a estrutura que melhor se adapta à natureza dos dados e às operações que precisam ser realizadas sobre eles;\n",
    "\n",
    "- Redução de Complexidade: Usar a estrutura de dados apropriada pode reduzir a complexidade do código, tornando-o mais legível e fácil de manter;\n",
    "\n",
    "- Abstração: Estruturas de dados geralmente vêm com operações padrão que podem ser realizadas sobre elas (como inserir, excluir, pesquisar). Isso permite voltar a atenção para o problema que se está tentando resolver ao invés de se preocupar com os detalhes de como essas operações são implementadas;\n",
    "\n",
    "- Escalabilidade: À medida que os conjuntos de dados crescem, a importância de usar a estrutura de dados correta torna-se ainda mais crítica. Algumas estruturas que funcionam bem para pequenas quantidades de dados tornam-se impraticáveis em escala maior;\n",
    "\n",
    "- Aprimoramento da Tomada de Decisões: Em aplicações de negócios e análise de dados, as estruturas de dados adequadas podem facilitar a análise de grandes conjuntos de dados, levando a decisões mais informadas.\n",
    "\n",
    "\n",
    "### 2.3.1 Listas\n",
    "\n",
    "Listas são estruturas de dados fundamentais em programação que representam coleções ordenadas de itens. Em muitas linguagens, inclusive em Python, as listas são dinâmicas, o que significa que elas podem crescer ou diminuir em tamanho conforme necessário. Os itens em uma lista são organizados sequencialmente, permitindo que os usuários acessem cada elemento por meio de um índice, que é uma posição numérica na lista. Esta natureza ordenada torna as listas adequadas para tarefas que exigem a manutenção da ordem dos dados, como quando se precisa de uma sequência específica de elementos.\n",
    "\n",
    "As listas podem conter elementos de qualquer tipo, seja números, strings, ou até mesmo outras listas e objetos complexos. A mutabilidade é outra característica crucial das listas em Python. Isso significa que, após a criação de uma lista, é possível modificar seu conteúdo, adicionar novos itens ou remover itens existentes. \n",
    "\n",
    "No contexto do geoprocessamento, as listas desempenham papel essencial na manipulação e análise de dados geoespaciais. Por exemplo, uma lista pode ser usada para armazenar uma série de pontos que definem uma rota ou um caminho. Em análises de cobertura de terreno, listas podem conter amostras de elevações em pontos específicos para gerar perfis topográficos. Em sistemas de informações geográficas (SIG), ao trabalhar com múltiplas camadas de dados, como áreas urbanas, corpos d'água e vegetação, uma lista pode ser empregada para armazenar e iterar sobre essas camadas. Além disso, ao realizar análises de proximidade, as listas podem ser utilizadas para armazenar e comparar coordenadas de diferentes objetos, ajudando a determinar, por exemplo, todos os pontos de interesse dentro de uma determinada distância de uma estrada ou rio. \n",
    "<br>\n",
    "\n",
    "*Criação de listas*\n",
    "\n",
    "Listas são criadas colocando uma sequência de valores separados por vírgulas entre colchetes. Exemplos:"
   ]
  },
  {
   "cell_type": "code",
   "execution_count": 80,
   "id": "dfa51d34",
   "metadata": {},
   "outputs": [],
   "source": [
    "#Lista de números\n",
    "numeros = [1, 2, 3, 4, 5]"
   ]
  },
  {
   "cell_type": "code",
   "execution_count": 81,
   "id": "d224b8c8",
   "metadata": {},
   "outputs": [],
   "source": [
    "#Lista de strings:\n",
    "pais = ['Brasil', 'Uruguai', 'Argentina']"
   ]
  },
  {
   "cell_type": "code",
   "execution_count": 82,
   "id": "023be6e9",
   "metadata": {},
   "outputs": [],
   "source": [
    "#Lista mista (com diferentes tipos de dados):\n",
    "dados_mistos = [42, 'Manaus', 3.14, True, 'Python', 7]"
   ]
  },
  {
   "cell_type": "code",
   "execution_count": 83,
   "id": "c1347adc",
   "metadata": {},
   "outputs": [],
   "source": [
    "#Lista vazia:\n",
    "lista_vazia = []"
   ]
  },
  {
   "cell_type": "code",
   "execution_count": 84,
   "id": "c199b565",
   "metadata": {},
   "outputs": [],
   "source": [
    "#Lista aninhada:\n",
    "lista_aninhada = [[1, 2, 3], [4, 5, 6], [7, 8, 9]]"
   ]
  },
  {
   "cell_type": "markdown",
   "id": "cb88652a",
   "metadata": {},
   "source": [
    "<br>\n",
    "\n",
    "*Acessando os elementos da lista*\n",
    "<br>\n",
    "\n",
    "- Acesso pelo Índice:\n",
    "\n",
    "As listas são indexadas por números inteiros, começando por 0 para o primeiro item."
   ]
  },
  {
   "cell_type": "code",
   "execution_count": 85,
   "id": "fa5e3355",
   "metadata": {},
   "outputs": [
    {
     "name": "stdout",
     "output_type": "stream",
     "text": [
      "Brasil\n"
     ]
    }
   ],
   "source": [
    "#Acessando o primeiro elemento da lista 'país':\n",
    "primeiro_pais = pais[0]\n",
    "print(primeiro_pais)  "
   ]
  },
  {
   "cell_type": "code",
   "execution_count": 86,
   "id": "3ff10c2b",
   "metadata": {},
   "outputs": [
    {
     "name": "stdout",
     "output_type": "stream",
     "text": [
      "3\n"
     ]
    }
   ],
   "source": [
    "#Acessando o terceiro elemento da lista numeros:\n",
    "terceiro_numero = numeros[2]\n",
    "print(terceiro_numero)  "
   ]
  },
  {
   "cell_type": "markdown",
   "id": "70e14977",
   "metadata": {},
   "source": [
    "*Atenção:*\n",
    "\n",
    "Ao tentar acessar um índice que não existe na lista (por exemplo, ```pais[3] ``` quando a lista tem apenas 3 elementos) resultará em um IndexError."
   ]
  },
  {
   "cell_type": "code",
   "execution_count": 87,
   "id": "429be235",
   "metadata": {},
   "outputs": [],
   "source": [
    "# pais[3]\n",
    "\n",
    "# IndexError: list index out of range"
   ]
  },
  {
   "cell_type": "markdown",
   "id": "99ccafab",
   "metadata": {},
   "source": [
    "<br>\n",
    "\n",
    "- Acesso com Índices Negativos:\n",
    "\n",
    "Os índices negativos permitem acessar a lista do final para o começo."
   ]
  },
  {
   "cell_type": "code",
   "execution_count": 88,
   "id": "e50a3033",
   "metadata": {},
   "outputs": [
    {
     "name": "stdout",
     "output_type": "stream",
     "text": [
      "Argentina\n"
     ]
    }
   ],
   "source": [
    "# Acessando o último item da lista país:\n",
    "pais = ['Brasil', 'Uruguai', 'Argentina']\n",
    "ultimo_pais = pais[-1]\n",
    "print(ultimo_pais)"
   ]
  },
  {
   "cell_type": "code",
   "execution_count": 89,
   "id": "97d715b1",
   "metadata": {},
   "outputs": [
    {
     "name": "stdout",
     "output_type": "stream",
     "text": [
      "Uruguai\n"
     ]
    }
   ],
   "source": [
    "penultimo_pais = pais[-2]\n",
    "print(penultimo_pais)  "
   ]
  },
  {
   "cell_type": "markdown",
   "id": "2234fce1",
   "metadata": {},
   "source": [
    "- Fatiamento:\n",
    "\n",
    "O fatiamento é uma técnica em Python que permite acessar uma subseção (ou \"fatia\") de uma lista. A sintaxe geral do fatiamento é ``` `lista[início:fim:passo]` ```, onde \"início\" é o índice inicial da fatia, \"fim\" é o índice onde a fatia termina (exclusivo) e \"passo\" é o intervalo entre os itens da fatia. Vejamos alguns exemplos."
   ]
  },
  {
   "cell_type": "code",
   "execution_count": 90,
   "id": "6ed6e173",
   "metadata": {},
   "outputs": [],
   "source": [
    "dados_mistos = [42, 'Manaus', 3.14, True, 'Python', 7]"
   ]
  },
  {
   "cell_type": "code",
   "execution_count": 91,
   "id": "1b85046e",
   "metadata": {},
   "outputs": [
    {
     "name": "stdout",
     "output_type": "stream",
     "text": [
      "[42, 'Manaus', 3.14]\n"
     ]
    }
   ],
   "source": [
    "#Acessando os três primeiros itens:\n",
    "primeiros_tres = dados_mistos[:3]\n",
    "print(primeiros_tres)"
   ]
  },
  {
   "cell_type": "code",
   "execution_count": 92,
   "id": "e65e1f0b",
   "metadata": {},
   "outputs": [
    {
     "name": "stdout",
     "output_type": "stream",
     "text": [
      "[3.14, True, 'Python']\n"
     ]
    }
   ],
   "source": [
    "#Acessando itens do terceiro ao quinto:\n",
    "meio = dados_mistos[2:5]\n",
    "print(meio)  "
   ]
  },
  {
   "cell_type": "code",
   "execution_count": 93,
   "id": "b8cd3dcb",
   "metadata": {},
   "outputs": [
    {
     "name": "stdout",
     "output_type": "stream",
     "text": [
      "[True, 'Python', 7]\n"
     ]
    }
   ],
   "source": [
    "#Acessando os últimos três itens:\n",
    "ultimos_tres = dados_mistos[-3:]\n",
    "print(ultimos_tres)  "
   ]
  },
  {
   "cell_type": "code",
   "execution_count": 94,
   "id": "607d0ffb",
   "metadata": {},
   "outputs": [
    {
     "name": "stdout",
     "output_type": "stream",
     "text": [
      "[42, 3.14, 'Python']\n"
     ]
    }
   ],
   "source": [
    "#Acessando itens de dois em dois:\n",
    "passo_dois = dados_mistos[::2]\n",
    "print(passo_dois)  "
   ]
  },
  {
   "cell_type": "markdown",
   "id": "8b8e3555",
   "metadata": {},
   "source": [
    "- Acesso múltiplo (ou desempacotamento):\n",
    "\n",
    "Permite atribuir vários elementos de uma lista (ou tupla) a variáveis diferentes em uma única linha. Suponha que temos uma lista representando dados sobre uma cidade: nome da cidade, latitude e longitude."
   ]
  },
  {
   "cell_type": "code",
   "execution_count": 95,
   "id": "e3bee609",
   "metadata": {},
   "outputs": [],
   "source": [
    "cidade_info = ['Brasília', -15.7797, -47.9297]"
   ]
  },
  {
   "cell_type": "markdown",
   "id": "1015e80f",
   "metadata": {},
   "source": [
    "<br>\n",
    "\n",
    "Agora, vamos usar o desempacotamento para acessar múltiplos elementos da lista. É importante garantir que o número de variáveis à esquerda da atribuição corresponda ao número de elementos que você está tentando desempacotar da lista. Se houver uma discrepância, o Python lançará um erro."
   ]
  },
  {
   "cell_type": "code",
   "execution_count": 96,
   "id": "67c3a6e7",
   "metadata": {},
   "outputs": [],
   "source": [
    "nome, lat, lon = cidade_info"
   ]
  },
  {
   "cell_type": "markdown",
   "id": "2dce9bef",
   "metadata": {},
   "source": [
    "Neste exemplo, o valor \"Brasília\" da lista cidade_info será atribuído à variável nome, o valor -17.7797 será atribuído à variável “lat”, e o valor -47.9297 será atribuído à variável “lon”.\tImprimindo os valores das variáveis:"
   ]
  },
  {
   "cell_type": "code",
   "execution_count": 97,
   "id": "30b01cd1",
   "metadata": {},
   "outputs": [
    {
     "name": "stdout",
     "output_type": "stream",
     "text": [
      "Brasília -15.7797 -47.9297\n"
     ]
    }
   ],
   "source": [
    "print(nome, lat, lon) "
   ]
  },
  {
   "cell_type": "markdown",
   "id": "a046fa82",
   "metadata": {},
   "source": [
    "<br>\n",
    "\n",
    "- Acesso por funções Built-in:\n",
    "\n",
    "Podemos acessar os dados de uma lista utilizando funções do Python. Funções comumente utilizadas são len(), max() e min():"
   ]
  },
  {
   "cell_type": "code",
   "execution_count": 98,
   "id": "94bfdefe",
   "metadata": {},
   "outputs": [],
   "source": [
    "altitudes = [320, 540, 890, 1200, 45, 650]"
   ]
  },
  {
   "cell_type": "markdown",
   "id": "3877c6fd",
   "metadata": {},
   "source": [
    "Usando len() para determinar o número de elementos na lista:"
   ]
  },
  {
   "cell_type": "code",
   "execution_count": 99,
   "id": "d93293b2",
   "metadata": {},
   "outputs": [
    {
     "name": "stdout",
     "output_type": "stream",
     "text": [
      "6\n"
     ]
    }
   ],
   "source": [
    "numero_registros = len(altitudes)\n",
    "print(numero_registros)"
   ]
  },
  {
   "cell_type": "markdown",
   "id": "96c077bb",
   "metadata": {},
   "source": [
    "Usando max() para encontrar a maior altitude:"
   ]
  },
  {
   "cell_type": "code",
   "execution_count": 100,
   "id": "06e4eff1",
   "metadata": {},
   "outputs": [],
   "source": [
    "maior_altitude = max(altitudes)"
   ]
  },
  {
   "cell_type": "markdown",
   "id": "fa1d6c78",
   "metadata": {},
   "source": [
    "Usando o min() para determinar a menor altitude"
   ]
  },
  {
   "cell_type": "code",
   "execution_count": 101,
   "id": "926ab3a5",
   "metadata": {},
   "outputs": [
    {
     "name": "stdout",
     "output_type": "stream",
     "text": [
      "45\n"
     ]
    }
   ],
   "source": [
    "menor_altitude = min(altitudes)\n",
    "print(menor_altitude) "
   ]
  },
  {
   "cell_type": "markdown",
   "id": "b3ad919d",
   "metadata": {},
   "source": [
    "Apresentamos nesta seção alguns conceitos básicos sobre a criação de listas e acesso aos seus elementos em Python. Mais adiante, veremos como acessar listar por iteração. Outro conceito importante que será estudado é o de “List comprehension”. \n",
    "<br>\n",
    "\n",
    "*Modificação de listas: adição e remoção de elementos*\n",
    "\n",
    "As listas são mutáveis, o que significa que podemos alterar seus elementos após a criação. No contexto de modificar listas, há duas operações fundamentais: adicionar e remover elementos. Adicionar elementos pode envolver a inclusão de um único item, anexando-o ao final da lista, ou inserindo-o em uma posição específica. Também é possível juntar duas listas, expandindo uma com os elementos da outra. Por outro lado, a remoção de elementos pode se referir à exclusão de um item específico, independentemente de sua posição, ou à retirada de um item com base em sua posição. A capacidade de manipular listas dessa maneira oferece uma flexibilidade imensa, sendo um pilar central na manipulação de dados em Python.\n",
    "<br>\n",
    "\n",
    "- Adicionando elementos a uma lista:\n",
    "\n",
    "Método append(): Adiciona um item ao final da lista."
   ]
  },
  {
   "cell_type": "code",
   "execution_count": 102,
   "id": "5ebc1c63",
   "metadata": {},
   "outputs": [
    {
     "name": "stdout",
     "output_type": "stream",
     "text": [
      "['Montanha', 'Rio', 'Floresta', 'Lago']\n"
     ]
    }
   ],
   "source": [
    "pontos_referencia = ['Montanha', 'Rio', 'Floresta']\n",
    "pontos_referencia.append('Lago')\n",
    "print(pontos_referencia) "
   ]
  },
  {
   "cell_type": "markdown",
   "id": "af5ce012",
   "metadata": {},
   "source": [
    "Método insert(): Insere um item em uma posição específica."
   ]
  },
  {
   "cell_type": "code",
   "execution_count": 103,
   "id": "eaf155fb",
   "metadata": {},
   "outputs": [
    {
     "name": "stdout",
     "output_type": "stream",
     "text": [
      "['Vale', 'Montanha', 'Rio', 'Floresta', 'Lago']\n"
     ]
    }
   ],
   "source": [
    "pontos_referencia.insert(0, 'Vale')\n",
    "print(pontos_referencia)  "
   ]
  },
  {
   "cell_type": "markdown",
   "id": "d6c5ce31",
   "metadata": {},
   "source": [
    "Método extend() ou “+=”: Adiciona múltiplos elementos à lista."
   ]
  },
  {
   "cell_type": "code",
   "execution_count": 104,
   "id": "b859af2e",
   "metadata": {},
   "outputs": [
    {
     "name": "stdout",
     "output_type": "stream",
     "text": [
      "[(12.34, 56.78), (23.45, 67.89), (34.56, 78.9), (45.67, 89.01)]\n"
     ]
    }
   ],
   "source": [
    "coordenadas = [(12.34, 56.78), (23.45, 67.89)]\n",
    "novas_coordenadas = [(34.56, 78.90), (45.67, 89.01)]\n",
    "coordenadas.extend(novas_coordenadas)\n",
    "print(coordenadas)  "
   ]
  },
  {
   "cell_type": "code",
   "execution_count": 105,
   "id": "2ad4b364",
   "metadata": {},
   "outputs": [
    {
     "name": "stdout",
     "output_type": "stream",
     "text": [
      "[(12.34, 56.78), (23.45, 67.89), (34.56, 78.9), (45.67, 89.01)]\n"
     ]
    }
   ],
   "source": [
    "# Usando +=\n",
    "coordenadas2 = [(12.34, 56.78), (23.45, 67.89)]\n",
    "coordenadas2 += [(34.56, 78.90), (45.67, 89.01)]\n",
    "print(coordenadas2)\n"
   ]
  },
  {
   "cell_type": "markdown",
   "id": "0fa7f64b",
   "metadata": {},
   "source": [
    "- Removendo elementos de uma lista:\n",
    "\n",
    "Método remove(): Remove a primeira ocorrência do valor especificado."
   ]
  },
  {
   "cell_type": "code",
   "execution_count": 106,
   "id": "61d97f9f",
   "metadata": {},
   "outputs": [
    {
     "name": "stdout",
     "output_type": "stream",
     "text": [
      "['Amazonas', 'São Francisco']\n"
     ]
    }
   ],
   "source": [
    "rios = ['Amazonas', 'São Francisco', 'Tietê']\n",
    "rios.remove('Tietê')\n",
    "print(rios)"
   ]
  },
  {
   "cell_type": "markdown",
   "id": "88cbcf3d",
   "metadata": {},
   "source": [
    "Método pop(): Remove e retorna o item na posição especificada (ou o último item se a posição não for especificada)."
   ]
  },
  {
   "cell_type": "code",
   "execution_count": 107,
   "id": "96fced71",
   "metadata": {},
   "outputs": [
    {
     "name": "stdout",
     "output_type": "stream",
     "text": [
      "Himalaia\n",
      "['Andes', 'Alpes']\n"
     ]
    }
   ],
   "source": [
    "montanhas = ['Andes', 'Himalaia', 'Alpes']\n",
    "montanha_removida = montanhas.pop(1)\n",
    "print(montanha_removida)  # Saída: 'Himalaia'\n",
    "print(montanhas)  "
   ]
  },
  {
   "cell_type": "markdown",
   "id": "a7e3399c",
   "metadata": {},
   "source": [
    "Instrução del: Remove o item na posição especificada ou uma fatia de itens."
   ]
  },
  {
   "cell_type": "code",
   "execution_count": 108,
   "id": "5fd65dbc",
   "metadata": {},
   "outputs": [
    {
     "name": "stdout",
     "output_type": "stream",
     "text": [
      "['Norte', 'Sul', 'Centro-Oeste']\n"
     ]
    }
   ],
   "source": [
    "regioes = ['Norte', 'Sul', 'Sudeste', 'Nordeste', 'Centro-Oeste']\n",
    "del regioes[2:4]  # Remove as regiões 'Sudeste' e 'Nordeste'\n",
    "print(regioes)  "
   ]
  },
  {
   "cell_type": "markdown",
   "id": "37175662",
   "metadata": {},
   "source": [
    "*Operações comuns: ordenamento, fatiamento, concatenação, repetição, membership.*\n",
    "\n",
    "No geoprocessamento, frequentemente trabalhamos com conjuntos de dados que precisam ser manipulados, analisados e transformados. As listas em Python oferecem várias operações comuns que são extremamente úteis neste contexto. Vamos explorar algumas delas com exemplos.\n",
    "\n",
    "- Ordenamento: \n",
    "\n",
    "Listas podem ser ordenadas para obter uma sequência crescente ou decrescente. Exemplo: Suponha que temos uma lista de altitudes de diferentes locais e queremos ordená-las."
   ]
  },
  {
   "cell_type": "code",
   "execution_count": 109,
   "id": "9dabbe88",
   "metadata": {},
   "outputs": [
    {
     "name": "stdout",
     "output_type": "stream",
     "text": [
      "[45, 312, 910, 980, 1235]\n"
     ]
    }
   ],
   "source": [
    "altitudes = [312, 980, 45, 1235, 910]\n",
    "altitudes.sort()\n",
    "print(altitudes)  "
   ]
  },
  {
   "cell_type": "markdown",
   "id": "f97f44c9",
   "metadata": {},
   "source": [
    "Para ordenar a lista em ordem decrescente (ordenamento inverso), você pode usar o argumento reverse=True com o método sort()."
   ]
  },
  {
   "cell_type": "code",
   "execution_count": 110,
   "id": "f2af7e1a",
   "metadata": {},
   "outputs": [
    {
     "name": "stdout",
     "output_type": "stream",
     "text": [
      "[1235, 980, 910, 312, 45]\n"
     ]
    }
   ],
   "source": [
    "altitudes.sort(reverse=True)\n",
    "print(altitudes) "
   ]
  },
  {
   "cell_type": "markdown",
   "id": "39efbc99",
   "metadata": {},
   "source": [
    "- Fatiamento (Slicing): \n",
    "\n",
    "O fatiamento permite obter subconjuntos de uma lista. Exemplo: Se tivermos uma lista de coordenadas e quisermos obter apenas as três primeiras:"
   ]
  },
  {
   "cell_type": "code",
   "execution_count": 111,
   "id": "e77a4988",
   "metadata": {},
   "outputs": [
    {
     "name": "stdout",
     "output_type": "stream",
     "text": [
      "[(12.34, 56.78), (23.45, 67.89), (34.56, 78.9)]\n"
     ]
    }
   ],
   "source": [
    "coordenadas = [(12.34, 56.78), (23.45, 67.89), (34.56, 78.90), (45.67, 89.01)]\n",
    "primeiras_tres = coordenadas[:3]\n",
    "print(primeiras_tres)  "
   ]
  },
  {
   "cell_type": "markdown",
   "id": "86bf8001",
   "metadata": {},
   "source": [
    "- Concatenação: \n",
    "\n",
    "Podemos combinar listas para criar uma nova. Exemplo: Se tivermos duas listas de cidades e quisermos juntá-las:"
   ]
  },
  {
   "cell_type": "code",
   "execution_count": 112,
   "id": "772d9abb",
   "metadata": {},
   "outputs": [
    {
     "name": "stdout",
     "output_type": "stream",
     "text": [
      "['Manaus', 'Fortaleza', 'Goiânia', 'Florianópolis']\n"
     ]
    }
   ],
   "source": [
    "cidades_A = ['Manaus', 'Fortaleza']\n",
    "cidades_B = ['Goiânia', 'Florianópolis']\n",
    "todas_cidades = cidades_A + cidades_B\n",
    "print(todas_cidades)  "
   ]
  },
  {
   "cell_type": "markdown",
   "id": "c6ebae61",
   "metadata": {},
   "source": [
    "- Repetição: \n",
    "\n",
    "Listas podem ser repetidas usando o operador “*”. Exemplo: Criar uma lista de valores padrão para a qualidade do solo em diversas regiões:"
   ]
  },
  {
   "cell_type": "code",
   "execution_count": 113,
   "id": "b56866ba",
   "metadata": {},
   "outputs": [
    {
     "name": "stdout",
     "output_type": "stream",
     "text": [
      "['fértil', 'fértil', 'fértil', 'fértil']\n"
     ]
    }
   ],
   "source": [
    "qualidade_padrao = ['fértil'] * 4\n",
    "print(qualidade_padrao)  "
   ]
  },
  {
   "cell_type": "markdown",
   "id": "cdcdf9dc",
   "metadata": {},
   "source": [
    "- Membership: \n",
    "\n",
    "Podemos verificar se um elemento pertence a uma lista usando a palavra-chave “in”. Exemplo: Verificar se uma determinada cidade está em nossa lista de cidades monitoradas:"
   ]
  },
  {
   "cell_type": "code",
   "execution_count": 114,
   "id": "54818ec7",
   "metadata": {},
   "outputs": [
    {
     "name": "stdout",
     "output_type": "stream",
     "text": [
      "False\n"
     ]
    }
   ],
   "source": [
    "resultado = 'Rio de Janeiro' in cidades_A\n",
    "print(resultado)  "
   ]
  },
  {
   "cell_type": "markdown",
   "id": "8876c12e",
   "metadata": {},
   "source": [
    "### 2.3.2 Tuplas\n",
    "\n",
    "As tuplas são uma das estruturas de dados em Python que permitem armazenar uma coleção ordenada de itens. Assim como as listas, as tuplas podem conter elementos de tipos diferentes. No entanto, há algumas diferenças importantes entre listas e tuplas:\n",
    "\n",
    "- Imutabilidade: Uma vez que uma tupla é criada, você não pode modificar seus elementos. Isso significa que você não pode adicionar, remover ou alterar elementos após a tupla ser definida. Essa imutabilidade faz das tuplas uma escolha segura para representar coleções de dados que não devem ser alteradas durante a execução de um programa;\n",
    "\n",
    "- Sintaxe: Tuplas são geralmente definidas colocando os elementos entre parênteses (), enquanto listas usam colchetes;\n",
    "\n",
    "- Uso: Devido à sua natureza imutável, as tuplas são frequentemente usadas em situações em que é necessário garantir que os dados não sejam modificados. Alguns exemplos incluem:\n",
    "\n",
    "    - Chaves em dicionários: Em Python, as chaves de um dicionário devem ser imutáveis, tornando as tuplas uma opção adequada para chaves compostas;\n",
    "\n",
    "    - Retorno de múltiplos valores de funções: É comum usar tuplas para retornar múltiplos valores de uma função;\n",
    "\n",
    "    - Armazenar dados que não devem ser alterados: Se você tem uma coleção de valores que nunca devem ser alterados durante a vida útil do programa (por exemplo, constantes), as tuplas são uma opção natural.\n",
    "\n",
    "\n",
    "No contexto do geoprocessamento, as tuplas desempenham vários papéis importantes, aproveitando sua natureza imutável e ordenada. Aqui estão algumas maneiras de como as tuplas podem ser aplicadas:\n",
    "\n",
    "- Coordenadas Geográficas: As tuplas são uma escolha natural para representar pontos no espaço, como coordenadas (latitude, longitude). Sua natureza imutável garante que as coordenadas de um ponto específico não sejam modificadas acidentalmente;\n",
    "\n",
    "- Dados matriciais: Em análises de dados matriciais, cada pixel pode ser representado por uma tupla que denota seu valor em várias bandas (por exemplo, bandas de imagem de satélite);\n",
    "\n",
    "- Atributos Compostos: Em muitos Sistemas de Informações Geográficas (SIG), os atributos associados a um objeto podem ser armazenados como tuplas. Por exemplo, um objeto representando um edifício pode ter um atributo que é uma tupla contendo (número de andares, área, ano de construção);\n",
    "\n",
    "- Chaves Únicas: No geoprocessamento, frequentemente, trabalhamos com bancos de dados espaciais. Quando se deseja criar chaves compostas para tabelas, as tuplas podem ser usadas para representar combinações únicas de diferentes colunas;\n",
    "\n",
    "- Retorno de Funções: Muitas funções em bibliotecas de geoprocessamento podem retornar múltiplos valores. Por exemplo, uma função que calcula a distância e o ângulo entre dois pontos retornaria ambos os valores como uma tupla;\n",
    "\n",
    "- Definição de Extensões Espaciais: Em algumas operações, como cortar ou recortar um dataset, é necessário definir a extensão espacial (bounding box). Isso pode ser representado por uma tupla de valores mínimos e máximos (xmin, ymin, xmax, ymax);\n",
    "\n",
    "- Especificação de Parâmetros: Muitas operações geoespaciais exigem um conjunto de parâmetros que não mudam durante a operação. Uma tupla pode armazenar esses valores de maneira confiável.\n",
    "\n",
    "\n",
    "*Criação de tuplas*\n",
    "\n",
    "A criação de tuplas pode ser realizada de acordo com os exemplos a seguir:\n",
    "\n",
    "Tupla vazia:"
   ]
  },
  {
   "cell_type": "code",
   "execution_count": 115,
   "id": "276f3abc",
   "metadata": {},
   "outputs": [],
   "source": [
    "nome = ()"
   ]
  },
  {
   "cell_type": "markdown",
   "id": "2388340c",
   "metadata": {},
   "source": [
    "Tupla com coordenadas geográficas:"
   ]
  },
  {
   "cell_type": "code",
   "execution_count": 116,
   "id": "ff6a60c2",
   "metadata": {},
   "outputs": [],
   "source": [
    "coordenada = (45.4215, -75.6972)  "
   ]
  },
  {
   "cell_type": "markdown",
   "id": "6fe76fe4",
   "metadata": {},
   "source": [
    "As tuplas podem ser criadas com ou sem a inserção de parênteses:"
   ]
  },
  {
   "cell_type": "code",
   "execution_count": 117,
   "id": "7fb65319",
   "metadata": {},
   "outputs": [],
   "source": [
    "coordenada = 45.4215, -75.6972 "
   ]
  },
  {
   "cell_type": "markdown",
   "id": "a737221d",
   "metadata": {},
   "source": [
    "Tupla mista, com dados do tipo string e do tipo inteiro:"
   ]
  },
  {
   "cell_type": "code",
   "execution_count": 118,
   "id": "1175813e",
   "metadata": {},
   "outputs": [],
   "source": [
    "rio_info = ('Rio Amazonas', 6575, 'América do Sul')  "
   ]
  },
  {
   "cell_type": "markdown",
   "id": "381e049b",
   "metadata": {},
   "source": [
    "Tupla aninhada (contendo tuplas e listas):"
   ]
  },
  {
   "cell_type": "code",
   "execution_count": 119,
   "id": "971d479c",
   "metadata": {},
   "outputs": [],
   "source": [
    "tupla_aninhada = ((1, 2, 3), [4, 5, 6], (7, 8), [9, 10, 11])"
   ]
  },
  {
   "cell_type": "markdown",
   "id": "f3fce7db",
   "metadata": {},
   "source": [
    "*Acessando os elementos de uma tupla*\n",
    "\n",
    "O acesso aos elementos de uma tupla em Python é feito de maneira análoga às listas. Seja por índice, acesso negativo, fatiamento, desempacotamento, uso de funções built-in ou loops, as técnicas usadas para acessar os elementos são as mesmas para ambas as estruturas de dados. A seguir temos um exemplo de acessos aos elementos da tupla “temperaturas”.\n",
    "\n",
    "Criação de tupla com elementos representando a altitude:"
   ]
  },
  {
   "cell_type": "code",
   "execution_count": 120,
   "id": "b9bdbc20",
   "metadata": {},
   "outputs": [],
   "source": [
    "temperaturas = (20.5, 23.2, 18.7, 21.9, 19.4)"
   ]
  },
  {
   "cell_type": "code",
   "execution_count": 121,
   "id": "6af5f4db",
   "metadata": {},
   "outputs": [
    {
     "name": "stdout",
     "output_type": "stream",
     "text": [
      "20.5\n"
     ]
    }
   ],
   "source": [
    "primeira_temp = temperaturas[0]\n",
    "print(primeira_temp)  "
   ]
  },
  {
   "cell_type": "code",
   "execution_count": 122,
   "id": "2fcec556",
   "metadata": {},
   "outputs": [
    {
     "name": "stdout",
     "output_type": "stream",
     "text": [
      "19.4\n"
     ]
    }
   ],
   "source": [
    "ultima_temp = temperaturas[-1]\n",
    "print(ultima_temp) "
   ]
  },
  {
   "cell_type": "code",
   "execution_count": 123,
   "id": "a1dd23c5",
   "metadata": {},
   "outputs": [
    {
     "name": "stdout",
     "output_type": "stream",
     "text": [
      "(23.2, 18.7, 21.9)\n"
     ]
    }
   ],
   "source": [
    "sub_tupla = temperaturas[1:4]\n",
    "print(sub_tupla) "
   ]
  },
  {
   "cell_type": "code",
   "execution_count": 124,
   "id": "e5360afa",
   "metadata": {},
   "outputs": [
    {
     "name": "stdout",
     "output_type": "stream",
     "text": [
      "20.5 23.2 18.7 21.9 19.4\n"
     ]
    }
   ],
   "source": [
    "t1, t2, t3, t4, t5 = temperaturas\n",
    "print(t1, t2, t3, t4, t5) "
   ]
  },
  {
   "cell_type": "code",
   "execution_count": 125,
   "id": "eced18d9",
   "metadata": {},
   "outputs": [
    {
     "name": "stdout",
     "output_type": "stream",
     "text": [
      "5\n"
     ]
    }
   ],
   "source": [
    "tamanho = len(temperaturas)\n",
    "print(tamanho) "
   ]
  },
  {
   "cell_type": "code",
   "execution_count": 126,
   "id": "7c3844a0",
   "metadata": {},
   "outputs": [
    {
     "name": "stdout",
     "output_type": "stream",
     "text": [
      "23.2\n"
     ]
    }
   ],
   "source": [
    "temp_max = max(temperaturas)\n",
    "print(temp_max) "
   ]
  },
  {
   "cell_type": "code",
   "execution_count": 127,
   "id": "bd297e2b",
   "metadata": {},
   "outputs": [
    {
     "name": "stdout",
     "output_type": "stream",
     "text": [
      "18.7\n"
     ]
    }
   ],
   "source": [
    "temp_min = min(temperaturas)\n",
    "print(temp_min) "
   ]
  },
  {
   "cell_type": "markdown",
   "id": "54bf224a",
   "metadata": {},
   "source": [
    "*Conversão entre listas e tuplas*\n",
    "\n",
    "A conversão entre listas e tuplas é uma tarefa comum e fácil de realizar em Python. Tanto é possível converter uma lista em uma tupla quanto converter uma tupla em uma lista, conforme exemplos a seguir:\n",
    "\n",
    "\n",
    "Convertendo uma lista em uma tupla:"
   ]
  },
  {
   "cell_type": "code",
   "execution_count": 128,
   "id": "8365d885",
   "metadata": {},
   "outputs": [],
   "source": [
    "lista = [1, 2, 3, 4]\n",
    "tupla = tuple(lista)"
   ]
  },
  {
   "cell_type": "markdown",
   "id": "90c676e9",
   "metadata": {},
   "source": [
    "Verificando o tipo de dado:"
   ]
  },
  {
   "cell_type": "code",
   "execution_count": 129,
   "id": "9614fee7",
   "metadata": {},
   "outputs": [
    {
     "name": "stdout",
     "output_type": "stream",
     "text": [
      "Tipo de dado após a conversão: <class 'tuple'>\n"
     ]
    }
   ],
   "source": [
    "print('Tipo de dado após a conversão:', type(tupla))\n"
   ]
  },
  {
   "cell_type": "markdown",
   "id": "d6336941",
   "metadata": {},
   "source": [
    "Convertendo uma tupla em uma lista:"
   ]
  },
  {
   "cell_type": "code",
   "execution_count": 130,
   "id": "b7b265ed",
   "metadata": {},
   "outputs": [],
   "source": [
    "tupla = (1, 2, 3, 4)\n",
    "lista = list(tupla)"
   ]
  },
  {
   "cell_type": "markdown",
   "id": "eaa49a11",
   "metadata": {},
   "source": [
    "Verificando o tipo de dado:"
   ]
  },
  {
   "cell_type": "code",
   "execution_count": 131,
   "id": "355643b4",
   "metadata": {},
   "outputs": [
    {
     "name": "stdout",
     "output_type": "stream",
     "text": [
      "Tipo de dado após a conversão: <class 'list'>\n"
     ]
    }
   ],
   "source": [
    "print('Tipo de dado após a conversão:', type(lista))\n"
   ]
  },
  {
   "cell_type": "markdown",
   "id": "f9c2ad17",
   "metadata": {},
   "source": [
    "Essas conversões são úteis quando você tem uma tupla, mas precisa modificar alguns de seus elementos (o que não pode ser feito diretamente, pois as tuplas são imutáveis) ou quando você tem uma lista e quer garantir que seus elementos não sejam alterados acidentalmente em outra parte do código.  No entanto, é importante observar que essas operações criam novas instâncias de objetos e não alteram as originais. Então, se você modificar a nova lista criada a partir de uma tupla, a tupla original permanecerá inalterada e vice-versa.\n",
    "\n",
    "\n",
    "*Como escolher entre a utilização de tuplas ou de listas?*\n",
    "\n",
    "Escolher entre tuplas e listas em Python geralmente depende do contexto e da intenção do uso. Aqui estão algumas diretrizes para ajudá-lo a decidir:\n",
    "\n",
    "a) Imutabilidade:\n",
    "\n",
    "- Tuplas: São imutáveis. Uma vez que você cria uma tupla, não pode alterar seus elementos ou seu tamanho. Isso é útil quando você quer garantir que os dados permaneçam constantes e não sejam alterados acidentalmente em qualquer parte do programa.\n",
    "\n",
    "- Listas: São mutáveis. Você pode modificar, adicionar ou remover elementos de uma lista após sua criação.\n",
    "<br><br>\n",
    "\n",
    "b) Semântica:\n",
    "\n",
    "- Tuplas: Em muitos contextos, tuplas são usadas para representar coleções de itens heterogêneos (por exemplo, coordenadas (x, y), dados de um banco (nome, idade, endereço)). Elas geralmente têm um número fixo de elementos, cada um com um significado específico.\n",
    "\n",
    "- Listas: São geralmente usadas para coleções homogêneas de itens, onde cada item tem o mesmo tipo e significado (por exemplo, uma lista de números, uma lista de nomes).\n",
    "<br><br>\n",
    "\n",
    "c) Desempenho:\n",
    "\n",
    "- Tuplas: Como são imutáveis, tuplas podem ser ligeiramente mais rápidas do que listas em certas operações, como iteração.\n",
    "\n",
    "- Listas: Devido à sua natureza mutável, operações que alteram a lista (como adicionar ou remover elementos) podem ter um custo de desempenho.\n",
    "<br><br>\n",
    "\n",
    "d) Uso em dicionários:\n",
    "\n",
    "- Tuplas: Podem ser usadas como chaves em dicionários, devido à sua imutabilidade.\n",
    "\n",
    "- Listas: Não podem ser usadas como chaves em dicionários, porque são mutáveis.\n",
    "<br><br>\n",
    "\n",
    "e) Intenção:\n",
    "\n",
    "- Tuplas: Transmitir ao leitor do código que a coleção não deve ser modificada.\n",
    "\n",
    "- Listas: Indicar que a coleção pode ser modificada, e que funções ou métodos que alteram listas podem ser aplicados.\n",
    "<br><br>\n",
    "\n",
    "f) Espaço em memória:\n",
    "\n",
    "- Tuplas: Podem ser mais eficientes em termos de espaço em relação às listas, porque não têm o overhead adicional associado à mutabilidade das listas.\n",
    "<br><br>\n",
    "\n",
    "Na prática, use tuplas para:\n",
    "\n",
    "- Representar coleções imutáveis de itens;\n",
    "\n",
    "- Atuar como chaves em dicionários;\n",
    "\n",
    "- Garantir que os dados não sejam modificados acidentalmente;\n",
    "\n",
    "- Retornar múltiplos valores de funções.\n",
    "<br><br>\n",
    "\n",
    "Use listas para:\n",
    "\n",
    "- Representar coleções que podem requerer alterações;\n",
    "\n",
    "- Realizar diversas operações como inserção, remoção, etc.;\n",
    "\n",
    "- Armazenar coleções de dados que são dinâmicos por natureza.\n",
    "\n",
    "\n",
    "\n",
    "\n",
    "\n",
    "### 2.3.3 Dicionários\n",
    "\n",
    "Dicionários são estruturas de dados em Python que armazenam pares chave-valor. Cada chave em um dicionário deve ser única, e os valores associados a essas chaves podem ser acessados diretamente pela chave. A natureza de mapeamento dos dicionários os torna altamente úteis para representar coisas como dados de configuração, registros de tabelas ou qualquer estrutura de dados que associe um identificador (a chave) a um valor. Eles são especialmente úteis quando se deseja criar estruturas de dados complexas e altamente personalizadas. \n",
    "É importante destacar que os dicionários são mutáveis, o que significa que você pode adicionar, modificar e remover pares de chave-valor após o dicionário ter sido criado.\n",
    "\n",
    "Dada a complexidade inerente aos dados geográficos - que muitas vezes envolvem não apenas coordenadas, mas também uma variedade de atributos associados - os dicionários são ferramentas ideais para armazenar e acessar essas informações de forma estruturada.\n",
    "\n",
    "Uma das aplicações mais comuns dos dicionários no geoprocessamento é a representação de atributos de entidades geográficas:"
   ]
  },
  {
   "cell_type": "code",
   "execution_count": 132,
   "id": "cce2fdab",
   "metadata": {},
   "outputs": [],
   "source": [
    "ponto_interesse = {\n",
    "    'tipo': 'Hidrografia',\n",
    "    'nome': 'Rio Amazonas',\n",
    "    'extensão': 7062  # em km\n",
    "}"
   ]
  },
  {
   "cell_type": "markdown",
   "id": "7a170fd1",
   "metadata": {},
   "source": [
    "Em sistemas de informações geográficas (SIGs), por exemplo, cada entidade, seja ela um ponto, linha ou polígono, pode ter vários atributos relacionados, como nome, tipo, área, entre outros. Os dicionários oferecem uma maneira intuitiva de associar cada um desses atributos à sua respectiva entidade.\n",
    "\n",
    "Metadados associados a imagens de satélite, que descrevem características como data de captura, resolução e sensor utilizado, são frequentemente representados como dicionários:"
   ]
  },
  {
   "cell_type": "code",
   "execution_count": 133,
   "id": "a4376535",
   "metadata": {},
   "outputs": [],
   "source": [
    "metadados_imagem = {\n",
    "    'satélite': 'Sentinel-2',\n",
    "    'data_captura': '2023-01-15',\n",
    "    'resolução': 10,  # em metros/pixel\n",
    "    'bandas': ['B1', 'B2', 'B3', 'B4']\n",
    "}"
   ]
  },
  {
   "cell_type": "markdown",
   "id": "91af3aa8",
   "metadata": {},
   "source": [
    "Isso facilita o processamento, a análise e a visualização dessas imagens, garantindo que todas as informações relevantes estejam prontamente disponíveis.\n",
    "\n",
    "Em ferramentas e scripts de geoprocessamento, os dicionários são usados para armazenar configurações e parâmetros que orientam a análise. Isso inclui detalhes como a distância de um buffer em análises de proximidade, opções de interpolação em modelagem de terreno, entre outros."
   ]
  },
  {
   "cell_type": "code",
   "execution_count": 134,
   "id": "852c84bf",
   "metadata": {},
   "outputs": [],
   "source": [
    "config_analise = {\n",
    "    'buffer_distância': 50,  # em metros\n",
    "    'sobreposição_permitida': True,\n",
    "    'unidade_medida': 'metros'\n",
    "}"
   ]
  },
  {
   "cell_type": "markdown",
   "id": "8d2a462a",
   "metadata": {},
   "source": [
    "No contexto de formatos de dados padrão, como o GeoJSON, que é amplamente utilizado para representar estruturas geográficas, a estrutura chave-valor se alinha perfeitamente com a estrutura de dicionários em Python. Esse alinhamento permite que desenvolvedores manipulem e transformem facilmente dados geográficos entre aplicativos e plataformas.\n",
    "\n",
    "Os dicionários são delimitados por chaves, e os pares de chave-valor são separados por vírgulas. A chave e o valor são separados por dois pontos. Por exemplo:"
   ]
  },
  {
   "cell_type": "code",
   "execution_count": 135,
   "id": "00cde9c9",
   "metadata": {},
   "outputs": [
    {
     "data": {
      "text/plain": [
       "{'tipo': 'Hidrografia', 'nome': 'Rio Amazonas', 'extensão': 7062}"
      ]
     },
     "execution_count": 135,
     "metadata": {},
     "output_type": "execute_result"
    }
   ],
   "source": [
    "{'tipo': 'Hidrografia', 'nome': 'Rio Amazonas', 'extensão': 7062}"
   ]
  },
  {
   "cell_type": "markdown",
   "id": "5b1cae89",
   "metadata": {},
   "source": [
    "Neste dicionário, “tipo”, “nome” e “extensão” são as chaves. Já “Hidrografia”, “Rio Amazonas” e “7062” são os valores.\n",
    "\n",
    "Com relação as chaves (Keys):\n",
    "\n",
    "- Cada elemento em um dicionário tem uma chave associada a ele;\n",
    "\n",
    "- As chaves são únicas dentro de um dicionário, ou seja, não podem existir duas entradas com a mesma chave;\n",
    "\n",
    "- Uma chave pode ser de qualquer tipo imutável, como números, strings ou tuplas.\n",
    "\n",
    "\n",
    "Com relação aos valores (Values):\n",
    "\n",
    "- Cada chave é associada a um valor;\n",
    "\n",
    "- Os valores não precisam ser únicos;\n",
    "\n",
    "- Os valores podem ser de qualquer tipo: números, strings, listas, outros dicionários, objetos, etc.\n",
    "\n",
    "Até a versão 3.7 do Python, os dicionários eram desordenados, o que significa que a ordem dos itens poderia não ser a mesma em que foram adicionados. A partir dessa versão, os dicionários mantêm a ordem de inserção, mas ainda é importante notar que os dicionários são essencialmente estruturas de mapeamento e não sequências.\n",
    "\n",
    "\n",
    "*Criação de dicionários*\n",
    "\n",
    "Dicionários são criados usando chaves ou com a função built-in dict(). Exemplos:"
   ]
  },
  {
   "cell_type": "code",
   "execution_count": 136,
   "id": "ff4a10d8",
   "metadata": {},
   "outputs": [],
   "source": [
    "#Criação de dicionário usando chaves {}\n",
    "ponto_geografico = {\n",
    "    'nome': 'Pico da Neblina',\n",
    "    'latitude': -0.8495,\n",
    "    'longitude': -66.9083,\n",
    "    'elevação': 2994  # em metros\n",
    "}"
   ]
  },
  {
   "cell_type": "code",
   "execution_count": 137,
   "id": "5f199805",
   "metadata": {},
   "outputs": [],
   "source": [
    "#Criação de dicionário usando dict()\n",
    "ponto_geografico = dict(\n",
    "    nome='Pico da Neblina',\n",
    "    latitude=-0.8495,\n",
    "    longitude=-66.9083,\n",
    "    elevação=2994  # em metros\n",
    ")"
   ]
  },
  {
   "cell_type": "markdown",
   "id": "4395027f",
   "metadata": {},
   "source": [
    "\tOutros exemplos de criação de questionários:"
   ]
  },
  {
   "cell_type": "code",
   "execution_count": 138,
   "id": "83dd3ae1",
   "metadata": {},
   "outputs": [],
   "source": [
    "# Dicionário para armazenar dados sobre municípios\n",
    "municipio = {\n",
    "    'nome': 'São Paulo',\n",
    "    'estado': 'SP',\n",
    "    'população': 12330000,  # aproximação\n",
    "    'zona_climática': 'Tropical de altitude'\n",
    "}"
   ]
  },
  {
   "cell_type": "code",
   "execution_count": 139,
   "id": "19f82941",
   "metadata": {},
   "outputs": [],
   "source": [
    "#Dicionário com dados do Landsat\n",
    "sensor_satelite = {\n",
    "    'modelo': 'Landsat 8',\n",
    "    'bandas': ['B1', 'B2', 'B3', 'B4', 'B5', 'B6', 'B7', 'B8'],\n",
    "    'resolução_espacial': 30,  # em metros\n",
    "    'operador': 'USGS e NASA'\n",
    "}"
   ]
  },
  {
   "cell_type": "markdown",
   "id": "fd73127d",
   "metadata": {},
   "source": [
    "*Acessando os elementos de um dicionário*\n",
    "\n",
    "Acessar informações em um dicionário é uma operação corriqueira em Python, e as principais formas de fazer isso são através das chaves, dos métodos associados e por iteração (que veremos mais adiante em nosso curso). Vamos explorar essas maneiras no contexto do geoprocessamento utilizando o dicionário “metadados_imagem” apresentado anteriormente."
   ]
  },
  {
   "cell_type": "code",
   "execution_count": 140,
   "id": "45694d3a",
   "metadata": {},
   "outputs": [],
   "source": [
    "metadados_imagem = {\n",
    "    'satélite': 'Sentinel-2',\n",
    "    'data_captura': '2023-01-15',\n",
    "    'resolução': 10,  # em metros/pixel\n",
    "    'bandas': ['B1', 'B2', 'B3', 'B4']\n",
    "}"
   ]
  },
  {
   "cell_type": "markdown",
   "id": "fdadf9dd",
   "metadata": {},
   "source": [
    "- Acesso Direto pelas Chaves:\n",
    "\n",
    "Você pode acessar um valor em um dicionário diretamente utilizando sua chave. Se a chave estiver no dicionário, o valor correspondente será retornado; caso contrário, um erro KeyError será gerado.\n",
    "\n",
    "Exemplo: Se tivermos um dicionário representando metadados de uma imagem de satélite, podemos acessar a data de captura com metadados."
   ]
  },
  {
   "cell_type": "code",
   "execution_count": 141,
   "id": "d0b4d2e8",
   "metadata": {},
   "outputs": [
    {
     "name": "stdout",
     "output_type": "stream",
     "text": [
      "2023-01-15\n"
     ]
    }
   ],
   "source": [
    "print(metadados_imagem['data_captura'])  "
   ]
  },
  {
   "cell_type": "markdown",
   "id": "caa7d731",
   "metadata": {},
   "source": [
    "- Método get():\n",
    "\n",
    "Semelhante ao acesso direto, o método get() permite recuperar o valor associado a uma chave. A diferença é que, se a chave não estiver presente, get() retornará None (ou um valor padrão especificado) em vez de gerar um erro.\n",
    "\n",
    "Exemplo: Retornar um valor a partir de uma chave. Caso não exista a chave que se está buscando, imprimi o seguinte texto: ‘Não informado’."
   ]
  },
  {
   "cell_type": "code",
   "execution_count": 142,
   "id": "1aa3f902",
   "metadata": {},
   "outputs": [
    {
     "name": "stdout",
     "output_type": "stream",
     "text": [
      "2023-01-15\n"
     ]
    }
   ],
   "source": [
    "print(metadados_imagem.get('data_captura', 'Não informado'))  "
   ]
  },
  {
   "cell_type": "code",
   "execution_count": 143,
   "id": "af7d21ae",
   "metadata": {},
   "outputs": [
    {
     "name": "stdout",
     "output_type": "stream",
     "text": [
      "Não informado\n"
     ]
    }
   ],
   "source": [
    "print(metadados_imagem.get('altitude', 'Não informado'))  "
   ]
  },
  {
   "cell_type": "markdown",
   "id": "f1725486",
   "metadata": {},
   "source": [
    "- Acesso às Chaves, Valores e Itens:\n",
    "\n",
    "keys(): Retorna uma lista das chaves no dicionário.\n",
    "\n",
    "values(): Retorna uma lista dos valores no dicionário.\n",
    "\n",
    "items(): Retorna uma lista de tuplas, onde cada tupla consiste em uma chave e um valor.\n",
    "\n",
    "Exemplo:"
   ]
  },
  {
   "cell_type": "code",
   "execution_count": 144,
   "id": "955ef3a2",
   "metadata": {},
   "outputs": [
    {
     "name": "stdout",
     "output_type": "stream",
     "text": [
      "dict_keys(['satélite', 'data_captura', 'resolução', 'bandas'])\n"
     ]
    }
   ],
   "source": [
    "# Obter todas as chaves\n",
    "print(metadados_imagem.keys())  "
   ]
  },
  {
   "cell_type": "code",
   "execution_count": 145,
   "id": "d05bcce3",
   "metadata": {},
   "outputs": [
    {
     "name": "stdout",
     "output_type": "stream",
     "text": [
      "dict_values(['Sentinel-2', '2023-01-15', 10, ['B1', 'B2', 'B3', 'B4']])\n"
     ]
    }
   ],
   "source": [
    "# Obter todos os valores\n",
    "print(metadados_imagem.values())  "
   ]
  },
  {
   "cell_type": "code",
   "execution_count": 146,
   "id": "74db66ea",
   "metadata": {},
   "outputs": [
    {
     "name": "stdout",
     "output_type": "stream",
     "text": [
      "dict_items([('satélite', 'Sentinel-2'), ('data_captura', '2023-01-15'), ('resolução', 10), ('bandas', ['B1', 'B2', 'B3', 'B4'])])\n"
     ]
    }
   ],
   "source": [
    "# Obter tanto as chaves quanto os valores\n",
    "print(metadados_imagem.items())  "
   ]
  },
  {
   "cell_type": "markdown",
   "id": "d30ca89e",
   "metadata": {},
   "source": [
    "*Modificação de valores no dicionário*\n",
    "\n",
    "Os dicionários são estruturas de dados mutáveis em Python, o que significa que você pode modificar seus valores após a criação. Para modificar um dicionário, você simplesmente atribui um novo valor a uma chave existente ou adiciona uma nova chave-valor ao dicionário.\n",
    "Vamos explorar a modificação de valores em dicionários usando o dicionário metadados_imagem:"
   ]
  },
  {
   "cell_type": "code",
   "execution_count": 147,
   "id": "b438093e",
   "metadata": {},
   "outputs": [],
   "source": [
    "metadados_imagem = {\n",
    "    'satélite': 'Sentinel-2',\n",
    "    'data_captura': '2023-01-15',\n",
    "    'resolução': 10,  # em metros/pixel\n",
    "    'bandas': ['B1', 'B2', 'B3', 'B4']\n",
    "}"
   ]
  },
  {
   "cell_type": "markdown",
   "id": "cd59972c",
   "metadata": {},
   "source": [
    "- Modificar um valor existente:\n",
    "\n",
    "Se você deseja alterar o satélite registrado, pode fazer o seguinte:"
   ]
  },
  {
   "cell_type": "code",
   "execution_count": 148,
   "id": "04eaf4db",
   "metadata": {},
   "outputs": [
    {
     "name": "stdout",
     "output_type": "stream",
     "text": [
      "Sentinel-3\n"
     ]
    }
   ],
   "source": [
    "metadados_imagem['satélite'] = 'Sentinel-3'\n",
    "print(metadados_imagem['satélite'])  "
   ]
  },
  {
   "cell_type": "markdown",
   "id": "20083545",
   "metadata": {},
   "source": [
    "- Adicionar uma novo par chave-valor:\n",
    "\n",
    "Vamos supor que você deseja adicionar informações sobre a área de cobertura da imagem:"
   ]
  },
  {
   "cell_type": "code",
   "execution_count": 149,
   "id": "7013a2fb",
   "metadata": {},
   "outputs": [
    {
     "name": "stdout",
     "output_type": "stream",
     "text": [
      "América do Sul\n"
     ]
    }
   ],
   "source": [
    "metadados_imagem['area_cobertura'] = 'América do Sul'\n",
    "print(metadados_imagem['area_cobertura'])  \n"
   ]
  },
  {
   "cell_type": "markdown",
   "id": "f639de20",
   "metadata": {},
   "source": [
    "- Modificar uma lista dentro do dicionário:\n",
    "\n",
    "Você pode alterar ou adicionar novas bandas à lista de bandas:"
   ]
  },
  {
   "cell_type": "code",
   "execution_count": 150,
   "id": "20c13fea",
   "metadata": {},
   "outputs": [
    {
     "name": "stdout",
     "output_type": "stream",
     "text": [
      "['B1', 'B2', 'B3', 'B4', 'B5']\n"
     ]
    }
   ],
   "source": [
    "metadados_imagem['bandas'].append('B5')\n",
    "print(metadados_imagem['bandas'])  "
   ]
  },
  {
   "cell_type": "markdown",
   "id": "70a01c6a",
   "metadata": {},
   "source": [
    "- Remover uma chave-valor:\n",
    "\n",
    "Se por algum motivo você precisar remover a resolução, pode usar o método pop:"
   ]
  },
  {
   "cell_type": "code",
   "execution_count": 151,
   "id": "68566409",
   "metadata": {},
   "outputs": [
    {
     "name": "stdout",
     "output_type": "stream",
     "text": [
      "10\n",
      "False\n"
     ]
    }
   ],
   "source": [
    "resolucao_removida = metadados_imagem.pop('resolução')\n",
    "print(resolucao_removida)  # Saída: 10\n",
    "print('resolução' in metadados_imagem)  "
   ]
  },
  {
   "cell_type": "markdown",
   "id": "cc84fb2a",
   "metadata": {},
   "source": [
    "*Remoção de elementos usando del, pop() ou popitem()*\n",
    "\n",
    "Em Python, a remoção de elementos de estruturas de dados é facilitada por métodos e comandos intuitivos. O comando del é versátil e pode ser usado para deletar itens de listas ou chaves de dicionários. Por outro lado, o método pop(), frequentemente utilizado com listas, também serve para dicionários e permite remover um item especificado pela sua posição ou chave, retornando o valor correspondente. No contexto de dicionários, o popitem() é particularmente útil, pois elimina o último par chave-valor inserido, adaptando-se ao comportamento de ordem de inserção preservada dos dicionários a partir do Python 3.7. \n",
    "\n",
    "Vamos recriar o dicionário metadados_imagem:"
   ]
  },
  {
   "cell_type": "code",
   "execution_count": 152,
   "id": "843fdd08",
   "metadata": {},
   "outputs": [],
   "source": [
    "metadados_imagem = {\n",
    "    'satélite': 'Sentinel-2',\n",
    "    'data_captura': '2023-01-15',\n",
    "    'resolução': 10,  # em metros/pixel\n",
    "    'bandas': ['B1', 'B2', 'B3', 'B4']\n",
    "}"
   ]
  },
  {
   "cell_type": "markdown",
   "id": "eba02f56",
   "metadata": {},
   "source": [
    "- Usando del:\n",
    "\n",
    "Este é um comando para deletar uma chave e seu valor correspondente. Se você tentar remover uma chave que não existe usando del, um erro será gerado."
   ]
  },
  {
   "cell_type": "code",
   "execution_count": 153,
   "id": "e65d78df",
   "metadata": {},
   "outputs": [],
   "source": [
    "del metadados_imagem['data_captura']"
   ]
  },
  {
   "cell_type": "markdown",
   "id": "db2748fc",
   "metadata": {},
   "source": [
    "- Usando pop():\n",
    "\n",
    "Este método remove uma chave específica e retorna o valor correspondente. Se a chave não existir e nenhum valor padrão for fornecido, um erro será gerado."
   ]
  },
  {
   "cell_type": "code",
   "execution_count": 154,
   "id": "4055d747",
   "metadata": {},
   "outputs": [
    {
     "name": "stdout",
     "output_type": "stream",
     "text": [
      "10\n"
     ]
    }
   ],
   "source": [
    "resolucao = metadados_imagem.pop('resolução')\n",
    "print(resolucao)"
   ]
  },
  {
   "cell_type": "markdown",
   "id": "2e112138",
   "metadata": {},
   "source": [
    "- Usando popitem():\n",
    "\n",
    "Este método remove o último par chave-valor inserido no dicionário e o retorna como uma tupla. Este comportamento é útil quando trabalhamos com dicionários a partir do Python 3.7, onde os dicionários mantêm a ordem de inserção."
   ]
  },
  {
   "cell_type": "code",
   "execution_count": 155,
   "id": "489a7a00",
   "metadata": {},
   "outputs": [
    {
     "name": "stdout",
     "output_type": "stream",
     "text": [
      "('bandas', ['B1', 'B2', 'B3', 'B4'])\n"
     ]
    }
   ],
   "source": [
    "item_removido = metadados_imagem.popitem()\n",
    "print(item_removido)  "
   ]
  },
  {
   "cell_type": "markdown",
   "id": "cd179f47",
   "metadata": {},
   "source": [
    "Após executar todas essas operações, o dicionário “metadados_imagem” terá apenas o par chave-valor “satélite: Sentinel-2”. \n",
    "{'satélite': 'Sentinel-2'}\n",
    "\n",
    "\n",
    "\n",
    "*Atualização de um dicionário com outro dicionário ou com pares de chave-valor*\n",
    "\n",
    "Atualizar um dicionário em Python pode ser feito de várias maneiras, mas uma das abordagens mais diretas é usar o método update(). Este método permite combinar dois dicionários ou adicionar pares chave-valor a um dicionário existente.\n",
    "\n",
    "\n",
    "- Atualizando com outro dicionário:\n",
    "\n",
    "Suponha que você tenha dois dicionários relacionados referentes aos metadados de imagens do Sentinel-2:"
   ]
  },
  {
   "cell_type": "code",
   "execution_count": 156,
   "id": "0dc343da",
   "metadata": {},
   "outputs": [],
   "source": [
    "metadados_imagem1 = {\n",
    "    'satélite': 'Sentinel-2',\n",
    "    'resolução': 10\n",
    "}"
   ]
  },
  {
   "cell_type": "code",
   "execution_count": 157,
   "id": "a364590f",
   "metadata": {},
   "outputs": [],
   "source": [
    "metadados_imagem2 = {\n",
    "    'data_captura': '2023-01-15',\n",
    "    'bandas': ['B1', 'B2', 'B3', 'B4']\n",
    "}"
   ]
  },
  {
   "cell_type": "markdown",
   "id": "b722c701",
   "metadata": {},
   "source": [
    "Para combinar esses dois dicionários, você pode usar o método update():"
   ]
  },
  {
   "cell_type": "code",
   "execution_count": 158,
   "id": "dc5b20fa",
   "metadata": {},
   "outputs": [
    {
     "data": {
      "text/plain": [
       "{'satélite': 'Sentinel-2',\n",
       " 'resolução': 10,\n",
       " 'data_captura': '2023-01-15',\n",
       " 'bandas': ['B1', 'B2', 'B3', 'B4']}"
      ]
     },
     "execution_count": 158,
     "metadata": {},
     "output_type": "execute_result"
    }
   ],
   "source": [
    "metadados_imagem1.update(metadados_imagem2)\n",
    "metadados_imagem1"
   ]
  },
  {
   "cell_type": "markdown",
   "id": "2e2ae67f",
   "metadata": {},
   "source": [
    "Após essa operação, metadados_imagem1 terá todos os pares chave-valor dos dois dicionários originais.\n",
    "\n",
    "\n",
    "\n",
    "- Atualizando com pares de chave-valor\n",
    "\n",
    "Para adicionar uma nova chave \"tipo\" com o valor \"ótico\":"
   ]
  },
  {
   "cell_type": "code",
   "execution_count": 159,
   "id": "36baaa74",
   "metadata": {},
   "outputs": [
    {
     "data": {
      "text/plain": [
       "{'satélite': 'Sentinel-2',\n",
       " 'resolução': 10,\n",
       " 'data_captura': '2023-01-15',\n",
       " 'bandas': ['B1', 'B2', 'B3', 'B4'],\n",
       " 'tipo': 'ótico'}"
      ]
     },
     "execution_count": 159,
     "metadata": {},
     "output_type": "execute_result"
    }
   ],
   "source": [
    "metadados_imagem1.update({'tipo': 'ótico'})\n",
    "metadados_imagem1"
   ]
  },
  {
   "cell_type": "markdown",
   "id": "fdd82e41",
   "metadata": {},
   "source": [
    "Também é possível adicionar múltiplas chaves e valores simultaneamente:"
   ]
  },
  {
   "cell_type": "code",
   "execution_count": 160,
   "id": "0e1e8077",
   "metadata": {},
   "outputs": [
    {
     "data": {
      "text/plain": [
       "{'satélite': 'Sentinel-2',\n",
       " 'resolução': 10,\n",
       " 'data_captura': '2023-01-15',\n",
       " 'bandas': ['B1', 'B2', 'B3', 'B4'],\n",
       " 'tipo': 'ótico',\n",
       " 'operador': 'ESA'}"
      ]
     },
     "execution_count": 160,
     "metadata": {},
     "output_type": "execute_result"
    }
   ],
   "source": [
    "metadados_imagem1.update(tipo='ótico', operador='ESA')\n",
    "metadados_imagem1"
   ]
  },
  {
   "cell_type": "markdown",
   "id": "7445f811",
   "metadata": {},
   "source": [
    "Após qualquer uma dessas operações, o dicionário metadados_imagem1 será atualizado com as novas chaves e valores fornecidos.\n",
    "\n",
    "\n",
    "*Outras operações comuns em dicionários*\n",
    "\n",
    "- Verificação de presença de uma chave com in:\n",
    "\n",
    "Em Python, para verificar se uma chave está presente em um dicionário, você pode usar o operador in. A vantagem de usar esse operador é que ele fornece uma maneira rápida e legível de verificar a existência de uma chave. Além disso, evita a ocorrência de KeyError, que pode ocorrer se você tentar acessar diretamente um valor usando uma chave que não exista no dicionário."
   ]
  },
  {
   "cell_type": "code",
   "execution_count": 161,
   "id": "49a43862",
   "metadata": {},
   "outputs": [],
   "source": [
    "dicionario = {'cidade': 'Natal', 'estado': 'RN', 'país': 'Brasil'}\n",
    "existe = 'cidade' in dicionario"
   ]
  },
  {
   "cell_type": "markdown",
   "id": "f3a40163",
   "metadata": {},
   "source": [
    "- Uso da função len():\n",
    "\n",
    "A função len() retorna o número de pares chave-valor presentes no dicionário."
   ]
  },
  {
   "cell_type": "code",
   "execution_count": 162,
   "id": "4795d1a4",
   "metadata": {},
   "outputs": [],
   "source": [
    "tamanho = len(dicionario)"
   ]
  },
  {
   "cell_type": "markdown",
   "id": "48a9834b",
   "metadata": {},
   "source": [
    "- Uso do método clear():\n",
    "\n",
    "O método clear() Remove todos os pares chave-valor do dicionário, tornando-o um dicionário vazio."
   ]
  },
  {
   "cell_type": "code",
   "execution_count": 163,
   "id": "3c66483b",
   "metadata": {},
   "outputs": [],
   "source": [
    "dicionario.clear()"
   ]
  },
  {
   "cell_type": "markdown",
   "id": "b4d5bb41",
   "metadata": {},
   "source": [
    "### 2.3.4 Conjuntos (Sets)\n",
    "\n",
    "Conjuntos (ou sets, em inglês) são uma das estruturas de dados fundamentais em Python. Eles são coleções não ordenadas de elementos únicos. Isso significa que um conjunto não pode conter elementos duplicados. Devido à sua natureza não ordenada, conjuntos não suportam indexação ou fatiamento, como listas ou strings. Aqui estão algumas características e operações fundamentais associadas aos conjuntos:\n",
    "\n",
    "- Não ordenado: Os itens têm uma ordem não definida e não podem ser referenciados por índice ou chave.\n",
    "\n",
    "- Elementos únicos: Os conjuntos não permitem elementos duplicados.\n",
    "\n",
    "- Mutável: Você pode adicionar ou remover itens após a criação do conjunto.\n",
    "\n",
    "- Permite diferentes tipos de dados: Um conjunto pode conter números, strings, tuplas e outros tipos imutáveis de dados.\n",
    "\n",
    "Conjuntos são particularmente úteis quando você quer eliminar itens duplicados de uma lista ou quando precisa realizar operações matemáticas de conjunto, como união, interseção e diferença.\n",
    "\n",
    "\n",
    "*Criação de Conjuntos*\n",
    "\n",
    "- Usando chaves:"
   ]
  },
  {
   "cell_type": "code",
   "execution_count": 164,
   "id": "5d8772ab",
   "metadata": {},
   "outputs": [
    {
     "name": "stdout",
     "output_type": "stream",
     "text": [
      "{1, 2, 3, 4, 5}\n"
     ]
    }
   ],
   "source": [
    "# Criando um conjunto de números inteiros\n",
    "conjunto_inteiros = {1, 2, 3, 4, 5}\n",
    "print(conjunto_inteiros)  "
   ]
  },
  {
   "cell_type": "code",
   "execution_count": 165,
   "id": "4a853df7",
   "metadata": {},
   "outputs": [
    {
     "name": "stdout",
     "output_type": "stream",
     "text": [
      "{'polígono', 'ponto', 'linha'}\n"
     ]
    }
   ],
   "source": [
    "# Criando um conjunto de strings\n",
    "tipos_dados_geo = {\"ponto\", \"linha\", \"polígono\"}\n",
    "print(tipos_dados_geo)"
   ]
  },
  {
   "cell_type": "code",
   "execution_count": 166,
   "id": "4e03d8ee",
   "metadata": {},
   "outputs": [
    {
     "name": "stdout",
     "output_type": "stream",
     "text": [
      "{1, 2, 3, 4, 5}\n"
     ]
    }
   ],
   "source": [
    "# Observe que os elementos duplicados são automaticamente removidos\n",
    "conjunto_duplicados = {1, 2, 2, 3, 4, 4, 5}\n",
    "print(conjunto_duplicados)"
   ]
  },
  {
   "cell_type": "markdown",
   "id": "d61eaa14",
   "metadata": {},
   "source": [
    "- Usando a função set():"
   ]
  },
  {
   "cell_type": "code",
   "execution_count": 167,
   "id": "8b0476de",
   "metadata": {},
   "outputs": [
    {
     "name": "stdout",
     "output_type": "stream",
     "text": [
      "{1, 2, 3, 4, 5}\n"
     ]
    }
   ],
   "source": [
    "# Convertendo uma lista em conjunto\n",
    "\n",
    "lista = [1, 2, 3, 4, 5]\n",
    "conjunto_a_partir_da_lista = set(lista)\n",
    "print(conjunto_a_partir_da_lista) "
   ]
  },
  {
   "cell_type": "code",
   "execution_count": 168,
   "id": "78ec147d",
   "metadata": {},
   "outputs": [
    {
     "name": "stdout",
     "output_type": "stream",
     "text": [
      "{'união', 'diferença', 'intersecção'}\n"
     ]
    }
   ],
   "source": [
    "# Convertendo uma tupla em conjunto\n",
    "operacoes = (\"intersecção\", \"união\", \"diferença\", \"intersecção\")\n",
    "conjunto_operacoes = set(operacoes)\n",
    "print(conjunto_operacoes)"
   ]
  },
  {
   "cell_type": "code",
   "execution_count": 169,
   "id": "58d5dfbe",
   "metadata": {},
   "outputs": [
    {
     "name": "stdout",
     "output_type": "stream",
     "text": [
      "set()\n"
     ]
    }
   ],
   "source": [
    "# Criando um conjunto vazio usando set() \n",
    "# Não é possível criar um conjunto vazio com {}\n",
    "conjunto_vazio = set()\n",
    "print(conjunto_vazio) "
   ]
  },
  {
   "cell_type": "markdown",
   "id": "d6174fad",
   "metadata": {},
   "source": [
    "*Operações Básicas com Conjuntos*\n",
    "\n",
    "Os conjuntos em Python vêm com um conjunto de métodos integrados que facilitam a manipulação e a gestão dos seus elementos. Aqui, apresentaremos algumas das operações mais comuns que você pode realizar em conjuntos:\n",
    "\n",
    "- add: Esse método permite adicionar um único elemento ao conjunto. Se o elemento já estiver presente, o conjunto permanecerá inalterado, pois não pode haver duplicatas.\n",
    "\n",
    "- update: Usado para adicionar múltiplos elementos ao conjunto. É semelhante ao método add, mas aceita uma lista de elementos.\n",
    "\n",
    "- remove: Remove um elemento especificado do conjunto. Se o elemento não estiver presente, gerará um erro.\n",
    "\n",
    "- discard: Semelhante ao método remove, mas não gera um erro se o elemento a ser descartado não estiver presente no conjunto.\n",
    "\n",
    "- clear: Este método esvazia o conjunto, removendo todos os seus elementos.\n",
    "\n",
    "Exemplos:\n",
    "\n",
    "Criar dois conjuntos:"
   ]
  },
  {
   "cell_type": "code",
   "execution_count": 170,
   "id": "7c136851",
   "metadata": {},
   "outputs": [],
   "source": [
    "A = {1, 2, 3}\n",
    "B = {3, 4, 5}"
   ]
  },
  {
   "cell_type": "markdown",
   "id": "778c3e09",
   "metadata": {},
   "source": [
    "Adicionar um único elemento no conjunto:"
   ]
  },
  {
   "cell_type": "code",
   "execution_count": 171,
   "id": "ecf83db1",
   "metadata": {},
   "outputs": [
    {
     "name": "stdout",
     "output_type": "stream",
     "text": [
      "{1, 2, 3, 6}\n"
     ]
    }
   ],
   "source": [
    "A.add(6)\n",
    "print(A)"
   ]
  },
  {
   "cell_type": "markdown",
   "id": "59b54431",
   "metadata": {},
   "source": [
    "Adicionar múltiplos elementos:"
   ]
  },
  {
   "cell_type": "code",
   "execution_count": 172,
   "id": "2e957a4a",
   "metadata": {},
   "outputs": [
    {
     "name": "stdout",
     "output_type": "stream",
     "text": [
      "{1, 2, 3, 6, 7, 8}\n"
     ]
    }
   ],
   "source": [
    "A.update([7, 8])\n",
    "print(A)"
   ]
  },
  {
   "cell_type": "markdown",
   "id": "2e4bf85d",
   "metadata": {},
   "source": [
    "Remover um elemento:"
   ]
  },
  {
   "cell_type": "code",
   "execution_count": 173,
   "id": "372e0afa",
   "metadata": {},
   "outputs": [
    {
     "name": "stdout",
     "output_type": "stream",
     "text": [
      "{2, 3, 6, 7, 8}\n"
     ]
    }
   ],
   "source": [
    "A.remove(1)\n",
    "print(A) "
   ]
  },
  {
   "cell_type": "markdown",
   "id": "a053bcb8",
   "metadata": {},
   "source": [
    "Remover um elemento sem levantar erro caso ele não exista:"
   ]
  },
  {
   "cell_type": "code",
   "execution_count": 174,
   "id": "51f739f6",
   "metadata": {},
   "outputs": [],
   "source": [
    "A.discard(10)  \n",
    "# Não acontece nada, já que 10 não está no conjunto"
   ]
  },
  {
   "cell_type": "markdown",
   "id": "0082a1fd",
   "metadata": {},
   "source": [
    "Remover todos os elementos de um conjunto, deixando-o vazio:"
   ]
  },
  {
   "cell_type": "code",
   "execution_count": 175,
   "id": "958eeec2",
   "metadata": {},
   "outputs": [
    {
     "name": "stdout",
     "output_type": "stream",
     "text": [
      "Conjunto após limpar todos os elementos: set()\n"
     ]
    }
   ],
   "source": [
    "A.clear()\n",
    "print(f\"Conjunto após limpar todos os elementos: {A}\")"
   ]
  },
  {
   "cell_type": "markdown",
   "id": "f0b747f9",
   "metadata": {},
   "source": [
    "*Operações de Conjunto*\n",
    "\n",
    "Os conjuntos, em qualquer contexto matemático ou de programação, são coleções não ordenadas de itens únicos. No Python, eles não são apenas úteis para garantir unicidade, mas também para realizar operações matemáticas clássicas de conjuntos. Estas operações permitem analisar relações entre diferentes grupos de dados e encontrar semelhanças, diferenças, interseções, entre outros. Algumas das operações de conjunto mais comuns são:\n",
    "\n",
    "- União: Esta operação combina os elementos de dois conjuntos, criando um novo conjunto que contém todos os elementos únicos dos conjuntos originais. No Python, a união pode ser realizada usando o método union() ou o operador “|”."
   ]
  },
  {
   "cell_type": "code",
   "execution_count": 176,
   "id": "a818edfb",
   "metadata": {},
   "outputs": [],
   "source": [
    "# Criando dois conjuntos\n",
    "A = {1, 2, 3}\n",
    "B = {3, 4, 5}"
   ]
  },
  {
   "cell_type": "code",
   "execution_count": 177,
   "id": "4c369493",
   "metadata": {},
   "outputs": [
    {
     "name": "stdout",
     "output_type": "stream",
     "text": [
      "{1, 2, 3, 4, 5}\n"
     ]
    }
   ],
   "source": [
    "uniao = A.union(B)\n",
    "print(uniao) "
   ]
  },
  {
   "cell_type": "code",
   "execution_count": 178,
   "id": "5164622f",
   "metadata": {},
   "outputs": [
    {
     "name": "stdout",
     "output_type": "stream",
     "text": [
      "{1, 2, 3, 4, 5}\n"
     ]
    }
   ],
   "source": [
    "# Ou usando o operador |\n",
    "uniao = A | B\n",
    "print(uniao)"
   ]
  },
  {
   "cell_type": "markdown",
   "id": "46746591",
   "metadata": {},
   "source": [
    "- Interseção: Encontra os elementos que são comuns a ambos os conjuntos. Pode ser realizada usando o método intersection() ou o operador “&”."
   ]
  },
  {
   "cell_type": "code",
   "execution_count": 179,
   "id": "e1e4ce2c",
   "metadata": {},
   "outputs": [
    {
     "name": "stdout",
     "output_type": "stream",
     "text": [
      "{3}\n"
     ]
    }
   ],
   "source": [
    "interseccao = A.intersection(B)\n",
    "print(interseccao)"
   ]
  },
  {
   "cell_type": "code",
   "execution_count": 180,
   "id": "ade3caa3",
   "metadata": {},
   "outputs": [
    {
     "name": "stdout",
     "output_type": "stream",
     "text": [
      "{3}\n"
     ]
    }
   ],
   "source": [
    "# Ou usando o operador &\n",
    "interseccao = A & B\n",
    "print(interseccao) "
   ]
  },
  {
   "cell_type": "markdown",
   "id": "116f2807",
   "metadata": {},
   "source": [
    "- Diferença: Retorna os elementos que estão no primeiro conjunto, mas não no segundo. É feito usando o método difference() ou o operador “-“."
   ]
  },
  {
   "cell_type": "code",
   "execution_count": 181,
   "id": "cc74533a",
   "metadata": {},
   "outputs": [
    {
     "name": "stdout",
     "output_type": "stream",
     "text": [
      "{1, 2}\n"
     ]
    }
   ],
   "source": [
    "diferenca = A.difference(B)\n",
    "print(diferenca)"
   ]
  },
  {
   "cell_type": "code",
   "execution_count": 182,
   "id": "3b1b61ce",
   "metadata": {},
   "outputs": [
    {
     "name": "stdout",
     "output_type": "stream",
     "text": [
      "{1, 2}\n"
     ]
    }
   ],
   "source": [
    "# Ou usando o operador -\n",
    "diferenca = A - B\n",
    "print(diferenca)"
   ]
  },
  {
   "cell_type": "markdown",
   "id": "89d6b1aa",
   "metadata": {},
   "source": [
    "- Diferença Simétrica: Identifica os elementos que estão apenas em um dos conjuntos, mas não em ambos. Pode ser obtida com o método symmetric_difference() ou o operador “^”."
   ]
  },
  {
   "cell_type": "code",
   "execution_count": 183,
   "id": "da3f8c2c",
   "metadata": {},
   "outputs": [
    {
     "name": "stdout",
     "output_type": "stream",
     "text": [
      "{1, 2, 4, 5}\n"
     ]
    }
   ],
   "source": [
    "dif_simetrica = A.symmetric_difference(B)\n",
    "print(dif_simetrica)"
   ]
  },
  {
   "cell_type": "code",
   "execution_count": 184,
   "id": "6591bfae",
   "metadata": {},
   "outputs": [
    {
     "name": "stdout",
     "output_type": "stream",
     "text": [
      "{1, 2, 4, 5}\n"
     ]
    }
   ],
   "source": [
    "# Ou usando o operador ^\n",
    "dif_simetrica = A ^ B\n",
    "print(dif_simetrica)"
   ]
  },
  {
   "cell_type": "markdown",
   "id": "65d160f9",
   "metadata": {},
   "source": [
    "Além dessas operações básicas, existem métodos para verificar subconjuntos, superconjuntos e se conjuntos são disjuntos (não têm elementos em comum).\n",
    "\n",
    "- Subconjunto: verifica se um conjunto é um subconjunto de outro conjunto."
   ]
  },
  {
   "cell_type": "code",
   "execution_count": 185,
   "id": "465dad30",
   "metadata": {},
   "outputs": [
    {
     "name": "stdout",
     "output_type": "stream",
     "text": [
      "True\n"
     ]
    }
   ],
   "source": [
    "C = {1, 2}\n",
    "print(C.issubset(A))"
   ]
  },
  {
   "cell_type": "markdown",
   "id": "8b4c5756",
   "metadata": {},
   "source": [
    "- Superconjunto: verifica se um conjunto é um superconjunto de outro conjunto."
   ]
  },
  {
   "cell_type": "code",
   "execution_count": 186,
   "id": "538c4eca",
   "metadata": {},
   "outputs": [
    {
     "name": "stdout",
     "output_type": "stream",
     "text": [
      "True\n"
     ]
    }
   ],
   "source": [
    "print(A.issuperset(C))"
   ]
  },
  {
   "cell_type": "markdown",
   "id": "495e7f2b",
   "metadata": {},
   "source": [
    "- Conjuntos Disjuntos: verifica se dois conjuntos não têm elementos em comum."
   ]
  },
  {
   "cell_type": "code",
   "execution_count": 187,
   "id": "71423ef9",
   "metadata": {},
   "outputs": [
    {
     "name": "stdout",
     "output_type": "stream",
     "text": [
      "True\n"
     ]
    }
   ],
   "source": [
    "D = {7, 8, 9}\n",
    "print(A.isdisjoint(D))"
   ]
  },
  {
   "cell_type": "markdown",
   "id": "952dcf97",
   "metadata": {},
   "source": [
    "## 2.4 Estruturas de controle\n",
    "\n",
    "Em qualquer linguagem de programação, devemos ter a possibilidade de tomar decisões e de repetir tarefas. As estruturas de controle em Python fornecem os mecanismos necessários para dirigir o fluxo de um programa, permitindo que os desenvolvedores codifiquem lógicas mais complexas e adaptativas.\n",
    "\n",
    "Primeiramente, temos as estruturas condicionais, representadas principalmente pelas palavras-chave if, elif e else. Elas permitem que o programa tome decisões, executando blocos específicos de código com base em condições predefinidas. Por exemplo, pode-se verificar se um número é positivo, negativo ou zero e, com base nessa condição, tomar ações diferentes.\n",
    "\n",
    "Já as estruturas de repetição, ou loops, são responsáveis por executar um bloco de código várias vezes, enquanto uma condição específica for atendida ou até que uma lista de itens seja processada. Em Python, os loops mais comuns são representados por for e while. O loop for é frequentemente usado para iterar sobre sequências (como listas ou strings), enquanto o while continua executando enquanto uma determinada condição for verdadeira.\n",
    "\n",
    "Além dessas estruturas básicas, Python também oferece recursos avançados, como compreensões de lista (list comprehensions) para criar listas de forma concisa e a palavra-chave break para sair prematuramente de um loop.\n",
    "\n",
    "O geoprocessamento refere-se ao conjunto de técnicas utilizadas para coletar, tratar, manipular e apresentar informações espaciais. Em razão de sua complexidade e variedade, o uso das estruturas de controle em linguagens de programação, como Python, é fundamental para automatizar e otimizar processos relacionados à análise geoespacial.\n",
    "\n",
    "As estruturas condicionais são amplamente aplicadas em cenários de tomada de decisão. Por exemplo, em análises de uso do solo, um programa pode avaliar pixels de uma imagem de satélite e, com base em sua refletância, classificá-los como água, vegetação, solo exposto, entre outros. Assim, a lógica condicional permite que cada pixel seja categorizado corretamente.\n",
    "\n",
    "Já as estruturas de repetição são importantes em operações que requerem análise iterativa. Em modelagem hidrológica, por exemplo, é comum que se necessite percorrer uma matriz digital de elevação, célula por célula, para calcular direções de fluxo ou acumulação de água. Os loops, nesse contexto, permitem iterar sobre grandes conjuntos de dados espaciais, aplicando algoritmos específicos a cada ponto ou região.\n",
    "\n",
    "Em operações mais avançadas, como a execução de algoritmos de busca em redes ou grafos (como a determinação do caminho mais curto entre dois pontos em uma rede rodoviária), as estruturas de controle gerenciam a lógica, os critérios de parada e as iterações necessárias para o cálculo.\n",
    "\n",
    "\n",
    "### 2.4.1 Estruturas condicionais: estrutura e sintaxe do if, elif e else\n",
    "\n",
    "A base de uma estrutura condicional é um teste lógico, que pode resultar em um valor verdadeiro ou falso. Dependendo desse resultado, o programa pode seguir diferentes caminhos ou executar blocos distintos de instruções. Essa capacidade de avaliar condições e agir de acordo oferece uma grande flexibilidade ao programador, possibilitando a criação de software mais dinâmico e responsivo.\n",
    "\n",
    "No mundo real, tomamos decisões condicionais o tempo todo: \"Se estiver chovendo, vou levar um guarda-chuva\". Na programação, essa lógica é similar. A estrutura condicional avalia se uma determinada condição é atendida (por exemplo, se uma variável excede um certo valor) e, com base nessa avaliação, toma uma decisão sobre quais ações devem ser executadas. Essa capacidade de decidir sobre o fluxo de execução é fundamental para criar programas que possam lidar com uma ampla variedade de cenários e entradas.\n",
    "\n",
    "Em Python, as estruturas condicionais são representadas principalmente pelos comandos \"if\", \"elif\" e \"else\", que possibilitam avaliar múltiplas condições e direcionar o fluxo do programa de acordo com os resultados dessas avaliações. Os operadores de comparação e os operadores lógicos são comumente utilizados no contexto das estruturas condicionais.\n",
    "\n",
    "Os operadores de atribuição (quadro 4) são frequentemente usados em estruturas condicionais, especialmente quando há a necessidade de ajustar ou modificar o valor de uma variável com base em determinadas condições.\n",
    "\n",
    "\n",
    "Atribuição simples: Atribui o valor à direita do operador à variável à esquerda."
   ]
  },
  {
   "cell_type": "code",
   "execution_count": 188,
   "id": "f909d67f",
   "metadata": {},
   "outputs": [
    {
     "name": "stdout",
     "output_type": "stream",
     "text": [
      "5\n"
     ]
    }
   ],
   "source": [
    "x = 5\n",
    "print(x) "
   ]
  },
  {
   "cell_type": "markdown",
   "id": "e17dfb65",
   "metadata": {},
   "source": [
    "Adição e atribuição: Adiciona o valor à direita do operador à variável à esquerda e, em seguida, atribui o resultado à variável à esquerda."
   ]
  },
  {
   "cell_type": "code",
   "execution_count": 189,
   "id": "0404bf62",
   "metadata": {},
   "outputs": [
    {
     "name": "stdout",
     "output_type": "stream",
     "text": [
      "8\n"
     ]
    }
   ],
   "source": [
    "x += 3\n",
    "print(x) "
   ]
  },
  {
   "cell_type": "markdown",
   "id": "3d977138",
   "metadata": {},
   "source": [
    "Subtração e atribuição: Adiciona o valor à direita do operador à variável à esquerda e, em seguida, atribui o resultado à variável à esquerda."
   ]
  },
  {
   "cell_type": "code",
   "execution_count": 190,
   "id": "2769c312",
   "metadata": {},
   "outputs": [
    {
     "name": "stdout",
     "output_type": "stream",
     "text": [
      "5\n"
     ]
    }
   ],
   "source": [
    "x -= 3\n",
    "print(x) "
   ]
  },
  {
   "cell_type": "markdown",
   "id": "d506ac54",
   "metadata": {},
   "source": [
    "Multiplicação e atribuição: Multiplica a variável à esquerda pelo valor à direita do operador e, em seguida, atribui o resultado à variável à esquerda."
   ]
  },
  {
   "cell_type": "code",
   "execution_count": 191,
   "id": "6ff230b2",
   "metadata": {},
   "outputs": [
    {
     "name": "stdout",
     "output_type": "stream",
     "text": [
      "12\n"
     ]
    }
   ],
   "source": [
    "x = 4\n",
    "x*=3\n",
    "print(x)"
   ]
  },
  {
   "cell_type": "markdown",
   "id": "fa91dce8",
   "metadata": {},
   "source": [
    "Divisão e atribuição: Divide a variável à esquerda pelo valor à direita do operador e, em seguida, atribui o resultado (em ponto flutuante) à variável à esquerda."
   ]
  },
  {
   "cell_type": "code",
   "execution_count": 192,
   "id": "46bc846d",
   "metadata": {},
   "outputs": [
    {
     "name": "stdout",
     "output_type": "stream",
     "text": [
      "4.0\n"
     ]
    }
   ],
   "source": [
    "x/=3\n",
    "print(x) "
   ]
  },
  {
   "cell_type": "markdown",
   "id": "9f75d3ef",
   "metadata": {},
   "source": [
    "Divisão inteira e atribuição: Realiza a divisão inteira da variável à esquerda pelo valor à direita do operador e, em seguida, atribui o resultado à variável à esquerda."
   ]
  },
  {
   "cell_type": "code",
   "execution_count": 193,
   "id": "446d2485",
   "metadata": {},
   "outputs": [
    {
     "name": "stdout",
     "output_type": "stream",
     "text": [
      "4\n"
     ]
    }
   ],
   "source": [
    "x = 14\n",
    "x//=3\n",
    "print(x) "
   ]
  },
  {
   "cell_type": "markdown",
   "id": "f3dfb67b",
   "metadata": {},
   "source": [
    "Módulo e atribuição: Calcula o resto da divisão da variável à esquerda pelo valor à direita do operador e, em seguida, atribui o resultado à variável à esquerda."
   ]
  },
  {
   "cell_type": "code",
   "execution_count": 194,
   "id": "8d229902",
   "metadata": {},
   "outputs": [
    {
     "name": "stdout",
     "output_type": "stream",
     "text": [
      "4\n"
     ]
    }
   ],
   "source": [
    "x = 14\n",
    "x%=5\n",
    "print(x) "
   ]
  },
  {
   "cell_type": "markdown",
   "id": "e38d3ad5",
   "metadata": {},
   "source": [
    "Exponenciação e atribuição: Eleva a variável à esquerda ao valor à direita do operador e, em seguida, atribui o resultado à variável à esquerda."
   ]
  },
  {
   "cell_type": "code",
   "execution_count": 195,
   "id": "fb8c3538",
   "metadata": {},
   "outputs": [
    {
     "name": "stdout",
     "output_type": "stream",
     "text": [
      "9\n"
     ]
    }
   ],
   "source": [
    "x = 3\n",
    "x**=2\n",
    "print(x)"
   ]
  },
  {
   "cell_type": "markdown",
   "id": "3b063cf9",
   "metadata": {},
   "source": [
    "*O comando if*\n",
    "\n",
    "O comando if em Python é uma estrutura condicional que permite testar uma condição e, com base no resultado dessa avaliação (verdadeiro ou falso), executar um bloco de código específico. Essencialmente, ele permite que o programa \"decida\" qual caminho seguir baseado em determinados critérios.\n",
    "\n",
    "No campo do geoprocessamento, o comando if pode ser utilizado em diversas situações para controlar fluxos de trabalho, tomar decisões com base em atributos espaciais, filtrar dados geográficos, entre outras tarefas. Aqui estão alguns exemplos:\n",
    "\n",
    "\n",
    "- Filtragem de Dados com base em atributos.\n",
    "\n",
    "Exemplos:\n",
    "\n",
    "Suponha que você tenha um conjunto de dados com dados de declividade e queira categorizar o relevo, quando ele for plano."
   ]
  },
  {
   "cell_type": "code",
   "execution_count": 196,
   "id": "5ff48c71",
   "metadata": {},
   "outputs": [
    {
     "name": "stdout",
     "output_type": "stream",
     "text": [
      "Plano.\n"
     ]
    }
   ],
   "source": [
    "declividade = 2\n",
    "if declividade < 3:\n",
    "    print(\"Plano.\")"
   ]
  },
  {
   "cell_type": "markdown",
   "id": "990447c6",
   "metadata": {},
   "source": [
    "Imagine que estamos mapeando zonas climáticas de uma região. Se a temperatura média anual de uma área estiver entre 20°C e 30°C, podemos categorizá-la como \"zona climática tropical\"."
   ]
  },
  {
   "cell_type": "code",
   "execution_count": 197,
   "id": "9754fb85",
   "metadata": {},
   "outputs": [],
   "source": [
    "temperatura_media = 25  # temperatura média anual em graus Celsius"
   ]
  },
  {
   "cell_type": "code",
   "execution_count": 198,
   "id": "98779527",
   "metadata": {},
   "outputs": [
    {
     "name": "stdout",
     "output_type": "stream",
     "text": [
      "A área é categorizada como zona climática tropical.\n"
     ]
    }
   ],
   "source": [
    "if 20 <= temperatura_media <= 30:\n",
    "    print('A área é categorizada como zona climática tropical.')"
   ]
  },
  {
   "cell_type": "markdown",
   "id": "4e65ebd0",
   "metadata": {},
   "source": [
    "*O comando else*\n",
    "\n",
    "O comando else em Python é usado em conjunção com a instrução if. Enquanto if avalia se uma condição é verdadeira para executar um bloco de código, o else captura os casos em que a condição do if não é atendida, ou seja, é falso. Em outras palavras, o bloco de código sob else será executado quando a condição do if anterior for não-verdadeira.\n",
    "\n",
    "Imagine que estamos trabalhando com um sistema de informação geográfica e queremos determinar se uma determinada área é adequada para agricultura com base na sua umidade. Vamos supor que uma umidade acima de 50% é considerada adequada para agricultura, enquanto valores abaixo disso são considerados inadequados."
   ]
  },
  {
   "cell_type": "code",
   "execution_count": 199,
   "id": "77fc4824",
   "metadata": {},
   "outputs": [],
   "source": [
    "umidade = 45  # umidade em percentagem"
   ]
  },
  {
   "cell_type": "code",
   "execution_count": 200,
   "id": "c926bfe2",
   "metadata": {},
   "outputs": [
    {
     "name": "stdout",
     "output_type": "stream",
     "text": [
      "A área não é adequada para agricultura.\n"
     ]
    }
   ],
   "source": [
    "if umidade > 50:\n",
    "    print('A área é adequada para agricultura.')\n",
    "else:\n",
    "    print('A área não é adequada para agricultura.')"
   ]
  },
  {
   "cell_type": "markdown",
   "id": "011da318",
   "metadata": {},
   "source": [
    "Neste exemplo, como a umidade (45%) é menor que o limite de 50%, o código sob o comando else é executado, levando à saída que indica que a área não é adequada para agricultura.\n",
    "\n",
    "No próximo exemplo, queremos encontrar um local ideal para construir uma instalação de observação da vida selvagem. Este local deve estar a uma altitude entre 1000 e 2000 metros e a pelo menos 5 km de distância de qualquer área urbana para garantir um ambiente tranquilo."
   ]
  },
  {
   "cell_type": "code",
   "execution_count": 201,
   "id": "9c7b4a8d",
   "metadata": {},
   "outputs": [],
   "source": [
    "altitude = 1500  # altitude em metros\n",
    "distancia_cidade = 7  # distância da cidade mais próxima em km"
   ]
  },
  {
   "cell_type": "code",
   "execution_count": 202,
   "id": "2bdb63f0",
   "metadata": {},
   "outputs": [
    {
     "name": "stdout",
     "output_type": "stream",
     "text": [
      "O local é ideal para uma instalação de observação da vida selvagem.\n"
     ]
    }
   ],
   "source": [
    "if (1000 <= altitude <= 2000) and (distancia_cidade > 5):\n",
    "    print('O local é ideal para uma instalação de observação da vida selvagem.')\n",
    "else:\n",
    "    print('O local não é adequado.')"
   ]
  },
  {
   "cell_type": "markdown",
   "id": "2bc83848",
   "metadata": {},
   "source": [
    "Neste exemplo, estamos usando o operador lógico and para combinar duas condições: altitude e distância da cidade. Ambas as condições devem ser verdadeiras para que o bloco de código sob o if seja executado. Se qualquer uma (ou ambas) das condições for falsa, o código sob o else será executado.\n",
    "\n",
    "\n",
    "*O comando elif*\n",
    "\n",
    "O comando elif é uma abreviação de \"else if\" e serve como uma ponte entre um if e um else. Permite que você teste múltiplas condições em uma sequência, sem ter que aninhar várias instruções if dentro umas das outras. É especialmente útil quando você tem várias condições distintas que precisam ser avaliadas em ordem.\n",
    "\n",
    "Se a condição na instrução if for falsa, o programa verificará a condição na próxima instrução elif. Se essa condição também for falsa, o programa passará para a próxima instrução elif e assim por diante. Se nenhuma das condições if ou elif for verdadeira, o bloco de código sob a instrução else (se presente) será executado.\n",
    "\n",
    "Exemplo: Imagine que estamos avaliando a qualidade do solo para diferentes tipos de cultivo. Se a umidade do solo estiver abaixo de 40%, pode ser considerada baixa. Se estiver entre 40% e 60%, é média. Se estiver acima de 60%, é alta."
   ]
  },
  {
   "cell_type": "code",
   "execution_count": 203,
   "id": "8766bac2",
   "metadata": {},
   "outputs": [],
   "source": [
    "umidade = 50  # umidade do solo em percentagem"
   ]
  },
  {
   "cell_type": "code",
   "execution_count": 204,
   "id": "70d8cf38",
   "metadata": {},
   "outputs": [
    {
     "name": "stdout",
     "output_type": "stream",
     "text": [
      "A umidade do solo é média.\n"
     ]
    }
   ],
   "source": [
    "if umidade < 40:\n",
    "    print('A umidade do solo é baixa.')\n",
    "elif umidade <= 60:\n",
    "    print('A umidade do solo é média.')\n",
    "else:\n",
    "    print('A umidade do solo é alta.')"
   ]
  },
  {
   "cell_type": "markdown",
   "id": "82b432a6",
   "metadata": {},
   "source": [
    "Neste exemplo, o programa primeiro verifica se a umidade é menor que 40%. Como não é, ele passa para a condição do elif e verifica se a umidade é menor ou igual a 60%. Como é, ele executa o bloco de código associado a esse elif. Se a umidade fosse maior que 60%, ele teria passado para o bloco else.\n",
    "\n",
    "Vamos voltar ao exemplo dos dados de declividade apresentado anteriormente. Utilizando o elif e o else, podemos utilizar diversas classes de declividade para classificar o relevo de uma determinada área:"
   ]
  },
  {
   "cell_type": "code",
   "execution_count": 205,
   "id": "5bdd07a7",
   "metadata": {},
   "outputs": [],
   "source": [
    "# Definindo um valor de declividade\n",
    "declividade = 10  # Exemplo de valor de declividade"
   ]
  },
  {
   "cell_type": "code",
   "execution_count": 206,
   "id": "d0b5802e",
   "metadata": {},
   "outputs": [
    {
     "name": "stdout",
     "output_type": "stream",
     "text": [
      "Ondulado\n"
     ]
    }
   ],
   "source": [
    "# Usando o comando if para classificar a declividade\n",
    "if declividade >= 0 and declividade < 3:\n",
    "    print(\"Plano\")\n",
    "elif declividade >= 3 and declividade < 8:\n",
    "    print(\"Suave-ondulado\")\n",
    "elif declividade >= 8 and declividade < 20:\n",
    "    print(\"Ondulado\")\n",
    "elif declividade >= 20 and declividade < 45:\n",
    "    print(\"Forte-ondulado\")\n",
    "elif declividade >= 45 and declividade <= 75:\n",
    "    print(\"Montanhoso\")\n",
    "else:\n",
    "    print(\"Forte-montanhoso\")"
   ]
  },
  {
   "cell_type": "markdown",
   "id": "b8d84199",
   "metadata": {},
   "source": [
    "*Aninhamento de declarações condicionais*\n",
    "\n",
    "O aninhamento de declarações condicionais ocorre quando você tem uma instrução condicional (if, elif ou else) dentro de outra instrução condicional. Isso é útil quando você quer fazer uma decisão com base em um critério e, depois, tomar outra decisão dentro dessa primeira condição.\n",
    "\n",
    "Imagine uma árvore de decisões, onde cada ramo leva a mais ramos. Em cada etapa da avaliação, você toma uma decisão e essa decisão pode levar a mais avaliações e decisões.\n",
    "\n",
    "Ao aninhar declarações condicionais, é essencial manter o código organizado e legível para evitar confusões. Indentações adequadas são cruciais nesse processo, pois determinam o escopo de cada declaração.\n",
    "\n",
    "Suponhamos que, em um contexto de geoprocessamento, você queira avaliar se uma área é adequada para construção. Primeiro, você verificará se a área é uma zona protegida. Se não for, você verificará se o terreno é estável."
   ]
  },
  {
   "cell_type": "code",
   "execution_count": 207,
   "id": "35cfb8b7",
   "metadata": {},
   "outputs": [
    {
     "name": "stdout",
     "output_type": "stream",
     "text": [
      "Área não protegida e terreno estável. Construção permitida.\n"
     ]
    }
   ],
   "source": [
    "zona_protegida = False\n",
    "terreno_estavel = True\n",
    "\n",
    "if zona_protegida:\n",
    "    print('A área é uma zona protegida e não pode ser construída.')\n",
    "else:\n",
    "    if terreno_estavel:\n",
    "        print('Área não protegida e terreno estável. Construção permitida.')\n",
    "    else:\n",
    "        print('Área não protegida e terreno instável. Construção não recomendada.')"
   ]
  },
  {
   "cell_type": "markdown",
   "id": "fe336c6f",
   "metadata": {},
   "source": [
    "Neste exemplo, a primeira condição verifica se a área é uma zona protegida. Se não for, o código entra no bloco else e uma nova verificação condicional é feita para verificar a estabilidade do terreno.\n",
    "\n",
    "É possível aninhar várias condições desta forma, mas é importante ser cauteloso para que o código não se torne excessivamente complicado e difícil de seguir. Em muitos casos, combinar condições com operadores lógicos (como and, or) pode ser uma alternativa mais elegante.\n",
    "\n",
    "\n",
    "Cálculos com base em condições\n",
    "\n",
    "Vamos considerar um exemplo em que você deseja calcular a área de um terreno. No entanto, dependendo do tipo de terreno, você pode precisar fazer cálculos diferentes. Existem três geometrias possíveis para esse terreno: retangular, triangular e circular. O cálculo da área depende do tipo de geometria do terreno. \n",
    "\n",
    "Se o terreno for retangular, a área é definida por $Area = comprimento x largura$. Se o terreno for triangular, a área é calculada por $Area = (base x altura)/2$, e se o terreno for circular, $Area  = \\pi r^2$.\n",
    "\n",
    "\n",
    "Dadas as dimensões do terreno e a sua geometria, podemos usar estruturas condicionais para calcular a área:"
   ]
  },
  {
   "cell_type": "code",
   "execution_count": 208,
   "id": "841d4262",
   "metadata": {},
   "outputs": [],
   "source": [
    "tipo_terreno = 'triangular'\n",
    "base = 10\n",
    "altura = 5\n",
    "comprimento = 20\n",
    "largura = 15\n",
    "raio = 7\n",
    "pi = 3.14159"
   ]
  },
  {
   "cell_type": "code",
   "execution_count": 209,
   "id": "892274bc",
   "metadata": {},
   "outputs": [
    {
     "name": "stdout",
     "output_type": "stream",
     "text": [
      "A área do terreno triangular é 25.0 m².\n"
     ]
    }
   ],
   "source": [
    "if tipo_terreno == 'retangular':\n",
    "    area = comprimento * largura\n",
    "    print(f'A área do terreno retangular é {area} m².')\n",
    "\n",
    "elif tipo_terreno == 'triangular':\n",
    "    area = (base * altura) / 2\n",
    "    print(f'A área do terreno triangular é {area} m².')\n",
    "\n",
    "elif tipo_terreno == 'circular':\n",
    "    area = pi * (raio**2)\n",
    "    print(f'A área do terreno circular é {area} m².')\n",
    "\n",
    "else:\n",
    "    print('Tipo de terreno desconhecido.')"
   ]
  },
  {
   "cell_type": "markdown",
   "id": "1d18b350",
   "metadata": {},
   "source": [
    "Neste exemplo, as condições avaliam o tipo de geometria do terreno e executam o cálculo apropriado com base nesse tipo. A saída resultante fornece a área calculada de acordo com o tipo de terreno especificado.\n",
    "\n",
    "\n",
    "### 2.4.2 Estruturas de repetição (Loops)\n",
    "\n",
    "O fluxo padrão de um programa é sequencial. Cada instrução é executada, uma após a outra, de cima para baixo. No entanto, em muitos casos, é necessário executar um conjunto de instruções repetidamente, seja um número específico de vezes ou até que uma certa condição seja satisfeita. Isso é realizado por meio de estruturas de repetição, também conhecidas como \"loops\". Python oferece duas principais estruturas de loop: for e while.\n",
    "\n",
    "No contexto do geoprocessamento, os loops oferecem uma solução eficaz para gerenciar tarefas repetitivas, especialmente quando lidamos com extensos conjuntos de dados espaciais. Por exemplo, ao trabalhar com séries temporais de imagens de satélite, um loop pode automatizar e padronizar o processamento de cada imagem, economizando tempo e reduzindo possíveis erros manuais.\n",
    "\n",
    "Além disso, os loops são instrumentais ao se tratar de datasets geoespaciais. Eles proporcionam a capacidade de iterar sobre múltiplas geometrias, o que é essencial para realizar cálculos, análises e verificar conformidades em grandes volumes de dados. Em situações em que se tem um conjunto de pontos, linhas ou polígonos, um loop pode agilizar análises que seriam extenuantes se feitas manualmente.\n",
    "No contexto de modelagem e simulação, os loops também são de suma importância. Eles permitem a execução iterativa de modelos em diferentes cenários ou condições, facilitando análises preditivas e a otimização de soluções para problemas espaciais complexos.\n",
    "\n",
    "\n",
    "*Loop for*\n",
    "\n",
    "O loop for é uma das estruturas de repetição mais versáteis e frequentemente usadas em Python. Ele permite iterar sobre os itens de qualquer sequência (uma lista, uma string, uma tupla, um dicionário, um conjunto ou até mesmo um intervalo), e executar um bloco de código para cada item.\n",
    "A sintaxe básica do loop for é:\n",
    "\n",
    "```\n",
    "for variavel in sequencia:\n",
    "    # bloco de código para cada item da sequência\n",
    "```\n",
    "\n",
    "Onde \"variavel\" é uma variável temporária que assume o valor de cada item da sequência durante cada iteração do loop.\n",
    "\n",
    "Exemplos:\n",
    "\n",
    " Suponhamos que você tenha uma lista de cidades e queira imprimir cada cidade na lista."
   ]
  },
  {
   "cell_type": "code",
   "execution_count": 210,
   "id": "510f9c76",
   "metadata": {},
   "outputs": [
    {
     "name": "stdout",
     "output_type": "stream",
     "text": [
      "Natal\n",
      "Recife\n",
      "Fortaleza\n",
      "João Pessoa\n"
     ]
    }
   ],
   "source": [
    "cidades = ['Natal', 'Recife', 'Fortaleza', 'João Pessoa']\n",
    "for cidade in cidades:\n",
    "    print(cidade)"
   ]
  },
  {
   "cell_type": "markdown",
   "id": "143168f1",
   "metadata": {},
   "source": [
    "Inicialmente, criamos uma lista chamada cidades contendo quatro strings, que representam nomes de cidades.\n",
    "\n",
    "Utilizamos a estrutura de repetição for, que percorrerá cada elemento da lista cidades, um de cada vez. A cada iteração do loop, a variável cidade assume o valor do próximo elemento da lista. Por exemplo, na primeira iteração, cidade terá o valor 'Natal'; na segunda iteração, terá o valor 'Recife'; e assim por diante.\n",
    "\n",
    "Dentro do loop, para cada cidade da lista, a função print() é chamada para exibir o nome da cidade atualmente referenciada pela variável cidade. A saída será:\n",
    "\n",
    "\n",
    "Calcular a soma das áreas de diferentes polígonos que estão registradas em uma lista:"
   ]
  },
  {
   "cell_type": "code",
   "execution_count": 211,
   "id": "09cb3412",
   "metadata": {},
   "outputs": [
    {
     "name": "stdout",
     "output_type": "stream",
     "text": [
      "Área total: 1000\n"
     ]
    }
   ],
   "source": [
    "areas_poligonos = [100, 200, 150, 300, 250]\n",
    "total_area = 0\n",
    "for area in areas_poligonos:\n",
    "    total_area += area\n",
    "print('Área total:', total_area)"
   ]
  },
  {
   "cell_type": "markdown",
   "id": "79e79f9b",
   "metadata": {},
   "source": [
    "Inicialmente criamos uma lista chamada areas_poligonos que contém cinco números inteiros. Estes números representam, por exemplo, as áreas (em uma unidade hipotética, como metros quadrados) de cinco polígonos diferentes.\n",
    "\n",
    "Em seguida, uma variável chamada total_area é inicializada com o valor 0. Esta variável será usada para acumular a soma das áreas de todos os polígonos da lista.\n",
    "\n",
    "Uma estrutura de repetição for percorre cada elemento da lista areas_poligonos, um de cada vez. A cada iteração do loop, a variável area assume o valor do próximo elemento da lista.\n",
    "\n",
    "Durante cada iteração do loop, a área atual (valor da variável area) é somada ao valor acumulado em total_area. O operador “+=” é um atalho para total_area = total_area + area.\n",
    "\n",
    "Após o término do loop, a função print() é chamada para exibir a área total acumulada na variável total_area.\n",
    "\n",
    "O loop for também pode ser usado com a função range(), que é uma função incorporada em Python que gera uma sequência de números e frequentemente é usada em loops for para repetir uma determinada ação um número específico de vezes. Essa função é muito útil quando se deseja iterar sobre uma sequência de números, sem a necessidade de criar uma lista ou outro container para armazenar esses números.\n",
    "\n",
    "A função range() pode aceitar entre um a três argumentos:\n",
    "\n",
    "- Um único argumento: range(stop). \n",
    "\n",
    "Produz uma sequência de números de “0” a stop “- 1”."
   ]
  },
  {
   "cell_type": "code",
   "execution_count": 212,
   "id": "0e23a384",
   "metadata": {},
   "outputs": [
    {
     "name": "stdout",
     "output_type": "stream",
     "text": [
      "0\n",
      "1\n",
      "2\n",
      "3\n",
      "4\n"
     ]
    }
   ],
   "source": [
    "for i in range(5):\n",
    "    print(i)"
   ]
  },
  {
   "cell_type": "markdown",
   "id": "d3c2273d",
   "metadata": {},
   "source": [
    "- Dois argumentos: range(start, stop). Produz uma sequência de números de start a stop “- 1”."
   ]
  },
  {
   "cell_type": "code",
   "execution_count": 213,
   "id": "ae265215",
   "metadata": {},
   "outputs": [
    {
     "name": "stdout",
     "output_type": "stream",
     "text": [
      "2\n",
      "3\n",
      "4\n"
     ]
    }
   ],
   "source": [
    "for i in range(2, 5):\n",
    "    print(i)"
   ]
  },
  {
   "cell_type": "markdown",
   "id": "c9131651",
   "metadata": {},
   "source": [
    "- Três argumentos: range(start, stop, step). \n",
    "\n",
    "Produz uma sequência de números, começando em start, terminando antes de stop e incrementando em step."
   ]
  },
  {
   "cell_type": "code",
   "execution_count": 214,
   "id": "0b5e291a",
   "metadata": {},
   "outputs": [
    {
     "name": "stdout",
     "output_type": "stream",
     "text": [
      "0\n",
      "2\n",
      "4\n",
      "6\n",
      "8\n"
     ]
    }
   ],
   "source": [
    "for i in range(0, 10, 2):\n",
    "    print(i)"
   ]
  },
  {
   "cell_type": "markdown",
   "id": "662afe19",
   "metadata": {},
   "source": [
    "Outra função embutida em Python que permite iterar sobre os itens de uma sequência e, simultaneamente, ter acesso ao índice (ou posição) de cada item dentro dessa sequência é o enumerate(). É particularmente útil quando você quer não apenas o valor do item, mas também saber a sua posição.\n",
    "\n",
    "Vamos supor que você tenha uma lista de rios e queira imprimir cada rio junto com sua posição na lista:"
   ]
  },
  {
   "cell_type": "code",
   "execution_count": 215,
   "id": "12234382",
   "metadata": {},
   "outputs": [
    {
     "name": "stdout",
     "output_type": "stream",
     "text": [
      "Rio 1: Amazonas\n",
      "Rio 2: São Francisco\n",
      "Rio 3: Paraná\n",
      "Rio 4: Tocantins\n"
     ]
    }
   ],
   "source": [
    "rios = ['Amazonas', 'São Francisco', 'Paraná', 'Tocantins']\n",
    "for indice, rio in enumerate(rios):\n",
    "    print(f'Rio {indice + 1}: {rio}')"
   ]
  },
  {
   "cell_type": "markdown",
   "id": "98a30adc",
   "metadata": {},
   "source": [
    "No exemplo acima, para cada iteração do loop for, o enumerate() retorna uma tupla onde o primeiro valor é o índice e o segundo valor é o item da sequência. No contexto do geoprocessamento, isso pode ser útil, por exemplo, ao associar cada rio a um índice específico em uma base de dados ou ao lidar com matrizes de dados onde a posição do item é relevante.\n",
    "\n",
    "Esses são apenas alguns exemplos básicos. O real potencial do loop for é visto quando usado em combinação com outras estruturas de controle e operações mais complexas.\n",
    "\n",
    "\n",
    "*List comprehension*\n",
    "\n",
    "A list comprehension é uma forma concisa de usar um loop for para criar listas em Python. Em essência, ela é uma maneira de representar um loop for de uma forma mais compacta, especificamente quando o objetivo principal desse loop é gerar uma nova lista.\n",
    "\n",
    "A ideia da list comprehension é aplicar uma expressão a cada item em uma sequência (ou em múltiplas sequências) e retornar os resultados em uma nova lista.\n",
    "\n",
    "\n",
    "Sintaxe básica:\n",
    "``` nova_expressão for item in iteravel]```\n",
    "\n",
    "Vamos comparar o loop for tradicional a list comprehension:\n",
    "\n",
    "Usando um loop for tradicional:"
   ]
  },
  {
   "cell_type": "code",
   "execution_count": 216,
   "id": "85d4fd12",
   "metadata": {},
   "outputs": [],
   "source": [
    "numeros = [1, 2, 3, 4, 5]\n",
    "quadrados = []"
   ]
  },
  {
   "cell_type": "markdown",
   "id": "5df11711",
   "metadata": {},
   "source": [
    "Usando list comprehension:"
   ]
  },
  {
   "cell_type": "code",
   "execution_count": 217,
   "id": "c0994c22",
   "metadata": {},
   "outputs": [],
   "source": [
    "numeros = [1, 2, 3, 4, 5]\n",
    "quadrados = [n ** 2 for n in numeros]"
   ]
  },
  {
   "cell_type": "markdown",
   "id": "8e263206",
   "metadata": {},
   "source": [
    "Ambos os códigos produzem o mesmo resultado: uma lista dos quadrados dos números: ``` [1, 4, 9, 16, 25 ```. No entanto, a versão com list comprehension é mais concisa e muitas vezes é considerada mais Pythonic quando usada apropriadamente.\n",
    "\n",
    "É válido ressaltar que list comprehensions também podem incorporar condições. Por exemplo, se quiséssemos apenas os quadrados dos números ímpares:"
   ]
  },
  {
   "cell_type": "code",
   "execution_count": 218,
   "id": "c7d5b4c8",
   "metadata": {},
   "outputs": [],
   "source": [
    "quadrados_impares = [n ** 2 for n in numeros if n % 2 != 0]"
   ]
  },
  {
   "cell_type": "markdown",
   "id": "1ac02c8d",
   "metadata": {},
   "source": [
    "Em resumo, a aplicação de list comprehension torna o código mais conciso e legível (quando não são excessivamente complexas). Além disso, frequentemente são mais rápidas do que o loop for tradicional ao criar listas, devido a otimizações internas. No entanto, é importante não sacrificar a legibilidade. Se uma list comprehension se tornar muito complicada ou difícil de entender, pode ser melhor optar por uma abordagem mais tradicional usando loops.\n",
    "\n",
    "\n",
    "*Dictionary comprehension*\n",
    "\n",
    "Assim como a list comprehension, o dictionary comprehension também se baseia em um loop for interno, mas, ao invés de gerar listas, ela é utilizada para criar dicionários de forma concisa. Enquanto a list comprehension retorna uma lista, o dictionary comprehension retorna um dicionário.\n",
    "\n",
    "Sintaxe Básica:\n",
    "\n",
    "``` {chave: valor for item in iterável} ```\n",
    "\n",
    "Suponha que você queira criar um dicionário que associe um número à sua potência quadrada para números de 1 a 5. Vamos comparar o loop for tradicional ao dictionary comprehension:\n",
    "\n",
    "\n",
    "- Usando um loop for tradicional"
   ]
  },
  {
   "cell_type": "code",
   "execution_count": 219,
   "id": "2c230e1b",
   "metadata": {},
   "outputs": [
    {
     "name": "stdout",
     "output_type": "stream",
     "text": [
      "{1: 1, 2: 4, 3: 9, 4: 16, 5: 25}\n"
     ]
    }
   ],
   "source": [
    "quadrados = {}  \n",
    "for x in range(1, 6):\n",
    "    quadrados[x] = x ** 2\n",
    "print(quadrados)"
   ]
  },
  {
   "cell_type": "markdown",
   "id": "34004345",
   "metadata": {},
   "source": [
    "- Usando dictionary comprehension"
   ]
  },
  {
   "cell_type": "code",
   "execution_count": 220,
   "id": "4bb8786d",
   "metadata": {},
   "outputs": [],
   "source": [
    "quadrados = {x: x ** 2 for x in range(1, 6)}"
   ]
  },
  {
   "cell_type": "markdown",
   "id": "3eae4175",
   "metadata": {},
   "source": [
    "Assim como na list comprehension, você também pode incluir condições no dictionary comprehension. Por exemplo, se você quisesse os quadrados apenas dos números ímpares de 1 a 5:"
   ]
  },
  {
   "cell_type": "code",
   "execution_count": 221,
   "id": "5cce26e1",
   "metadata": {},
   "outputs": [],
   "source": [
    "quadrados_impares = {x: x ** 2 for x in range(1, 6) if x % 2 != 0}"
   ]
  },
  {
   "cell_type": "markdown",
   "id": "f35ce042",
   "metadata": {},
   "source": [
    "Cabe ressaltar que é fundamental garantir que o código permaneça legível. Se uma dictionary comprehension se tornar muito complexa, pode ser preferível usar uma abordagem mais tradicional.\n",
    "\n",
    "\n",
    "*Loop While*\n",
    "\n",
    "O loop while é uma estrutura de repetição que permite executar um bloco de código enquanto uma condição específica for verdadeira. A lógica é: enquanto a condição estabelecida se mantiver True, o bloco de código dentro do while continuará sendo executado. É crucial garantir que, em algum momento, essa condição se torne False, caso contrário, o loop continuará infinitamente, resultando em um loop infinito.\n",
    "\n",
    "A estrutura básica do loop while é relativamente simples. Ela começa com a palavra-chave while seguida de uma condição (expressão booleana) e um bloco de código que será repetido enquanto a condição for verdadeira (True). A estrutura básica é:\n",
    "\n",
    "```\n",
    "while condição:\n",
    "    # bloco de código a ser executado enquanto a condição for verdadeira\n",
    "```\n",
    "\n",
    "É importante garantir que a condição do while eventualmente se torne False, caso contrário, o código entrará em um loop infinito. Suponha que queremos imprimir os números de 1 a 5:"
   ]
  },
  {
   "cell_type": "code",
   "execution_count": 222,
   "id": "5b02d85b",
   "metadata": {},
   "outputs": [],
   "source": [
    "contador = 1"
   ]
  },
  {
   "cell_type": "code",
   "execution_count": 223,
   "id": "97fd0635",
   "metadata": {},
   "outputs": [
    {
     "name": "stdout",
     "output_type": "stream",
     "text": [
      "1\n",
      "2\n",
      "3\n",
      "4\n",
      "5\n"
     ]
    }
   ],
   "source": [
    "while contador <= 5:\n",
    "    print(contador)\n",
    "    contador += 1"
   ]
  },
  {
   "cell_type": "markdown",
   "id": "8c0c60a8",
   "metadata": {},
   "source": [
    "Neste exemplo, inicializamos o contador com o valor 1. O loop while verifica se o contador é menor ou igual a 5. Se for verdadeiro, ele entra no bloco de código, imprime o valor do contador e depois aumenta o contador em 1. Esse processo é repetido até que o contador exceda 5, momento em que a condição do while se torna False, e o loop é interrompido.\n",
    "\n",
    "Imagine agora que você esteja trabalhando com um sensor que coleta dados de temperatura do solo a cada minuto e que deseja parar a coleta quando a temperatura exceder um certo limite."
   ]
  },
  {
   "cell_type": "code",
   "execution_count": 224,
   "id": "4cc2d4f2",
   "metadata": {},
   "outputs": [],
   "source": [
    "temperatura_solo = 25  # valor inicial\n",
    "limite_temperatura = 35"
   ]
  },
  {
   "cell_type": "code",
   "execution_count": 225,
   "id": "3b87c19a",
   "metadata": {},
   "outputs": [
    {
     "name": "stdout",
     "output_type": "stream",
     "text": [
      "Coletando dados... Temperatura atual: 26°C\n",
      "Coletando dados... Temperatura atual: 27°C\n",
      "Coletando dados... Temperatura atual: 28°C\n",
      "Coletando dados... Temperatura atual: 29°C\n",
      "Coletando dados... Temperatura atual: 30°C\n",
      "Coletando dados... Temperatura atual: 31°C\n",
      "Coletando dados... Temperatura atual: 32°C\n",
      "Coletando dados... Temperatura atual: 33°C\n",
      "Coletando dados... Temperatura atual: 34°C\n",
      "Coletando dados... Temperatura atual: 35°C\n",
      "Limite de temperatura atingido! Parando a coleta de dados.\n"
     ]
    }
   ],
   "source": [
    "while temperatura_solo < limite_temperatura:\n",
    "# Suponha que a cada iteração, a temperatura do solo aumente em 1°C.\n",
    "    temperatura_solo += 1\n",
    "    print(f'Coletando dados... Temperatura atual: {temperatura_solo}°C')\n",
    "\n",
    "print('Limite de temperatura atingido! Parando a coleta de dados.')"
   ]
  },
  {
   "cell_type": "markdown",
   "id": "d87824fe",
   "metadata": {},
   "source": [
    "Neste exemplo, o loop while continuará coletando dados até que temperatura_solo alcance ou exceda 35°C. Após isso, ele sairá do loop e imprimirá a mensagem final.\n",
    "\n",
    "\n",
    "*Controle de loop com breake e continue*\n",
    "\n",
    "Os comandos break e continue são ferramentas poderosas em Python, oferecendo controle adicional sobre como os loops são executados.\n",
    "\n",
    "- Break:\n",
    "\n",
    "O comando break é usado para sair completamente de um loop, encerrando sua execução. É geralmente utilizado em situações em que uma condição externa à condição principal do loop é satisfeita ou quando se deseja sair do loop antes que ele complete sua execução natural.\n",
    "\n",
    "Imaginemos um cenário de geoprocessamento onde temos uma lista de coordenadas, e queremos parar de processar quando encontrarmos uma coordenada específica."
   ]
  },
  {
   "cell_type": "code",
   "execution_count": 226,
   "id": "16f12911",
   "metadata": {},
   "outputs": [
    {
     "name": "stdout",
     "output_type": "stream",
     "text": [
      "Processando a coordenada: (4, 5)\n",
      "Processando a coordenada: (7, 8)\n",
      "Processando a coordenada: (10, 12)\n",
      "Coordenada alvo encontrada!\n"
     ]
    }
   ],
   "source": [
    "coordenadas = [(4, 5), (7, 8), (10, 12), (15, 15), (20, 25)]\n",
    "\n",
    "for coord in coordenadas:\n",
    "    if coord == (15, 15):\n",
    "        print('Coordenada alvo encontrada!')\n",
    "        break\n",
    "    print('Processando a coordenada:', coord)"
   ]
  },
  {
   "cell_type": "markdown",
   "id": "c95f6506",
   "metadata": {},
   "source": [
    "- Continue:\n",
    "\n",
    "O comando continue é utilizado para pular a iteração atual e continuar com a próxima iteração do loop. É útil em situações em que, sob certas condições, queremos evitar a execução de uma parte do loop e continuar com a próxima iteração.\n",
    "\n",
    "Considere um cenário em que estamos processando dados de altitude e queremos ignorar os valores negativos, pois podem ser erros nos dados."
   ]
  },
  {
   "cell_type": "code",
   "execution_count": 227,
   "id": "b63cc236",
   "metadata": {},
   "outputs": [],
   "source": [
    "altitudes = [345, 432, -1, 540, -2, 600]"
   ]
  },
  {
   "cell_type": "code",
   "execution_count": 228,
   "id": "4d8f124a",
   "metadata": {},
   "outputs": [
    {
     "name": "stdout",
     "output_type": "stream",
     "text": [
      "Processando altitude: 345\n",
      "Processando altitude: 432\n",
      "Altitude inválida encontrada. Continuando...\n",
      "Processando altitude: 540\n",
      "Altitude inválida encontrada. Continuando...\n",
      "Processando altitude: 600\n"
     ]
    }
   ],
   "source": [
    "for registro in altitudes:\n",
    "    if registro < 0:\n",
    "        print('Altitude inválida encontrada. Continuando...')\n",
    "        continue\n",
    "    print('Processando altitude:', registro)"
   ]
  },
  {
   "cell_type": "markdown",
   "id": "e6b1c991",
   "metadata": {},
   "source": [
    "Neste exemplo, o loop for irá ignorar os valores negativos e não executará o comando print(\"Processando altitude:\", registro) para esses valores, mas continuará processando os próximos valores na lista.\n",
    "\n",
    "Ambos, break e continue, são úteis para gerenciar a execução dos loops com mais precisão e são amplamente utilizados em diversos cenários de programação.\n",
    "\n",
    "\n",
    "\n",
    "*Aninhamento de loops*\n",
    "\n",
    "O aninhamento de loops ocorre quando um loop é colocado dentro de outro loop. Isso é útil em várias situações, especialmente quando se trabalha com estruturas de dados multidimensionais, como listas de listas ou matrizes. No aninhamento, cada vez que o loop externo é executado, o loop interno será executado em sua totalidade.\n",
    "\n",
    "Considere o cenário em geoprocessamento onde você quer avaliar todos os pontos de uma matriz de elevações para identificar aqueles que estão acima de um certo nível. Imagine uma matriz simplificada de altitudes. Para processar cada ponto desta matriz, você usaria um loop aninhado:"
   ]
  },
  {
   "cell_type": "code",
   "execution_count": 229,
   "id": "b5e294c5",
   "metadata": {},
   "outputs": [
    {
     "name": "stdout",
     "output_type": "stream",
     "text": [
      "Ponto 30 está acima do nível desejado.\n",
      "Ponto 35 está acima do nível desejado.\n",
      "Ponto 40 está acima do nível desejado.\n",
      "Ponto 45 está acima do nível desejado.\n"
     ]
    }
   ],
   "source": [
    "altitudes = [[5, 10, 15], [20, 25, 30], [35, 40, 45]]\n",
    "\n",
    "for linha in altitudes:\n",
    "    for ponto in linha:\n",
    "        if ponto > 25:\n",
    "            print(f'Ponto {ponto} está acima do nível desejado.')"
   ]
  },
  {
   "cell_type": "markdown",
   "id": "b5c77bf4",
   "metadata": {},
   "source": [
    "Neste exemplo, o loop externo percorre cada linha da matriz, e o loop interno percorre cada ponto dentro de uma linha específica. A combinação dos dois loops permite que você processe cada ponto individual da matriz.\n",
    "\n",
    "\n",
    "O aninhamento de loops é uma ferramenta poderosa, mas é importante estar ciente de que pode aumentar significativamente o tempo de processamento, especialmente se as estruturas de dados forem grandes. A complexidade computacional de loops aninhados é frequentemente um produto das iterações de cada loop, tornando-se potencialmente ineficiente para grandes conjuntos de dados se não for manejado corretamente.\n",
    "\n",
    "\n",
    "# 2.5 Funções\n",
    "\n",
    "Em programação, uma função é um bloco de código organizado e reutilizável que realiza uma única ação relacionada. As funções fornecem uma maneira de modularizar seu código, tornando-o mais eficiente, legível e reutilizável. Além disso, elas permitem definir interfaces de código que podem ser usadas de forma consistente.\n",
    "\n",
    "No contexto do geoprocessamento, que envolve a coleta, armazenamento e análise de dados geoespaciais, a modularização do código através de funções não só permite eficiência e clareza, mas também facilita a reutilização do código em diferentes projetos. Desta maneira, assegura consistência em tarefas frequentemente repetidas, como interpolação de dados e transformação de sistemas de coordenadas. Por outro lado, o uso de funções ajuda a abstrair a complexidade dos algoritmos, tornando o código mais legível. Isso é essencial, especialmente quando se trabalha em colaboração, pois funções bem definidas podem ser compartilhadas, promovendo consistência e economia de tempo. Ao adotar funções em geoprocessamento, os profissionais garantem não apenas a organização, mas também a robustez e eficiência do seu trabalho.\n",
    "\n",
    "\n",
    "*Definição da Função*\n",
    "\n",
    "Em Python, uma função é definida usando a palavra-chave def, seguida pelo nome da função, parênteses e dois pontos. O código da função começa após os dois pontos e é indentado."
   ]
  },
  {
   "cell_type": "code",
   "execution_count": 230,
   "id": "f3ab8f25",
   "metadata": {},
   "outputs": [
    {
     "data": {
      "text/plain": [
       "'\\ndef nome_da_funcao():\\n    # corpo da função\\n    '"
      ]
     },
     "execution_count": 230,
     "metadata": {},
     "output_type": "execute_result"
    }
   ],
   "source": [
    "'''\n",
    "def nome_da_funcao():\n",
    "    # corpo da função\n",
    "    '''"
   ]
  },
  {
   "cell_type": "markdown",
   "id": "5486a376",
   "metadata": {},
   "source": [
    "*Parâmetros e Argumentos*\n",
    "\n",
    "As funções podem receber dados, conhecidos como parâmetros, entre seus parênteses."
   ]
  },
  {
   "cell_type": "code",
   "execution_count": 231,
   "id": "741c3201",
   "metadata": {},
   "outputs": [],
   "source": [
    "def saudacao(nome):\n",
    "    print(f'Olá, {nome}!')"
   ]
  },
  {
   "cell_type": "markdown",
   "id": "b99618b8",
   "metadata": {},
   "source": [
    "Ao chamar a função, você passa dados para ela, conhecidos como argumentos:"
   ]
  },
  {
   "cell_type": "code",
   "execution_count": 232,
   "id": "4a7ee281",
   "metadata": {},
   "outputs": [
    {
     "name": "stdout",
     "output_type": "stream",
     "text": [
      "Olá, Julia!\n"
     ]
    }
   ],
   "source": [
    "saudacao('Julia')"
   ]
  },
  {
   "cell_type": "markdown",
   "id": "b31b6f81",
   "metadata": {},
   "source": [
    "*Valor de Retorno*\n",
    "\n",
    "Uma função pode processar dados e retornar um valor usando a palavra-chave return:"
   ]
  },
  {
   "cell_type": "code",
   "execution_count": 233,
   "id": "653e2423",
   "metadata": {},
   "outputs": [
    {
     "data": {
      "text/plain": [
       "'\\ndef soma(a, b):\\n    return a + b\\n    '"
      ]
     },
     "execution_count": 233,
     "metadata": {},
     "output_type": "execute_result"
    }
   ],
   "source": [
    "'''\n",
    "def soma(a, b):\n",
    "    return a + b\n",
    "    '''"
   ]
  },
  {
   "cell_type": "markdown",
   "id": "5a58cd50",
   "metadata": {},
   "source": [
    "Se uma função não possui um return, ela retorna None por padrão.\n",
    "\n",
    "*Funções Anônimas (Lambda)*\n",
    "\n",
    "Python suporta a criação de funções anônimas (isto é, funções que não têm nome) usando a palavra-chave lambda. Elas são úteis quando você precisa de uma função pequena por um curto período e não quer formalmente defini-la usando def."
   ]
  },
  {
   "cell_type": "code",
   "execution_count": 234,
   "id": "9fb98510",
   "metadata": {},
   "outputs": [
    {
     "name": "stdout",
     "output_type": "stream",
     "text": [
      "25\n"
     ]
    }
   ],
   "source": [
    "quadrado = lambda x: x ** 2\n",
    "print(quadrado(5))"
   ]
  },
  {
   "cell_type": "markdown",
   "id": "d976d682",
   "metadata": {},
   "source": [
    "*Funções Como Objetos*\n",
    "\n",
    "Em Python, tudo é um objeto, incluindo funções. No geoprocessamento, as funções são frequentemente usadas para realizar operações específicas em dados geoespaciais, como calcular distâncias, transformar projeções ou processar dados matriciais. Usando o conceito de funções como objetos, podemos criar uma abordagem modular para realizar diferentes operações de geoprocessamento. Vamos ilustrar isso com um exemplo.\n",
    "\n",
    "Imagine que temos duas funções, uma que calcula a área de um polígono e outra que calcula o perímetro."
   ]
  },
  {
   "cell_type": "code",
   "execution_count": 235,
   "id": "8fc7d55a",
   "metadata": {},
   "outputs": [],
   "source": [
    "def calcular_area(poligono):\n",
    "    # Suponha que esta função compute a área de um polígono\n",
    "    # Neste exemplo, vamos simplificar e retornar um valor fixo\n",
    "    return 100.0"
   ]
  },
  {
   "cell_type": "code",
   "execution_count": 236,
   "id": "af0061e6",
   "metadata": {},
   "outputs": [],
   "source": [
    "def calcular_perimetro(poligono):\n",
    "    # Suponha que esta função compute o perímetro de um polígono\n",
    "    # Novamente, vamos simplificar e retornar um valor fixo\n",
    "    return 40.0"
   ]
  },
  {
   "cell_type": "markdown",
   "id": "edbd4f40",
   "metadata": {},
   "source": [
    "Agora, vamos criar uma função que recebe outra função como argumento e aplica essa função a um conjunto de polígonos:"
   ]
  },
  {
   "cell_type": "code",
   "execution_count": 237,
   "id": "58515693",
   "metadata": {},
   "outputs": [],
   "source": [
    "def processar_geometrias(geometrias, operacao):\n",
    "    resultados = []\n",
    "    for geometria in geometrias:\n",
    "        resultados.append(operacao(geometria))\n",
    "    return resultados"
   ]
  },
  {
   "cell_type": "markdown",
   "id": "0d396710",
   "metadata": {},
   "source": [
    "Podemos usar esta função processar_geometrias para calcular a área ou o perímetro de uma lista de polígonos:"
   ]
  },
  {
   "cell_type": "code",
   "execution_count": 238,
   "id": "074dc1f9",
   "metadata": {},
   "outputs": [],
   "source": [
    "poligonos = ['poligono1', 'poligono2', 'poligono3']  \n",
    "# Esta é uma simplificação. Em uma aplicação real, teríamos objetos polígono."
   ]
  },
  {
   "cell_type": "code",
   "execution_count": 239,
   "id": "5127551f",
   "metadata": {},
   "outputs": [
    {
     "name": "stdout",
     "output_type": "stream",
     "text": [
      "[100.0, 100.0, 100.0]\n"
     ]
    }
   ],
   "source": [
    "areas = processar_geometrias(poligonos, calcular_area)\n",
    "print(areas)  # Saída: [100.0, 100.0, 100.0]"
   ]
  },
  {
   "cell_type": "code",
   "execution_count": 240,
   "id": "7df01678",
   "metadata": {},
   "outputs": [
    {
     "name": "stdout",
     "output_type": "stream",
     "text": [
      "[40.0, 40.0, 40.0]\n"
     ]
    }
   ],
   "source": [
    "perimetros = processar_geometrias(poligonos, calcular_perimetro)\n",
    "print(perimetros)  # Saída: [40.0, 40.0, 40.0]"
   ]
  },
  {
   "cell_type": "markdown",
   "id": "16a41fe0",
   "metadata": {},
   "source": [
    "Este exemplo ilustra a flexibilidade e o poder de tratar funções como objetos em Python, permitindo que criemos abordagens modulares para realizar diversas operações em dados geoespaciais. Ao mesmo tempo, evitamos a repetição de código e mantemos nosso código mais organizado e legível.\n",
    "\n",
    "\n",
    "*Funções com Número Variável de Argumentos*\n",
    "\n",
    "Em alguns casos, pode ser necessário definir uma função capaz de aceitar qualquer número de argumentos. Em Python, *args e **kwargs são convenções utilizadas para permitir que funções aceitem um número variável de argumentos. O termo *args refere-se a argumentos posicionais que são coletados em uma tupla, permitindo que você passe qualquer número de argumentos posicionais para a função. Por outro lado, **kwargs refere-se a argumentos nomeados que são coletados em um dicionário, possibilitando a inclusão de múltiplos argumentos com nomes específicos. Juntos, esses mecanismos oferecem grande flexibilidade, permitindo a criação de funções mais genéricas e adaptáveis a diferentes necessidades."
   ]
  },
  {
   "cell_type": "code",
   "execution_count": 241,
   "id": "be5e4ad6",
   "metadata": {},
   "outputs": [],
   "source": [
    "def varios_args(*args, **kwargs):\n",
    "    print(args)    # Tupla dos argumentos posicionais\n",
    "    print(kwargs)  # Dicionário dos argumentos nomeados"
   ]
  },
  {
   "cell_type": "markdown",
   "id": "882569b3",
   "metadata": {},
   "source": [
    "Este é um exemplo que demonstra como uma função em Python pode aceitar um número arbitrário de argumentos, tanto posicionais quanto nomeados. Inicialmente, a função varios_args é definida para aceitar um número variável de argumentos. Na sequência:\n",
    "\n",
    "- ```*args: ``` Coleta os argumentos posicionais passados para a função em uma tupla. O nome args é uma convenção, e o importante aqui é o prefixo (*).\n",
    "\n",
    "- ```**kwargs: ``` Coleta os argumentos nomeados (ou argumentos-chave) passados para a função em um dicionário. kwargs é abreviação de keyword arguments, e o importante é o prefixo **.\n",
    "\n",
    "Dentro da função, simplesmente imprimimos os argumentos posicionais e nomeados coletados.\n",
    "\n",
    "Considere o exemplo:"
   ]
  },
  {
   "cell_type": "code",
   "execution_count": 242,
   "id": "5a521053",
   "metadata": {},
   "outputs": [
    {
     "name": "stdout",
     "output_type": "stream",
     "text": [
      "(1, 2, 3)\n",
      "{'a': 4, 'b': 5}\n"
     ]
    }
   ],
   "source": [
    "varios_args(1, 2, 3, a=4, b=5)\n",
    "# Saída:"
   ]
  },
  {
   "cell_type": "markdown",
   "id": "6f54591c",
   "metadata": {},
   "source": [
    "Ao chamar a função, passamos três argumentos posicionais (1, 2 e 3) e dois argumentos nomeados (a=4 e b=5). Como esperado, args coletou os argumentos posicionais em uma tupla, e kwargs coletou os argumentos nomeados em um dicionário.\n",
    "\n",
    "\n",
    "## 2.6 Manipulação de arquivos de texto e .CSV\n",
    "\n",
    "A manipulação de arquivos é uma tarefa comum em programação. Ela permite que você leia, escreva, crie ou delete arquivos a partir do seu programa. A maioria das linguagens de programação oferece bibliotecas ou módulos nativos para facilitar essas operações.\n",
    "\n",
    "*Abrindo um arquivo*\n",
    "\n",
    "Antes de ler ou escrever em um arquivo, você precisa abri-lo. Durante a abertura, você especifica o modo de abertura, que determina se você está lendo, escrevendo, anexando, etc.\n",
    "\n",
    "Os modos de abertura comumente utilizados são:\n",
    "\n",
    "- Leitura (r): Abre um arquivo para leitura. Se o arquivo não existir, retorna um erro.\n",
    "\n",
    "- Escrita (w): Abre um arquivo para escrita. Cria um novo arquivo se ele não existir ou sobrescreve um arquivo existente.\n",
    "\n",
    "- Anexar (a): Abre um arquivo para anexar dados. Cria um novo arquivo se ele não existir ou move o ponteiro para o final de um arquivo existente para adicionar novos dados.\n",
    "\n",
    "- Leitura e escrita (r+): Abre um arquivo tanto para leitura quanto para escrita.\n",
    "\n",
    "Exemplo:"
   ]
  },
  {
   "cell_type": "code",
   "execution_count": 243,
   "id": "81925de4",
   "metadata": {},
   "outputs": [],
   "source": [
    "# file1 = open('/home/alexandro/geopythonbook/content/exemplo.txt', 'r')"
   ]
  },
  {
   "cell_type": "markdown",
   "id": "16336204",
   "metadata": {},
   "source": [
    "Nesse caso, não abrirá o arquivo, pois ele não existe. Vamos rodar o código abaixo, que criará o arquivo."
   ]
  },
  {
   "cell_type": "code",
   "execution_count": 244,
   "id": "8766057f",
   "metadata": {},
   "outputs": [],
   "source": [
    "with open('/home/alexandro/geopythonbook/content/exemplo.txt', 'w') as file:\n",
    "    pass"
   ]
  },
  {
   "cell_type": "markdown",
   "id": "c6f3ba57",
   "metadata": {},
   "source": [
    "O argumento 'w' especifica o modo em que o arquivo será aberto. O modo 'w' significa \"escrever\". Se o arquivo já existir, seu conteúdo será sobrescrito. Se o arquivo não existir, ele será criado.\n",
    "\n",
    "as file: Este é um alias para o arquivo aberto. Isso significa que, dentro do bloco with, você pode se referir ao arquivo aberto usando a variável file.\n",
    "\n",
    "pass: A palavra-chave pass em Python é uma operação nula — nada acontece quando é executada. É usada como um espaço reservado quando uma declaração é requerida sintaticamente, mas você não quer executar nenhum comando ou código.\n",
    "\n",
    "\n",
    "*Escrevendo em um arquivo*\n",
    "\n",
    "Se você abrir um arquivo em modo de escrita ou anexação, pode escrever dados nele."
   ]
  },
  {
   "cell_type": "code",
   "execution_count": 245,
   "id": "8f4090c5",
   "metadata": {},
   "outputs": [],
   "source": [
    "import os\n",
    "home_dir = os.path.expanduser(\"~\")\n",
    "file_path = os.path.join(home_dir, 'geopythonbook/content/exemplo.txt')\n",
    "\n",
    "with open(file_path, 'w') as file:\n",
    "    file.write('Olá, Mundo!')\n"
   ]
  },
  {
   "cell_type": "markdown",
   "id": "f0a900b7",
   "metadata": {},
   "source": [
    "*Lendo um arquivo*\n",
    "\n",
    "Depois de abrir ou criar um arquivo em modo de leitura, você pode ler seu conteúdo."
   ]
  },
  {
   "cell_type": "code",
   "execution_count": 246,
   "id": "4d8aa61e",
   "metadata": {},
   "outputs": [
    {
     "name": "stdout",
     "output_type": "stream",
     "text": [
      "Olá, Mundo!\n"
     ]
    }
   ],
   "source": [
    "with open(file_path, 'r') as file:\n",
    "    conteudo = file.read()\n",
    "    print(conteudo)"
   ]
  },
  {
   "cell_type": "markdown",
   "id": "e66d103d",
   "metadata": {},
   "source": [
    "*Fechando um arquivo*\n",
    "\n",
    "Após a leitura, escrita ou ambas, é essencial fechar o arquivo."
   ]
  },
  {
   "cell_type": "code",
   "execution_count": 247,
   "id": "b938d0c3",
   "metadata": {},
   "outputs": [],
   "source": [
    "file2 = open(file_path, 'r')\n",
    "file2.close()\n"
   ]
  },
  {
   "cell_type": "markdown",
   "id": "8878155e",
   "metadata": {},
   "source": [
    "## 2.7 Módulos e pacotes\n",
    "\n",
    "No contexto de geoprocessamento, a organização e reutilização de código são essenciais. Módulos e pacotes em Python desempenham um papel vital em garantir que o código seja estruturado, reutilizável e fácil de manter.\n",
    "\n",
    "No contexto do geoprocessamento, em que a complexidade das tarefas e a precisão dos dados são cruciais, a estruturação do código desempenha um papel fundamental. A implementação estratégica de módulos e pacotes introduz uma organização meticulosa ao código, tornando-o mais intuitivo e acessível. Esta organização não só segmenta diferentes funções e classes de maneira clara, mas também simplifica a navegação e a compreensão das operações codificadas.\n",
    "\n",
    "Além da organização, módulos e pacotes são importantes no que diz respeito à reutilização e manutenção do código. Uma das maiores vantagens é a capacidade de reutilizar funções, especialmente aquelas destinadas à manipulação de dados geoespaciais, em múltiplos projetos, eliminando a redundância e economizando tempo. Esta modularidade também se traduz em manutenção mais eficaz. Corrigir erros ou atualizar características em módulos específicos se torna uma tarefa direta, minimizando o risco de perturbar outras seções do código, garantindo assim soluções de geoprocessamento mais robustas e confiáveis.\n",
    "\n",
    "\n",
    "### 2.7.1 Módulos\n",
    "\n",
    "Um módulo em Python é simplesmente um arquivo contendo definições e instruções Python. O nome do arquivo é o nome do módulo acrescido do sufixo .py. Módulos são usados para organizar as funcionalidades em unidades lógicas, ajudando a manter o código mais organizado e facilitando a reutilização de código.\n",
    "\n",
    "\n",
    "*Importação de Módulos*\n",
    "\n",
    "Você pode acessar as funcionalidades de um módulo importando-o em seu script ou console interativo Python. A palavra-chave import é usada para fazer isso. Por exemplo:"
   ]
  },
  {
   "cell_type": "code",
   "execution_count": 248,
   "id": "48618a9d",
   "metadata": {},
   "outputs": [
    {
     "name": "stdout",
     "output_type": "stream",
     "text": [
      "4.0\n"
     ]
    }
   ],
   "source": [
    "import math\n",
    "print(math.sqrt(16))  "
   ]
  },
  {
   "cell_type": "markdown",
   "id": "5b5929b2",
   "metadata": {},
   "source": [
    "- Importação Parcial:\n",
    "\n",
    "Se você quiser importar apenas partes específicas de um módulo, pode usar a palavra-chave from juntamente com import:"
   ]
  },
  {
   "cell_type": "code",
   "execution_count": 249,
   "id": "ce2e4c9f",
   "metadata": {},
   "outputs": [
    {
     "name": "stdout",
     "output_type": "stream",
     "text": [
      "4.0\n"
     ]
    }
   ],
   "source": [
    "from math import sqrt\n",
    "print(sqrt(16))  "
   ]
  },
  {
   "cell_type": "markdown",
   "id": "28a38842",
   "metadata": {},
   "source": [
    "- Alias:\n",
    "\n",
    "Para evitar conflitos de nome ou simplesmente para criar um atalho, você pode dar um \"apelido\" (alias) ao módulo ou à função que está importando:"
   ]
  },
  {
   "cell_type": "code",
   "execution_count": 250,
   "id": "762c317e",
   "metadata": {},
   "outputs": [
    {
     "name": "stdout",
     "output_type": "stream",
     "text": [
      "4.0\n"
     ]
    }
   ],
   "source": [
    "import math as m\n",
    "print(m.sqrt(16))  "
   ]
  },
  {
   "cell_type": "markdown",
   "id": "aa245df0",
   "metadata": {},
   "source": [
    "*Módulos Personalizados*\n",
    "\n",
    "Além dos módulos da biblioteca padrão (como math, os, sys, etc.), você pode criar seus próprios módulos. \n",
    "\n",
    "\n",
    "*Atributos do Módulo*\n",
    "\n",
    "Os módulos também têm certos atributos embutidos, que podem ser úteis para diferentes propósitos. Por exemplo, o atributo __name__ pode ajudar a determinar se um módulo está sendo executado como um script principal ou se foi importado como um módulo em outro script.\n",
    "\n",
    "\n",
    "\n",
    "### 2.7.2 Pacotes\n",
    "\n",
    "Um pacote em Python é simplesmente uma maneira de organizar módulos relacionados em um único diretório. Esse diretório contém um arquivo especial chamado __init__.py (que pode estar vazio ou conter código de inicialização para o pacote) e pode também conter subdiretórios, que representam subpacotes.\n",
    "\n",
    "A ideia principal por trás dos pacotes é proporcionar um espaço de nomes separado, o que permite organizar e encapsular múltiplos módulos de maneira lógica e hierárquica. Esta organização é especialmente útil em projetos maiores ou quando se deseja distribuir um conjunto de funcionalidades relacionadas.\n",
    "\n",
    "\n",
    "*Estrutura de um Pacote*\n",
    "\n",
    "Imagine que temos um pacote chamado geoprocessamento que contém dois módulos: analise.py e visualizacao.py. A estrutura seria algo assim:\n",
    "```\n",
    "geoprocessamento/\n",
    "\n",
    "|-- __init__.py\n",
    "\n",
    "|-- analise.py\n",
    "\n",
    "|-- visualizacao.py\n",
    "```\n",
    "\n",
    "\n",
    "*Importando de um Pacote*\n",
    "\n",
    "Para importar um módulo específico de um pacote, você pode usar a seguinte sintaxe:\n",
    "\n",
    "``` from geoprocessamento import analise ```\n",
    "\n",
    "Ou, se quiser acessar uma função ou classe específica dentro desse módulo:\n",
    "\n",
    "``` from geoprocessamento.analise import funcao_especifica ```\n",
    "\n",
    "*Arquivo __init__.py*\n",
    "\n",
    "O arquivo __init__.py é o que distingue um diretório comum de um pacote em Python. Ele é executado sempre que o pacote é importado e pode conter qualquer código Python válido. Pode ser usado para inicializar variáveis do pacote, importar submódulos, verificar dependências, entre outras coisas. Se estiver vazio, serve apenas para indicar que o diretório deve ser considerado um pacote ou subpacote.\n",
    "\n",
    "\n",
    "\n",
    "## 2.8 O módulo Datetime\n",
    "\n",
    "Datetime é um módulo em Python que fornece classes para manipular datas e horários. Ele não é um tipo de dado básico como int, float, ou str, mas sim um módulo que contém vários tipos de dados para tratar questões relacionadas a datas, horários, intervalos de tempo, entre outros.\n",
    "\n",
    "O módulo datetime é extremamente útil quando precisamos lidar com operações de datas e horários em Python, sejam elas simples, como pegar a data atual, ou mais complexas, como calcular a diferença entre duas datas ou considerar fusos horários.\n",
    "\n",
    "Os principais tipos de dados e classes do módulo datetime são:\n",
    "\n",
    "- datetime.date: Uma classe para trabalhar com datas (ano, mês e dia);\n",
    "\n",
    "- datetime.time: Uma classe para trabalhar com horários (hora, minuto, segundo, microsegundo);\n",
    "\n",
    "- datetime.datetime: Uma classe que combina date e time, representando uma data e hora;\n",
    "\n",
    "- datetime.timedelta: Uma classe para trabalhar com diferenças de tempo, o que permite subtrair duas datas ou adicionar uma quantidade específica de dias, horas, etc., a uma data;\n",
    "\n",
    "- datetime.tzinfo: Base para classes que fornecem informações de fuso horário;\n",
    "\n",
    "- datetime.timezone: Uma subclasse de tzinfo que representa um deslocamento fixo do UTC.\n",
    "\n",
    "\n",
    "Exemplos de uso do módulo datetime:"
   ]
  },
  {
   "cell_type": "code",
   "execution_count": 251,
   "id": "99a40498",
   "metadata": {},
   "outputs": [],
   "source": [
    "from datetime import datetime, date, time, timedelta"
   ]
  },
  {
   "cell_type": "markdown",
   "id": "bfe0fb04",
   "metadata": {},
   "source": [
    "Pegando a data e hora atual:"
   ]
  },
  {
   "cell_type": "code",
   "execution_count": 252,
   "id": "381f0dbf",
   "metadata": {},
   "outputs": [
    {
     "name": "stdout",
     "output_type": "stream",
     "text": [
      "2023-12-07 23:12:24.113630\n"
     ]
    }
   ],
   "source": [
    "agora = datetime.now()\n",
    "print(agora)  # Ex: 2023-09-23 14:47:05.335456"
   ]
  },
  {
   "cell_type": "markdown",
   "id": "15c84b5b",
   "metadata": {},
   "source": [
    "Trabalhando apenas com datas:"
   ]
  },
  {
   "cell_type": "code",
   "execution_count": 253,
   "id": "c2a6c4de",
   "metadata": {},
   "outputs": [
    {
     "name": "stdout",
     "output_type": "stream",
     "text": [
      "2023-12-07\n"
     ]
    }
   ],
   "source": [
    "hoje = date.today()\n",
    "print(hoje)  # Ex: 2023-09-23"
   ]
  },
  {
   "cell_type": "markdown",
   "id": "75c577e7",
   "metadata": {},
   "source": [
    "Criando uma data específica:"
   ]
  },
  {
   "cell_type": "code",
   "execution_count": 254,
   "id": "d5919cd2",
   "metadata": {},
   "outputs": [],
   "source": [
    "data_especifica = date(2023, 9, 23)"
   ]
  },
  {
   "cell_type": "markdown",
   "id": "32395b6c",
   "metadata": {},
   "source": [
    "Criando um horário específico:"
   ]
  },
  {
   "cell_type": "code",
   "execution_count": 255,
   "id": "8632cd8e",
   "metadata": {},
   "outputs": [],
   "source": [
    "horario = time(14, 47, 5)"
   ]
  },
  {
   "cell_type": "markdown",
   "id": "36d1d8fd",
   "metadata": {},
   "source": [
    "Diferença entre datas (timedelta):"
   ]
  },
  {
   "cell_type": "code",
   "execution_count": 256,
   "id": "f5d802c4",
   "metadata": {},
   "outputs": [
    {
     "name": "stdout",
     "output_type": "stream",
     "text": [
      "75\n"
     ]
    }
   ],
   "source": [
    "diferenca = hoje - data_especifica\n",
    "print(diferenca.days)  "
   ]
  },
  {
   "cell_type": "markdown",
   "id": "824c84bb",
   "metadata": {},
   "source": [
    "Adicionando 5 dias à data atual:"
   ]
  },
  {
   "cell_type": "code",
   "execution_count": 257,
   "id": "2890b5fc",
   "metadata": {},
   "outputs": [
    {
     "name": "stdout",
     "output_type": "stream",
     "text": [
      "2023-12-12\n"
     ]
    }
   ],
   "source": [
    "daqui_a_cinco_dias = hoje + timedelta(days=5)\n",
    "print(daqui_a_cinco_dias)  "
   ]
  },
  {
   "cell_type": "markdown",
   "id": "9b42c0e4",
   "metadata": {},
   "source": [
    "## 2.9 Gerenciamento e Tratamento de Exceções em Python\n",
    "\n",
    "Na utilização do Python no contexto do geoprocessamento, a ocorrência de erros é comum. Entender a diferença entre erros de sintaxe e exceções, e saber como lidar com cada um, é fundamental. \n",
    "\n",
    "- Erros de Sintaxe:\n",
    "\n",
    "Erros de sintaxe, também conhecidos como erros de análise, ocorrem quando você escreve algo que o Python não reconhece como um código válido. Em outras palavras, você quebrou as \"regras gramaticais\" da linguagem. Exemplo:"
   ]
  },
  {
   "cell_type": "code",
   "execution_count": 258,
   "id": "36aa025d",
   "metadata": {},
   "outputs": [
    {
     "data": {
      "text/plain": [
       "\"if 5 > 2\\n    print('5 é maior que 2')\\n    \""
      ]
     },
     "execution_count": 258,
     "metadata": {},
     "output_type": "execute_result"
    }
   ],
   "source": [
    "# Este código irá gerar um erro de sintaxe\n",
    "\n",
    "'''if 5 > 2\n",
    "    print('5 é maior que 2')\n",
    "    '''"
   ]
  },
  {
   "cell_type": "markdown",
   "id": "0b24e3bf",
   "metadata": {},
   "source": [
    "Neste exemplo, falta o “:” após a condição do if, o que é um erro de sintaxe. Ao tentar executar esse código, o Python indicará a linha e a posição aproximada onde o erro foi detectado.\n",
    "\n",
    "\n",
    "- Exceções:\n",
    "\n",
    "Mesmo que seu código esteja sintaticamente correto, pode acontecer de ele tentar fazer algo inválido ou impossível durante a execução. Isso levanta uma \"exceção\". Se não tratadas, as exceções resultarão em um erro e a interrupção do programa. Exemplo:"
   ]
  },
  {
   "cell_type": "code",
   "execution_count": 259,
   "id": "36ccca8b",
   "metadata": {},
   "outputs": [
    {
     "data": {
      "text/plain": [
       "'print(5/0)'"
      ]
     },
     "execution_count": 259,
     "metadata": {},
     "output_type": "execute_result"
    }
   ],
   "source": [
    "'''print(5/0)'''"
   ]
  },
  {
   "cell_type": "markdown",
   "id": "0208c4fa",
   "metadata": {},
   "source": [
    "Este código não tem erros de sintaxe, mas tentar dividir por zero é um erro matemático, e o Python lançará uma exceção, especificamente ZeroDivisionError.\n",
    "\n",
    "\n",
    "### 2.9.1 Uso de blocos try e except para lidar com exceções\n",
    "\n",
    "Quando ocorrem erros durante a execução do programa, eles geralmente levantam \"exceções\". Se essas exceções não forem tratadas, o programa será interrompido. Para evitar isso e possibilitar a execução de ações específicas em resposta a determinadas exceções, Python fornece uma maneira de capturar e responder a elas usando os blocos try e except.\n",
    "\n",
    "*Estrutura Básica*\n",
    "\n",
    "A estrutura básica de tratamento de exceções em Python é a seguinte:\n",
    "\n",
    "```\n",
    "try:\n",
    "    # Bloco que pode gerar uma exceção\n",
    "except TipoDaExcecao:\n",
    "    # Bloco executado se a exceção em questão for detectada\n",
    "```\n",
    "\n",
    "Exemplos:\n",
    "\n",
    "Divisão por Zero:"
   ]
  },
  {
   "cell_type": "code",
   "execution_count": 260,
   "id": "ba8a4b08",
   "metadata": {},
   "outputs": [
    {
     "name": "stdout",
     "output_type": "stream",
     "text": [
      "Tentativa de divisão por zero!\n"
     ]
    }
   ],
   "source": [
    "try:\n",
    "    resultado = 10 / 0\n",
    "except ZeroDivisionError:\n",
    "    print('Tentativa de divisão por zero!')"
   ]
  },
  {
   "cell_type": "markdown",
   "id": "72b957f0",
   "metadata": {},
   "source": [
    "Tentativa de acesso a um índice inexistente em uma lista:"
   ]
  },
  {
   "cell_type": "code",
   "execution_count": 261,
   "id": "3999ca21",
   "metadata": {},
   "outputs": [
    {
     "name": "stdout",
     "output_type": "stream",
     "text": [
      "Índice não encontrado na lista!\n"
     ]
    }
   ],
   "source": [
    "lista = [1, 2, 3]\n",
    "try:\n",
    "    valor = lista[5]\n",
    "except IndexError:\n",
    "    print('Índice não encontrado na lista!')"
   ]
  },
  {
   "cell_type": "markdown",
   "id": "55533708",
   "metadata": {},
   "source": [
    "*Tratamento de Múltiplas Exceções*\n",
    "\n",
    "Um bloco try pode ter múltiplos blocos except para tratar diferentes tipos de exceções:"
   ]
  },
  {
   "cell_type": "code",
   "execution_count": 262,
   "id": "c2c498fc",
   "metadata": {},
   "outputs": [
    {
     "data": {
      "text/plain": [
       "\"\\ntry:\\n    # Código que pode disparar diferentes tipos de exceções\\nexcept (TypeError, ValueError):\\n    print('Um TypeError ou ValueError foi detectado!')\\nexcept ZeroDivisionError:\\n    print('Tentativa de divisão por zero!')\\n    \""
      ]
     },
     "execution_count": 262,
     "metadata": {},
     "output_type": "execute_result"
    }
   ],
   "source": [
    "'''\n",
    "try:\n",
    "    # Código que pode disparar diferentes tipos de exceções\n",
    "except (TypeError, ValueError):\n",
    "    print('Um TypeError ou ValueError foi detectado!')\n",
    "except ZeroDivisionError:\n",
    "    print('Tentativa de divisão por zero!')\n",
    "    '''"
   ]
  },
  {
   "cell_type": "markdown",
   "id": "41bd0170",
   "metadata": {},
   "source": [
    "*Capturando Todas as Exceções*\n",
    "\n",
    "Para capturar todas as exceções que não foram capturadas por except específicos, você pode usar um except sem especificar o tipo da exceção:"
   ]
  },
  {
   "cell_type": "code",
   "execution_count": 263,
   "id": "8b100e41",
   "metadata": {},
   "outputs": [
    {
     "data": {
      "text/plain": [
       "\"\\ntry:\\n    # Algum trecho de código\\nexcept:\\n    print('Uma exceção foi detectada!')\\n    \""
      ]
     },
     "execution_count": 263,
     "metadata": {},
     "output_type": "execute_result"
    }
   ],
   "source": [
    "'''\n",
    "try:\n",
    "    # Algum trecho de código\n",
    "except:\n",
    "    print('Uma exceção foi detectada!')\n",
    "    '''"
   ]
  },
  {
   "cell_type": "markdown",
   "id": "755309a6",
   "metadata": {},
   "source": [
    "No entanto, usar este tipo de captura genérica pode não ser recomendado em muitos casos, pois pode mascarar erros inesperados e tornar a depuração mais difícil.\n",
    "\n",
    "\n",
    "*Usando a Exceção Capturada*\n",
    "\n",
    "Você pode usar a exceção capturada para obter mais informações sobre o erro:"
   ]
  },
  {
   "cell_type": "code",
   "execution_count": 264,
   "id": "ecd2adaa",
   "metadata": {},
   "outputs": [
    {
     "name": "stdout",
     "output_type": "stream",
     "text": [
      "Erro detectado: division by zero\n"
     ]
    }
   ],
   "source": [
    "try:\n",
    "    resultado = 10 / 0\n",
    "except ZeroDivisionError as e:\n",
    "    print(f'Erro detectado: {e}')"
   ]
  },
  {
   "cell_type": "markdown",
   "id": "4a1e376b",
   "metadata": {},
   "source": [
    "*Blocos else e finally*\n",
    "\n",
    "else: O bloco de código dentro de else é executado se nenhum erro ocorrer dentro do bloco try."
   ]
  },
  {
   "cell_type": "code",
   "execution_count": 265,
   "id": "cdab8aec",
   "metadata": {},
   "outputs": [
    {
     "name": "stdout",
     "output_type": "stream",
     "text": [
      "Tudo correu como esperado!\n",
      "Nenhum erro foi identificado no bloco try!\n"
     ]
    }
   ],
   "source": [
    "try:\n",
    "    print('Tudo correu como esperado!')\n",
    "except:\n",
    "    print('Este trecho não será mostrado!')\n",
    "else:\n",
    "    print('Nenhum erro foi identificado no bloco try!')"
   ]
  },
  {
   "cell_type": "markdown",
   "id": "e7b5d056",
   "metadata": {},
   "source": [
    "finally: Este bloco é executado não importa o que aconteça, e é geralmente usado para liberar recursos."
   ]
  },
  {
   "cell_type": "code",
   "execution_count": 266,
   "id": "e79f6d51",
   "metadata": {},
   "outputs": [
    {
     "data": {
      "text/plain": [
       "\"\\ntry:\\n    # Algum trecho de código\\nexcept:\\n    print('Esta mensagem será exibida se ocorrer uma exceção.')\\nfinally:\\n    print('Esta mensagem sempre será exibida, ocorra ou não uma exceção.')\\n    \""
      ]
     },
     "execution_count": 266,
     "metadata": {},
     "output_type": "execute_result"
    }
   ],
   "source": [
    "'''\n",
    "try:\n",
    "    # Algum trecho de código\n",
    "except:\n",
    "    print('Esta mensagem será exibida se ocorrer uma exceção.')\n",
    "finally:\n",
    "    print('Esta mensagem sempre será exibida, ocorra ou não uma exceção.')\n",
    "    '''"
   ]
  },
  {
   "cell_type": "markdown",
   "id": "7743eb72",
   "metadata": {},
   "source": [
    "O uso adequado dos blocos try e except permite que você crie programas mais robustos e amigáveis ao usuário, fornecendo mensagens úteis ou tomando medidas corretivas. Porém, é importante usá-los de forma ponderada para não mascarar problemas no código que devem ser corrigidos.\n",
    "\n",
    "\n",
    "### 2.9.2 Levantando exceções com raise\n",
    "\n",
    "Em Python, o comando raise é empregado para disparar intencionalmente uma exceção. Tal recurso é especialmente relevante quando desejamos sinalizar uma circunstância que não é tolerável ou quando precisamos relançar uma exceção após executar determinadas operações.\n",
    "\n",
    "Veja a seguir algumas formas de utilizar o comando raise:\n",
    "\n",
    "- Disparando uma exceção básica:\n",
    "\n",
    "Se em determinada situação do seu programa você identificar uma condição que seja inadmissível, é possível utilizar uma exceção para alertar sobre este problema."
   ]
  },
  {
   "cell_type": "code",
   "execution_count": 267,
   "id": "fa426d71",
   "metadata": {},
   "outputs": [
    {
     "data": {
      "text/plain": [
       "\"\\nidade = -3\\n\\nif idade < 0:\\n    raise ValueError('A idade inserida é inválida!')\\n    \""
      ]
     },
     "execution_count": 267,
     "metadata": {},
     "output_type": "execute_result"
    }
   ],
   "source": [
    "'''\n",
    "idade = -3\n",
    "\n",
    "if idade < 0:\n",
    "    raise ValueError('A idade inserida é inválida!')\n",
    "    '''"
   ]
  },
  {
   "cell_type": "markdown",
   "id": "8f08933d",
   "metadata": {},
   "source": [
    "Neste exemplo, caso idade receba um valor negativo, o sistema dispara uma exceção ValueError com a mensagem informando sobre a invalidade da idade.\n",
    "\n",
    "- Disparando uma exceção com dados extras:\n",
    "\n",
    "Em certos contextos, ao disparar uma exceção, pode ser útil agregar informações adicionais, fornecendo maior clareza a quem estiver interpretando ou corrigindo o erro."
   ]
  },
  {
   "cell_type": "code",
   "execution_count": 268,
   "id": "d2373a68",
   "metadata": {},
   "outputs": [],
   "source": [
    "def divisao(a, b):\n",
    "    if b == 0:\n",
    "        raise ZeroDivisionError(f'Erro ao tentar dividir {a} por zero!')\n",
    "    return a / b"
   ]
  },
  {
   "cell_type": "markdown",
   "id": "6625660e",
   "metadata": {},
   "source": [
    "- Relançando uma exceção capturada:\n",
    "\n",
    "Há momentos em que pode ser necessário capturar uma exceção, processar algo específico e, posteriormente, relançar essa mesma exceção. Isso pode ser realizado usando somente o comando raise dentro de um bloco except."
   ]
  },
  {
   "cell_type": "code",
   "execution_count": 269,
   "id": "eab4610c",
   "metadata": {},
   "outputs": [
    {
     "data": {
      "text/plain": [
       "\"\\ntry:\\n    resultado = 10 / 0\\nexcept ZeroDivisionError:\\n    print('Ocorreu uma tentativa de divisão por zero!')\\n    raise\\n    \""
      ]
     },
     "execution_count": 269,
     "metadata": {},
     "output_type": "execute_result"
    }
   ],
   "source": [
    "'''\n",
    "try:\n",
    "    resultado = 10 / 0\n",
    "except ZeroDivisionError:\n",
    "    print('Ocorreu uma tentativa de divisão por zero!')\n",
    "    raise\n",
    "    '''"
   ]
  },
  {
   "cell_type": "markdown",
   "id": "21ea89f2",
   "metadata": {},
   "source": [
    "Aqui, quando tentamos dividir por zero, a exceção ZeroDivisionError é identificada e tratada. Uma mensagem é exibida e, logo após, a exceção é relançada, pausando o programa.\n",
    "\n",
    "- Disparando exceções personalizadas:\n",
    "\n",
    "É possível criar exceções personalizadas, úteis para sinalizar erros específicos de determinada aplicação ou contexto."
   ]
  },
  {
   "cell_type": "code",
   "execution_count": 270,
   "id": "c180ae03",
   "metadata": {},
   "outputs": [],
   "source": [
    "class ExcecaoEspecifica(Exception):\n",
    "    pass\n",
    "\n",
    "def funcao_exemplo(x):\n",
    "    if x < 0:\n",
    "        raise ExcecaoEspecifica('O valor inserido é proibido!')"
   ]
  },
  {
   "cell_type": "markdown",
   "id": "7b259eb3",
   "metadata": {},
   "source": [
    "Neste exemplo, criamos a exceção customizada ExcecaoEspecifica e a disparamos dentro da função funcao_exemplo quando identificamos um valor negativo.\n",
    "\n",
    "\n",
    "## 2.10 A abordagem Pythonic para codificação\n",
    "\n",
    "Pythonic é um termo usado na comunidade Python para descrever um estilo de escrita de código que está em harmonia com a filosofia e as peculiaridades da linguagem Python. Escrever código de uma maneira Pythonic significa que você está aproveitando ao máximo os recursos e construções da linguagem, produzindo código que é legível, conciso e eficiente.\n",
    "\n",
    "Importância do modo Pythonic:\n",
    "\n",
    "- Legibilidade: Uma das principais filosofias por trás do Python, conforme expresso em \"The Zen of Python\" (PEP 20), é que \"A legibilidade conta\". O código Pythonic é mais fácil de ler e compreender;\n",
    "\n",
    "- Eficiência: Ao seguir as práticas Pythonic, muitas vezes você utilizará construções da linguagem otimizadas, resultando em código mais eficiente;\n",
    "\n",
    "- Manutenção: Código escrito de forma Pythonic é geralmente mais fácil de manter e estender;\n",
    "\n",
    "- Comunidade: Aderir a um estilo Pythonic torna mais fácil para outros desenvolvedores Python entenderem e contribuírem para o seu código. Isso é particularmente importante em projetos open-source.\n",
    "\n",
    "\n",
    "Características do modo \"Pythonic\":\n",
    "\n",
    "- Expressividade: Utilizar construções da linguagem que permitem expressar ideias complexas de maneira concisa;\n",
    "\n",
    "- Clareza: O código deve ser escrito de forma a ser autoexplicativo, valorizando a clareza sobre a complexidade;\n",
    "\n",
    "- Utilização de idioms: Usar padrões e estruturas de código que são naturalmente associados ao Python;\n",
    "\n",
    "- Adesão a PEP 8: Seguir a PEP 8, que é o guia de estilo para a codificação Python, ajudará na consistência e legibilidade do código.\n",
    "\n",
    "Exemplos de código Pythonic vs. não-Pythonic:\n",
    "\n",
    "a) Iterar sobre uma sequência:\n",
    "\n",
    "Não Pythonic"
   ]
  },
  {
   "cell_type": "code",
   "execution_count": 271,
   "id": "4209e321",
   "metadata": {},
   "outputs": [
    {
     "name": "stdout",
     "output_type": "stream",
     "text": [
      "1\n",
      "2\n",
      "3\n"
     ]
    }
   ],
   "source": [
    "for i in range(len(lista)):\n",
    "    print(lista[i])"
   ]
  },
  {
   "cell_type": "markdown",
   "id": "482221d0",
   "metadata": {},
   "source": [
    "Pythonic"
   ]
  },
  {
   "cell_type": "code",
   "execution_count": 272,
   "id": "b3d9794d",
   "metadata": {},
   "outputs": [
    {
     "name": "stdout",
     "output_type": "stream",
     "text": [
      "1\n",
      "2\n",
      "3\n"
     ]
    }
   ],
   "source": [
    "for item in lista:\n",
    "    print(item)"
   ]
  },
  {
   "cell_type": "markdown",
   "id": "b2106409",
   "metadata": {},
   "source": [
    "b) Verificar se uma lista está vazia:\n",
    "\n",
    "Não Pythonic"
   ]
  },
  {
   "cell_type": "code",
   "execution_count": 273,
   "id": "38548544",
   "metadata": {},
   "outputs": [],
   "source": [
    "if len(lista) == 0:\n",
    "    ..."
   ]
  },
  {
   "cell_type": "markdown",
   "id": "82bdbd13",
   "metadata": {},
   "source": [
    "Pythonic"
   ]
  },
  {
   "cell_type": "code",
   "execution_count": 274,
   "id": "990db680",
   "metadata": {},
   "outputs": [],
   "source": [
    "if not lista:\n",
    "    ..."
   ]
  },
  {
   "cell_type": "markdown",
   "id": "7b520f70",
   "metadata": {},
   "source": [
    "c) List Comprehensions:\n",
    "\n",
    "Não Pythonic"
   ]
  },
  {
   "cell_type": "code",
   "execution_count": 275,
   "id": "72e8e2c3",
   "metadata": {},
   "outputs": [],
   "source": [
    "result = []\n",
    "for i in range(10):\n",
    "    result.append(i * 2)"
   ]
  },
  {
   "cell_type": "markdown",
   "id": "b0722d66",
   "metadata": {},
   "source": [
    "Pythonic"
   ]
  },
  {
   "cell_type": "code",
   "execution_count": 276,
   "id": "6115759b",
   "metadata": {},
   "outputs": [],
   "source": [
    "result = [i * 2 for i in range(10)]"
   ]
  },
  {
   "cell_type": "markdown",
   "id": "7743127d",
   "metadata": {},
   "source": [
    "d) Acessar elementos de um dicionário com um valor padrão\n",
    "\n",
    "Não Pythonic"
   ]
  },
  {
   "cell_type": "code",
   "execution_count": 277,
   "id": "2d987a3c",
   "metadata": {},
   "outputs": [
    {
     "data": {
      "text/plain": [
       "\"\\nif chave in dicionario:\\n    valor = dicionario[chave]\\nelse:\\n    valor = 'padrao'\\n    \""
      ]
     },
     "execution_count": 277,
     "metadata": {},
     "output_type": "execute_result"
    }
   ],
   "source": [
    "'''\n",
    "if chave in dicionario:\n",
    "    valor = dicionario[chave]\n",
    "else:\n",
    "    valor = 'padrao'\n",
    "    '''"
   ]
  },
  {
   "cell_type": "markdown",
   "id": "32cbd92e",
   "metadata": {},
   "source": [
    "Pythonic"
   ]
  },
  {
   "cell_type": "code",
   "execution_count": 278,
   "id": "a168afd3",
   "metadata": {},
   "outputs": [
    {
     "data": {
      "text/plain": [
       "\"\\nvalor = dicionario.get(chave, 'padrao')\\n\""
      ]
     },
     "execution_count": 278,
     "metadata": {},
     "output_type": "execute_result"
    }
   ],
   "source": [
    "'''\n",
    "valor = dicionario.get(chave, 'padrao')\n",
    "'''"
   ]
  },
  {
   "cell_type": "markdown",
   "id": "cc158892",
   "metadata": {},
   "source": [
    "Em síntese, escrever código de maneira Pythonic é abraçar a filosofia do Python e seus ideais de clareza, simplicidade e elegância. Isso não apenas torna o código mais agradável de ler e escrever, mas também promove boas práticas que são valorizadas em toda a comunidade Python."
   ]
  }
 ],
 "metadata": {
  "jupytext": {
   "formats": "md:myst",
   "text_representation": {
    "extension": ".md",
    "format_name": "myst",
    "format_version": 0.13,
    "jupytext_version": "1.11.5"
   }
  },
  "kernelspec": {
   "display_name": "Python 3",
   "language": "python",
   "name": "python3"
  },
  "language_info": {
   "codemirror_mode": {
    "name": "ipython",
    "version": 3
   },
   "file_extension": ".py",
   "mimetype": "text/x-python",
   "name": "python",
   "nbconvert_exporter": "python",
   "pygments_lexer": "ipython3",
   "version": "3.8.18"
  },
  "source_map": [
   13,
   29,
   35,
   86,
   94,
   101,
   111,
   116,
   120,
   127,
   129,
   136,
   142,
   157,
   159,
   162,
   164,
   167,
   169,
   172,
   174,
   178,
   180,
   183,
   185,
   187,
   189,
   191,
   193,
   199,
   203,
   205,
   213,
   215,
   218,
   220,
   223,
   225,
   228,
   230,
   234,
   236,
   239,
   241,
   249,
   252,
   254,
   256,
   258,
   260,
   311,
   315,
   319,
   321,
   324,
   329,
   334,
   339,
   342,
   346,
   349,
   353,
   356,
   377,
   381,
   384,
   386,
   389,
   394,
   399,
   402,
   406,
   411,
   413,
   418,
   421,
   427,
   431,
   437,
   442,
   454,
   459,
   464,
   468,
   470,
   474,
   480,
   484,
   486,
   507,
   510,
   513,
   515,
   518,
   523,
   528,
   531,
   534,
   538,
   542,
   547,
   573,
   576,
   579,
   583,
   586,
   589,
   592,
   596,
   599,
   603,
   625,
   630,
   634,
   638,
   642,
   644,
   660,
   665,
   668,
   672,
   676,
   678,
   682,
   686,
   692,
   694,
   701,
   704,
   711,
   715,
   730,
   734,
   799,
   804,
   808,
   812,
   814,
   860,
   865,
   870,
   875,
   880,
   883,
   893,
   899,
   903,
   909,
   913,
   920,
   927,
   930,
   936,
   940,
   946,
   952,
   958,
   962,
   969,
   971,
   976,
   978,
   982,
   984,
   990,
   992,
   995,
   998,
   1001,
   1003,
   1006,
   1009,
   1023,
   1027,
   1032,
   1035,
   1038,
   1045,
   1051,
   1056,
   1060,
   1063,
   1068,
   1071,
   1075,
   1085,
   1089,
   1092,
   1095,
   1100,
   1104,
   1109,
   1114,
   1119,
   1122,
   1127,
   1130,
   1173,
   1175,
   1178,
   1180,
   1183,
   1185,
   1188,
   1190,
   1193,
   1195,
   1203,
   1207,
   1212,
   1217,
   1222,
   1227,
   1232,
   1237,
   1240,
   1249,
   1252,
   1255,
   1258,
   1261,
   1264,
   1267,
   1270,
   1350,
   1356,
   1362,
   1369,
   1375,
   1381,
   1387,
   1389,
   1417,
   1427,
   1435,
   1438,
   1448,
   1456,
   1462,
   1469,
   1477,
   1479,
   1487,
   1491,
   1493,
   1505,
   1510,
   1515,
   1518,
   1525,
   1532,
   1537,
   1540,
   1546,
   1550,
   1556,
   1559,
   1565,
   1569,
   1578,
   1585,
   1591,
   1593,
   1599,
   1602,
   1608,
   1611,
   1627,
   1634,
   1639,
   1643,
   1646,
   1656,
   1659,
   1663,
   1666,
   1677,
   1680,
   1686,
   1688,
   1694,
   1696,
   1719,
   1725,
   1731,
   1735,
   1739,
   1747,
   1754,
   1759,
   1779,
   1782,
   1785,
   1788,
   1791,
   1794,
   1797,
   1800,
   1803,
   1806,
   1809,
   1812,
   1822,
   1828,
   1833,
   1837,
   1841,
   1846,
   1850,
   1854,
   1859,
   1863,
   1867,
   1872,
   1876,
   1882,
   1885,
   1889,
   1891,
   1895,
   1898,
   1933,
   1936,
   1939,
   1942,
   1945,
   1948,
   1951,
   1955,
   1958,
   1961,
   1964,
   1968,
   1971,
   1975,
   1978,
   1982,
   1998,
   2002,
   2007,
   2011,
   2014,
   2023,
   2027,
   2032,
   2039,
   2044,
   2049,
   2064,
   2068,
   2075,
   2081,
   2086,
   2100,
   2114,
   2125,
   2141,
   2151,
   2166,
   2197,
   2201,
   2212,
   2218,
   2238,
   2241,
   2247,
   2250,
   2256,
   2259,
   2265,
   2269,
   2289,
   2292,
   2295,
   2298,
   2304,
   2306,
   2323,
   2328,
   2332,
   2334,
   2338,
   2340,
   2358,
   2362,
   2366,
   2372,
   2377,
   2384,
   2399,
   2407,
   2417,
   2421,
   2427,
   2441,
   2448,
   2467,
   2472,
   2478,
   2481,
   2484,
   2486,
   2492,
   2497,
   2506,
   2509,
   2517,
   2524,
   2529,
   2532,
   2538,
   2542,
   2547,
   2552,
   2555,
   2564,
   2568,
   2580,
   2583,
   2608,
   2610,
   2614,
   2617,
   2630,
   2638,
   2644,
   2648,
   2654,
   2658,
   2679,
   2682,
   2688,
   2691,
   2697,
   2700,
   2773,
   2775,
   2778,
   2781,
   2784,
   2787,
   2790,
   2792,
   2795,
   2797,
   2800,
   2803,
   2806,
   2809,
   2819,
   2825,
   2834,
   2836,
   2859,
   2864,
   2868,
   2874,
   2880,
   2889,
   2895,
   2902,
   2911,
   2916,
   2922,
   2929,
   2934,
   2943,
   2958,
   2965,
   2973,
   2978,
   2984,
   2992,
   3000,
   3007,
   3042,
   3045,
   3048,
   3051,
   3057,
   3060,
   3063,
   3066,
   3072,
   3076,
   3079,
   3081,
   3087,
   3094,
   3097,
   3101
  ]
 },
 "nbformat": 4,
 "nbformat_minor": 5
}